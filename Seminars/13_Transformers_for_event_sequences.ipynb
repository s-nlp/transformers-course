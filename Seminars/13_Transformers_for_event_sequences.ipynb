{
  "cells": [
    {
      "cell_type": "markdown",
      "metadata": {
        "id": "aqXGtUUivg1z"
      },
      "source": [
        "# Transformer Hawkes for Event Sequences"
      ]
    },
    {
      "cell_type": "markdown",
      "metadata": {
        "id": "BxEFZGhxvkBN"
      },
      "source": [
        "## Plan"
      ]
    },
    {
      "cell_type": "markdown",
      "metadata": {
        "id": "2zfVr6c4voK_"
      },
      "source": [
        "- Theoretical notes\n",
        "- Transformer Hawkes toy example\n",
        "- Transformer Hawkes on the real world data"
      ]
    },
    {
      "cell_type": "markdown",
      "metadata": {
        "id": "esAZ-ye61eri"
      },
      "source": [
        "## Event sequences vs Classic Time Series in Neural Nets"
      ]
    },
    {
      "cell_type": "markdown",
      "metadata": {
        "id": "R7Nm-F5Q1m6L"
      },
      "source": [
        "### Classic Time Series"
      ]
    },
    {
      "cell_type": "markdown",
      "metadata": {
        "id": "leGZUEaK1tTK"
      },
      "source": [
        "Data is synchronous, equally lagged\n",
        "\n",
        "Data can be represented as a sequence of values $\\{\\mathbf{x}_i\\}_{i=1}^N$ with the time lag $\\Delta t$."
      ]
    },
    {
      "cell_type": "markdown",
      "metadata": {
        "id": "XYfrNjYw1_f6"
      },
      "source": [
        "#### Question - What types of Neural Nets do we have for classic time series?\n",
        "\n"
      ]
    },
    {
      "cell_type": "markdown",
      "metadata": {
        "id": "lQybWXsI2JpH"
      },
      "source": [
        "- Recurrent Neural Networks (RNN, LSTM, GRU)\n",
        "    \n",
        "    Pros:\n",
        "    \n",
        "    - Can catch temporal dependencies\n",
        "    \n",
        "    Cons:\n",
        "    \n",
        "    - Struggle to catch long term dependencies\n",
        "    - Struggle from gradient vanishing and explosion\n",
        "    - Cannot be paralleled\n",
        "\n",
        "- CNNs for time series\n",
        "    \n",
        "    Pros:\n",
        "    \n",
        "    - Can be paralleled\n",
        "    - Better captures long term dependencies\n",
        "    \n",
        "    Cons:\n",
        "    \n",
        "    - Enforce unnecessary dependencies\n",
        "\n",
        "- Transformers\n",
        "    \n",
        "    Pros:\n",
        "    \n",
        "    - Can be paralled\n",
        "    - Learn internal dependencies with attention mechanism"
      ]
    },
    {
      "cell_type": "markdown",
      "metadata": {
        "id": "0LSbREyx2ZoA"
      },
      "source": [
        "### Event Sequences"
      ]
    },
    {
      "cell_type": "markdown",
      "metadata": {
        "id": "0tBBLqhM2hgD"
      },
      "source": [
        "Data is asynchronous, unequally lagged\n",
        "\n",
        "Data can be represented as a sequence of pairs $\\{(t_i,c_i)\\}_{i=1}^N$, one cannot provide the time lag and should take arrival times into account.\n",
        "\n",
        "Neural Nets:\n",
        "\n",
        "Should be similar, however, how can one take unequal lags into account?"
      ]
    },
    {
      "cell_type": "markdown",
      "metadata": {
        "id": "qIP7e6S14RxG"
      },
      "source": [
        "## Training procedure"
      ]
    },
    {
      "cell_type": "markdown",
      "metadata": {
        "id": "im6muxlC4URd"
      },
      "source": [
        "Let's assume that we sucessfully constructed some model $model(\\mathbf{s}) \\to \\lambda(t|\\mathcal{H})$. How can we train it?\n",
        "\n",
        "Negative log-likelihood:\n",
        "$$\n",
        "\\mathcal{L} = -\\sum_{n=1}^N\\left(\\sum_{i=1}^{L_n}\\log \\lambda_{i}^n - \\int_{0}^{T_n}\\lambda(t|\\mathcal{H}_n)\\right)\n",
        "$$\n",
        "\n",
        "Our goal - minimize the loss.\n",
        "\n",
        "What should we do with the integral?\n",
        "- Monte Carlo integration\n",
        "  $$\n",
        "  \\hat{\\Lambda}_{MC} = \\sum_{j=2}^L(t_j - t_{j-1})\\left(\\frac{1}{N}\\sum_{i=1}^N \\lambda(u_i)\\right), ~ u_i \\sim Unif(t_{j-1},t_j)\n",
        "  $$\n",
        "- Trapezoid integraion\n",
        "  $$\n",
        "  \\hat{\\Lambda}_{TR} = \\sum_{j=2}^L\\frac{t_j - t_{j-1}}{2}\\left(\\lambda(t_j|\\mathcal{H}_{t_j}) + \\lambda(t_{j-1}|\\mathcal{H}_{t_{j-1}})\\right)\n",
        "  $$\n",
        "\n",
        "Monte carlo integration will be more precise but will be more time consuming due to additional sampling.\n",
        "\n",
        "Now we have the objective function.\n",
        "\n",
        "We should design a model."
      ]
    },
    {
      "cell_type": "markdown",
      "metadata": {
        "id": "0o4bkX7S8vZL"
      },
      "source": [
        "## Transformer Hawkes Model"
      ]
    },
    {
      "cell_type": "markdown",
      "metadata": {
        "id": "o2ao8JF-CTlr"
      },
      "source": [
        "https://arxiv.org/pdf/2002.09291.pdf\n",
        "\n",
        "- Transformer are the state-of-the-art for seq2seq problems.\n",
        "- Transformers can efficiently catch long term dependencies\n",
        "- Transformers can be paralleled\n",
        "- They are not designed for temporal point processes...\n",
        "\n",
        "One can use embedding for event types and it will work with transformers. But what should we do with the arrival times?"
      ]
    },
    {
      "cell_type": "markdown",
      "metadata": {
        "id": "0T0VT6TmCWV1"
      },
      "source": [
        "**Solution**\n",
        "\n",
        "Temporal encoding $(i\\in\\{1,\\dots,M\\})$\n",
        "\n",
        "$$\n",
        "[\\mathbf{z}(t_j)]_i = \\begin{cases}cos(t_j/10000^{\\frac{i-1}{M}}), ~ \\text{if} ~ i~\\text{is odd}\\\\sin(t_j/10000^{i/M}), ~ \\text{if} ~ i~\\text{is even}\\end{cases}\n",
        "$$\n",
        "\n",
        "Event encoding\n",
        "\n",
        "$$\n",
        "\\mathbf{e}_j = \\mathbf{U}\\mathbf{c}_j\n",
        "$$\n",
        "\n",
        "$\\mathbf{c}_j$ is an event one-hot encoding, $\\mathbf{U}\\in\\mathbb{R}^{M\\times C}$. $\\mathbf{C} = [\\mathbf{c}_1,\\dots,\\mathbf{c}_L]\\in\\mathbb{R}^{K\\times L}$\n",
        "\n",
        "Transformer input will be as follows:\n",
        "\n",
        "$$\n",
        "\\mathbf{X} = (\\mathbf{U}\\mathbf{C} + \\mathbf{Z})^{\\top}\n",
        "$$\n"
      ]
    },
    {
      "cell_type": "markdown",
      "metadata": {
        "id": "I102wJQICZxg"
      },
      "source": [
        "**Architecture**\n",
        "\n",
        "![thawkes.png](data:image/png;base64,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)"
      ]
    },
    {
      "cell_type": "markdown",
      "metadata": {
        "id": "ktw4yCSLCieB"
      },
      "source": [
        "**Transformer Reminder**\n",
        "    \n",
        "Attention Score:\n",
        "    \n",
        "$$\n",
        "    \\mathbf{S} = \\mathrm{Softmax}\\left(\\frac{\\mathbf{Q}\\mathbf{K}^{\\top}}{\\sqrt{M_K}}\\right)\\mathbf{V}\n",
        "$$\n",
        "    \n",
        "$$\n",
        "    \\mathbf{Q} = \\mathbf{X}\\mathbf{W}^Q,~\\mathbf{K} =\\mathbf{X}\\mathbf{W}^K,~\\mathbf{V}=\\mathbf{X}\\mathbf{W}^V\n",
        "$$\n",
        "    \n",
        "$$\n",
        "    \\mathbf{W}^Q,\\mathbf{W}^K\\in\\mathbb{R}^{M\\times M_{K}},~\\mathbf{W}^V\\in \\mathbb{R}^{M\\times M_V}\n",
        "$$\n",
        "    \n",
        "Attention Scores for Multihead Attention: $\\mathbf{S}_1,\\dots,\\mathbf{S}_H$.\n",
        "    \n",
        "Final attention output:\n",
        "    \n",
        "$$\n",
        "    \\mathbf{S} = [\\mathbf{S}_1,\\dots,\\mathbf{S}_H]\\mathbf{W}^O, ~ \\mathbf{W}^O\\in\\mathbb{R}^{HM_V\\times M}\n",
        "$$\n",
        "    \n",
        "Attention is followed by the position-wise feed-forward neural network that consists of two linear layers. The resulting matrix is $\\mathbf{H}\\in\\mathbb{R}^{L\\times M}$.\n",
        "    \n",
        "The authors avoid peeking in the future by using masked attention."
      ]
    },
    {
      "cell_type": "markdown",
      "metadata": {
        "id": "1hhaJM19CmuW"
      },
      "source": [
        "Now, when we successfully introduced transformer model that can process event sequences, how can we predict the intensity?\n",
        "\n",
        "In the paper authors proposed the following solution:\n",
        "\n",
        "$$\n",
        "\\lambda_k(t|\\mathcal{H}_t) = f_k\\left(\\alpha_k\\frac{t-t_j}{t_j} + \\mathbf{w}_k^{\\top}\\mathbf{h}(t_j) + b_k\\right),~t\\in[t_j,t_{j+1})\\\\f_k(u) = s_k\\log(1+\\exp(u/s_k))\n",
        "$$\n",
        "\n",
        "Terms:\n",
        "\n",
        "- $\\alpha_k\\frac{t-t_j}{t_j}$ - current influence interpolation between observed timestamps $t_j$ and $t_{j+1}$\n",
        "- $\\mathbf{w}_k^{\\top}\\mathbf{h}(t_j)$ - the history term\n",
        "- $b_k$ - the base intensity"
      ]
    },
    {
      "cell_type": "markdown",
      "metadata": {
        "id": "r_k8pK1iCrtS"
      },
      "source": [
        "Given this intensity once can find the expected arriving time and the event type as follows:\n",
        "\n",
        "$$\n",
        "p(t|\\mathcal{H}_t) = \\lambda(t|\\mathcal{H}_t)\\exp\\left(-\\int_{t_j}^t\\lambda(\\tau|\\mathcal{H}_{\\tau})d\\tau\\right)\\\\\\hat{t}_{j+1} = \\int_{t_j}^{+\\infty}tp(t|\\mathcal{H}_t)dt\\\\ \\hat{c}_{j+1} = \\arg\\max_c \\frac{\\lambda_c(t_{j+1}|\\mathcal{H}_{j+1})}{\\lambda(t_{j+1}|\\mathcal{H}_{j+1})}\n",
        "$$\n",
        "\n",
        "However, it is very tricky to compute the expectation of the return time. Thus, instead of computing this integral, authors propose to add additional linear layer and predict the return time directly."
      ]
    },
    {
      "cell_type": "markdown",
      "metadata": {
        "id": "5NXDPANdCvkf"
      },
      "source": [
        "## Transformer Hawkes Toy Example"
      ]
    },
    {
      "cell_type": "markdown",
      "metadata": {
        "id": "lbxM3ZD-TNKF"
      },
      "source": [
        "We will use the following code source: https://github.com/SimiaoZuo/Transformer-Hawkes-Process"
      ]
    },
    {
      "cell_type": "markdown",
      "metadata": {
        "id": "rTM-rkYdjJqW"
      },
      "source": [
        "### Dataset Generation"
      ]
    },
    {
      "cell_type": "markdown",
      "metadata": {
        "id": "K9Tw3-ZrjNCl"
      },
      "source": [
        "Let's generate a dataset with the tick library with only one event type."
      ]
    },
    {
      "cell_type": "code",
      "execution_count": null,
      "metadata": {
        "colab": {
          "base_uri": "https://localhost:8080/",
          "height": 1000
        },
        "id": "vbIACfPOvnkU",
        "outputId": "2cdc87d4-0c3a-4201-fc6f-9f35044990ad"
      },
      "outputs": [
        {
          "name": "stdout",
          "output_type": "stream",
          "text": [
            "Looking in indexes: https://pypi.org/simple, https://us-python.pkg.dev/colab-wheels/public/simple/\n",
            "Collecting tick\n",
            "  Downloading tick-0.7.0.1-cp37-cp37m-manylinux2014_x86_64.whl (10.8 MB)\n",
            "\u001b[K     |████████████████████████████████| 10.8 MB 28.6 MB/s \n",
            "\u001b[?25hRequirement already satisfied: sphinx in /usr/local/lib/python3.7/dist-packages (from tick) (1.8.6)\n",
            "Collecting numpydoc\n",
            "  Downloading numpydoc-1.4.0-py3-none-any.whl (51 kB)\n",
            "\u001b[K     |████████████████████████████████| 51 kB 869 kB/s \n",
            "\u001b[?25hRequirement already satisfied: dill in /usr/local/lib/python3.7/dist-packages (from tick) (0.3.5.1)\n",
            "Requirement already satisfied: pandas in /usr/local/lib/python3.7/dist-packages (from tick) (1.3.5)\n",
            "Requirement already satisfied: numpy in /usr/local/lib/python3.7/dist-packages (from tick) (1.21.6)\n",
            "Requirement already satisfied: scipy in /usr/local/lib/python3.7/dist-packages (from tick) (1.7.3)\n",
            "Requirement already satisfied: scikit-learn in /usr/local/lib/python3.7/dist-packages (from tick) (1.0.2)\n",
            "Requirement already satisfied: matplotlib in /usr/local/lib/python3.7/dist-packages (from tick) (3.2.2)\n",
            "Requirement already satisfied: pyparsing!=2.0.4,!=2.1.2,!=2.1.6,>=2.0.1 in /usr/local/lib/python3.7/dist-packages (from matplotlib->tick) (3.0.9)\n",
            "Requirement already satisfied: python-dateutil>=2.1 in /usr/local/lib/python3.7/dist-packages (from matplotlib->tick) (2.8.2)\n",
            "Requirement already satisfied: cycler>=0.10 in /usr/local/lib/python3.7/dist-packages (from matplotlib->tick) (0.11.0)\n",
            "Requirement already satisfied: kiwisolver>=1.0.1 in /usr/local/lib/python3.7/dist-packages (from matplotlib->tick) (1.4.3)\n",
            "Requirement already satisfied: typing-extensions in /usr/local/lib/python3.7/dist-packages (from kiwisolver>=1.0.1->matplotlib->tick) (4.1.1)\n",
            "Requirement already satisfied: six>=1.5 in /usr/local/lib/python3.7/dist-packages (from python-dateutil>=2.1->matplotlib->tick) (1.15.0)\n",
            "Requirement already satisfied: Jinja2>=2.10 in /usr/local/lib/python3.7/dist-packages (from numpydoc->tick) (2.11.3)\n",
            "Collecting sphinx\n",
            "  Downloading Sphinx-5.0.2-py3-none-any.whl (3.1 MB)\n",
            "\u001b[K     |████████████████████████████████| 3.1 MB 54.4 MB/s \n",
            "\u001b[?25hRequirement already satisfied: MarkupSafe>=0.23 in /usr/local/lib/python3.7/dist-packages (from Jinja2>=2.10->numpydoc->tick) (2.0.1)\n",
            "Collecting sphinxcontrib-devhelp\n",
            "  Downloading sphinxcontrib_devhelp-1.0.2-py2.py3-none-any.whl (84 kB)\n",
            "\u001b[K     |████████████████████████████████| 84 kB 4.6 MB/s \n",
            "\u001b[?25hRequirement already satisfied: packaging in /usr/local/lib/python3.7/dist-packages (from sphinx->tick) (21.3)\n",
            "Requirement already satisfied: docutils<0.19,>=0.14 in /usr/local/lib/python3.7/dist-packages (from sphinx->tick) (0.17.1)\n",
            "Requirement already satisfied: sphinxcontrib-serializinghtml>=1.1.5 in /usr/local/lib/python3.7/dist-packages (from sphinx->tick) (1.1.5)\n",
            "Requirement already satisfied: imagesize in /usr/local/lib/python3.7/dist-packages (from sphinx->tick) (1.4.1)\n",
            "Requirement already satisfied: Pygments>=2.0 in /usr/local/lib/python3.7/dist-packages (from sphinx->tick) (2.6.1)\n",
            "Collecting sphinxcontrib-qthelp\n",
            "  Downloading sphinxcontrib_qthelp-1.0.3-py2.py3-none-any.whl (90 kB)\n",
            "\u001b[K     |████████████████████████████████| 90 kB 11.6 MB/s \n",
            "\u001b[?25hCollecting sphinxcontrib-applehelp\n",
            "  Downloading sphinxcontrib_applehelp-1.0.2-py2.py3-none-any.whl (121 kB)\n",
            "\u001b[K     |████████████████████████████████| 121 kB 76.9 MB/s \n",
            "\u001b[?25hRequirement already satisfied: babel>=1.3 in /usr/local/lib/python3.7/dist-packages (from sphinx->tick) (2.10.3)\n",
            "Requirement already satisfied: snowballstemmer>=1.1 in /usr/local/lib/python3.7/dist-packages (from sphinx->tick) (2.2.0)\n",
            "Requirement already satisfied: requests>=2.5.0 in /usr/local/lib/python3.7/dist-packages (from sphinx->tick) (2.23.0)\n",
            "Collecting sphinxcontrib-htmlhelp>=2.0.0\n",
            "  Downloading sphinxcontrib_htmlhelp-2.0.0-py2.py3-none-any.whl (100 kB)\n",
            "\u001b[K     |████████████████████████████████| 100 kB 12.7 MB/s \n",
            "\u001b[?25hRequirement already satisfied: importlib-metadata>=4.4 in /usr/local/lib/python3.7/dist-packages (from sphinx->tick) (4.12.0)\n",
            "Requirement already satisfied: alabaster<0.8,>=0.7 in /usr/local/lib/python3.7/dist-packages (from sphinx->tick) (0.7.12)\n",
            "Collecting sphinxcontrib-jsmath\n",
            "  Downloading sphinxcontrib_jsmath-1.0.1-py2.py3-none-any.whl (5.1 kB)\n",
            "Requirement already satisfied: pytz>=2015.7 in /usr/local/lib/python3.7/dist-packages (from babel>=1.3->sphinx->tick) (2022.1)\n",
            "Requirement already satisfied: zipp>=0.5 in /usr/local/lib/python3.7/dist-packages (from importlib-metadata>=4.4->sphinx->tick) (3.8.0)\n",
            "Requirement already satisfied: idna<3,>=2.5 in /usr/local/lib/python3.7/dist-packages (from requests>=2.5.0->sphinx->tick) (2.10)\n",
            "Requirement already satisfied: urllib3!=1.25.0,!=1.25.1,<1.26,>=1.21.1 in /usr/local/lib/python3.7/dist-packages (from requests>=2.5.0->sphinx->tick) (1.24.3)\n",
            "Requirement already satisfied: certifi>=2017.4.17 in /usr/local/lib/python3.7/dist-packages (from requests>=2.5.0->sphinx->tick) (2022.6.15)\n",
            "Requirement already satisfied: chardet<4,>=3.0.2 in /usr/local/lib/python3.7/dist-packages (from requests>=2.5.0->sphinx->tick) (3.0.4)\n",
            "Requirement already satisfied: joblib>=0.11 in /usr/local/lib/python3.7/dist-packages (from scikit-learn->tick) (1.1.0)\n",
            "Requirement already satisfied: threadpoolctl>=2.0.0 in /usr/local/lib/python3.7/dist-packages (from scikit-learn->tick) (3.1.0)\n",
            "Installing collected packages: sphinxcontrib-qthelp, sphinxcontrib-jsmath, sphinxcontrib-htmlhelp, sphinxcontrib-devhelp, sphinxcontrib-applehelp, sphinx, numpydoc, tick\n",
            "  Attempting uninstall: sphinx\n",
            "    Found existing installation: Sphinx 1.8.6\n",
            "    Uninstalling Sphinx-1.8.6:\n",
            "      Successfully uninstalled Sphinx-1.8.6\n",
            "\u001b[31mERROR: pip's dependency resolver does not currently take into account all the packages that are installed. This behaviour is the source of the following dependency conflicts.\n",
            "datascience 0.10.6 requires folium==0.2.1, but you have folium 0.8.3 which is incompatible.\u001b[0m\n",
            "Successfully installed numpydoc-1.4.0 sphinx-5.0.2 sphinxcontrib-applehelp-1.0.2 sphinxcontrib-devhelp-1.0.2 sphinxcontrib-htmlhelp-2.0.0 sphinxcontrib-jsmath-1.0.1 sphinxcontrib-qthelp-1.0.3 tick-0.7.0.1\n"
          ]
        },
        {
          "data": {
            "application/vnd.colab-display-data+json": {
              "pip_warning": {
                "packages": [
                  "sphinxcontrib"
                ]
              }
            }
          },
          "metadata": {},
          "output_type": "display_data"
        }
      ],
      "source": [
        "!pip install tick"
      ]
    },
    {
      "cell_type": "code",
      "execution_count": null,
      "metadata": {
        "colab": {
          "base_uri": "https://localhost:8080/"
        },
        "id": "f-RktovAjPpj",
        "outputId": "c4838636-9cd6-41b5-c1fe-7ab81e8f5575"
      },
      "outputs": [
        {
          "name": "stderr",
          "output_type": "stream",
          "text": [
            "/usr/local/lib/python3.7/dist-packages/ipykernel_launcher.py:26: UserWarning: Creating a tensor from a list of numpy.ndarrays is extremely slow. Please consider converting the list to a single numpy.ndarray with numpy.array() before converting to a tensor. (Triggered internally at  ../torch/csrc/utils/tensor_new.cpp:201.)\n"
          ]
        }
      ],
      "source": [
        "from tick.plot import plot_point_process\n",
        "from tick.hawkes import SimuHawkes, HawkesKernelExp\n",
        "import matplotlib.pyplot as plt\n",
        "import torch\n",
        "\n",
        "seed = 42\n",
        "N = 1000\n",
        "dataset = []\n",
        "\n",
        "mu = 1.0\n",
        "a = 0.35\n",
        "delta = 0.7\n",
        "\n",
        "for i in range(N):\n",
        "  hawkes = SimuHawkes(n_nodes=1, max_jumps = 100, verbose=False, seed=seed + i)\n",
        "  kernel = HawkesKernelExp(a/delta, delta)\n",
        "  hawkes.set_kernel(0, 0, kernel)\n",
        "  hawkes.set_baseline(0, mu)\n",
        "\n",
        "  dt = 0.01\n",
        "  hawkes.track_intensity(dt)\n",
        "  hawkes.simulate()\n",
        "  timestamps = hawkes.timestamps\n",
        "  dataset.append(timestamps)\n",
        "\n",
        "dataset = torch.Tensor(dataset)[:,0,:]"
      ]
    },
    {
      "cell_type": "markdown",
      "metadata": {
        "id": "zqCEstDfjeOE"
      },
      "source": [
        "### Multihead attention"
      ]
    },
    {
      "cell_type": "markdown",
      "metadata": {
        "id": "MJBSx2VKjius"
      },
      "source": [
        "Let's implement single head attention. We should use masked attention so that we do not peek into the future.\n",
        "\n",
        "We will implement single head as a model for the simplicity of the realization. Indeed, it is better to vectorize multihead.\n",
        "\n",
        "Let's implement:\n",
        "```\n",
        "class Attention(nn.Module):\n",
        "  def __init__(self, M, M_K, M_V):\n",
        "    super().__init__()\n",
        "    self.M = M\n",
        "    self.M_K = M_K\n",
        "    self.M_V = M_V\n",
        "```\n",
        "Here `M` is an embedding size, `M_K` are query and key sizes and `M_V` is a value size.\n",
        "\n",
        "The corresponding weights are:\n",
        "```\n",
        "    self.W_Q = Parameter(nn.init.xavier_uniform_(torch.zeros(M,M_K)))\n",
        "    self.W_K = Parameter(nn.init.xavier_uniform_(torch.zeros(M,M_K)))\n",
        "    self.W_V = Parameter(nn.init.xavier_uniform_(torch.zeros(M,M_V)))\n",
        "```\n",
        "\n",
        "Now let's implement the forward pass:\n",
        "```\n",
        "  def forward(self, X):\n",
        "    bs, L, _ = X.shape\n",
        "    Q = X @ self.W_Q\n",
        "    K = X @ self.W_K\n",
        "    V = X @ self.W_V\n",
        "\n",
        "    pre_softmax = Q @ K.transpose(1,2) / self.M_K ** 0.5\n",
        "```\n",
        "Before applying softmax and computing scores we should mask the future. We will use -torch.inf that will always return 0 for softmax.\n",
        "```\n",
        "    mask = (torch.triu(torch.ones((L,L))) - torch.eye(L)).unsqueeze(0).repeat(bs,1,1)\n",
        "    pre_softmax[mask == 1] = -torch.inf\n",
        "    softmax = torch.softmax(pre_softmax, dim = 2)\n",
        "    S = softmax @ V\n",
        "    return S\n",
        "```"
      ]
    },
    {
      "cell_type": "code",
      "execution_count": null,
      "metadata": {
        "id": "QJ9s6KQgjXB3"
      },
      "outputs": [],
      "source": [
        "from torch.nn import Parameter\n",
        "import torch.nn as nn\n",
        "\n",
        "class Attention(nn.Module):\n",
        "  def __init__(self, M, M_K, M_V):\n",
        "    super().__init__()\n",
        "    self.M = M\n",
        "    self.M_K = M_K\n",
        "    self.M_V = M_V\n",
        "\n",
        "    self.W_Q = Parameter(nn.init.xavier_uniform_(torch.zeros(M,M_K)))\n",
        "    self.W_K = Parameter(nn.init.xavier_uniform_(torch.zeros(M,M_K)))\n",
        "    self.W_V = Parameter(nn.init.xavier_uniform_(torch.zeros(M,M_V)))\n",
        "\n",
        "  def forward(self, X):\n",
        "    bs, L, _ = X.shape\n",
        "    Q = X @ self.W_Q\n",
        "    K = X @ self.W_K\n",
        "    V = X @ self.W_V\n",
        "\n",
        "    pre_softmax = Q @ K.transpose(1,2) / self.M_K ** 0.5\n",
        "    mask = (torch.triu(torch.ones((L,L))) - torch.eye(L)).unsqueeze(0).repeat(bs,1,1)\n",
        "    pre_softmax[mask == 1] = -torch.inf\n",
        "    softmax = torch.softmax(pre_softmax, dim = 2)\n",
        "    S = softmax @ V\n",
        "    return S"
      ]
    },
    {
      "cell_type": "markdown",
      "metadata": {
        "id": "p2HVwCHujzJT"
      },
      "source": [
        "### Feed forward layer"
      ]
    },
    {
      "cell_type": "markdown",
      "metadata": {
        "id": "2khBpZEij1-z"
      },
      "source": [
        "Now let's implement the feedforward layer that should be used after the multihead attention.\n",
        "\n",
        "This is just an additional layer that consists of two fully connected layers and ReLU."
      ]
    },
    {
      "cell_type": "code",
      "execution_count": null,
      "metadata": {
        "id": "xhtM3UfKjumA"
      },
      "outputs": [],
      "source": [
        "class FeedForwardLayer(nn.Module):\n",
        "  def __init__(self, M, M_H):\n",
        "    super().__init__()\n",
        "    self.layer_1 = nn.Linear(M, M_H)\n",
        "    self.layer_2 = nn.Linear(M_H, M)\n",
        "    self.relu = nn.ReLU()\n",
        "\n",
        "  def forward(self, S):\n",
        "    return self.layer_2(self.relu(self.layer_1(S)))"
      ]
    },
    {
      "cell_type": "markdown",
      "metadata": {
        "id": "uVqk0Gj8j9-l"
      },
      "source": [
        "### Transformer Model"
      ]
    },
    {
      "cell_type": "markdown",
      "metadata": {
        "id": "tP3Sfzr7kDVJ"
      },
      "source": [
        "#### Initialization"
      ]
    },
    {
      "cell_type": "markdown",
      "metadata": {
        "id": "jfnp6g6OkGxX"
      },
      "source": [
        "Now let's combine all the parts to the transformer model.\n",
        "\n",
        "We will consider one event type transformer model.\n",
        "\n",
        "First of all we should initialize several attention head. If you want, you can vectorize multihead on your own.\n",
        "\n",
        "```\n",
        "class TransformerHawkes(nn.Module):\n",
        "  def __init__(self, M, M_K, M_V, M_H, num_of_attentions = 10):\n",
        "    super().__init__()\n",
        "    # transformer\n",
        "    self.num_of_attentions = num_of_attentions\n",
        "    for i in range(num_of_attentions):\n",
        "      setattr(self,f'attention_{i}',Attention(M,M_K, M_V))\n",
        "```\n",
        "\n",
        "Then we should compute the output of the multihead attention approach:\n",
        "```\n",
        "    self.W_O = Parameter(nn.init.xavier_uniform_(torch.zeros(num_of_attentions*M_V,M)))\n",
        "```\n",
        "\n",
        "After that we should add the feedforward layer and final normalziation:\n",
        "```\n",
        "    self.feed_forward = FeedForwardLayer(M, M_H)\n",
        "    self.layer_norm = nn.LayerNorm(M, eps=1e-6)\n",
        "```\n",
        "\n",
        "We should introduce parameter for final intensity computations, as you can remember these parameters are $\\alpha$, $\\mathbf{w}$ and $b$.\n",
        "\n",
        "```\n",
        "    # intensity prediction\n",
        "    self.alpha = Parameter(torch.ones(1))\n",
        "    self.w  = Parameter(torch.rand(M))\n",
        "    self.b = Parameter(torch.ones(1))\n",
        "```\n",
        "\n",
        "Final activation\n",
        "```\n",
        "    self.sofplus = nn.Softplus()\n",
        "```"
      ]
    },
    {
      "cell_type": "markdown",
      "metadata": {
        "id": "QBQF47MTkMtY"
      },
      "source": [
        "#### Forward pass"
      ]
    },
    {
      "cell_type": "markdown",
      "metadata": {
        "id": "g0q8ZmK4kPqg"
      },
      "source": [
        "Given the sequences and simulated times we want to compute lambdas and the integral.\n",
        "\n",
        "First of all we should compute scores:\n",
        "\n",
        "```\n",
        "def forward(self, X, times, N = 100):\n",
        "    \"\"\"\n",
        "    Returns lambda(t_i) and integral\n",
        "    Note: ideally it should predict next arrival time, however we need only to prove the concept, so no need to implement this right now\n",
        "    \"\"\"\n",
        "    scores = torch.concat([getattr(self, f'attention_{i}')(X) for i in range(self.num_of_attentions)], dim = 2)\n",
        "```\n",
        "Here N is the number of simulated times for Monte Carlo integration.\n",
        "\n",
        "Then we should compute the hidden states of the transformer model:\n",
        "```\n",
        "    hiddens = scores @ self.W_O\n",
        "\n",
        "    hiddens = hiddens + X\n",
        "\n",
        "    hiddens = self.feed_forward(hiddens)\n",
        "    hiddens = self.layer_norm(hiddens)\n",
        "```\n",
        "\n",
        "We will implement distinct methods for lambdas and integral computation, thus, here we can write:\n",
        "```\n",
        "    lambdas = self.get_lambdas_batch(hiddens, times)\n",
        "\n",
        "    integral = self.get_integrals(hiddens, times, N)\n",
        "    \n",
        "    return lambdas, integral\n",
        "```"
      ]
    },
    {
      "cell_type": "markdown",
      "metadata": {
        "id": "L19x_p6wkTCJ"
      },
      "source": [
        "#### Lambdas computation"
      ]
    },
    {
      "cell_type": "markdown",
      "metadata": {
        "id": "CLOxLbfvkWYT"
      },
      "source": [
        "For lambda computation we should implement two methods. `get_lambdas_batch(self, hiddens, times)` and `get_lambdas(self, t, hidden, t_j, simulated = False)`.\n",
        "\n",
        "The first one is auxiliar and computes lambdas for batch. The second method is a general method that for given times to predict, hiddens and event times computes lambdas.\n",
        "\n",
        "`get_lambdas_batch` preprocesses times and hiddens so that the format is good for `get_lambdas`. We have to predict the next event given all the previous events, thus we should define future times and past times and predict future times intensities given past times  and past hiddens:\n",
        "\n",
        "```\n",
        "  def get_lambdas_batch(self,hiddens, times):\n",
        "    \"\"\"\n",
        "    Returns lambdas(t_i), i>=1\n",
        "    \"\"\"\n",
        "    # code here\n",
        "    future_times = times[:,1:]\n",
        "    past_times = times[:,:-1]\n",
        "    past_hiddens = hiddens[:,:-1,:]\n",
        "    lambdas = self.get_lambdas(future_times, past_hiddens, past_times)\n",
        "    return lambdas\n",
        "```\n",
        "\n",
        "We should predict the intensity in `get_lambdas`, we will use the formula from the transformer hawkes paper:\n",
        "```\n",
        "  def get_lambdas(self, t, hidden, t_j, simulated = False):\n",
        "    if simulated:\n",
        "      t_j = t_j.unsqueeze(2).repeat(1,1,t.shape[2])\n",
        "    assert torch.all(t >= t_j)\n",
        "    history = hidden @ self.w\n",
        "    if simulated:\n",
        "      history = history.unsqueeze(2)\n",
        "    tmp = self.alpha * (t - t_j)/t_j + history + self.b\n",
        "    out = self.softplus(tmp)\n",
        "    return out\n",
        "```"
      ]
    },
    {
      "cell_type": "markdown",
      "metadata": {
        "id": "6a6QEiaMkbUd"
      },
      "source": [
        "#### Integral computation"
      ]
    },
    {
      "cell_type": "markdown",
      "metadata": {
        "id": "oCa-k6VUkd3X"
      },
      "source": [
        "To compute the integral we should generate additional times and compute lambdas for them. Then we should apply the $\\Lambda_{MC}$ formula.\n",
        "\n",
        "Computing $t_j - t_{j-1}$ for each timestamps:\n",
        "```\n",
        "  def get_integrals(self, hiddens, times, N):\n",
        "    \"\"\"\n",
        "    Returns integrals per element in batch, shape = (bs,)\n",
        "    \"\"\"\n",
        "    # code here\n",
        "    future_times = times[:,1:]\n",
        "    past_times = times[:,:-1]\n",
        "    past_hiddens = hiddens[:,:-1,:]\n",
        "    delta_times = future_times - past_times\n",
        "```\n",
        "\n",
        "Simulating times:\n",
        "```\n",
        "    bs, L = delta_times.shape\n",
        "    sumulated_times = torch.rand(bs, L, N)*delta_times.unsqueeze(2)+ past_times.unsqueeze(2)\n",
        "```\n",
        "Computing lambdas for simulated times:\n",
        "```\n",
        "    simulated_lambdas = self.get_lambdas(sumulated_times, past_hiddens, past_times, True)\n",
        "    integral = torch.sum(delta_times * torch.sum(simulated_lambdas / N, dim = 2), dim = 1)\n",
        "    return integral\n",
        "```"
      ]
    },
    {
      "cell_type": "markdown",
      "metadata": {
        "id": "6Jh9puVFkhdD"
      },
      "source": [
        "#### Code"
      ]
    },
    {
      "cell_type": "code",
      "execution_count": null,
      "metadata": {
        "id": "t0HhZILVj419"
      },
      "outputs": [],
      "source": [
        "class TransformerHawkes(nn.Module):\n",
        "  def __init__(self, M, M_K, M_V, M_H, num_of_attentions = 10):\n",
        "    super().__init__()\n",
        "    # transformer\n",
        "    self.num_of_attentions = num_of_attentions\n",
        "    for i in range(num_of_attentions):\n",
        "      setattr(self,f'attention_{i}',Attention(M,M_K, M_V))\n",
        "    self.W_O = Parameter(nn.init.xavier_uniform_(torch.zeros(num_of_attentions*M_V,M)))\n",
        "    self.feed_forward = FeedForwardLayer(M, M_H)\n",
        "    self.layer_norm = nn.LayerNorm(M, eps=1e-6)\n",
        "\n",
        "    # intensity prediction\n",
        "    self.alpha = Parameter(torch.ones(1))\n",
        "    self.w  = Parameter(torch.rand(M))\n",
        "    self.b = Parameter(torch.ones(1))\n",
        "\n",
        "    # utils\n",
        "    self.softplus = nn.Softplus()\n",
        "\n",
        "  def forward(self, X, times, N = 100):\n",
        "    \"\"\"\n",
        "    Returns lambda(t_i) and integral\n",
        "    Note: ideally it should predict next arrival time, however we need only to prove the concept, so no need to implement this right now\n",
        "    \"\"\"\n",
        "    scores = torch.concat([getattr(self, f'attention_{i}')(X) for i in range(self.num_of_attentions)], dim = 2)\n",
        "    hiddens = scores @ self.W_O\n",
        "\n",
        "    hiddens = hiddens + X\n",
        "\n",
        "    hiddens = self.feed_forward(hiddens)\n",
        "    hiddens = self.layer_norm(hiddens)\n",
        "\n",
        "    lambdas = self.get_lambdas_batch(hiddens, times)\n",
        "\n",
        "    integral = self.get_integrals(hiddens, times, N)\n",
        "\n",
        "    return lambdas, integral\n",
        "\n",
        "  def get_lambdas_batch(self,hiddens, times):\n",
        "    \"\"\"\n",
        "    Returns lambdas(t_i), i>=1\n",
        "    \"\"\"\n",
        "    future_times = times[:,1:]\n",
        "    past_times = times[:,:-1]\n",
        "    past_hiddens = hiddens[:,:-1,:]\n",
        "    lambdas = self.get_lambdas(future_times, past_hiddens, past_times)\n",
        "    return lambdas\n",
        "\n",
        "  def get_integrals(self, hiddens, times, N):\n",
        "    \"\"\"\n",
        "    Returns integrals per element in batch, shape = (bs,)\n",
        "    \"\"\"\n",
        "    future_times = times[:,1:]\n",
        "    past_times = times[:,:-1]\n",
        "    past_hiddens = hiddens[:,:-1,:]\n",
        "    delta_times = future_times - past_times\n",
        "    bs, L = delta_times.shape\n",
        "    sumulated_times = torch.rand(bs, L, N)*delta_times.unsqueeze(2)+ past_times.unsqueeze(2)\n",
        "    simulated_lambdas = self.get_lambdas(sumulated_times, past_hiddens, past_times, True)\n",
        "    integral = torch.sum(delta_times * torch.sum(simulated_lambdas / N, dim = 2), dim = 1)\n",
        "    return integral\n",
        "\n",
        "\n",
        "  def get_lambdas(self, t, hidden, t_j, simulated = False):\n",
        "    if simulated:\n",
        "      t_j = t_j.unsqueeze(2).repeat(1,1,t.shape[2])\n",
        "    assert torch.all(t >= t_j)\n",
        "    history = hidden @ self.w\n",
        "    if simulated:\n",
        "      history = history.unsqueeze(2)\n",
        "    tmp = self.alpha * (t - t_j)/t_j + history + self.b\n",
        "    out = self.softplus(tmp)\n",
        "    return out"
      ]
    },
    {
      "cell_type": "markdown",
      "metadata": {
        "id": "q7L09qzUoVxb"
      },
      "source": [
        "### Temporal Encoding"
      ]
    },
    {
      "cell_type": "markdown",
      "metadata": {
        "id": "b6pgrc4-oZ2J"
      },
      "source": [
        "We should also implement the temporal encoding. We should implement the `Dataset` class with `__getitem__` and `__len__` methods.\n",
        "\n",
        "Given times and the embedding size we compute temporal encoding:\n",
        "\n",
        "```\n",
        "    self.z = torch.arange(0,M)[None,None,:].repeat(self.N,self.L,1)\n",
        "    self.z = torch.cos(\n",
        "              self.times.unsqueeze(2)/10000**((self.z - 1)/M)\n",
        "            ) * (self.z % 2 == 1) \\\n",
        "           + torch.sin(\n",
        "              self.times.unsqueeze(2)/10000**(self.z/M)\n",
        "            ) * (self.z % 2 == 0)\n",
        "```"
      ]
    },
    {
      "cell_type": "code",
      "execution_count": null,
      "metadata": {
        "id": "2fn1J92DknjW"
      },
      "outputs": [],
      "source": [
        "from torch.utils.data import Dataset\n",
        "\n",
        "class Embeddings(Dataset):\n",
        "  def __init__(self, times, M):\n",
        "    \"\"\"Temporal encoding only\"\"\"\n",
        "    self.N, self.L = times.shape\n",
        "    self.times = times\n",
        "    self.z = torch.arange(0,M)[None,None,:].repeat(self.N,self.L,1)\n",
        "    self.z = torch.cos(\n",
        "              self.times.unsqueeze(2)/10000**((self.z - 1)/M)\n",
        "            ) * (self.z % 2 == 1) \\\n",
        "           + torch.sin(\n",
        "              self.times.unsqueeze(2)/10000**(self.z/M)\n",
        "            ) * (self.z % 2 == 0)\n",
        "\n",
        "\n",
        "  def __getitem__(self, index):\n",
        "    return self.times[index, ...], self.z[index, ...]\n",
        "\n",
        "  def __len__(self):\n",
        "    return self.N"
      ]
    },
    {
      "cell_type": "markdown",
      "metadata": {
        "id": "azolfis6ohiN"
      },
      "source": [
        "### Training"
      ]
    },
    {
      "cell_type": "markdown",
      "metadata": {
        "id": "43Bk66yQoiSJ"
      },
      "source": [
        "#### Preparation"
      ]
    },
    {
      "cell_type": "markdown",
      "metadata": {
        "id": "FsmQwAr4oqBf"
      },
      "source": [
        "Now let's train."
      ]
    },
    {
      "cell_type": "code",
      "execution_count": null,
      "metadata": {
        "id": "cR63pcsSocqu"
      },
      "outputs": [],
      "source": [
        "import numpy as np\n",
        "\n",
        "def train(model, ref_model, train_loader, optimizer, epoch):\n",
        "    model.train()\n",
        "    ll = []\n",
        "    mse_lambdas = []\n",
        "    for batch_idx, (times, batch) in enumerate(train_loader):\n",
        "        optimizer.zero_grad()\n",
        "        lambdas, integral = model(batch, times)\n",
        "        ref_lambdas = ref_model.lambdas(times)[:,1:]\n",
        "        mse_lambdas.append(torch.mean((lambdas - ref_lambdas)**2).item())\n",
        "        negative_ll = - torch.sum(torch.log(lambdas + 1e-8)) + torch.sum(integral)\n",
        "        negative_ll.backward()\n",
        "        optimizer.step()\n",
        "        ll.append(negative_ll.item())\n",
        "    return np.mean(ll), np.mean(mse_lambdas)"
      ]
    },
    {
      "cell_type": "markdown",
      "metadata": {
        "id": "hlDGNS51ow-F"
      },
      "source": [
        "Reference model so that we could compare the predicted intensity."
      ]
    },
    {
      "cell_type": "code",
      "execution_count": null,
      "metadata": {
        "id": "GdbipTLDotHa"
      },
      "outputs": [],
      "source": [
        "class Hawkes(torch.nn.Module):\n",
        "  def __init__(self, L, init_mu = 0.1, init_a = 0.1, init_delta = 0.1):\n",
        "    super().__init__()\n",
        "    self.mu = torch.nn.Parameter(init_mu*torch.ones(1))\n",
        "    self.a = torch.nn.Parameter(init_a*torch.ones(1))\n",
        "    self.delta = torch.nn.Parameter(init_delta*torch.ones(1))\n",
        "    self.L = L\n",
        "    self.V = torch.tril(torch.ones((L,L)), diagonal=-1)\n",
        "    self.V = self.V.unsqueeze(0)\n",
        "\n",
        "  def forward(self, batch):\n",
        "    \"\"\"\n",
        "    Returns loss\n",
        "    Note: ideally it should predict next arrival time, however we need only to prove the concept, so no need to implement this right now\n",
        "    \"\"\"\n",
        "    # events\n",
        "    lambda_loss = - torch.sum(torch.log(self.lambdas(batch)))\n",
        "\n",
        "    # non events\n",
        "    integral_loss = self.integral(batch)\n",
        "\n",
        "    return lambda_loss + integral_loss\n",
        "\n",
        "  def lambdas(self, batch):\n",
        "    \"\"\"Returns lambda(t_{i,j}) for all i, j (do not sum, we will use this function later)\"\"\"\n",
        "    S = batch.unsqueeze(2).repeat(1,1,self.L)\n",
        "    S = S - S.transpose(1,2)\n",
        "    lambdas = self.mu + torch.sum(torch.exp(-self.delta * S) * (self.a * self.V), dim = 2)\n",
        "    return lambdas\n",
        "\n",
        "  def integral(self, batch):\n",
        "    \"\"\"Returns integral loss (do not forget to sum)\"\"\"\n",
        "    base = self.mu * batch[:, -1]\n",
        "    last = batch[:,-1].unsqueeze(1).repeat(1,self.L)\n",
        "    exps = (self.a - self.a * torch.exp(-self.delta * (last - batch)))/self.delta\n",
        "\n",
        "    integral_loss = torch.sum(base) + torch.sum(exps)\n",
        "    return integral_loss\n",
        "\n",
        "  def __str__(self):\n",
        "    return \"lambda = {:.3f} + sum {:.3f} * exp( - {:.3f} (t - t_i))\".format(self.mu.detach().numpy()[0], self.a.detach().numpy()[0], self.delta.detach().numpy()[0])"
      ]
    },
    {
      "cell_type": "markdown",
      "metadata": {
        "id": "qOwX2gszo44x"
      },
      "source": [
        "#### Training"
      ]
    },
    {
      "cell_type": "code",
      "execution_count": null,
      "metadata": {
        "colab": {
          "base_uri": "https://localhost:8080/",
          "height": 428
        },
        "id": "9c24noe0o_Dz",
        "outputId": "8f0e3504-c2e2-4e31-8258-78d165b89f42"
      },
      "outputs": [
        {
          "data": {
            "image/png": "[encoded data removed]",
            "text/plain": [
              "<Figure size 1152x504 with 2 Axes>"
            ]
          },
          "metadata": {},
          "output_type": "display_data"
        }
      ],
      "source": [
        "import matplotlib.pyplot as plt\n",
        "from IPython.display import clear_output\n",
        "%matplotlib inline\n",
        "\n",
        "dataset_with_embeddings = Embeddings(dataset, 16)\n",
        "\n",
        "ref_model = Hawkes(100, 1.0, 0.35, 0.7)\n",
        "model = TransformerHawkes(16,32,32,32,5)\n",
        "batch_size = 100\n",
        "\n",
        "train_dataloader = torch.utils.data.DataLoader(dataset_with_embeddings, batch_size = batch_size, num_workers = 0, pin_memory = True, shuffle = True)\n",
        "optimizer = torch.optim.Adam(model.parameters(), lr = 1e-2, weight_decay=1e-5)\n",
        "\n",
        "losses = []\n",
        "mse_lambdas = []\n",
        "\n",
        "for epoch in range(60):\n",
        "  clear_output(wait=True)\n",
        "  l,m = train(model, ref_model, train_dataloader, optimizer, epoch)\n",
        "  losses.append(l)\n",
        "  mse_lambdas.append(m)\n",
        "\n",
        "  fig, axes = plt.subplots(1, 2, figsize=(16,7))\n",
        "  axes[0].plot(losses)\n",
        "  axes[0].set_yscale('log')\n",
        "  axes[1].plot(mse_lambdas, label = \"MSE = {}\".format(m))\n",
        "  axes[1].set_yscale('log')\n",
        "  axes[1].legend(fontsize=16, loc=\"upper right\", bbox_to_anchor=(1,1))\n",
        "  plt.show()"
      ]
    },
    {
      "cell_type": "markdown",
      "metadata": {
        "id": "zhcZVDCrwVDm"
      },
      "source": [
        "### Transformer model generalization discussion"
      ]
    },
    {
      "cell_type": "markdown",
      "metadata": {
        "id": "L34ru7L-wnyy"
      },
      "source": [
        "#### Question - what should we change, so that we could work with event sequneces with multiple event types and different sequence lengths?"
      ]
    },
    {
      "cell_type": "markdown",
      "metadata": {
        "id": "PzzxN1v3w1X_"
      },
      "source": [
        "- We should add event types sequence to the Dataset with ```self.event_types``` and check that we do not have 0 as an event type otherwise shift event_types labels (```self.event_types += 1```).\n",
        "- We should add ```nn.Embedding(num_embeddings, embedding_dim, padding_idx=0)``` and add the output of this layer to the time embeddings.\n",
        "- We should use zero padding with ```torch.nn.functional.pad```, to account different lengths and ignore these values in the transformer.\n",
        "- We should change\n",
        "```\n",
        "self.alpha = Parameter(torch.ones(1))\n",
        "self.w  = Parameter(torch.rand(M))\n",
        "self.b = Parameter(torch.ones(1))\n",
        "```\n",
        "to\n",
        "```\n",
        "self.alpha = Parameter(torch.ones(n_types))\n",
        "self.w  = Parameter(torch.rand(M,n_types))\n",
        "self.b = Parameter(torch.ones(n_types))\n",
        "```\n",
        "and use the corresponding intensity in $\\sum \\log \\lambda_{c_i}(t_i)$\n",
        "\n",
        "\n",
        "Instead of implementing the model from scratch we will use the following implementation https://github.com/SimiaoZuo/Transformer-Hawkes-Process"
      ]
    },
    {
      "cell_type": "markdown",
      "metadata": {
        "id": "w8pvJhEr0Fzi"
      },
      "source": [
        "## Real World Data experiments"
      ]
    },
    {
      "cell_type": "markdown",
      "metadata": {
        "id": "Za1-w2vQ0f6K"
      },
      "source": [
        "### Loading Data"
      ]
    },
    {
      "cell_type": "markdown",
      "metadata": {
        "id": "-1DhWekX1vHA"
      },
      "source": [
        "First of all we should load the data that we will use for training."
      ]
    },
    {
      "cell_type": "code",
      "execution_count": null,
      "metadata": {
        "colab": {
          "base_uri": "https://localhost:8080/"
        },
        "id": "GngzcgNmpDI7",
        "outputId": "5818b7c3-66f8-4c5b-81c7-aa429df8cece"
      },
      "outputs": [
        {
          "name": "stdout",
          "output_type": "stream",
          "text": [
            "Looking in indexes: https://pypi.org/simple, https://us-python.pkg.dev/colab-wheels/public/simple/\n",
            "Requirement already satisfied: googledrivedownloader in /usr/local/lib/python3.9/dist-packages (0.4)\n"
          ]
        }
      ],
      "source": [
        "!pip install googledrivedownloader"
      ]
    },
    {
      "cell_type": "code",
      "execution_count": null,
      "metadata": {
        "colab": {
          "base_uri": "https://localhost:8080/"
        },
        "id": "Z98xDKg51yH_",
        "outputId": "93afa347-d451-4584-de28-3e5df70ae883"
      },
      "outputs": [
        {
          "name": "stdout",
          "output_type": "stream",
          "text": [
            "Downloading 1i3NI7zKjaTzrPLi1IPVWAiFjXjch8oc2 into ./train.pkl... Done.\n",
            "Downloading 1q1VUY3VTmaZqT8VjWY5hKrSx8v9tZbt7 into ./train_tick.pkl... Done.\n"
          ]
        }
      ],
      "source": [
        "from google_drive_downloader import GoogleDriveDownloader as gdd\n",
        "\n",
        "gdd.download_file_from_google_drive(file_id='1i3NI7zKjaTzrPLi1IPVWAiFjXjch8oc2',\n",
        "                                    dest_path='./train.pkl')\n",
        "\n",
        "gdd.download_file_from_google_drive(file_id='1q1VUY3VTmaZqT8VjWY5hKrSx8v9tZbt7',\n",
        "                                    dest_path='./train_tick.pkl')"
      ]
    },
    {
      "cell_type": "markdown",
      "metadata": {
        "id": "ic527sUM12sg"
      },
      "source": [
        "This is the tweets dataset with tweets action history. Let's open the file."
      ]
    },
    {
      "cell_type": "code",
      "execution_count": null,
      "metadata": {
        "colab": {
          "base_uri": "https://localhost:8080/"
        },
        "id": "EW48ql3b10F5",
        "outputId": "b3cdd8a3-0c1f-4201-de8f-4d3e192a9602"
      },
      "outputs": [
        {
          "name": "stdout",
          "output_type": "stream",
          "text": [
            "Looking in indexes: https://pypi.org/simple, https://us-python.pkg.dev/colab-wheels/public/simple/\n",
            "Collecting pickle-mixin\n",
            "  Downloading pickle-mixin-1.0.2.tar.gz (5.1 kB)\n",
            "  Preparing metadata (setup.py) ... \u001b[?25l\u001b[?25hdone\n",
            "Building wheels for collected packages: pickle-mixin\n",
            "  Building wheel for pickle-mixin (setup.py) ... \u001b[?25l\u001b[?25hdone\n",
            "  Created wheel for pickle-mixin: filename=pickle_mixin-1.0.2-py3-none-any.whl size=6006 sha256=bae734e5535823dff733efe72b31ab64722c504bd26bbe6028952bb145fa30ac\n",
            "  Stored in directory: /root/.cache/pip/wheels/58/c6/8b/061bd4edc8cea2b2235758c3e50473d08499236fbfdd21e6b3\n",
            "Successfully built pickle-mixin\n",
            "Installing collected packages: pickle-mixin\n",
            "Successfully installed pickle-mixin-1.0.2\n"
          ]
        }
      ],
      "source": [
        "!pip install pickle-mixin --upgrade"
      ]
    },
    {
      "cell_type": "code",
      "execution_count": null,
      "metadata": {
        "id": "7mvgXHtV152z"
      },
      "outputs": [],
      "source": [
        "import pickle\n",
        "with open('./train.pkl','rb') as f:\n",
        "  train_dset = pickle.load(f)"
      ]
    },
    {
      "cell_type": "code",
      "execution_count": null,
      "metadata": {
        "colab": {
          "base_uri": "https://localhost:8080/"
        },
        "id": "9wFGbVfb19ym",
        "outputId": "2f33a6f1-6363-4e18-a178-570c4bb53553"
      },
      "outputs": [
        {
          "data": {
            "text/plain": [
              "dict_keys([b'test1', b'args', b'dim_process', b'dev', b'train', b'test'])"
            ]
          },
          "execution_count": 5,
          "metadata": {},
          "output_type": "execute_result"
        }
      ],
      "source": [
        "train_dset.keys()"
      ]
    },
    {
      "cell_type": "code",
      "execution_count": null,
      "metadata": {
        "colab": {
          "base_uri": "https://localhost:8080/"
        },
        "id": "K2Mv517t1_T1",
        "outputId": "3399f397-0195-41e8-8ab4-de8d14ba14ae"
      },
      "outputs": [
        {
          "data": {
            "text/plain": [
              "[{b'time_since_start': 15.0, b'time_since_last_event': 15.0, b'type_event': 1},\n",
              " {b'time_since_start': 16.0, b'time_since_last_event': 1.0, b'type_event': 1},\n",
              " {b'time_since_start': 19.0, b'time_since_last_event': 3.0, b'type_event': 1},\n",
              " {b'time_since_start': 23.0, b'time_since_last_event': 4.0, b'type_event': 1},\n",
              " {b'time_since_start': 23.0, b'time_since_last_event': 0.0, b'type_event': 0},\n",
              " {b'time_since_start': 25.0, b'time_since_last_event': 2.0, b'type_event': 1},\n",
              " {b'time_since_start': 28.0, b'time_since_last_event': 3.0, b'type_event': 0},\n",
              " {b'time_since_start': 30.0, b'time_since_last_event': 2.0, b'type_event': 0},\n",
              " {b'time_since_start': 32.0, b'time_since_last_event': 2.0, b'type_event': 0},\n",
              " {b'time_since_start': 33.0, b'time_since_last_event': 1.0, b'type_event': 0},\n",
              " {b'time_since_start': 34.0, b'time_since_last_event': 1.0, b'type_event': 0},\n",
              " {b'time_since_start': 36.0, b'time_since_last_event': 2.0, b'type_event': 0},\n",
              " {b'time_since_start': 39.0, b'time_since_last_event': 3.0, b'type_event': 0},\n",
              " {b'time_since_start': 40.0, b'time_since_last_event': 1.0, b'type_event': 0},\n",
              " {b'time_since_start': 43.0, b'time_since_last_event': 3.0, b'type_event': 0},\n",
              " {b'time_since_start': 44.0, b'time_since_last_event': 1.0, b'type_event': 0},\n",
              " {b'time_since_start': 46.0, b'time_since_last_event': 2.0, b'type_event': 1},\n",
              " {b'time_since_start': 48.0, b'time_since_last_event': 2.0, b'type_event': 0},\n",
              " {b'time_since_start': 52.0, b'time_since_last_event': 4.0, b'type_event': 0},\n",
              " {b'time_since_start': 54.0, b'time_since_last_event': 2.0, b'type_event': 0},\n",
              " {b'time_since_start': 55.0, b'time_since_last_event': 1.0, b'type_event': 0},\n",
              " {b'time_since_start': 56.0, b'time_since_last_event': 1.0, b'type_event': 0},\n",
              " {b'time_since_start': 57.0, b'time_since_last_event': 1.0, b'type_event': 1},\n",
              " {b'time_since_start': 58.0, b'time_since_last_event': 1.0, b'type_event': 0},\n",
              " {b'time_since_start': 59.0, b'time_since_last_event': 1.0, b'type_event': 0},\n",
              " {b'time_since_start': 60.0, b'time_since_last_event': 1.0, b'type_event': 0},\n",
              " {b'time_since_start': 61.0, b'time_since_last_event': 1.0, b'type_event': 0},\n",
              " {b'time_since_start': 74.0, b'time_since_last_event': 13.0, b'type_event': 0},\n",
              " {b'time_since_start': 75.0, b'time_since_last_event': 1.0, b'type_event': 0},\n",
              " {b'time_since_start': 77.0, b'time_since_last_event': 2.0, b'type_event': 0},\n",
              " {b'time_since_start': 79.0, b'time_since_last_event': 2.0, b'type_event': 0},\n",
              " {b'time_since_start': 80.0, b'time_since_last_event': 1.0, b'type_event': 0},\n",
              " {b'time_since_start': 81.0, b'time_since_last_event': 1.0, b'type_event': 0},\n",
              " {b'time_since_start': 86.0, b'time_since_last_event': 5.0, b'type_event': 1},\n",
              " {b'time_since_start': 87.0, b'time_since_last_event': 1.0, b'type_event': 0},\n",
              " {b'time_since_start': 88.0, b'time_since_last_event': 1.0, b'type_event': 0},\n",
              " {b'time_since_start': 89.0, b'time_since_last_event': 1.0, b'type_event': 0},\n",
              " {b'time_since_start': 90.0, b'time_since_last_event': 1.0, b'type_event': 1},\n",
              " {b'time_since_start': 92.0, b'time_since_last_event': 2.0, b'type_event': 0},\n",
              " {b'time_since_start': 94.0, b'time_since_last_event': 2.0, b'type_event': 0},\n",
              " {b'time_since_start': 95.0, b'time_since_last_event': 1.0, b'type_event': 0},\n",
              " {b'time_since_start': 111.0,\n",
              "  b'time_since_last_event': 16.0,\n",
              "  b'type_event': 0},\n",
              " {b'time_since_start': 113.0, b'time_since_last_event': 2.0, b'type_event': 0},\n",
              " {b'time_since_start': 117.0, b'time_since_last_event': 4.0, b'type_event': 1},\n",
              " {b'time_since_start': 119.0, b'time_since_last_event': 2.0, b'type_event': 0},\n",
              " {b'time_since_start': 157.0,\n",
              "  b'time_since_last_event': 38.0,\n",
              "  b'type_event': 1},\n",
              " {b'time_since_start': 162.0, b'time_since_last_event': 5.0, b'type_event': 1},\n",
              " {b'time_since_start': 165.0, b'time_since_last_event': 3.0, b'type_event': 0},\n",
              " {b'time_since_start': 166.0, b'time_since_last_event': 1.0, b'type_event': 0},\n",
              " {b'time_since_start': 170.0, b'time_since_last_event': 4.0, b'type_event': 0},\n",
              " {b'time_since_start': 171.0, b'time_since_last_event': 1.0, b'type_event': 1},\n",
              " {b'time_since_start': 177.0, b'time_since_last_event': 6.0, b'type_event': 0},\n",
              " {b'time_since_start': 191.0,\n",
              "  b'time_since_last_event': 14.0,\n",
              "  b'type_event': 1},\n",
              " {b'time_since_start': 195.0, b'time_since_last_event': 4.0, b'type_event': 1},\n",
              " {b'time_since_start': 196.0, b'time_since_last_event': 1.0, b'type_event': 0},\n",
              " {b'time_since_start': 198.0, b'time_since_last_event': 2.0, b'type_event': 1},\n",
              " {b'time_since_start': 199.0, b'time_since_last_event': 1.0, b'type_event': 0},\n",
              " {b'time_since_start': 201.0, b'time_since_last_event': 2.0, b'type_event': 0},\n",
              " {b'time_since_start': 203.0, b'time_since_last_event': 2.0, b'type_event': 0},\n",
              " {b'time_since_start': 206.0, b'time_since_last_event': 3.0, b'type_event': 0},\n",
              " {b'time_since_start': 208.0, b'time_since_last_event': 2.0, b'type_event': 0},\n",
              " {b'time_since_start': 211.0, b'time_since_last_event': 3.0, b'type_event': 0},\n",
              " {b'time_since_start': 215.0, b'time_since_last_event': 4.0, b'type_event': 0},\n",
              " {b'time_since_start': 217.0, b'time_since_last_event': 2.0, b'type_event': 0},\n",
              " {b'time_since_start': 219.0, b'time_since_last_event': 2.0, b'type_event': 0},\n",
              " {b'time_since_start': 220.0, b'time_since_last_event': 1.0, b'type_event': 0},\n",
              " {b'time_since_start': 225.0, b'time_since_last_event': 5.0, b'type_event': 0},\n",
              " {b'time_since_start': 232.0, b'time_since_last_event': 7.0, b'type_event': 0},\n",
              " {b'time_since_start': 234.0, b'time_since_last_event': 2.0, b'type_event': 0},\n",
              " {b'time_since_start': 235.0, b'time_since_last_event': 1.0, b'type_event': 0},\n",
              " {b'time_since_start': 239.0, b'time_since_last_event': 4.0, b'type_event': 0},\n",
              " {b'time_since_start': 241.0, b'time_since_last_event': 2.0, b'type_event': 0},\n",
              " {b'time_since_start': 243.0, b'time_since_last_event': 2.0, b'type_event': 0},\n",
              " {b'time_since_start': 246.0, b'time_since_last_event': 3.0, b'type_event': 0},\n",
              " {b'time_since_start': 248.0, b'time_since_last_event': 2.0, b'type_event': 0},\n",
              " {b'time_since_start': 254.0, b'time_since_last_event': 6.0, b'type_event': 0},\n",
              " {b'time_since_start': 255.0, b'time_since_last_event': 1.0, b'type_event': 0},\n",
              " {b'time_since_start': 257.0, b'time_since_last_event': 2.0, b'type_event': 1},\n",
              " {b'time_since_start': 259.0, b'time_since_last_event': 2.0, b'type_event': 0},\n",
              " {b'time_since_start': 263.0, b'time_since_last_event': 4.0, b'type_event': 1},\n",
              " {b'time_since_start': 318.0,\n",
              "  b'time_since_last_event': 55.0,\n",
              "  b'type_event': 1},\n",
              " {b'time_since_start': 460.0,\n",
              "  b'time_since_last_event': 142.0,\n",
              "  b'type_event': 1},\n",
              " {b'time_since_start': 591.0,\n",
              "  b'time_since_last_event': 131.0,\n",
              "  b'type_event': 1},\n",
              " {b'time_since_start': 695.0,\n",
              "  b'time_since_last_event': 104.0,\n",
              "  b'type_event': 0},\n",
              " {b'time_since_start': 900.0,\n",
              "  b'time_since_last_event': 205.0,\n",
              "  b'type_event': 1},\n",
              " {b'time_since_start': 39225.0,\n",
              "  b'time_since_last_event': 38325.0,\n",
              "  b'type_event': 1},\n",
              " {b'time_since_start': 39270.0,\n",
              "  b'time_since_last_event': 45.0,\n",
              "  b'type_event': 1},\n",
              " {b'time_since_start': 39328.0,\n",
              "  b'time_since_last_event': 58.0,\n",
              "  b'type_event': 1}]"
            ]
          },
          "execution_count": 6,
          "metadata": {},
          "output_type": "execute_result"
        }
      ],
      "source": [
        "train_dset[b'train'][0]"
      ]
    },
    {
      "cell_type": "markdown",
      "metadata": {
        "id": "TXD8Tdbb2Ef_"
      },
      "source": [
        "Here we only need the 'train' key, 'test', 'dev' and 'test1' are empty, this data in other files."
      ]
    },
    {
      "cell_type": "markdown",
      "metadata": {
        "id": "0X3aIG8j2HnJ"
      },
      "source": [
        "The number of event types is three."
      ]
    },
    {
      "cell_type": "code",
      "execution_count": null,
      "metadata": {
        "colab": {
          "base_uri": "https://localhost:8080/"
        },
        "id": "x8Nz32uo2A8C",
        "outputId": "d59375b4-7325-462d-bcfe-142a2a661da5"
      },
      "outputs": [
        {
          "data": {
            "text/plain": [
              "3"
            ]
          },
          "execution_count": 112,
          "metadata": {},
          "output_type": "execute_result"
        }
      ],
      "source": [
        "train_dset[b'dim_process']"
      ]
    },
    {
      "cell_type": "markdown",
      "metadata": {
        "id": "Li9Xobi62Uyj"
      },
      "source": [
        "### Tick Training"
      ]
    },
    {
      "cell_type": "code",
      "execution_count": null,
      "metadata": {
        "id": "mVhQqFAq2SBq"
      },
      "outputs": [],
      "source": [
        "with open('./train_tick.pkl', 'rb') as f:\n",
        "  tick_dset = pickle.load(f)"
      ]
    },
    {
      "cell_type": "markdown",
      "metadata": {
        "id": "yCCamFt52aHo"
      },
      "source": [
        "Let's use nonparametric Hawkes model"
      ]
    },
    {
      "cell_type": "code",
      "execution_count": null,
      "metadata": {
        "colab": {
          "base_uri": "https://localhost:8080/"
        },
        "id": "zfbayLsaS1Kq",
        "outputId": "27e68863-5d51-480e-82fd-6d9f38e6ee3d"
      },
      "outputs": [
        {
          "data": {
            "text/plain": [
              "20000"
            ]
          },
          "execution_count": 114,
          "metadata": {},
          "output_type": "execute_result"
        }
      ],
      "source": [
        "len(tick_dset)"
      ]
    },
    {
      "cell_type": "code",
      "execution_count": null,
      "metadata": {
        "colab": {
          "base_uri": "https://localhost:8080/"
        },
        "id": "ETe8syqn2XIB",
        "outputId": "5df3da2f-bb0f-4be4-af40-1afc46628ecf"
      },
      "outputs": [
        {
          "data": {
            "text/plain": [
              "[array([1.40000e+01, 2.20000e+01, 2.50000e+01, 8.30000e+01, 9.30000e+01,\n",
              "        9.90000e+01, 1.41000e+02, 1.66000e+02, 2.55000e+02, 3.25000e+02,\n",
              "        3.90000e+02, 4.05000e+02, 4.64000e+02, 4.89000e+02, 5.80000e+02,\n",
              "        6.48000e+02, 1.29500e+03, 1.29800e+03, 1.77200e+03, 1.86900e+03,\n",
              "        2.07500e+03, 2.18400e+03, 2.37300e+03, 3.04800e+03, 3.12600e+03,\n",
              "        4.30800e+03, 5.11600e+03, 5.25100e+03, 5.48200e+03, 6.53700e+03,\n",
              "        9.49300e+03, 1.29140e+04, 1.33560e+04, 1.36220e+04, 1.39660e+04,\n",
              "        1.70640e+04, 2.63890e+04, 2.65550e+04, 2.99210e+04, 3.04130e+04,\n",
              "        3.12950e+04, 3.74210e+04, 4.90970e+04, 5.74800e+04, 9.34570e+04,\n",
              "        9.34570e+04, 1.08301e+05, 1.23679e+05, 1.26921e+05, 2.71133e+05]),\n",
              " array([4.70000e+01, 5.00000e+01, 8.80000e+01, 8.90000e+01, 1.63000e+02,\n",
              "        2.91000e+02, 3.82000e+02, 4.95000e+02, 8.91000e+02, 1.43900e+03,\n",
              "        4.10900e+03, 5.08200e+03, 5.54500e+03, 1.30990e+04, 2.16660e+04,\n",
              "        2.91760e+04, 3.04270e+04, 3.13030e+04, 3.39350e+04, 3.40530e+04,\n",
              "        1.05866e+05, 2.98297e+05]),\n",
              " array([34439., 41900.])]"
            ]
          },
          "execution_count": 115,
          "metadata": {},
          "output_type": "execute_result"
        }
      ],
      "source": [
        "tick_dset[1]"
      ]
    },
    {
      "cell_type": "code",
      "execution_count": null,
      "metadata": {
        "colab": {
          "base_uri": "https://localhost:8080/"
        },
        "id": "UCuiHGiivC2u",
        "outputId": "e415177d-3dcf-443e-f77f-c28370c3dcd2"
      },
      "outputs": [
        {
          "name": "stdout",
          "output_type": "stream",
          "text": [
            "Looking in indexes: https://pypi.org/simple, https://us-python.pkg.dev/colab-wheels/public/simple/\n",
            "Requirement already satisfied: tick in /usr/local/lib/python3.7/dist-packages (0.7.0.1)\n",
            "Requirement already satisfied: matplotlib in /usr/local/lib/python3.7/dist-packages (from tick) (3.2.2)\n",
            "Requirement already satisfied: pandas in /usr/local/lib/python3.7/dist-packages (from tick) (1.3.5)\n",
            "Requirement already satisfied: sphinx in /usr/local/lib/python3.7/dist-packages (from tick) (5.0.2)\n",
            "Requirement already satisfied: dill in /usr/local/lib/python3.7/dist-packages (from tick) (0.3.5.1)\n",
            "Requirement already satisfied: numpy in /usr/local/lib/python3.7/dist-packages (from tick) (1.21.6)\n",
            "Requirement already satisfied: scipy in /usr/local/lib/python3.7/dist-packages (from tick) (1.7.3)\n",
            "Requirement already satisfied: numpydoc in /usr/local/lib/python3.7/dist-packages (from tick) (1.4.0)\n",
            "Requirement already satisfied: scikit-learn in /usr/local/lib/python3.7/dist-packages (from tick) (1.0.2)\n",
            "Requirement already satisfied: cycler>=0.10 in /usr/local/lib/python3.7/dist-packages (from matplotlib->tick) (0.11.0)\n",
            "Requirement already satisfied: python-dateutil>=2.1 in /usr/local/lib/python3.7/dist-packages (from matplotlib->tick) (2.8.2)\n",
            "Requirement already satisfied: pyparsing!=2.0.4,!=2.1.2,!=2.1.6,>=2.0.1 in /usr/local/lib/python3.7/dist-packages (from matplotlib->tick) (3.0.9)\n",
            "Requirement already satisfied: kiwisolver>=1.0.1 in /usr/local/lib/python3.7/dist-packages (from matplotlib->tick) (1.4.3)\n",
            "Requirement already satisfied: typing-extensions in /usr/local/lib/python3.7/dist-packages (from kiwisolver>=1.0.1->matplotlib->tick) (4.1.1)\n",
            "Requirement already satisfied: six>=1.5 in /usr/local/lib/python3.7/dist-packages (from python-dateutil>=2.1->matplotlib->tick) (1.15.0)\n",
            "Requirement already satisfied: Jinja2>=2.10 in /usr/local/lib/python3.7/dist-packages (from numpydoc->tick) (2.11.3)\n",
            "Requirement already satisfied: MarkupSafe>=0.23 in /usr/local/lib/python3.7/dist-packages (from Jinja2>=2.10->numpydoc->tick) (2.0.1)\n",
            "Requirement already satisfied: packaging in /usr/local/lib/python3.7/dist-packages (from sphinx->tick) (21.3)\n",
            "Requirement already satisfied: requests>=2.5.0 in /usr/local/lib/python3.7/dist-packages (from sphinx->tick) (2.23.0)\n",
            "Requirement already satisfied: babel>=1.3 in /usr/local/lib/python3.7/dist-packages (from sphinx->tick) (2.10.3)\n",
            "Requirement already satisfied: docutils<0.19,>=0.14 in /usr/local/lib/python3.7/dist-packages (from sphinx->tick) (0.17.1)\n",
            "Requirement already satisfied: Pygments>=2.0 in /usr/local/lib/python3.7/dist-packages (from sphinx->tick) (2.6.1)\n",
            "Requirement already satisfied: sphinxcontrib-applehelp in /usr/local/lib/python3.7/dist-packages (from sphinx->tick) (1.0.2)\n",
            "Requirement already satisfied: imagesize in /usr/local/lib/python3.7/dist-packages (from sphinx->tick) (1.4.1)\n",
            "Requirement already satisfied: sphinxcontrib-serializinghtml>=1.1.5 in /usr/local/lib/python3.7/dist-packages (from sphinx->tick) (1.1.5)\n",
            "Requirement already satisfied: importlib-metadata>=4.4 in /usr/local/lib/python3.7/dist-packages (from sphinx->tick) (4.12.0)\n",
            "Requirement already satisfied: sphinxcontrib-qthelp in /usr/local/lib/python3.7/dist-packages (from sphinx->tick) (1.0.3)\n",
            "Requirement already satisfied: snowballstemmer>=1.1 in /usr/local/lib/python3.7/dist-packages (from sphinx->tick) (2.2.0)\n",
            "Requirement already satisfied: alabaster<0.8,>=0.7 in /usr/local/lib/python3.7/dist-packages (from sphinx->tick) (0.7.12)\n",
            "Requirement already satisfied: sphinxcontrib-devhelp in /usr/local/lib/python3.7/dist-packages (from sphinx->tick) (1.0.2)\n",
            "Requirement already satisfied: sphinxcontrib-htmlhelp>=2.0.0 in /usr/local/lib/python3.7/dist-packages (from sphinx->tick) (2.0.0)\n",
            "Requirement already satisfied: sphinxcontrib-jsmath in /usr/local/lib/python3.7/dist-packages (from sphinx->tick) (1.0.1)\n",
            "Requirement already satisfied: pytz>=2015.7 in /usr/local/lib/python3.7/dist-packages (from babel>=1.3->sphinx->tick) (2022.1)\n",
            "Requirement already satisfied: zipp>=0.5 in /usr/local/lib/python3.7/dist-packages (from importlib-metadata>=4.4->sphinx->tick) (3.8.0)\n",
            "Requirement already satisfied: chardet<4,>=3.0.2 in /usr/local/lib/python3.7/dist-packages (from requests>=2.5.0->sphinx->tick) (3.0.4)\n",
            "Requirement already satisfied: urllib3!=1.25.0,!=1.25.1,<1.26,>=1.21.1 in /usr/local/lib/python3.7/dist-packages (from requests>=2.5.0->sphinx->tick) (1.24.3)\n",
            "Requirement already satisfied: certifi>=2017.4.17 in /usr/local/lib/python3.7/dist-packages (from requests>=2.5.0->sphinx->tick) (2022.6.15)\n",
            "Requirement already satisfied: idna<3,>=2.5 in /usr/local/lib/python3.7/dist-packages (from requests>=2.5.0->sphinx->tick) (2.10)\n",
            "Requirement already satisfied: threadpoolctl>=2.0.0 in /usr/local/lib/python3.7/dist-packages (from scikit-learn->tick) (3.1.0)\n",
            "Requirement already satisfied: joblib>=0.11 in /usr/local/lib/python3.7/dist-packages (from scikit-learn->tick) (1.1.0)\n"
          ]
        }
      ],
      "source": [
        "!pip install tick"
      ]
    },
    {
      "cell_type": "code",
      "execution_count": null,
      "metadata": {
        "id": "O2gLvRWV2dEJ"
      },
      "outputs": [],
      "source": [
        "import tick\n",
        "from tick.hawkes import HawkesEM\n",
        "\n",
        "em = HawkesEM(3200, kernel_size=50, n_threads=8, verbose=True, tol=1e-3)\n",
        "em.fit(tick_dset[:1000])"
      ]
    },
    {
      "cell_type": "markdown",
      "metadata": {
        "id": "CT5qeBtA4-E1"
      },
      "source": [
        "Let's take a look at the kernels."
      ]
    },
    {
      "cell_type": "code",
      "execution_count": null,
      "metadata": {
        "id": "CVep8NQM2hEi"
      },
      "outputs": [],
      "source": [
        "import numpy as np\n",
        "import matplotlib.pyplot as plt\n",
        "\n",
        "from tick.hawkes import (SimuHawkes, HawkesKernelTimeFunc, HawkesKernelExp,\n",
        "                         HawkesEM)\n",
        "from tick.base import TimeFunction\n",
        "from tick.plot import plot_hawkes_kernels\n",
        "%matplotlib inline\n",
        "\n",
        "\n",
        "fig = plot_hawkes_kernels(em, show=False)"
      ]
    },
    {
      "cell_type": "markdown",
      "metadata": {
        "id": "Gioj4XzA5EdV"
      },
      "source": [
        "The log likelihood per event is as follow."
      ]
    },
    {
      "cell_type": "markdown",
      "metadata": {
        "id": "o7PsSK2oxmgW"
      },
      "source": [
        "Train"
      ]
    },
    {
      "cell_type": "code",
      "execution_count": null,
      "metadata": {
        "id": "d_0rmVG35B7X"
      },
      "outputs": [],
      "source": [
        "em.score(tick_dset[:1000])/sum([sum([len(j) for j in i]) for i in tick_dset[:1000]])"
      ]
    },
    {
      "cell_type": "markdown",
      "metadata": {
        "id": "Nar3GPsExoso"
      },
      "source": [
        "Validation"
      ]
    },
    {
      "cell_type": "code",
      "execution_count": null,
      "metadata": {
        "id": "UeA9W7PKxljI"
      },
      "outputs": [],
      "source": [
        "em.score(tick_dset[1000:2000])/sum([sum([len(j) for j in i]) for i in tick_dset[1000:2000]])"
      ]
    },
    {
      "cell_type": "markdown",
      "metadata": {
        "id": "5AysgSRn5Hmx"
      },
      "source": [
        "### Transfromer Hawkes"
      ]
    },
    {
      "cell_type": "markdown",
      "metadata": {
        "id": "u5lStSZ9Yu41"
      },
      "source": [
        "#### Multihead attention"
      ]
    },
    {
      "cell_type": "markdown",
      "metadata": {
        "id": "BI7QqkCjZcMa"
      },
      "source": [
        "Multihead attention is implemented with two classes. The first one `ScaledDotProductAttention` is auxiliar class for final attention score computations. It computes attention scores given queries, keys and values.\n",
        "\n",
        "`MultiHeadAttention` is the main attention class that takes input tensors and returns attention output and scores. Here the arguments of forward pass `forward(self, q, k, v, mask=None)` takes `q`, `k` and `v`, they will be identical in the Encoder."
      ]
    },
    {
      "cell_type": "code",
      "execution_count": null,
      "metadata": {
        "id": "-K8HyfVzYxER"
      },
      "outputs": [],
      "source": [
        "import numpy as np\n",
        "import torch\n",
        "import torch.nn as nn\n",
        "import torch.nn.functional as F\n",
        "\n",
        "\n",
        "class ScaledDotProductAttention(nn.Module):\n",
        "    \"\"\" Scaled Dot-Product Attention \"\"\"\n",
        "\n",
        "    def __init__(self, temperature, attn_dropout=0.2):\n",
        "        super().__init__()\n",
        "\n",
        "        self.temperature = temperature\n",
        "        self.dropout = nn.Dropout(attn_dropout)\n",
        "\n",
        "    def forward(self, q, k, v, mask=None):\n",
        "        attn = torch.matmul(q / self.temperature, k.transpose(2, 3))\n",
        "\n",
        "        if mask is not None:\n",
        "            attn = attn.masked_fill(mask, -1e9)\n",
        "\n",
        "        attn = self.dropout(F.softmax(attn, dim=-1))\n",
        "        output = torch.matmul(attn, v)\n",
        "\n",
        "        return output, attn\n",
        "\n",
        "\n",
        "class MultiHeadAttention(nn.Module):\n",
        "    \"\"\" Multi-Head Attention module \"\"\"\n",
        "\n",
        "    def __init__(self, n_head, d_model, d_k, d_v, dropout=0.1, normalize_before=True):\n",
        "        super().__init__()\n",
        "\n",
        "        self.normalize_before = normalize_before\n",
        "        self.n_head = n_head\n",
        "        self.d_k = d_k\n",
        "        self.d_v = d_v\n",
        "\n",
        "        self.w_qs = nn.Linear(d_model, n_head * d_k, bias=False)\n",
        "        self.w_ks = nn.Linear(d_model, n_head * d_k, bias=False)\n",
        "        self.w_vs = nn.Linear(d_model, n_head * d_v, bias=False)\n",
        "        nn.init.xavier_uniform_(self.w_qs.weight)\n",
        "        nn.init.xavier_uniform_(self.w_ks.weight)\n",
        "        nn.init.xavier_uniform_(self.w_vs.weight)\n",
        "\n",
        "        self.fc = nn.Linear(d_v * n_head, d_model)\n",
        "        nn.init.xavier_uniform_(self.fc.weight)\n",
        "\n",
        "        self.attention = ScaledDotProductAttention(temperature=d_k ** 0.5, attn_dropout=dropout)\n",
        "\n",
        "        self.layer_norm = nn.LayerNorm(d_model, eps=1e-6)\n",
        "        self.dropout = nn.Dropout(dropout)\n",
        "\n",
        "    def forward(self, q, k, v, mask=None):\n",
        "        d_k, d_v, n_head = self.d_k, self.d_v, self.n_head\n",
        "        sz_b, len_q, len_k, len_v = q.size(0), q.size(1), k.size(1), v.size(1)\n",
        "\n",
        "        residual = q\n",
        "        if self.normalize_before:\n",
        "            q = self.layer_norm(q)\n",
        "\n",
        "        # Pass through the pre-attention projection: b x lq x (n*dv)\n",
        "        # Separate different heads: b x lq x n x dv\n",
        "        q = self.w_qs(q).view(sz_b, len_q, n_head, d_k)\n",
        "        k = self.w_ks(k).view(sz_b, len_k, n_head, d_k)\n",
        "        v = self.w_vs(v).view(sz_b, len_v, n_head, d_v)\n",
        "\n",
        "        # Transpose for attention dot product: b x n x lq x dv\n",
        "        q, k, v = q.transpose(1, 2), k.transpose(1, 2), v.transpose(1, 2)\n",
        "\n",
        "        if mask is not None:\n",
        "            mask = mask.unsqueeze(1)  # For head axis broadcasting.\n",
        "\n",
        "        output, attn = self.attention(q, k, v, mask=mask)\n",
        "\n",
        "        # Transpose to move the head dimension back: b x lq x n x dv\n",
        "        # Combine the last two dimensions to concatenate all the heads together: b x lq x (n*dv)\n",
        "        output = output.transpose(1, 2).contiguous().view(sz_b, len_q, -1)\n",
        "        output = self.dropout(self.fc(output))\n",
        "        output += residual\n",
        "\n",
        "        if not self.normalize_before:\n",
        "            output = self.layer_norm(output)\n",
        "        return output, attn"
      ]
    },
    {
      "cell_type": "markdown",
      "metadata": {
        "id": "EAqenG_SbE5_"
      },
      "source": [
        "#### Feedforward layer"
      ]
    },
    {
      "cell_type": "markdown",
      "metadata": {
        "id": "NSS945OzdVm0"
      },
      "source": [
        "Now we should implement two-layer feed-forward network with dropout."
      ]
    },
    {
      "cell_type": "code",
      "execution_count": null,
      "metadata": {
        "id": "HFnBwre-bHjH"
      },
      "outputs": [],
      "source": [
        "class PositionwiseFeedForward(nn.Module):\n",
        "    \"\"\" Two-layer position-wise feed-forward neural network. \"\"\"\n",
        "\n",
        "    def __init__(self, d_in, d_hid, dropout=0.1, normalize_before=True):\n",
        "        super().__init__()\n",
        "\n",
        "        self.normalize_before = normalize_before\n",
        "\n",
        "        self.w_1 = nn.Linear(d_in, d_hid)\n",
        "        self.w_2 = nn.Linear(d_hid, d_in)\n",
        "\n",
        "        self.layer_norm = nn.LayerNorm(d_in, eps=1e-6)\n",
        "        self.dropout = nn.Dropout(dropout)\n",
        "\n",
        "    def forward(self, x):\n",
        "        residual = x\n",
        "        if self.normalize_before:\n",
        "            x = self.layer_norm(x)\n",
        "\n",
        "        x = F.gelu(self.w_1(x))\n",
        "        x = self.dropout(x)\n",
        "        x = self.w_2(x)\n",
        "        x = self.dropout(x)\n",
        "        x = x + residual\n",
        "\n",
        "        if not self.normalize_before:\n",
        "            x = self.layer_norm(x)\n",
        "        return x"
      ]
    },
    {
      "cell_type": "markdown",
      "metadata": {
        "id": "0Vtt7PVaYf_F"
      },
      "source": [
        "#### Encoder Layer"
      ]
    },
    {
      "cell_type": "markdown",
      "metadata": {
        "id": "Z1UAccVIdftJ"
      },
      "source": [
        "Let's combine implemneted layers and construct Encoder layer.\n",
        "\n",
        "Here you can see that Encoder layer takes exactly one encoder_input and sends it to attention mechanism. Also it takes two masks. The first mask indicates true sequence values and we need it to zero everything that corresponds to zero padding. The second one indicates values that we need to mask so that the model doesn't peek into future."
      ]
    },
    {
      "cell_type": "code",
      "execution_count": null,
      "metadata": {
        "id": "p5YpAfapdpEf"
      },
      "outputs": [],
      "source": [
        "class EncoderLayer(nn.Module):\n",
        "    \"\"\" Compose with two layers \"\"\"\n",
        "\n",
        "    def __init__(self, d_model, d_inner, n_head, d_k, d_v, dropout=0.1, normalize_before=True):\n",
        "        super(EncoderLayer, self).__init__()\n",
        "        self.slf_attn = MultiHeadAttention(\n",
        "            n_head, d_model, d_k, d_v, dropout=dropout, normalize_before=normalize_before)\n",
        "        self.pos_ffn = PositionwiseFeedForward(\n",
        "            d_model, d_inner, dropout=dropout, normalize_before=normalize_before)\n",
        "\n",
        "    def forward(self, enc_input, non_pad_mask=None, slf_attn_mask=None):\n",
        "        enc_output, enc_slf_attn = self.slf_attn(\n",
        "            enc_input, enc_input, enc_input, mask=slf_attn_mask)\n",
        "        enc_output *= non_pad_mask\n",
        "\n",
        "        enc_output = self.pos_ffn(enc_output)\n",
        "        enc_output *= non_pad_mask\n",
        "\n",
        "        return enc_output, enc_slf_attn"
      ]
    },
    {
      "cell_type": "markdown",
      "metadata": {
        "id": "IAmSzWCQ5z07"
      },
      "source": [
        "#### Utils functions"
      ]
    },
    {
      "cell_type": "markdown",
      "metadata": {
        "id": "lI--1oV155ym"
      },
      "source": [
        "Additional funciton that we need for our model.\n",
        "\n",
        "`get_non_pad_mask` return the non-padding positions.\n",
        "\n",
        "`get_attn_key_pad_mask` same, but for key sequence.\n",
        "\n",
        "`get_subsequent_mask` computes mask that is needed for future masking, so that our model doesn't peek into the future."
      ]
    },
    {
      "cell_type": "code",
      "execution_count": null,
      "metadata": {
        "id": "vo4nlQIC5Gz6"
      },
      "outputs": [],
      "source": [
        "def get_non_pad_mask(seq):\n",
        "    \"\"\" Get the non-padding positions. \"\"\"\n",
        "\n",
        "    assert seq.dim() == 2\n",
        "    return seq.ne(0).type(torch.float).unsqueeze(-1)\n",
        "\n",
        "\n",
        "def get_attn_key_pad_mask(seq_k, seq_q):\n",
        "    \"\"\" For masking out the padding part of key sequence. \"\"\"\n",
        "\n",
        "    # expand to fit the shape of key query attention matrix\n",
        "    len_q = seq_q.size(1)\n",
        "    padding_mask = seq_k.eq(0)\n",
        "    padding_mask = padding_mask.unsqueeze(1).expand(-1, len_q, -1)  # b x lq x lk\n",
        "    return padding_mask\n",
        "\n",
        "\n",
        "def get_subsequent_mask(seq):\n",
        "    \"\"\" For masking out the subsequent info, i.e., masked self-attention. \"\"\"\n",
        "\n",
        "    sz_b, len_s = seq.size()\n",
        "    subsequent_mask = torch.triu(\n",
        "        torch.ones((len_s, len_s), device=seq.device, dtype=torch.uint8), diagonal=1)\n",
        "    subsequent_mask = subsequent_mask.unsqueeze(0).expand(sz_b, -1, -1)  # b x ls x ls\n",
        "    return subsequent_mask"
      ]
    },
    {
      "cell_type": "markdown",
      "metadata": {
        "id": "gjBYagUBhwDd"
      },
      "source": [
        "#### Encoder"
      ]
    },
    {
      "cell_type": "markdown",
      "metadata": {
        "id": "h89xsMv-iEYa"
      },
      "source": [
        "Now we should implement multilayer encoder."
      ]
    },
    {
      "cell_type": "code",
      "execution_count": null,
      "metadata": {
        "id": "IP1c3NAhhx2g"
      },
      "outputs": [],
      "source": [
        "import math\n",
        "\n",
        "class Encoder(nn.Module):\n",
        "    \"\"\" A encoder model with self attention mechanism. \"\"\"\n",
        "\n",
        "    def __init__(\n",
        "            self,\n",
        "            num_types, d_model, d_inner,\n",
        "            n_layers, n_head, d_k, d_v, dropout):\n",
        "        super().__init__()\n",
        "\n",
        "        self.d_model = d_model\n",
        "\n",
        "        # position vector, used for temporal encoding\n",
        "        self.position_vec = torch.tensor(\n",
        "            [math.pow(10000.0, 2.0 * (i // 2) / d_model) for i in range(d_model)],\n",
        "            device=torch.device('cuda'))\n",
        "\n",
        "        # event type embedding\n",
        "        self.event_emb = nn.Embedding(num_types + 1, d_model, padding_idx=0)\n",
        "\n",
        "        self.layer_stack = nn.ModuleList([\n",
        "            EncoderLayer(d_model, d_inner, n_head, d_k, d_v, dropout=dropout, normalize_before=False)\n",
        "            for _ in range(n_layers)])\n",
        "\n",
        "    def temporal_enc(self, time, non_pad_mask):\n",
        "        \"\"\"\n",
        "        Input: batch*seq_len.\n",
        "        Output: batch*seq_len*d_model.\n",
        "        \"\"\"\n",
        "\n",
        "        result = time.unsqueeze(-1) / self.position_vec\n",
        "        result[:, :, 0::2] = torch.sin(result[:, :, 0::2])\n",
        "        result[:, :, 1::2] = torch.cos(result[:, :, 1::2])\n",
        "        return result * non_pad_mask\n",
        "\n",
        "    def forward(self, event_type, event_time, non_pad_mask):\n",
        "        \"\"\" Encode event sequences via masked self-attention. \"\"\"\n",
        "\n",
        "        # prepare attention masks\n",
        "        # slf_attn_mask is where we cannot look, i.e., the future and the padding\n",
        "        slf_attn_mask_subseq = get_subsequent_mask(event_type)\n",
        "        slf_attn_mask_keypad = get_attn_key_pad_mask(seq_k=event_type, seq_q=event_type)\n",
        "        slf_attn_mask_keypad = slf_attn_mask_keypad.type_as(slf_attn_mask_subseq)\n",
        "        slf_attn_mask = (slf_attn_mask_keypad + slf_attn_mask_subseq).gt(0)\n",
        "\n",
        "        tem_enc = self.temporal_enc(event_time, non_pad_mask)\n",
        "        enc_output = self.event_emb(event_type)\n",
        "\n",
        "        for enc_layer in self.layer_stack:\n",
        "            enc_output += tem_enc\n",
        "            enc_output, _ = enc_layer(\n",
        "                enc_output,\n",
        "                non_pad_mask=non_pad_mask,\n",
        "                slf_attn_mask=slf_attn_mask)\n",
        "        return enc_output"
      ]
    },
    {
      "cell_type": "markdown",
      "metadata": {
        "id": "q6kDGd9WimTj"
      },
      "source": [
        "#### Transformer Model"
      ]
    },
    {
      "cell_type": "markdown",
      "metadata": {
        "id": "yn-8FC1vixVA"
      },
      "source": [
        "Now let's construct the Transformer model. We won't predict return time and event type now and will focus on the negative log-likelihood comparison with the baseline model."
      ]
    },
    {
      "cell_type": "code",
      "execution_count": null,
      "metadata": {
        "id": "kWfKCCyCioj7"
      },
      "outputs": [],
      "source": [
        "class Transformer(nn.Module):\n",
        "    \"\"\" A sequence to sequence model with attention mechanism. \"\"\"\n",
        "\n",
        "    def __init__(\n",
        "            self,\n",
        "            num_types, d_model=256, d_inner=1024,\n",
        "            n_layers=4, n_head=4, d_k=64, d_v=64, dropout=0.1):\n",
        "        super().__init__()\n",
        "\n",
        "        self.encoder = Encoder(\n",
        "            num_types=num_types,\n",
        "            d_model=d_model,\n",
        "            d_inner=d_inner,\n",
        "            n_layers=n_layers,\n",
        "            n_head=n_head,\n",
        "            d_k=d_k,\n",
        "            d_v=d_v,\n",
        "            dropout=dropout,\n",
        "        )\n",
        "\n",
        "        self.num_types = num_types\n",
        "\n",
        "        # convert hidden vectors into a scalar\n",
        "        self.linear = nn.Linear(d_model, num_types)\n",
        "\n",
        "        # parameter for the weight of time difference\n",
        "        self.alpha = nn.Parameter(torch.tensor(-0.1))\n",
        "\n",
        "        # parameter for the softplus function\n",
        "        self.beta = nn.Parameter(torch.tensor(1.0))\n",
        "\n",
        "    def forward(self, event_type, event_time):\n",
        "        \"\"\"\n",
        "        Return the hidden representations and predictions.\n",
        "        For a sequence (l_1, l_2, ..., l_N), we predict (l_2, ..., l_N, l_{N+1}).\n",
        "        Input: event_type: batch*seq_len;\n",
        "               event_time: batch*seq_len.\n",
        "        Output: enc_output: batch*seq_len*model_dim;\n",
        "                type_prediction: batch*seq_len*num_classes (not normalized);\n",
        "                time_prediction: batch*seq_len.\n",
        "        \"\"\"\n",
        "\n",
        "        non_pad_mask = get_non_pad_mask(event_type)\n",
        "\n",
        "        enc_output = self.encoder(event_type, event_time, non_pad_mask)\n",
        "\n",
        "        return enc_output"
      ]
    },
    {
      "cell_type": "markdown",
      "metadata": {
        "id": "g1EGmdZ16OV3"
      },
      "source": [
        "#### Dataset"
      ]
    },
    {
      "cell_type": "markdown",
      "metadata": {
        "id": "5Bi3seKDj9AV"
      },
      "source": [
        "Here we introduce classes and function to setup dataloader."
      ]
    },
    {
      "cell_type": "code",
      "execution_count": null,
      "metadata": {
        "id": "UgeLOtVL6JGD"
      },
      "outputs": [],
      "source": [
        "class EventData(torch.utils.data.Dataset):\n",
        "    \"\"\" Event stream dataset. \"\"\"\n",
        "\n",
        "    def __init__(self, data):\n",
        "        \"\"\"\n",
        "        Data should be a list of event streams; each event stream is a list of dictionaries;\n",
        "        each dictionary contains: time_since_start, time_since_last_event, type_event\n",
        "        \"\"\"\n",
        "        self.time = [[elem[b'time_since_start'] for elem in inst] for inst in data]\n",
        "        self.time_gap = [[elem[b'time_since_last_event'] for elem in inst] for inst in data]\n",
        "        # plus 1 since there could be event type 0, but we use 0 as padding\n",
        "        self.event_type = [[elem[b'type_event'] + 1 for elem in inst] for inst in data]\n",
        "\n",
        "        self.length = len(data)\n",
        "\n",
        "    def __len__(self):\n",
        "        return self.length\n",
        "\n",
        "    def __getitem__(self, idx):\n",
        "        \"\"\" Each returned element is a list, which represents an event stream \"\"\"\n",
        "        return self.time[idx], self.time_gap[idx], self.event_type[idx]\n",
        "\n",
        "\n",
        "def pad_time(insts):\n",
        "    \"\"\" Pad the instance to the max seq length in batch. \"\"\"\n",
        "\n",
        "    max_len = max(len(inst) for inst in insts)\n",
        "\n",
        "    batch_seq = np.array([\n",
        "        inst + [0] * (max_len - len(inst))\n",
        "        for inst in insts])\n",
        "\n",
        "    return torch.tensor(batch_seq, dtype=torch.float32)\n",
        "\n",
        "\n",
        "def pad_type(insts):\n",
        "    \"\"\" Pad the instance to the max seq length in batch. \"\"\"\n",
        "\n",
        "    max_len = max(len(inst) for inst in insts)\n",
        "\n",
        "    batch_seq = np.array([\n",
        "        inst + [0] * (max_len - len(inst))\n",
        "        for inst in insts])\n",
        "\n",
        "    return torch.tensor(batch_seq, dtype=torch.long)\n",
        "\n",
        "\n",
        "def collate_fn(insts):\n",
        "    \"\"\" Collate function, as required by PyTorch. \"\"\"\n",
        "\n",
        "    time, time_gap, event_type = list(zip(*insts))\n",
        "    time = pad_time(time)\n",
        "    time_gap = pad_time(time_gap)\n",
        "    event_type = pad_type(event_type)\n",
        "    return time, time_gap, event_type\n",
        "\n",
        "\n",
        "def get_dataloader(data, batch_size, shuffle=True):\n",
        "    \"\"\" Prepare dataloader. \"\"\"\n",
        "\n",
        "    ds = EventData(data)\n",
        "    dl = torch.utils.data.DataLoader(\n",
        "        ds,\n",
        "        num_workers=2,\n",
        "        batch_size=batch_size,\n",
        "        collate_fn=collate_fn,\n",
        "        shuffle=shuffle\n",
        "    )\n",
        "    return dl"
      ]
    },
    {
      "cell_type": "markdown",
      "metadata": {
        "id": "TmcpRnWMkFax"
      },
      "source": [
        "#### Log-likelihood computation"
      ]
    },
    {
      "cell_type": "code",
      "execution_count": null,
      "metadata": {
        "id": "EKQ4snGHkJIe"
      },
      "outputs": [],
      "source": [
        "def softplus(x, beta):\n",
        "    # hard thresholding at 20\n",
        "    temp = beta * x\n",
        "    temp[temp > 20] = 20\n",
        "    return 1.0 / beta * torch.log(1 + torch.exp(temp))\n",
        "\n",
        "\n",
        "def compute_event(event, non_pad_mask):\n",
        "    \"\"\" Log-likelihood of events. \"\"\"\n",
        "\n",
        "    # add 1e-9 in case some events have 0 likelihood\n",
        "    event += math.pow(10, -9)\n",
        "    event.masked_fill_(~non_pad_mask.bool(), 1.0)\n",
        "\n",
        "    result = torch.log(event)\n",
        "    return result\n",
        "\n",
        "\n",
        "def compute_integral_biased(all_lambda, time, non_pad_mask):\n",
        "    \"\"\" Log-likelihood of non-events, using linear interpolation. \"\"\"\n",
        "\n",
        "    diff_time = (time[:, 1:] - time[:, :-1]) * non_pad_mask[:, 1:]\n",
        "    diff_lambda = (all_lambda[:, 1:] + all_lambda[:, :-1]) * non_pad_mask[:, 1:]\n",
        "\n",
        "    biased_integral = diff_lambda * diff_time\n",
        "    result = 0.5 * biased_integral\n",
        "    return result\n",
        "\n",
        "\n",
        "def compute_integral_unbiased(model, data, time, non_pad_mask, type_mask):\n",
        "    \"\"\" Log-likelihood of non-events, using Monte Carlo integration. \"\"\"\n",
        "\n",
        "    num_samples = 100\n",
        "\n",
        "    diff_time = (time[:, 1:] - time[:, :-1]) * non_pad_mask[:, 1:]\n",
        "    temp_time = diff_time.unsqueeze(2) * \\\n",
        "                torch.rand([*diff_time.size(), num_samples], device=data.device)\n",
        "    temp_time /= (time[:, :-1] + 1).unsqueeze(2)\n",
        "\n",
        "    temp_hid = model.linear(data)[:, 1:, :]\n",
        "    temp_hid = torch.sum(temp_hid * type_mask[:, 1:, :], dim=2, keepdim=True)\n",
        "\n",
        "    all_lambda = softplus(temp_hid + model.alpha * temp_time, model.beta)\n",
        "    all_lambda = torch.sum(all_lambda, dim=2) / num_samples\n",
        "\n",
        "    unbiased_integral = all_lambda * diff_time\n",
        "    return unbiased_integral\n",
        "\n",
        "\n",
        "def log_likelihood(model, data, time, types):\n",
        "    \"\"\" Log-likelihood of sequence. \"\"\"\n",
        "\n",
        "    non_pad_mask = get_non_pad_mask(types).squeeze(2)\n",
        "\n",
        "    type_mask = torch.zeros([*types.size(), model.num_types], device=data.device)\n",
        "    for i in range(model.num_types):\n",
        "        type_mask[:, :, i] = (types == i + 1).bool().to(data.device)\n",
        "\n",
        "    all_hid = model.linear(data)\n",
        "    all_lambda = softplus(all_hid, model.beta)\n",
        "    type_lambda = torch.sum(all_lambda * type_mask, dim=2)\n",
        "\n",
        "    # event log-likelihood\n",
        "    event_ll = compute_event(type_lambda, non_pad_mask)\n",
        "    event_ll = torch.sum(event_ll, dim=-1)\n",
        "\n",
        "    # non-event log-likelihood, either numerical integration or MC integration\n",
        "    # non_event_ll = compute_integral_biased(type_lambda, time, non_pad_mask)\n",
        "    non_event_ll = compute_integral_unbiased(model, data, time, non_pad_mask, type_mask)\n",
        "    non_event_ll = torch.sum(non_event_ll, dim=-1)\n",
        "\n",
        "    return event_ll, non_event_ll"
      ]
    },
    {
      "cell_type": "markdown",
      "metadata": {
        "id": "jDRFZ0KK6g5d"
      },
      "source": [
        "#### Training"
      ]
    },
    {
      "cell_type": "code",
      "execution_count": null,
      "metadata": {
        "id": "_qfQsu9xkfNs"
      },
      "outputs": [],
      "source": [
        "def train(model, train_loader, optimizer, epoch, device):\n",
        "    model.train()\n",
        "    ll = []\n",
        "    for batch_idx, (times, _, event_types) in enumerate(train_loader):\n",
        "        optimizer.zero_grad()\n",
        "        times, event_types = times.to(device), event_types.to(device)\n",
        "        enc_out = model(event_types, times)\n",
        "        event_ll, non_event_ll = log_likelihood(model, enc_out, times, event_types)\n",
        "        log_likelihood_value = torch.sum(event_ll - non_event_ll)\n",
        "        ll_per_event = log_likelihood_value.cpu().item()/torch.sum(get_non_pad_mask(event_types)).cpu()\n",
        "        ll.append(float(ll_per_event))\n",
        "        negative_ll = - log_likelihood_value\n",
        "        negative_ll.backward()\n",
        "        optimizer.step()\n",
        "    return np.mean(ll)\n",
        "\n",
        "def validate(model, val_loader, epoch, device):\n",
        "    model.eval()\n",
        "    ll = []\n",
        "    for batch_idx, (times, _, event_types) in enumerate(val_loader):\n",
        "        times, event_types = times.to(device), event_types.to(device)\n",
        "        enc_out = model(event_types, times)\n",
        "        event_ll, non_event_ll = log_likelihood(model, enc_out, times, event_types)\n",
        "        log_likelihood_value = torch.sum(event_ll - non_event_ll)\n",
        "        ll_per_event = log_likelihood_value.cpu().item()/torch.sum(get_non_pad_mask(event_types)).cpu()\n",
        "        ll.append(float(ll_per_event))\n",
        "    return np.mean(ll)"
      ]
    },
    {
      "cell_type": "code",
      "execution_count": null,
      "metadata": {
        "colab": {
          "background_save": true,
          "base_uri": "https://localhost:8080/",
          "height": 624
        },
        "id": "s20fN6Sx6cG3",
        "outputId": "9f5465f9-7886-4f78-e78e-8de3922702b9"
      },
      "outputs": [
        {
          "data": {
            "image/png": "[encoded data removed]",
            "text/plain": [
              "<Figure size 1600x700 with 2 Axes>"
            ]
          },
          "metadata": {},
          "output_type": "display_data"
        }
      ],
      "source": [
        "import matplotlib.pyplot as plt\n",
        "from IPython.display import clear_output\n",
        "%matplotlib inline\n",
        "\n",
        "train_dataloader = get_dataloader(train_dset[b'train'][:1000], 20, True)\n",
        "validation_dataloader = get_dataloader(train_dset[b'train'][1000:2000], 20)\n",
        "\n",
        "device = 'cuda'\n",
        "model = Transformer(3).to(device)\n",
        "\n",
        "optimizer = torch.optim.Adam(model.parameters(), lr = 1e-2, weight_decay=1e-5)\n",
        "sch = torch.optim.lr_scheduler.ReduceLROnPlateau(optimizer, factor=0.1, patience=20, threshold=0.001)\n",
        "\n",
        "losses = []\n",
        "losses_val = []\n",
        "\n",
        "for epoch in range(200):\n",
        "  clear_output(wait=True)\n",
        "  l = train(model, train_dataloader, optimizer, epoch, device)\n",
        "  lv = validate(model, validation_dataloader, epoch, device)\n",
        "  losses.append(l)\n",
        "  losses_val.append(lv)\n",
        "  sch.step(-l)\n",
        "\n",
        "  fig, axes = plt.subplots(1, 2, figsize=(16,7))\n",
        "  axes[0].plot(losses, label = \"Last value = {}\".format(l))\n",
        "  axes[0].legend(fontsize=16, loc=\"upper right\", bbox_to_anchor=(1,1))\n",
        "  axes[0].set_title('Train log likelihood per event', fontsize=16)\n",
        "  axes[1].plot(losses_val, label = \"Last value = {}\".format(lv))\n",
        "  axes[1].legend(fontsize=16, loc=\"upper right\", bbox_to_anchor=(1,1))\n",
        "  axes[1].set_title('Validation log likelihood per event', fontsize=16)\n",
        "  plt.show()"
      ]
    },
    {
      "cell_type": "code",
      "execution_count": null,
      "metadata": {
        "id": "d42Hxi_G6nf1"
      },
      "outputs": [],
      "source": []
    }
  ],
  "metadata": {
    "accelerator": "GPU",
    "colab": {
      "provenance": []
    },
    "gpuClass": "standard",
    "kernelspec": {
      "display_name": "Python 3",
      "name": "python3"
    },
    "language_info": {
      "name": "python"
    }
  },
  "nbformat": 4,
  "nbformat_minor": 0
}