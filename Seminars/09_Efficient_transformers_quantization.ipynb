{
  "cells": [
    {
      "cell_type": "markdown",
      "metadata": {
        "id": "BjpXhqlD3YB9"
      },
      "source": [
        "**Create quantizised version of GPT-2 and save the memory =)**\n",
        "\n",
        "Egor Shvetsov, Viktoriia Chekalina"
      ]
    },
    {
      "cell_type": "code",
      "execution_count": 5,
      "metadata": {
        "colab": {
          "base_uri": "https://localhost:8080/"
        },
        "id": "20tBT4dDFX5g",
        "outputId": "ae024466-b8f9-490d-c16f-4fdf81beb663"
      },
      "outputs": [
        {
          "output_type": "stream",
          "name": "stdout",
          "text": [
            "Requirement already satisfied: transformers in /usr/local/lib/python3.10/dist-packages (4.35.2)\n",
            "Requirement already satisfied: filelock in /usr/local/lib/python3.10/dist-packages (from transformers) (3.13.1)\n",
            "Requirement already satisfied: huggingface-hub<1.0,>=0.16.4 in /usr/local/lib/python3.10/dist-packages (from transformers) (0.19.4)\n",
            "Requirement already satisfied: numpy>=1.17 in /usr/local/lib/python3.10/dist-packages (from transformers) (1.23.5)\n",
            "Requirement already satisfied: packaging>=20.0 in /usr/local/lib/python3.10/dist-packages (from transformers) (23.2)\n",
            "Requirement already satisfied: pyyaml>=5.1 in /usr/local/lib/python3.10/dist-packages (from transformers) (6.0.1)\n",
            "Requirement already satisfied: regex!=2019.12.17 in /usr/local/lib/python3.10/dist-packages (from transformers) (2023.6.3)\n",
            "Requirement already satisfied: requests in /usr/local/lib/python3.10/dist-packages (from transformers) (2.31.0)\n",
            "Requirement already satisfied: tokenizers<0.19,>=0.14 in /usr/local/lib/python3.10/dist-packages (from transformers) (0.15.0)\n",
            "Requirement already satisfied: safetensors>=0.3.1 in /usr/local/lib/python3.10/dist-packages (from transformers) (0.4.1)\n",
            "Requirement already satisfied: tqdm>=4.27 in /usr/local/lib/python3.10/dist-packages (from transformers) (4.66.1)\n",
            "Requirement already satisfied: fsspec>=2023.5.0 in /usr/local/lib/python3.10/dist-packages (from huggingface-hub<1.0,>=0.16.4->transformers) (2023.6.0)\n",
            "Requirement already satisfied: typing-extensions>=3.7.4.3 in /usr/local/lib/python3.10/dist-packages (from huggingface-hub<1.0,>=0.16.4->transformers) (4.5.0)\n",
            "Requirement already satisfied: charset-normalizer<4,>=2 in /usr/local/lib/python3.10/dist-packages (from requests->transformers) (3.3.2)\n",
            "Requirement already satisfied: idna<4,>=2.5 in /usr/local/lib/python3.10/dist-packages (from requests->transformers) (3.6)\n",
            "Requirement already satisfied: urllib3<3,>=1.21.1 in /usr/local/lib/python3.10/dist-packages (from requests->transformers) (2.0.7)\n",
            "Requirement already satisfied: certifi>=2017.4.17 in /usr/local/lib/python3.10/dist-packages (from requests->transformers) (2023.11.17)\n"
          ]
        }
      ],
      "source": [
        "! pip install transformers"
      ]
    },
    {
      "cell_type": "code",
      "execution_count": 6,
      "metadata": {
        "id": "bgm9EjAdApon"
      },
      "outputs": [],
      "source": [
        "device = 'cuda:0'"
      ]
    },
    {
      "cell_type": "markdown",
      "metadata": {
        "id": "VEXnwbzgVE-t"
      },
      "source": [
        "## Class Quantizator"
      ]
    },
    {
      "cell_type": "code",
      "execution_count": 7,
      "metadata": {
        "id": "o-x83_e5V9cW"
      },
      "outputs": [],
      "source": [
        "import numpy as np\n",
        "\n",
        "import torch\n",
        "import torch.nn as nn\n",
        "import torch.optim as optim\n",
        "import torch.nn.functional as F\n",
        "\n",
        "import matplotlib.pyplot as plt"
      ]
    },
    {
      "cell_type": "markdown",
      "metadata": {
        "id": "9Z-NJ79EApop"
      },
      "source": [
        "![](https://drive.google.com/uc?export=view&id=1qG2l66t1tZNk-V-CQs80e-DiyevAF2ea)"
      ]
    },
    {
      "cell_type": "code",
      "execution_count": 8,
      "metadata": {
        "id": "gb0gzK2QVK6I"
      },
      "outputs": [],
      "source": [
        "class Quantizer(nn.Module):\n",
        "    def __init__(self, bit):\n",
        "\n",
        "        super(Quantizer, self).__init__()\n",
        "        self.bit = bit\n",
        "        self.thd_neg = -(2 ** (bit - 1))\n",
        "        self.thd_pos = 2 ** (bit - 1) - 1\n",
        "        #print (\"bit, pos, neg\", bit, self.thd_neg, self.thd_pos)\n",
        "        self.s = nn.Parameter(torch.ones(1))\n",
        "\n",
        "    def init_from(self, x):\n",
        "        #print (\"x.max(), x.min()\", x.max(), x.min())\n",
        "        s = (x.max() - x.min()) / (self.thd_pos - self.thd_neg )\n",
        "        #print (\"s\", s)\n",
        "        self.s = nn.Parameter(s)\n",
        "\n",
        "    def skip_grad_scale(self,x, scale):\n",
        "        y = x\n",
        "        y_grad = x * scale\n",
        "        return (y - y_grad).detach() + y_grad\n",
        "\n",
        "    def round_pass(self, x): # round ans clip are not differentiable\n",
        "        y = x.round()\n",
        "        y_grad = x\n",
        "        return (y - y_grad).detach() + y_grad\n",
        "\n",
        "    def forward(self, x):\n",
        "        if self.bit >= 32:\n",
        "            return x\n",
        "\n",
        "        s_grad_scale = 1.0 / ((self.thd_pos * x.numel()) ** 0.5)\n",
        "\n",
        "        #print (\"s_grad_scale\", s_grad_scale)\n",
        "        device = x.device\n",
        "\n",
        "        s_scale = self.skip_grad_scale(self.s, s_grad_scale).to(device)\n",
        "\n",
        "        #print (\"s_scale\", s_scale)\n",
        "\n",
        "        x = x / (s_scale) # go to new space\n",
        "        x = torch.clamp(x, self.thd_neg, self.thd_pos) # clip\n",
        "        x = self.round_pass(x) #go back\n",
        "        x = x * (s_scale)\n",
        "        return x"
      ]
    },
    {
      "cell_type": "code",
      "execution_count": 9,
      "metadata": {
        "id": "X7TvAtimApop"
      },
      "outputs": [],
      "source": [
        "vector =(np.arange(-10, 10, 1))**2"
      ]
    },
    {
      "cell_type": "code",
      "execution_count": 10,
      "metadata": {
        "colab": {
          "base_uri": "https://localhost:8080/"
        },
        "id": "AJ8R5k1eApop",
        "outputId": "b6b38ed6-2f8c-44e3-cbb9-be7280da78a3"
      },
      "outputs": [
        {
          "output_type": "execute_result",
          "data": {
            "text/plain": [
              "array([100,  81,  64,  49,  36,  25,  16,   9,   4,   1,   0,   1,   4,\n",
              "         9,  16,  25,  36,  49,  64,  81])"
            ]
          },
          "metadata": {},
          "execution_count": 10
        }
      ],
      "source": [
        "vector"
      ]
    },
    {
      "cell_type": "code",
      "execution_count": 11,
      "metadata": {
        "colab": {
          "base_uri": "https://localhost:8080/"
        },
        "id": "26nZzWEGApoq",
        "outputId": "2294ca1c-f760-4567-87df-261352186fc7"
      },
      "outputs": [
        {
          "output_type": "execute_result",
          "data": {
            "text/plain": [
              "array([33.333332, 33.333332, 33.333332, 33.333332, 33.333332, 33.333332,\n",
              "        0.      ,  0.      ,  0.      ,  0.      ,  0.      ,  0.      ,\n",
              "        0.      ,  0.      ,  0.      , 33.333332, 33.333332, 33.333332,\n",
              "       33.333332, 33.333332], dtype=float32)"
            ]
          },
          "metadata": {},
          "execution_count": 11
        }
      ],
      "source": [
        "quantizer = Quantizer(2)\n",
        "vector = torch.tensor(vector)\n",
        "quantizer.init_from(vector)\n",
        "quantizer(vector).detach().numpy()"
      ]
    },
    {
      "cell_type": "code",
      "execution_count": 12,
      "metadata": {
        "id": "wtOcROcsApoq",
        "outputId": "287f0ce0-cf16-41d5-ceca-c73658efc0ec",
        "colab": {
          "base_uri": "https://localhost:8080/"
        }
      },
      "outputs": [
        {
          "output_type": "execute_result",
          "data": {
            "text/plain": [
              "Parameter containing:\n",
              "tensor(33.3333, requires_grad=True)"
            ]
          },
          "metadata": {},
          "execution_count": 12
        }
      ],
      "source": [
        "quantizer.s"
      ]
    },
    {
      "cell_type": "code",
      "execution_count": 13,
      "metadata": {
        "colab": {
          "base_uri": "https://localhost:8080/"
        },
        "id": "_V1WmV09Apor",
        "outputId": "0eed1469-679b-4abc-934d-69274e220ec3"
      },
      "outputs": [
        {
          "output_type": "stream",
          "name": "stderr",
          "text": [
            "<ipython-input-13-f6c3db215e95>:2: UserWarning: To copy construct from a tensor, it is recommended to use sourceTensor.clone().detach() or sourceTensor.clone().detach().requires_grad_(True), rather than torch.tensor(sourceTensor).\n",
            "  vector = torch.tensor(vector)\n"
          ]
        },
        {
          "output_type": "execute_result",
          "data": {
            "text/plain": [
              "array([49.999237  , 49.999237  , 49.999237  , 48.99977   , 36.00061   ,\n",
              "       25.000381  , 16.00061   ,  8.999771  ,  3.9993896 ,  0.99946594,\n",
              "        0.        ,  0.99946594,  3.9993896 ,  8.999771  , 16.00061   ,\n",
              "       25.000381  , 36.00061   , 48.99977   , 49.999237  , 49.999237  ],\n",
              "      dtype=float32)"
            ]
          },
          "metadata": {},
          "execution_count": 13
        }
      ],
      "source": [
        "quantizer = Quantizer(16)\n",
        "vector = torch.tensor(vector)\n",
        "quantizer.init_from(vector)\n",
        "quantizer(vector).detach().numpy()"
      ]
    },
    {
      "cell_type": "code",
      "execution_count": 14,
      "metadata": {
        "colab": {
          "base_uri": "https://localhost:8080/",
          "height": 485
        },
        "id": "kj2lhaY7VVM-",
        "outputId": "f4219e83-2227-42d0-9971-4df94cc5a499"
      },
      "outputs": [
        {
          "output_type": "display_data",
          "data": {
            "text/plain": [
              "<Figure size 1000x700 with 0 Axes>"
            ]
          },
          "metadata": {}
        },
        {
          "output_type": "display_data",
          "data": {
            "text/plain": [
              "<Figure size 1000x500 with 1 Axes>"
            ],
            "image/png": "[encoded data removed]"
          },
          "metadata": {}
        }
      ],
      "source": [
        "vector =(np.arange(-10, 10, 1))**2\n",
        "\n",
        "vector = torch.tensor(vector)\n",
        "\n",
        "plt.figure(figsize=(10,7))\n",
        "\n",
        "f = plt.figure(figsize = (10, 5))\n",
        "\n",
        "plt.plot(range(len(vector)), vector,label='orig', marker='o')\n",
        "for bit in [2,3,4, 8, 16]:\n",
        "    quantizer = Quantizer(bit)\n",
        "    quantizer.init_from(vector) # define step\n",
        "    dequantized = quantizer(vector) #\n",
        "\n",
        "    dequantized = dequantized.detach().numpy()\n",
        "\n",
        "    plt.plot(range(len(vector)),dequantized,label=f'int_{bit}')\n",
        "\n",
        "plt.title('DE - Quantized');\n",
        "plt.legend();"
      ]
    },
    {
      "cell_type": "code",
      "execution_count": 15,
      "metadata": {
        "id": "eQpCt_zRXA2W"
      },
      "outputs": [],
      "source": [
        "def plot_weight_distribution(model, bitwidth=32):\n",
        "\n",
        "    fig, axes = plt.subplots(1,len([(p,n) for (p,n) in model.named_parameters()])-1, figsize=(15, 5))\n",
        "\n",
        "    quantizer = Quantizer(bitwidth)\n",
        "    qmin, qmax = quantizer.thd_neg,  quantizer.thd_pos,\n",
        "    for i, (name, param) in enumerate(model.named_parameters()):\n",
        "        if param.dim() > 1:\n",
        "            quantizer.init_from(param)\n",
        "            dequantized = quantizer(param)\n",
        "            dequantized = dequantized.detach().cpu().numpy()\n",
        "\n",
        "            axes[i].hist(dequantized.flatten(),  density=True, color = 'blue', alpha = 0.5,\n",
        "                    edgecolor='black' if bitwidth <= 4 else None)\n",
        "\n",
        "            axes[i].set_xlabel(name)\n",
        "            axes[i].set_ylabel('density')\n",
        "\n",
        "    fig.suptitle(f'Histogram of Weights (bitwidth={bitwidth} bits)')\n",
        "    fig.tight_layout()\n",
        "    fig.subplots_adjust(top=0.925)\n",
        "    plt.show()"
      ]
    },
    {
      "cell_type": "code",
      "execution_count": 16,
      "metadata": {
        "id": "q4xk3wbYApor"
      },
      "outputs": [],
      "source": [
        "class QALinear(nn.Module):\n",
        "    def __init__(self, fc_w, fc_b, bit):\n",
        "        super(QALinear, self).__init__()\n",
        "        self.bit = bit\n",
        "        self.in_features, self.out_features = fc_w.shape\n",
        "        self.fc = nn.Linear(in_features = self.in_features,\n",
        "                      out_features = self.out_features,\n",
        "                      bias = True)\n",
        "        self.fc.weight = torch.nn.Parameter(torch.t(fc_w))\n",
        "        self.fc.bias = fc_b\n",
        "        self.define_q_fucntions(self.bit)\n",
        "\n",
        "\n",
        "    # can be used to modify bits during the training\n",
        "    def define_q_fucntions(self, bit):\n",
        "        self.quantizer_act = Quantizer(bit)\n",
        "        self.quantizer_weigh = Quantizer(bit)\n",
        "        self.quantizer_weigh.init_from(self.fc.weight)\n",
        "\n",
        "        self.quantizer_bias = Quantizer(bit)\n",
        "\n",
        "    def forward(self, input_x):\n",
        "        quantized_weight = self.quantizer_weigh(self.fc.weight)\n",
        "        quantized_bias = self.quantizer_weigh(self.fc.bias)\n",
        "        quantized_act = self.quantizer_act(input_x)\n",
        "        out = nn.functional.linear(quantized_act, quantized_weight, bias=quantized_bias) #torch.nn.functional.linear(input, weight, bias)\n",
        "        return out"
      ]
    },
    {
      "cell_type": "markdown",
      "metadata": {
        "id": "AVF7iwDE3YCD"
      },
      "source": [
        "# Transformer-based model quantization\n",
        "\n",
        "### GPT-2 quantization pipeline\n",
        "\n",
        "1) Extract fully-connected (transformers.conv1D()) from pretrained GPT-2\n",
        "\n",
        "2) Create quantized QALinear object over it\n",
        "\n",
        "3) Replace initial fully-connected layer with quantized layer\n",
        "\n",
        "4) Fine-tune model to recover performance degradation\n",
        "\n",
        "\n",
        "## Let's go through all of the stages in the pipeline"
      ]
    },
    {
      "cell_type": "code",
      "execution_count": 17,
      "metadata": {
        "id": "_ET7wDTrz9xm"
      },
      "outputs": [],
      "source": [
        "import numpy as np"
      ]
    },
    {
      "cell_type": "code",
      "execution_count": 19,
      "metadata": {
        "colab": {
          "base_uri": "https://localhost:8080/",
          "height": 130,
          "referenced_widgets": [
            "e6d83ce161b34e6b8948ff9230727c49",
            "5a66dc34b45f4187966e68104b9843f3",
            "0aa1c9f0e783423cb952b2c46ccd346f",
            "6cff0dee17fc48fab95af929a95a24ef",
            "3ff66277081d45818a9b421ddc066947",
            "c976c90720d24416ad2e30e7d199cf76",
            "716679b7a1fe4649b9b87de7c607d175",
            "196f451e6f854643bc71202d0bba0087",
            "8bb1228be3554799bc4d24309f9873ef",
            "1b26aca97b1b4a7cac3de247ec69dddb",
            "3abf4986e35a43fe97d0151df64d0d62",
            "93623ca39e6b46d0bb8d4baa34ffea9b",
            "d27bbf812b3d4af182f954204d98f209",
            "257ab67353c447fb970d5dcdcf171e62",
            "7d665d21163f4dfe8c9c448e30a32c39",
            "bad52cce94fe49dbbe948c917619be8e",
            "d9c4dbbc001f4071bb8998c4c188b158",
            "847dddb97c7f4442839a630cf0d8f096",
            "518ee3bb77ab4e359fbbb046f972f4a1",
            "7a4fa2646fb849a0ae8f00fdc8c9234c",
            "0779389a03764ec1a70873f5e36d1b68",
            "68480074f81f4c7e9716bff511e0a089",
            "95f82e51d339461f832ad783a5316d4b",
            "8afe270193ca457983c04891d195e945",
            "bcbba65659b046f384b7e5c161aeeeb6",
            "4c922776df734707aaa114a9db9f7773",
            "36f1c13fb57748d183e7f42b60ecdd46",
            "cc1bb048e362401f91111e5381d41778",
            "d36b679f5d8d4f2e94470a16584553f6",
            "8b9117a4060840318db9a7264ce73433",
            "f9668dbe2d5a476082082ddf00bace85",
            "ce06c8ff23a7424db61c3ae1ff8f86b0",
            "4de88c3071ce47c3be4382256d58254f"
          ]
        },
        "id": "Ku-vaYsh3YCI",
        "outputId": "30f9af19-288f-4706-9e90-8a0322ee7316"
      },
      "outputs": [
        {
          "output_type": "stream",
          "name": "stdout",
          "text": [
            "memory before start: 0.0\n"
          ]
        },
        {
          "output_type": "display_data",
          "data": {
            "text/plain": [
              "config.json:   0%|          | 0.00/665 [00:00<?, ?B/s]"
            ],
            "application/vnd.jupyter.widget-view+json": {
              "version_major": 2,
              "version_minor": 0,
              "model_id": "e6d83ce161b34e6b8948ff9230727c49"
            }
          },
          "metadata": {}
        },
        {
          "output_type": "display_data",
          "data": {
            "text/plain": [
              "model.safetensors:   0%|          | 0.00/548M [00:00<?, ?B/s]"
            ],
            "application/vnd.jupyter.widget-view+json": {
              "version_major": 2,
              "version_minor": 0,
              "model_id": "93623ca39e6b46d0bb8d4baa34ffea9b"
            }
          },
          "metadata": {}
        },
        {
          "output_type": "display_data",
          "data": {
            "text/plain": [
              "generation_config.json:   0%|          | 0.00/124 [00:00<?, ?B/s]"
            ],
            "application/vnd.jupyter.widget-view+json": {
              "version_major": 2,
              "version_minor": 0,
              "model_id": "95f82e51d339461f832ad783a5316d4b"
            }
          },
          "metadata": {}
        }
      ],
      "source": [
        "from transformers import GPT2Model, GPT2Config, GPT2LMHeadModel\n",
        "\n",
        "# Initializing a GPT2 configuration\n",
        "configuration = GPT2Config()\n",
        "\n",
        "print(f'memory before start: {cuda_memory()}')\n",
        "parameters = cuda_memory()\n",
        "# Initializing a model from the configuration\n",
        "model = GPT2LMHeadModel(configuration).from_pretrained(\"gpt2\",\n",
        "                                                return_dict=True,\n",
        "                                                is_decoder=True)\n",
        "outt = model.to(device)\n",
        "\n",
        "#print(f'memory after layer initializing: {cuda_memory()}')\n",
        "#print(f'size of full model: {cuda_memory() - parameters}')"
      ]
    },
    {
      "cell_type": "markdown",
      "metadata": {
        "id": "Ci96e-xx3YCO"
      },
      "source": [
        "We will validate a pre-trained language GPT-2 model on a validation part **Wikitext-103** dataset.\n",
        "\n",
        "To create a validation dataset we should:\n",
        "    \n",
        "- download archieved dataset\n",
        "- extract it\n",
        "- wrap tran and test parts in TextDataset and further Dataloader class"
      ]
    },
    {
      "cell_type": "code",
      "execution_count": 20,
      "metadata": {
        "colab": {
          "base_uri": "https://localhost:8080/"
        },
        "id": "vBKz5osP5aJn",
        "outputId": "eff6a7fd-86d9-4eff-9b82-4c04121b2cb9"
      },
      "outputs": [
        {
          "output_type": "stream",
          "name": "stdout",
          "text": [
            "/content\n",
            "  % Total    % Received % Xferd  Average Speed   Time    Time     Time  Current\n",
            "                                 Dload  Upload   Total   Spent    Left  Speed\n",
            "100  181M  100  181M    0     0  37.1M      0  0:00:04  0:00:04 --:--:-- 41.4M\n"
          ]
        }
      ],
      "source": [
        "!pwd\n",
        "!curl https://s3.amazonaws.com/research.metamind.io/wikitext/wikitext-103-v1.zip -o wikitext-103-v1.zip"
      ]
    },
    {
      "cell_type": "code",
      "execution_count": 21,
      "metadata": {
        "id": "hTMyp_VzApot",
        "colab": {
          "base_uri": "https://localhost:8080/"
        },
        "outputId": "5f362424-cfb2-4cdc-f18a-fca23fad243f"
      },
      "outputs": [
        {
          "output_type": "stream",
          "name": "stdout",
          "text": [
            "rm: cannot remove './wikitext-103/': No such file or directory\n"
          ]
        }
      ],
      "source": [
        "rm -r ./wikitext-103/"
      ]
    },
    {
      "cell_type": "code",
      "execution_count": 22,
      "metadata": {
        "colab": {
          "base_uri": "https://localhost:8080/"
        },
        "id": "xubHwNDl3txJ",
        "outputId": "1d539553-0a13-45c8-de11-dec582255c02"
      },
      "outputs": [
        {
          "output_type": "stream",
          "name": "stdout",
          "text": [
            "Archive:  wikitext-103-v1.zip\n",
            "   creating: wikitext-103/\n",
            "  inflating: wikitext-103/wiki.test.tokens  \n",
            "  inflating: wikitext-103/wiki.valid.tokens  \n",
            "  inflating: wikitext-103/wiki.train.tokens  \n"
          ]
        }
      ],
      "source": [
        "\n",
        "!unzip wikitext-103-v1.zip\n"
      ]
    },
    {
      "cell_type": "markdown",
      "metadata": {
        "id": "uGOdDVX83YCR"
      },
      "source": [
        "Create a validation dataset and measure perplexity of regular GPT-2"
      ]
    },
    {
      "cell_type": "code",
      "execution_count": 23,
      "metadata": {
        "id": "1eSWBbuY3YCX",
        "colab": {
          "base_uri": "https://localhost:8080/",
          "height": 168,
          "referenced_widgets": [
            "998dba3d3c2645339f180282336d78a9",
            "d9c6d7c6a3524fadb88384df25de7f7e",
            "84abef3634c8433ba32c9301fa1c77f9",
            "452e74c35c904e5e9ed7d3683b129c0f",
            "61177b3d91dd4444b2d6f9981b9cc06e",
            "67d4478144d04ad697b674351bde24af",
            "2b0800d57e6d41e3a2dc73d734bebc04",
            "d58c0d2120b7489d910bab840741c278",
            "b0a22d6bb939463292b0d3aeb436b3c1",
            "4e503c3cf2a14677a3faed0e39dc697c",
            "88f5489c08a14496b67d109e01ee5893",
            "e5c6a65e47eb43aa8b2c21cf0953412e",
            "20015401dc3d4c82bb64aa3f07363751",
            "f6ce297202a34bea9d8e2780cfa4cfa6",
            "9fca1fa564764b21ab2ea301a7ba059b",
            "75315b0c485a4996b97abff9283a8e8f",
            "543e01db90394ac3ae7cf13b1c50fa52",
            "0fd877ddf02b4f7f833afc9e022374b0",
            "853ef813c1944eafab7487609592ee52",
            "893c7149ae45467ca02f5c38842923bd",
            "1925f1bc75184025bf796c30e54f5f74",
            "6e94438f1b43465ba8b827a189cc7563",
            "11309da570044ce3b4a7453ee8964c9f",
            "dceaf17fd0784919bca96f21607a7aaa",
            "5e8b46b7f90f4a43b3467e48e0cba6f2",
            "d914604357c948e6ba4550cf6314edb9",
            "e1cf3ab3699e4c0d952e9eddbcaefe94",
            "daf36a53d1a44043ba22b3d92bbf2f19",
            "ff388b46e5784a379bcff236de7f3969",
            "2245abbfda254d1c9f7699ec8daf17c7",
            "b8263a98d59445ffa2ad5e43bc524167",
            "d69fbf205e2744009540aa14292ff055",
            "78257aa87a0e4d94b7e601148d848dfa"
          ]
        },
        "outputId": "c1c609db-62c0-4d8f-bf15-ff3f9ac3767f"
      },
      "outputs": [
        {
          "output_type": "display_data",
          "data": {
            "text/plain": [
              "vocab.json:   0%|          | 0.00/1.04M [00:00<?, ?B/s]"
            ],
            "application/vnd.jupyter.widget-view+json": {
              "version_major": 2,
              "version_minor": 0,
              "model_id": "998dba3d3c2645339f180282336d78a9"
            }
          },
          "metadata": {}
        },
        {
          "output_type": "display_data",
          "data": {
            "text/plain": [
              "merges.txt:   0%|          | 0.00/456k [00:00<?, ?B/s]"
            ],
            "application/vnd.jupyter.widget-view+json": {
              "version_major": 2,
              "version_minor": 0,
              "model_id": "e5c6a65e47eb43aa8b2c21cf0953412e"
            }
          },
          "metadata": {}
        },
        {
          "output_type": "display_data",
          "data": {
            "text/plain": [
              "tokenizer.json:   0%|          | 0.00/1.36M [00:00<?, ?B/s]"
            ],
            "application/vnd.jupyter.widget-view+json": {
              "version_major": 2,
              "version_minor": 0,
              "model_id": "11309da570044ce3b4a7453ee8964c9f"
            }
          },
          "metadata": {}
        },
        {
          "output_type": "stream",
          "name": "stderr",
          "text": [
            "/usr/local/lib/python3.10/dist-packages/transformers/data/datasets/language_modeling.py:53: FutureWarning: This dataset will be removed from the library soon, preprocessing should be handled with the 🤗 Datasets library. You can have a look at this example script for pointers: https://github.com/huggingface/transformers/blob/main/examples/pytorch/language-modeling/run_mlm.py\n",
            "  warnings.warn(\n"
          ]
        }
      ],
      "source": [
        "from torch.utils.data import DataLoader, RandomSampler\n",
        "from transformers import GPT2Tokenizer\n",
        "from transformers import TextDataset\n",
        "tokenizer = GPT2Tokenizer.from_pretrained(\"gpt2\")\n",
        "\n",
        "\n",
        "dataset_valid = TextDataset(tokenizer=tokenizer,\n",
        "                                file_path=\"./wikitext-103/wiki.valid.tokens\", #file_path=\"/content/wikitext-103/wiki.valid.tokens\",\n",
        "                                block_size=512)\n",
        "\n",
        "dataset_test = TextDataset(tokenizer=tokenizer,\n",
        "                                file_path=\"./wikitext-103/wiki.test.tokens\", block_size=512)\n",
        "\n",
        "len(dataset_valid), len(dataset_test)\n",
        "\n",
        "eval_dataloader = DataLoader(dataset_valid, batch_size=10)"
      ]
    },
    {
      "cell_type": "markdown",
      "metadata": {
        "id": "DJgWvPbp3YCd"
      },
      "source": [
        "Validate model and calculate a perplexity:"
      ]
    },
    {
      "cell_type": "code",
      "execution_count": 24,
      "metadata": {
        "id": "9JVtPbFv3YCj"
      },
      "outputs": [],
      "source": [
        "from tqdm import tqdm\n",
        "model.eval()\n",
        "import torch\n",
        "\n",
        "def evaluate(model):\n",
        "    losses = []\n",
        "    eval_loss = 0.0\n",
        "    perplexity = 0.0\n",
        "    nb_eval_steps = 0\n",
        "    for batch in tqdm(eval_dataloader, desc=\"Evaluating\"):\n",
        "        inputs, labels = (batch, batch)\n",
        "        inputs = inputs.to(device)\n",
        "        labels = labels.to(device)\n",
        "\n",
        "        with torch.no_grad():\n",
        "            outputs = model(inputs, labels=labels)\n",
        "            lm_loss = outputs[0]\n",
        "            eval_loss += lm_loss.mean().item()\n",
        "            perplexity += torch.exp(torch.tensor(eval_loss))\n",
        "            losses.append(eval_loss)\n",
        "        nb_eval_steps += 1\n",
        "\n",
        "    eval_loss = eval_loss / nb_eval_steps\n",
        "\n",
        "    perplexity = torch.exp(torch.tensor(eval_loss))\n",
        "    perplexity = perplexity\n",
        "    return perplexity"
      ]
    },
    {
      "cell_type": "code",
      "execution_count": 25,
      "metadata": {
        "colab": {
          "base_uri": "https://localhost:8080/"
        },
        "id": "e3O7hZ333YCq",
        "outputId": "69573066-b420-49bf-f154-d168dac1f96f"
      },
      "outputs": [
        {
          "output_type": "stream",
          "name": "stderr",
          "text": [
            "Evaluating: 100%|██████████| 49/49 [00:22<00:00,  2.16it/s]\n"
          ]
        },
        {
          "output_type": "execute_result",
          "data": {
            "text/plain": [
              "tensor(35.1143)"
            ]
          },
          "metadata": {},
          "execution_count": 25
        }
      ],
      "source": [
        "perplexity = evaluate(model)\n",
        "perplexity"
      ]
    },
    {
      "cell_type": "code",
      "execution_count": 26,
      "metadata": {
        "colab": {
          "base_uri": "https://localhost:8080/"
        },
        "id": "1loUt8ZjRciK",
        "outputId": "15e042de-2368-4575-ecaf-2d7fc578ed74"
      },
      "outputs": [
        {
          "output_type": "execute_result",
          "data": {
            "text/plain": [
              "torch.Size([768, 3072])"
            ]
          },
          "metadata": {},
          "execution_count": 26
        }
      ],
      "source": [
        "model.transformer.h[1].mlp.c_fc.weight.shape"
      ]
    },
    {
      "cell_type": "markdown",
      "metadata": {
        "id": "SbTPSv3BzX-b"
      },
      "source": [
        "Let's generate text to ensure that model is good."
      ]
    },
    {
      "cell_type": "code",
      "execution_count": 27,
      "metadata": {
        "id": "nCjz-pTTzqy1"
      },
      "outputs": [],
      "source": [
        "seq_len = 512"
      ]
    },
    {
      "cell_type": "code",
      "execution_count": 31,
      "metadata": {
        "colab": {
          "base_uri": "https://localhost:8080/"
        },
        "id": "K8j3aKX7zYnt",
        "outputId": "22d256c7-6894-4fec-d067-2805a5a6ae1f"
      },
      "outputs": [
        {
          "output_type": "stream",
          "name": "stderr",
          "text": [
            "2it [00:00,  7.92it/s]"
          ]
        },
        {
          "output_type": "stream",
          "name": "stdout",
          "text": [
            "\n",
            "\n",
            "input_ids[0][-20:]  lobster, Homarus americanus. The two species\n",
            "\n",
            "\n",
            "label_ids[0][-21:] , Homarus americanus. The two species\n",
            "\n",
            "\n",
            "output , Harus gamanus. It American species are\n",
            "\n",
            "\n",
            "\n",
            "\n",
            "\n",
            "\n",
            "\n",
            "\n",
            "\n",
            "input_ids[0][-20:]  National Forest. The east end of M @-\n",
            "\n",
            "\n",
            "label_ids[0][-21:]  Forest. The east end of M @-\n",
            "\n",
            "\n",
            "output  Forest. The highwaybound of the @-@\n",
            "\n",
            "\n",
            "\n",
            "\n",
            "\n",
            "\n",
            "\n"
          ]
        },
        {
          "output_type": "stream",
          "name": "stderr",
          "text": [
            "\r4it [00:00,  9.76it/s]"
          ]
        },
        {
          "output_type": "stream",
          "name": "stdout",
          "text": [
            "\n",
            "\n",
            "input_ids[0][-20:]  as a liaison between the organizations. Plans were underway\n",
            "\n",
            "\n",
            "label_ids[0][-21:]  a liaison between the organizations. Plans were underway\n",
            "\n",
            "\n",
            "output  a liaison between the Meridian and  for made to\n",
            "\n",
            "\n",
            "\n",
            "\n",
            "\n",
            "\n",
            "\n",
            "\n",
            "\n",
            "input_ids[0][-20:]  @-@ seat auditorium for live performances,\n",
            "\n",
            "\n",
            "label_ids[0][-21:] -@ seat auditorium for live performances,\n",
            "\n",
            "\n",
            "output ,@ and,ium, the performances, is\n",
            "\n",
            "\n",
            "\n",
            "\n",
            "\n",
            "\n",
            "\n",
            "\n",
            "\n",
            "input_ids[0][-20:]  @,@ \n",
            " Fred and Al Key,\n",
            "\n",
            "\n",
            "label_ids[0][-21:] ,@ \n",
            " Fred and Al Key,\n",
            "\n",
            "\n",
            "output ,@ \n",
            "\n",
            "rick Mary <es the\n",
            "\n",
            "\n",
            "\n",
            "\n",
            "\n",
            "\n",
            "\n"
          ]
        },
        {
          "output_type": "stream",
          "name": "stderr",
          "text": [
            "8it [00:00, 12.16it/s]"
          ]
        },
        {
          "output_type": "stream",
          "name": "stdout",
          "text": [
            "\n",
            "\n",
            "input_ids[0][-20:] le was the villain. \n",
            " \n",
            " =\n",
            "\n",
            "\n",
            "label_ids[0][-21:]  was the villain. \n",
            " \n",
            " =\n",
            "\n",
            "\n",
            "output  is a main. \n",
            " \"\n",
            " = =\n",
            "\n",
            "\n",
            "\n",
            "\n",
            "\n",
            "\n",
            "\n",
            "\n",
            "\n",
            "input_ids[0][-20:] @ northwesterly track in response to a\n",
            "\n",
            "\n",
            "label_ids[0][-21:]  northwesterly track in response to a\n",
            "\n",
            "\n",
            "output  orientationwardesterly direction, the to the strong\n",
            "\n",
            "\n",
            "\n",
            "\n",
            "\n",
            "\n",
            "\n",
            "\n",
            "\n",
            "input_ids[0][-20:]  is shown standing in a cage opposite to a number\n",
            "\n",
            "\n",
            "label_ids[0][-21:]  shown standing in a cage opposite to a number\n",
            "\n",
            "\n",
            "output  singing dancing in front white with the the man of\n",
            "\n",
            "\n",
            "\n",
            "\n",
            "\n",
            "\n",
            "\n",
            "\n",
            "\n",
            "input_ids[0][-20:] "
          ]
        },
        {
          "output_type": "stream",
          "name": "stderr",
          "text": [
            "10it [00:00, 10.97it/s]"
          ]
        },
        {
          "output_type": "stream",
          "name": "stdout",
          "text": [
            "-@ lap sprint, Richmond competed in a three\n",
            "\n",
            "\n",
            "label_ids[0][-21:] @ lap sprint, Richmond competed in a three\n",
            "\n",
            "\n",
            "output @ race,, Richmond took in the race @\n",
            "\n",
            "\n",
            "\n",
            "\n",
            "\n",
            "\n",
            "\n",
            "\n",
            "\n",
            "input_ids[0][-20:]  well @-@ being of ranchers. In\n",
            "\n",
            "\n",
            "label_ids[0][-21:]  @-@ being of ranchers. In\n",
            "\n",
            "\n",
            "output --@ needs of localhers.  addition\n",
            "\n",
            "\n",
            "\n",
            "\n",
            "\n",
            "\n",
            "\n",
            "\n",
            "\n",
            "input_ids[0][-20:]  for their first road win in Illinois since 1995.\n",
            "\n",
            "\n",
            "label_ids[0][-21:]  their first road win in Illinois since 1995.\n",
            "\n",
            "\n",
            "output  the first Big win of four'beating. On\n",
            "\n",
            "\n",
            "\n",
            "\n"
          ]
        },
        {
          "output_type": "stream",
          "name": "stderr",
          "text": [
            "\n"
          ]
        }
      ],
      "source": [
        "i = 0\n",
        "for batch_idx, sample in tqdm(enumerate(eval_dataloader)):\n",
        "    input_ids, label_ids = sample[0][:seq_len - 1], sample[0][1:seq_len]\n",
        "    input_ids = input_ids.to(device=device)\n",
        "    label_ids = label_ids.to(device=device)\n",
        "    outputs = model(input_ids)\n",
        "    print (\"\\n\")\n",
        "    print(\"input_ids[0][-20:]\", tokenizer.decode(input_ids[-10:]))\n",
        "    print (\"\\n\")\n",
        "    print(\"label_ids[0][-21:]\", tokenizer.decode(input_ids[-9:]))\n",
        "    print (\"\\n\")\n",
        "    print(\"output\", tokenizer.decode(outputs.logits.argmax(dim=-1)[-10:]))\n",
        "    #print(\"GENERATED\", tokenizer.decode(outputs.logits.argmax(dim=-1)[0][-1:]))\n",
        "    print(\"\\n\\n\\n\")\n",
        "    i += 1\n",
        "    if i > 10: break\n",
        "    print (\"\\n\\n\")"
      ]
    },
    {
      "cell_type": "code",
      "execution_count": 32,
      "metadata": {
        "id": "l5_nzaEr1abP"
      },
      "outputs": [],
      "source": [
        "for i in [6, 8, 9, 10, 11]:\n",
        "    # fc part\n",
        "    fc_w = model.transformer.h[i].mlp.c_fc\n",
        "    fp_w = model.transformer.h[i].mlp.c_proj\n",
        "    model.transformer.h[i].mlp.c_fc = QALinear(fc_w.weight, fc_w.bias, 16)\n",
        "    model.transformer.h[i].mlp.c_proj = QALinear(fp_w.weight, fp_w.bias, 16)"
      ]
    },
    {
      "cell_type": "code",
      "execution_count": 33,
      "metadata": {
        "colab": {
          "base_uri": "https://localhost:8080/"
        },
        "id": "UzWCE0XSApou",
        "outputId": "d25e6b72-81fd-49f8-c888-8d059111bd85"
      },
      "outputs": [
        {
          "output_type": "stream",
          "name": "stderr",
          "text": [
            "Evaluating: 100%|██████████| 49/49 [00:24<00:00,  2.01it/s]\n"
          ]
        },
        {
          "output_type": "execute_result",
          "data": {
            "text/plain": [
              "tensor(231.6536)"
            ]
          },
          "metadata": {},
          "execution_count": 33
        }
      ],
      "source": [
        "perplexity = evaluate(model)\n",
        "perplexity"
      ]
    },
    {
      "cell_type": "markdown",
      "metadata": {
        "id": "M6Lz0P5qApov"
      },
      "source": [
        "## Fine-tune the model"
      ]
    },
    {
      "cell_type": "code",
      "source": [
        "dataset_train = TextDataset(tokenizer=tokenizer,\n",
        "                                file_path=\"./wikitext-103/wiki.train.tokens\", block_size=512)\n"
      ],
      "metadata": {
        "id": "ZYa2Nor3Oz1i",
        "colab": {
          "base_uri": "https://localhost:8080/"
        },
        "outputId": "e10f87d3-9380-4426-cee4-288030f657aa"
      },
      "execution_count": null,
      "outputs": [
        {
          "output_type": "stream",
          "name": "stderr",
          "text": [
            "/usr/local/lib/python3.10/dist-packages/transformers/data/datasets/language_modeling.py:53: FutureWarning: This dataset will be removed from the library soon, preprocessing should be handled with the 🤗 Datasets library. You can have a look at this example script for pointers: https://github.com/huggingface/transformers/blob/main/examples/pytorch/language-modeling/run_mlm.py\n",
            "  warnings.warn(\n"
          ]
        }
      ]
    },
    {
      "cell_type": "code",
      "execution_count": null,
      "metadata": {
        "id": "_7mrHBs-Apov"
      },
      "outputs": [],
      "source": [
        "train_dataloader = DataLoader(dataset_train, batch_size=5)"
      ]
    },
    {
      "cell_type": "code",
      "execution_count": null,
      "metadata": {
        "id": "CNld15GWApov"
      },
      "outputs": [],
      "source": [
        "from transformers import get_cosine_schedule_with_warmup"
      ]
    },
    {
      "cell_type": "code",
      "execution_count": null,
      "metadata": {
        "id": "4ePfhP29Apov"
      },
      "outputs": [],
      "source": [
        "from tqdm import tqdm\n",
        "\n",
        "epochs = 10\n",
        "gradient_accumulation_steps = 24\n",
        "num_train_batches = len(train_dataloader)\n",
        "cross_entropy = torch.nn.CrossEntropyLoss(ignore_index=tokenizer.eos_token_id)\n",
        "training_steps = num_train_batches // gradient_accumulation_steps * epochs\n",
        "optimizer = torch.optim.Adam(model.parameters(), lr=1.25e-4)\n",
        "scheduler = get_cosine_schedule_with_warmup(optimizer, num_warmup_steps=800, num_training_steps=training_steps)\n",
        "\n",
        "\n",
        "for epoch in range(2):\n",
        "\n",
        "    train_loss = 0\n",
        "    epoch_iterator = tqdm(train_dataloader, desc=\"Iteration\", disable=True)\n",
        "    for train_batch_idx, item in enumerate(epoch_iterator):\n",
        "        optimizer.zero_grad() # in case there are unused accumulated gradients\n",
        "\n",
        "        model.train()\n",
        "        src, tgt = (item, item)\n",
        "        src = src.to(device=device)\n",
        "        tgt = tgt.to(device=device)\n",
        "\n",
        "\n",
        "        output = model(input_ids=src, labels=tgt)\n",
        "        loss = output.loss\n",
        "        train_loss += loss.item() # before gradient accumulation step\n",
        "        if gradient_accumulation_steps > 1:\n",
        "            loss = loss / gradient_accumulation_steps\n",
        "        loss.backward() # accumulate gradients\n",
        "\n",
        "        if train_batch_idx % gradient_accumulation_steps == 0:\n",
        "            optimizer.step()\n",
        "            scheduler.step()  # Update learning rate schedule\n",
        "            optimizer.zero_grad()\n",
        "\n",
        "        if train_batch_idx % 500 == 0:\n",
        "            print (\"loss\", loss)\n",
        "            perplexity = evaluate(model)\n",
        "            print (\"perplexity\", perplexity)\n"
      ]
    },
    {
      "cell_type": "code",
      "execution_count": null,
      "metadata": {
        "id": "ExpNzS5tApow",
        "outputId": "87eebb00-cbdd-4b4c-92ce-c4849ba80d23"
      },
      "outputs": [
        {
          "name": "stderr",
          "output_type": "stream",
          "text": [
            "Evaluating: 100% 49/49 [00:04<00:00,  9.81it/s]\n"
          ]
        },
        {
          "data": {
            "text/plain": [
              "tensor(38.1063)"
            ]
          },
          "execution_count": 36,
          "metadata": {},
          "output_type": "execute_result"
        }
      ],
      "source": [
        "perplexity = evaluate(model)\n",
        "perplexity"
      ]
    },
    {
      "cell_type": "code",
      "execution_count": null,
      "metadata": {
        "id": "cPfxjj0iApow"
      },
      "outputs": [],
      "source": [
        "i = 0\n",
        "for batch_idx, sample in tqdm(enumerate(eval_dataloader)):\n",
        "    input_ids, label_ids = sample[0][:seq_len - 1], sample[0][1:seq_len]\n",
        "    input_ids = input_ids.to(device=device)\n",
        "    label_ids = label_ids.to(device=device)\n",
        "    outputs = model(input_ids)\n",
        "    print (\"\\n\")\n",
        "    print(\"input_ids[0][-20:]\", tokenizer.decode(input_ids[-10:]))\n",
        "    print (\"\\n\")\n",
        "    print(\"label_ids[0][-21:]\", tokenizer.decode(input_ids[-9:]))\n",
        "    print (\"\\n\")\n",
        "    print(\"output\", tokenizer.decode(outputs.logits.argmax(dim=-1)[-10:]))\n",
        "    #print(\"GENERATED\", tokenizer.decode(outputs.logits.argmax(dim=-1)[0][-1:]))\n",
        "    print(\"\\n\\n\\n\")\n",
        "    i += 1\n",
        "    if i > 10: break\n",
        "    print (\"\\n\\n\")"
      ]
    },
    {
      "cell_type": "code",
      "execution_count": null,
      "metadata": {
        "id": "1kWsHfatApow"
      },
      "outputs": [],
      "source": []
    }
  ],
  "metadata": {
    "accelerator": "GPU",
    "colab": {
      "collapsed_sections": [
        "l1CVH6bI9_Do",
        "uIGvlIY93YEZ",
        "J2ITayhqWK7v"
      ],
      "provenance": [],
      "gpuType": "T4"
    },
    "kernelspec": {
      "display_name": "Python 3",
      "name": "python3"
    },
    "language_info": {
      "codemirror_mode": {
        "name": "ipython",
        "version": 3
      },
      "file_extension": ".py",
      "mimetype": "text/x-python",
      "name": "python",
      "nbconvert_exporter": "python",
      "pygments_lexer": "ipython3",
      "version": "3.8.10"
    },
    "widgets": {
      "application/vnd.jupyter.widget-state+json": {
        "e6d83ce161b34e6b8948ff9230727c49": {
          "model_module": "@jupyter-widgets/controls",
          "model_name": "HBoxModel",
          "model_module_version": "1.5.0",
          "state": {
            "_dom_classes": [],
            "_model_module": "@jupyter-widgets/controls",
            "_model_module_version": "1.5.0",
            "_model_name": "HBoxModel",
            "_view_count": null,
            "_view_module": "@jupyter-widgets/controls",
            "_view_module_version": "1.5.0",
            "_view_name": "HBoxView",
            "box_style": "",
            "children": [
              "IPY_MODEL_5a66dc34b45f4187966e68104b9843f3",
              "IPY_MODEL_0aa1c9f0e783423cb952b2c46ccd346f",
              "IPY_MODEL_6cff0dee17fc48fab95af929a95a24ef"
            ],
            "layout": "IPY_MODEL_3ff66277081d45818a9b421ddc066947"
          }
        },
        "5a66dc34b45f4187966e68104b9843f3": {
          "model_module": "@jupyter-widgets/controls",
          "model_name": "HTMLModel",
          "model_module_version": "1.5.0",
          "state": {
            "_dom_classes": [],
            "_model_module": "@jupyter-widgets/controls",
            "_model_module_version": "1.5.0",
            "_model_name": "HTMLModel",
            "_view_count": null,
            "_view_module": "@jupyter-widgets/controls",
            "_view_module_version": "1.5.0",
            "_view_name": "HTMLView",
            "description": "",
            "description_tooltip": null,
            "layout": "IPY_MODEL_c976c90720d24416ad2e30e7d199cf76",
            "placeholder": "​",
            "style": "IPY_MODEL_716679b7a1fe4649b9b87de7c607d175",
            "value": "config.json: 100%"
          }
        },
        "0aa1c9f0e783423cb952b2c46ccd346f": {
          "model_module": "@jupyter-widgets/controls",
          "model_name": "FloatProgressModel",
          "model_module_version": "1.5.0",
          "state": {
            "_dom_classes": [],
            "_model_module": "@jupyter-widgets/controls",
            "_model_module_version": "1.5.0",
            "_model_name": "FloatProgressModel",
            "_view_count": null,
            "_view_module": "@jupyter-widgets/controls",
            "_view_module_version": "1.5.0",
            "_view_name": "ProgressView",
            "bar_style": "success",
            "description": "",
            "description_tooltip": null,
            "layout": "IPY_MODEL_196f451e6f854643bc71202d0bba0087",
            "max": 665,
            "min": 0,
            "orientation": "horizontal",
            "style": "IPY_MODEL_8bb1228be3554799bc4d24309f9873ef",
            "value": 665
          }
        },
        "6cff0dee17fc48fab95af929a95a24ef": {
          "model_module": "@jupyter-widgets/controls",
          "model_name": "HTMLModel",
          "model_module_version": "1.5.0",
          "state": {
            "_dom_classes": [],
            "_model_module": "@jupyter-widgets/controls",
            "_model_module_version": "1.5.0",
            "_model_name": "HTMLModel",
            "_view_count": null,
            "_view_module": "@jupyter-widgets/controls",
            "_view_module_version": "1.5.0",
            "_view_name": "HTMLView",
            "description": "",
            "description_tooltip": null,
            "layout": "IPY_MODEL_1b26aca97b1b4a7cac3de247ec69dddb",
            "placeholder": "​",
            "style": "IPY_MODEL_3abf4986e35a43fe97d0151df64d0d62",
            "value": " 665/665 [00:00&lt;00:00, 22.6kB/s]"
          }
        },
        "3ff66277081d45818a9b421ddc066947": {
          "model_module": "@jupyter-widgets/base",
          "model_name": "LayoutModel",
          "model_module_version": "1.2.0",
          "state": {
            "_model_module": "@jupyter-widgets/base",
            "_model_module_version": "1.2.0",
            "_model_name": "LayoutModel",
            "_view_count": null,
            "_view_module": "@jupyter-widgets/base",
            "_view_module_version": "1.2.0",
            "_view_name": "LayoutView",
            "align_content": null,
            "align_items": null,
            "align_self": null,
            "border": null,
            "bottom": null,
            "display": null,
            "flex": null,
            "flex_flow": null,
            "grid_area": null,
            "grid_auto_columns": null,
            "grid_auto_flow": null,
            "grid_auto_rows": null,
            "grid_column": null,
            "grid_gap": null,
            "grid_row": null,
            "grid_template_areas": null,
            "grid_template_columns": null,
            "grid_template_rows": null,
            "height": null,
            "justify_content": null,
            "justify_items": null,
            "left": null,
            "margin": null,
            "max_height": null,
            "max_width": null,
            "min_height": null,
            "min_width": null,
            "object_fit": null,
            "object_position": null,
            "order": null,
            "overflow": null,
            "overflow_x": null,
            "overflow_y": null,
            "padding": null,
            "right": null,
            "top": null,
            "visibility": null,
            "width": null
          }
        },
        "c976c90720d24416ad2e30e7d199cf76": {
          "model_module": "@jupyter-widgets/base",
          "model_name": "LayoutModel",
          "model_module_version": "1.2.0",
          "state": {
            "_model_module": "@jupyter-widgets/base",
            "_model_module_version": "1.2.0",
            "_model_name": "LayoutModel",
            "_view_count": null,
            "_view_module": "@jupyter-widgets/base",
            "_view_module_version": "1.2.0",
            "_view_name": "LayoutView",
            "align_content": null,
            "align_items": null,
            "align_self": null,
            "border": null,
            "bottom": null,
            "display": null,
            "flex": null,
            "flex_flow": null,
            "grid_area": null,
            "grid_auto_columns": null,
            "grid_auto_flow": null,
            "grid_auto_rows": null,
            "grid_column": null,
            "grid_gap": null,
            "grid_row": null,
            "grid_template_areas": null,
            "grid_template_columns": null,
            "grid_template_rows": null,
            "height": null,
            "justify_content": null,
            "justify_items": null,
            "left": null,
            "margin": null,
            "max_height": null,
            "max_width": null,
            "min_height": null,
            "min_width": null,
            "object_fit": null,
            "object_position": null,
            "order": null,
            "overflow": null,
            "overflow_x": null,
            "overflow_y": null,
            "padding": null,
            "right": null,
            "top": null,
            "visibility": null,
            "width": null
          }
        },
        "716679b7a1fe4649b9b87de7c607d175": {
          "model_module": "@jupyter-widgets/controls",
          "model_name": "DescriptionStyleModel",
          "model_module_version": "1.5.0",
          "state": {
            "_model_module": "@jupyter-widgets/controls",
            "_model_module_version": "1.5.0",
            "_model_name": "DescriptionStyleModel",
            "_view_count": null,
            "_view_module": "@jupyter-widgets/base",
            "_view_module_version": "1.2.0",
            "_view_name": "StyleView",
            "description_width": ""
          }
        },
        "196f451e6f854643bc71202d0bba0087": {
          "model_module": "@jupyter-widgets/base",
          "model_name": "LayoutModel",
          "model_module_version": "1.2.0",
          "state": {
            "_model_module": "@jupyter-widgets/base",
            "_model_module_version": "1.2.0",
            "_model_name": "LayoutModel",
            "_view_count": null,
            "_view_module": "@jupyter-widgets/base",
            "_view_module_version": "1.2.0",
            "_view_name": "LayoutView",
            "align_content": null,
            "align_items": null,
            "align_self": null,
            "border": null,
            "bottom": null,
            "display": null,
            "flex": null,
            "flex_flow": null,
            "grid_area": null,
            "grid_auto_columns": null,
            "grid_auto_flow": null,
            "grid_auto_rows": null,
            "grid_column": null,
            "grid_gap": null,
            "grid_row": null,
            "grid_template_areas": null,
            "grid_template_columns": null,
            "grid_template_rows": null,
            "height": null,
            "justify_content": null,
            "justify_items": null,
            "left": null,
            "margin": null,
            "max_height": null,
            "max_width": null,
            "min_height": null,
            "min_width": null,
            "object_fit": null,
            "object_position": null,
            "order": null,
            "overflow": null,
            "overflow_x": null,
            "overflow_y": null,
            "padding": null,
            "right": null,
            "top": null,
            "visibility": null,
            "width": null
          }
        },
        "8bb1228be3554799bc4d24309f9873ef": {
          "model_module": "@jupyter-widgets/controls",
          "model_name": "ProgressStyleModel",
          "model_module_version": "1.5.0",
          "state": {
            "_model_module": "@jupyter-widgets/controls",
            "_model_module_version": "1.5.0",
            "_model_name": "ProgressStyleModel",
            "_view_count": null,
            "_view_module": "@jupyter-widgets/base",
            "_view_module_version": "1.2.0",
            "_view_name": "StyleView",
            "bar_color": null,
            "description_width": ""
          }
        },
        "1b26aca97b1b4a7cac3de247ec69dddb": {
          "model_module": "@jupyter-widgets/base",
          "model_name": "LayoutModel",
          "model_module_version": "1.2.0",
          "state": {
            "_model_module": "@jupyter-widgets/base",
            "_model_module_version": "1.2.0",
            "_model_name": "LayoutModel",
            "_view_count": null,
            "_view_module": "@jupyter-widgets/base",
            "_view_module_version": "1.2.0",
            "_view_name": "LayoutView",
            "align_content": null,
            "align_items": null,
            "align_self": null,
            "border": null,
            "bottom": null,
            "display": null,
            "flex": null,
            "flex_flow": null,
            "grid_area": null,
            "grid_auto_columns": null,
            "grid_auto_flow": null,
            "grid_auto_rows": null,
            "grid_column": null,
            "grid_gap": null,
            "grid_row": null,
            "grid_template_areas": null,
            "grid_template_columns": null,
            "grid_template_rows": null,
            "height": null,
            "justify_content": null,
            "justify_items": null,
            "left": null,
            "margin": null,
            "max_height": null,
            "max_width": null,
            "min_height": null,
            "min_width": null,
            "object_fit": null,
            "object_position": null,
            "order": null,
            "overflow": null,
            "overflow_x": null,
            "overflow_y": null,
            "padding": null,
            "right": null,
            "top": null,
            "visibility": null,
            "width": null
          }
        },
        "3abf4986e35a43fe97d0151df64d0d62": {
          "model_module": "@jupyter-widgets/controls",
          "model_name": "DescriptionStyleModel",
          "model_module_version": "1.5.0",
          "state": {
            "_model_module": "@jupyter-widgets/controls",
            "_model_module_version": "1.5.0",
            "_model_name": "DescriptionStyleModel",
            "_view_count": null,
            "_view_module": "@jupyter-widgets/base",
            "_view_module_version": "1.2.0",
            "_view_name": "StyleView",
            "description_width": ""
          }
        },
        "93623ca39e6b46d0bb8d4baa34ffea9b": {
          "model_module": "@jupyter-widgets/controls",
          "model_name": "HBoxModel",
          "model_module_version": "1.5.0",
          "state": {
            "_dom_classes": [],
            "_model_module": "@jupyter-widgets/controls",
            "_model_module_version": "1.5.0",
            "_model_name": "HBoxModel",
            "_view_count": null,
            "_view_module": "@jupyter-widgets/controls",
            "_view_module_version": "1.5.0",
            "_view_name": "HBoxView",
            "box_style": "",
            "children": [
              "IPY_MODEL_d27bbf812b3d4af182f954204d98f209",
              "IPY_MODEL_257ab67353c447fb970d5dcdcf171e62",
              "IPY_MODEL_7d665d21163f4dfe8c9c448e30a32c39"
            ],
            "layout": "IPY_MODEL_bad52cce94fe49dbbe948c917619be8e"
          }
        },
        "d27bbf812b3d4af182f954204d98f209": {
          "model_module": "@jupyter-widgets/controls",
          "model_name": "HTMLModel",
          "model_module_version": "1.5.0",
          "state": {
            "_dom_classes": [],
            "_model_module": "@jupyter-widgets/controls",
            "_model_module_version": "1.5.0",
            "_model_name": "HTMLModel",
            "_view_count": null,
            "_view_module": "@jupyter-widgets/controls",
            "_view_module_version": "1.5.0",
            "_view_name": "HTMLView",
            "description": "",
            "description_tooltip": null,
            "layout": "IPY_MODEL_d9c4dbbc001f4071bb8998c4c188b158",
            "placeholder": "​",
            "style": "IPY_MODEL_847dddb97c7f4442839a630cf0d8f096",
            "value": "model.safetensors: 100%"
          }
        },
        "257ab67353c447fb970d5dcdcf171e62": {
          "model_module": "@jupyter-widgets/controls",
          "model_name": "FloatProgressModel",
          "model_module_version": "1.5.0",
          "state": {
            "_dom_classes": [],
            "_model_module": "@jupyter-widgets/controls",
            "_model_module_version": "1.5.0",
            "_model_name": "FloatProgressModel",
            "_view_count": null,
            "_view_module": "@jupyter-widgets/controls",
            "_view_module_version": "1.5.0",
            "_view_name": "ProgressView",
            "bar_style": "success",
            "description": "",
            "description_tooltip": null,
            "layout": "IPY_MODEL_518ee3bb77ab4e359fbbb046f972f4a1",
            "max": 548105171,
            "min": 0,
            "orientation": "horizontal",
            "style": "IPY_MODEL_7a4fa2646fb849a0ae8f00fdc8c9234c",
            "value": 548105171
          }
        },
        "7d665d21163f4dfe8c9c448e30a32c39": {
          "model_module": "@jupyter-widgets/controls",
          "model_name": "HTMLModel",
          "model_module_version": "1.5.0",
          "state": {
            "_dom_classes": [],
            "_model_module": "@jupyter-widgets/controls",
            "_model_module_version": "1.5.0",
            "_model_name": "HTMLModel",
            "_view_count": null,
            "_view_module": "@jupyter-widgets/controls",
            "_view_module_version": "1.5.0",
            "_view_name": "HTMLView",
            "description": "",
            "description_tooltip": null,
            "layout": "IPY_MODEL_0779389a03764ec1a70873f5e36d1b68",
            "placeholder": "​",
            "style": "IPY_MODEL_68480074f81f4c7e9716bff511e0a089",
            "value": " 548M/548M [00:01&lt;00:00, 271MB/s]"
          }
        },
        "bad52cce94fe49dbbe948c917619be8e": {
          "model_module": "@jupyter-widgets/base",
          "model_name": "LayoutModel",
          "model_module_version": "1.2.0",
          "state": {
            "_model_module": "@jupyter-widgets/base",
            "_model_module_version": "1.2.0",
            "_model_name": "LayoutModel",
            "_view_count": null,
            "_view_module": "@jupyter-widgets/base",
            "_view_module_version": "1.2.0",
            "_view_name": "LayoutView",
            "align_content": null,
            "align_items": null,
            "align_self": null,
            "border": null,
            "bottom": null,
            "display": null,
            "flex": null,
            "flex_flow": null,
            "grid_area": null,
            "grid_auto_columns": null,
            "grid_auto_flow": null,
            "grid_auto_rows": null,
            "grid_column": null,
            "grid_gap": null,
            "grid_row": null,
            "grid_template_areas": null,
            "grid_template_columns": null,
            "grid_template_rows": null,
            "height": null,
            "justify_content": null,
            "justify_items": null,
            "left": null,
            "margin": null,
            "max_height": null,
            "max_width": null,
            "min_height": null,
            "min_width": null,
            "object_fit": null,
            "object_position": null,
            "order": null,
            "overflow": null,
            "overflow_x": null,
            "overflow_y": null,
            "padding": null,
            "right": null,
            "top": null,
            "visibility": null,
            "width": null
          }
        },
        "d9c4dbbc001f4071bb8998c4c188b158": {
          "model_module": "@jupyter-widgets/base",
          "model_name": "LayoutModel",
          "model_module_version": "1.2.0",
          "state": {
            "_model_module": "@jupyter-widgets/base",
            "_model_module_version": "1.2.0",
            "_model_name": "LayoutModel",
            "_view_count": null,
            "_view_module": "@jupyter-widgets/base",
            "_view_module_version": "1.2.0",
            "_view_name": "LayoutView",
            "align_content": null,
            "align_items": null,
            "align_self": null,
            "border": null,
            "bottom": null,
            "display": null,
            "flex": null,
            "flex_flow": null,
            "grid_area": null,
            "grid_auto_columns": null,
            "grid_auto_flow": null,
            "grid_auto_rows": null,
            "grid_column": null,
            "grid_gap": null,
            "grid_row": null,
            "grid_template_areas": null,
            "grid_template_columns": null,
            "grid_template_rows": null,
            "height": null,
            "justify_content": null,
            "justify_items": null,
            "left": null,
            "margin": null,
            "max_height": null,
            "max_width": null,
            "min_height": null,
            "min_width": null,
            "object_fit": null,
            "object_position": null,
            "order": null,
            "overflow": null,
            "overflow_x": null,
            "overflow_y": null,
            "padding": null,
            "right": null,
            "top": null,
            "visibility": null,
            "width": null
          }
        },
        "847dddb97c7f4442839a630cf0d8f096": {
          "model_module": "@jupyter-widgets/controls",
          "model_name": "DescriptionStyleModel",
          "model_module_version": "1.5.0",
          "state": {
            "_model_module": "@jupyter-widgets/controls",
            "_model_module_version": "1.5.0",
            "_model_name": "DescriptionStyleModel",
            "_view_count": null,
            "_view_module": "@jupyter-widgets/base",
            "_view_module_version": "1.2.0",
            "_view_name": "StyleView",
            "description_width": ""
          }
        },
        "518ee3bb77ab4e359fbbb046f972f4a1": {
          "model_module": "@jupyter-widgets/base",
          "model_name": "LayoutModel",
          "model_module_version": "1.2.0",
          "state": {
            "_model_module": "@jupyter-widgets/base",
            "_model_module_version": "1.2.0",
            "_model_name": "LayoutModel",
            "_view_count": null,
            "_view_module": "@jupyter-widgets/base",
            "_view_module_version": "1.2.0",
            "_view_name": "LayoutView",
            "align_content": null,
            "align_items": null,
            "align_self": null,
            "border": null,
            "bottom": null,
            "display": null,
            "flex": null,
            "flex_flow": null,
            "grid_area": null,
            "grid_auto_columns": null,
            "grid_auto_flow": null,
            "grid_auto_rows": null,
            "grid_column": null,
            "grid_gap": null,
            "grid_row": null,
            "grid_template_areas": null,
            "grid_template_columns": null,
            "grid_template_rows": null,
            "height": null,
            "justify_content": null,
            "justify_items": null,
            "left": null,
            "margin": null,
            "max_height": null,
            "max_width": null,
            "min_height": null,
            "min_width": null,
            "object_fit": null,
            "object_position": null,
            "order": null,
            "overflow": null,
            "overflow_x": null,
            "overflow_y": null,
            "padding": null,
            "right": null,
            "top": null,
            "visibility": null,
            "width": null
          }
        },
        "7a4fa2646fb849a0ae8f00fdc8c9234c": {
          "model_module": "@jupyter-widgets/controls",
          "model_name": "ProgressStyleModel",
          "model_module_version": "1.5.0",
          "state": {
            "_model_module": "@jupyter-widgets/controls",
            "_model_module_version": "1.5.0",
            "_model_name": "ProgressStyleModel",
            "_view_count": null,
            "_view_module": "@jupyter-widgets/base",
            "_view_module_version": "1.2.0",
            "_view_name": "StyleView",
            "bar_color": null,
            "description_width": ""
          }
        },
        "0779389a03764ec1a70873f5e36d1b68": {
          "model_module": "@jupyter-widgets/base",
          "model_name": "LayoutModel",
          "model_module_version": "1.2.0",
          "state": {
            "_model_module": "@jupyter-widgets/base",
            "_model_module_version": "1.2.0",
            "_model_name": "LayoutModel",
            "_view_count": null,
            "_view_module": "@jupyter-widgets/base",
            "_view_module_version": "1.2.0",
            "_view_name": "LayoutView",
            "align_content": null,
            "align_items": null,
            "align_self": null,
            "border": null,
            "bottom": null,
            "display": null,
            "flex": null,
            "flex_flow": null,
            "grid_area": null,
            "grid_auto_columns": null,
            "grid_auto_flow": null,
            "grid_auto_rows": null,
            "grid_column": null,
            "grid_gap": null,
            "grid_row": null,
            "grid_template_areas": null,
            "grid_template_columns": null,
            "grid_template_rows": null,
            "height": null,
            "justify_content": null,
            "justify_items": null,
            "left": null,
            "margin": null,
            "max_height": null,
            "max_width": null,
            "min_height": null,
            "min_width": null,
            "object_fit": null,
            "object_position": null,
            "order": null,
            "overflow": null,
            "overflow_x": null,
            "overflow_y": null,
            "padding": null,
            "right": null,
            "top": null,
            "visibility": null,
            "width": null
          }
        },
        "68480074f81f4c7e9716bff511e0a089": {
          "model_module": "@jupyter-widgets/controls",
          "model_name": "DescriptionStyleModel",
          "model_module_version": "1.5.0",
          "state": {
            "_model_module": "@jupyter-widgets/controls",
            "_model_module_version": "1.5.0",
            "_model_name": "DescriptionStyleModel",
            "_view_count": null,
            "_view_module": "@jupyter-widgets/base",
            "_view_module_version": "1.2.0",
            "_view_name": "StyleView",
            "description_width": ""
          }
        },
        "95f82e51d339461f832ad783a5316d4b": {
          "model_module": "@jupyter-widgets/controls",
          "model_name": "HBoxModel",
          "model_module_version": "1.5.0",
          "state": {
            "_dom_classes": [],
            "_model_module": "@jupyter-widgets/controls",
            "_model_module_version": "1.5.0",
            "_model_name": "HBoxModel",
            "_view_count": null,
            "_view_module": "@jupyter-widgets/controls",
            "_view_module_version": "1.5.0",
            "_view_name": "HBoxView",
            "box_style": "",
            "children": [
              "IPY_MODEL_8afe270193ca457983c04891d195e945",
              "IPY_MODEL_bcbba65659b046f384b7e5c161aeeeb6",
              "IPY_MODEL_4c922776df734707aaa114a9db9f7773"
            ],
            "layout": "IPY_MODEL_36f1c13fb57748d183e7f42b60ecdd46"
          }
        },
        "8afe270193ca457983c04891d195e945": {
          "model_module": "@jupyter-widgets/controls",
          "model_name": "HTMLModel",
          "model_module_version": "1.5.0",
          "state": {
            "_dom_classes": [],
            "_model_module": "@jupyter-widgets/controls",
            "_model_module_version": "1.5.0",
            "_model_name": "HTMLModel",
            "_view_count": null,
            "_view_module": "@jupyter-widgets/controls",
            "_view_module_version": "1.5.0",
            "_view_name": "HTMLView",
            "description": "",
            "description_tooltip": null,
            "layout": "IPY_MODEL_cc1bb048e362401f91111e5381d41778",
            "placeholder": "​",
            "style": "IPY_MODEL_d36b679f5d8d4f2e94470a16584553f6",
            "value": "generation_config.json: 100%"
          }
        },
        "bcbba65659b046f384b7e5c161aeeeb6": {
          "model_module": "@jupyter-widgets/controls",
          "model_name": "FloatProgressModel",
          "model_module_version": "1.5.0",
          "state": {
            "_dom_classes": [],
            "_model_module": "@jupyter-widgets/controls",
            "_model_module_version": "1.5.0",
            "_model_name": "FloatProgressModel",
            "_view_count": null,
            "_view_module": "@jupyter-widgets/controls",
            "_view_module_version": "1.5.0",
            "_view_name": "ProgressView",
            "bar_style": "success",
            "description": "",
            "description_tooltip": null,
            "layout": "IPY_MODEL_8b9117a4060840318db9a7264ce73433",
            "max": 124,
            "min": 0,
            "orientation": "horizontal",
            "style": "IPY_MODEL_f9668dbe2d5a476082082ddf00bace85",
            "value": 124
          }
        },
        "4c922776df734707aaa114a9db9f7773": {
          "model_module": "@jupyter-widgets/controls",
          "model_name": "HTMLModel",
          "model_module_version": "1.5.0",
          "state": {
            "_dom_classes": [],
            "_model_module": "@jupyter-widgets/controls",
            "_model_module_version": "1.5.0",
            "_model_name": "HTMLModel",
            "_view_count": null,
            "_view_module": "@jupyter-widgets/controls",
            "_view_module_version": "1.5.0",
            "_view_name": "HTMLView",
            "description": "",
            "description_tooltip": null,
            "layout": "IPY_MODEL_ce06c8ff23a7424db61c3ae1ff8f86b0",
            "placeholder": "​",
            "style": "IPY_MODEL_4de88c3071ce47c3be4382256d58254f",
            "value": " 124/124 [00:00&lt;00:00, 6.76kB/s]"
          }
        },
        "36f1c13fb57748d183e7f42b60ecdd46": {
          "model_module": "@jupyter-widgets/base",
          "model_name": "LayoutModel",
          "model_module_version": "1.2.0",
          "state": {
            "_model_module": "@jupyter-widgets/base",
            "_model_module_version": "1.2.0",
            "_model_name": "LayoutModel",
            "_view_count": null,
            "_view_module": "@jupyter-widgets/base",
            "_view_module_version": "1.2.0",
            "_view_name": "LayoutView",
            "align_content": null,
            "align_items": null,
            "align_self": null,
            "border": null,
            "bottom": null,
            "display": null,
            "flex": null,
            "flex_flow": null,
            "grid_area": null,
            "grid_auto_columns": null,
            "grid_auto_flow": null,
            "grid_auto_rows": null,
            "grid_column": null,
            "grid_gap": null,
            "grid_row": null,
            "grid_template_areas": null,
            "grid_template_columns": null,
            "grid_template_rows": null,
            "height": null,
            "justify_content": null,
            "justify_items": null,
            "left": null,
            "margin": null,
            "max_height": null,
            "max_width": null,
            "min_height": null,
            "min_width": null,
            "object_fit": null,
            "object_position": null,
            "order": null,
            "overflow": null,
            "overflow_x": null,
            "overflow_y": null,
            "padding": null,
            "right": null,
            "top": null,
            "visibility": null,
            "width": null
          }
        },
        "cc1bb048e362401f91111e5381d41778": {
          "model_module": "@jupyter-widgets/base",
          "model_name": "LayoutModel",
          "model_module_version": "1.2.0",
          "state": {
            "_model_module": "@jupyter-widgets/base",
            "_model_module_version": "1.2.0",
            "_model_name": "LayoutModel",
            "_view_count": null,
            "_view_module": "@jupyter-widgets/base",
            "_view_module_version": "1.2.0",
            "_view_name": "LayoutView",
            "align_content": null,
            "align_items": null,
            "align_self": null,
            "border": null,
            "bottom": null,
            "display": null,
            "flex": null,
            "flex_flow": null,
            "grid_area": null,
            "grid_auto_columns": null,
            "grid_auto_flow": null,
            "grid_auto_rows": null,
            "grid_column": null,
            "grid_gap": null,
            "grid_row": null,
            "grid_template_areas": null,
            "grid_template_columns": null,
            "grid_template_rows": null,
            "height": null,
            "justify_content": null,
            "justify_items": null,
            "left": null,
            "margin": null,
            "max_height": null,
            "max_width": null,
            "min_height": null,
            "min_width": null,
            "object_fit": null,
            "object_position": null,
            "order": null,
            "overflow": null,
            "overflow_x": null,
            "overflow_y": null,
            "padding": null,
            "right": null,
            "top": null,
            "visibility": null,
            "width": null
          }
        },
        "d36b679f5d8d4f2e94470a16584553f6": {
          "model_module": "@jupyter-widgets/controls",
          "model_name": "DescriptionStyleModel",
          "model_module_version": "1.5.0",
          "state": {
            "_model_module": "@jupyter-widgets/controls",
            "_model_module_version": "1.5.0",
            "_model_name": "DescriptionStyleModel",
            "_view_count": null,
            "_view_module": "@jupyter-widgets/base",
            "_view_module_version": "1.2.0",
            "_view_name": "StyleView",
            "description_width": ""
          }
        },
        "8b9117a4060840318db9a7264ce73433": {
          "model_module": "@jupyter-widgets/base",
          "model_name": "LayoutModel",
          "model_module_version": "1.2.0",
          "state": {
            "_model_module": "@jupyter-widgets/base",
            "_model_module_version": "1.2.0",
            "_model_name": "LayoutModel",
            "_view_count": null,
            "_view_module": "@jupyter-widgets/base",
            "_view_module_version": "1.2.0",
            "_view_name": "LayoutView",
            "align_content": null,
            "align_items": null,
            "align_self": null,
            "border": null,
            "bottom": null,
            "display": null,
            "flex": null,
            "flex_flow": null,
            "grid_area": null,
            "grid_auto_columns": null,
            "grid_auto_flow": null,
            "grid_auto_rows": null,
            "grid_column": null,
            "grid_gap": null,
            "grid_row": null,
            "grid_template_areas": null,
            "grid_template_columns": null,
            "grid_template_rows": null,
            "height": null,
            "justify_content": null,
            "justify_items": null,
            "left": null,
            "margin": null,
            "max_height": null,
            "max_width": null,
            "min_height": null,
            "min_width": null,
            "object_fit": null,
            "object_position": null,
            "order": null,
            "overflow": null,
            "overflow_x": null,
            "overflow_y": null,
            "padding": null,
            "right": null,
            "top": null,
            "visibility": null,
            "width": null
          }
        },
        "f9668dbe2d5a476082082ddf00bace85": {
          "model_module": "@jupyter-widgets/controls",
          "model_name": "ProgressStyleModel",
          "model_module_version": "1.5.0",
          "state": {
            "_model_module": "@jupyter-widgets/controls",
            "_model_module_version": "1.5.0",
            "_model_name": "ProgressStyleModel",
            "_view_count": null,
            "_view_module": "@jupyter-widgets/base",
            "_view_module_version": "1.2.0",
            "_view_name": "StyleView",
            "bar_color": null,
            "description_width": ""
          }
        },
        "ce06c8ff23a7424db61c3ae1ff8f86b0": {
          "model_module": "@jupyter-widgets/base",
          "model_name": "LayoutModel",
          "model_module_version": "1.2.0",
          "state": {
            "_model_module": "@jupyter-widgets/base",
            "_model_module_version": "1.2.0",
            "_model_name": "LayoutModel",
            "_view_count": null,
            "_view_module": "@jupyter-widgets/base",
            "_view_module_version": "1.2.0",
            "_view_name": "LayoutView",
            "align_content": null,
            "align_items": null,
            "align_self": null,
            "border": null,
            "bottom": null,
            "display": null,
            "flex": null,
            "flex_flow": null,
            "grid_area": null,
            "grid_auto_columns": null,
            "grid_auto_flow": null,
            "grid_auto_rows": null,
            "grid_column": null,
            "grid_gap": null,
            "grid_row": null,
            "grid_template_areas": null,
            "grid_template_columns": null,
            "grid_template_rows": null,
            "height": null,
            "justify_content": null,
            "justify_items": null,
            "left": null,
            "margin": null,
            "max_height": null,
            "max_width": null,
            "min_height": null,
            "min_width": null,
            "object_fit": null,
            "object_position": null,
            "order": null,
            "overflow": null,
            "overflow_x": null,
            "overflow_y": null,
            "padding": null,
            "right": null,
            "top": null,
            "visibility": null,
            "width": null
          }
        },
        "4de88c3071ce47c3be4382256d58254f": {
          "model_module": "@jupyter-widgets/controls",
          "model_name": "DescriptionStyleModel",
          "model_module_version": "1.5.0",
          "state": {
            "_model_module": "@jupyter-widgets/controls",
            "_model_module_version": "1.5.0",
            "_model_name": "DescriptionStyleModel",
            "_view_count": null,
            "_view_module": "@jupyter-widgets/base",
            "_view_module_version": "1.2.0",
            "_view_name": "StyleView",
            "description_width": ""
          }
        },
        "998dba3d3c2645339f180282336d78a9": {
          "model_module": "@jupyter-widgets/controls",
          "model_name": "HBoxModel",
          "model_module_version": "1.5.0",
          "state": {
            "_dom_classes": [],
            "_model_module": "@jupyter-widgets/controls",
            "_model_module_version": "1.5.0",
            "_model_name": "HBoxModel",
            "_view_count": null,
            "_view_module": "@jupyter-widgets/controls",
            "_view_module_version": "1.5.0",
            "_view_name": "HBoxView",
            "box_style": "",
            "children": [
              "IPY_MODEL_d9c6d7c6a3524fadb88384df25de7f7e",
              "IPY_MODEL_84abef3634c8433ba32c9301fa1c77f9",
              "IPY_MODEL_452e74c35c904e5e9ed7d3683b129c0f"
            ],
            "layout": "IPY_MODEL_61177b3d91dd4444b2d6f9981b9cc06e"
          }
        },
        "d9c6d7c6a3524fadb88384df25de7f7e": {
          "model_module": "@jupyter-widgets/controls",
          "model_name": "HTMLModel",
          "model_module_version": "1.5.0",
          "state": {
            "_dom_classes": [],
            "_model_module": "@jupyter-widgets/controls",
            "_model_module_version": "1.5.0",
            "_model_name": "HTMLModel",
            "_view_count": null,
            "_view_module": "@jupyter-widgets/controls",
            "_view_module_version": "1.5.0",
            "_view_name": "HTMLView",
            "description": "",
            "description_tooltip": null,
            "layout": "IPY_MODEL_67d4478144d04ad697b674351bde24af",
            "placeholder": "​",
            "style": "IPY_MODEL_2b0800d57e6d41e3a2dc73d734bebc04",
            "value": "vocab.json: 100%"
          }
        },
        "84abef3634c8433ba32c9301fa1c77f9": {
          "model_module": "@jupyter-widgets/controls",
          "model_name": "FloatProgressModel",
          "model_module_version": "1.5.0",
          "state": {
            "_dom_classes": [],
            "_model_module": "@jupyter-widgets/controls",
            "_model_module_version": "1.5.0",
            "_model_name": "FloatProgressModel",
            "_view_count": null,
            "_view_module": "@jupyter-widgets/controls",
            "_view_module_version": "1.5.0",
            "_view_name": "ProgressView",
            "bar_style": "success",
            "description": "",
            "description_tooltip": null,
            "layout": "IPY_MODEL_d58c0d2120b7489d910bab840741c278",
            "max": 1042301,
            "min": 0,
            "orientation": "horizontal",
            "style": "IPY_MODEL_b0a22d6bb939463292b0d3aeb436b3c1",
            "value": 1042301
          }
        },
        "452e74c35c904e5e9ed7d3683b129c0f": {
          "model_module": "@jupyter-widgets/controls",
          "model_name": "HTMLModel",
          "model_module_version": "1.5.0",
          "state": {
            "_dom_classes": [],
            "_model_module": "@jupyter-widgets/controls",
            "_model_module_version": "1.5.0",
            "_model_name": "HTMLModel",
            "_view_count": null,
            "_view_module": "@jupyter-widgets/controls",
            "_view_module_version": "1.5.0",
            "_view_name": "HTMLView",
            "description": "",
            "description_tooltip": null,
            "layout": "IPY_MODEL_4e503c3cf2a14677a3faed0e39dc697c",
            "placeholder": "​",
            "style": "IPY_MODEL_88f5489c08a14496b67d109e01ee5893",
            "value": " 1.04M/1.04M [00:00&lt;00:00, 3.96MB/s]"
          }
        },
        "61177b3d91dd4444b2d6f9981b9cc06e": {
          "model_module": "@jupyter-widgets/base",
          "model_name": "LayoutModel",
          "model_module_version": "1.2.0",
          "state": {
            "_model_module": "@jupyter-widgets/base",
            "_model_module_version": "1.2.0",
            "_model_name": "LayoutModel",
            "_view_count": null,
            "_view_module": "@jupyter-widgets/base",
            "_view_module_version": "1.2.0",
            "_view_name": "LayoutView",
            "align_content": null,
            "align_items": null,
            "align_self": null,
            "border": null,
            "bottom": null,
            "display": null,
            "flex": null,
            "flex_flow": null,
            "grid_area": null,
            "grid_auto_columns": null,
            "grid_auto_flow": null,
            "grid_auto_rows": null,
            "grid_column": null,
            "grid_gap": null,
            "grid_row": null,
            "grid_template_areas": null,
            "grid_template_columns": null,
            "grid_template_rows": null,
            "height": null,
            "justify_content": null,
            "justify_items": null,
            "left": null,
            "margin": null,
            "max_height": null,
            "max_width": null,
            "min_height": null,
            "min_width": null,
            "object_fit": null,
            "object_position": null,
            "order": null,
            "overflow": null,
            "overflow_x": null,
            "overflow_y": null,
            "padding": null,
            "right": null,
            "top": null,
            "visibility": null,
            "width": null
          }
        },
        "67d4478144d04ad697b674351bde24af": {
          "model_module": "@jupyter-widgets/base",
          "model_name": "LayoutModel",
          "model_module_version": "1.2.0",
          "state": {
            "_model_module": "@jupyter-widgets/base",
            "_model_module_version": "1.2.0",
            "_model_name": "LayoutModel",
            "_view_count": null,
            "_view_module": "@jupyter-widgets/base",
            "_view_module_version": "1.2.0",
            "_view_name": "LayoutView",
            "align_content": null,
            "align_items": null,
            "align_self": null,
            "border": null,
            "bottom": null,
            "display": null,
            "flex": null,
            "flex_flow": null,
            "grid_area": null,
            "grid_auto_columns": null,
            "grid_auto_flow": null,
            "grid_auto_rows": null,
            "grid_column": null,
            "grid_gap": null,
            "grid_row": null,
            "grid_template_areas": null,
            "grid_template_columns": null,
            "grid_template_rows": null,
            "height": null,
            "justify_content": null,
            "justify_items": null,
            "left": null,
            "margin": null,
            "max_height": null,
            "max_width": null,
            "min_height": null,
            "min_width": null,
            "object_fit": null,
            "object_position": null,
            "order": null,
            "overflow": null,
            "overflow_x": null,
            "overflow_y": null,
            "padding": null,
            "right": null,
            "top": null,
            "visibility": null,
            "width": null
          }
        },
        "2b0800d57e6d41e3a2dc73d734bebc04": {
          "model_module": "@jupyter-widgets/controls",
          "model_name": "DescriptionStyleModel",
          "model_module_version": "1.5.0",
          "state": {
            "_model_module": "@jupyter-widgets/controls",
            "_model_module_version": "1.5.0",
            "_model_name": "DescriptionStyleModel",
            "_view_count": null,
            "_view_module": "@jupyter-widgets/base",
            "_view_module_version": "1.2.0",
            "_view_name": "StyleView",
            "description_width": ""
          }
        },
        "d58c0d2120b7489d910bab840741c278": {
          "model_module": "@jupyter-widgets/base",
          "model_name": "LayoutModel",
          "model_module_version": "1.2.0",
          "state": {
            "_model_module": "@jupyter-widgets/base",
            "_model_module_version": "1.2.0",
            "_model_name": "LayoutModel",
            "_view_count": null,
            "_view_module": "@jupyter-widgets/base",
            "_view_module_version": "1.2.0",
            "_view_name": "LayoutView",
            "align_content": null,
            "align_items": null,
            "align_self": null,
            "border": null,
            "bottom": null,
            "display": null,
            "flex": null,
            "flex_flow": null,
            "grid_area": null,
            "grid_auto_columns": null,
            "grid_auto_flow": null,
            "grid_auto_rows": null,
            "grid_column": null,
            "grid_gap": null,
            "grid_row": null,
            "grid_template_areas": null,
            "grid_template_columns": null,
            "grid_template_rows": null,
            "height": null,
            "justify_content": null,
            "justify_items": null,
            "left": null,
            "margin": null,
            "max_height": null,
            "max_width": null,
            "min_height": null,
            "min_width": null,
            "object_fit": null,
            "object_position": null,
            "order": null,
            "overflow": null,
            "overflow_x": null,
            "overflow_y": null,
            "padding": null,
            "right": null,
            "top": null,
            "visibility": null,
            "width": null
          }
        },
        "b0a22d6bb939463292b0d3aeb436b3c1": {
          "model_module": "@jupyter-widgets/controls",
          "model_name": "ProgressStyleModel",
          "model_module_version": "1.5.0",
          "state": {
            "_model_module": "@jupyter-widgets/controls",
            "_model_module_version": "1.5.0",
            "_model_name": "ProgressStyleModel",
            "_view_count": null,
            "_view_module": "@jupyter-widgets/base",
            "_view_module_version": "1.2.0",
            "_view_name": "StyleView",
            "bar_color": null,
            "description_width": ""
          }
        },
        "4e503c3cf2a14677a3faed0e39dc697c": {
          "model_module": "@jupyter-widgets/base",
          "model_name": "LayoutModel",
          "model_module_version": "1.2.0",
          "state": {
            "_model_module": "@jupyter-widgets/base",
            "_model_module_version": "1.2.0",
            "_model_name": "LayoutModel",
            "_view_count": null,
            "_view_module": "@jupyter-widgets/base",
            "_view_module_version": "1.2.0",
            "_view_name": "LayoutView",
            "align_content": null,
            "align_items": null,
            "align_self": null,
            "border": null,
            "bottom": null,
            "display": null,
            "flex": null,
            "flex_flow": null,
            "grid_area": null,
            "grid_auto_columns": null,
            "grid_auto_flow": null,
            "grid_auto_rows": null,
            "grid_column": null,
            "grid_gap": null,
            "grid_row": null,
            "grid_template_areas": null,
            "grid_template_columns": null,
            "grid_template_rows": null,
            "height": null,
            "justify_content": null,
            "justify_items": null,
            "left": null,
            "margin": null,
            "max_height": null,
            "max_width": null,
            "min_height": null,
            "min_width": null,
            "object_fit": null,
            "object_position": null,
            "order": null,
            "overflow": null,
            "overflow_x": null,
            "overflow_y": null,
            "padding": null,
            "right": null,
            "top": null,
            "visibility": null,
            "width": null
          }
        },
        "88f5489c08a14496b67d109e01ee5893": {
          "model_module": "@jupyter-widgets/controls",
          "model_name": "DescriptionStyleModel",
          "model_module_version": "1.5.0",
          "state": {
            "_model_module": "@jupyter-widgets/controls",
            "_model_module_version": "1.5.0",
            "_model_name": "DescriptionStyleModel",
            "_view_count": null,
            "_view_module": "@jupyter-widgets/base",
            "_view_module_version": "1.2.0",
            "_view_name": "StyleView",
            "description_width": ""
          }
        },
        "e5c6a65e47eb43aa8b2c21cf0953412e": {
          "model_module": "@jupyter-widgets/controls",
          "model_name": "HBoxModel",
          "model_module_version": "1.5.0",
          "state": {
            "_dom_classes": [],
            "_model_module": "@jupyter-widgets/controls",
            "_model_module_version": "1.5.0",
            "_model_name": "HBoxModel",
            "_view_count": null,
            "_view_module": "@jupyter-widgets/controls",
            "_view_module_version": "1.5.0",
            "_view_name": "HBoxView",
            "box_style": "",
            "children": [
              "IPY_MODEL_20015401dc3d4c82bb64aa3f07363751",
              "IPY_MODEL_f6ce297202a34bea9d8e2780cfa4cfa6",
              "IPY_MODEL_9fca1fa564764b21ab2ea301a7ba059b"
            ],
            "layout": "IPY_MODEL_75315b0c485a4996b97abff9283a8e8f"
          }
        },
        "20015401dc3d4c82bb64aa3f07363751": {
          "model_module": "@jupyter-widgets/controls",
          "model_name": "HTMLModel",
          "model_module_version": "1.5.0",
          "state": {
            "_dom_classes": [],
            "_model_module": "@jupyter-widgets/controls",
            "_model_module_version": "1.5.0",
            "_model_name": "HTMLModel",
            "_view_count": null,
            "_view_module": "@jupyter-widgets/controls",
            "_view_module_version": "1.5.0",
            "_view_name": "HTMLView",
            "description": "",
            "description_tooltip": null,
            "layout": "IPY_MODEL_543e01db90394ac3ae7cf13b1c50fa52",
            "placeholder": "​",
            "style": "IPY_MODEL_0fd877ddf02b4f7f833afc9e022374b0",
            "value": "merges.txt: 100%"
          }
        },
        "f6ce297202a34bea9d8e2780cfa4cfa6": {
          "model_module": "@jupyter-widgets/controls",
          "model_name": "FloatProgressModel",
          "model_module_version": "1.5.0",
          "state": {
            "_dom_classes": [],
            "_model_module": "@jupyter-widgets/controls",
            "_model_module_version": "1.5.0",
            "_model_name": "FloatProgressModel",
            "_view_count": null,
            "_view_module": "@jupyter-widgets/controls",
            "_view_module_version": "1.5.0",
            "_view_name": "ProgressView",
            "bar_style": "success",
            "description": "",
            "description_tooltip": null,
            "layout": "IPY_MODEL_853ef813c1944eafab7487609592ee52",
            "max": 456318,
            "min": 0,
            "orientation": "horizontal",
            "style": "IPY_MODEL_893c7149ae45467ca02f5c38842923bd",
            "value": 456318
          }
        },
        "9fca1fa564764b21ab2ea301a7ba059b": {
          "model_module": "@jupyter-widgets/controls",
          "model_name": "HTMLModel",
          "model_module_version": "1.5.0",
          "state": {
            "_dom_classes": [],
            "_model_module": "@jupyter-widgets/controls",
            "_model_module_version": "1.5.0",
            "_model_name": "HTMLModel",
            "_view_count": null,
            "_view_module": "@jupyter-widgets/controls",
            "_view_module_version": "1.5.0",
            "_view_name": "HTMLView",
            "description": "",
            "description_tooltip": null,
            "layout": "IPY_MODEL_1925f1bc75184025bf796c30e54f5f74",
            "placeholder": "​",
            "style": "IPY_MODEL_6e94438f1b43465ba8b827a189cc7563",
            "value": " 456k/456k [00:00&lt;00:00, 25.0MB/s]"
          }
        },
        "75315b0c485a4996b97abff9283a8e8f": {
          "model_module": "@jupyter-widgets/base",
          "model_name": "LayoutModel",
          "model_module_version": "1.2.0",
          "state": {
            "_model_module": "@jupyter-widgets/base",
            "_model_module_version": "1.2.0",
            "_model_name": "LayoutModel",
            "_view_count": null,
            "_view_module": "@jupyter-widgets/base",
            "_view_module_version": "1.2.0",
            "_view_name": "LayoutView",
            "align_content": null,
            "align_items": null,
            "align_self": null,
            "border": null,
            "bottom": null,
            "display": null,
            "flex": null,
            "flex_flow": null,
            "grid_area": null,
            "grid_auto_columns": null,
            "grid_auto_flow": null,
            "grid_auto_rows": null,
            "grid_column": null,
            "grid_gap": null,
            "grid_row": null,
            "grid_template_areas": null,
            "grid_template_columns": null,
            "grid_template_rows": null,
            "height": null,
            "justify_content": null,
            "justify_items": null,
            "left": null,
            "margin": null,
            "max_height": null,
            "max_width": null,
            "min_height": null,
            "min_width": null,
            "object_fit": null,
            "object_position": null,
            "order": null,
            "overflow": null,
            "overflow_x": null,
            "overflow_y": null,
            "padding": null,
            "right": null,
            "top": null,
            "visibility": null,
            "width": null
          }
        },
        "543e01db90394ac3ae7cf13b1c50fa52": {
          "model_module": "@jupyter-widgets/base",
          "model_name": "LayoutModel",
          "model_module_version": "1.2.0",
          "state": {
            "_model_module": "@jupyter-widgets/base",
            "_model_module_version": "1.2.0",
            "_model_name": "LayoutModel",
            "_view_count": null,
            "_view_module": "@jupyter-widgets/base",
            "_view_module_version": "1.2.0",
            "_view_name": "LayoutView",
            "align_content": null,
            "align_items": null,
            "align_self": null,
            "border": null,
            "bottom": null,
            "display": null,
            "flex": null,
            "flex_flow": null,
            "grid_area": null,
            "grid_auto_columns": null,
            "grid_auto_flow": null,
            "grid_auto_rows": null,
            "grid_column": null,
            "grid_gap": null,
            "grid_row": null,
            "grid_template_areas": null,
            "grid_template_columns": null,
            "grid_template_rows": null,
            "height": null,
            "justify_content": null,
            "justify_items": null,
            "left": null,
            "margin": null,
            "max_height": null,
            "max_width": null,
            "min_height": null,
            "min_width": null,
            "object_fit": null,
            "object_position": null,
            "order": null,
            "overflow": null,
            "overflow_x": null,
            "overflow_y": null,
            "padding": null,
            "right": null,
            "top": null,
            "visibility": null,
            "width": null
          }
        },
        "0fd877ddf02b4f7f833afc9e022374b0": {
          "model_module": "@jupyter-widgets/controls",
          "model_name": "DescriptionStyleModel",
          "model_module_version": "1.5.0",
          "state": {
            "_model_module": "@jupyter-widgets/controls",
            "_model_module_version": "1.5.0",
            "_model_name": "DescriptionStyleModel",
            "_view_count": null,
            "_view_module": "@jupyter-widgets/base",
            "_view_module_version": "1.2.0",
            "_view_name": "StyleView",
            "description_width": ""
          }
        },
        "853ef813c1944eafab7487609592ee52": {
          "model_module": "@jupyter-widgets/base",
          "model_name": "LayoutModel",
          "model_module_version": "1.2.0",
          "state": {
            "_model_module": "@jupyter-widgets/base",
            "_model_module_version": "1.2.0",
            "_model_name": "LayoutModel",
            "_view_count": null,
            "_view_module": "@jupyter-widgets/base",
            "_view_module_version": "1.2.0",
            "_view_name": "LayoutView",
            "align_content": null,
            "align_items": null,
            "align_self": null,
            "border": null,
            "bottom": null,
            "display": null,
            "flex": null,
            "flex_flow": null,
            "grid_area": null,
            "grid_auto_columns": null,
            "grid_auto_flow": null,
            "grid_auto_rows": null,
            "grid_column": null,
            "grid_gap": null,
            "grid_row": null,
            "grid_template_areas": null,
            "grid_template_columns": null,
            "grid_template_rows": null,
            "height": null,
            "justify_content": null,
            "justify_items": null,
            "left": null,
            "margin": null,
            "max_height": null,
            "max_width": null,
            "min_height": null,
            "min_width": null,
            "object_fit": null,
            "object_position": null,
            "order": null,
            "overflow": null,
            "overflow_x": null,
            "overflow_y": null,
            "padding": null,
            "right": null,
            "top": null,
            "visibility": null,
            "width": null
          }
        },
        "893c7149ae45467ca02f5c38842923bd": {
          "model_module": "@jupyter-widgets/controls",
          "model_name": "ProgressStyleModel",
          "model_module_version": "1.5.0",
          "state": {
            "_model_module": "@jupyter-widgets/controls",
            "_model_module_version": "1.5.0",
            "_model_name": "ProgressStyleModel",
            "_view_count": null,
            "_view_module": "@jupyter-widgets/base",
            "_view_module_version": "1.2.0",
            "_view_name": "StyleView",
            "bar_color": null,
            "description_width": ""
          }
        },
        "1925f1bc75184025bf796c30e54f5f74": {
          "model_module": "@jupyter-widgets/base",
          "model_name": "LayoutModel",
          "model_module_version": "1.2.0",
          "state": {
            "_model_module": "@jupyter-widgets/base",
            "_model_module_version": "1.2.0",
            "_model_name": "LayoutModel",
            "_view_count": null,
            "_view_module": "@jupyter-widgets/base",
            "_view_module_version": "1.2.0",
            "_view_name": "LayoutView",
            "align_content": null,
            "align_items": null,
            "align_self": null,
            "border": null,
            "bottom": null,
            "display": null,
            "flex": null,
            "flex_flow": null,
            "grid_area": null,
            "grid_auto_columns": null,
            "grid_auto_flow": null,
            "grid_auto_rows": null,
            "grid_column": null,
            "grid_gap": null,
            "grid_row": null,
            "grid_template_areas": null,
            "grid_template_columns": null,
            "grid_template_rows": null,
            "height": null,
            "justify_content": null,
            "justify_items": null,
            "left": null,
            "margin": null,
            "max_height": null,
            "max_width": null,
            "min_height": null,
            "min_width": null,
            "object_fit": null,
            "object_position": null,
            "order": null,
            "overflow": null,
            "overflow_x": null,
            "overflow_y": null,
            "padding": null,
            "right": null,
            "top": null,
            "visibility": null,
            "width": null
          }
        },
        "6e94438f1b43465ba8b827a189cc7563": {
          "model_module": "@jupyter-widgets/controls",
          "model_name": "DescriptionStyleModel",
          "model_module_version": "1.5.0",
          "state": {
            "_model_module": "@jupyter-widgets/controls",
            "_model_module_version": "1.5.0",
            "_model_name": "DescriptionStyleModel",
            "_view_count": null,
            "_view_module": "@jupyter-widgets/base",
            "_view_module_version": "1.2.0",
            "_view_name": "StyleView",
            "description_width": ""
          }
        },
        "11309da570044ce3b4a7453ee8964c9f": {
          "model_module": "@jupyter-widgets/controls",
          "model_name": "HBoxModel",
          "model_module_version": "1.5.0",
          "state": {
            "_dom_classes": [],
            "_model_module": "@jupyter-widgets/controls",
            "_model_module_version": "1.5.0",
            "_model_name": "HBoxModel",
            "_view_count": null,
            "_view_module": "@jupyter-widgets/controls",
            "_view_module_version": "1.5.0",
            "_view_name": "HBoxView",
            "box_style": "",
            "children": [
              "IPY_MODEL_dceaf17fd0784919bca96f21607a7aaa",
              "IPY_MODEL_5e8b46b7f90f4a43b3467e48e0cba6f2",
              "IPY_MODEL_d914604357c948e6ba4550cf6314edb9"
            ],
            "layout": "IPY_MODEL_e1cf3ab3699e4c0d952e9eddbcaefe94"
          }
        },
        "dceaf17fd0784919bca96f21607a7aaa": {
          "model_module": "@jupyter-widgets/controls",
          "model_name": "HTMLModel",
          "model_module_version": "1.5.0",
          "state": {
            "_dom_classes": [],
            "_model_module": "@jupyter-widgets/controls",
            "_model_module_version": "1.5.0",
            "_model_name": "HTMLModel",
            "_view_count": null,
            "_view_module": "@jupyter-widgets/controls",
            "_view_module_version": "1.5.0",
            "_view_name": "HTMLView",
            "description": "",
            "description_tooltip": null,
            "layout": "IPY_MODEL_daf36a53d1a44043ba22b3d92bbf2f19",
            "placeholder": "​",
            "style": "IPY_MODEL_ff388b46e5784a379bcff236de7f3969",
            "value": "tokenizer.json: 100%"
          }
        },
        "5e8b46b7f90f4a43b3467e48e0cba6f2": {
          "model_module": "@jupyter-widgets/controls",
          "model_name": "FloatProgressModel",
          "model_module_version": "1.5.0",
          "state": {
            "_dom_classes": [],
            "_model_module": "@jupyter-widgets/controls",
            "_model_module_version": "1.5.0",
            "_model_name": "FloatProgressModel",
            "_view_count": null,
            "_view_module": "@jupyter-widgets/controls",
            "_view_module_version": "1.5.0",
            "_view_name": "ProgressView",
            "bar_style": "success",
            "description": "",
            "description_tooltip": null,
            "layout": "IPY_MODEL_2245abbfda254d1c9f7699ec8daf17c7",
            "max": 1355256,
            "min": 0,
            "orientation": "horizontal",
            "style": "IPY_MODEL_b8263a98d59445ffa2ad5e43bc524167",
            "value": 1355256
          }
        },
        "d914604357c948e6ba4550cf6314edb9": {
          "model_module": "@jupyter-widgets/controls",
          "model_name": "HTMLModel",
          "model_module_version": "1.5.0",
          "state": {
            "_dom_classes": [],
            "_model_module": "@jupyter-widgets/controls",
            "_model_module_version": "1.5.0",
            "_model_name": "HTMLModel",
            "_view_count": null,
            "_view_module": "@jupyter-widgets/controls",
            "_view_module_version": "1.5.0",
            "_view_name": "HTMLView",
            "description": "",
            "description_tooltip": null,
            "layout": "IPY_MODEL_d69fbf205e2744009540aa14292ff055",
            "placeholder": "​",
            "style": "IPY_MODEL_78257aa87a0e4d94b7e601148d848dfa",
            "value": " 1.36M/1.36M [00:00&lt;00:00, 4.13MB/s]"
          }
        },
        "e1cf3ab3699e4c0d952e9eddbcaefe94": {
          "model_module": "@jupyter-widgets/base",
          "model_name": "LayoutModel",
          "model_module_version": "1.2.0",
          "state": {
            "_model_module": "@jupyter-widgets/base",
            "_model_module_version": "1.2.0",
            "_model_name": "LayoutModel",
            "_view_count": null,
            "_view_module": "@jupyter-widgets/base",
            "_view_module_version": "1.2.0",
            "_view_name": "LayoutView",
            "align_content": null,
            "align_items": null,
            "align_self": null,
            "border": null,
            "bottom": null,
            "display": null,
            "flex": null,
            "flex_flow": null,
            "grid_area": null,
            "grid_auto_columns": null,
            "grid_auto_flow": null,
            "grid_auto_rows": null,
            "grid_column": null,
            "grid_gap": null,
            "grid_row": null,
            "grid_template_areas": null,
            "grid_template_columns": null,
            "grid_template_rows": null,
            "height": null,
            "justify_content": null,
            "justify_items": null,
            "left": null,
            "margin": null,
            "max_height": null,
            "max_width": null,
            "min_height": null,
            "min_width": null,
            "object_fit": null,
            "object_position": null,
            "order": null,
            "overflow": null,
            "overflow_x": null,
            "overflow_y": null,
            "padding": null,
            "right": null,
            "top": null,
            "visibility": null,
            "width": null
          }
        },
        "daf36a53d1a44043ba22b3d92bbf2f19": {
          "model_module": "@jupyter-widgets/base",
          "model_name": "LayoutModel",
          "model_module_version": "1.2.0",
          "state": {
            "_model_module": "@jupyter-widgets/base",
            "_model_module_version": "1.2.0",
            "_model_name": "LayoutModel",
            "_view_count": null,
            "_view_module": "@jupyter-widgets/base",
            "_view_module_version": "1.2.0",
            "_view_name": "LayoutView",
            "align_content": null,
            "align_items": null,
            "align_self": null,
            "border": null,
            "bottom": null,
            "display": null,
            "flex": null,
            "flex_flow": null,
            "grid_area": null,
            "grid_auto_columns": null,
            "grid_auto_flow": null,
            "grid_auto_rows": null,
            "grid_column": null,
            "grid_gap": null,
            "grid_row": null,
            "grid_template_areas": null,
            "grid_template_columns": null,
            "grid_template_rows": null,
            "height": null,
            "justify_content": null,
            "justify_items": null,
            "left": null,
            "margin": null,
            "max_height": null,
            "max_width": null,
            "min_height": null,
            "min_width": null,
            "object_fit": null,
            "object_position": null,
            "order": null,
            "overflow": null,
            "overflow_x": null,
            "overflow_y": null,
            "padding": null,
            "right": null,
            "top": null,
            "visibility": null,
            "width": null
          }
        },
        "ff388b46e5784a379bcff236de7f3969": {
          "model_module": "@jupyter-widgets/controls",
          "model_name": "DescriptionStyleModel",
          "model_module_version": "1.5.0",
          "state": {
            "_model_module": "@jupyter-widgets/controls",
            "_model_module_version": "1.5.0",
            "_model_name": "DescriptionStyleModel",
            "_view_count": null,
            "_view_module": "@jupyter-widgets/base",
            "_view_module_version": "1.2.0",
            "_view_name": "StyleView",
            "description_width": ""
          }
        },
        "2245abbfda254d1c9f7699ec8daf17c7": {
          "model_module": "@jupyter-widgets/base",
          "model_name": "LayoutModel",
          "model_module_version": "1.2.0",
          "state": {
            "_model_module": "@jupyter-widgets/base",
            "_model_module_version": "1.2.0",
            "_model_name": "LayoutModel",
            "_view_count": null,
            "_view_module": "@jupyter-widgets/base",
            "_view_module_version": "1.2.0",
            "_view_name": "LayoutView",
            "align_content": null,
            "align_items": null,
            "align_self": null,
            "border": null,
            "bottom": null,
            "display": null,
            "flex": null,
            "flex_flow": null,
            "grid_area": null,
            "grid_auto_columns": null,
            "grid_auto_flow": null,
            "grid_auto_rows": null,
            "grid_column": null,
            "grid_gap": null,
            "grid_row": null,
            "grid_template_areas": null,
            "grid_template_columns": null,
            "grid_template_rows": null,
            "height": null,
            "justify_content": null,
            "justify_items": null,
            "left": null,
            "margin": null,
            "max_height": null,
            "max_width": null,
            "min_height": null,
            "min_width": null,
            "object_fit": null,
            "object_position": null,
            "order": null,
            "overflow": null,
            "overflow_x": null,
            "overflow_y": null,
            "padding": null,
            "right": null,
            "top": null,
            "visibility": null,
            "width": null
          }
        },
        "b8263a98d59445ffa2ad5e43bc524167": {
          "model_module": "@jupyter-widgets/controls",
          "model_name": "ProgressStyleModel",
          "model_module_version": "1.5.0",
          "state": {
            "_model_module": "@jupyter-widgets/controls",
            "_model_module_version": "1.5.0",
            "_model_name": "ProgressStyleModel",
            "_view_count": null,
            "_view_module": "@jupyter-widgets/base",
            "_view_module_version": "1.2.0",
            "_view_name": "StyleView",
            "bar_color": null,
            "description_width": ""
          }
        },
        "d69fbf205e2744009540aa14292ff055": {
          "model_module": "@jupyter-widgets/base",
          "model_name": "LayoutModel",
          "model_module_version": "1.2.0",
          "state": {
            "_model_module": "@jupyter-widgets/base",
            "_model_module_version": "1.2.0",
            "_model_name": "LayoutModel",
            "_view_count": null,
            "_view_module": "@jupyter-widgets/base",
            "_view_module_version": "1.2.0",
            "_view_name": "LayoutView",
            "align_content": null,
            "align_items": null,
            "align_self": null,
            "border": null,
            "bottom": null,
            "display": null,
            "flex": null,
            "flex_flow": null,
            "grid_area": null,
            "grid_auto_columns": null,
            "grid_auto_flow": null,
            "grid_auto_rows": null,
            "grid_column": null,
            "grid_gap": null,
            "grid_row": null,
            "grid_template_areas": null,
            "grid_template_columns": null,
            "grid_template_rows": null,
            "height": null,
            "justify_content": null,
            "justify_items": null,
            "left": null,
            "margin": null,
            "max_height": null,
            "max_width": null,
            "min_height": null,
            "min_width": null,
            "object_fit": null,
            "object_position": null,
            "order": null,
            "overflow": null,
            "overflow_x": null,
            "overflow_y": null,
            "padding": null,
            "right": null,
            "top": null,
            "visibility": null,
            "width": null
          }
        },
        "78257aa87a0e4d94b7e601148d848dfa": {
          "model_module": "@jupyter-widgets/controls",
          "model_name": "DescriptionStyleModel",
          "model_module_version": "1.5.0",
          "state": {
            "_model_module": "@jupyter-widgets/controls",
            "_model_module_version": "1.5.0",
            "_model_name": "DescriptionStyleModel",
            "_view_count": null,
            "_view_module": "@jupyter-widgets/base",
            "_view_module_version": "1.2.0",
            "_view_name": "StyleView",
            "description_width": ""
          }
        }
      }
    }
  },
  "nbformat": 4,
  "nbformat_minor": 0
}