{
  "cells": [
    {
      "cell_type": "markdown",
      "metadata": {
        "id": "BjpXhqlD3YB9"
      },
      "source": [
        "Create compression version of GPT-2 model and save the memory =)"
      ]
    },
    {
      "cell_type": "markdown",
      "metadata": {
        "id": "AVF7iwDE3YCD"
      },
      "source": [
        "# Transformer-based model compression tutorial\n",
        "\n",
        "Seminar prepared by Vika Chekalina\n",
        "\n",
        "In this notebook we will go through the process of GPT-2 compression.\n",
        "\n",
        "## Brief reminder: \n",
        "\n",
        "### Why do we need GPT-2 compression?\n",
        "\n",
        "- To reduce disk space consumption\n",
        "- To accelerate model inference\n",
        "- To reduce energy consumption\n",
        "\n",
        "### GPT-2 compression pipeline\n",
        "\n",
        "1) Extract fully-connected (transformers.conv1D()) from pretrained GPT-2\n",
        "\n",
        "2) Decompose it with linear algebra decomposition method\n",
        "\n",
        "3) Replace initial fully-connected layer with factorized layer\n",
        "\n",
        "4) Fine-tune model to recover performance degradation\n",
        "\n",
        "\n",
        "## Let's go through all of the stages in the pipeline"
      ]
    },
    {
      "cell_type": "code",
      "execution_count": null,
      "metadata": {
        "id": "b0tazb1c3YCF"
      },
      "outputs": [],
      "source": [
        "device = 'cuda'"
      ]
    },
    {
      "cell_type": "code",
      "execution_count": null,
      "metadata": {
        "colab": {
          "base_uri": "https://localhost:8080/"
        },
        "id": "w-xt_6Gx3j56",
        "outputId": "7c1e0f44-6306-4d8d-aba1-695dd38a0c36"
      },
      "outputs": [
        {
          "output_type": "stream",
          "name": "stdout",
          "text": [
            "Looking in indexes: https://pypi.org/simple, https://us-python.pkg.dev/colab-wheels/public/simple/\n",
            "Collecting transformers\n",
            "  Downloading transformers-4.20.1-py3-none-any.whl (4.4 MB)\n",
            "\u001b[K     |████████████████████████████████| 4.4 MB 11.6 MB/s \n",
            "\u001b[?25hCollecting tokenizers!=0.11.3,<0.13,>=0.11.1\n",
            "  Downloading tokenizers-0.12.1-cp37-cp37m-manylinux_2_12_x86_64.manylinux2010_x86_64.whl (6.6 MB)\n",
            "\u001b[K     |████████████████████████████████| 6.6 MB 9.5 MB/s \n",
            "\u001b[?25hRequirement already satisfied: requests in /usr/local/lib/python3.7/dist-packages (from transformers) (2.23.0)\n",
            "Collecting pyyaml>=5.1\n",
            "  Downloading PyYAML-6.0-cp37-cp37m-manylinux_2_5_x86_64.manylinux1_x86_64.manylinux_2_12_x86_64.manylinux2010_x86_64.whl (596 kB)\n",
            "\u001b[K     |████████████████████████████████| 596 kB 11.9 MB/s \n",
            "\u001b[?25hRequirement already satisfied: tqdm>=4.27 in /usr/local/lib/python3.7/dist-packages (from transformers) (4.64.0)\n",
            "Requirement already satisfied: filelock in /usr/local/lib/python3.7/dist-packages (from transformers) (3.7.1)\n",
            "Collecting huggingface-hub<1.0,>=0.1.0\n",
            "  Downloading huggingface_hub-0.8.1-py3-none-any.whl (101 kB)\n",
            "\u001b[K     |████████████████████████████████| 101 kB 13.7 MB/s \n",
            "\u001b[?25hRequirement already satisfied: importlib-metadata in /usr/local/lib/python3.7/dist-packages (from transformers) (4.11.4)\n",
            "Requirement already satisfied: numpy>=1.17 in /usr/local/lib/python3.7/dist-packages (from transformers) (1.21.6)\n",
            "Requirement already satisfied: packaging>=20.0 in /usr/local/lib/python3.7/dist-packages (from transformers) (21.3)\n",
            "Requirement already satisfied: regex!=2019.12.17 in /usr/local/lib/python3.7/dist-packages (from transformers) (2022.6.2)\n",
            "Requirement already satisfied: typing-extensions>=3.7.4.3 in /usr/local/lib/python3.7/dist-packages (from huggingface-hub<1.0,>=0.1.0->transformers) (4.1.1)\n",
            "Requirement already satisfied: pyparsing!=3.0.5,>=2.0.2 in /usr/local/lib/python3.7/dist-packages (from packaging>=20.0->transformers) (3.0.9)\n",
            "Requirement already satisfied: zipp>=0.5 in /usr/local/lib/python3.7/dist-packages (from importlib-metadata->transformers) (3.8.0)\n",
            "Requirement already satisfied: idna<3,>=2.5 in /usr/local/lib/python3.7/dist-packages (from requests->transformers) (2.10)\n",
            "Requirement already satisfied: certifi>=2017.4.17 in /usr/local/lib/python3.7/dist-packages (from requests->transformers) (2022.6.15)\n",
            "Requirement already satisfied: chardet<4,>=3.0.2 in /usr/local/lib/python3.7/dist-packages (from requests->transformers) (3.0.4)\n",
            "Requirement already satisfied: urllib3!=1.25.0,!=1.25.1,<1.26,>=1.21.1 in /usr/local/lib/python3.7/dist-packages (from requests->transformers) (1.24.3)\n",
            "Installing collected packages: pyyaml, tokenizers, huggingface-hub, transformers\n",
            "  Attempting uninstall: pyyaml\n",
            "    Found existing installation: PyYAML 3.13\n",
            "    Uninstalling PyYAML-3.13:\n",
            "      Successfully uninstalled PyYAML-3.13\n",
            "Successfully installed huggingface-hub-0.8.1 pyyaml-6.0 tokenizers-0.12.1 transformers-4.20.1\n"
          ]
        }
      ],
      "source": [
        "!pip3 install transformers"
      ]
    },
    {
      "cell_type": "code",
      "execution_count": null,
      "metadata": {
        "id": "Ku-vaYsh3YCI",
        "colab": {
          "base_uri": "https://localhost:8080/",
          "height": 81,
          "referenced_widgets": [
            "a2938c3b7f6a488292e1d02375978a77",
            "3fd228aaa144451e979f4968d6a1a8f2",
            "b9b540132b914b888698238da59a98bf",
            "25572e9c35984405a3c0251342641828",
            "19e71f4315e143a38c95dd530b8948f1",
            "ad8b09f93af74506b18e2871f3635b74",
            "7198766ea6d14c68b9de44078cdaa0b0",
            "be44ff03a7384688812b7b3b629ac106",
            "b858ef2b395e4020a4b374d1009a0211",
            "eb8a4fea75d4466e9ace2b2bc5b9fe78",
            "77f2f72ec7234166b5ff589d52bbe258",
            "a9a7a8c8cb484d6c9e19e4af81c17590",
            "872e3d32e60948c0bf53cf5b3e432655",
            "f6b89129f99840458374d883ccb10aa7",
            "d204300925bb4a73b05ef754d549490d",
            "d950fffcdebc4475be382dca5ef37a4e",
            "a8a7c6017dbe4eff8ac6156ec0c78aca",
            "8f094b3ca83c407481eca84498c885d9",
            "15b59fdb871f4c1eba19c74e77616ffc",
            "4599763cfb824b0a8d7356395f711ca1",
            "6f567f84543d4616a1f6e213a30cbd83",
            "38b841d748d74fa68a3425953a53c8c2"
          ]
        },
        "outputId": "0117e418-159a-4e0c-e374-0e15e1a866f0"
      },
      "outputs": [
        {
          "output_type": "display_data",
          "data": {
            "text/plain": [
              "Downloading:   0%|          | 0.00/665 [00:00<?, ?B/s]"
            ],
            "application/vnd.jupyter.widget-view+json": {
              "version_major": 2,
              "version_minor": 0,
              "model_id": "a2938c3b7f6a488292e1d02375978a77"
            }
          },
          "metadata": {}
        },
        {
          "output_type": "display_data",
          "data": {
            "text/plain": [
              "Downloading:   0%|          | 0.00/523M [00:00<?, ?B/s]"
            ],
            "application/vnd.jupyter.widget-view+json": {
              "version_major": 2,
              "version_minor": 0,
              "model_id": "a9a7a8c8cb484d6c9e19e4af81c17590"
            }
          },
          "metadata": {}
        }
      ],
      "source": [
        "from transformers import GPT2Model, GPT2Config, GPT2LMHeadModel\n",
        "\n",
        "# Initializing a GPT2 configuration\n",
        "configuration = GPT2Config()\n",
        "\n",
        "# Initializing a model from the configuration\n",
        "model = GPT2LMHeadModel(configuration).from_pretrained(\"gpt2\",\n",
        "                                                return_dict=True,\n",
        "                                                is_decoder=True)\n",
        "outt = model.to(device)"
      ]
    },
    {
      "cell_type": "markdown",
      "metadata": {
        "id": "PHCKeUWk3YCK"
      },
      "source": [
        "Count parameters number"
      ]
    },
    {
      "cell_type": "code",
      "execution_count": null,
      "metadata": {
        "colab": {
          "base_uri": "https://localhost:8080/"
        },
        "id": "_WrlBb4R3YCL",
        "outputId": "3cb64e1a-6387-45d2-8231-9547da4bbe35"
      },
      "outputs": [
        {
          "output_type": "stream",
          "name": "stdout",
          "text": [
            "num parameters in model 124439808\n"
          ]
        }
      ],
      "source": [
        "print (\"num parameters in model\", model.num_parameters()) #124 mln"
      ]
    },
    {
      "cell_type": "markdown",
      "metadata": {
        "id": "Ci96e-xx3YCO"
      },
      "source": [
        "We will validate a pre-trained language GPT-2 model on a validation part **Wikitext-103** dataset.\n",
        "\n",
        "To create a validation dataset we should:\n",
        "    \n",
        "- download archieved dataset\n",
        "- extract it\n",
        "- wrap tran and test parts in TextDataset and further Dataloader class"
      ]
    },
    {
      "cell_type": "code",
      "execution_count": null,
      "metadata": {
        "colab": {
          "base_uri": "https://localhost:8080/"
        },
        "id": "vBKz5osP5aJn",
        "outputId": "5430fe89-fd0d-4e4d-f894-21654f7662da"
      },
      "outputs": [
        {
          "output_type": "stream",
          "name": "stdout",
          "text": [
            "/content\n",
            "  % Total    % Received % Xferd  Average Speed   Time    Time     Time  Current\n",
            "                                 Dload  Upload   Total   Spent    Left  Speed\n",
            "100  181M  100  181M    0     0  89.4M      0  0:00:02  0:00:02 --:--:-- 89.3M\n"
          ]
        }
      ],
      "source": [
        "!pwd\n",
        "!curl https://s3.amazonaws.com/research.metamind.io/wikitext/wikitext-103-v1.zip -o wikitext-103-v1.zip"
      ]
    },
    {
      "cell_type": "code",
      "execution_count": null,
      "metadata": {
        "colab": {
          "base_uri": "https://localhost:8080/"
        },
        "id": "xubHwNDl3txJ",
        "outputId": "479e26d1-5791-4470-dd57-932ca8bcc209"
      },
      "outputs": [
        {
          "output_type": "stream",
          "name": "stdout",
          "text": [
            "Archive:  wikitext-103-v1.zip\n",
            "   creating: wikitext-103/\n",
            "  inflating: wikitext-103/wiki.test.tokens  \n",
            "  inflating: wikitext-103/wiki.valid.tokens  \n",
            "  inflating: wikitext-103/wiki.train.tokens  \n",
            "sample_data  wikitext-103  wikitext-103-v1.zip\n"
          ]
        }
      ],
      "source": [
        "\n",
        "!unzip wikitext-103-v1.zip\n",
        "!ls"
      ]
    },
    {
      "cell_type": "markdown",
      "metadata": {
        "id": "uGOdDVX83YCR"
      },
      "source": [
        "Create a validation dataset and measure perplexity of regular GPT-2"
      ]
    },
    {
      "cell_type": "code",
      "execution_count": null,
      "metadata": {
        "colab": {
          "base_uri": "https://localhost:8080/",
          "height": 136,
          "referenced_widgets": [
            "c5242d6541324663b7afe67f565f5911",
            "c827eedb8a244d759e96577e12363254",
            "c1911aaffde645d1b13ebcde509a6574",
            "cd988575cc0442408d6b4ebcf1ed4f12",
            "1779f51e69524d3a9fd543c3d41c3d56",
            "c1c4167b3dcc4329a0e982e8f78a06e0",
            "929bc14048434dcabcf5f534fa94cf74",
            "0b1905b8c34644c2a4d352aeb25883a4",
            "e3ccbb76bf5c4c7f96fc6b3fc08c4cd1",
            "f390a7faf31a45e295b7ba4d7a158747",
            "6cc6033a72ed40dc875b64e036807824",
            "fa1e8d34c01047049b942bc05bb38e0d",
            "9e123a7386144626a0a50f478749870a",
            "2fbe57da2fa24160a0ad9b9b133190a9",
            "93a0005d13da408e84c7bbc63d358138",
            "528d5e9de3ff4d6abcab964d352f22d8",
            "cf3b384716cd419c82cda6135b504f3a",
            "721e3fbda88b4f8bba3593dac037c395",
            "aa894a4d3be745f697c12042efd817e2",
            "0d165059dea84b3e9a154d9599133ad7",
            "f1c6f5b59955453baa4c48259ce92f79",
            "2465c3bbcb5a4afba7332199206022db"
          ]
        },
        "id": "1eSWBbuY3YCX",
        "outputId": "254a671f-f096-4497-b119-55c6316f0f83"
      },
      "outputs": [
        {
          "output_type": "display_data",
          "data": {
            "text/plain": [
              "Downloading:   0%|          | 0.00/0.99M [00:00<?, ?B/s]"
            ],
            "application/vnd.jupyter.widget-view+json": {
              "version_major": 2,
              "version_minor": 0,
              "model_id": "c5242d6541324663b7afe67f565f5911"
            }
          },
          "metadata": {}
        },
        {
          "output_type": "display_data",
          "data": {
            "text/plain": [
              "Downloading:   0%|          | 0.00/446k [00:00<?, ?B/s]"
            ],
            "application/vnd.jupyter.widget-view+json": {
              "version_major": 2,
              "version_minor": 0,
              "model_id": "fa1e8d34c01047049b942bc05bb38e0d"
            }
          },
          "metadata": {}
        },
        {
          "output_type": "stream",
          "name": "stderr",
          "text": [
            "/usr/local/lib/python3.7/dist-packages/transformers/data/datasets/language_modeling.py:58: FutureWarning: This dataset will be removed from the library soon, preprocessing should be handled with the 🤗 Datasets library. You can have a look at this example script for pointers: https://github.com/huggingface/transformers/blob/main/examples/pytorch/language-modeling/run_mlm.py\n",
            "  FutureWarning,\n"
          ]
        }
      ],
      "source": [
        "from torch.utils.data import DataLoader, RandomSampler\n",
        "from transformers import GPT2Tokenizer\n",
        "from transformers import TextDataset\n",
        "tokenizer = GPT2Tokenizer.from_pretrained(\"gpt2\")\n",
        "\n",
        "    \n",
        "dataset_valid = TextDataset(tokenizer=tokenizer, \n",
        "                                file_path=\"/content/wikitext-103/wiki.valid.tokens\", \n",
        "                                block_size=512)\n",
        "    \n",
        "dataset_test = TextDataset(tokenizer=tokenizer, \n",
        "                                file_path=\"/content/wikitext-103/wiki.test.tokens\", block_size=512)\n",
        "len(dataset_valid), len(dataset_test)\n",
        "\n",
        "eval_dataloader = DataLoader(dataset_valid, batch_size=10)"
      ]
    },
    {
      "cell_type": "markdown",
      "metadata": {
        "id": "DJgWvPbp3YCd"
      },
      "source": [
        "Validate model and calculate a perplexity:"
      ]
    },
    {
      "cell_type": "code",
      "execution_count": null,
      "metadata": {
        "id": "9JVtPbFv3YCj"
      },
      "outputs": [],
      "source": [
        "from tqdm import tqdm\n",
        "model.eval()\n",
        "import torch\n",
        "\n",
        "def evaluate(model):\n",
        "    losses = []\n",
        "    eval_loss = 0.0\n",
        "    perplexity = 0.0\n",
        "    nb_eval_steps = 0\n",
        "    for batch in tqdm(eval_dataloader, desc=\"Evaluating\"):\n",
        "        inputs, labels = (batch, batch)\n",
        "        inputs = inputs.to(device)\n",
        "        labels = labels.to(device)\n",
        "\n",
        "        with torch.no_grad():\n",
        "            outputs = model(inputs, labels=labels)\n",
        "            lm_loss = outputs[0]\n",
        "            eval_loss += lm_loss.mean().item()\n",
        "            perplexity += torch.exp(torch.tensor(eval_loss))\n",
        "            losses.append(eval_loss)\n",
        "        nb_eval_steps += 1\n",
        "\n",
        "    eval_loss = eval_loss / nb_eval_steps\n",
        "\n",
        "    perplexity = torch.exp(torch.tensor(eval_loss))\n",
        "    perplexity = perplexity \n",
        "    return perplexity"
      ]
    },
    {
      "cell_type": "code",
      "execution_count": null,
      "metadata": {
        "id": "e3O7hZ333YCq",
        "colab": {
          "base_uri": "https://localhost:8080/"
        },
        "outputId": "4ab3bf28-caa4-4dd4-886e-3f1387cf5468"
      },
      "outputs": [
        {
          "output_type": "stream",
          "name": "stderr",
          "text": [
            "Evaluating: 100%|██████████| 49/49 [00:25<00:00,  1.93it/s]\n"
          ]
        },
        {
          "output_type": "execute_result",
          "data": {
            "text/plain": [
              "tensor(35.1143)"
            ]
          },
          "metadata": {},
          "execution_count": 9
        }
      ],
      "source": [
        "perplexity = evaluate(model)\n",
        "perplexity"
      ]
    },
    {
      "cell_type": "code",
      "source": [
        "model.transformer.h[1].mlp.c_fc.weight.shape"
      ],
      "metadata": {
        "colab": {
          "base_uri": "https://localhost:8080/"
        },
        "id": "1loUt8ZjRciK",
        "outputId": "2664752a-1081-459d-cb91-e035cdf6ad46"
      },
      "execution_count": null,
      "outputs": [
        {
          "output_type": "execute_result",
          "data": {
            "text/plain": [
              "torch.Size([768, 3072])"
            ]
          },
          "metadata": {},
          "execution_count": 14
        }
      ]
    },
    {
      "cell_type": "markdown",
      "metadata": {
        "id": "l1CVH6bI9_Do"
      },
      "source": [
        "# Which parts of the transformer are best to compress?\n",
        "\n",
        "Parameters in the parts of thransormer model, MB:\n",
        "\n",
        "Part \\ Model           | GPT-2 small  |  GPT-2 medium | GPT-2 large\n",
        "-----------------------|--------------|---------------|---------------|\n",
        "Attention block        | 9.01         |      16.02    |        25.02  |\n",
        "MLP block              | 18.01        |      32.02    |     50.02     |"
      ]
    },
    {
      "cell_type": "markdown",
      "metadata": {
        "id": "PH5fm9My3YC7"
      },
      "source": [
        "# 2. SVD-compression of Fully Connected layer\n",
        "\n",
        "Linear layer: $Y = X W^T + b$\n",
        "\n",
        "Singular Value decomposition: $W = U \\Sigma V^T$\n",
        "\n",
        "We use truncated SVD with rank $r$: $U_r = U[:, :r], \\Sigma_r = Σ[:r, :r], V_r = V[:, :r]$\n",
        "\n",
        "Since $\\Sigma_r$ is a diagonal matrix of shape $r \\times r$, we can fuze it inside $U_r$ and $V_r$ in order to avoid multiplication of X with it during inference time:\n",
        "\n",
        "$ W_2 = U[:, :r] \\sqrt{\\Sigma_r}, W_1 = \\sqrt{\\Sigma_r} U[:, :r]^T$\n",
        "\n",
        "As a result, we get:\n",
        "\n",
        "$W ≈ W_2 W_1$ and $Y \\approx X W_1^T W_2^T + b$\n",
        "\n",
        "Which is equivalent to two sequential linear layers - first with weight $W_1$ and zero bias and the second one with weight $W_2$ and bias $b$.\n",
        "\n",
        "Let $W$ have $n_{in}, n_{out}$ shape.\n",
        "\n",
        "Then, FLOP number of initial linear layer is $2 \\times n_{in} \\times (n_{out} + 1)$.\n",
        "\n",
        "And FLOP number of factorized layer is $2 \\times n_{in} \\times r + r \\times (2 \\times n_{out} + 1). $\n",
        "\n",
        "If $r < \\frac{n_{in} \\times (n_{out} + 1)}{n_{in} +  n_{out} + 0.5}$, then complexity of factorized layer is lower."
      ]
    },
    {
      "cell_type": "code",
      "execution_count": null,
      "metadata": {
        "colab": {
          "base_uri": "https://localhost:8080/"
        },
        "id": "BzzncWjm3YDC",
        "outputId": "940aeab4-2c60-4d5c-f7ec-2675bc569429"
      },
      "outputs": [
        {
          "output_type": "execute_result",
          "data": {
            "text/plain": [
              "((768, 3072), (3072,))"
            ]
          },
          "metadata": {},
          "execution_count": 15
        }
      ],
      "source": [
        "fc_w = model.transformer.h[0].mlp.c_fc.weight.data.cpu().data.numpy()\n",
        "fc_b = model.transformer.h[0].mlp.c_fc.bias.data.cpu().data.numpy()\n",
        "fc_w.shape, fc_b.shape"
      ]
    },
    {
      "cell_type": "code",
      "execution_count": null,
      "metadata": {
        "id": "wTjrjkeC3YDH"
      },
      "outputs": [],
      "source": [
        "from transformers.modeling_utils import Conv1D\n",
        "\n",
        "def factorize_to_svd(fc_w, fc_b, rank):\n",
        "    U, S, Vt = np.linalg.svd(fc_w, full_matrices=False)\n",
        "    # truncate SVD and fuse Sigma matrix\n",
        "    w1 = np.dot(np.diag(np.sqrt(S[0:rank])),Vt[0:rank, :])\n",
        "    w2 = np.dot(U[:,0:rank,], np.diag(np.sqrt(S[0:rank])))\n",
        "\n",
        "    # create new layers and insert weights\n",
        "    out_features, in_features = fc_w.shape\n",
        "    is_bias = fc_b is not None \n",
        "\n",
        "    linear1 = nn.Linear(in_features = in_features, \n",
        "                      out_features = rank,\n",
        "                      bias = False)\n",
        "    linear1.weight = nn.Parameter(torch.FloatTensor(w1))\n",
        "\n",
        "    linear2 = nn.Linear(in_features = rank,\n",
        "                      out_features = out_features,\n",
        "                      bias=is_bias)\n",
        "    linear2.weight = nn.Parameter(torch.FloatTensor(w2))\n",
        "    linear2.bias = nn.Parameter(torch.FloatTensor(fc_b))\n",
        "\n",
        "    # create factorized layer\n",
        "    factorized_layer = nn.Sequential(linear1.to(device),linear2.to(device))\n",
        "    return factorized_layer"
      ]
    },
    {
      "cell_type": "markdown",
      "metadata": {
        "id": "kselMhvn3YDR"
      },
      "source": [
        "We select a fully-connected layer in the 6th, 8th, 9th, 10th and 11th block of GPT-2. \n",
        "\n",
        "Note that Conv1D() Transformer class has transposed weight matrix.\n",
        "\n",
        "\n",
        "\n"
      ]
    },
    {
      "cell_type": "code",
      "execution_count": null,
      "metadata": {
        "id": "s8jVeHgT3YDW",
        "colab": {
          "base_uri": "https://localhost:8080/"
        },
        "outputId": "b30414e2-c2cb-46c3-f084-32d14f3e2204"
      },
      "outputs": [
        {
          "output_type": "stream",
          "name": "stdout",
          "text": [
            "(768, 3072) (3072,)\n",
            "(3072, 768) (768,)\n",
            "(768, 3072) (3072,)\n",
            "(3072, 768) (768,)\n",
            "(768, 3072) (3072,)\n",
            "(3072, 768) (768,)\n",
            "(768, 3072) (3072,)\n",
            "(3072, 768) (768,)\n",
            "(768, 3072) (3072,)\n",
            "(3072, 768) (768,)\n"
          ]
        }
      ],
      "source": [
        "import torch\n",
        "from torch import nn\n",
        "import numpy as np\n",
        "\n",
        "for i in [6, 8, 9, 10, 11]:\n",
        "    # fc part\n",
        "    fc_w = model.transformer.h[i].mlp.c_fc.weight.data.cpu().data.numpy()\n",
        "    fc_b = model.transformer.h[i].mlp.c_fc.bias.data.cpu().data.numpy()\n",
        "    print (fc_w.shape, fc_b.shape)\n",
        "    factorized_layer = factorize_to_svd(np.transpose(fc_w), fc_b, rank = 50)\n",
        "    model.transformer.h[i].mlp.c_fc = factorized_layer\n",
        "    \n",
        "    fc_w = model.transformer.h[i].mlp.c_proj.weight.data.cpu().data.numpy()\n",
        "    fc_b = model.transformer.h[i].mlp.c_proj.bias.data.cpu().data.numpy()\n",
        "    print (fc_w.shape, fc_b.shape)\n",
        "    factorized_layer = factorize_to_svd(np.transpose(fc_w), fc_b, rank = 50)\n",
        "    model.transformer.h[i].mlp.c_proj = factorized_layer\n",
        "    "
      ]
    },
    {
      "cell_type": "code",
      "execution_count": null,
      "metadata": {
        "id": "0wtHX3of3YDZ",
        "colab": {
          "base_uri": "https://localhost:8080/"
        },
        "outputId": "3da1dfc4-d0cc-46a5-a3e5-b6fde6ba3afa"
      },
      "outputs": [
        {
          "output_type": "stream",
          "name": "stdout",
          "text": [
            "num parameters in model 102766848\n"
          ]
        }
      ],
      "source": [
        "print (\"num parameters in model\", model.num_parameters())"
      ]
    },
    {
      "cell_type": "code",
      "execution_count": null,
      "metadata": {
        "id": "RDv6NmeW3YDf",
        "colab": {
          "base_uri": "https://localhost:8080/"
        },
        "outputId": "25c1e1dd-ae25-4ea2-e4f9-a815b3e63719"
      },
      "outputs": [
        {
          "output_type": "stream",
          "name": "stderr",
          "text": [
            "Evaluating: 100%|██████████| 49/49 [00:19<00:00,  2.45it/s]\n"
          ]
        },
        {
          "output_type": "execute_result",
          "data": {
            "text/plain": [
              "tensor(121.1321)"
            ]
          },
          "metadata": {},
          "execution_count": 20
        }
      ],
      "source": [
        "perplexity = evaluate(model.to(device))\n",
        "perplexity"
      ]
    },
    {
      "cell_type": "markdown",
      "metadata": {
        "id": "ATpon9aq3YDm"
      },
      "source": [
        "Let's define a function that will iterate over the compression ratios of a fully connected layer, \n",
        "\n",
        "apply the selected compression to the selected layers,\n",
        "\n",
        "and calculate the resulting perplexity**"
      ]
    },
    {
      "cell_type": "code",
      "execution_count": null,
      "metadata": {
        "id": "mA1tYGG43YDu"
      },
      "outputs": [],
      "source": [
        "def evaluate_compression_and_ppx(rank = 50, layer_to_remove = [6, 8, 9, 10, 11]):\n",
        "    configuration = GPT2Config()\n",
        "    # Initializing a model from the configuration\n",
        "    model = GPT2LMHeadModel(configuration).from_pretrained(\"gpt2\",\n",
        "                                                return_dict=True,\n",
        "                                                is_decoder=True)\n",
        "    outt = model.to(device)\n",
        "    print (\"rank\", rank)\n",
        "    print (\"layers\", layer_to_remove)\n",
        "    for i in layer_to_remove:\n",
        "    # fc part\n",
        "        fc_w = model.transformer.h[i].mlp.c_fc.weight.data.cpu()\n",
        "        fc_b = model.transformer.h[i].mlp.c_fc.bias.data.cpu().data.numpy()\n",
        "        factorized_layer = factorize_to_svd(np.transpose(fc_w), fc_b, rank = rank)\n",
        "        model.transformer.h[i].mlp.c_fc = factorized_layer.to(device)\n",
        "        \n",
        "        fc_w = model.transformer.h[i].mlp.c_proj.weight.data.cpu().data.numpy()\n",
        "        fc_b = model.transformer.h[i].mlp.c_proj.bias.data.cpu().data.numpy()\n",
        "        print (fc_w.shape, fc_b.shape)\n",
        "        factorized_layer = factorize_to_svd(np.transpose(fc_w), fc_b, rank = rank)\n",
        "        model.transformer.h[i].mlp.c_proj = factorized_layer.to(device)\n",
        "    print (\"num parameters in model\", model.num_parameters()) \n",
        "    perplexity = evaluate(model)\n",
        "    print (\"perplexity\", perplexity)"
      ]
    },
    {
      "cell_type": "code",
      "execution_count": null,
      "metadata": {
        "id": "0KkuwnCf3YDx",
        "colab": {
          "base_uri": "https://localhost:8080/"
        },
        "outputId": "1a34d65b-7fad-4c03-9624-844293968e5e"
      },
      "outputs": [
        {
          "output_type": "stream",
          "name": "stdout",
          "text": [
            "rank 50\n",
            "layers [6, 8, 9, 10, 11]\n",
            "(3072, 768) (768,)\n",
            "(3072, 768) (768,)\n",
            "(3072, 768) (768,)\n",
            "(3072, 768) (768,)\n",
            "(3072, 768) (768,)\n",
            "num parameters in model 102766848\n"
          ]
        },
        {
          "output_type": "stream",
          "name": "stderr",
          "text": [
            "Evaluating: 100%|██████████| 49/49 [00:20<00:00,  2.42it/s]\n"
          ]
        },
        {
          "output_type": "stream",
          "name": "stdout",
          "text": [
            "perplexity tensor(121.1321)\n",
            "rank 100\n",
            "layers [6, 8, 9, 10, 11]\n",
            "(3072, 768) (768,)\n",
            "(3072, 768) (768,)\n",
            "(3072, 768) (768,)\n",
            "(3072, 768) (768,)\n",
            "(3072, 768) (768,)\n",
            "num parameters in model 104686848\n"
          ]
        },
        {
          "output_type": "stream",
          "name": "stderr",
          "text": [
            "Evaluating: 100%|██████████| 49/49 [00:20<00:00,  2.36it/s]\n"
          ]
        },
        {
          "output_type": "stream",
          "name": "stdout",
          "text": [
            "perplexity tensor(103.6401)\n",
            "rank 200\n",
            "layers [6, 8, 9, 10, 11]\n",
            "(3072, 768) (768,)\n",
            "(3072, 768) (768,)\n",
            "(3072, 768) (768,)\n",
            "(3072, 768) (768,)\n",
            "(3072, 768) (768,)\n",
            "num parameters in model 108526848\n"
          ]
        },
        {
          "output_type": "stream",
          "name": "stderr",
          "text": [
            "Evaluating: 100%|██████████| 49/49 [00:21<00:00,  2.28it/s]\n"
          ]
        },
        {
          "output_type": "stream",
          "name": "stdout",
          "text": [
            "perplexity tensor(74.4626)\n",
            "rank 300\n",
            "layers [6, 8, 9, 10, 11]\n",
            "(3072, 768) (768,)\n",
            "(3072, 768) (768,)\n",
            "(3072, 768) (768,)\n",
            "(3072, 768) (768,)\n",
            "(3072, 768) (768,)\n",
            "num parameters in model 112366848\n"
          ]
        },
        {
          "output_type": "stream",
          "name": "stderr",
          "text": [
            "Evaluating: 100%|██████████| 49/49 [00:22<00:00,  2.21it/s]\n"
          ]
        },
        {
          "output_type": "stream",
          "name": "stdout",
          "text": [
            "perplexity tensor(59.4694)\n",
            "rank 400\n",
            "layers [6, 8, 9, 10, 11]\n",
            "(3072, 768) (768,)\n",
            "(3072, 768) (768,)\n",
            "(3072, 768) (768,)\n",
            "(3072, 768) (768,)\n",
            "(3072, 768) (768,)\n",
            "num parameters in model 116206848\n"
          ]
        },
        {
          "output_type": "stream",
          "name": "stderr",
          "text": [
            "Evaluating: 100%|██████████| 49/49 [00:22<00:00,  2.15it/s]\n"
          ]
        },
        {
          "output_type": "stream",
          "name": "stdout",
          "text": [
            "perplexity tensor(49.6767)\n",
            "rank 500\n",
            "layers [6, 8, 9, 10, 11]\n",
            "(3072, 768) (768,)\n",
            "(3072, 768) (768,)\n",
            "(3072, 768) (768,)\n",
            "(3072, 768) (768,)\n",
            "(3072, 768) (768,)\n",
            "num parameters in model 120046848\n"
          ]
        },
        {
          "output_type": "stream",
          "name": "stderr",
          "text": [
            "Evaluating: 100%|██████████| 49/49 [00:23<00:00,  2.11it/s]"
          ]
        },
        {
          "output_type": "stream",
          "name": "stdout",
          "text": [
            "perplexity tensor(43.0938)\n"
          ]
        },
        {
          "output_type": "stream",
          "name": "stderr",
          "text": [
            "\n"
          ]
        }
      ],
      "source": [
        "for rank in [50, 100, 200, 300, 400, 500]:\n",
        "    evaluate_compression_and_ppx(rank = rank, layer_to_remove = [6, 8, 9, 10, 11])"
      ]
    },
    {
      "cell_type": "markdown",
      "metadata": {
        "id": "1M2VH7IJ3YD8"
      },
      "source": [
        "# Pruning "
      ]
    },
    {
      "cell_type": "markdown",
      "metadata": {
        "id": "G8XPmHdP3YEC"
      },
      "source": [
        "To be sure that problems cannot be solved by simply removing layers, \n",
        "\n",
        "we replace the weight matrix with random initializations and calculate the final perplexity."
      ]
    },
    {
      "cell_type": "code",
      "execution_count": null,
      "metadata": {
        "id": "09A1d4hq3YEC"
      },
      "outputs": [],
      "source": [
        "model = GPT2LMHeadModel(configuration).from_pretrained(\"gpt2\",\n",
        "                                                return_dict=True,\n",
        "                                                is_decoder=True)\n",
        "outt = model.to(device)"
      ]
    },
    {
      "cell_type": "code",
      "execution_count": null,
      "metadata": {
        "id": "Oh9Xo8k13YEC"
      },
      "outputs": [],
      "source": [
        "for i in [6, 8, 9, 10, 11]:\n",
        "    # fc part\n",
        "    fc_w = model.transformer.h[i].mlp.c_fc.weight.data.cpu().data.numpy()\n",
        "    fp_w = model.transformer.h[i].mlp.c_proj.weight.data.cpu().data.numpy()\n",
        "    model.transformer.h[i].mlp.c_fc = Conv1D(nx = fc_w.shape[0], nf = 2600)\n",
        "    model.transformer.h[i].mlp.c_proj = Conv1D(nx = 2600, nf = fc_w.shape[0])"
      ]
    },
    {
      "cell_type": "code",
      "execution_count": null,
      "metadata": {
        "id": "wcku4G8ZwtKL",
        "colab": {
          "base_uri": "https://localhost:8080/"
        },
        "outputId": "18f0c5cb-57c9-41c3-eae9-fbb2bf9fb927"
      },
      "outputs": [
        {
          "output_type": "stream",
          "name": "stdout",
          "text": [
            "num parameters in model 120812488\n"
          ]
        }
      ],
      "source": [
        "print (\"num parameters in model\", model.num_parameters())"
      ]
    },
    {
      "cell_type": "code",
      "execution_count": null,
      "metadata": {
        "id": "YamCN59u3YEI",
        "colab": {
          "base_uri": "https://localhost:8080/"
        },
        "outputId": "377497f0-bdde-445d-bc8b-453045f98589"
      },
      "outputs": [
        {
          "output_type": "stream",
          "name": "stderr",
          "text": [
            "Evaluating: 100%|██████████| 49/49 [00:23<00:00,  2.13it/s]\n"
          ]
        },
        {
          "output_type": "execute_result",
          "data": {
            "text/plain": [
              "tensor(119.0928)"
            ]
          },
          "metadata": {},
          "execution_count": 26
        }
      ],
      "source": [
        "perplexity = evaluate(model.to(device))\n",
        "perplexity"
      ]
    },
    {
      "cell_type": "markdown",
      "metadata": {
        "id": "XrwRsuaZ3YEP"
      },
      "source": [
        "This is much more than in the pre-trained and in compressed model!"
      ]
    },
    {
      "cell_type": "code",
      "source": [
        ""
      ],
      "metadata": {
        "id": "dcYOn53jTusc"
      },
      "execution_count": null,
      "outputs": []
    },
    {
      "cell_type": "markdown",
      "metadata": {
        "id": "uIGvlIY93YEZ"
      },
      "source": [
        "# Tucker decomposition of a Fully-connected layer"
      ]
    },
    {
      "cell_type": "code",
      "execution_count": null,
      "metadata": {
        "id": "rQM2_KTt3YEd"
      },
      "outputs": [],
      "source": [
        "from transformers import GPT2Model, GPT2Config, GPT2LMHeadModel\n",
        "\n",
        "# Initializing a GPT2 configuration\n",
        "configuration = GPT2Config()\n",
        "\n",
        "# Initializing a model from the configuration\n",
        "model = GPT2LMHeadModel(configuration).from_pretrained(\"gpt2\",\n",
        "                                                return_dict=True,\n",
        "                                                is_decoder=True)\n",
        "outt = model.to(device)"
      ]
    },
    {
      "cell_type": "markdown",
      "metadata": {
        "id": "PewkCWIn9C8p"
      },
      "source": [
        "To apply Tucker Decomposition:\n",
        "\n",
        "- We represent fully-connected layer as a 1D -convolutional with filter of size 1.\n",
        "- Apply Partial-Tucker decomposition (Tucker decomposition over along some selected axes instead of all).\n",
        "- For decompostion we use open-sourse [Tensorly](http://tensorly.org/stable/index.html) backend.\n",
        "\n"
      ]
    },
    {
      "cell_type": "code",
      "execution_count": null,
      "metadata": {
        "id": "SI4cBnNa7IbM",
        "colab": {
          "base_uri": "https://localhost:8080/"
        },
        "outputId": "0eb91901-e27b-43f4-e17f-e05c1f3b83d9"
      },
      "outputs": [
        {
          "output_type": "stream",
          "name": "stdout",
          "text": [
            "Looking in indexes: https://pypi.org/simple, https://us-python.pkg.dev/colab-wheels/public/simple/\n",
            "Collecting tensorly\n",
            "  Downloading tensorly-0.7.0-py3-none-any.whl (198 kB)\n",
            "\u001b[K     |████████████████████████████████| 198 kB 28.8 MB/s \n",
            "\u001b[?25hRequirement already satisfied: numpy in /usr/local/lib/python3.7/dist-packages (from tensorly) (1.21.6)\n",
            "Collecting nose\n",
            "  Downloading nose-1.3.7-py3-none-any.whl (154 kB)\n",
            "\u001b[K     |████████████████████████████████| 154 kB 67.0 MB/s \n",
            "\u001b[?25hRequirement already satisfied: scipy in /usr/local/lib/python3.7/dist-packages (from tensorly) (1.4.1)\n",
            "Installing collected packages: nose, tensorly\n",
            "Successfully installed nose-1.3.7 tensorly-0.7.0\n"
          ]
        }
      ],
      "source": [
        "!pip3 install tensorly"
      ]
    },
    {
      "cell_type": "code",
      "execution_count": null,
      "metadata": {
        "id": "teXW-7H53YEe"
      },
      "outputs": [],
      "source": [
        "import tensorly\n",
        "tensorly.set_backend('pytorch')\n",
        "import numpy as np\n",
        "from tensorly.decomposition import tucker, partial_tucker\n",
        "from tensorly.tenalg import mode_dot\n",
        "\n",
        "def tucker_decomposition_conv_layer(weight, bias, rank, device):\n",
        "    \"\"\" Gets a conv layer, \n",
        "        returns a list of products of the Tucker decomposition.\n",
        "    \"\"\"\n",
        "\n",
        "    \n",
        "    core, [last, first] = \\\n",
        "        partial_tucker(weight.data, \\\n",
        "            modes=[0,1], rank=rank, init='svd')\n",
        "    \n",
        "    first_layer = torch.nn.Conv1d(in_channels=first.shape[0], \\\n",
        "            out_channels=first.shape[1], kernel_size=1)\n",
        "    \n",
        "    core_layer = torch.nn.Conv1d(in_channels=core.shape[1], \\\n",
        "            out_channels=core.shape[0], kernel_size=1)\n",
        "    \n",
        "    last_layer = torch.nn.Conv1d(in_channels=last.shape[1], \\\n",
        "        out_channels=last.shape[0], kernel_size=1)\n",
        "    \n",
        "    last_layer.bias.data = bias.data\n",
        "\n",
        "    first_layer.weight.data = \\\n",
        "        torch.transpose(first, 1, 0).unsqueeze(-1)\n",
        "    last_layer.weight.data = last.unsqueeze(-1)\n",
        "    core_layer.weight.data = core\n",
        "\n",
        "    new_layers = [first_layer.to(device), core_layer.to(device), last_layer.to(device)]\n",
        "    return new_layers"
      ]
    },
    {
      "cell_type": "code",
      "execution_count": null,
      "metadata": {
        "id": "cLH8RMS0EnI1"
      },
      "outputs": [],
      "source": [
        "import torch\n",
        "from torch import nn\n",
        "import numpy as np"
      ]
    },
    {
      "cell_type": "code",
      "execution_count": null,
      "metadata": {
        "id": "j-SLB8qR3YEe"
      },
      "outputs": [],
      "source": [
        "class TuckerLinear(nn.Module):\n",
        "    def __init__(self, fc_w, fc_b, rank):\n",
        "        super().__init__()\n",
        "\n",
        "        self.first_layer, self.core_layer, self.last_layer = tucker_decomposition_conv_layer(torch.transpose(fc_w, 0, 1).unsqueeze(2), fc_b, rank = rank, device=device)\n",
        "        self.first_layer.to(device)\n",
        "        self.core_layer.to(device)\n",
        "        self.last_layer.to(device)\n",
        "\n",
        "    def forward(self, x):\n",
        "        x3 = self.first_layer(x.transpose(1, 2))\n",
        "        x3 = self.core_layer(x3.transpose(2, 0))\n",
        "        x3 = self.last_layer(x3.transpose(2, 0))\n",
        "       \n",
        "        #x3 = self.core_layer(x3.transpose(2, 0))\n",
        "        \n",
        "        return (x3.transpose(1, 2).contiguous())\n",
        "\n",
        "\n",
        "\n"
      ]
    },
    {
      "cell_type": "code",
      "execution_count": null,
      "metadata": {
        "colab": {
          "base_uri": "https://localhost:8080/"
        },
        "id": "XZFbFVZs7_uu",
        "outputId": "48644285-1172-4624-dc76-1ddfaf234efa"
      },
      "outputs": [
        {
          "output_type": "stream",
          "name": "stderr",
          "text": [
            "/usr/local/lib/python3.7/dist-packages/tensorly/backend/core.py:1106: UserWarning: In partial_svd: converting to NumPy. Check SVD_FUNS for available alternatives if you want to avoid this.\n",
            "  warnings.warn('In partial_svd: converting to NumPy.'\n"
          ]
        }
      ],
      "source": [
        "rank = [360, 360]\n",
        "for i in [6, 8, 9, 10, 11]:\n",
        "    fc_w = model.transformer.h[i].mlp.c_fc.weight.data.cpu()\n",
        "    fc_b = model.transformer.h[i].mlp.c_fc.bias\n",
        "    factorized_layer = TuckerLinear(fc_w, fc_b, rank = rank).to(device)\n",
        "    model.transformer.h[i].mlp.c_fc = factorized_layer\n",
        "    "
      ]
    },
    {
      "cell_type": "markdown",
      "metadata": {
        "id": "C9hl4uPiCd_f"
      },
      "source": [
        "What happens?\n",
        "\n",
        "$W \\in [768, 3072] ⇒ [768, 360], [360, 360], [360, 3072]$\n",
        "\n",
        "How does **Forward** go?\n",
        "\n",
        "Input $\\in [10, 512, 768] \\overset{transpose}{\\Rightarrow} [10, 768, 512] \\overset{first}{\\Rightarrow} [10, 360, 512]  \\overset{transpose}{\\Rightarrow} [512, 360, 10] \\overset{core}{\\Rightarrow} [512, 360, 10] \\overset{transpose}{\\Rightarrow} [10, 360, 512] \\overset{last}{\\Rightarrow} [10, 3072, 512] \\overset{transpose}{\\Rightarrow} [10, 512, 3072] $\n",
        "\n",
        "\n",
        "**first** $\\in [360, 768, 1]$, \n",
        "\n",
        "**core** $\\in [360, 360, 1]$, \n",
        "\n",
        "**last** $\\in [3072, 360, 1]$\n"
      ]
    },
    {
      "cell_type": "code",
      "execution_count": null,
      "metadata": {
        "colab": {
          "base_uri": "https://localhost:8080/"
        },
        "id": "MWGT7D2v3YEz",
        "outputId": "4f806bb4-84c3-40d0-d971-75578f92fed5"
      },
      "outputs": [
        {
          "output_type": "stream",
          "name": "stderr",
          "text": [
            "Evaluating: 100%|██████████| 49/49 [00:22<00:00,  2.17it/s]\n"
          ]
        },
        {
          "output_type": "execute_result",
          "data": {
            "text/plain": [
              "tensor(50.0712)"
            ]
          },
          "metadata": {},
          "execution_count": 34
        }
      ],
      "source": [
        "perplexity = evaluate(model)\n",
        "perplexity"
      ]
    },
    {
      "cell_type": "code",
      "execution_count": null,
      "metadata": {
        "id": "GFIlRIIE3YEz"
      },
      "outputs": [],
      "source": [
        "params = []\n",
        "perplext = []\n",
        "def evaluate_compression_and_ppx(rank = [120, 100], layer_to_remove = [8, 10]):\n",
        "    configuration = GPT2Config()\n",
        "    # Initializing a model from the configuration\n",
        "    model = GPT2LMHeadModel(configuration).from_pretrained(\"gpt2\",\n",
        "                                                return_dict=True,\n",
        "                                                is_decoder=True)\n",
        "    outt = model.to(device)\n",
        "    print (\"rank\", rank)\n",
        "    print (\"layers\", layer_to_remove)\n",
        "    for i in layer_to_remove:\n",
        "    # fc part\n",
        "        fc_w = model.transformer.h[i].mlp.c_fc.weight.data.cpu()\n",
        "        fc_b = model.transformer.h[i].mlp.c_fc.bias\n",
        "        factorized_layer = TuckerLinear(fc_w, fc_b, rank = rank).to(device)\n",
        "        model.transformer.h[i].mlp.c_fc = factorized_layer\n",
        "        \n",
        "    print (\"num parameters in model\", model.num_parameters()) \n",
        "    params.append(model.num_parameters())\n",
        "    perplexity = evaluate(model)\n",
        "    print (\"perplexity\", perplexity)\n",
        "    perplext.append(perplexity)"
      ]
    },
    {
      "cell_type": "code",
      "execution_count": null,
      "metadata": {
        "colab": {
          "base_uri": "https://localhost:8080/"
        },
        "id": "W7pU1Np13YE1",
        "outputId": "b90d793e-3564-49a3-80e4-c1d6a2c1b1cc"
      },
      "outputs": [
        {
          "output_type": "stream",
          "name": "stdout",
          "text": [
            "rank [150, 130]\n",
            "layers [6, 8, 9, 10, 11]\n"
          ]
        },
        {
          "output_type": "stream",
          "name": "stderr",
          "text": [
            "/usr/local/lib/python3.7/dist-packages/tensorly/backend/core.py:1106: UserWarning: In partial_svd: converting to NumPy. Check SVD_FUNS for available alternatives if you want to avoid this.\n",
            "  warnings.warn('In partial_svd: converting to NumPy.'\n"
          ]
        },
        {
          "output_type": "stream",
          "name": "stdout",
          "text": [
            "num parameters in model 115545428\n"
          ]
        },
        {
          "output_type": "stream",
          "name": "stderr",
          "text": [
            "Evaluating: 100%|██████████| 49/49 [00:21<00:00,  2.24it/s]\n"
          ]
        },
        {
          "output_type": "stream",
          "name": "stdout",
          "text": [
            "perplexity tensor(91.8104)\n",
            "rank [190, 150]\n",
            "layers [6, 8, 9, 10, 11]\n",
            "num parameters in model 116281928\n"
          ]
        },
        {
          "output_type": "stream",
          "name": "stderr",
          "text": [
            "Evaluating: 100%|██████████| 49/49 [00:22<00:00,  2.19it/s]\n"
          ]
        },
        {
          "output_type": "stream",
          "name": "stdout",
          "text": [
            "perplexity tensor(86.0878)\n",
            "rank [250, 300]\n",
            "layers [6, 8, 9, 10, 11]\n",
            "num parameters in model 118013078\n"
          ]
        },
        {
          "output_type": "stream",
          "name": "stderr",
          "text": [
            "Evaluating: 100%|██████████| 49/49 [00:22<00:00,  2.13it/s]\n"
          ]
        },
        {
          "output_type": "stream",
          "name": "stdout",
          "text": [
            "perplexity tensor(61.7284)\n",
            "rank [300, 300]\n",
            "layers [6, 8, 9, 10, 11]\n",
            "num parameters in model 118856328\n"
          ]
        },
        {
          "output_type": "stream",
          "name": "stderr",
          "text": [
            "Evaluating: 100%|██████████| 49/49 [00:23<00:00,  2.10it/s]\n"
          ]
        },
        {
          "output_type": "stream",
          "name": "stdout",
          "text": [
            "perplexity tensor(54.8872)\n",
            "rank [350, 350]\n",
            "layers [6, 8, 9, 10, 11]\n",
            "num parameters in model 119979328\n"
          ]
        },
        {
          "output_type": "stream",
          "name": "stderr",
          "text": [
            "Evaluating: 100%|██████████| 49/49 [00:23<00:00,  2.08it/s]\n"
          ]
        },
        {
          "output_type": "stream",
          "name": "stdout",
          "text": [
            "perplexity tensor(50.2341)\n",
            "rank [370, 360]\n",
            "layers [6, 8, 9, 10, 11]\n",
            "num parameters in model 120378578\n"
          ]
        },
        {
          "output_type": "stream",
          "name": "stderr",
          "text": [
            "Evaluating: 100%|██████████| 49/49 [00:23<00:00,  2.08it/s]\n"
          ]
        },
        {
          "output_type": "stream",
          "name": "stdout",
          "text": [
            "perplexity tensor(50.0760)\n",
            "rank [370, 370]\n",
            "layers [6, 8, 9, 10, 11]\n",
            "num parameters in model 120435528\n"
          ]
        },
        {
          "output_type": "stream",
          "name": "stderr",
          "text": [
            "Evaluating: 100%|██████████| 49/49 [00:23<00:00,  2.07it/s]"
          ]
        },
        {
          "output_type": "stream",
          "name": "stdout",
          "text": [
            "perplexity tensor(48.6838)\n"
          ]
        },
        {
          "output_type": "stream",
          "name": "stderr",
          "text": [
            "\n"
          ]
        }
      ],
      "source": [
        "for rank in [[150, 130], [190, 150], [250, 300], [300, 300], [350, 350], [370, 360], [370, 370]]:\n",
        "    evaluate_compression_and_ppx(rank = rank, layer_to_remove = [6, 8, 9, 10, 11])"
      ]
    },
    {
      "cell_type": "code",
      "execution_count": null,
      "metadata": {
        "colab": {
          "base_uri": "https://localhost:8080/",
          "height": 350
        },
        "id": "orBMhzlEN_aw",
        "outputId": "96a15b77-301f-4689-ad43-6fa776cf9dbf"
      },
      "outputs": [
        {
          "output_type": "display_data",
          "data": {
            "text/plain": [
              "<Figure size 720x360 with 1 Axes>"
            ],
            "image/png": "[encoded data removed]"
          },
          "metadata": {
            "needs_background": "light"
          }
        }
      ],
      "source": [
        "import matplotlib.pyplot as plt\n",
        "\n",
        "plt.figure(figsize=(10, 5))\n",
        "plt.plot(params, perplext, marker = 'o', label=\"compressed model perplexity\")\n",
        "plt.grid()\n",
        "plt.title(\"Perplexity from numper of parameters\")\n",
        "plt.xlabel(\"Number of parameters\")\n",
        "plt.ylabel(\"Perplexity\")\n",
        "plt.legend()\n",
        "plt.show()"
      ]
    },
    {
      "cell_type": "markdown",
      "source": [
        "## Fine-Tune (Bonus)"
      ],
      "metadata": {
        "id": "J2ITayhqWK7v"
      }
    },
    {
      "cell_type": "code",
      "source": [
        "dataset_train = TextDataset(tokenizer=tokenizer, \n",
        "                                file_path=\"/home/jovyan/greenAI_gpt/wikitext-103/wiki.train.tokens\", block_size=512)\n",
        "\n",
        "train_dataloader = DataLoader(dataset_train, batch_size=10)"
      ],
      "metadata": {
        "id": "mDbwYNdtWB4n"
      },
      "execution_count": null,
      "outputs": []
    },
    {
      "cell_type": "code",
      "source": [
        "from transformers import get_cosine_schedule_with_warmup"
      ],
      "metadata": {
        "id": "cCZFvMCWWCQo"
      },
      "execution_count": null,
      "outputs": []
    },
    {
      "cell_type": "code",
      "source": [
        "epochs = 10\n",
        "gradient_accumulation_steps = 12\n",
        "num_train_batches = len(train_dataloader)\n",
        "cross_entropy = torch.nn.CrossEntropyLoss(ignore_index=tokenizer.eos_token_id)\n",
        "training_steps = num_train_batches // gradient_accumulation_steps * epochs\n",
        "optimizer = torch.optim.Adam(model.parameters(), lr=6.25e-5)\n",
        "scheduler = get_cosine_schedule_with_warmup(optimizer, num_warmup_steps=800, num_training_steps=training_steps)\n",
        "\n",
        "\n",
        "for epoch in range(1, 10):\n",
        "    \n",
        "    train_loss = 0\n",
        "    epoch_iterator = tqdm(train_dataloader, desc=\"Iteration\", disable=True)\n",
        "    for train_batch_idx, item in enumerate(epoch_iterator):\n",
        "        optimizer.zero_grad() # in case there are unused accumulated gradients\n",
        "        \n",
        "        model.train()\n",
        "        src, tgt = (item, item)\n",
        "        src = src.to(device=device)\n",
        "        tgt = tgt.to(device=device)\n",
        "\n",
        "    \n",
        "        output = model(input_ids=src, labels=tgt)\n",
        "        loss = output.loss\n",
        "        train_loss += loss.item() # before gradient accumulation step\n",
        "        if gradient_accumulation_steps > 1:\n",
        "            loss = loss / gradient_accumulation_steps\n",
        "        loss.backward() # accumulate gradients\n",
        "            \n",
        "        if train_batch_idx % gradient_accumulation_steps == 0:\n",
        "            optimizer.step()\n",
        "            scheduler.step()  # Update learning rate schedule\n",
        "            optimizer.zero_grad()\n",
        "            \n",
        "        if train_batch_idx % 1000 == 0:\n",
        "            print (\"loss\", loss)\n",
        "            perplexity = evaluate(model)\n",
        "            print (\"perplexity\", perplexity)\n",
        "                    "
      ],
      "metadata": {
        "id": "A7kC7oLfWCdJ"
      },
      "execution_count": null,
      "outputs": []
    }
  ],
  "metadata": {
    "accelerator": "GPU",
    "colab": {
      "name": "decompose_transformers_svd.ipynb",
      "provenance": []
    },
    "gpuClass": "standard",
    "kernelspec": {
      "display_name": "Python 3",
      "language": "python",
      "name": "python3"
    },
    "language_info": {
      "codemirror_mode": {
        "name": "ipython",
        "version": 3
      },
      "file_extension": ".py",
      "mimetype": "text/x-python",
      "name": "python",
      "nbconvert_exporter": "python",
      "pygments_lexer": "ipython3",
      "version": "3.7.4"
    },
    "widgets": {
      "application/vnd.jupyter.widget-state+json": {
        "a2938c3b7f6a488292e1d02375978a77": {
          "model_module": "@jupyter-widgets/controls",
          "model_name": "HBoxModel",
          "model_module_version": "1.5.0",
          "state": {
            "_dom_classes": [],
            "_model_module": "@jupyter-widgets/controls",
            "_model_module_version": "1.5.0",
            "_model_name": "HBoxModel",
            "_view_count": null,
            "_view_module": "@jupyter-widgets/controls",
            "_view_module_version": "1.5.0",
            "_view_name": "HBoxView",
            "box_style": "",
            "children": [
              "IPY_MODEL_3fd228aaa144451e979f4968d6a1a8f2",
              "IPY_MODEL_b9b540132b914b888698238da59a98bf",
              "IPY_MODEL_25572e9c35984405a3c0251342641828"
            ],
            "layout": "IPY_MODEL_19e71f4315e143a38c95dd530b8948f1"
          }
        },
        "3fd228aaa144451e979f4968d6a1a8f2": {
          "model_module": "@jupyter-widgets/controls",
          "model_name": "HTMLModel",
          "model_module_version": "1.5.0",
          "state": {
            "_dom_classes": [],
            "_model_module": "@jupyter-widgets/controls",
            "_model_module_version": "1.5.0",
            "_model_name": "HTMLModel",
            "_view_count": null,
            "_view_module": "@jupyter-widgets/controls",
            "_view_module_version": "1.5.0",
            "_view_name": "HTMLView",
            "description": "",
            "description_tooltip": null,
            "layout": "IPY_MODEL_ad8b09f93af74506b18e2871f3635b74",
            "placeholder": "​",
            "style": "IPY_MODEL_7198766ea6d14c68b9de44078cdaa0b0",
            "value": "Downloading: 100%"
          }
        },
        "b9b540132b914b888698238da59a98bf": {
          "model_module": "@jupyter-widgets/controls",
          "model_name": "FloatProgressModel",
          "model_module_version": "1.5.0",
          "state": {
            "_dom_classes": [],
            "_model_module": "@jupyter-widgets/controls",
            "_model_module_version": "1.5.0",
            "_model_name": "FloatProgressModel",
            "_view_count": null,
            "_view_module": "@jupyter-widgets/controls",
            "_view_module_version": "1.5.0",
            "_view_name": "ProgressView",
            "bar_style": "success",
            "description": "",
            "description_tooltip": null,
            "layout": "IPY_MODEL_be44ff03a7384688812b7b3b629ac106",
            "max": 665,
            "min": 0,
            "orientation": "horizontal",
            "style": "IPY_MODEL_b858ef2b395e4020a4b374d1009a0211",
            "value": 665
          }
        },
        "25572e9c35984405a3c0251342641828": {
          "model_module": "@jupyter-widgets/controls",
          "model_name": "HTMLModel",
          "model_module_version": "1.5.0",
          "state": {
            "_dom_classes": [],
            "_model_module": "@jupyter-widgets/controls",
            "_model_module_version": "1.5.0",
            "_model_name": "HTMLModel",
            "_view_count": null,
            "_view_module": "@jupyter-widgets/controls",
            "_view_module_version": "1.5.0",
            "_view_name": "HTMLView",
            "description": "",
            "description_tooltip": null,
            "layout": "IPY_MODEL_eb8a4fea75d4466e9ace2b2bc5b9fe78",
            "placeholder": "​",
            "style": "IPY_MODEL_77f2f72ec7234166b5ff589d52bbe258",
            "value": " 665/665 [00:00&lt;00:00, 19.1kB/s]"
          }
        },
        "19e71f4315e143a38c95dd530b8948f1": {
          "model_module": "@jupyter-widgets/base",
          "model_name": "LayoutModel",
          "model_module_version": "1.2.0",
          "state": {
            "_model_module": "@jupyter-widgets/base",
            "_model_module_version": "1.2.0",
            "_model_name": "LayoutModel",
            "_view_count": null,
            "_view_module": "@jupyter-widgets/base",
            "_view_module_version": "1.2.0",
            "_view_name": "LayoutView",
            "align_content": null,
            "align_items": null,
            "align_self": null,
            "border": null,
            "bottom": null,
            "display": null,
            "flex": null,
            "flex_flow": null,
            "grid_area": null,
            "grid_auto_columns": null,
            "grid_auto_flow": null,
            "grid_auto_rows": null,
            "grid_column": null,
            "grid_gap": null,
            "grid_row": null,
            "grid_template_areas": null,
            "grid_template_columns": null,
            "grid_template_rows": null,
            "height": null,
            "justify_content": null,
            "justify_items": null,
            "left": null,
            "margin": null,
            "max_height": null,
            "max_width": null,
            "min_height": null,
            "min_width": null,
            "object_fit": null,
            "object_position": null,
            "order": null,
            "overflow": null,
            "overflow_x": null,
            "overflow_y": null,
            "padding": null,
            "right": null,
            "top": null,
            "visibility": null,
            "width": null
          }
        },
        "ad8b09f93af74506b18e2871f3635b74": {
          "model_module": "@jupyter-widgets/base",
          "model_name": "LayoutModel",
          "model_module_version": "1.2.0",
          "state": {
            "_model_module": "@jupyter-widgets/base",
            "_model_module_version": "1.2.0",
            "_model_name": "LayoutModel",
            "_view_count": null,
            "_view_module": "@jupyter-widgets/base",
            "_view_module_version": "1.2.0",
            "_view_name": "LayoutView",
            "align_content": null,
            "align_items": null,
            "align_self": null,
            "border": null,
            "bottom": null,
            "display": null,
            "flex": null,
            "flex_flow": null,
            "grid_area": null,
            "grid_auto_columns": null,
            "grid_auto_flow": null,
            "grid_auto_rows": null,
            "grid_column": null,
            "grid_gap": null,
            "grid_row": null,
            "grid_template_areas": null,
            "grid_template_columns": null,
            "grid_template_rows": null,
            "height": null,
            "justify_content": null,
            "justify_items": null,
            "left": null,
            "margin": null,
            "max_height": null,
            "max_width": null,
            "min_height": null,
            "min_width": null,
            "object_fit": null,
            "object_position": null,
            "order": null,
            "overflow": null,
            "overflow_x": null,
            "overflow_y": null,
            "padding": null,
            "right": null,
            "top": null,
            "visibility": null,
            "width": null
          }
        },
        "7198766ea6d14c68b9de44078cdaa0b0": {
          "model_module": "@jupyter-widgets/controls",
          "model_name": "DescriptionStyleModel",
          "model_module_version": "1.5.0",
          "state": {
            "_model_module": "@jupyter-widgets/controls",
            "_model_module_version": "1.5.0",
            "_model_name": "DescriptionStyleModel",
            "_view_count": null,
            "_view_module": "@jupyter-widgets/base",
            "_view_module_version": "1.2.0",
            "_view_name": "StyleView",
            "description_width": ""
          }
        },
        "be44ff03a7384688812b7b3b629ac106": {
          "model_module": "@jupyter-widgets/base",
          "model_name": "LayoutModel",
          "model_module_version": "1.2.0",
          "state": {
            "_model_module": "@jupyter-widgets/base",
            "_model_module_version": "1.2.0",
            "_model_name": "LayoutModel",
            "_view_count": null,
            "_view_module": "@jupyter-widgets/base",
            "_view_module_version": "1.2.0",
            "_view_name": "LayoutView",
            "align_content": null,
            "align_items": null,
            "align_self": null,
            "border": null,
            "bottom": null,
            "display": null,
            "flex": null,
            "flex_flow": null,
            "grid_area": null,
            "grid_auto_columns": null,
            "grid_auto_flow": null,
            "grid_auto_rows": null,
            "grid_column": null,
            "grid_gap": null,
            "grid_row": null,
            "grid_template_areas": null,
            "grid_template_columns": null,
            "grid_template_rows": null,
            "height": null,
            "justify_content": null,
            "justify_items": null,
            "left": null,
            "margin": null,
            "max_height": null,
            "max_width": null,
            "min_height": null,
            "min_width": null,
            "object_fit": null,
            "object_position": null,
            "order": null,
            "overflow": null,
            "overflow_x": null,
            "overflow_y": null,
            "padding": null,
            "right": null,
            "top": null,
            "visibility": null,
            "width": null
          }
        },
        "b858ef2b395e4020a4b374d1009a0211": {
          "model_module": "@jupyter-widgets/controls",
          "model_name": "ProgressStyleModel",
          "model_module_version": "1.5.0",
          "state": {
            "_model_module": "@jupyter-widgets/controls",
            "_model_module_version": "1.5.0",
            "_model_name": "ProgressStyleModel",
            "_view_count": null,
            "_view_module": "@jupyter-widgets/base",
            "_view_module_version": "1.2.0",
            "_view_name": "StyleView",
            "bar_color": null,
            "description_width": ""
          }
        },
        "eb8a4fea75d4466e9ace2b2bc5b9fe78": {
          "model_module": "@jupyter-widgets/base",
          "model_name": "LayoutModel",
          "model_module_version": "1.2.0",
          "state": {
            "_model_module": "@jupyter-widgets/base",
            "_model_module_version": "1.2.0",
            "_model_name": "LayoutModel",
            "_view_count": null,
            "_view_module": "@jupyter-widgets/base",
            "_view_module_version": "1.2.0",
            "_view_name": "LayoutView",
            "align_content": null,
            "align_items": null,
            "align_self": null,
            "border": null,
            "bottom": null,
            "display": null,
            "flex": null,
            "flex_flow": null,
            "grid_area": null,
            "grid_auto_columns": null,
            "grid_auto_flow": null,
            "grid_auto_rows": null,
            "grid_column": null,
            "grid_gap": null,
            "grid_row": null,
            "grid_template_areas": null,
            "grid_template_columns": null,
            "grid_template_rows": null,
            "height": null,
            "justify_content": null,
            "justify_items": null,
            "left": null,
            "margin": null,
            "max_height": null,
            "max_width": null,
            "min_height": null,
            "min_width": null,
            "object_fit": null,
            "object_position": null,
            "order": null,
            "overflow": null,
            "overflow_x": null,
            "overflow_y": null,
            "padding": null,
            "right": null,
            "top": null,
            "visibility": null,
            "width": null
          }
        },
        "77f2f72ec7234166b5ff589d52bbe258": {
          "model_module": "@jupyter-widgets/controls",
          "model_name": "DescriptionStyleModel",
          "model_module_version": "1.5.0",
          "state": {
            "_model_module": "@jupyter-widgets/controls",
            "_model_module_version": "1.5.0",
            "_model_name": "DescriptionStyleModel",
            "_view_count": null,
            "_view_module": "@jupyter-widgets/base",
            "_view_module_version": "1.2.0",
            "_view_name": "StyleView",
            "description_width": ""
          }
        },
        "a9a7a8c8cb484d6c9e19e4af81c17590": {
          "model_module": "@jupyter-widgets/controls",
          "model_name": "HBoxModel",
          "model_module_version": "1.5.0",
          "state": {
            "_dom_classes": [],
            "_model_module": "@jupyter-widgets/controls",
            "_model_module_version": "1.5.0",
            "_model_name": "HBoxModel",
            "_view_count": null,
            "_view_module": "@jupyter-widgets/controls",
            "_view_module_version": "1.5.0",
            "_view_name": "HBoxView",
            "box_style": "",
            "children": [
              "IPY_MODEL_872e3d32e60948c0bf53cf5b3e432655",
              "IPY_MODEL_f6b89129f99840458374d883ccb10aa7",
              "IPY_MODEL_d204300925bb4a73b05ef754d549490d"
            ],
            "layout": "IPY_MODEL_d950fffcdebc4475be382dca5ef37a4e"
          }
        },
        "872e3d32e60948c0bf53cf5b3e432655": {
          "model_module": "@jupyter-widgets/controls",
          "model_name": "HTMLModel",
          "model_module_version": "1.5.0",
          "state": {
            "_dom_classes": [],
            "_model_module": "@jupyter-widgets/controls",
            "_model_module_version": "1.5.0",
            "_model_name": "HTMLModel",
            "_view_count": null,
            "_view_module": "@jupyter-widgets/controls",
            "_view_module_version": "1.5.0",
            "_view_name": "HTMLView",
            "description": "",
            "description_tooltip": null,
            "layout": "IPY_MODEL_a8a7c6017dbe4eff8ac6156ec0c78aca",
            "placeholder": "​",
            "style": "IPY_MODEL_8f094b3ca83c407481eca84498c885d9",
            "value": "Downloading: 100%"
          }
        },
        "f6b89129f99840458374d883ccb10aa7": {
          "model_module": "@jupyter-widgets/controls",
          "model_name": "FloatProgressModel",
          "model_module_version": "1.5.0",
          "state": {
            "_dom_classes": [],
            "_model_module": "@jupyter-widgets/controls",
            "_model_module_version": "1.5.0",
            "_model_name": "FloatProgressModel",
            "_view_count": null,
            "_view_module": "@jupyter-widgets/controls",
            "_view_module_version": "1.5.0",
            "_view_name": "ProgressView",
            "bar_style": "success",
            "description": "",
            "description_tooltip": null,
            "layout": "IPY_MODEL_15b59fdb871f4c1eba19c74e77616ffc",
            "max": 548118077,
            "min": 0,
            "orientation": "horizontal",
            "style": "IPY_MODEL_4599763cfb824b0a8d7356395f711ca1",
            "value": 548118077
          }
        },
        "d204300925bb4a73b05ef754d549490d": {
          "model_module": "@jupyter-widgets/controls",
          "model_name": "HTMLModel",
          "model_module_version": "1.5.0",
          "state": {
            "_dom_classes": [],
            "_model_module": "@jupyter-widgets/controls",
            "_model_module_version": "1.5.0",
            "_model_name": "HTMLModel",
            "_view_count": null,
            "_view_module": "@jupyter-widgets/controls",
            "_view_module_version": "1.5.0",
            "_view_name": "HTMLView",
            "description": "",
            "description_tooltip": null,
            "layout": "IPY_MODEL_6f567f84543d4616a1f6e213a30cbd83",
            "placeholder": "​",
            "style": "IPY_MODEL_38b841d748d74fa68a3425953a53c8c2",
            "value": " 523M/523M [00:09&lt;00:00, 62.2MB/s]"
          }
        },
        "d950fffcdebc4475be382dca5ef37a4e": {
          "model_module": "@jupyter-widgets/base",
          "model_name": "LayoutModel",
          "model_module_version": "1.2.0",
          "state": {
            "_model_module": "@jupyter-widgets/base",
            "_model_module_version": "1.2.0",
            "_model_name": "LayoutModel",
            "_view_count": null,
            "_view_module": "@jupyter-widgets/base",
            "_view_module_version": "1.2.0",
            "_view_name": "LayoutView",
            "align_content": null,
            "align_items": null,
            "align_self": null,
            "border": null,
            "bottom": null,
            "display": null,
            "flex": null,
            "flex_flow": null,
            "grid_area": null,
            "grid_auto_columns": null,
            "grid_auto_flow": null,
            "grid_auto_rows": null,
            "grid_column": null,
            "grid_gap": null,
            "grid_row": null,
            "grid_template_areas": null,
            "grid_template_columns": null,
            "grid_template_rows": null,
            "height": null,
            "justify_content": null,
            "justify_items": null,
            "left": null,
            "margin": null,
            "max_height": null,
            "max_width": null,
            "min_height": null,
            "min_width": null,
            "object_fit": null,
            "object_position": null,
            "order": null,
            "overflow": null,
            "overflow_x": null,
            "overflow_y": null,
            "padding": null,
            "right": null,
            "top": null,
            "visibility": null,
            "width": null
          }
        },
        "a8a7c6017dbe4eff8ac6156ec0c78aca": {
          "model_module": "@jupyter-widgets/base",
          "model_name": "LayoutModel",
          "model_module_version": "1.2.0",
          "state": {
            "_model_module": "@jupyter-widgets/base",
            "_model_module_version": "1.2.0",
            "_model_name": "LayoutModel",
            "_view_count": null,
            "_view_module": "@jupyter-widgets/base",
            "_view_module_version": "1.2.0",
            "_view_name": "LayoutView",
            "align_content": null,
            "align_items": null,
            "align_self": null,
            "border": null,
            "bottom": null,
            "display": null,
            "flex": null,
            "flex_flow": null,
            "grid_area": null,
            "grid_auto_columns": null,
            "grid_auto_flow": null,
            "grid_auto_rows": null,
            "grid_column": null,
            "grid_gap": null,
            "grid_row": null,
            "grid_template_areas": null,
            "grid_template_columns": null,
            "grid_template_rows": null,
            "height": null,
            "justify_content": null,
            "justify_items": null,
            "left": null,
            "margin": null,
            "max_height": null,
            "max_width": null,
            "min_height": null,
            "min_width": null,
            "object_fit": null,
            "object_position": null,
            "order": null,
            "overflow": null,
            "overflow_x": null,
            "overflow_y": null,
            "padding": null,
            "right": null,
            "top": null,
            "visibility": null,
            "width": null
          }
        },
        "8f094b3ca83c407481eca84498c885d9": {
          "model_module": "@jupyter-widgets/controls",
          "model_name": "DescriptionStyleModel",
          "model_module_version": "1.5.0",
          "state": {
            "_model_module": "@jupyter-widgets/controls",
            "_model_module_version": "1.5.0",
            "_model_name": "DescriptionStyleModel",
            "_view_count": null,
            "_view_module": "@jupyter-widgets/base",
            "_view_module_version": "1.2.0",
            "_view_name": "StyleView",
            "description_width": ""
          }
        },
        "15b59fdb871f4c1eba19c74e77616ffc": {
          "model_module": "@jupyter-widgets/base",
          "model_name": "LayoutModel",
          "model_module_version": "1.2.0",
          "state": {
            "_model_module": "@jupyter-widgets/base",
            "_model_module_version": "1.2.0",
            "_model_name": "LayoutModel",
            "_view_count": null,
            "_view_module": "@jupyter-widgets/base",
            "_view_module_version": "1.2.0",
            "_view_name": "LayoutView",
            "align_content": null,
            "align_items": null,
            "align_self": null,
            "border": null,
            "bottom": null,
            "display": null,
            "flex": null,
            "flex_flow": null,
            "grid_area": null,
            "grid_auto_columns": null,
            "grid_auto_flow": null,
            "grid_auto_rows": null,
            "grid_column": null,
            "grid_gap": null,
            "grid_row": null,
            "grid_template_areas": null,
            "grid_template_columns": null,
            "grid_template_rows": null,
            "height": null,
            "justify_content": null,
            "justify_items": null,
            "left": null,
            "margin": null,
            "max_height": null,
            "max_width": null,
            "min_height": null,
            "min_width": null,
            "object_fit": null,
            "object_position": null,
            "order": null,
            "overflow": null,
            "overflow_x": null,
            "overflow_y": null,
            "padding": null,
            "right": null,
            "top": null,
            "visibility": null,
            "width": null
          }
        },
        "4599763cfb824b0a8d7356395f711ca1": {
          "model_module": "@jupyter-widgets/controls",
          "model_name": "ProgressStyleModel",
          "model_module_version": "1.5.0",
          "state": {
            "_model_module": "@jupyter-widgets/controls",
            "_model_module_version": "1.5.0",
            "_model_name": "ProgressStyleModel",
            "_view_count": null,
            "_view_module": "@jupyter-widgets/base",
            "_view_module_version": "1.2.0",
            "_view_name": "StyleView",
            "bar_color": null,
            "description_width": ""
          }
        },
        "6f567f84543d4616a1f6e213a30cbd83": {
          "model_module": "@jupyter-widgets/base",
          "model_name": "LayoutModel",
          "model_module_version": "1.2.0",
          "state": {
            "_model_module": "@jupyter-widgets/base",
            "_model_module_version": "1.2.0",
            "_model_name": "LayoutModel",
            "_view_count": null,
            "_view_module": "@jupyter-widgets/base",
            "_view_module_version": "1.2.0",
            "_view_name": "LayoutView",
            "align_content": null,
            "align_items": null,
            "align_self": null,
            "border": null,
            "bottom": null,
            "display": null,
            "flex": null,
            "flex_flow": null,
            "grid_area": null,
            "grid_auto_columns": null,
            "grid_auto_flow": null,
            "grid_auto_rows": null,
            "grid_column": null,
            "grid_gap": null,
            "grid_row": null,
            "grid_template_areas": null,
            "grid_template_columns": null,
            "grid_template_rows": null,
            "height": null,
            "justify_content": null,
            "justify_items": null,
            "left": null,
            "margin": null,
            "max_height": null,
            "max_width": null,
            "min_height": null,
            "min_width": null,
            "object_fit": null,
            "object_position": null,
            "order": null,
            "overflow": null,
            "overflow_x": null,
            "overflow_y": null,
            "padding": null,
            "right": null,
            "top": null,
            "visibility": null,
            "width": null
          }
        },
        "38b841d748d74fa68a3425953a53c8c2": {
          "model_module": "@jupyter-widgets/controls",
          "model_name": "DescriptionStyleModel",
          "model_module_version": "1.5.0",
          "state": {
            "_model_module": "@jupyter-widgets/controls",
            "_model_module_version": "1.5.0",
            "_model_name": "DescriptionStyleModel",
            "_view_count": null,
            "_view_module": "@jupyter-widgets/base",
            "_view_module_version": "1.2.0",
            "_view_name": "StyleView",
            "description_width": ""
          }
        },
        "c5242d6541324663b7afe67f565f5911": {
          "model_module": "@jupyter-widgets/controls",
          "model_name": "HBoxModel",
          "model_module_version": "1.5.0",
          "state": {
            "_dom_classes": [],
            "_model_module": "@jupyter-widgets/controls",
            "_model_module_version": "1.5.0",
            "_model_name": "HBoxModel",
            "_view_count": null,
            "_view_module": "@jupyter-widgets/controls",
            "_view_module_version": "1.5.0",
            "_view_name": "HBoxView",
            "box_style": "",
            "children": [
              "IPY_MODEL_c827eedb8a244d759e96577e12363254",
              "IPY_MODEL_c1911aaffde645d1b13ebcde509a6574",
              "IPY_MODEL_cd988575cc0442408d6b4ebcf1ed4f12"
            ],
            "layout": "IPY_MODEL_1779f51e69524d3a9fd543c3d41c3d56"
          }
        },
        "c827eedb8a244d759e96577e12363254": {
          "model_module": "@jupyter-widgets/controls",
          "model_name": "HTMLModel",
          "model_module_version": "1.5.0",
          "state": {
            "_dom_classes": [],
            "_model_module": "@jupyter-widgets/controls",
            "_model_module_version": "1.5.0",
            "_model_name": "HTMLModel",
            "_view_count": null,
            "_view_module": "@jupyter-widgets/controls",
            "_view_module_version": "1.5.0",
            "_view_name": "HTMLView",
            "description": "",
            "description_tooltip": null,
            "layout": "IPY_MODEL_c1c4167b3dcc4329a0e982e8f78a06e0",
            "placeholder": "​",
            "style": "IPY_MODEL_929bc14048434dcabcf5f534fa94cf74",
            "value": "Downloading: 100%"
          }
        },
        "c1911aaffde645d1b13ebcde509a6574": {
          "model_module": "@jupyter-widgets/controls",
          "model_name": "FloatProgressModel",
          "model_module_version": "1.5.0",
          "state": {
            "_dom_classes": [],
            "_model_module": "@jupyter-widgets/controls",
            "_model_module_version": "1.5.0",
            "_model_name": "FloatProgressModel",
            "_view_count": null,
            "_view_module": "@jupyter-widgets/controls",
            "_view_module_version": "1.5.0",
            "_view_name": "ProgressView",
            "bar_style": "success",
            "description": "",
            "description_tooltip": null,
            "layout": "IPY_MODEL_0b1905b8c34644c2a4d352aeb25883a4",
            "max": 1042301,
            "min": 0,
            "orientation": "horizontal",
            "style": "IPY_MODEL_e3ccbb76bf5c4c7f96fc6b3fc08c4cd1",
            "value": 1042301
          }
        },
        "cd988575cc0442408d6b4ebcf1ed4f12": {
          "model_module": "@jupyter-widgets/controls",
          "model_name": "HTMLModel",
          "model_module_version": "1.5.0",
          "state": {
            "_dom_classes": [],
            "_model_module": "@jupyter-widgets/controls",
            "_model_module_version": "1.5.0",
            "_model_name": "HTMLModel",
            "_view_count": null,
            "_view_module": "@jupyter-widgets/controls",
            "_view_module_version": "1.5.0",
            "_view_name": "HTMLView",
            "description": "",
            "description_tooltip": null,
            "layout": "IPY_MODEL_f390a7faf31a45e295b7ba4d7a158747",
            "placeholder": "​",
            "style": "IPY_MODEL_6cc6033a72ed40dc875b64e036807824",
            "value": " 0.99M/0.99M [00:00&lt;00:00, 14.0MB/s]"
          }
        },
        "1779f51e69524d3a9fd543c3d41c3d56": {
          "model_module": "@jupyter-widgets/base",
          "model_name": "LayoutModel",
          "model_module_version": "1.2.0",
          "state": {
            "_model_module": "@jupyter-widgets/base",
            "_model_module_version": "1.2.0",
            "_model_name": "LayoutModel",
            "_view_count": null,
            "_view_module": "@jupyter-widgets/base",
            "_view_module_version": "1.2.0",
            "_view_name": "LayoutView",
            "align_content": null,
            "align_items": null,
            "align_self": null,
            "border": null,
            "bottom": null,
            "display": null,
            "flex": null,
            "flex_flow": null,
            "grid_area": null,
            "grid_auto_columns": null,
            "grid_auto_flow": null,
            "grid_auto_rows": null,
            "grid_column": null,
            "grid_gap": null,
            "grid_row": null,
            "grid_template_areas": null,
            "grid_template_columns": null,
            "grid_template_rows": null,
            "height": null,
            "justify_content": null,
            "justify_items": null,
            "left": null,
            "margin": null,
            "max_height": null,
            "max_width": null,
            "min_height": null,
            "min_width": null,
            "object_fit": null,
            "object_position": null,
            "order": null,
            "overflow": null,
            "overflow_x": null,
            "overflow_y": null,
            "padding": null,
            "right": null,
            "top": null,
            "visibility": null,
            "width": null
          }
        },
        "c1c4167b3dcc4329a0e982e8f78a06e0": {
          "model_module": "@jupyter-widgets/base",
          "model_name": "LayoutModel",
          "model_module_version": "1.2.0",
          "state": {
            "_model_module": "@jupyter-widgets/base",
            "_model_module_version": "1.2.0",
            "_model_name": "LayoutModel",
            "_view_count": null,
            "_view_module": "@jupyter-widgets/base",
            "_view_module_version": "1.2.0",
            "_view_name": "LayoutView",
            "align_content": null,
            "align_items": null,
            "align_self": null,
            "border": null,
            "bottom": null,
            "display": null,
            "flex": null,
            "flex_flow": null,
            "grid_area": null,
            "grid_auto_columns": null,
            "grid_auto_flow": null,
            "grid_auto_rows": null,
            "grid_column": null,
            "grid_gap": null,
            "grid_row": null,
            "grid_template_areas": null,
            "grid_template_columns": null,
            "grid_template_rows": null,
            "height": null,
            "justify_content": null,
            "justify_items": null,
            "left": null,
            "margin": null,
            "max_height": null,
            "max_width": null,
            "min_height": null,
            "min_width": null,
            "object_fit": null,
            "object_position": null,
            "order": null,
            "overflow": null,
            "overflow_x": null,
            "overflow_y": null,
            "padding": null,
            "right": null,
            "top": null,
            "visibility": null,
            "width": null
          }
        },
        "929bc14048434dcabcf5f534fa94cf74": {
          "model_module": "@jupyter-widgets/controls",
          "model_name": "DescriptionStyleModel",
          "model_module_version": "1.5.0",
          "state": {
            "_model_module": "@jupyter-widgets/controls",
            "_model_module_version": "1.5.0",
            "_model_name": "DescriptionStyleModel",
            "_view_count": null,
            "_view_module": "@jupyter-widgets/base",
            "_view_module_version": "1.2.0",
            "_view_name": "StyleView",
            "description_width": ""
          }
        },
        "0b1905b8c34644c2a4d352aeb25883a4": {
          "model_module": "@jupyter-widgets/base",
          "model_name": "LayoutModel",
          "model_module_version": "1.2.0",
          "state": {
            "_model_module": "@jupyter-widgets/base",
            "_model_module_version": "1.2.0",
            "_model_name": "LayoutModel",
            "_view_count": null,
            "_view_module": "@jupyter-widgets/base",
            "_view_module_version": "1.2.0",
            "_view_name": "LayoutView",
            "align_content": null,
            "align_items": null,
            "align_self": null,
            "border": null,
            "bottom": null,
            "display": null,
            "flex": null,
            "flex_flow": null,
            "grid_area": null,
            "grid_auto_columns": null,
            "grid_auto_flow": null,
            "grid_auto_rows": null,
            "grid_column": null,
            "grid_gap": null,
            "grid_row": null,
            "grid_template_areas": null,
            "grid_template_columns": null,
            "grid_template_rows": null,
            "height": null,
            "justify_content": null,
            "justify_items": null,
            "left": null,
            "margin": null,
            "max_height": null,
            "max_width": null,
            "min_height": null,
            "min_width": null,
            "object_fit": null,
            "object_position": null,
            "order": null,
            "overflow": null,
            "overflow_x": null,
            "overflow_y": null,
            "padding": null,
            "right": null,
            "top": null,
            "visibility": null,
            "width": null
          }
        },
        "e3ccbb76bf5c4c7f96fc6b3fc08c4cd1": {
          "model_module": "@jupyter-widgets/controls",
          "model_name": "ProgressStyleModel",
          "model_module_version": "1.5.0",
          "state": {
            "_model_module": "@jupyter-widgets/controls",
            "_model_module_version": "1.5.0",
            "_model_name": "ProgressStyleModel",
            "_view_count": null,
            "_view_module": "@jupyter-widgets/base",
            "_view_module_version": "1.2.0",
            "_view_name": "StyleView",
            "bar_color": null,
            "description_width": ""
          }
        },
        "f390a7faf31a45e295b7ba4d7a158747": {
          "model_module": "@jupyter-widgets/base",
          "model_name": "LayoutModel",
          "model_module_version": "1.2.0",
          "state": {
            "_model_module": "@jupyter-widgets/base",
            "_model_module_version": "1.2.0",
            "_model_name": "LayoutModel",
            "_view_count": null,
            "_view_module": "@jupyter-widgets/base",
            "_view_module_version": "1.2.0",
            "_view_name": "LayoutView",
            "align_content": null,
            "align_items": null,
            "align_self": null,
            "border": null,
            "bottom": null,
            "display": null,
            "flex": null,
            "flex_flow": null,
            "grid_area": null,
            "grid_auto_columns": null,
            "grid_auto_flow": null,
            "grid_auto_rows": null,
            "grid_column": null,
            "grid_gap": null,
            "grid_row": null,
            "grid_template_areas": null,
            "grid_template_columns": null,
            "grid_template_rows": null,
            "height": null,
            "justify_content": null,
            "justify_items": null,
            "left": null,
            "margin": null,
            "max_height": null,
            "max_width": null,
            "min_height": null,
            "min_width": null,
            "object_fit": null,
            "object_position": null,
            "order": null,
            "overflow": null,
            "overflow_x": null,
            "overflow_y": null,
            "padding": null,
            "right": null,
            "top": null,
            "visibility": null,
            "width": null
          }
        },
        "6cc6033a72ed40dc875b64e036807824": {
          "model_module": "@jupyter-widgets/controls",
          "model_name": "DescriptionStyleModel",
          "model_module_version": "1.5.0",
          "state": {
            "_model_module": "@jupyter-widgets/controls",
            "_model_module_version": "1.5.0",
            "_model_name": "DescriptionStyleModel",
            "_view_count": null,
            "_view_module": "@jupyter-widgets/base",
            "_view_module_version": "1.2.0",
            "_view_name": "StyleView",
            "description_width": ""
          }
        },
        "fa1e8d34c01047049b942bc05bb38e0d": {
          "model_module": "@jupyter-widgets/controls",
          "model_name": "HBoxModel",
          "model_module_version": "1.5.0",
          "state": {
            "_dom_classes": [],
            "_model_module": "@jupyter-widgets/controls",
            "_model_module_version": "1.5.0",
            "_model_name": "HBoxModel",
            "_view_count": null,
            "_view_module": "@jupyter-widgets/controls",
            "_view_module_version": "1.5.0",
            "_view_name": "HBoxView",
            "box_style": "",
            "children": [
              "IPY_MODEL_9e123a7386144626a0a50f478749870a",
              "IPY_MODEL_2fbe57da2fa24160a0ad9b9b133190a9",
              "IPY_MODEL_93a0005d13da408e84c7bbc63d358138"
            ],
            "layout": "IPY_MODEL_528d5e9de3ff4d6abcab964d352f22d8"
          }
        },
        "9e123a7386144626a0a50f478749870a": {
          "model_module": "@jupyter-widgets/controls",
          "model_name": "HTMLModel",
          "model_module_version": "1.5.0",
          "state": {
            "_dom_classes": [],
            "_model_module": "@jupyter-widgets/controls",
            "_model_module_version": "1.5.0",
            "_model_name": "HTMLModel",
            "_view_count": null,
            "_view_module": "@jupyter-widgets/controls",
            "_view_module_version": "1.5.0",
            "_view_name": "HTMLView",
            "description": "",
            "description_tooltip": null,
            "layout": "IPY_MODEL_cf3b384716cd419c82cda6135b504f3a",
            "placeholder": "​",
            "style": "IPY_MODEL_721e3fbda88b4f8bba3593dac037c395",
            "value": "Downloading: 100%"
          }
        },
        "2fbe57da2fa24160a0ad9b9b133190a9": {
          "model_module": "@jupyter-widgets/controls",
          "model_name": "FloatProgressModel",
          "model_module_version": "1.5.0",
          "state": {
            "_dom_classes": [],
            "_model_module": "@jupyter-widgets/controls",
            "_model_module_version": "1.5.0",
            "_model_name": "FloatProgressModel",
            "_view_count": null,
            "_view_module": "@jupyter-widgets/controls",
            "_view_module_version": "1.5.0",
            "_view_name": "ProgressView",
            "bar_style": "success",
            "description": "",
            "description_tooltip": null,
            "layout": "IPY_MODEL_aa894a4d3be745f697c12042efd817e2",
            "max": 456318,
            "min": 0,
            "orientation": "horizontal",
            "style": "IPY_MODEL_0d165059dea84b3e9a154d9599133ad7",
            "value": 456318
          }
        },
        "93a0005d13da408e84c7bbc63d358138": {
          "model_module": "@jupyter-widgets/controls",
          "model_name": "HTMLModel",
          "model_module_version": "1.5.0",
          "state": {
            "_dom_classes": [],
            "_model_module": "@jupyter-widgets/controls",
            "_model_module_version": "1.5.0",
            "_model_name": "HTMLModel",
            "_view_count": null,
            "_view_module": "@jupyter-widgets/controls",
            "_view_module_version": "1.5.0",
            "_view_name": "HTMLView",
            "description": "",
            "description_tooltip": null,
            "layout": "IPY_MODEL_f1c6f5b59955453baa4c48259ce92f79",
            "placeholder": "​",
            "style": "IPY_MODEL_2465c3bbcb5a4afba7332199206022db",
            "value": " 446k/446k [00:00&lt;00:00, 7.69MB/s]"
          }
        },
        "528d5e9de3ff4d6abcab964d352f22d8": {
          "model_module": "@jupyter-widgets/base",
          "model_name": "LayoutModel",
          "model_module_version": "1.2.0",
          "state": {
            "_model_module": "@jupyter-widgets/base",
            "_model_module_version": "1.2.0",
            "_model_name": "LayoutModel",
            "_view_count": null,
            "_view_module": "@jupyter-widgets/base",
            "_view_module_version": "1.2.0",
            "_view_name": "LayoutView",
            "align_content": null,
            "align_items": null,
            "align_self": null,
            "border": null,
            "bottom": null,
            "display": null,
            "flex": null,
            "flex_flow": null,
            "grid_area": null,
            "grid_auto_columns": null,
            "grid_auto_flow": null,
            "grid_auto_rows": null,
            "grid_column": null,
            "grid_gap": null,
            "grid_row": null,
            "grid_template_areas": null,
            "grid_template_columns": null,
            "grid_template_rows": null,
            "height": null,
            "justify_content": null,
            "justify_items": null,
            "left": null,
            "margin": null,
            "max_height": null,
            "max_width": null,
            "min_height": null,
            "min_width": null,
            "object_fit": null,
            "object_position": null,
            "order": null,
            "overflow": null,
            "overflow_x": null,
            "overflow_y": null,
            "padding": null,
            "right": null,
            "top": null,
            "visibility": null,
            "width": null
          }
        },
        "cf3b384716cd419c82cda6135b504f3a": {
          "model_module": "@jupyter-widgets/base",
          "model_name": "LayoutModel",
          "model_module_version": "1.2.0",
          "state": {
            "_model_module": "@jupyter-widgets/base",
            "_model_module_version": "1.2.0",
            "_model_name": "LayoutModel",
            "_view_count": null,
            "_view_module": "@jupyter-widgets/base",
            "_view_module_version": "1.2.0",
            "_view_name": "LayoutView",
            "align_content": null,
            "align_items": null,
            "align_self": null,
            "border": null,
            "bottom": null,
            "display": null,
            "flex": null,
            "flex_flow": null,
            "grid_area": null,
            "grid_auto_columns": null,
            "grid_auto_flow": null,
            "grid_auto_rows": null,
            "grid_column": null,
            "grid_gap": null,
            "grid_row": null,
            "grid_template_areas": null,
            "grid_template_columns": null,
            "grid_template_rows": null,
            "height": null,
            "justify_content": null,
            "justify_items": null,
            "left": null,
            "margin": null,
            "max_height": null,
            "max_width": null,
            "min_height": null,
            "min_width": null,
            "object_fit": null,
            "object_position": null,
            "order": null,
            "overflow": null,
            "overflow_x": null,
            "overflow_y": null,
            "padding": null,
            "right": null,
            "top": null,
            "visibility": null,
            "width": null
          }
        },
        "721e3fbda88b4f8bba3593dac037c395": {
          "model_module": "@jupyter-widgets/controls",
          "model_name": "DescriptionStyleModel",
          "model_module_version": "1.5.0",
          "state": {
            "_model_module": "@jupyter-widgets/controls",
            "_model_module_version": "1.5.0",
            "_model_name": "DescriptionStyleModel",
            "_view_count": null,
            "_view_module": "@jupyter-widgets/base",
            "_view_module_version": "1.2.0",
            "_view_name": "StyleView",
            "description_width": ""
          }
        },
        "aa894a4d3be745f697c12042efd817e2": {
          "model_module": "@jupyter-widgets/base",
          "model_name": "LayoutModel",
          "model_module_version": "1.2.0",
          "state": {
            "_model_module": "@jupyter-widgets/base",
            "_model_module_version": "1.2.0",
            "_model_name": "LayoutModel",
            "_view_count": null,
            "_view_module": "@jupyter-widgets/base",
            "_view_module_version": "1.2.0",
            "_view_name": "LayoutView",
            "align_content": null,
            "align_items": null,
            "align_self": null,
            "border": null,
            "bottom": null,
            "display": null,
            "flex": null,
            "flex_flow": null,
            "grid_area": null,
            "grid_auto_columns": null,
            "grid_auto_flow": null,
            "grid_auto_rows": null,
            "grid_column": null,
            "grid_gap": null,
            "grid_row": null,
            "grid_template_areas": null,
            "grid_template_columns": null,
            "grid_template_rows": null,
            "height": null,
            "justify_content": null,
            "justify_items": null,
            "left": null,
            "margin": null,
            "max_height": null,
            "max_width": null,
            "min_height": null,
            "min_width": null,
            "object_fit": null,
            "object_position": null,
            "order": null,
            "overflow": null,
            "overflow_x": null,
            "overflow_y": null,
            "padding": null,
            "right": null,
            "top": null,
            "visibility": null,
            "width": null
          }
        },
        "0d165059dea84b3e9a154d9599133ad7": {
          "model_module": "@jupyter-widgets/controls",
          "model_name": "ProgressStyleModel",
          "model_module_version": "1.5.0",
          "state": {
            "_model_module": "@jupyter-widgets/controls",
            "_model_module_version": "1.5.0",
            "_model_name": "ProgressStyleModel",
            "_view_count": null,
            "_view_module": "@jupyter-widgets/base",
            "_view_module_version": "1.2.0",
            "_view_name": "StyleView",
            "bar_color": null,
            "description_width": ""
          }
        },
        "f1c6f5b59955453baa4c48259ce92f79": {
          "model_module": "@jupyter-widgets/base",
          "model_name": "LayoutModel",
          "model_module_version": "1.2.0",
          "state": {
            "_model_module": "@jupyter-widgets/base",
            "_model_module_version": "1.2.0",
            "_model_name": "LayoutModel",
            "_view_count": null,
            "_view_module": "@jupyter-widgets/base",
            "_view_module_version": "1.2.0",
            "_view_name": "LayoutView",
            "align_content": null,
            "align_items": null,
            "align_self": null,
            "border": null,
            "bottom": null,
            "display": null,
            "flex": null,
            "flex_flow": null,
            "grid_area": null,
            "grid_auto_columns": null,
            "grid_auto_flow": null,
            "grid_auto_rows": null,
            "grid_column": null,
            "grid_gap": null,
            "grid_row": null,
            "grid_template_areas": null,
            "grid_template_columns": null,
            "grid_template_rows": null,
            "height": null,
            "justify_content": null,
            "justify_items": null,
            "left": null,
            "margin": null,
            "max_height": null,
            "max_width": null,
            "min_height": null,
            "min_width": null,
            "object_fit": null,
            "object_position": null,
            "order": null,
            "overflow": null,
            "overflow_x": null,
            "overflow_y": null,
            "padding": null,
            "right": null,
            "top": null,
            "visibility": null,
            "width": null
          }
        },
        "2465c3bbcb5a4afba7332199206022db": {
          "model_module": "@jupyter-widgets/controls",
          "model_name": "DescriptionStyleModel",
          "model_module_version": "1.5.0",
          "state": {
            "_model_module": "@jupyter-widgets/controls",
            "_model_module_version": "1.5.0",
            "_model_name": "DescriptionStyleModel",
            "_view_count": null,
            "_view_module": "@jupyter-widgets/base",
            "_view_module_version": "1.2.0",
            "_view_name": "StyleView",
            "description_width": ""
          }
        }
      }
    }
  },
  "nbformat": 4,
  "nbformat_minor": 0
}