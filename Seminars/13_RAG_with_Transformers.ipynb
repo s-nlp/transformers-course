{
  "cells": [
    {
      "cell_type": "markdown",
      "metadata": {
        "id": "gPMIWGFAW9Xj"
      },
      "source": [
        "# RAG example\n"
      ]
    },
    {
      "cell_type": "code",
      "execution_count": 1,
      "metadata": {
        "colab": {
          "base_uri": "https://localhost:8080/"
        },
        "id": "YVPMGTeAXTbG",
        "outputId": "8ba5e945-4cec-42a6-a474-d9659859542d"
      },
      "outputs": [
        {
          "output_type": "stream",
          "name": "stdout",
          "text": [
            "Collecting datasets\n",
            "  Downloading datasets-3.1.0-py3-none-any.whl.metadata (20 kB)\n",
            "Requirement already satisfied: filelock in /usr/local/lib/python3.10/dist-packages (from datasets) (3.16.1)\n",
            "Requirement already satisfied: numpy>=1.17 in /usr/local/lib/python3.10/dist-packages (from datasets) (1.26.4)\n",
            "Requirement already satisfied: pyarrow>=15.0.0 in /usr/local/lib/python3.10/dist-packages (from datasets) (17.0.0)\n",
            "Collecting dill<0.3.9,>=0.3.0 (from datasets)\n",
            "  Downloading dill-0.3.8-py3-none-any.whl.metadata (10 kB)\n",
            "Requirement already satisfied: pandas in /usr/local/lib/python3.10/dist-packages (from datasets) (2.2.2)\n",
            "Requirement already satisfied: requests>=2.32.2 in /usr/local/lib/python3.10/dist-packages (from datasets) (2.32.3)\n",
            "Requirement already satisfied: tqdm>=4.66.3 in /usr/local/lib/python3.10/dist-packages (from datasets) (4.66.6)\n",
            "Collecting xxhash (from datasets)\n",
            "  Downloading xxhash-3.5.0-cp310-cp310-manylinux_2_17_x86_64.manylinux2014_x86_64.whl.metadata (12 kB)\n",
            "Collecting multiprocess<0.70.17 (from datasets)\n",
            "  Downloading multiprocess-0.70.16-py310-none-any.whl.metadata (7.2 kB)\n",
            "Collecting fsspec<=2024.9.0,>=2023.1.0 (from fsspec[http]<=2024.9.0,>=2023.1.0->datasets)\n",
            "  Downloading fsspec-2024.9.0-py3-none-any.whl.metadata (11 kB)\n",
            "Requirement already satisfied: aiohttp in /usr/local/lib/python3.10/dist-packages (from datasets) (3.11.2)\n",
            "Requirement already satisfied: huggingface-hub>=0.23.0 in /usr/local/lib/python3.10/dist-packages (from datasets) (0.26.2)\n",
            "Requirement already satisfied: packaging in /usr/local/lib/python3.10/dist-packages (from datasets) (24.2)\n",
            "Requirement already satisfied: pyyaml>=5.1 in /usr/local/lib/python3.10/dist-packages (from datasets) (6.0.2)\n",
            "Requirement already satisfied: aiohappyeyeballs>=2.3.0 in /usr/local/lib/python3.10/dist-packages (from aiohttp->datasets) (2.4.3)\n",
            "Requirement already satisfied: aiosignal>=1.1.2 in /usr/local/lib/python3.10/dist-packages (from aiohttp->datasets) (1.3.1)\n",
            "Requirement already satisfied: attrs>=17.3.0 in /usr/local/lib/python3.10/dist-packages (from aiohttp->datasets) (24.2.0)\n",
            "Requirement already satisfied: frozenlist>=1.1.1 in /usr/local/lib/python3.10/dist-packages (from aiohttp->datasets) (1.5.0)\n",
            "Requirement already satisfied: multidict<7.0,>=4.5 in /usr/local/lib/python3.10/dist-packages (from aiohttp->datasets) (6.1.0)\n",
            "Requirement already satisfied: propcache>=0.2.0 in /usr/local/lib/python3.10/dist-packages (from aiohttp->datasets) (0.2.0)\n",
            "Requirement already satisfied: yarl<2.0,>=1.17.0 in /usr/local/lib/python3.10/dist-packages (from aiohttp->datasets) (1.17.2)\n",
            "Requirement already satisfied: async-timeout<6.0,>=4.0 in /usr/local/lib/python3.10/dist-packages (from aiohttp->datasets) (4.0.3)\n",
            "Requirement already satisfied: typing-extensions>=3.7.4.3 in /usr/local/lib/python3.10/dist-packages (from huggingface-hub>=0.23.0->datasets) (4.12.2)\n",
            "Requirement already satisfied: charset-normalizer<4,>=2 in /usr/local/lib/python3.10/dist-packages (from requests>=2.32.2->datasets) (3.4.0)\n",
            "Requirement already satisfied: idna<4,>=2.5 in /usr/local/lib/python3.10/dist-packages (from requests>=2.32.2->datasets) (3.10)\n",
            "Requirement already satisfied: urllib3<3,>=1.21.1 in /usr/local/lib/python3.10/dist-packages (from requests>=2.32.2->datasets) (2.2.3)\n",
            "Requirement already satisfied: certifi>=2017.4.17 in /usr/local/lib/python3.10/dist-packages (from requests>=2.32.2->datasets) (2024.8.30)\n",
            "Requirement already satisfied: python-dateutil>=2.8.2 in /usr/local/lib/python3.10/dist-packages (from pandas->datasets) (2.8.2)\n",
            "Requirement already satisfied: pytz>=2020.1 in /usr/local/lib/python3.10/dist-packages (from pandas->datasets) (2024.2)\n",
            "Requirement already satisfied: tzdata>=2022.7 in /usr/local/lib/python3.10/dist-packages (from pandas->datasets) (2024.2)\n",
            "Requirement already satisfied: six>=1.5 in /usr/local/lib/python3.10/dist-packages (from python-dateutil>=2.8.2->pandas->datasets) (1.16.0)\n",
            "Downloading datasets-3.1.0-py3-none-any.whl (480 kB)\n",
            "\u001b[2K   \u001b[90m━━━━━━━━━━━━━━━━━━━━━━━━━━━━━━━━━━━━━━━━\u001b[0m \u001b[32m480.6/480.6 kB\u001b[0m \u001b[31m13.3 MB/s\u001b[0m eta \u001b[36m0:00:00\u001b[0m\n",
            "\u001b[?25hDownloading dill-0.3.8-py3-none-any.whl (116 kB)\n",
            "\u001b[2K   \u001b[90m━━━━━━━━━━━━━━━━━━━━━━━━━━━━━━━━━━━━━━━━\u001b[0m \u001b[32m116.3/116.3 kB\u001b[0m \u001b[31m8.4 MB/s\u001b[0m eta \u001b[36m0:00:00\u001b[0m\n",
            "\u001b[?25hDownloading fsspec-2024.9.0-py3-none-any.whl (179 kB)\n",
            "\u001b[2K   \u001b[90m━━━━━━━━━━━━━━━━━━━━━━━━━━━━━━━━━━━━━━━━\u001b[0m \u001b[32m179.3/179.3 kB\u001b[0m \u001b[31m12.3 MB/s\u001b[0m eta \u001b[36m0:00:00\u001b[0m\n",
            "\u001b[?25hDownloading multiprocess-0.70.16-py310-none-any.whl (134 kB)\n",
            "\u001b[2K   \u001b[90m━━━━━━━━━━━━━━━━━━━━━━━━━━━━━━━━━━━━━━━━\u001b[0m \u001b[32m134.8/134.8 kB\u001b[0m \u001b[31m10.3 MB/s\u001b[0m eta \u001b[36m0:00:00\u001b[0m\n",
            "\u001b[?25hDownloading xxhash-3.5.0-cp310-cp310-manylinux_2_17_x86_64.manylinux2014_x86_64.whl (194 kB)\n",
            "\u001b[2K   \u001b[90m━━━━━━━━━━━━━━━━━━━━━━━━━━━━━━━━━━━━━━━━\u001b[0m \u001b[32m194.1/194.1 kB\u001b[0m \u001b[31m16.4 MB/s\u001b[0m eta \u001b[36m0:00:00\u001b[0m\n",
            "\u001b[?25hInstalling collected packages: xxhash, fsspec, dill, multiprocess, datasets\n",
            "  Attempting uninstall: fsspec\n",
            "    Found existing installation: fsspec 2024.10.0\n",
            "    Uninstalling fsspec-2024.10.0:\n",
            "      Successfully uninstalled fsspec-2024.10.0\n",
            "\u001b[31mERROR: pip's dependency resolver does not currently take into account all the packages that are installed. This behaviour is the source of the following dependency conflicts.\n",
            "gcsfs 2024.10.0 requires fsspec==2024.10.0, but you have fsspec 2024.9.0 which is incompatible.\u001b[0m\u001b[31m\n",
            "\u001b[0mSuccessfully installed datasets-3.1.0 dill-0.3.8 fsspec-2024.9.0 multiprocess-0.70.16 xxhash-3.5.0\n",
            "Collecting python-dotenv\n",
            "  Downloading python_dotenv-1.0.1-py3-none-any.whl.metadata (23 kB)\n",
            "Downloading python_dotenv-1.0.1-py3-none-any.whl (19 kB)\n",
            "Installing collected packages: python-dotenv\n",
            "Successfully installed python-dotenv-1.0.1\n",
            "Collecting langchain-community\n",
            "  Downloading langchain_community-0.3.8-py3-none-any.whl.metadata (2.9 kB)\n",
            "Requirement already satisfied: PyYAML>=5.3 in /usr/local/lib/python3.10/dist-packages (from langchain-community) (6.0.2)\n",
            "Collecting SQLAlchemy<2.0.36,>=1.4 (from langchain-community)\n",
            "  Downloading SQLAlchemy-2.0.35-cp310-cp310-manylinux_2_17_x86_64.manylinux2014_x86_64.whl.metadata (9.6 kB)\n",
            "Requirement already satisfied: aiohttp<4.0.0,>=3.8.3 in /usr/local/lib/python3.10/dist-packages (from langchain-community) (3.11.2)\n",
            "Collecting dataclasses-json<0.7,>=0.5.7 (from langchain-community)\n",
            "  Downloading dataclasses_json-0.6.7-py3-none-any.whl.metadata (25 kB)\n",
            "Collecting httpx-sse<0.5.0,>=0.4.0 (from langchain-community)\n",
            "  Downloading httpx_sse-0.4.0-py3-none-any.whl.metadata (9.0 kB)\n",
            "Collecting langchain<0.4.0,>=0.3.8 (from langchain-community)\n",
            "  Downloading langchain-0.3.9-py3-none-any.whl.metadata (7.1 kB)\n",
            "Collecting langchain-core<0.4.0,>=0.3.21 (from langchain-community)\n",
            "  Downloading langchain_core-0.3.21-py3-none-any.whl.metadata (6.3 kB)\n",
            "Requirement already satisfied: langsmith<0.2.0,>=0.1.125 in /usr/local/lib/python3.10/dist-packages (from langchain-community) (0.1.143)\n",
            "Requirement already satisfied: numpy<2,>=1.22.4 in /usr/local/lib/python3.10/dist-packages (from langchain-community) (1.26.4)\n",
            "Collecting pydantic-settings<3.0.0,>=2.4.0 (from langchain-community)\n",
            "  Downloading pydantic_settings-2.6.1-py3-none-any.whl.metadata (3.5 kB)\n",
            "Requirement already satisfied: requests<3,>=2 in /usr/local/lib/python3.10/dist-packages (from langchain-community) (2.32.3)\n",
            "Requirement already satisfied: tenacity!=8.4.0,<10,>=8.1.0 in /usr/local/lib/python3.10/dist-packages (from langchain-community) (9.0.0)\n",
            "Requirement already satisfied: aiohappyeyeballs>=2.3.0 in /usr/local/lib/python3.10/dist-packages (from aiohttp<4.0.0,>=3.8.3->langchain-community) (2.4.3)\n",
            "Requirement already satisfied: aiosignal>=1.1.2 in /usr/local/lib/python3.10/dist-packages (from aiohttp<4.0.0,>=3.8.3->langchain-community) (1.3.1)\n",
            "Requirement already satisfied: attrs>=17.3.0 in /usr/local/lib/python3.10/dist-packages (from aiohttp<4.0.0,>=3.8.3->langchain-community) (24.2.0)\n",
            "Requirement already satisfied: frozenlist>=1.1.1 in /usr/local/lib/python3.10/dist-packages (from aiohttp<4.0.0,>=3.8.3->langchain-community) (1.5.0)\n",
            "Requirement already satisfied: multidict<7.0,>=4.5 in /usr/local/lib/python3.10/dist-packages (from aiohttp<4.0.0,>=3.8.3->langchain-community) (6.1.0)\n",
            "Requirement already satisfied: propcache>=0.2.0 in /usr/local/lib/python3.10/dist-packages (from aiohttp<4.0.0,>=3.8.3->langchain-community) (0.2.0)\n",
            "Requirement already satisfied: yarl<2.0,>=1.17.0 in /usr/local/lib/python3.10/dist-packages (from aiohttp<4.0.0,>=3.8.3->langchain-community) (1.17.2)\n",
            "Requirement already satisfied: async-timeout<6.0,>=4.0 in /usr/local/lib/python3.10/dist-packages (from aiohttp<4.0.0,>=3.8.3->langchain-community) (4.0.3)\n",
            "Collecting marshmallow<4.0.0,>=3.18.0 (from dataclasses-json<0.7,>=0.5.7->langchain-community)\n",
            "  Downloading marshmallow-3.23.1-py3-none-any.whl.metadata (7.5 kB)\n",
            "Collecting typing-inspect<1,>=0.4.0 (from dataclasses-json<0.7,>=0.5.7->langchain-community)\n",
            "  Downloading typing_inspect-0.9.0-py3-none-any.whl.metadata (1.5 kB)\n",
            "Requirement already satisfied: langchain-text-splitters<0.4.0,>=0.3.0 in /usr/local/lib/python3.10/dist-packages (from langchain<0.4.0,>=0.3.8->langchain-community) (0.3.2)\n",
            "Requirement already satisfied: pydantic<3.0.0,>=2.7.4 in /usr/local/lib/python3.10/dist-packages (from langchain<0.4.0,>=0.3.8->langchain-community) (2.9.2)\n",
            "Requirement already satisfied: jsonpatch<2.0,>=1.33 in /usr/local/lib/python3.10/dist-packages (from langchain-core<0.4.0,>=0.3.21->langchain-community) (1.33)\n",
            "Requirement already satisfied: packaging<25,>=23.2 in /usr/local/lib/python3.10/dist-packages (from langchain-core<0.4.0,>=0.3.21->langchain-community) (24.2)\n",
            "Requirement already satisfied: typing-extensions>=4.7 in /usr/local/lib/python3.10/dist-packages (from langchain-core<0.4.0,>=0.3.21->langchain-community) (4.12.2)\n",
            "Requirement already satisfied: httpx<1,>=0.23.0 in /usr/local/lib/python3.10/dist-packages (from langsmith<0.2.0,>=0.1.125->langchain-community) (0.27.2)\n",
            "Requirement already satisfied: orjson<4.0.0,>=3.9.14 in /usr/local/lib/python3.10/dist-packages (from langsmith<0.2.0,>=0.1.125->langchain-community) (3.10.11)\n",
            "Requirement already satisfied: requests-toolbelt<2.0.0,>=1.0.0 in /usr/local/lib/python3.10/dist-packages (from langsmith<0.2.0,>=0.1.125->langchain-community) (1.0.0)\n",
            "Requirement already satisfied: python-dotenv>=0.21.0 in /usr/local/lib/python3.10/dist-packages (from pydantic-settings<3.0.0,>=2.4.0->langchain-community) (1.0.1)\n",
            "Requirement already satisfied: charset-normalizer<4,>=2 in /usr/local/lib/python3.10/dist-packages (from requests<3,>=2->langchain-community) (3.4.0)\n",
            "Requirement already satisfied: idna<4,>=2.5 in /usr/local/lib/python3.10/dist-packages (from requests<3,>=2->langchain-community) (3.10)\n",
            "Requirement already satisfied: urllib3<3,>=1.21.1 in /usr/local/lib/python3.10/dist-packages (from requests<3,>=2->langchain-community) (2.2.3)\n",
            "Requirement already satisfied: certifi>=2017.4.17 in /usr/local/lib/python3.10/dist-packages (from requests<3,>=2->langchain-community) (2024.8.30)\n",
            "Requirement already satisfied: greenlet!=0.4.17 in /usr/local/lib/python3.10/dist-packages (from SQLAlchemy<2.0.36,>=1.4->langchain-community) (3.1.1)\n",
            "Requirement already satisfied: anyio in /usr/local/lib/python3.10/dist-packages (from httpx<1,>=0.23.0->langsmith<0.2.0,>=0.1.125->langchain-community) (3.7.1)\n",
            "Requirement already satisfied: httpcore==1.* in /usr/local/lib/python3.10/dist-packages (from httpx<1,>=0.23.0->langsmith<0.2.0,>=0.1.125->langchain-community) (1.0.7)\n",
            "Requirement already satisfied: sniffio in /usr/local/lib/python3.10/dist-packages (from httpx<1,>=0.23.0->langsmith<0.2.0,>=0.1.125->langchain-community) (1.3.1)\n",
            "Requirement already satisfied: h11<0.15,>=0.13 in /usr/local/lib/python3.10/dist-packages (from httpcore==1.*->httpx<1,>=0.23.0->langsmith<0.2.0,>=0.1.125->langchain-community) (0.14.0)\n",
            "Requirement already satisfied: jsonpointer>=1.9 in /usr/local/lib/python3.10/dist-packages (from jsonpatch<2.0,>=1.33->langchain-core<0.4.0,>=0.3.21->langchain-community) (3.0.0)\n",
            "Requirement already satisfied: annotated-types>=0.6.0 in /usr/local/lib/python3.10/dist-packages (from pydantic<3.0.0,>=2.7.4->langchain<0.4.0,>=0.3.8->langchain-community) (0.7.0)\n",
            "Requirement already satisfied: pydantic-core==2.23.4 in /usr/local/lib/python3.10/dist-packages (from pydantic<3.0.0,>=2.7.4->langchain<0.4.0,>=0.3.8->langchain-community) (2.23.4)\n",
            "Collecting mypy-extensions>=0.3.0 (from typing-inspect<1,>=0.4.0->dataclasses-json<0.7,>=0.5.7->langchain-community)\n",
            "  Downloading mypy_extensions-1.0.0-py3-none-any.whl.metadata (1.1 kB)\n",
            "Requirement already satisfied: exceptiongroup in /usr/local/lib/python3.10/dist-packages (from anyio->httpx<1,>=0.23.0->langsmith<0.2.0,>=0.1.125->langchain-community) (1.2.2)\n",
            "Downloading langchain_community-0.3.8-py3-none-any.whl (2.4 MB)\n",
            "\u001b[2K   \u001b[90m━━━━━━━━━━━━━━━━━━━━━━━━━━━━━━━━━━━━━━━━\u001b[0m \u001b[32m2.4/2.4 MB\u001b[0m \u001b[31m44.2 MB/s\u001b[0m eta \u001b[36m0:00:00\u001b[0m\n",
            "\u001b[?25hDownloading dataclasses_json-0.6.7-py3-none-any.whl (28 kB)\n",
            "Downloading httpx_sse-0.4.0-py3-none-any.whl (7.8 kB)\n",
            "Downloading langchain-0.3.9-py3-none-any.whl (1.0 MB)\n",
            "\u001b[2K   \u001b[90m━━━━━━━━━━━━━━━━━━━━━━━━━━━━━━━━━━━━━━━━\u001b[0m \u001b[32m1.0/1.0 MB\u001b[0m \u001b[31m49.8 MB/s\u001b[0m eta \u001b[36m0:00:00\u001b[0m\n",
            "\u001b[?25hDownloading langchain_core-0.3.21-py3-none-any.whl (409 kB)\n",
            "\u001b[2K   \u001b[90m━━━━━━━━━━━━━━━━━━━━━━━━━━━━━━━━━━━━━━━━\u001b[0m \u001b[32m409.5/409.5 kB\u001b[0m \u001b[31m31.3 MB/s\u001b[0m eta \u001b[36m0:00:00\u001b[0m\n",
            "\u001b[?25hDownloading pydantic_settings-2.6.1-py3-none-any.whl (28 kB)\n",
            "Downloading SQLAlchemy-2.0.35-cp310-cp310-manylinux_2_17_x86_64.manylinux2014_x86_64.whl (3.1 MB)\n",
            "\u001b[2K   \u001b[90m━━━━━━━━━━━━━━━━━━━━━━━━━━━━━━━━━━━━━━━━\u001b[0m \u001b[32m3.1/3.1 MB\u001b[0m \u001b[31m67.1 MB/s\u001b[0m eta \u001b[36m0:00:00\u001b[0m\n",
            "\u001b[?25hDownloading marshmallow-3.23.1-py3-none-any.whl (49 kB)\n",
            "\u001b[2K   \u001b[90m━━━━━━━━━━━━━━━━━━━━━━━━━━━━━━━━━━━━━━━━\u001b[0m \u001b[32m49.5/49.5 kB\u001b[0m \u001b[31m4.7 MB/s\u001b[0m eta \u001b[36m0:00:00\u001b[0m\n",
            "\u001b[?25hDownloading typing_inspect-0.9.0-py3-none-any.whl (8.8 kB)\n",
            "Downloading mypy_extensions-1.0.0-py3-none-any.whl (4.7 kB)\n",
            "Installing collected packages: SQLAlchemy, mypy-extensions, marshmallow, httpx-sse, typing-inspect, pydantic-settings, dataclasses-json, langchain-core, langchain, langchain-community\n",
            "  Attempting uninstall: SQLAlchemy\n",
            "    Found existing installation: SQLAlchemy 2.0.36\n",
            "    Uninstalling SQLAlchemy-2.0.36:\n",
            "      Successfully uninstalled SQLAlchemy-2.0.36\n",
            "  Attempting uninstall: langchain-core\n",
            "    Found existing installation: langchain-core 0.3.19\n",
            "    Uninstalling langchain-core-0.3.19:\n",
            "      Successfully uninstalled langchain-core-0.3.19\n",
            "  Attempting uninstall: langchain\n",
            "    Found existing installation: langchain 0.3.7\n",
            "    Uninstalling langchain-0.3.7:\n",
            "      Successfully uninstalled langchain-0.3.7\n",
            "Successfully installed SQLAlchemy-2.0.35 dataclasses-json-0.6.7 httpx-sse-0.4.0 langchain-0.3.9 langchain-community-0.3.8 langchain-core-0.3.21 marshmallow-3.23.1 mypy-extensions-1.0.0 pydantic-settings-2.6.1 typing-inspect-0.9.0\n",
            "Collecting pypdf\n",
            "  Downloading pypdf-5.1.0-py3-none-any.whl.metadata (7.2 kB)\n",
            "Requirement already satisfied: typing_extensions>=4.0 in /usr/local/lib/python3.10/dist-packages (from pypdf) (4.12.2)\n",
            "Downloading pypdf-5.1.0-py3-none-any.whl (297 kB)\n",
            "\u001b[2K   \u001b[90m━━━━━━━━━━━━━━━━━━━━━━━━━━━━━━━━━━━━━━━━\u001b[0m \u001b[32m298.0/298.0 kB\u001b[0m \u001b[31m7.5 MB/s\u001b[0m eta \u001b[36m0:00:00\u001b[0m\n",
            "\u001b[?25hInstalling collected packages: pypdf\n",
            "Successfully installed pypdf-5.1.0\n",
            "Collecting chromadb\n",
            "  Downloading chromadb-0.5.20-py3-none-any.whl.metadata (6.8 kB)\n",
            "Collecting build>=1.0.3 (from chromadb)\n",
            "  Downloading build-1.2.2.post1-py3-none-any.whl.metadata (6.5 kB)\n",
            "Requirement already satisfied: pydantic>=1.9 in /usr/local/lib/python3.10/dist-packages (from chromadb) (2.9.2)\n",
            "Collecting chroma-hnswlib==0.7.6 (from chromadb)\n",
            "  Downloading chroma_hnswlib-0.7.6-cp310-cp310-manylinux_2_17_x86_64.manylinux2014_x86_64.whl.metadata (252 bytes)\n",
            "Collecting fastapi>=0.95.2 (from chromadb)\n",
            "  Downloading fastapi-0.115.5-py3-none-any.whl.metadata (27 kB)\n",
            "Collecting uvicorn>=0.18.3 (from uvicorn[standard]>=0.18.3->chromadb)\n",
            "  Downloading uvicorn-0.32.1-py3-none-any.whl.metadata (6.6 kB)\n",
            "Requirement already satisfied: numpy>=1.22.5 in /usr/local/lib/python3.10/dist-packages (from chromadb) (1.26.4)\n",
            "Collecting posthog>=2.4.0 (from chromadb)\n",
            "  Downloading posthog-3.7.4-py2.py3-none-any.whl.metadata (2.0 kB)\n",
            "Requirement already satisfied: typing-extensions>=4.5.0 in /usr/local/lib/python3.10/dist-packages (from chromadb) (4.12.2)\n",
            "Collecting onnxruntime>=1.14.1 (from chromadb)\n",
            "  Downloading onnxruntime-1.20.1-cp310-cp310-manylinux_2_27_x86_64.manylinux_2_28_x86_64.whl.metadata (4.5 kB)\n",
            "Requirement already satisfied: opentelemetry-api>=1.2.0 in /usr/local/lib/python3.10/dist-packages (from chromadb) (1.28.2)\n",
            "Collecting opentelemetry-exporter-otlp-proto-grpc>=1.2.0 (from chromadb)\n",
            "  Downloading opentelemetry_exporter_otlp_proto_grpc-1.28.2-py3-none-any.whl.metadata (2.2 kB)\n",
            "Collecting opentelemetry-instrumentation-fastapi>=0.41b0 (from chromadb)\n",
            "  Downloading opentelemetry_instrumentation_fastapi-0.49b2-py3-none-any.whl.metadata (2.1 kB)\n",
            "Requirement already satisfied: opentelemetry-sdk>=1.2.0 in /usr/local/lib/python3.10/dist-packages (from chromadb) (1.28.2)\n",
            "Requirement already satisfied: tokenizers>=0.13.2 in /usr/local/lib/python3.10/dist-packages (from chromadb) (0.20.3)\n",
            "Collecting pypika>=0.48.9 (from chromadb)\n",
            "  Downloading PyPika-0.48.9.tar.gz (67 kB)\n",
            "\u001b[2K     \u001b[90m━━━━━━━━━━━━━━━━━━━━━━━━━━━━━━━━━━━━━━━━\u001b[0m \u001b[32m67.3/67.3 kB\u001b[0m \u001b[31m4.9 MB/s\u001b[0m eta \u001b[36m0:00:00\u001b[0m\n",
            "\u001b[?25h  Installing build dependencies ... \u001b[?25l\u001b[?25hdone\n",
            "  Getting requirements to build wheel ... \u001b[?25l\u001b[?25hdone\n",
            "  Preparing metadata (pyproject.toml) ... \u001b[?25l\u001b[?25hdone\n",
            "Requirement already satisfied: tqdm>=4.65.0 in /usr/local/lib/python3.10/dist-packages (from chromadb) (4.66.6)\n",
            "Collecting overrides>=7.3.1 (from chromadb)\n",
            "  Downloading overrides-7.7.0-py3-none-any.whl.metadata (5.8 kB)\n",
            "Requirement already satisfied: importlib-resources in /usr/local/lib/python3.10/dist-packages (from chromadb) (6.4.5)\n",
            "Requirement already satisfied: grpcio>=1.58.0 in /usr/local/lib/python3.10/dist-packages (from chromadb) (1.68.0)\n",
            "Collecting bcrypt>=4.0.1 (from chromadb)\n",
            "  Downloading bcrypt-4.2.1-cp39-abi3-manylinux_2_28_x86_64.whl.metadata (9.8 kB)\n",
            "Requirement already satisfied: typer>=0.9.0 in /usr/local/lib/python3.10/dist-packages (from chromadb) (0.13.0)\n",
            "Collecting kubernetes>=28.1.0 (from chromadb)\n",
            "  Downloading kubernetes-31.0.0-py2.py3-none-any.whl.metadata (1.5 kB)\n",
            "Requirement already satisfied: tenacity>=8.2.3 in /usr/local/lib/python3.10/dist-packages (from chromadb) (9.0.0)\n",
            "Requirement already satisfied: PyYAML>=6.0.0 in /usr/local/lib/python3.10/dist-packages (from chromadb) (6.0.2)\n",
            "Collecting mmh3>=4.0.1 (from chromadb)\n",
            "  Downloading mmh3-5.0.1-cp310-cp310-manylinux_2_5_x86_64.manylinux1_x86_64.manylinux_2_17_x86_64.manylinux2014_x86_64.whl.metadata (14 kB)\n",
            "Requirement already satisfied: orjson>=3.9.12 in /usr/local/lib/python3.10/dist-packages (from chromadb) (3.10.11)\n",
            "Requirement already satisfied: httpx>=0.27.0 in /usr/local/lib/python3.10/dist-packages (from chromadb) (0.27.2)\n",
            "Requirement already satisfied: rich>=10.11.0 in /usr/local/lib/python3.10/dist-packages (from chromadb) (13.9.4)\n",
            "Requirement already satisfied: packaging>=19.1 in /usr/local/lib/python3.10/dist-packages (from build>=1.0.3->chromadb) (24.2)\n",
            "Collecting pyproject_hooks (from build>=1.0.3->chromadb)\n",
            "  Downloading pyproject_hooks-1.2.0-py3-none-any.whl.metadata (1.3 kB)\n",
            "Requirement already satisfied: tomli>=1.1.0 in /usr/local/lib/python3.10/dist-packages (from build>=1.0.3->chromadb) (2.1.0)\n",
            "Collecting starlette<0.42.0,>=0.40.0 (from fastapi>=0.95.2->chromadb)\n",
            "  Downloading starlette-0.41.3-py3-none-any.whl.metadata (6.0 kB)\n",
            "Requirement already satisfied: anyio in /usr/local/lib/python3.10/dist-packages (from httpx>=0.27.0->chromadb) (3.7.1)\n",
            "Requirement already satisfied: certifi in /usr/local/lib/python3.10/dist-packages (from httpx>=0.27.0->chromadb) (2024.8.30)\n",
            "Requirement already satisfied: httpcore==1.* in /usr/local/lib/python3.10/dist-packages (from httpx>=0.27.0->chromadb) (1.0.7)\n",
            "Requirement already satisfied: idna in /usr/local/lib/python3.10/dist-packages (from httpx>=0.27.0->chromadb) (3.10)\n",
            "Requirement already satisfied: sniffio in /usr/local/lib/python3.10/dist-packages (from httpx>=0.27.0->chromadb) (1.3.1)\n",
            "Requirement already satisfied: h11<0.15,>=0.13 in /usr/local/lib/python3.10/dist-packages (from httpcore==1.*->httpx>=0.27.0->chromadb) (0.14.0)\n",
            "Requirement already satisfied: six>=1.9.0 in /usr/local/lib/python3.10/dist-packages (from kubernetes>=28.1.0->chromadb) (1.16.0)\n",
            "Requirement already satisfied: python-dateutil>=2.5.3 in /usr/local/lib/python3.10/dist-packages (from kubernetes>=28.1.0->chromadb) (2.8.2)\n",
            "Requirement already satisfied: google-auth>=1.0.1 in /usr/local/lib/python3.10/dist-packages (from kubernetes>=28.1.0->chromadb) (2.27.0)\n",
            "Requirement already satisfied: websocket-client!=0.40.0,!=0.41.*,!=0.42.*,>=0.32.0 in /usr/local/lib/python3.10/dist-packages (from kubernetes>=28.1.0->chromadb) (1.8.0)\n",
            "Requirement already satisfied: requests in /usr/local/lib/python3.10/dist-packages (from kubernetes>=28.1.0->chromadb) (2.32.3)\n",
            "Requirement already satisfied: requests-oauthlib in /usr/local/lib/python3.10/dist-packages (from kubernetes>=28.1.0->chromadb) (1.3.1)\n",
            "Requirement already satisfied: oauthlib>=3.2.2 in /usr/local/lib/python3.10/dist-packages (from kubernetes>=28.1.0->chromadb) (3.2.2)\n",
            "Requirement already satisfied: urllib3>=1.24.2 in /usr/local/lib/python3.10/dist-packages (from kubernetes>=28.1.0->chromadb) (2.2.3)\n",
            "Collecting durationpy>=0.7 (from kubernetes>=28.1.0->chromadb)\n",
            "  Downloading durationpy-0.9-py3-none-any.whl.metadata (338 bytes)\n",
            "Collecting coloredlogs (from onnxruntime>=1.14.1->chromadb)\n",
            "  Downloading coloredlogs-15.0.1-py2.py3-none-any.whl.metadata (12 kB)\n",
            "Requirement already satisfied: flatbuffers in /usr/local/lib/python3.10/dist-packages (from onnxruntime>=1.14.1->chromadb) (24.3.25)\n",
            "Requirement already satisfied: protobuf in /usr/local/lib/python3.10/dist-packages (from onnxruntime>=1.14.1->chromadb) (4.25.5)\n",
            "Requirement already satisfied: sympy in /usr/local/lib/python3.10/dist-packages (from onnxruntime>=1.14.1->chromadb) (1.13.1)\n",
            "Requirement already satisfied: deprecated>=1.2.6 in /usr/local/lib/python3.10/dist-packages (from opentelemetry-api>=1.2.0->chromadb) (1.2.15)\n",
            "Requirement already satisfied: importlib-metadata<=8.5.0,>=6.0 in /usr/local/lib/python3.10/dist-packages (from opentelemetry-api>=1.2.0->chromadb) (8.5.0)\n",
            "Requirement already satisfied: googleapis-common-protos~=1.52 in /usr/local/lib/python3.10/dist-packages (from opentelemetry-exporter-otlp-proto-grpc>=1.2.0->chromadb) (1.66.0)\n",
            "Collecting opentelemetry-exporter-otlp-proto-common==1.28.2 (from opentelemetry-exporter-otlp-proto-grpc>=1.2.0->chromadb)\n",
            "  Downloading opentelemetry_exporter_otlp_proto_common-1.28.2-py3-none-any.whl.metadata (1.8 kB)\n",
            "Collecting opentelemetry-proto==1.28.2 (from opentelemetry-exporter-otlp-proto-grpc>=1.2.0->chromadb)\n",
            "  Downloading opentelemetry_proto-1.28.2-py3-none-any.whl.metadata (2.3 kB)\n",
            "Collecting protobuf (from onnxruntime>=1.14.1->chromadb)\n",
            "  Downloading protobuf-5.29.0-cp38-abi3-manylinux2014_x86_64.whl.metadata (592 bytes)\n",
            "Collecting opentelemetry-instrumentation-asgi==0.49b2 (from opentelemetry-instrumentation-fastapi>=0.41b0->chromadb)\n",
            "  Downloading opentelemetry_instrumentation_asgi-0.49b2-py3-none-any.whl.metadata (1.9 kB)\n",
            "Collecting opentelemetry-instrumentation==0.49b2 (from opentelemetry-instrumentation-fastapi>=0.41b0->chromadb)\n",
            "  Downloading opentelemetry_instrumentation-0.49b2-py3-none-any.whl.metadata (6.1 kB)\n",
            "Requirement already satisfied: opentelemetry-semantic-conventions==0.49b2 in /usr/local/lib/python3.10/dist-packages (from opentelemetry-instrumentation-fastapi>=0.41b0->chromadb) (0.49b2)\n",
            "Collecting opentelemetry-util-http==0.49b2 (from opentelemetry-instrumentation-fastapi>=0.41b0->chromadb)\n",
            "  Downloading opentelemetry_util_http-0.49b2-py3-none-any.whl.metadata (2.5 kB)\n",
            "Requirement already satisfied: wrapt<2.0.0,>=1.0.0 in /usr/local/lib/python3.10/dist-packages (from opentelemetry-instrumentation==0.49b2->opentelemetry-instrumentation-fastapi>=0.41b0->chromadb) (1.16.0)\n",
            "Collecting asgiref~=3.0 (from opentelemetry-instrumentation-asgi==0.49b2->opentelemetry-instrumentation-fastapi>=0.41b0->chromadb)\n",
            "  Downloading asgiref-3.8.1-py3-none-any.whl.metadata (9.3 kB)\n",
            "Collecting monotonic>=1.5 (from posthog>=2.4.0->chromadb)\n",
            "  Downloading monotonic-1.6-py2.py3-none-any.whl.metadata (1.5 kB)\n",
            "Collecting backoff>=1.10.0 (from posthog>=2.4.0->chromadb)\n",
            "  Downloading backoff-2.2.1-py3-none-any.whl.metadata (14 kB)\n",
            "Requirement already satisfied: annotated-types>=0.6.0 in /usr/local/lib/python3.10/dist-packages (from pydantic>=1.9->chromadb) (0.7.0)\n",
            "Requirement already satisfied: pydantic-core==2.23.4 in /usr/local/lib/python3.10/dist-packages (from pydantic>=1.9->chromadb) (2.23.4)\n",
            "Requirement already satisfied: markdown-it-py>=2.2.0 in /usr/local/lib/python3.10/dist-packages (from rich>=10.11.0->chromadb) (3.0.0)\n",
            "Requirement already satisfied: pygments<3.0.0,>=2.13.0 in /usr/local/lib/python3.10/dist-packages (from rich>=10.11.0->chromadb) (2.18.0)\n",
            "Requirement already satisfied: huggingface-hub<1.0,>=0.16.4 in /usr/local/lib/python3.10/dist-packages (from tokenizers>=0.13.2->chromadb) (0.26.2)\n",
            "Requirement already satisfied: click>=8.0.0 in /usr/local/lib/python3.10/dist-packages (from typer>=0.9.0->chromadb) (8.1.7)\n",
            "Requirement already satisfied: shellingham>=1.3.0 in /usr/local/lib/python3.10/dist-packages (from typer>=0.9.0->chromadb) (1.5.4)\n",
            "Collecting httptools>=0.6.3 (from uvicorn[standard]>=0.18.3->chromadb)\n",
            "  Downloading httptools-0.6.4-cp310-cp310-manylinux_2_5_x86_64.manylinux1_x86_64.manylinux_2_17_x86_64.manylinux2014_x86_64.whl.metadata (3.6 kB)\n",
            "Requirement already satisfied: python-dotenv>=0.13 in /usr/local/lib/python3.10/dist-packages (from uvicorn[standard]>=0.18.3->chromadb) (1.0.1)\n",
            "Collecting uvloop!=0.15.0,!=0.15.1,>=0.14.0 (from uvicorn[standard]>=0.18.3->chromadb)\n",
            "  Downloading uvloop-0.21.0-cp310-cp310-manylinux_2_17_x86_64.manylinux2014_x86_64.whl.metadata (4.9 kB)\n",
            "Collecting watchfiles>=0.13 (from uvicorn[standard]>=0.18.3->chromadb)\n",
            "  Downloading watchfiles-1.0.0-cp310-cp310-manylinux_2_17_x86_64.manylinux2014_x86_64.whl.metadata (4.9 kB)\n",
            "Collecting websockets>=10.4 (from uvicorn[standard]>=0.18.3->chromadb)\n",
            "  Downloading websockets-14.1-cp310-cp310-manylinux_2_5_x86_64.manylinux1_x86_64.manylinux_2_17_x86_64.manylinux2014_x86_64.whl.metadata (6.7 kB)\n",
            "Requirement already satisfied: cachetools<6.0,>=2.0.0 in /usr/local/lib/python3.10/dist-packages (from google-auth>=1.0.1->kubernetes>=28.1.0->chromadb) (5.5.0)\n",
            "Requirement already satisfied: pyasn1-modules>=0.2.1 in /usr/local/lib/python3.10/dist-packages (from google-auth>=1.0.1->kubernetes>=28.1.0->chromadb) (0.4.1)\n",
            "Requirement already satisfied: rsa<5,>=3.1.4 in /usr/local/lib/python3.10/dist-packages (from google-auth>=1.0.1->kubernetes>=28.1.0->chromadb) (4.9)\n",
            "Requirement already satisfied: filelock in /usr/local/lib/python3.10/dist-packages (from huggingface-hub<1.0,>=0.16.4->tokenizers>=0.13.2->chromadb) (3.16.1)\n",
            "Requirement already satisfied: fsspec>=2023.5.0 in /usr/local/lib/python3.10/dist-packages (from huggingface-hub<1.0,>=0.16.4->tokenizers>=0.13.2->chromadb) (2024.9.0)\n",
            "Requirement already satisfied: zipp>=3.20 in /usr/local/lib/python3.10/dist-packages (from importlib-metadata<=8.5.0,>=6.0->opentelemetry-api>=1.2.0->chromadb) (3.21.0)\n",
            "Requirement already satisfied: mdurl~=0.1 in /usr/local/lib/python3.10/dist-packages (from markdown-it-py>=2.2.0->rich>=10.11.0->chromadb) (0.1.2)\n",
            "Requirement already satisfied: charset-normalizer<4,>=2 in /usr/local/lib/python3.10/dist-packages (from requests->kubernetes>=28.1.0->chromadb) (3.4.0)\n",
            "Requirement already satisfied: exceptiongroup in /usr/local/lib/python3.10/dist-packages (from anyio->httpx>=0.27.0->chromadb) (1.2.2)\n",
            "Collecting humanfriendly>=9.1 (from coloredlogs->onnxruntime>=1.14.1->chromadb)\n",
            "  Downloading humanfriendly-10.0-py2.py3-none-any.whl.metadata (9.2 kB)\n",
            "Requirement already satisfied: mpmath<1.4,>=1.1.0 in /usr/local/lib/python3.10/dist-packages (from sympy->onnxruntime>=1.14.1->chromadb) (1.3.0)\n",
            "Requirement already satisfied: pyasn1<0.7.0,>=0.4.6 in /usr/local/lib/python3.10/dist-packages (from pyasn1-modules>=0.2.1->google-auth>=1.0.1->kubernetes>=28.1.0->chromadb) (0.6.1)\n",
            "Downloading chromadb-0.5.20-py3-none-any.whl (617 kB)\n",
            "\u001b[2K   \u001b[90m━━━━━━━━━━━━━━━━━━━━━━━━━━━━━━━━━━━━━━━━\u001b[0m \u001b[32m617.9/617.9 kB\u001b[0m \u001b[31m23.8 MB/s\u001b[0m eta \u001b[36m0:00:00\u001b[0m\n",
            "\u001b[?25hDownloading chroma_hnswlib-0.7.6-cp310-cp310-manylinux_2_17_x86_64.manylinux2014_x86_64.whl (2.4 MB)\n",
            "\u001b[2K   \u001b[90m━━━━━━━━━━━━━━━━━━━━━━━━━━━━━━━━━━━━━━━━\u001b[0m \u001b[32m2.4/2.4 MB\u001b[0m \u001b[31m63.7 MB/s\u001b[0m eta \u001b[36m0:00:00\u001b[0m\n",
            "\u001b[?25hDownloading bcrypt-4.2.1-cp39-abi3-manylinux_2_28_x86_64.whl (278 kB)\n",
            "\u001b[2K   \u001b[90m━━━━━━━━━━━━━━━━━━━━━━━━━━━━━━━━━━━━━━━━\u001b[0m \u001b[32m278.6/278.6 kB\u001b[0m \u001b[31m22.9 MB/s\u001b[0m eta \u001b[36m0:00:00\u001b[0m\n",
            "\u001b[?25hDownloading build-1.2.2.post1-py3-none-any.whl (22 kB)\n",
            "Downloading fastapi-0.115.5-py3-none-any.whl (94 kB)\n",
            "\u001b[2K   \u001b[90m━━━━━━━━━━━━━━━━━━━━━━━━━━━━━━━━━━━━━━━━\u001b[0m \u001b[32m94.9/94.9 kB\u001b[0m \u001b[31m9.4 MB/s\u001b[0m eta \u001b[36m0:00:00\u001b[0m\n",
            "\u001b[?25hDownloading kubernetes-31.0.0-py2.py3-none-any.whl (1.9 MB)\n",
            "\u001b[2K   \u001b[90m━━━━━━━━━━━━━━━━━━━━━━━━━━━━━━━━━━━━━━━━\u001b[0m \u001b[32m1.9/1.9 MB\u001b[0m \u001b[31m65.8 MB/s\u001b[0m eta \u001b[36m0:00:00\u001b[0m\n",
            "\u001b[?25hDownloading mmh3-5.0.1-cp310-cp310-manylinux_2_5_x86_64.manylinux1_x86_64.manylinux_2_17_x86_64.manylinux2014_x86_64.whl (93 kB)\n",
            "\u001b[2K   \u001b[90m━━━━━━━━━━━━━━━━━━━━━━━━━━━━━━━━━━━━━━━━\u001b[0m \u001b[32m93.2/93.2 kB\u001b[0m \u001b[31m9.9 MB/s\u001b[0m eta \u001b[36m0:00:00\u001b[0m\n",
            "\u001b[?25hDownloading onnxruntime-1.20.1-cp310-cp310-manylinux_2_27_x86_64.manylinux_2_28_x86_64.whl (13.3 MB)\n",
            "\u001b[2K   \u001b[90m━━━━━━━━━━━━━━━━━━━━━━━━━━━━━━━━━━━━━━━━\u001b[0m \u001b[32m13.3/13.3 MB\u001b[0m \u001b[31m74.9 MB/s\u001b[0m eta \u001b[36m0:00:00\u001b[0m\n",
            "\u001b[?25hDownloading opentelemetry_exporter_otlp_proto_grpc-1.28.2-py3-none-any.whl (18 kB)\n",
            "Downloading opentelemetry_exporter_otlp_proto_common-1.28.2-py3-none-any.whl (18 kB)\n",
            "Downloading opentelemetry_proto-1.28.2-py3-none-any.whl (55 kB)\n",
            "\u001b[2K   \u001b[90m━━━━━━━━━━━━━━━━━━━━━━━━━━━━━━━━━━━━━━━━\u001b[0m \u001b[32m55.8/55.8 kB\u001b[0m \u001b[31m4.2 MB/s\u001b[0m eta \u001b[36m0:00:00\u001b[0m\n",
            "\u001b[?25hDownloading opentelemetry_instrumentation_fastapi-0.49b2-py3-none-any.whl (12 kB)\n",
            "Downloading opentelemetry_instrumentation-0.49b2-py3-none-any.whl (30 kB)\n",
            "Downloading opentelemetry_instrumentation_asgi-0.49b2-py3-none-any.whl (16 kB)\n",
            "Downloading opentelemetry_util_http-0.49b2-py3-none-any.whl (6.9 kB)\n",
            "Downloading overrides-7.7.0-py3-none-any.whl (17 kB)\n",
            "Downloading posthog-3.7.4-py2.py3-none-any.whl (54 kB)\n",
            "\u001b[2K   \u001b[90m━━━━━━━━━━━━━━━━━━━━━━━━━━━━━━━━━━━━━━━━\u001b[0m \u001b[32m54.8/54.8 kB\u001b[0m \u001b[31m5.5 MB/s\u001b[0m eta \u001b[36m0:00:00\u001b[0m\n",
            "\u001b[?25hDownloading uvicorn-0.32.1-py3-none-any.whl (63 kB)\n",
            "\u001b[2K   \u001b[90m━━━━━━━━━━━━━━━━━━━━━━━━━━━━━━━━━━━━━━━━\u001b[0m \u001b[32m63.8/63.8 kB\u001b[0m \u001b[31m6.1 MB/s\u001b[0m eta \u001b[36m0:00:00\u001b[0m\n",
            "\u001b[?25hDownloading backoff-2.2.1-py3-none-any.whl (15 kB)\n",
            "Downloading durationpy-0.9-py3-none-any.whl (3.5 kB)\n",
            "Downloading httptools-0.6.4-cp310-cp310-manylinux_2_5_x86_64.manylinux1_x86_64.manylinux_2_17_x86_64.manylinux2014_x86_64.whl (442 kB)\n",
            "\u001b[2K   \u001b[90m━━━━━━━━━━━━━━━━━━━━━━━━━━━━━━━━━━━━━━━━\u001b[0m \u001b[32m442.1/442.1 kB\u001b[0m \u001b[31m34.4 MB/s\u001b[0m eta \u001b[36m0:00:00\u001b[0m\n",
            "\u001b[?25hDownloading monotonic-1.6-py2.py3-none-any.whl (8.2 kB)\n",
            "Downloading protobuf-5.29.0-cp38-abi3-manylinux2014_x86_64.whl (319 kB)\n",
            "\u001b[2K   \u001b[90m━━━━━━━━━━━━━━━━━━━━━━━━━━━━━━━━━━━━━━━━\u001b[0m \u001b[32m319.7/319.7 kB\u001b[0m \u001b[31m25.6 MB/s\u001b[0m eta \u001b[36m0:00:00\u001b[0m\n",
            "\u001b[?25hDownloading starlette-0.41.3-py3-none-any.whl (73 kB)\n",
            "\u001b[2K   \u001b[90m━━━━━━━━━━━━━━━━━━━━━━━━━━━━━━━━━━━━━━━━\u001b[0m \u001b[32m73.2/73.2 kB\u001b[0m \u001b[31m7.4 MB/s\u001b[0m eta \u001b[36m0:00:00\u001b[0m\n",
            "\u001b[?25hDownloading uvloop-0.21.0-cp310-cp310-manylinux_2_17_x86_64.manylinux2014_x86_64.whl (3.8 MB)\n",
            "\u001b[2K   \u001b[90m━━━━━━━━━━━━━━━━━━━━━━━━━━━━━━━━━━━━━━━━\u001b[0m \u001b[32m3.8/3.8 MB\u001b[0m \u001b[31m76.3 MB/s\u001b[0m eta \u001b[36m0:00:00\u001b[0m\n",
            "\u001b[?25hDownloading watchfiles-1.0.0-cp310-cp310-manylinux_2_17_x86_64.manylinux2014_x86_64.whl (442 kB)\n",
            "\u001b[2K   \u001b[90m━━━━━━━━━━━━━━━━━━━━━━━━━━━━━━━━━━━━━━━━\u001b[0m \u001b[32m442.6/442.6 kB\u001b[0m \u001b[31m31.2 MB/s\u001b[0m eta \u001b[36m0:00:00\u001b[0m\n",
            "\u001b[?25hDownloading websockets-14.1-cp310-cp310-manylinux_2_5_x86_64.manylinux1_x86_64.manylinux_2_17_x86_64.manylinux2014_x86_64.whl (168 kB)\n",
            "\u001b[2K   \u001b[90m━━━━━━━━━━━━━━━━━━━━━━━━━━━━━━━━━━━━━━━━\u001b[0m \u001b[32m168.2/168.2 kB\u001b[0m \u001b[31m16.3 MB/s\u001b[0m eta \u001b[36m0:00:00\u001b[0m\n",
            "\u001b[?25hDownloading coloredlogs-15.0.1-py2.py3-none-any.whl (46 kB)\n",
            "\u001b[2K   \u001b[90m━━━━━━━━━━━━━━━━━━━━━━━━━━━━━━━━━━━━━━━━\u001b[0m \u001b[32m46.0/46.0 kB\u001b[0m \u001b[31m4.2 MB/s\u001b[0m eta \u001b[36m0:00:00\u001b[0m\n",
            "\u001b[?25hDownloading pyproject_hooks-1.2.0-py3-none-any.whl (10 kB)\n",
            "Downloading asgiref-3.8.1-py3-none-any.whl (23 kB)\n",
            "Downloading humanfriendly-10.0-py2.py3-none-any.whl (86 kB)\n",
            "\u001b[2K   \u001b[90m━━━━━━━━━━━━━━━━━━━━━━━━━━━━━━━━━━━━━━━━\u001b[0m \u001b[32m86.8/86.8 kB\u001b[0m \u001b[31m8.6 MB/s\u001b[0m eta \u001b[36m0:00:00\u001b[0m\n",
            "\u001b[?25hBuilding wheels for collected packages: pypika\n",
            "  Building wheel for pypika (pyproject.toml) ... \u001b[?25l\u001b[?25hdone\n",
            "  Created wheel for pypika: filename=PyPika-0.48.9-py2.py3-none-any.whl size=53725 sha256=d0cfa2d251c843d3207c8b4d331d140fec64bc91b21bc5c944e450cd45a911a9\n",
            "  Stored in directory: /root/.cache/pip/wheels/e1/26/51/d0bffb3d2fd82256676d7ad3003faea3bd6dddc9577af665f4\n",
            "Successfully built pypika\n",
            "Installing collected packages: pypika, monotonic, durationpy, websockets, uvloop, uvicorn, pyproject_hooks, protobuf, overrides, opentelemetry-util-http, mmh3, humanfriendly, httptools, chroma-hnswlib, bcrypt, backoff, asgiref, watchfiles, starlette, posthog, opentelemetry-proto, coloredlogs, build, opentelemetry-exporter-otlp-proto-common, onnxruntime, kubernetes, fastapi, opentelemetry-instrumentation, opentelemetry-instrumentation-asgi, opentelemetry-exporter-otlp-proto-grpc, opentelemetry-instrumentation-fastapi, chromadb\n",
            "  Attempting uninstall: protobuf\n",
            "    Found existing installation: protobuf 4.25.5\n",
            "    Uninstalling protobuf-4.25.5:\n",
            "      Successfully uninstalled protobuf-4.25.5\n",
            "\u001b[31mERROR: pip's dependency resolver does not currently take into account all the packages that are installed. This behaviour is the source of the following dependency conflicts.\n",
            "tensorflow 2.17.1 requires protobuf!=4.21.0,!=4.21.1,!=4.21.2,!=4.21.3,!=4.21.4,!=4.21.5,<5.0.0dev,>=3.20.3, but you have protobuf 5.29.0 which is incompatible.\n",
            "tensorflow-metadata 1.13.1 requires protobuf<5,>=3.20.3, but you have protobuf 5.29.0 which is incompatible.\u001b[0m\u001b[31m\n",
            "\u001b[0mSuccessfully installed asgiref-3.8.1 backoff-2.2.1 bcrypt-4.2.1 build-1.2.2.post1 chroma-hnswlib-0.7.6 chromadb-0.5.20 coloredlogs-15.0.1 durationpy-0.9 fastapi-0.115.5 httptools-0.6.4 humanfriendly-10.0 kubernetes-31.0.0 mmh3-5.0.1 monotonic-1.6 onnxruntime-1.20.1 opentelemetry-exporter-otlp-proto-common-1.28.2 opentelemetry-exporter-otlp-proto-grpc-1.28.2 opentelemetry-instrumentation-0.49b2 opentelemetry-instrumentation-asgi-0.49b2 opentelemetry-instrumentation-fastapi-0.49b2 opentelemetry-proto-1.28.2 opentelemetry-util-http-0.49b2 overrides-7.7.0 posthog-3.7.4 protobuf-5.29.0 pypika-0.48.9 pyproject_hooks-1.2.0 starlette-0.41.3 uvicorn-0.32.1 uvloop-0.21.0 watchfiles-1.0.0 websockets-14.1\n"
          ]
        }
      ],
      "source": [
        "!pip install datasets\n",
        "!pip install python-dotenv\n",
        "!pip install -U langchain-community\n",
        "!pip install pypdf\n",
        "!pip install chromadb"
      ]
    },
    {
      "cell_type": "markdown",
      "metadata": {
        "id": "ZbyKLrjUW9Xp"
      },
      "source": [
        "# Pipeline\n",
        "\n"
      ]
    },
    {
      "cell_type": "markdown",
      "source": [
        "![image.png](data:image/png;base64,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)"
      ],
      "metadata": {
        "id": "Uq1rynD4L8o0"
      }
    },
    {
      "cell_type": "code",
      "execution_count": 2,
      "metadata": {
        "id": "Q3if7H6EW9Xp"
      },
      "outputs": [],
      "source": [
        "import os\n",
        "import openai\n",
        "import pandas as pd\n",
        "from datasets import Dataset\n",
        "from dotenv import dotenv_values\n",
        "from langchain.document_loaders import PyPDFLoader\n",
        "from langchain.text_splitter import CharacterTextSplitter\n",
        "#from langchain_openai import OpenAIEmbeddings\n",
        "from langchain.vectorstores import Chroma\n",
        "##from langchain_openai import OpenAI\n",
        "from langchain.chains import RetrievalQA\n",
        "import warnings\n",
        "\n",
        "# Suppress all user warnings\n",
        "warnings.filterwarnings(\"ignore\")"
      ]
    },
    {
      "cell_type": "markdown",
      "source": [
        "## LanghChain\n",
        "To build our RAG system, we will use the [LangChain](https://www.langchain.com/) framework.\n",
        "\n",
        "LangChain is an open source orchestration framework for the development of applications using large language models (LLMs).\n",
        "\n",
        "LangChain serves as a generic interface for nearly any LLM, providing a centralized development environment to build LLM applications and integrate them with external data sources and software workflows. LangChain’s module-based approach allows developers and data scientists to dynamically compare different prompts and even different foundation models with minimal need to rewrite code. This modular environment also allows for programs that use multiple LLMs: for example, an application that uses one LLM to interpret user queries and another LLM to author a response.\n",
        "\n"
      ],
      "metadata": {
        "id": "VXi-5Z8uMiOS"
      }
    },
    {
      "cell_type": "markdown",
      "metadata": {
        "id": "wML6bBHQW9Xr"
      },
      "source": [
        "### Knowledge base:\n",
        "\n",
        "LangChain provides several in-built document loaders that work with PDFs, JSONs, or Python files in your file directory.  We can use  `PyPDFLoader` in LangChain to import PDF.\n",
        "\n",
        "As a knowledge base today, we will use the first Chapter of the [Artificial Intelligence Index Report 2024](https://aiindex.stanford.edu/report/). It tracks, collates, distills, and visualizes data related to artificial intelligence (AI). Their goal is to provide unbiased, rigorously vetted, broadly sourced data in order for policymakers, researchers, executives, journalists, and the general public to develop a more thorough and nuanced understanding of the complex field of AI."
      ]
    },
    {
      "cell_type": "code",
      "source": [
        "!wget -O Chapter1.pdf https://drive.usercontent.google.com/download?id=1A8Wvv3r4PHzQaejC8X4V_18yaguBO8wv&export=download&authuser=0&confirm=t&uuid=c1bed830-277a-43ec-8a96-89a1fe9edbcc&at=AENtkXbuvcf-TaYB5KBQqx4IQICY:1732368617222"
      ],
      "metadata": {
        "colab": {
          "base_uri": "https://localhost:8080/"
        },
        "id": "bqUhxv2IOYcX",
        "outputId": "024a63ba-6d08-4526-fe2f-799cd0e38cd5"
      },
      "execution_count": 3,
      "outputs": [
        {
          "output_type": "stream",
          "name": "stdout",
          "text": [
            "--2024-11-28 16:01:03--  https://drive.usercontent.google.com/download?id=1A8Wvv3r4PHzQaejC8X4V_18yaguBO8wv\n",
            "Resolving drive.usercontent.google.com (drive.usercontent.google.com)... 142.251.2.132, 2607:f8b0:4023:c0d::84\n",
            "Connecting to drive.usercontent.google.com (drive.usercontent.google.com)|142.251.2.132|:443... connected.\n",
            "HTTP request sent, awaiting response... 200 OK\n",
            "Length: 3112904 (3.0M) [application/octet-stream]\n",
            "Saving to: ‘Chapter1.pdf’\n",
            "\n",
            "Chapter1.pdf        100%[===================>]   2.97M  18.5MB/s    in 0.2s    \n",
            "\n",
            "2024-11-28 16:01:09 (18.5 MB/s) - ‘Chapter1.pdf’ saved [3112904/3112904]\n",
            "\n"
          ]
        }
      ]
    },
    {
      "cell_type": "code",
      "execution_count": 8,
      "metadata": {
        "id": "4OlxMJuTW9Xs"
      },
      "outputs": [],
      "source": [
        "# load document\n",
        "loader = PyPDFLoader(\"Chapter1.pdf\")\n",
        "documents = loader.load()"
      ]
    },
    {
      "cell_type": "markdown",
      "metadata": {
        "id": "zD-BdiWiW9Xs"
      },
      "source": [
        "### Document chunking\n",
        "\n",
        "When a document is long, we need to divide it into parts. There are different ways to split text. Let's use the most straightforward method `CharacterTextSplitter`, which splits text by characters and measures the length of the fragment by the number of characters."
      ]
    },
    {
      "cell_type": "code",
      "execution_count": 7,
      "metadata": {
        "id": "7IJesTUpW9Xt"
      },
      "outputs": [],
      "source": [
        "# split the documents into chunks\n",
        "text_splitter = CharacterTextSplitter(chunk_size=1000, chunk_overlap=0)\n",
        "texts = text_splitter.split_documents(documents)"
      ]
    },
    {
      "cell_type": "markdown",
      "metadata": {
        "id": "bjsxx1skW9Xt"
      },
      "source": [
        "### Text embeddings:\n",
        "\n",
        "The text fragments are then transformed into sentence embeddings, which allows us to handle text data, as in semantic search, in a computationally efficient way. For this task, we can choose any sentence embedder, for example, [sentence-transformers/all-MiniLM-L6-v2](https://huggingface.co/sentence-transformers/all-MiniLM-L6-v2), which maps sentences and paragraphs to a 384 dimensional dense vector space and can be used for tasks like clustering or semantic search"
      ]
    },
    {
      "cell_type": "code",
      "execution_count": 9,
      "metadata": {
        "id": "pYIfI2iqW9Xt"
      },
      "outputs": [],
      "source": [
        "# select which embeddings we want to use\n",
        "from langchain.embeddings import HuggingFaceEmbeddings\n",
        "embedding_model_name = \"sentence-transformers/all-MiniLM-L6-v2\"\n",
        "embeddings = HuggingFaceEmbeddings(model_name=embedding_model_name)"
      ]
    },
    {
      "cell_type": "markdown",
      "metadata": {
        "id": "KpxkEW6vW9Xt"
      },
      "source": [
        "### Vector database\n",
        "\n",
        "Then, we need to store the embedding vectors in a vector database, which allows us to search and retrieve the corresponding vectors during queries."
      ]
    },
    {
      "cell_type": "code",
      "execution_count": 10,
      "metadata": {
        "id": "jLNUTFfZW9Xu"
      },
      "outputs": [],
      "source": [
        "# create the vectorestore to use as the index\n",
        "db = Chroma.from_documents(texts, embeddings)"
      ]
    },
    {
      "cell_type": "markdown",
      "metadata": {
        "id": "SpXB7JSvW9Xu"
      },
      "source": [
        "### Retriever interface\n",
        "\n",
        "To retrieve the text, we can select a search type such as \"similarity\" to use similarity search in the retriever object, where it selects the text fragment vectors that are most similar to the question vector.\n",
        "\n",
        "The `k=2` allows us to find the 2 most relevant text snippet vectors."
      ]
    },
    {
      "cell_type": "code",
      "execution_count": 12,
      "metadata": {
        "id": "lSGHLXXeW9Xu"
      },
      "outputs": [],
      "source": [
        "# expose this index in a retriever interface\n",
        "retriever = db.as_retriever(\n",
        "    #search_type='mmr',\n",
        "    search_type=\"similarity\",\n",
        "    search_kwargs={\"k\": 2}\n",
        ")"
      ]
    },
    {
      "cell_type": "code",
      "execution_count": 13,
      "metadata": {
        "id": "2IDfdgdgZ3dR"
      },
      "outputs": [],
      "source": [
        "from transformers import AutoTokenizer, AutoModelForCausalLM, pipeline\n",
        "from langchain.chains import RetrievalQA\n",
        "from langchain.llms import HuggingFacePipeline\n",
        "\n",
        "# Load the Qwen model and tokenizer\n",
        "# The model_name specifies the pretrained Qwen model to be used\n",
        "model_name = \"Qwen/Qwen2.5-1.5B-Instruct\"\n",
        "tokenizer = AutoTokenizer.from_pretrained(model_name, trust_remote_code=True)  # Initialize tokenizer with remote code trust\n",
        "model = AutoModelForCausalLM.from_pretrained(model_name, trust_remote_code=True, device_map=\"auto\")  # Load model with device mapping\n",
        "\n",
        "# Create a Hugging Face text-generation pipeline\n",
        "hf_pipeline = pipeline(\n",
        "    \"text-generation\",  # Specify the task type\n",
        "    model=model,\n",
        "    tokenizer=tokenizer,\n",
        "    max_new_tokens=128,  # Set the maximum number of tokens the model can generate in a single response\n",
        "    do_sample=False  # Disable sampling for more deterministic outputs\n",
        ")\n",
        "\n",
        "# Integrate the Hugging Face pipeline into LangChain\n",
        "llm = HuggingFacePipeline(pipeline=hf_pipeline)\n",
        "\n",
        "# Create a RetrievalQA chain for answering questions\n",
        "qa_chain = RetrievalQA.from_chain_type(\n",
        "    llm=llm,  # Specify the language model to use\n",
        "    chain_type=\"map_reduce\",  # Use a map-reduce chain type for efficient large-scale queries\n",
        "    retriever=retriever,  # Define the retriever to handle document searches\n",
        "    return_source_documents=True,  # Return source documents along with the generated answers\n",
        "    verbose=True  # Enable detailed logging for better debugging and monitoring\n",
        ")\n"
      ]
    },
    {
      "cell_type": "code",
      "source": [
        "\n",
        "def truncate_input(query, tokenizer, max_input_length=512):\n",
        "    \"\"\"\n",
        "    Truncates the input text to ensure its tokenized length does not exceed the specified maximum.\n",
        "    \"\"\"\n",
        "    # Tokenize the input query with truncation to the maximum allowed token length\n",
        "    tokens = tokenizer.encode(query, truncation=True, max_length=max_input_length)\n",
        "\n",
        "    # Decode the truncated tokens back into a readable string\n",
        "    return tokenizer.decode(tokens)\n",
        "\n",
        "\n"
      ],
      "metadata": {
        "id": "PzX0vpOXVWCR"
      },
      "execution_count": 14,
      "outputs": []
    },
    {
      "cell_type": "markdown",
      "source": [
        "Let us try to find information about the GPT-4 training cost."
      ],
      "metadata": {
        "id": "6OSwZI3cVDsK"
      }
    },
    {
      "cell_type": "code",
      "source": [
        "query = \"What was the training cost of GPT-4?\"\n",
        "query = truncate_input(query, tokenizer, max_input_length=512)\n",
        "result = qa_chain.invoke(query)\n"
      ],
      "metadata": {
        "colab": {
          "base_uri": "https://localhost:8080/",
          "height": 304,
          "referenced_widgets": [
            "32e8581ad78e4ff586bbd6decf33dea7",
            "12b8f0b82ac04dca94017de4d8da6870",
            "9b640aa2537d4004ad196c0564a245f8",
            "d457bab85785439c84ab23c484a59f98",
            "81c13a4c0d63453ebba8a6d397fa6e8b",
            "87dfb70a3fb44265923b132c2e0f2298",
            "0cea9fd03919466d81ddcb9927964fbd",
            "c37aebd6542e454c9112f93303992ab6",
            "23b18e4cb499443e82942ab749f5dee5",
            "fb00cbf06aee4f86a08c83220985eefc",
            "8b69c0b6abac4709befd35e84d04bd47",
            "68013492305846f49eedfdc9e788af2d",
            "7ea9384d50e34e10aef2b9978e350674",
            "4d8a66baa71f4546befcd423b919b2b9",
            "752a18bc3bc44d07bf635e8e9f6707d2",
            "c84df0fcd7754f94906d22f2908a2ce3",
            "c34f8546d144472186ddca08b4720119",
            "21d0f3d9472a429aa01b83efc35fda88",
            "6ef3f54b86a04a9cb89f26ef010a5fd5",
            "cc8f401f07e0469384964c9a4ef5c498",
            "c2b953de2af547ba8bc4d3b091f711eb",
            "5e02b0400e5a489695f7e8dc43735efa",
            "08275f721a07437babd4cb4628fc1638",
            "baadf24962ff48caa80285e26c5c5ff1",
            "07291e8f59fc48b888e3e418d3e88a80",
            "15576493624f40d8bf609d3076852a7c",
            "65679f58bb134c44b74dab1d1ee6c9e7",
            "b60e00e9b9e64be58968b9e585537451",
            "43deb3806b9f4e2bac37319939d76d8d",
            "7bec8780acfa4ffcbfd4fb3500dd7edb",
            "6c1ae08fb6854399975c07e95c9ec924",
            "94ce3021f0754f29a98f112b1e4b45d4",
            "2c56c35e7f174be7ae750f2acfbfe062",
            "e4f83787899845c7992c47622d07a10e",
            "41d8de26255742a290d0bd5b1acf6914",
            "60975ddf246a49619ed76574a2f0ae8f",
            "2472d2366d484b68a4d14ba3fb9ee1e7",
            "2ba392a32de042a08eda702c6bd1b1b4",
            "5e0dde53faaa4041a16a494f3aa233ad",
            "1bce2e06bd7b46f4bc052e6720f7dd08",
            "ec6a042809db4e8f8022c2388591ba7a",
            "d0db478e8eb34edc82e2444eba3d950d",
            "80c44eb712504b108362e33b70a30d60",
            "19307253314f4d62a3e519551cbeed43",
            "f825ef93844b4a35a1096ec7b0a2cf7c",
            "e082c1037bf04a60a5f33d75912bec23",
            "238281286b724c69a020325422ba5574",
            "8a33f51f97224588868b45d54cac0d7e",
            "0c47554930f140a88c7e958b30c4225f",
            "642ef7b351db470e8c340d6f7ee5be94",
            "2fc9e48ed2524424a4f3f282def8fb36",
            "35bf6748486244f08fefa5d177611731",
            "0e84296102274dc0be076c63184912ca",
            "f4e4e35c12c2443da8af59d1718736e9",
            "33822fe4ef3e4364b3481beba5ddfa73"
          ]
        },
        "id": "GCuC5qSZVC_F",
        "outputId": "f6f4cf44-ec7c-498c-8f87-cfd7050c003e"
      },
      "execution_count": 15,
      "outputs": [
        {
          "output_type": "stream",
          "name": "stdout",
          "text": [
            "\n",
            "\n",
            "\u001b[1m> Entering new RetrievalQA chain...\u001b[0m\n"
          ]
        },
        {
          "output_type": "display_data",
          "data": {
            "text/plain": [
              "tokenizer_config.json:   0%|          | 0.00/26.0 [00:00<?, ?B/s]"
            ],
            "application/vnd.jupyter.widget-view+json": {
              "version_major": 2,
              "version_minor": 0,
              "model_id": "32e8581ad78e4ff586bbd6decf33dea7"
            }
          },
          "metadata": {}
        },
        {
          "output_type": "display_data",
          "data": {
            "text/plain": [
              "vocab.json:   0%|          | 0.00/1.04M [00:00<?, ?B/s]"
            ],
            "application/vnd.jupyter.widget-view+json": {
              "version_major": 2,
              "version_minor": 0,
              "model_id": "68013492305846f49eedfdc9e788af2d"
            }
          },
          "metadata": {}
        },
        {
          "output_type": "display_data",
          "data": {
            "text/plain": [
              "merges.txt:   0%|          | 0.00/456k [00:00<?, ?B/s]"
            ],
            "application/vnd.jupyter.widget-view+json": {
              "version_major": 2,
              "version_minor": 0,
              "model_id": "08275f721a07437babd4cb4628fc1638"
            }
          },
          "metadata": {}
        },
        {
          "output_type": "display_data",
          "data": {
            "text/plain": [
              "tokenizer.json:   0%|          | 0.00/1.36M [00:00<?, ?B/s]"
            ],
            "application/vnd.jupyter.widget-view+json": {
              "version_major": 2,
              "version_minor": 0,
              "model_id": "e4f83787899845c7992c47622d07a10e"
            }
          },
          "metadata": {}
        },
        {
          "output_type": "display_data",
          "data": {
            "text/plain": [
              "config.json:   0%|          | 0.00/665 [00:00<?, ?B/s]"
            ],
            "application/vnd.jupyter.widget-view+json": {
              "version_major": 2,
              "version_minor": 0,
              "model_id": "f825ef93844b4a35a1096ec7b0a2cf7c"
            }
          },
          "metadata": {}
        },
        {
          "output_type": "stream",
          "name": "stderr",
          "text": [
            "Token indices sequence length is longer than the specified maximum sequence length for this model (2721 > 1024). Running this sequence through the model will result in indexing errors\n"
          ]
        },
        {
          "output_type": "stream",
          "name": "stdout",
          "text": [
            "\n",
            "\u001b[1m> Finished chain.\u001b[0m\n"
          ]
        }
      ]
    },
    {
      "cell_type": "markdown",
      "source": [
        "Let's look at what we have found."
      ],
      "metadata": {
        "id": "obRQYNZaRIB_"
      }
    },
    {
      "cell_type": "code",
      "execution_count": 16,
      "metadata": {
        "id": "mCfq-LoZW9Xv",
        "colab": {
          "base_uri": "https://localhost:8080/"
        },
        "outputId": "52c4d9b9-bbcb-46eb-bdf6-2122ab663224"
      },
      "outputs": [
        {
          "output_type": "stream",
          "name": "stdout",
          "text": [
            "{'page': 38, 'source': 'Chapter1.pdf'}\n",
            "{'page': 36, 'source': 'Chapter1.pdf'}\n"
          ]
        }
      ],
      "source": [
        "\n",
        "for document in result[\"source_documents\"]:\n",
        "    print(document.metadata)\n",
        "\n"
      ]
    },
    {
      "cell_type": "code",
      "source": [
        "result.keys()"
      ],
      "metadata": {
        "colab": {
          "base_uri": "https://localhost:8080/"
        },
        "id": "lVXRY7BzUoXp",
        "outputId": "97464a27-e9d2-4e59-8a90-827bbf245f3e"
      },
      "execution_count": 17,
      "outputs": [
        {
          "output_type": "execute_result",
          "data": {
            "text/plain": [
              "dict_keys(['query', 'result', 'source_documents'])"
            ]
          },
          "metadata": {},
          "execution_count": 17
        }
      ]
    },
    {
      "cell_type": "code",
      "source": [
        "result['result']"
      ],
      "metadata": {
        "colab": {
          "base_uri": "https://localhost:8080/",
          "height": 178
        },
        "id": "gZAn7NgbUp19",
        "outputId": "3879a8ae-06bd-4391-8ce4-7f336f9c7e07"
      },
      "execution_count": null,
      "outputs": [
        {
          "output_type": "execute_result",
          "data": {
            "text/plain": [
              "\"Given the following extracted parts of a long document and a question, create a final answer. \\nIf you don't know the answer, just say that you don't know. Don't try to make up an answer.\\n\\nQUESTION: Which state/country's law governs the interpretation of the contract?\\n=========\\nContent: This Agreement is governed by English law and the parties submit to the exclusive jurisdiction of the English courts in  relation to any dispute (contractual or non-contractual) concerning this Agreement save that either party may apply to any court for an  injunction or other relief to protect its Intellectual Property Rights.\\n\\nContent: No Waiver. Failure or delay in exercising any right or remedy under this Agreement shall not constitute a waiver of such (or any other)  right or remedy.\\n\\n11.7 Severability. The invalidity, illegality or unenforceability of any term (or part of a term) of this Agreement shall not affect the continuation  in force of the remainder of the term (if any) and this Agreement.\\n\\n11.8 No Agency. Except as expressly stated otherwise, nothing in this Agreement shall create an agency, partnership or joint venture of any  kind between the parties.\\n\\n11.9 No Third-Party Beneficiaries.\\n\\nContent: (b) if Google believes, in good faith, that the Distributor has violated or caused Google to violate any Anti-Bribery Laws (as  defined in Clause 8.5) or that such a violation is reasonably likely to occur,\\n=========\\nFINAL ANSWER: This Agreement is governed by English law.\\n\\nQUESTION: What did the president say about Michael Jackson?\\n=========\\nContent: Madam Speaker, Madam Vice President, our First Lady and Second Gentleman. Members of Congress and the Cabinet. Justices of the Supreme Court. My fellow Americans.  \\n\\nLast year COVID-19 kept us apart. This year we are finally together again. \\n\\nTonight, we meet as Democrats Republicans and Independents. But most importantly as Americans. \\n\\nWith a duty to one another to the American people to the Constitution. \\n\\nAnd with an unwavering resolve that freedom will always triumph over tyranny. \\n\\nSix days ago, Russia’s Vladimir Putin sought to shake the foundations of the free world thinking he could make it bend to his menacing ways. But he badly miscalculated. \\n\\nHe thought he could roll into Ukraine and the world would roll over. Instead he met a wall of strength he never imagined. \\n\\nHe met the Ukrainian people. \\n\\nFrom President Zelenskyy to every Ukrainian, their fearlessness, their courage, their determination, inspires the world. \\n\\nGroups of citizens blocking tanks with their bodies. Everyone from students to retirees teachers turned soldiers defending their homeland.\\n\\nContent: And we won’t stop. \\n\\nWe have lost so much to COVID-19. Time with one another. And worst of all, so much loss of life. \\n\\nLet’s use this moment to reset. Let’s stop looking at COVID-19 as a partisan dividing line and see it for what it is: A God-awful disease.  \\n\\nLet’s stop seeing each other as enemies, and start seeing each other for who we really are: Fellow Americans.  \\n\\nWe can’t change how divided we’ve been. But we can change how we move forward—on COVID-19 and other issues we must face together. \\n\\nI recently visited the New York City Police Department days after the funerals of Officer Wilbert Mora and his partner, Officer Jason Rivera. \\n\\nThey were responding to a 9-1-1 call when a man shot and killed them with a stolen gun. \\n\\nOfficer Mora was 27 years old. \\n\\nOfficer Rivera was 22. \\n\\nBoth Dominican Americans who’d grown up on the same streets they later chose to patrol as police officers. \\n\\nI spoke with their families and told them that we are forever in debt for their sacrifice, and we will carry on their mission to restore the trust and safety every community deserves.\\n\\nContent: And a proud Ukrainian people, who have known 30 years  of independence, have repeatedly shown that they will not tolerate anyone who tries to take their country backwards.  \\n\\nTo all Americans, I will be honest with you, as I’ve always promised. A Russian dictator, invading a foreign country, has costs around the world. \\n\\nAnd I’m taking robust action to make sure the pain of our sanctions  is targeted at Russia’s economy. And I will use every tool at our disposal to protect American businesses and consumers. \\n\\nTonight, I can announce that the United States has worked with 30 other countries to release 60 Million barrels of oil from reserves around the world.  \\n\\nAmerica will lead that effort, releasing 30 Million barrels from our own Strategic Petroleum Reserve. And we stand ready to do more if necessary, unified with our allies.  \\n\\nThese steps will help blunt gas prices here at home. And I know the news about what’s happening can seem alarming. \\n\\nBut I want you to know that we are going to be okay.\\n\\nContent: More support for patients and families. \\n\\nTo get there, I call on Congress to fund ARPA-H, the Advanced Research Projects Agency for Health. \\n\\nIt’s based on DARPA—the Defense Department project that led to the Internet, GPS, and so much more.  \\n\\nARPA-H will have a singular purpose—to drive breakthroughs in cancer, Alzheimer’s, diabetes, and more. \\n\\nA unity agenda for the nation. \\n\\nWe can do this. \\n\\nMy fellow Americans—tonight , we have gathered in a sacred space—the citadel of our democracy. \\n\\nIn this Capitol, generation after generation, Americans have debated great questions amid great strife, and have done great things. \\n\\nWe have fought for freedom, expanded liberty, defeated totalitarianism and terror. \\n\\nAnd built the strongest, freest, and most prosperous nation the world has ever known. \\n\\nNow is the hour. \\n\\nOur moment of responsibility. \\n\\nOur test of resolve and conscience, of history itself. \\n\\nIt is in this moment that our character is formed. Our purpose is found. Our future is forged. \\n\\nWell I know this nation.\\n=========\\nFINAL ANSWER: The president did not mention Michael Jackson.\\n\\nQUESTION: What was the training cost of GPT-4?\\n=========\\nUse the following portion of a long document to see if any of the text is relevant to answer the question. \\nReturn any relevant text verbatim.\\nChapter 1 Preview 39\\nArtificial Intelligence\\nIndex Report 2024\\nGemini Ultra\\nLlama 2 70B\\nGPT-4\\nPaLM (540B)\\nLaMDA\\nMegatron-Turing NLG 530BGPT-3 175B (davinci)\\nRoBERTa Large\\nBERT-Large\\nTransformer\\n10K 100K 1M 10M 100M 1B 10B 100B\\n1000\\n10K\\n100K\\n1M\\n10M\\n100M\\nTraining compute (petaFLOP - log scale)\\nTraining cost (in U.S. dollars - log scale)\\nEstimated training cost and compute of select AI models\\nSource: Epoch, 2023 | Chart: 2024 AI Index report\\n1.3 Frontier AI Research\\nChapter 1: Research and DevelopmentArtificial Intelligence\\nIndex Report 2024\\nFigure 1.3.23\\nAs established in previous AI Index reports, there is a direct correlation between the training costs of AI models \\nand their computational requirements. As illustrated in Figure 1.3.23, models with greater computational training \\nneeds cost substantially more to train.\\nQuestion: What was the training cost of GPT-4?\\nRelevant text, if any: The estimated training cost and compute of select AI models are provided in Table 1.3.24.\\n\\nTable 1.3.24 Estimated Training Cost and Compute of Select AI Models\\n\\n| Model Name | Training Compute (petaFLOPs) | Training Cost (USD) |\\n|------------|--------------------------------|---------------------|\\n| GPT-4      | 175B                          | 100 million USD       |\\n\\nThe training cost of GPT-4 is $100 million USD. Relevant text from the table:\\n\\nModel Name: GPT-4  \\nTraining Compute (petaFLOPs\\n\\nUse the following portion of a long document to see if any of the text is relevant to answer the question. \\nReturn any relevant text verbatim.\\nChapter 1 Preview 39\\nArtificial Intelligence\\nIndex Report 2024\\nGemini Ultra\\nLlama 2 70B\\nGPT-4\\nPaLM (540B)\\nLaMDA\\nMegatron-Turing NLG 530BGPT-3 175B (davinci)\\nRoBERTa Large\\nBERT-Large\\nTransformer\\n10K 100K 1M 10M 100M 1B 10B 100B\\n1000\\n10K\\n100K\\n1M\\n10M\\n100M\\nTraining compute (petaFLOP - log scale)\\nTraining cost (in U.S. dollars - log scale)\\nEstimated training cost and compute of select AI models\\nSource: Epoch, 2023 | Chart: 2024 AI Index report\\n1.3 Frontier AI Research\\nChapter 1: Research and DevelopmentArtificial Intelligence\\nIndex Report 2024\\nFigure 1.3.23\\nAs established in previous AI Index reports, there is a direct correlation between the training costs of AI models \\nand their computational requirements. As illustrated in Figure 1.3.23, models with greater computational training \\nneeds cost substantially more to train.\\nQuestion: What was the training cost of GPT-4?\\nRelevant text, if any: The estimated training cost and compute of select AI models are provided in Table 1.3.24.\\n\\nTable 1.3.24 Estimated Training Cost and Compute of Select AI Models\\n\\n| Model Name | Training Compute (petaFLOPs) | Training Cost (USD) |\\n|------------|--------------------------------|---------------------|\\n| GPT-4      | 175B                          | 100 million USD       |\\n\\nThe training cost of GPT-4 is $100 million USD. Relevant text from the table:\\n\\nModel Name: GPT-4  \\nTraining Compute (petaFLOPs\\n=========\\nFINAL ANSWER: The training cost of GPT-4 is $100 million USD.\""
            ],
            "application/vnd.google.colaboratory.intrinsic+json": {
              "type": "string"
            }
          },
          "metadata": {},
          "execution_count": 30
        }
      ]
    },
    {
      "cell_type": "markdown",
      "source": [
        "Seems that the result needs some postprocessing."
      ],
      "metadata": {
        "id": "lUX_r2ZcVOFJ"
      }
    },
    {
      "cell_type": "code",
      "source": [
        "result['result'].split('FINAL ANSWER:')[-1].split('Relevant text from the passage:')[0].strip()"
      ],
      "metadata": {
        "colab": {
          "base_uri": "https://localhost:8080/",
          "height": 36
        },
        "id": "I4kwP7GkUv2R",
        "outputId": "18f09ce9-76dd-4a5c-c46f-720e6cca844f"
      },
      "execution_count": null,
      "outputs": [
        {
          "output_type": "execute_result",
          "data": {
            "text/plain": [
              "'The training cost of GPT-4 is $100 million USD.'"
            ],
            "application/vnd.google.colaboratory.intrinsic+json": {
              "type": "string"
            }
          },
          "metadata": {},
          "execution_count": 31
        }
      ]
    },
    {
      "cell_type": "markdown",
      "metadata": {
        "id": "iN_2WuUsW9Xv"
      },
      "source": [
        "# Naive example\n",
        "\n",
        "Let's compare these answers with the raw QWEN 2.5 answers. We will generate naive LLM responses using `Qwen/Qwen2.5-1.5B-Instruct` without our RAG."
      ]
    },
    {
      "cell_type": "code",
      "execution_count": 18,
      "metadata": {
        "id": "em_1FPURW9Xv",
        "colab": {
          "base_uri": "https://localhost:8080/"
        },
        "outputId": "a8ce27cd-a065-4704-8096-a003439b0d0a"
      },
      "outputs": [
        {
          "output_type": "stream",
          "name": "stderr",
          "text": [
            "WARNING:accelerate.big_modeling:Some parameters are on the meta device because they were offloaded to the cpu.\n"
          ]
        },
        {
          "output_type": "stream",
          "name": "stdout",
          "text": [
            "What are the main principles of artificial intelligence? Artificial Intelligence (AI) is a rapidly evolving field that aims to create intelligent machines capable of performing tasks that typically require human intelligence, such as visual perception, speech recognition, decision-making, and language translation. The main principles of AI include:\n",
            "\n",
            "1. Machine Learning: This involves training algorithms on large datasets to learn patterns and make predictions or decisions without being explicitly programmed.\n",
            "\n",
            "2. Deep Learning: A subset of machine learning that uses neural networks with multiple layers to model complex relationships in data.\n",
            "\n",
            "3. Natural\n"
          ]
        }
      ],
      "source": [
        "from transformers import AutoTokenizer, AutoModelForCausalLM, pipeline\n",
        "\n",
        "# Load Qwen model and tokenizer for text generation\n",
        "model_name = \"Qwen/Qwen2.5-1.5B-Instruct\"\n",
        "tokenizer = AutoTokenizer.from_pretrained(model_name, trust_remote_code=True)  # Initialize tokenizer\n",
        "model = AutoModelForCausalLM.from_pretrained(model_name, trust_remote_code=True, device_map=\"auto\")  # Load model with device mapping\n",
        "\n",
        "# Set up a text generation pipeline using Hugging Face\n",
        "text_gen_pipeline = pipeline(\n",
        "    \"text-generation\",  # Define task type as text generation\n",
        "    model=model,\n",
        "    tokenizer=tokenizer,\n",
        "    max_new_tokens=100,  # Limit the output to 100 tokens\n",
        "    do_sample=True,  # Enable sampling for variability\n",
        "    temperature=0.01  # Low temperature for deterministic responses\n",
        ")\n",
        "\n",
        "def generate_naive_llm_response(question):\n",
        "    \"\"\"\n",
        "    Generate a response to a given question using the Qwen model.\n",
        "\n",
        "    Parameters:\n",
        "        question (str): The user's question or input query.\n",
        "\n",
        "    Returns:\n",
        "        str: The generated response text from the model.\n",
        "\n",
        "\n",
        "    \"\"\"\n",
        "    # Generate a response using the text generation pipeline\n",
        "    chat_response = text_gen_pipeline(question)[0][\"generated_text\"]  # Extract generated text\n",
        "\n",
        "    # Print and return the generated response\n",
        "    print(chat_response.strip())  # Display response without leading/trailing spaces\n",
        "    return chat_response.strip()  # Return the processed response text\n",
        "\n",
        "# Example usage\n",
        "query = \"What are the main principles of artificial intelligence?\"\n",
        "response = generate_naive_llm_response(query)  # Generate and print the response\n"
      ]
    },
    {
      "cell_type": "code",
      "source": [
        "query = \"What was the training cost of GPT-4?\"\n",
        "response = generate_naive_llm_response(query)  # Generate and print the response"
      ],
      "metadata": {
        "colab": {
          "base_uri": "https://localhost:8080/"
        },
        "id": "RifE7N3HT9OQ",
        "outputId": "07e3bdc7-9f5c-4b62-c2a9-62f2cac4a94a"
      },
      "execution_count": null,
      "outputs": [
        {
          "output_type": "stream",
          "name": "stdout",
          "text": [
            "What was the training cost of GPT-4? I'm sorry, but there is no publicly available information about the training cost of GPT-4. The development and release of large language models like GPT-4 are a closely guarded secret by their creators, including OpenAI. They do not typically disclose details about the resources or costs associated with developing these models.\n",
            "It's worth noting that the training process for large language models can be very resource-intensive, involving significant amounts of computing power and data. However, without more specific information from the developers\n"
          ]
        }
      ]
    },
    {
      "cell_type": "code",
      "source": [],
      "metadata": {
        "id": "_dENCZfrZv_L"
      },
      "execution_count": null,
      "outputs": []
    }
  ],
  "metadata": {
    "accelerator": "GPU",
    "colab": {
      "gpuType": "T4",
      "provenance": []
    },
    "kernelspec": {
      "display_name": "Python 3",
      "name": "python3"
    },
    "language_info": {
      "codemirror_mode": {
        "name": "ipython",
        "version": 3
      },
      "file_extension": ".py",
      "mimetype": "text/x-python",
      "name": "python",
      "nbconvert_exporter": "python",
      "pygments_lexer": "ipython3",
      "version": "3.12.3"
    },
    "widgets": {
      "application/vnd.jupyter.widget-state+json": {
        "32e8581ad78e4ff586bbd6decf33dea7": {
          "model_module": "@jupyter-widgets/controls",
          "model_name": "HBoxModel",
          "model_module_version": "1.5.0",
          "state": {
            "_dom_classes": [],
            "_model_module": "@jupyter-widgets/controls",
            "_model_module_version": "1.5.0",
            "_model_name": "HBoxModel",
            "_view_count": null,
            "_view_module": "@jupyter-widgets/controls",
            "_view_module_version": "1.5.0",
            "_view_name": "HBoxView",
            "box_style": "",
            "children": [
              "IPY_MODEL_12b8f0b82ac04dca94017de4d8da6870",
              "IPY_MODEL_9b640aa2537d4004ad196c0564a245f8",
              "IPY_MODEL_d457bab85785439c84ab23c484a59f98"
            ],
            "layout": "IPY_MODEL_81c13a4c0d63453ebba8a6d397fa6e8b"
          }
        },
        "12b8f0b82ac04dca94017de4d8da6870": {
          "model_module": "@jupyter-widgets/controls",
          "model_name": "HTMLModel",
          "model_module_version": "1.5.0",
          "state": {
            "_dom_classes": [],
            "_model_module": "@jupyter-widgets/controls",
            "_model_module_version": "1.5.0",
            "_model_name": "HTMLModel",
            "_view_count": null,
            "_view_module": "@jupyter-widgets/controls",
            "_view_module_version": "1.5.0",
            "_view_name": "HTMLView",
            "description": "",
            "description_tooltip": null,
            "layout": "IPY_MODEL_87dfb70a3fb44265923b132c2e0f2298",
            "placeholder": "​",
            "style": "IPY_MODEL_0cea9fd03919466d81ddcb9927964fbd",
            "value": "tokenizer_config.json: 100%"
          }
        },
        "9b640aa2537d4004ad196c0564a245f8": {
          "model_module": "@jupyter-widgets/controls",
          "model_name": "FloatProgressModel",
          "model_module_version": "1.5.0",
          "state": {
            "_dom_classes": [],
            "_model_module": "@jupyter-widgets/controls",
            "_model_module_version": "1.5.0",
            "_model_name": "FloatProgressModel",
            "_view_count": null,
            "_view_module": "@jupyter-widgets/controls",
            "_view_module_version": "1.5.0",
            "_view_name": "ProgressView",
            "bar_style": "success",
            "description": "",
            "description_tooltip": null,
            "layout": "IPY_MODEL_c37aebd6542e454c9112f93303992ab6",
            "max": 26,
            "min": 0,
            "orientation": "horizontal",
            "style": "IPY_MODEL_23b18e4cb499443e82942ab749f5dee5",
            "value": 26
          }
        },
        "d457bab85785439c84ab23c484a59f98": {
          "model_module": "@jupyter-widgets/controls",
          "model_name": "HTMLModel",
          "model_module_version": "1.5.0",
          "state": {
            "_dom_classes": [],
            "_model_module": "@jupyter-widgets/controls",
            "_model_module_version": "1.5.0",
            "_model_name": "HTMLModel",
            "_view_count": null,
            "_view_module": "@jupyter-widgets/controls",
            "_view_module_version": "1.5.0",
            "_view_name": "HTMLView",
            "description": "",
            "description_tooltip": null,
            "layout": "IPY_MODEL_fb00cbf06aee4f86a08c83220985eefc",
            "placeholder": "​",
            "style": "IPY_MODEL_8b69c0b6abac4709befd35e84d04bd47",
            "value": " 26.0/26.0 [00:00&lt;00:00, 1.05kB/s]"
          }
        },
        "81c13a4c0d63453ebba8a6d397fa6e8b": {
          "model_module": "@jupyter-widgets/base",
          "model_name": "LayoutModel",
          "model_module_version": "1.2.0",
          "state": {
            "_model_module": "@jupyter-widgets/base",
            "_model_module_version": "1.2.0",
            "_model_name": "LayoutModel",
            "_view_count": null,
            "_view_module": "@jupyter-widgets/base",
            "_view_module_version": "1.2.0",
            "_view_name": "LayoutView",
            "align_content": null,
            "align_items": null,
            "align_self": null,
            "border": null,
            "bottom": null,
            "display": null,
            "flex": null,
            "flex_flow": null,
            "grid_area": null,
            "grid_auto_columns": null,
            "grid_auto_flow": null,
            "grid_auto_rows": null,
            "grid_column": null,
            "grid_gap": null,
            "grid_row": null,
            "grid_template_areas": null,
            "grid_template_columns": null,
            "grid_template_rows": null,
            "height": null,
            "justify_content": null,
            "justify_items": null,
            "left": null,
            "margin": null,
            "max_height": null,
            "max_width": null,
            "min_height": null,
            "min_width": null,
            "object_fit": null,
            "object_position": null,
            "order": null,
            "overflow": null,
            "overflow_x": null,
            "overflow_y": null,
            "padding": null,
            "right": null,
            "top": null,
            "visibility": null,
            "width": null
          }
        },
        "87dfb70a3fb44265923b132c2e0f2298": {
          "model_module": "@jupyter-widgets/base",
          "model_name": "LayoutModel",
          "model_module_version": "1.2.0",
          "state": {
            "_model_module": "@jupyter-widgets/base",
            "_model_module_version": "1.2.0",
            "_model_name": "LayoutModel",
            "_view_count": null,
            "_view_module": "@jupyter-widgets/base",
            "_view_module_version": "1.2.0",
            "_view_name": "LayoutView",
            "align_content": null,
            "align_items": null,
            "align_self": null,
            "border": null,
            "bottom": null,
            "display": null,
            "flex": null,
            "flex_flow": null,
            "grid_area": null,
            "grid_auto_columns": null,
            "grid_auto_flow": null,
            "grid_auto_rows": null,
            "grid_column": null,
            "grid_gap": null,
            "grid_row": null,
            "grid_template_areas": null,
            "grid_template_columns": null,
            "grid_template_rows": null,
            "height": null,
            "justify_content": null,
            "justify_items": null,
            "left": null,
            "margin": null,
            "max_height": null,
            "max_width": null,
            "min_height": null,
            "min_width": null,
            "object_fit": null,
            "object_position": null,
            "order": null,
            "overflow": null,
            "overflow_x": null,
            "overflow_y": null,
            "padding": null,
            "right": null,
            "top": null,
            "visibility": null,
            "width": null
          }
        },
        "0cea9fd03919466d81ddcb9927964fbd": {
          "model_module": "@jupyter-widgets/controls",
          "model_name": "DescriptionStyleModel",
          "model_module_version": "1.5.0",
          "state": {
            "_model_module": "@jupyter-widgets/controls",
            "_model_module_version": "1.5.0",
            "_model_name": "DescriptionStyleModel",
            "_view_count": null,
            "_view_module": "@jupyter-widgets/base",
            "_view_module_version": "1.2.0",
            "_view_name": "StyleView",
            "description_width": ""
          }
        },
        "c37aebd6542e454c9112f93303992ab6": {
          "model_module": "@jupyter-widgets/base",
          "model_name": "LayoutModel",
          "model_module_version": "1.2.0",
          "state": {
            "_model_module": "@jupyter-widgets/base",
            "_model_module_version": "1.2.0",
            "_model_name": "LayoutModel",
            "_view_count": null,
            "_view_module": "@jupyter-widgets/base",
            "_view_module_version": "1.2.0",
            "_view_name": "LayoutView",
            "align_content": null,
            "align_items": null,
            "align_self": null,
            "border": null,
            "bottom": null,
            "display": null,
            "flex": null,
            "flex_flow": null,
            "grid_area": null,
            "grid_auto_columns": null,
            "grid_auto_flow": null,
            "grid_auto_rows": null,
            "grid_column": null,
            "grid_gap": null,
            "grid_row": null,
            "grid_template_areas": null,
            "grid_template_columns": null,
            "grid_template_rows": null,
            "height": null,
            "justify_content": null,
            "justify_items": null,
            "left": null,
            "margin": null,
            "max_height": null,
            "max_width": null,
            "min_height": null,
            "min_width": null,
            "object_fit": null,
            "object_position": null,
            "order": null,
            "overflow": null,
            "overflow_x": null,
            "overflow_y": null,
            "padding": null,
            "right": null,
            "top": null,
            "visibility": null,
            "width": null
          }
        },
        "23b18e4cb499443e82942ab749f5dee5": {
          "model_module": "@jupyter-widgets/controls",
          "model_name": "ProgressStyleModel",
          "model_module_version": "1.5.0",
          "state": {
            "_model_module": "@jupyter-widgets/controls",
            "_model_module_version": "1.5.0",
            "_model_name": "ProgressStyleModel",
            "_view_count": null,
            "_view_module": "@jupyter-widgets/base",
            "_view_module_version": "1.2.0",
            "_view_name": "StyleView",
            "bar_color": null,
            "description_width": ""
          }
        },
        "fb00cbf06aee4f86a08c83220985eefc": {
          "model_module": "@jupyter-widgets/base",
          "model_name": "LayoutModel",
          "model_module_version": "1.2.0",
          "state": {
            "_model_module": "@jupyter-widgets/base",
            "_model_module_version": "1.2.0",
            "_model_name": "LayoutModel",
            "_view_count": null,
            "_view_module": "@jupyter-widgets/base",
            "_view_module_version": "1.2.0",
            "_view_name": "LayoutView",
            "align_content": null,
            "align_items": null,
            "align_self": null,
            "border": null,
            "bottom": null,
            "display": null,
            "flex": null,
            "flex_flow": null,
            "grid_area": null,
            "grid_auto_columns": null,
            "grid_auto_flow": null,
            "grid_auto_rows": null,
            "grid_column": null,
            "grid_gap": null,
            "grid_row": null,
            "grid_template_areas": null,
            "grid_template_columns": null,
            "grid_template_rows": null,
            "height": null,
            "justify_content": null,
            "justify_items": null,
            "left": null,
            "margin": null,
            "max_height": null,
            "max_width": null,
            "min_height": null,
            "min_width": null,
            "object_fit": null,
            "object_position": null,
            "order": null,
            "overflow": null,
            "overflow_x": null,
            "overflow_y": null,
            "padding": null,
            "right": null,
            "top": null,
            "visibility": null,
            "width": null
          }
        },
        "8b69c0b6abac4709befd35e84d04bd47": {
          "model_module": "@jupyter-widgets/controls",
          "model_name": "DescriptionStyleModel",
          "model_module_version": "1.5.0",
          "state": {
            "_model_module": "@jupyter-widgets/controls",
            "_model_module_version": "1.5.0",
            "_model_name": "DescriptionStyleModel",
            "_view_count": null,
            "_view_module": "@jupyter-widgets/base",
            "_view_module_version": "1.2.0",
            "_view_name": "StyleView",
            "description_width": ""
          }
        },
        "68013492305846f49eedfdc9e788af2d": {
          "model_module": "@jupyter-widgets/controls",
          "model_name": "HBoxModel",
          "model_module_version": "1.5.0",
          "state": {
            "_dom_classes": [],
            "_model_module": "@jupyter-widgets/controls",
            "_model_module_version": "1.5.0",
            "_model_name": "HBoxModel",
            "_view_count": null,
            "_view_module": "@jupyter-widgets/controls",
            "_view_module_version": "1.5.0",
            "_view_name": "HBoxView",
            "box_style": "",
            "children": [
              "IPY_MODEL_7ea9384d50e34e10aef2b9978e350674",
              "IPY_MODEL_4d8a66baa71f4546befcd423b919b2b9",
              "IPY_MODEL_752a18bc3bc44d07bf635e8e9f6707d2"
            ],
            "layout": "IPY_MODEL_c84df0fcd7754f94906d22f2908a2ce3"
          }
        },
        "7ea9384d50e34e10aef2b9978e350674": {
          "model_module": "@jupyter-widgets/controls",
          "model_name": "HTMLModel",
          "model_module_version": "1.5.0",
          "state": {
            "_dom_classes": [],
            "_model_module": "@jupyter-widgets/controls",
            "_model_module_version": "1.5.0",
            "_model_name": "HTMLModel",
            "_view_count": null,
            "_view_module": "@jupyter-widgets/controls",
            "_view_module_version": "1.5.0",
            "_view_name": "HTMLView",
            "description": "",
            "description_tooltip": null,
            "layout": "IPY_MODEL_c34f8546d144472186ddca08b4720119",
            "placeholder": "​",
            "style": "IPY_MODEL_21d0f3d9472a429aa01b83efc35fda88",
            "value": "vocab.json: 100%"
          }
        },
        "4d8a66baa71f4546befcd423b919b2b9": {
          "model_module": "@jupyter-widgets/controls",
          "model_name": "FloatProgressModel",
          "model_module_version": "1.5.0",
          "state": {
            "_dom_classes": [],
            "_model_module": "@jupyter-widgets/controls",
            "_model_module_version": "1.5.0",
            "_model_name": "FloatProgressModel",
            "_view_count": null,
            "_view_module": "@jupyter-widgets/controls",
            "_view_module_version": "1.5.0",
            "_view_name": "ProgressView",
            "bar_style": "success",
            "description": "",
            "description_tooltip": null,
            "layout": "IPY_MODEL_6ef3f54b86a04a9cb89f26ef010a5fd5",
            "max": 1042301,
            "min": 0,
            "orientation": "horizontal",
            "style": "IPY_MODEL_cc8f401f07e0469384964c9a4ef5c498",
            "value": 1042301
          }
        },
        "752a18bc3bc44d07bf635e8e9f6707d2": {
          "model_module": "@jupyter-widgets/controls",
          "model_name": "HTMLModel",
          "model_module_version": "1.5.0",
          "state": {
            "_dom_classes": [],
            "_model_module": "@jupyter-widgets/controls",
            "_model_module_version": "1.5.0",
            "_model_name": "HTMLModel",
            "_view_count": null,
            "_view_module": "@jupyter-widgets/controls",
            "_view_module_version": "1.5.0",
            "_view_name": "HTMLView",
            "description": "",
            "description_tooltip": null,
            "layout": "IPY_MODEL_c2b953de2af547ba8bc4d3b091f711eb",
            "placeholder": "​",
            "style": "IPY_MODEL_5e02b0400e5a489695f7e8dc43735efa",
            "value": " 1.04M/1.04M [00:00&lt;00:00, 5.35MB/s]"
          }
        },
        "c84df0fcd7754f94906d22f2908a2ce3": {
          "model_module": "@jupyter-widgets/base",
          "model_name": "LayoutModel",
          "model_module_version": "1.2.0",
          "state": {
            "_model_module": "@jupyter-widgets/base",
            "_model_module_version": "1.2.0",
            "_model_name": "LayoutModel",
            "_view_count": null,
            "_view_module": "@jupyter-widgets/base",
            "_view_module_version": "1.2.0",
            "_view_name": "LayoutView",
            "align_content": null,
            "align_items": null,
            "align_self": null,
            "border": null,
            "bottom": null,
            "display": null,
            "flex": null,
            "flex_flow": null,
            "grid_area": null,
            "grid_auto_columns": null,
            "grid_auto_flow": null,
            "grid_auto_rows": null,
            "grid_column": null,
            "grid_gap": null,
            "grid_row": null,
            "grid_template_areas": null,
            "grid_template_columns": null,
            "grid_template_rows": null,
            "height": null,
            "justify_content": null,
            "justify_items": null,
            "left": null,
            "margin": null,
            "max_height": null,
            "max_width": null,
            "min_height": null,
            "min_width": null,
            "object_fit": null,
            "object_position": null,
            "order": null,
            "overflow": null,
            "overflow_x": null,
            "overflow_y": null,
            "padding": null,
            "right": null,
            "top": null,
            "visibility": null,
            "width": null
          }
        },
        "c34f8546d144472186ddca08b4720119": {
          "model_module": "@jupyter-widgets/base",
          "model_name": "LayoutModel",
          "model_module_version": "1.2.0",
          "state": {
            "_model_module": "@jupyter-widgets/base",
            "_model_module_version": "1.2.0",
            "_model_name": "LayoutModel",
            "_view_count": null,
            "_view_module": "@jupyter-widgets/base",
            "_view_module_version": "1.2.0",
            "_view_name": "LayoutView",
            "align_content": null,
            "align_items": null,
            "align_self": null,
            "border": null,
            "bottom": null,
            "display": null,
            "flex": null,
            "flex_flow": null,
            "grid_area": null,
            "grid_auto_columns": null,
            "grid_auto_flow": null,
            "grid_auto_rows": null,
            "grid_column": null,
            "grid_gap": null,
            "grid_row": null,
            "grid_template_areas": null,
            "grid_template_columns": null,
            "grid_template_rows": null,
            "height": null,
            "justify_content": null,
            "justify_items": null,
            "left": null,
            "margin": null,
            "max_height": null,
            "max_width": null,
            "min_height": null,
            "min_width": null,
            "object_fit": null,
            "object_position": null,
            "order": null,
            "overflow": null,
            "overflow_x": null,
            "overflow_y": null,
            "padding": null,
            "right": null,
            "top": null,
            "visibility": null,
            "width": null
          }
        },
        "21d0f3d9472a429aa01b83efc35fda88": {
          "model_module": "@jupyter-widgets/controls",
          "model_name": "DescriptionStyleModel",
          "model_module_version": "1.5.0",
          "state": {
            "_model_module": "@jupyter-widgets/controls",
            "_model_module_version": "1.5.0",
            "_model_name": "DescriptionStyleModel",
            "_view_count": null,
            "_view_module": "@jupyter-widgets/base",
            "_view_module_version": "1.2.0",
            "_view_name": "StyleView",
            "description_width": ""
          }
        },
        "6ef3f54b86a04a9cb89f26ef010a5fd5": {
          "model_module": "@jupyter-widgets/base",
          "model_name": "LayoutModel",
          "model_module_version": "1.2.0",
          "state": {
            "_model_module": "@jupyter-widgets/base",
            "_model_module_version": "1.2.0",
            "_model_name": "LayoutModel",
            "_view_count": null,
            "_view_module": "@jupyter-widgets/base",
            "_view_module_version": "1.2.0",
            "_view_name": "LayoutView",
            "align_content": null,
            "align_items": null,
            "align_self": null,
            "border": null,
            "bottom": null,
            "display": null,
            "flex": null,
            "flex_flow": null,
            "grid_area": null,
            "grid_auto_columns": null,
            "grid_auto_flow": null,
            "grid_auto_rows": null,
            "grid_column": null,
            "grid_gap": null,
            "grid_row": null,
            "grid_template_areas": null,
            "grid_template_columns": null,
            "grid_template_rows": null,
            "height": null,
            "justify_content": null,
            "justify_items": null,
            "left": null,
            "margin": null,
            "max_height": null,
            "max_width": null,
            "min_height": null,
            "min_width": null,
            "object_fit": null,
            "object_position": null,
            "order": null,
            "overflow": null,
            "overflow_x": null,
            "overflow_y": null,
            "padding": null,
            "right": null,
            "top": null,
            "visibility": null,
            "width": null
          }
        },
        "cc8f401f07e0469384964c9a4ef5c498": {
          "model_module": "@jupyter-widgets/controls",
          "model_name": "ProgressStyleModel",
          "model_module_version": "1.5.0",
          "state": {
            "_model_module": "@jupyter-widgets/controls",
            "_model_module_version": "1.5.0",
            "_model_name": "ProgressStyleModel",
            "_view_count": null,
            "_view_module": "@jupyter-widgets/base",
            "_view_module_version": "1.2.0",
            "_view_name": "StyleView",
            "bar_color": null,
            "description_width": ""
          }
        },
        "c2b953de2af547ba8bc4d3b091f711eb": {
          "model_module": "@jupyter-widgets/base",
          "model_name": "LayoutModel",
          "model_module_version": "1.2.0",
          "state": {
            "_model_module": "@jupyter-widgets/base",
            "_model_module_version": "1.2.0",
            "_model_name": "LayoutModel",
            "_view_count": null,
            "_view_module": "@jupyter-widgets/base",
            "_view_module_version": "1.2.0",
            "_view_name": "LayoutView",
            "align_content": null,
            "align_items": null,
            "align_self": null,
            "border": null,
            "bottom": null,
            "display": null,
            "flex": null,
            "flex_flow": null,
            "grid_area": null,
            "grid_auto_columns": null,
            "grid_auto_flow": null,
            "grid_auto_rows": null,
            "grid_column": null,
            "grid_gap": null,
            "grid_row": null,
            "grid_template_areas": null,
            "grid_template_columns": null,
            "grid_template_rows": null,
            "height": null,
            "justify_content": null,
            "justify_items": null,
            "left": null,
            "margin": null,
            "max_height": null,
            "max_width": null,
            "min_height": null,
            "min_width": null,
            "object_fit": null,
            "object_position": null,
            "order": null,
            "overflow": null,
            "overflow_x": null,
            "overflow_y": null,
            "padding": null,
            "right": null,
            "top": null,
            "visibility": null,
            "width": null
          }
        },
        "5e02b0400e5a489695f7e8dc43735efa": {
          "model_module": "@jupyter-widgets/controls",
          "model_name": "DescriptionStyleModel",
          "model_module_version": "1.5.0",
          "state": {
            "_model_module": "@jupyter-widgets/controls",
            "_model_module_version": "1.5.0",
            "_model_name": "DescriptionStyleModel",
            "_view_count": null,
            "_view_module": "@jupyter-widgets/base",
            "_view_module_version": "1.2.0",
            "_view_name": "StyleView",
            "description_width": ""
          }
        },
        "08275f721a07437babd4cb4628fc1638": {
          "model_module": "@jupyter-widgets/controls",
          "model_name": "HBoxModel",
          "model_module_version": "1.5.0",
          "state": {
            "_dom_classes": [],
            "_model_module": "@jupyter-widgets/controls",
            "_model_module_version": "1.5.0",
            "_model_name": "HBoxModel",
            "_view_count": null,
            "_view_module": "@jupyter-widgets/controls",
            "_view_module_version": "1.5.0",
            "_view_name": "HBoxView",
            "box_style": "",
            "children": [
              "IPY_MODEL_baadf24962ff48caa80285e26c5c5ff1",
              "IPY_MODEL_07291e8f59fc48b888e3e418d3e88a80",
              "IPY_MODEL_15576493624f40d8bf609d3076852a7c"
            ],
            "layout": "IPY_MODEL_65679f58bb134c44b74dab1d1ee6c9e7"
          }
        },
        "baadf24962ff48caa80285e26c5c5ff1": {
          "model_module": "@jupyter-widgets/controls",
          "model_name": "HTMLModel",
          "model_module_version": "1.5.0",
          "state": {
            "_dom_classes": [],
            "_model_module": "@jupyter-widgets/controls",
            "_model_module_version": "1.5.0",
            "_model_name": "HTMLModel",
            "_view_count": null,
            "_view_module": "@jupyter-widgets/controls",
            "_view_module_version": "1.5.0",
            "_view_name": "HTMLView",
            "description": "",
            "description_tooltip": null,
            "layout": "IPY_MODEL_b60e00e9b9e64be58968b9e585537451",
            "placeholder": "​",
            "style": "IPY_MODEL_43deb3806b9f4e2bac37319939d76d8d",
            "value": "merges.txt: 100%"
          }
        },
        "07291e8f59fc48b888e3e418d3e88a80": {
          "model_module": "@jupyter-widgets/controls",
          "model_name": "FloatProgressModel",
          "model_module_version": "1.5.0",
          "state": {
            "_dom_classes": [],
            "_model_module": "@jupyter-widgets/controls",
            "_model_module_version": "1.5.0",
            "_model_name": "FloatProgressModel",
            "_view_count": null,
            "_view_module": "@jupyter-widgets/controls",
            "_view_module_version": "1.5.0",
            "_view_name": "ProgressView",
            "bar_style": "success",
            "description": "",
            "description_tooltip": null,
            "layout": "IPY_MODEL_7bec8780acfa4ffcbfd4fb3500dd7edb",
            "max": 456318,
            "min": 0,
            "orientation": "horizontal",
            "style": "IPY_MODEL_6c1ae08fb6854399975c07e95c9ec924",
            "value": 456318
          }
        },
        "15576493624f40d8bf609d3076852a7c": {
          "model_module": "@jupyter-widgets/controls",
          "model_name": "HTMLModel",
          "model_module_version": "1.5.0",
          "state": {
            "_dom_classes": [],
            "_model_module": "@jupyter-widgets/controls",
            "_model_module_version": "1.5.0",
            "_model_name": "HTMLModel",
            "_view_count": null,
            "_view_module": "@jupyter-widgets/controls",
            "_view_module_version": "1.5.0",
            "_view_name": "HTMLView",
            "description": "",
            "description_tooltip": null,
            "layout": "IPY_MODEL_94ce3021f0754f29a98f112b1e4b45d4",
            "placeholder": "​",
            "style": "IPY_MODEL_2c56c35e7f174be7ae750f2acfbfe062",
            "value": " 456k/456k [00:00&lt;00:00, 27.0MB/s]"
          }
        },
        "65679f58bb134c44b74dab1d1ee6c9e7": {
          "model_module": "@jupyter-widgets/base",
          "model_name": "LayoutModel",
          "model_module_version": "1.2.0",
          "state": {
            "_model_module": "@jupyter-widgets/base",
            "_model_module_version": "1.2.0",
            "_model_name": "LayoutModel",
            "_view_count": null,
            "_view_module": "@jupyter-widgets/base",
            "_view_module_version": "1.2.0",
            "_view_name": "LayoutView",
            "align_content": null,
            "align_items": null,
            "align_self": null,
            "border": null,
            "bottom": null,
            "display": null,
            "flex": null,
            "flex_flow": null,
            "grid_area": null,
            "grid_auto_columns": null,
            "grid_auto_flow": null,
            "grid_auto_rows": null,
            "grid_column": null,
            "grid_gap": null,
            "grid_row": null,
            "grid_template_areas": null,
            "grid_template_columns": null,
            "grid_template_rows": null,
            "height": null,
            "justify_content": null,
            "justify_items": null,
            "left": null,
            "margin": null,
            "max_height": null,
            "max_width": null,
            "min_height": null,
            "min_width": null,
            "object_fit": null,
            "object_position": null,
            "order": null,
            "overflow": null,
            "overflow_x": null,
            "overflow_y": null,
            "padding": null,
            "right": null,
            "top": null,
            "visibility": null,
            "width": null
          }
        },
        "b60e00e9b9e64be58968b9e585537451": {
          "model_module": "@jupyter-widgets/base",
          "model_name": "LayoutModel",
          "model_module_version": "1.2.0",
          "state": {
            "_model_module": "@jupyter-widgets/base",
            "_model_module_version": "1.2.0",
            "_model_name": "LayoutModel",
            "_view_count": null,
            "_view_module": "@jupyter-widgets/base",
            "_view_module_version": "1.2.0",
            "_view_name": "LayoutView",
            "align_content": null,
            "align_items": null,
            "align_self": null,
            "border": null,
            "bottom": null,
            "display": null,
            "flex": null,
            "flex_flow": null,
            "grid_area": null,
            "grid_auto_columns": null,
            "grid_auto_flow": null,
            "grid_auto_rows": null,
            "grid_column": null,
            "grid_gap": null,
            "grid_row": null,
            "grid_template_areas": null,
            "grid_template_columns": null,
            "grid_template_rows": null,
            "height": null,
            "justify_content": null,
            "justify_items": null,
            "left": null,
            "margin": null,
            "max_height": null,
            "max_width": null,
            "min_height": null,
            "min_width": null,
            "object_fit": null,
            "object_position": null,
            "order": null,
            "overflow": null,
            "overflow_x": null,
            "overflow_y": null,
            "padding": null,
            "right": null,
            "top": null,
            "visibility": null,
            "width": null
          }
        },
        "43deb3806b9f4e2bac37319939d76d8d": {
          "model_module": "@jupyter-widgets/controls",
          "model_name": "DescriptionStyleModel",
          "model_module_version": "1.5.0",
          "state": {
            "_model_module": "@jupyter-widgets/controls",
            "_model_module_version": "1.5.0",
            "_model_name": "DescriptionStyleModel",
            "_view_count": null,
            "_view_module": "@jupyter-widgets/base",
            "_view_module_version": "1.2.0",
            "_view_name": "StyleView",
            "description_width": ""
          }
        },
        "7bec8780acfa4ffcbfd4fb3500dd7edb": {
          "model_module": "@jupyter-widgets/base",
          "model_name": "LayoutModel",
          "model_module_version": "1.2.0",
          "state": {
            "_model_module": "@jupyter-widgets/base",
            "_model_module_version": "1.2.0",
            "_model_name": "LayoutModel",
            "_view_count": null,
            "_view_module": "@jupyter-widgets/base",
            "_view_module_version": "1.2.0",
            "_view_name": "LayoutView",
            "align_content": null,
            "align_items": null,
            "align_self": null,
            "border": null,
            "bottom": null,
            "display": null,
            "flex": null,
            "flex_flow": null,
            "grid_area": null,
            "grid_auto_columns": null,
            "grid_auto_flow": null,
            "grid_auto_rows": null,
            "grid_column": null,
            "grid_gap": null,
            "grid_row": null,
            "grid_template_areas": null,
            "grid_template_columns": null,
            "grid_template_rows": null,
            "height": null,
            "justify_content": null,
            "justify_items": null,
            "left": null,
            "margin": null,
            "max_height": null,
            "max_width": null,
            "min_height": null,
            "min_width": null,
            "object_fit": null,
            "object_position": null,
            "order": null,
            "overflow": null,
            "overflow_x": null,
            "overflow_y": null,
            "padding": null,
            "right": null,
            "top": null,
            "visibility": null,
            "width": null
          }
        },
        "6c1ae08fb6854399975c07e95c9ec924": {
          "model_module": "@jupyter-widgets/controls",
          "model_name": "ProgressStyleModel",
          "model_module_version": "1.5.0",
          "state": {
            "_model_module": "@jupyter-widgets/controls",
            "_model_module_version": "1.5.0",
            "_model_name": "ProgressStyleModel",
            "_view_count": null,
            "_view_module": "@jupyter-widgets/base",
            "_view_module_version": "1.2.0",
            "_view_name": "StyleView",
            "bar_color": null,
            "description_width": ""
          }
        },
        "94ce3021f0754f29a98f112b1e4b45d4": {
          "model_module": "@jupyter-widgets/base",
          "model_name": "LayoutModel",
          "model_module_version": "1.2.0",
          "state": {
            "_model_module": "@jupyter-widgets/base",
            "_model_module_version": "1.2.0",
            "_model_name": "LayoutModel",
            "_view_count": null,
            "_view_module": "@jupyter-widgets/base",
            "_view_module_version": "1.2.0",
            "_view_name": "LayoutView",
            "align_content": null,
            "align_items": null,
            "align_self": null,
            "border": null,
            "bottom": null,
            "display": null,
            "flex": null,
            "flex_flow": null,
            "grid_area": null,
            "grid_auto_columns": null,
            "grid_auto_flow": null,
            "grid_auto_rows": null,
            "grid_column": null,
            "grid_gap": null,
            "grid_row": null,
            "grid_template_areas": null,
            "grid_template_columns": null,
            "grid_template_rows": null,
            "height": null,
            "justify_content": null,
            "justify_items": null,
            "left": null,
            "margin": null,
            "max_height": null,
            "max_width": null,
            "min_height": null,
            "min_width": null,
            "object_fit": null,
            "object_position": null,
            "order": null,
            "overflow": null,
            "overflow_x": null,
            "overflow_y": null,
            "padding": null,
            "right": null,
            "top": null,
            "visibility": null,
            "width": null
          }
        },
        "2c56c35e7f174be7ae750f2acfbfe062": {
          "model_module": "@jupyter-widgets/controls",
          "model_name": "DescriptionStyleModel",
          "model_module_version": "1.5.0",
          "state": {
            "_model_module": "@jupyter-widgets/controls",
            "_model_module_version": "1.5.0",
            "_model_name": "DescriptionStyleModel",
            "_view_count": null,
            "_view_module": "@jupyter-widgets/base",
            "_view_module_version": "1.2.0",
            "_view_name": "StyleView",
            "description_width": ""
          }
        },
        "e4f83787899845c7992c47622d07a10e": {
          "model_module": "@jupyter-widgets/controls",
          "model_name": "HBoxModel",
          "model_module_version": "1.5.0",
          "state": {
            "_dom_classes": [],
            "_model_module": "@jupyter-widgets/controls",
            "_model_module_version": "1.5.0",
            "_model_name": "HBoxModel",
            "_view_count": null,
            "_view_module": "@jupyter-widgets/controls",
            "_view_module_version": "1.5.0",
            "_view_name": "HBoxView",
            "box_style": "",
            "children": [
              "IPY_MODEL_41d8de26255742a290d0bd5b1acf6914",
              "IPY_MODEL_60975ddf246a49619ed76574a2f0ae8f",
              "IPY_MODEL_2472d2366d484b68a4d14ba3fb9ee1e7"
            ],
            "layout": "IPY_MODEL_2ba392a32de042a08eda702c6bd1b1b4"
          }
        },
        "41d8de26255742a290d0bd5b1acf6914": {
          "model_module": "@jupyter-widgets/controls",
          "model_name": "HTMLModel",
          "model_module_version": "1.5.0",
          "state": {
            "_dom_classes": [],
            "_model_module": "@jupyter-widgets/controls",
            "_model_module_version": "1.5.0",
            "_model_name": "HTMLModel",
            "_view_count": null,
            "_view_module": "@jupyter-widgets/controls",
            "_view_module_version": "1.5.0",
            "_view_name": "HTMLView",
            "description": "",
            "description_tooltip": null,
            "layout": "IPY_MODEL_5e0dde53faaa4041a16a494f3aa233ad",
            "placeholder": "​",
            "style": "IPY_MODEL_1bce2e06bd7b46f4bc052e6720f7dd08",
            "value": "tokenizer.json: 100%"
          }
        },
        "60975ddf246a49619ed76574a2f0ae8f": {
          "model_module": "@jupyter-widgets/controls",
          "model_name": "FloatProgressModel",
          "model_module_version": "1.5.0",
          "state": {
            "_dom_classes": [],
            "_model_module": "@jupyter-widgets/controls",
            "_model_module_version": "1.5.0",
            "_model_name": "FloatProgressModel",
            "_view_count": null,
            "_view_module": "@jupyter-widgets/controls",
            "_view_module_version": "1.5.0",
            "_view_name": "ProgressView",
            "bar_style": "success",
            "description": "",
            "description_tooltip": null,
            "layout": "IPY_MODEL_ec6a042809db4e8f8022c2388591ba7a",
            "max": 1355256,
            "min": 0,
            "orientation": "horizontal",
            "style": "IPY_MODEL_d0db478e8eb34edc82e2444eba3d950d",
            "value": 1355256
          }
        },
        "2472d2366d484b68a4d14ba3fb9ee1e7": {
          "model_module": "@jupyter-widgets/controls",
          "model_name": "HTMLModel",
          "model_module_version": "1.5.0",
          "state": {
            "_dom_classes": [],
            "_model_module": "@jupyter-widgets/controls",
            "_model_module_version": "1.5.0",
            "_model_name": "HTMLModel",
            "_view_count": null,
            "_view_module": "@jupyter-widgets/controls",
            "_view_module_version": "1.5.0",
            "_view_name": "HTMLView",
            "description": "",
            "description_tooltip": null,
            "layout": "IPY_MODEL_80c44eb712504b108362e33b70a30d60",
            "placeholder": "​",
            "style": "IPY_MODEL_19307253314f4d62a3e519551cbeed43",
            "value": " 1.36M/1.36M [00:00&lt;00:00, 6.94MB/s]"
          }
        },
        "2ba392a32de042a08eda702c6bd1b1b4": {
          "model_module": "@jupyter-widgets/base",
          "model_name": "LayoutModel",
          "model_module_version": "1.2.0",
          "state": {
            "_model_module": "@jupyter-widgets/base",
            "_model_module_version": "1.2.0",
            "_model_name": "LayoutModel",
            "_view_count": null,
            "_view_module": "@jupyter-widgets/base",
            "_view_module_version": "1.2.0",
            "_view_name": "LayoutView",
            "align_content": null,
            "align_items": null,
            "align_self": null,
            "border": null,
            "bottom": null,
            "display": null,
            "flex": null,
            "flex_flow": null,
            "grid_area": null,
            "grid_auto_columns": null,
            "grid_auto_flow": null,
            "grid_auto_rows": null,
            "grid_column": null,
            "grid_gap": null,
            "grid_row": null,
            "grid_template_areas": null,
            "grid_template_columns": null,
            "grid_template_rows": null,
            "height": null,
            "justify_content": null,
            "justify_items": null,
            "left": null,
            "margin": null,
            "max_height": null,
            "max_width": null,
            "min_height": null,
            "min_width": null,
            "object_fit": null,
            "object_position": null,
            "order": null,
            "overflow": null,
            "overflow_x": null,
            "overflow_y": null,
            "padding": null,
            "right": null,
            "top": null,
            "visibility": null,
            "width": null
          }
        },
        "5e0dde53faaa4041a16a494f3aa233ad": {
          "model_module": "@jupyter-widgets/base",
          "model_name": "LayoutModel",
          "model_module_version": "1.2.0",
          "state": {
            "_model_module": "@jupyter-widgets/base",
            "_model_module_version": "1.2.0",
            "_model_name": "LayoutModel",
            "_view_count": null,
            "_view_module": "@jupyter-widgets/base",
            "_view_module_version": "1.2.0",
            "_view_name": "LayoutView",
            "align_content": null,
            "align_items": null,
            "align_self": null,
            "border": null,
            "bottom": null,
            "display": null,
            "flex": null,
            "flex_flow": null,
            "grid_area": null,
            "grid_auto_columns": null,
            "grid_auto_flow": null,
            "grid_auto_rows": null,
            "grid_column": null,
            "grid_gap": null,
            "grid_row": null,
            "grid_template_areas": null,
            "grid_template_columns": null,
            "grid_template_rows": null,
            "height": null,
            "justify_content": null,
            "justify_items": null,
            "left": null,
            "margin": null,
            "max_height": null,
            "max_width": null,
            "min_height": null,
            "min_width": null,
            "object_fit": null,
            "object_position": null,
            "order": null,
            "overflow": null,
            "overflow_x": null,
            "overflow_y": null,
            "padding": null,
            "right": null,
            "top": null,
            "visibility": null,
            "width": null
          }
        },
        "1bce2e06bd7b46f4bc052e6720f7dd08": {
          "model_module": "@jupyter-widgets/controls",
          "model_name": "DescriptionStyleModel",
          "model_module_version": "1.5.0",
          "state": {
            "_model_module": "@jupyter-widgets/controls",
            "_model_module_version": "1.5.0",
            "_model_name": "DescriptionStyleModel",
            "_view_count": null,
            "_view_module": "@jupyter-widgets/base",
            "_view_module_version": "1.2.0",
            "_view_name": "StyleView",
            "description_width": ""
          }
        },
        "ec6a042809db4e8f8022c2388591ba7a": {
          "model_module": "@jupyter-widgets/base",
          "model_name": "LayoutModel",
          "model_module_version": "1.2.0",
          "state": {
            "_model_module": "@jupyter-widgets/base",
            "_model_module_version": "1.2.0",
            "_model_name": "LayoutModel",
            "_view_count": null,
            "_view_module": "@jupyter-widgets/base",
            "_view_module_version": "1.2.0",
            "_view_name": "LayoutView",
            "align_content": null,
            "align_items": null,
            "align_self": null,
            "border": null,
            "bottom": null,
            "display": null,
            "flex": null,
            "flex_flow": null,
            "grid_area": null,
            "grid_auto_columns": null,
            "grid_auto_flow": null,
            "grid_auto_rows": null,
            "grid_column": null,
            "grid_gap": null,
            "grid_row": null,
            "grid_template_areas": null,
            "grid_template_columns": null,
            "grid_template_rows": null,
            "height": null,
            "justify_content": null,
            "justify_items": null,
            "left": null,
            "margin": null,
            "max_height": null,
            "max_width": null,
            "min_height": null,
            "min_width": null,
            "object_fit": null,
            "object_position": null,
            "order": null,
            "overflow": null,
            "overflow_x": null,
            "overflow_y": null,
            "padding": null,
            "right": null,
            "top": null,
            "visibility": null,
            "width": null
          }
        },
        "d0db478e8eb34edc82e2444eba3d950d": {
          "model_module": "@jupyter-widgets/controls",
          "model_name": "ProgressStyleModel",
          "model_module_version": "1.5.0",
          "state": {
            "_model_module": "@jupyter-widgets/controls",
            "_model_module_version": "1.5.0",
            "_model_name": "ProgressStyleModel",
            "_view_count": null,
            "_view_module": "@jupyter-widgets/base",
            "_view_module_version": "1.2.0",
            "_view_name": "StyleView",
            "bar_color": null,
            "description_width": ""
          }
        },
        "80c44eb712504b108362e33b70a30d60": {
          "model_module": "@jupyter-widgets/base",
          "model_name": "LayoutModel",
          "model_module_version": "1.2.0",
          "state": {
            "_model_module": "@jupyter-widgets/base",
            "_model_module_version": "1.2.0",
            "_model_name": "LayoutModel",
            "_view_count": null,
            "_view_module": "@jupyter-widgets/base",
            "_view_module_version": "1.2.0",
            "_view_name": "LayoutView",
            "align_content": null,
            "align_items": null,
            "align_self": null,
            "border": null,
            "bottom": null,
            "display": null,
            "flex": null,
            "flex_flow": null,
            "grid_area": null,
            "grid_auto_columns": null,
            "grid_auto_flow": null,
            "grid_auto_rows": null,
            "grid_column": null,
            "grid_gap": null,
            "grid_row": null,
            "grid_template_areas": null,
            "grid_template_columns": null,
            "grid_template_rows": null,
            "height": null,
            "justify_content": null,
            "justify_items": null,
            "left": null,
            "margin": null,
            "max_height": null,
            "max_width": null,
            "min_height": null,
            "min_width": null,
            "object_fit": null,
            "object_position": null,
            "order": null,
            "overflow": null,
            "overflow_x": null,
            "overflow_y": null,
            "padding": null,
            "right": null,
            "top": null,
            "visibility": null,
            "width": null
          }
        },
        "19307253314f4d62a3e519551cbeed43": {
          "model_module": "@jupyter-widgets/controls",
          "model_name": "DescriptionStyleModel",
          "model_module_version": "1.5.0",
          "state": {
            "_model_module": "@jupyter-widgets/controls",
            "_model_module_version": "1.5.0",
            "_model_name": "DescriptionStyleModel",
            "_view_count": null,
            "_view_module": "@jupyter-widgets/base",
            "_view_module_version": "1.2.0",
            "_view_name": "StyleView",
            "description_width": ""
          }
        },
        "f825ef93844b4a35a1096ec7b0a2cf7c": {
          "model_module": "@jupyter-widgets/controls",
          "model_name": "HBoxModel",
          "model_module_version": "1.5.0",
          "state": {
            "_dom_classes": [],
            "_model_module": "@jupyter-widgets/controls",
            "_model_module_version": "1.5.0",
            "_model_name": "HBoxModel",
            "_view_count": null,
            "_view_module": "@jupyter-widgets/controls",
            "_view_module_version": "1.5.0",
            "_view_name": "HBoxView",
            "box_style": "",
            "children": [
              "IPY_MODEL_e082c1037bf04a60a5f33d75912bec23",
              "IPY_MODEL_238281286b724c69a020325422ba5574",
              "IPY_MODEL_8a33f51f97224588868b45d54cac0d7e"
            ],
            "layout": "IPY_MODEL_0c47554930f140a88c7e958b30c4225f"
          }
        },
        "e082c1037bf04a60a5f33d75912bec23": {
          "model_module": "@jupyter-widgets/controls",
          "model_name": "HTMLModel",
          "model_module_version": "1.5.0",
          "state": {
            "_dom_classes": [],
            "_model_module": "@jupyter-widgets/controls",
            "_model_module_version": "1.5.0",
            "_model_name": "HTMLModel",
            "_view_count": null,
            "_view_module": "@jupyter-widgets/controls",
            "_view_module_version": "1.5.0",
            "_view_name": "HTMLView",
            "description": "",
            "description_tooltip": null,
            "layout": "IPY_MODEL_642ef7b351db470e8c340d6f7ee5be94",
            "placeholder": "​",
            "style": "IPY_MODEL_2fc9e48ed2524424a4f3f282def8fb36",
            "value": "config.json: 100%"
          }
        },
        "238281286b724c69a020325422ba5574": {
          "model_module": "@jupyter-widgets/controls",
          "model_name": "FloatProgressModel",
          "model_module_version": "1.5.0",
          "state": {
            "_dom_classes": [],
            "_model_module": "@jupyter-widgets/controls",
            "_model_module_version": "1.5.0",
            "_model_name": "FloatProgressModel",
            "_view_count": null,
            "_view_module": "@jupyter-widgets/controls",
            "_view_module_version": "1.5.0",
            "_view_name": "ProgressView",
            "bar_style": "success",
            "description": "",
            "description_tooltip": null,
            "layout": "IPY_MODEL_35bf6748486244f08fefa5d177611731",
            "max": 665,
            "min": 0,
            "orientation": "horizontal",
            "style": "IPY_MODEL_0e84296102274dc0be076c63184912ca",
            "value": 665
          }
        },
        "8a33f51f97224588868b45d54cac0d7e": {
          "model_module": "@jupyter-widgets/controls",
          "model_name": "HTMLModel",
          "model_module_version": "1.5.0",
          "state": {
            "_dom_classes": [],
            "_model_module": "@jupyter-widgets/controls",
            "_model_module_version": "1.5.0",
            "_model_name": "HTMLModel",
            "_view_count": null,
            "_view_module": "@jupyter-widgets/controls",
            "_view_module_version": "1.5.0",
            "_view_name": "HTMLView",
            "description": "",
            "description_tooltip": null,
            "layout": "IPY_MODEL_f4e4e35c12c2443da8af59d1718736e9",
            "placeholder": "​",
            "style": "IPY_MODEL_33822fe4ef3e4364b3481beba5ddfa73",
            "value": " 665/665 [00:00&lt;00:00, 50.8kB/s]"
          }
        },
        "0c47554930f140a88c7e958b30c4225f": {
          "model_module": "@jupyter-widgets/base",
          "model_name": "LayoutModel",
          "model_module_version": "1.2.0",
          "state": {
            "_model_module": "@jupyter-widgets/base",
            "_model_module_version": "1.2.0",
            "_model_name": "LayoutModel",
            "_view_count": null,
            "_view_module": "@jupyter-widgets/base",
            "_view_module_version": "1.2.0",
            "_view_name": "LayoutView",
            "align_content": null,
            "align_items": null,
            "align_self": null,
            "border": null,
            "bottom": null,
            "display": null,
            "flex": null,
            "flex_flow": null,
            "grid_area": null,
            "grid_auto_columns": null,
            "grid_auto_flow": null,
            "grid_auto_rows": null,
            "grid_column": null,
            "grid_gap": null,
            "grid_row": null,
            "grid_template_areas": null,
            "grid_template_columns": null,
            "grid_template_rows": null,
            "height": null,
            "justify_content": null,
            "justify_items": null,
            "left": null,
            "margin": null,
            "max_height": null,
            "max_width": null,
            "min_height": null,
            "min_width": null,
            "object_fit": null,
            "object_position": null,
            "order": null,
            "overflow": null,
            "overflow_x": null,
            "overflow_y": null,
            "padding": null,
            "right": null,
            "top": null,
            "visibility": null,
            "width": null
          }
        },
        "642ef7b351db470e8c340d6f7ee5be94": {
          "model_module": "@jupyter-widgets/base",
          "model_name": "LayoutModel",
          "model_module_version": "1.2.0",
          "state": {
            "_model_module": "@jupyter-widgets/base",
            "_model_module_version": "1.2.0",
            "_model_name": "LayoutModel",
            "_view_count": null,
            "_view_module": "@jupyter-widgets/base",
            "_view_module_version": "1.2.0",
            "_view_name": "LayoutView",
            "align_content": null,
            "align_items": null,
            "align_self": null,
            "border": null,
            "bottom": null,
            "display": null,
            "flex": null,
            "flex_flow": null,
            "grid_area": null,
            "grid_auto_columns": null,
            "grid_auto_flow": null,
            "grid_auto_rows": null,
            "grid_column": null,
            "grid_gap": null,
            "grid_row": null,
            "grid_template_areas": null,
            "grid_template_columns": null,
            "grid_template_rows": null,
            "height": null,
            "justify_content": null,
            "justify_items": null,
            "left": null,
            "margin": null,
            "max_height": null,
            "max_width": null,
            "min_height": null,
            "min_width": null,
            "object_fit": null,
            "object_position": null,
            "order": null,
            "overflow": null,
            "overflow_x": null,
            "overflow_y": null,
            "padding": null,
            "right": null,
            "top": null,
            "visibility": null,
            "width": null
          }
        },
        "2fc9e48ed2524424a4f3f282def8fb36": {
          "model_module": "@jupyter-widgets/controls",
          "model_name": "DescriptionStyleModel",
          "model_module_version": "1.5.0",
          "state": {
            "_model_module": "@jupyter-widgets/controls",
            "_model_module_version": "1.5.0",
            "_model_name": "DescriptionStyleModel",
            "_view_count": null,
            "_view_module": "@jupyter-widgets/base",
            "_view_module_version": "1.2.0",
            "_view_name": "StyleView",
            "description_width": ""
          }
        },
        "35bf6748486244f08fefa5d177611731": {
          "model_module": "@jupyter-widgets/base",
          "model_name": "LayoutModel",
          "model_module_version": "1.2.0",
          "state": {
            "_model_module": "@jupyter-widgets/base",
            "_model_module_version": "1.2.0",
            "_model_name": "LayoutModel",
            "_view_count": null,
            "_view_module": "@jupyter-widgets/base",
            "_view_module_version": "1.2.0",
            "_view_name": "LayoutView",
            "align_content": null,
            "align_items": null,
            "align_self": null,
            "border": null,
            "bottom": null,
            "display": null,
            "flex": null,
            "flex_flow": null,
            "grid_area": null,
            "grid_auto_columns": null,
            "grid_auto_flow": null,
            "grid_auto_rows": null,
            "grid_column": null,
            "grid_gap": null,
            "grid_row": null,
            "grid_template_areas": null,
            "grid_template_columns": null,
            "grid_template_rows": null,
            "height": null,
            "justify_content": null,
            "justify_items": null,
            "left": null,
            "margin": null,
            "max_height": null,
            "max_width": null,
            "min_height": null,
            "min_width": null,
            "object_fit": null,
            "object_position": null,
            "order": null,
            "overflow": null,
            "overflow_x": null,
            "overflow_y": null,
            "padding": null,
            "right": null,
            "top": null,
            "visibility": null,
            "width": null
          }
        },
        "0e84296102274dc0be076c63184912ca": {
          "model_module": "@jupyter-widgets/controls",
          "model_name": "ProgressStyleModel",
          "model_module_version": "1.5.0",
          "state": {
            "_model_module": "@jupyter-widgets/controls",
            "_model_module_version": "1.5.0",
            "_model_name": "ProgressStyleModel",
            "_view_count": null,
            "_view_module": "@jupyter-widgets/base",
            "_view_module_version": "1.2.0",
            "_view_name": "StyleView",
            "bar_color": null,
            "description_width": ""
          }
        },
        "f4e4e35c12c2443da8af59d1718736e9": {
          "model_module": "@jupyter-widgets/base",
          "model_name": "LayoutModel",
          "model_module_version": "1.2.0",
          "state": {
            "_model_module": "@jupyter-widgets/base",
            "_model_module_version": "1.2.0",
            "_model_name": "LayoutModel",
            "_view_count": null,
            "_view_module": "@jupyter-widgets/base",
            "_view_module_version": "1.2.0",
            "_view_name": "LayoutView",
            "align_content": null,
            "align_items": null,
            "align_self": null,
            "border": null,
            "bottom": null,
            "display": null,
            "flex": null,
            "flex_flow": null,
            "grid_area": null,
            "grid_auto_columns": null,
            "grid_auto_flow": null,
            "grid_auto_rows": null,
            "grid_column": null,
            "grid_gap": null,
            "grid_row": null,
            "grid_template_areas": null,
            "grid_template_columns": null,
            "grid_template_rows": null,
            "height": null,
            "justify_content": null,
            "justify_items": null,
            "left": null,
            "margin": null,
            "max_height": null,
            "max_width": null,
            "min_height": null,
            "min_width": null,
            "object_fit": null,
            "object_position": null,
            "order": null,
            "overflow": null,
            "overflow_x": null,
            "overflow_y": null,
            "padding": null,
            "right": null,
            "top": null,
            "visibility": null,
            "width": null
          }
        },
        "33822fe4ef3e4364b3481beba5ddfa73": {
          "model_module": "@jupyter-widgets/controls",
          "model_name": "DescriptionStyleModel",
          "model_module_version": "1.5.0",
          "state": {
            "_model_module": "@jupyter-widgets/controls",
            "_model_module_version": "1.5.0",
            "_model_name": "DescriptionStyleModel",
            "_view_count": null,
            "_view_module": "@jupyter-widgets/base",
            "_view_module_version": "1.2.0",
            "_view_name": "StyleView",
            "description_width": ""
          }
        }
      }
    }
  },
  "nbformat": 4,
  "nbformat_minor": 0
}