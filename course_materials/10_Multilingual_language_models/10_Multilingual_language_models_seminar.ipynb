{
  "nbformat": 4,
  "nbformat_minor": 0,
  "metadata": {
    "accelerator": "GPU",
    "colab": {
      "provenance": []
    },
    "kernelspec": {
      "display_name": "Python 3",
      "name": "python3"
    },
    "widgets": {
      "application/vnd.jupyter.widget-state+json": {
        "8cb586ef62834acc9bc0bfe82715a954": {
          "model_module": "@jupyter-widgets/controls",
          "model_name": "HBoxModel",
          "model_module_version": "1.5.0",
          "state": {
            "_dom_classes": [],
            "_model_module": "@jupyter-widgets/controls",
            "_model_module_version": "1.5.0",
            "_model_name": "HBoxModel",
            "_view_count": null,
            "_view_module": "@jupyter-widgets/controls",
            "_view_module_version": "1.5.0",
            "_view_name": "HBoxView",
            "box_style": "",
            "children": [
              "IPY_MODEL_fb73f3faa4f54c18b93d75c94539dc80",
              "IPY_MODEL_1e50af5ae97341e783ffd05005dc4cd8",
              "IPY_MODEL_d5ac91f948e040138b07b5c21f9c2b4f"
            ],
            "layout": "IPY_MODEL_07cacdc366e64aa9b8aa66a1b9c0d97d"
          }
        },
        "fb73f3faa4f54c18b93d75c94539dc80": {
          "model_module": "@jupyter-widgets/controls",
          "model_name": "HTMLModel",
          "model_module_version": "1.5.0",
          "state": {
            "_dom_classes": [],
            "_model_module": "@jupyter-widgets/controls",
            "_model_module_version": "1.5.0",
            "_model_name": "HTMLModel",
            "_view_count": null,
            "_view_module": "@jupyter-widgets/controls",
            "_view_module_version": "1.5.0",
            "_view_name": "HTMLView",
            "description": "",
            "description_tooltip": null,
            "layout": "IPY_MODEL_0b6cb1f92c23464d92e2c3b0c4429f93",
            "placeholder": "​",
            "style": "IPY_MODEL_8b2f0d4aca44493ca2dff0881c46e77f",
            "value": "tokenizer_config.json: 100%"
          }
        },
        "1e50af5ae97341e783ffd05005dc4cd8": {
          "model_module": "@jupyter-widgets/controls",
          "model_name": "FloatProgressModel",
          "model_module_version": "1.5.0",
          "state": {
            "_dom_classes": [],
            "_model_module": "@jupyter-widgets/controls",
            "_model_module_version": "1.5.0",
            "_model_name": "FloatProgressModel",
            "_view_count": null,
            "_view_module": "@jupyter-widgets/controls",
            "_view_module_version": "1.5.0",
            "_view_name": "ProgressView",
            "bar_style": "success",
            "description": "",
            "description_tooltip": null,
            "layout": "IPY_MODEL_22a2e2cc478a4152acb2f5a5a7b977df",
            "max": 25,
            "min": 0,
            "orientation": "horizontal",
            "style": "IPY_MODEL_b91be3b5fb624f51a24718f6b68bf5c5",
            "value": 25
          }
        },
        "d5ac91f948e040138b07b5c21f9c2b4f": {
          "model_module": "@jupyter-widgets/controls",
          "model_name": "HTMLModel",
          "model_module_version": "1.5.0",
          "state": {
            "_dom_classes": [],
            "_model_module": "@jupyter-widgets/controls",
            "_model_module_version": "1.5.0",
            "_model_name": "HTMLModel",
            "_view_count": null,
            "_view_module": "@jupyter-widgets/controls",
            "_view_module_version": "1.5.0",
            "_view_name": "HTMLView",
            "description": "",
            "description_tooltip": null,
            "layout": "IPY_MODEL_45a1562f311c48898792ef34c5aa7bcc",
            "placeholder": "​",
            "style": "IPY_MODEL_6dc0a9fd2b3b44b284cb53da6000c32f",
            "value": " 25.0/25.0 [00:00&lt;00:00, 2.54kB/s]"
          }
        },
        "07cacdc366e64aa9b8aa66a1b9c0d97d": {
          "model_module": "@jupyter-widgets/base",
          "model_name": "LayoutModel",
          "model_module_version": "1.2.0",
          "state": {
            "_model_module": "@jupyter-widgets/base",
            "_model_module_version": "1.2.0",
            "_model_name": "LayoutModel",
            "_view_count": null,
            "_view_module": "@jupyter-widgets/base",
            "_view_module_version": "1.2.0",
            "_view_name": "LayoutView",
            "align_content": null,
            "align_items": null,
            "align_self": null,
            "border": null,
            "bottom": null,
            "display": null,
            "flex": null,
            "flex_flow": null,
            "grid_area": null,
            "grid_auto_columns": null,
            "grid_auto_flow": null,
            "grid_auto_rows": null,
            "grid_column": null,
            "grid_gap": null,
            "grid_row": null,
            "grid_template_areas": null,
            "grid_template_columns": null,
            "grid_template_rows": null,
            "height": null,
            "justify_content": null,
            "justify_items": null,
            "left": null,
            "margin": null,
            "max_height": null,
            "max_width": null,
            "min_height": null,
            "min_width": null,
            "object_fit": null,
            "object_position": null,
            "order": null,
            "overflow": null,
            "overflow_x": null,
            "overflow_y": null,
            "padding": null,
            "right": null,
            "top": null,
            "visibility": null,
            "width": null
          }
        },
        "0b6cb1f92c23464d92e2c3b0c4429f93": {
          "model_module": "@jupyter-widgets/base",
          "model_name": "LayoutModel",
          "model_module_version": "1.2.0",
          "state": {
            "_model_module": "@jupyter-widgets/base",
            "_model_module_version": "1.2.0",
            "_model_name": "LayoutModel",
            "_view_count": null,
            "_view_module": "@jupyter-widgets/base",
            "_view_module_version": "1.2.0",
            "_view_name": "LayoutView",
            "align_content": null,
            "align_items": null,
            "align_self": null,
            "border": null,
            "bottom": null,
            "display": null,
            "flex": null,
            "flex_flow": null,
            "grid_area": null,
            "grid_auto_columns": null,
            "grid_auto_flow": null,
            "grid_auto_rows": null,
            "grid_column": null,
            "grid_gap": null,
            "grid_row": null,
            "grid_template_areas": null,
            "grid_template_columns": null,
            "grid_template_rows": null,
            "height": null,
            "justify_content": null,
            "justify_items": null,
            "left": null,
            "margin": null,
            "max_height": null,
            "max_width": null,
            "min_height": null,
            "min_width": null,
            "object_fit": null,
            "object_position": null,
            "order": null,
            "overflow": null,
            "overflow_x": null,
            "overflow_y": null,
            "padding": null,
            "right": null,
            "top": null,
            "visibility": null,
            "width": null
          }
        },
        "8b2f0d4aca44493ca2dff0881c46e77f": {
          "model_module": "@jupyter-widgets/controls",
          "model_name": "DescriptionStyleModel",
          "model_module_version": "1.5.0",
          "state": {
            "_model_module": "@jupyter-widgets/controls",
            "_model_module_version": "1.5.0",
            "_model_name": "DescriptionStyleModel",
            "_view_count": null,
            "_view_module": "@jupyter-widgets/base",
            "_view_module_version": "1.2.0",
            "_view_name": "StyleView",
            "description_width": ""
          }
        },
        "22a2e2cc478a4152acb2f5a5a7b977df": {
          "model_module": "@jupyter-widgets/base",
          "model_name": "LayoutModel",
          "model_module_version": "1.2.0",
          "state": {
            "_model_module": "@jupyter-widgets/base",
            "_model_module_version": "1.2.0",
            "_model_name": "LayoutModel",
            "_view_count": null,
            "_view_module": "@jupyter-widgets/base",
            "_view_module_version": "1.2.0",
            "_view_name": "LayoutView",
            "align_content": null,
            "align_items": null,
            "align_self": null,
            "border": null,
            "bottom": null,
            "display": null,
            "flex": null,
            "flex_flow": null,
            "grid_area": null,
            "grid_auto_columns": null,
            "grid_auto_flow": null,
            "grid_auto_rows": null,
            "grid_column": null,
            "grid_gap": null,
            "grid_row": null,
            "grid_template_areas": null,
            "grid_template_columns": null,
            "grid_template_rows": null,
            "height": null,
            "justify_content": null,
            "justify_items": null,
            "left": null,
            "margin": null,
            "max_height": null,
            "max_width": null,
            "min_height": null,
            "min_width": null,
            "object_fit": null,
            "object_position": null,
            "order": null,
            "overflow": null,
            "overflow_x": null,
            "overflow_y": null,
            "padding": null,
            "right": null,
            "top": null,
            "visibility": null,
            "width": null
          }
        },
        "b91be3b5fb624f51a24718f6b68bf5c5": {
          "model_module": "@jupyter-widgets/controls",
          "model_name": "ProgressStyleModel",
          "model_module_version": "1.5.0",
          "state": {
            "_model_module": "@jupyter-widgets/controls",
            "_model_module_version": "1.5.0",
            "_model_name": "ProgressStyleModel",
            "_view_count": null,
            "_view_module": "@jupyter-widgets/base",
            "_view_module_version": "1.2.0",
            "_view_name": "StyleView",
            "bar_color": null,
            "description_width": ""
          }
        },
        "45a1562f311c48898792ef34c5aa7bcc": {
          "model_module": "@jupyter-widgets/base",
          "model_name": "LayoutModel",
          "model_module_version": "1.2.0",
          "state": {
            "_model_module": "@jupyter-widgets/base",
            "_model_module_version": "1.2.0",
            "_model_name": "LayoutModel",
            "_view_count": null,
            "_view_module": "@jupyter-widgets/base",
            "_view_module_version": "1.2.0",
            "_view_name": "LayoutView",
            "align_content": null,
            "align_items": null,
            "align_self": null,
            "border": null,
            "bottom": null,
            "display": null,
            "flex": null,
            "flex_flow": null,
            "grid_area": null,
            "grid_auto_columns": null,
            "grid_auto_flow": null,
            "grid_auto_rows": null,
            "grid_column": null,
            "grid_gap": null,
            "grid_row": null,
            "grid_template_areas": null,
            "grid_template_columns": null,
            "grid_template_rows": null,
            "height": null,
            "justify_content": null,
            "justify_items": null,
            "left": null,
            "margin": null,
            "max_height": null,
            "max_width": null,
            "min_height": null,
            "min_width": null,
            "object_fit": null,
            "object_position": null,
            "order": null,
            "overflow": null,
            "overflow_x": null,
            "overflow_y": null,
            "padding": null,
            "right": null,
            "top": null,
            "visibility": null,
            "width": null
          }
        },
        "6dc0a9fd2b3b44b284cb53da6000c32f": {
          "model_module": "@jupyter-widgets/controls",
          "model_name": "DescriptionStyleModel",
          "model_module_version": "1.5.0",
          "state": {
            "_model_module": "@jupyter-widgets/controls",
            "_model_module_version": "1.5.0",
            "_model_name": "DescriptionStyleModel",
            "_view_count": null,
            "_view_module": "@jupyter-widgets/base",
            "_view_module_version": "1.2.0",
            "_view_name": "StyleView",
            "description_width": ""
          }
        },
        "20047c95c30a416280c776ab71db63b1": {
          "model_module": "@jupyter-widgets/controls",
          "model_name": "HBoxModel",
          "model_module_version": "1.5.0",
          "state": {
            "_dom_classes": [],
            "_model_module": "@jupyter-widgets/controls",
            "_model_module_version": "1.5.0",
            "_model_name": "HBoxModel",
            "_view_count": null,
            "_view_module": "@jupyter-widgets/controls",
            "_view_module_version": "1.5.0",
            "_view_name": "HBoxView",
            "box_style": "",
            "children": [
              "IPY_MODEL_495d2507f6c449dda457e2dd7ab8fe5a",
              "IPY_MODEL_a0b63a559cb247bf8e4bed1bc017221d",
              "IPY_MODEL_d39ee5af64154d5b8de1173571193c36"
            ],
            "layout": "IPY_MODEL_403680a41e0546b4bdc71a3fe12fbb5f"
          }
        },
        "495d2507f6c449dda457e2dd7ab8fe5a": {
          "model_module": "@jupyter-widgets/controls",
          "model_name": "HTMLModel",
          "model_module_version": "1.5.0",
          "state": {
            "_dom_classes": [],
            "_model_module": "@jupyter-widgets/controls",
            "_model_module_version": "1.5.0",
            "_model_name": "HTMLModel",
            "_view_count": null,
            "_view_module": "@jupyter-widgets/controls",
            "_view_module_version": "1.5.0",
            "_view_name": "HTMLView",
            "description": "",
            "description_tooltip": null,
            "layout": "IPY_MODEL_dad07e5cc1d34ac9af862509cfe60d8b",
            "placeholder": "​",
            "style": "IPY_MODEL_9f88575f801146318ee0cc495aca20c2",
            "value": "config.json: 100%"
          }
        },
        "a0b63a559cb247bf8e4bed1bc017221d": {
          "model_module": "@jupyter-widgets/controls",
          "model_name": "FloatProgressModel",
          "model_module_version": "1.5.0",
          "state": {
            "_dom_classes": [],
            "_model_module": "@jupyter-widgets/controls",
            "_model_module_version": "1.5.0",
            "_model_name": "FloatProgressModel",
            "_view_count": null,
            "_view_module": "@jupyter-widgets/controls",
            "_view_module_version": "1.5.0",
            "_view_name": "ProgressView",
            "bar_style": "success",
            "description": "",
            "description_tooltip": null,
            "layout": "IPY_MODEL_eaad0474c7a24ac7a534a6d25de4b623",
            "max": 615,
            "min": 0,
            "orientation": "horizontal",
            "style": "IPY_MODEL_eed798469f8d487da723304cc3c3e815",
            "value": 615
          }
        },
        "d39ee5af64154d5b8de1173571193c36": {
          "model_module": "@jupyter-widgets/controls",
          "model_name": "HTMLModel",
          "model_module_version": "1.5.0",
          "state": {
            "_dom_classes": [],
            "_model_module": "@jupyter-widgets/controls",
            "_model_module_version": "1.5.0",
            "_model_name": "HTMLModel",
            "_view_count": null,
            "_view_module": "@jupyter-widgets/controls",
            "_view_module_version": "1.5.0",
            "_view_name": "HTMLView",
            "description": "",
            "description_tooltip": null,
            "layout": "IPY_MODEL_f0b971bcf11848f0b4cfc4189d07fd70",
            "placeholder": "​",
            "style": "IPY_MODEL_11a03bda859547bdba1cccf1d01dea70",
            "value": " 615/615 [00:00&lt;00:00, 38.3kB/s]"
          }
        },
        "403680a41e0546b4bdc71a3fe12fbb5f": {
          "model_module": "@jupyter-widgets/base",
          "model_name": "LayoutModel",
          "model_module_version": "1.2.0",
          "state": {
            "_model_module": "@jupyter-widgets/base",
            "_model_module_version": "1.2.0",
            "_model_name": "LayoutModel",
            "_view_count": null,
            "_view_module": "@jupyter-widgets/base",
            "_view_module_version": "1.2.0",
            "_view_name": "LayoutView",
            "align_content": null,
            "align_items": null,
            "align_self": null,
            "border": null,
            "bottom": null,
            "display": null,
            "flex": null,
            "flex_flow": null,
            "grid_area": null,
            "grid_auto_columns": null,
            "grid_auto_flow": null,
            "grid_auto_rows": null,
            "grid_column": null,
            "grid_gap": null,
            "grid_row": null,
            "grid_template_areas": null,
            "grid_template_columns": null,
            "grid_template_rows": null,
            "height": null,
            "justify_content": null,
            "justify_items": null,
            "left": null,
            "margin": null,
            "max_height": null,
            "max_width": null,
            "min_height": null,
            "min_width": null,
            "object_fit": null,
            "object_position": null,
            "order": null,
            "overflow": null,
            "overflow_x": null,
            "overflow_y": null,
            "padding": null,
            "right": null,
            "top": null,
            "visibility": null,
            "width": null
          }
        },
        "dad07e5cc1d34ac9af862509cfe60d8b": {
          "model_module": "@jupyter-widgets/base",
          "model_name": "LayoutModel",
          "model_module_version": "1.2.0",
          "state": {
            "_model_module": "@jupyter-widgets/base",
            "_model_module_version": "1.2.0",
            "_model_name": "LayoutModel",
            "_view_count": null,
            "_view_module": "@jupyter-widgets/base",
            "_view_module_version": "1.2.0",
            "_view_name": "LayoutView",
            "align_content": null,
            "align_items": null,
            "align_self": null,
            "border": null,
            "bottom": null,
            "display": null,
            "flex": null,
            "flex_flow": null,
            "grid_area": null,
            "grid_auto_columns": null,
            "grid_auto_flow": null,
            "grid_auto_rows": null,
            "grid_column": null,
            "grid_gap": null,
            "grid_row": null,
            "grid_template_areas": null,
            "grid_template_columns": null,
            "grid_template_rows": null,
            "height": null,
            "justify_content": null,
            "justify_items": null,
            "left": null,
            "margin": null,
            "max_height": null,
            "max_width": null,
            "min_height": null,
            "min_width": null,
            "object_fit": null,
            "object_position": null,
            "order": null,
            "overflow": null,
            "overflow_x": null,
            "overflow_y": null,
            "padding": null,
            "right": null,
            "top": null,
            "visibility": null,
            "width": null
          }
        },
        "9f88575f801146318ee0cc495aca20c2": {
          "model_module": "@jupyter-widgets/controls",
          "model_name": "DescriptionStyleModel",
          "model_module_version": "1.5.0",
          "state": {
            "_model_module": "@jupyter-widgets/controls",
            "_model_module_version": "1.5.0",
            "_model_name": "DescriptionStyleModel",
            "_view_count": null,
            "_view_module": "@jupyter-widgets/base",
            "_view_module_version": "1.2.0",
            "_view_name": "StyleView",
            "description_width": ""
          }
        },
        "eaad0474c7a24ac7a534a6d25de4b623": {
          "model_module": "@jupyter-widgets/base",
          "model_name": "LayoutModel",
          "model_module_version": "1.2.0",
          "state": {
            "_model_module": "@jupyter-widgets/base",
            "_model_module_version": "1.2.0",
            "_model_name": "LayoutModel",
            "_view_count": null,
            "_view_module": "@jupyter-widgets/base",
            "_view_module_version": "1.2.0",
            "_view_name": "LayoutView",
            "align_content": null,
            "align_items": null,
            "align_self": null,
            "border": null,
            "bottom": null,
            "display": null,
            "flex": null,
            "flex_flow": null,
            "grid_area": null,
            "grid_auto_columns": null,
            "grid_auto_flow": null,
            "grid_auto_rows": null,
            "grid_column": null,
            "grid_gap": null,
            "grid_row": null,
            "grid_template_areas": null,
            "grid_template_columns": null,
            "grid_template_rows": null,
            "height": null,
            "justify_content": null,
            "justify_items": null,
            "left": null,
            "margin": null,
            "max_height": null,
            "max_width": null,
            "min_height": null,
            "min_width": null,
            "object_fit": null,
            "object_position": null,
            "order": null,
            "overflow": null,
            "overflow_x": null,
            "overflow_y": null,
            "padding": null,
            "right": null,
            "top": null,
            "visibility": null,
            "width": null
          }
        },
        "eed798469f8d487da723304cc3c3e815": {
          "model_module": "@jupyter-widgets/controls",
          "model_name": "ProgressStyleModel",
          "model_module_version": "1.5.0",
          "state": {
            "_model_module": "@jupyter-widgets/controls",
            "_model_module_version": "1.5.0",
            "_model_name": "ProgressStyleModel",
            "_view_count": null,
            "_view_module": "@jupyter-widgets/base",
            "_view_module_version": "1.2.0",
            "_view_name": "StyleView",
            "bar_color": null,
            "description_width": ""
          }
        },
        "f0b971bcf11848f0b4cfc4189d07fd70": {
          "model_module": "@jupyter-widgets/base",
          "model_name": "LayoutModel",
          "model_module_version": "1.2.0",
          "state": {
            "_model_module": "@jupyter-widgets/base",
            "_model_module_version": "1.2.0",
            "_model_name": "LayoutModel",
            "_view_count": null,
            "_view_module": "@jupyter-widgets/base",
            "_view_module_version": "1.2.0",
            "_view_name": "LayoutView",
            "align_content": null,
            "align_items": null,
            "align_self": null,
            "border": null,
            "bottom": null,
            "display": null,
            "flex": null,
            "flex_flow": null,
            "grid_area": null,
            "grid_auto_columns": null,
            "grid_auto_flow": null,
            "grid_auto_rows": null,
            "grid_column": null,
            "grid_gap": null,
            "grid_row": null,
            "grid_template_areas": null,
            "grid_template_columns": null,
            "grid_template_rows": null,
            "height": null,
            "justify_content": null,
            "justify_items": null,
            "left": null,
            "margin": null,
            "max_height": null,
            "max_width": null,
            "min_height": null,
            "min_width": null,
            "object_fit": null,
            "object_position": null,
            "order": null,
            "overflow": null,
            "overflow_x": null,
            "overflow_y": null,
            "padding": null,
            "right": null,
            "top": null,
            "visibility": null,
            "width": null
          }
        },
        "11a03bda859547bdba1cccf1d01dea70": {
          "model_module": "@jupyter-widgets/controls",
          "model_name": "DescriptionStyleModel",
          "model_module_version": "1.5.0",
          "state": {
            "_model_module": "@jupyter-widgets/controls",
            "_model_module_version": "1.5.0",
            "_model_name": "DescriptionStyleModel",
            "_view_count": null,
            "_view_module": "@jupyter-widgets/base",
            "_view_module_version": "1.2.0",
            "_view_name": "StyleView",
            "description_width": ""
          }
        },
        "79081d03c51b4403add428fd0fda64e0": {
          "model_module": "@jupyter-widgets/controls",
          "model_name": "HBoxModel",
          "model_module_version": "1.5.0",
          "state": {
            "_dom_classes": [],
            "_model_module": "@jupyter-widgets/controls",
            "_model_module_version": "1.5.0",
            "_model_name": "HBoxModel",
            "_view_count": null,
            "_view_module": "@jupyter-widgets/controls",
            "_view_module_version": "1.5.0",
            "_view_name": "HBoxView",
            "box_style": "",
            "children": [
              "IPY_MODEL_994d6c1c437d4f079d6d590c14990877",
              "IPY_MODEL_20515cb60cae4f02b5eba81d54d75697",
              "IPY_MODEL_a5d265e1fa5a4600bdefb9aae8c80175"
            ],
            "layout": "IPY_MODEL_abb7a0c066bc4d8e8dc74c07f7a5cb1f"
          }
        },
        "994d6c1c437d4f079d6d590c14990877": {
          "model_module": "@jupyter-widgets/controls",
          "model_name": "HTMLModel",
          "model_module_version": "1.5.0",
          "state": {
            "_dom_classes": [],
            "_model_module": "@jupyter-widgets/controls",
            "_model_module_version": "1.5.0",
            "_model_name": "HTMLModel",
            "_view_count": null,
            "_view_module": "@jupyter-widgets/controls",
            "_view_module_version": "1.5.0",
            "_view_name": "HTMLView",
            "description": "",
            "description_tooltip": null,
            "layout": "IPY_MODEL_70f0a04fe2bb406291eaedb80f530e4e",
            "placeholder": "​",
            "style": "IPY_MODEL_64b6293003c6431a8f0fda4548cc829d",
            "value": "sentencepiece.bpe.model: 100%"
          }
        },
        "20515cb60cae4f02b5eba81d54d75697": {
          "model_module": "@jupyter-widgets/controls",
          "model_name": "FloatProgressModel",
          "model_module_version": "1.5.0",
          "state": {
            "_dom_classes": [],
            "_model_module": "@jupyter-widgets/controls",
            "_model_module_version": "1.5.0",
            "_model_name": "FloatProgressModel",
            "_view_count": null,
            "_view_module": "@jupyter-widgets/controls",
            "_view_module_version": "1.5.0",
            "_view_name": "ProgressView",
            "bar_style": "success",
            "description": "",
            "description_tooltip": null,
            "layout": "IPY_MODEL_a9e3e99797fe4706a1b8cf069ffdb1d2",
            "max": 5069051,
            "min": 0,
            "orientation": "horizontal",
            "style": "IPY_MODEL_e13258059bdf44869ff2739fad7be6ee",
            "value": 5069051
          }
        },
        "a5d265e1fa5a4600bdefb9aae8c80175": {
          "model_module": "@jupyter-widgets/controls",
          "model_name": "HTMLModel",
          "model_module_version": "1.5.0",
          "state": {
            "_dom_classes": [],
            "_model_module": "@jupyter-widgets/controls",
            "_model_module_version": "1.5.0",
            "_model_name": "HTMLModel",
            "_view_count": null,
            "_view_module": "@jupyter-widgets/controls",
            "_view_module_version": "1.5.0",
            "_view_name": "HTMLView",
            "description": "",
            "description_tooltip": null,
            "layout": "IPY_MODEL_41dfe8d31adc4ed69289dda5049a9ea9",
            "placeholder": "​",
            "style": "IPY_MODEL_4dd9caa805c440b2a7119c9ed5afc313",
            "value": " 5.07M/5.07M [00:02&lt;00:00, 1.82MB/s]"
          }
        },
        "abb7a0c066bc4d8e8dc74c07f7a5cb1f": {
          "model_module": "@jupyter-widgets/base",
          "model_name": "LayoutModel",
          "model_module_version": "1.2.0",
          "state": {
            "_model_module": "@jupyter-widgets/base",
            "_model_module_version": "1.2.0",
            "_model_name": "LayoutModel",
            "_view_count": null,
            "_view_module": "@jupyter-widgets/base",
            "_view_module_version": "1.2.0",
            "_view_name": "LayoutView",
            "align_content": null,
            "align_items": null,
            "align_self": null,
            "border": null,
            "bottom": null,
            "display": null,
            "flex": null,
            "flex_flow": null,
            "grid_area": null,
            "grid_auto_columns": null,
            "grid_auto_flow": null,
            "grid_auto_rows": null,
            "grid_column": null,
            "grid_gap": null,
            "grid_row": null,
            "grid_template_areas": null,
            "grid_template_columns": null,
            "grid_template_rows": null,
            "height": null,
            "justify_content": null,
            "justify_items": null,
            "left": null,
            "margin": null,
            "max_height": null,
            "max_width": null,
            "min_height": null,
            "min_width": null,
            "object_fit": null,
            "object_position": null,
            "order": null,
            "overflow": null,
            "overflow_x": null,
            "overflow_y": null,
            "padding": null,
            "right": null,
            "top": null,
            "visibility": null,
            "width": null
          }
        },
        "70f0a04fe2bb406291eaedb80f530e4e": {
          "model_module": "@jupyter-widgets/base",
          "model_name": "LayoutModel",
          "model_module_version": "1.2.0",
          "state": {
            "_model_module": "@jupyter-widgets/base",
            "_model_module_version": "1.2.0",
            "_model_name": "LayoutModel",
            "_view_count": null,
            "_view_module": "@jupyter-widgets/base",
            "_view_module_version": "1.2.0",
            "_view_name": "LayoutView",
            "align_content": null,
            "align_items": null,
            "align_self": null,
            "border": null,
            "bottom": null,
            "display": null,
            "flex": null,
            "flex_flow": null,
            "grid_area": null,
            "grid_auto_columns": null,
            "grid_auto_flow": null,
            "grid_auto_rows": null,
            "grid_column": null,
            "grid_gap": null,
            "grid_row": null,
            "grid_template_areas": null,
            "grid_template_columns": null,
            "grid_template_rows": null,
            "height": null,
            "justify_content": null,
            "justify_items": null,
            "left": null,
            "margin": null,
            "max_height": null,
            "max_width": null,
            "min_height": null,
            "min_width": null,
            "object_fit": null,
            "object_position": null,
            "order": null,
            "overflow": null,
            "overflow_x": null,
            "overflow_y": null,
            "padding": null,
            "right": null,
            "top": null,
            "visibility": null,
            "width": null
          }
        },
        "64b6293003c6431a8f0fda4548cc829d": {
          "model_module": "@jupyter-widgets/controls",
          "model_name": "DescriptionStyleModel",
          "model_module_version": "1.5.0",
          "state": {
            "_model_module": "@jupyter-widgets/controls",
            "_model_module_version": "1.5.0",
            "_model_name": "DescriptionStyleModel",
            "_view_count": null,
            "_view_module": "@jupyter-widgets/base",
            "_view_module_version": "1.2.0",
            "_view_name": "StyleView",
            "description_width": ""
          }
        },
        "a9e3e99797fe4706a1b8cf069ffdb1d2": {
          "model_module": "@jupyter-widgets/base",
          "model_name": "LayoutModel",
          "model_module_version": "1.2.0",
          "state": {
            "_model_module": "@jupyter-widgets/base",
            "_model_module_version": "1.2.0",
            "_model_name": "LayoutModel",
            "_view_count": null,
            "_view_module": "@jupyter-widgets/base",
            "_view_module_version": "1.2.0",
            "_view_name": "LayoutView",
            "align_content": null,
            "align_items": null,
            "align_self": null,
            "border": null,
            "bottom": null,
            "display": null,
            "flex": null,
            "flex_flow": null,
            "grid_area": null,
            "grid_auto_columns": null,
            "grid_auto_flow": null,
            "grid_auto_rows": null,
            "grid_column": null,
            "grid_gap": null,
            "grid_row": null,
            "grid_template_areas": null,
            "grid_template_columns": null,
            "grid_template_rows": null,
            "height": null,
            "justify_content": null,
            "justify_items": null,
            "left": null,
            "margin": null,
            "max_height": null,
            "max_width": null,
            "min_height": null,
            "min_width": null,
            "object_fit": null,
            "object_position": null,
            "order": null,
            "overflow": null,
            "overflow_x": null,
            "overflow_y": null,
            "padding": null,
            "right": null,
            "top": null,
            "visibility": null,
            "width": null
          }
        },
        "e13258059bdf44869ff2739fad7be6ee": {
          "model_module": "@jupyter-widgets/controls",
          "model_name": "ProgressStyleModel",
          "model_module_version": "1.5.0",
          "state": {
            "_model_module": "@jupyter-widgets/controls",
            "_model_module_version": "1.5.0",
            "_model_name": "ProgressStyleModel",
            "_view_count": null,
            "_view_module": "@jupyter-widgets/base",
            "_view_module_version": "1.2.0",
            "_view_name": "StyleView",
            "bar_color": null,
            "description_width": ""
          }
        },
        "41dfe8d31adc4ed69289dda5049a9ea9": {
          "model_module": "@jupyter-widgets/base",
          "model_name": "LayoutModel",
          "model_module_version": "1.2.0",
          "state": {
            "_model_module": "@jupyter-widgets/base",
            "_model_module_version": "1.2.0",
            "_model_name": "LayoutModel",
            "_view_count": null,
            "_view_module": "@jupyter-widgets/base",
            "_view_module_version": "1.2.0",
            "_view_name": "LayoutView",
            "align_content": null,
            "align_items": null,
            "align_self": null,
            "border": null,
            "bottom": null,
            "display": null,
            "flex": null,
            "flex_flow": null,
            "grid_area": null,
            "grid_auto_columns": null,
            "grid_auto_flow": null,
            "grid_auto_rows": null,
            "grid_column": null,
            "grid_gap": null,
            "grid_row": null,
            "grid_template_areas": null,
            "grid_template_columns": null,
            "grid_template_rows": null,
            "height": null,
            "justify_content": null,
            "justify_items": null,
            "left": null,
            "margin": null,
            "max_height": null,
            "max_width": null,
            "min_height": null,
            "min_width": null,
            "object_fit": null,
            "object_position": null,
            "order": null,
            "overflow": null,
            "overflow_x": null,
            "overflow_y": null,
            "padding": null,
            "right": null,
            "top": null,
            "visibility": null,
            "width": null
          }
        },
        "4dd9caa805c440b2a7119c9ed5afc313": {
          "model_module": "@jupyter-widgets/controls",
          "model_name": "DescriptionStyleModel",
          "model_module_version": "1.5.0",
          "state": {
            "_model_module": "@jupyter-widgets/controls",
            "_model_module_version": "1.5.0",
            "_model_name": "DescriptionStyleModel",
            "_view_count": null,
            "_view_module": "@jupyter-widgets/base",
            "_view_module_version": "1.2.0",
            "_view_name": "StyleView",
            "description_width": ""
          }
        },
        "1f180dcb4112419b85c4821e2bd28637": {
          "model_module": "@jupyter-widgets/controls",
          "model_name": "HBoxModel",
          "model_module_version": "1.5.0",
          "state": {
            "_dom_classes": [],
            "_model_module": "@jupyter-widgets/controls",
            "_model_module_version": "1.5.0",
            "_model_name": "HBoxModel",
            "_view_count": null,
            "_view_module": "@jupyter-widgets/controls",
            "_view_module_version": "1.5.0",
            "_view_name": "HBoxView",
            "box_style": "",
            "children": [
              "IPY_MODEL_f0c66c08a4a14e40820a1b8e7b4a9c6f",
              "IPY_MODEL_65a0f4e440c84a0a91733b5b2289eb57",
              "IPY_MODEL_a093bf7119944b93b87941adad1ec32c"
            ],
            "layout": "IPY_MODEL_dd02cfff9efe4067b1535cc8a5b9e890"
          }
        },
        "f0c66c08a4a14e40820a1b8e7b4a9c6f": {
          "model_module": "@jupyter-widgets/controls",
          "model_name": "HTMLModel",
          "model_module_version": "1.5.0",
          "state": {
            "_dom_classes": [],
            "_model_module": "@jupyter-widgets/controls",
            "_model_module_version": "1.5.0",
            "_model_name": "HTMLModel",
            "_view_count": null,
            "_view_module": "@jupyter-widgets/controls",
            "_view_module_version": "1.5.0",
            "_view_name": "HTMLView",
            "description": "",
            "description_tooltip": null,
            "layout": "IPY_MODEL_60ae2aec95c8499ba3997d6bd50df300",
            "placeholder": "​",
            "style": "IPY_MODEL_d5a203a3410a46f780967e1d65a2ddc1",
            "value": "tokenizer.json: 100%"
          }
        },
        "65a0f4e440c84a0a91733b5b2289eb57": {
          "model_module": "@jupyter-widgets/controls",
          "model_name": "FloatProgressModel",
          "model_module_version": "1.5.0",
          "state": {
            "_dom_classes": [],
            "_model_module": "@jupyter-widgets/controls",
            "_model_module_version": "1.5.0",
            "_model_name": "FloatProgressModel",
            "_view_count": null,
            "_view_module": "@jupyter-widgets/controls",
            "_view_module_version": "1.5.0",
            "_view_name": "ProgressView",
            "bar_style": "success",
            "description": "",
            "description_tooltip": null,
            "layout": "IPY_MODEL_66482c2ac4914403959c3cf0a0d590c7",
            "max": 9096718,
            "min": 0,
            "orientation": "horizontal",
            "style": "IPY_MODEL_900c40bf05f8485eba4c257ad1e144d6",
            "value": 9096718
          }
        },
        "a093bf7119944b93b87941adad1ec32c": {
          "model_module": "@jupyter-widgets/controls",
          "model_name": "HTMLModel",
          "model_module_version": "1.5.0",
          "state": {
            "_dom_classes": [],
            "_model_module": "@jupyter-widgets/controls",
            "_model_module_version": "1.5.0",
            "_model_name": "HTMLModel",
            "_view_count": null,
            "_view_module": "@jupyter-widgets/controls",
            "_view_module_version": "1.5.0",
            "_view_name": "HTMLView",
            "description": "",
            "description_tooltip": null,
            "layout": "IPY_MODEL_84abbc3d3d974c429ac0d6199a45fb45",
            "placeholder": "​",
            "style": "IPY_MODEL_bc3f5220d5a948e28d00f4eb002f9860",
            "value": " 9.10M/9.10M [00:00&lt;00:00, 10.4MB/s]"
          }
        },
        "dd02cfff9efe4067b1535cc8a5b9e890": {
          "model_module": "@jupyter-widgets/base",
          "model_name": "LayoutModel",
          "model_module_version": "1.2.0",
          "state": {
            "_model_module": "@jupyter-widgets/base",
            "_model_module_version": "1.2.0",
            "_model_name": "LayoutModel",
            "_view_count": null,
            "_view_module": "@jupyter-widgets/base",
            "_view_module_version": "1.2.0",
            "_view_name": "LayoutView",
            "align_content": null,
            "align_items": null,
            "align_self": null,
            "border": null,
            "bottom": null,
            "display": null,
            "flex": null,
            "flex_flow": null,
            "grid_area": null,
            "grid_auto_columns": null,
            "grid_auto_flow": null,
            "grid_auto_rows": null,
            "grid_column": null,
            "grid_gap": null,
            "grid_row": null,
            "grid_template_areas": null,
            "grid_template_columns": null,
            "grid_template_rows": null,
            "height": null,
            "justify_content": null,
            "justify_items": null,
            "left": null,
            "margin": null,
            "max_height": null,
            "max_width": null,
            "min_height": null,
            "min_width": null,
            "object_fit": null,
            "object_position": null,
            "order": null,
            "overflow": null,
            "overflow_x": null,
            "overflow_y": null,
            "padding": null,
            "right": null,
            "top": null,
            "visibility": null,
            "width": null
          }
        },
        "60ae2aec95c8499ba3997d6bd50df300": {
          "model_module": "@jupyter-widgets/base",
          "model_name": "LayoutModel",
          "model_module_version": "1.2.0",
          "state": {
            "_model_module": "@jupyter-widgets/base",
            "_model_module_version": "1.2.0",
            "_model_name": "LayoutModel",
            "_view_count": null,
            "_view_module": "@jupyter-widgets/base",
            "_view_module_version": "1.2.0",
            "_view_name": "LayoutView",
            "align_content": null,
            "align_items": null,
            "align_self": null,
            "border": null,
            "bottom": null,
            "display": null,
            "flex": null,
            "flex_flow": null,
            "grid_area": null,
            "grid_auto_columns": null,
            "grid_auto_flow": null,
            "grid_auto_rows": null,
            "grid_column": null,
            "grid_gap": null,
            "grid_row": null,
            "grid_template_areas": null,
            "grid_template_columns": null,
            "grid_template_rows": null,
            "height": null,
            "justify_content": null,
            "justify_items": null,
            "left": null,
            "margin": null,
            "max_height": null,
            "max_width": null,
            "min_height": null,
            "min_width": null,
            "object_fit": null,
            "object_position": null,
            "order": null,
            "overflow": null,
            "overflow_x": null,
            "overflow_y": null,
            "padding": null,
            "right": null,
            "top": null,
            "visibility": null,
            "width": null
          }
        },
        "d5a203a3410a46f780967e1d65a2ddc1": {
          "model_module": "@jupyter-widgets/controls",
          "model_name": "DescriptionStyleModel",
          "model_module_version": "1.5.0",
          "state": {
            "_model_module": "@jupyter-widgets/controls",
            "_model_module_version": "1.5.0",
            "_model_name": "DescriptionStyleModel",
            "_view_count": null,
            "_view_module": "@jupyter-widgets/base",
            "_view_module_version": "1.2.0",
            "_view_name": "StyleView",
            "description_width": ""
          }
        },
        "66482c2ac4914403959c3cf0a0d590c7": {
          "model_module": "@jupyter-widgets/base",
          "model_name": "LayoutModel",
          "model_module_version": "1.2.0",
          "state": {
            "_model_module": "@jupyter-widgets/base",
            "_model_module_version": "1.2.0",
            "_model_name": "LayoutModel",
            "_view_count": null,
            "_view_module": "@jupyter-widgets/base",
            "_view_module_version": "1.2.0",
            "_view_name": "LayoutView",
            "align_content": null,
            "align_items": null,
            "align_self": null,
            "border": null,
            "bottom": null,
            "display": null,
            "flex": null,
            "flex_flow": null,
            "grid_area": null,
            "grid_auto_columns": null,
            "grid_auto_flow": null,
            "grid_auto_rows": null,
            "grid_column": null,
            "grid_gap": null,
            "grid_row": null,
            "grid_template_areas": null,
            "grid_template_columns": null,
            "grid_template_rows": null,
            "height": null,
            "justify_content": null,
            "justify_items": null,
            "left": null,
            "margin": null,
            "max_height": null,
            "max_width": null,
            "min_height": null,
            "min_width": null,
            "object_fit": null,
            "object_position": null,
            "order": null,
            "overflow": null,
            "overflow_x": null,
            "overflow_y": null,
            "padding": null,
            "right": null,
            "top": null,
            "visibility": null,
            "width": null
          }
        },
        "900c40bf05f8485eba4c257ad1e144d6": {
          "model_module": "@jupyter-widgets/controls",
          "model_name": "ProgressStyleModel",
          "model_module_version": "1.5.0",
          "state": {
            "_model_module": "@jupyter-widgets/controls",
            "_model_module_version": "1.5.0",
            "_model_name": "ProgressStyleModel",
            "_view_count": null,
            "_view_module": "@jupyter-widgets/base",
            "_view_module_version": "1.2.0",
            "_view_name": "StyleView",
            "bar_color": null,
            "description_width": ""
          }
        },
        "84abbc3d3d974c429ac0d6199a45fb45": {
          "model_module": "@jupyter-widgets/base",
          "model_name": "LayoutModel",
          "model_module_version": "1.2.0",
          "state": {
            "_model_module": "@jupyter-widgets/base",
            "_model_module_version": "1.2.0",
            "_model_name": "LayoutModel",
            "_view_count": null,
            "_view_module": "@jupyter-widgets/base",
            "_view_module_version": "1.2.0",
            "_view_name": "LayoutView",
            "align_content": null,
            "align_items": null,
            "align_self": null,
            "border": null,
            "bottom": null,
            "display": null,
            "flex": null,
            "flex_flow": null,
            "grid_area": null,
            "grid_auto_columns": null,
            "grid_auto_flow": null,
            "grid_auto_rows": null,
            "grid_column": null,
            "grid_gap": null,
            "grid_row": null,
            "grid_template_areas": null,
            "grid_template_columns": null,
            "grid_template_rows": null,
            "height": null,
            "justify_content": null,
            "justify_items": null,
            "left": null,
            "margin": null,
            "max_height": null,
            "max_width": null,
            "min_height": null,
            "min_width": null,
            "object_fit": null,
            "object_position": null,
            "order": null,
            "overflow": null,
            "overflow_x": null,
            "overflow_y": null,
            "padding": null,
            "right": null,
            "top": null,
            "visibility": null,
            "width": null
          }
        },
        "bc3f5220d5a948e28d00f4eb002f9860": {
          "model_module": "@jupyter-widgets/controls",
          "model_name": "DescriptionStyleModel",
          "model_module_version": "1.5.0",
          "state": {
            "_model_module": "@jupyter-widgets/controls",
            "_model_module_version": "1.5.0",
            "_model_name": "DescriptionStyleModel",
            "_view_count": null,
            "_view_module": "@jupyter-widgets/base",
            "_view_module_version": "1.2.0",
            "_view_name": "StyleView",
            "description_width": ""
          }
        },
        "a2576b2595f74c5e88f8c15ca6a306a6": {
          "model_module": "@jupyter-widgets/controls",
          "model_name": "HBoxModel",
          "model_module_version": "1.5.0",
          "state": {
            "_dom_classes": [],
            "_model_module": "@jupyter-widgets/controls",
            "_model_module_version": "1.5.0",
            "_model_name": "HBoxModel",
            "_view_count": null,
            "_view_module": "@jupyter-widgets/controls",
            "_view_module_version": "1.5.0",
            "_view_name": "HBoxView",
            "box_style": "",
            "children": [
              "IPY_MODEL_9e52742781e74cdfbe07514b92f4cc74",
              "IPY_MODEL_28dbb2bb2ae24158a54f16f97a45deeb",
              "IPY_MODEL_8b1d90b5bc594511b25d6597d94a4f2e"
            ],
            "layout": "IPY_MODEL_63f95047ac524bc88cf5bf0f4118b031"
          }
        },
        "9e52742781e74cdfbe07514b92f4cc74": {
          "model_module": "@jupyter-widgets/controls",
          "model_name": "HTMLModel",
          "model_module_version": "1.5.0",
          "state": {
            "_dom_classes": [],
            "_model_module": "@jupyter-widgets/controls",
            "_model_module_version": "1.5.0",
            "_model_name": "HTMLModel",
            "_view_count": null,
            "_view_module": "@jupyter-widgets/controls",
            "_view_module_version": "1.5.0",
            "_view_name": "HTMLView",
            "description": "",
            "description_tooltip": null,
            "layout": "IPY_MODEL_87fc76b8bd3045a981d0c006aa49def7",
            "placeholder": "​",
            "style": "IPY_MODEL_149f6223f76c426c8c6f99fffda2186a",
            "value": "model.safetensors: 100%"
          }
        },
        "28dbb2bb2ae24158a54f16f97a45deeb": {
          "model_module": "@jupyter-widgets/controls",
          "model_name": "FloatProgressModel",
          "model_module_version": "1.5.0",
          "state": {
            "_dom_classes": [],
            "_model_module": "@jupyter-widgets/controls",
            "_model_module_version": "1.5.0",
            "_model_name": "FloatProgressModel",
            "_view_count": null,
            "_view_module": "@jupyter-widgets/controls",
            "_view_module_version": "1.5.0",
            "_view_name": "ProgressView",
            "bar_style": "success",
            "description": "",
            "description_tooltip": null,
            "layout": "IPY_MODEL_42562248a47449f488f8608dba8ec352",
            "max": 1115567652,
            "min": 0,
            "orientation": "horizontal",
            "style": "IPY_MODEL_e9ed78a8599a40c09305709be29ef46c",
            "value": 1115567652
          }
        },
        "8b1d90b5bc594511b25d6597d94a4f2e": {
          "model_module": "@jupyter-widgets/controls",
          "model_name": "HTMLModel",
          "model_module_version": "1.5.0",
          "state": {
            "_dom_classes": [],
            "_model_module": "@jupyter-widgets/controls",
            "_model_module_version": "1.5.0",
            "_model_name": "HTMLModel",
            "_view_count": null,
            "_view_module": "@jupyter-widgets/controls",
            "_view_module_version": "1.5.0",
            "_view_name": "HTMLView",
            "description": "",
            "description_tooltip": null,
            "layout": "IPY_MODEL_4bcc9ac29a9048de8849cdb6116b673d",
            "placeholder": "​",
            "style": "IPY_MODEL_da81fbcfe213410cb235728dd4a2dcd2",
            "value": " 1.12G/1.12G [00:07&lt;00:00, 44.5MB/s]"
          }
        },
        "63f95047ac524bc88cf5bf0f4118b031": {
          "model_module": "@jupyter-widgets/base",
          "model_name": "LayoutModel",
          "model_module_version": "1.2.0",
          "state": {
            "_model_module": "@jupyter-widgets/base",
            "_model_module_version": "1.2.0",
            "_model_name": "LayoutModel",
            "_view_count": null,
            "_view_module": "@jupyter-widgets/base",
            "_view_module_version": "1.2.0",
            "_view_name": "LayoutView",
            "align_content": null,
            "align_items": null,
            "align_self": null,
            "border": null,
            "bottom": null,
            "display": null,
            "flex": null,
            "flex_flow": null,
            "grid_area": null,
            "grid_auto_columns": null,
            "grid_auto_flow": null,
            "grid_auto_rows": null,
            "grid_column": null,
            "grid_gap": null,
            "grid_row": null,
            "grid_template_areas": null,
            "grid_template_columns": null,
            "grid_template_rows": null,
            "height": null,
            "justify_content": null,
            "justify_items": null,
            "left": null,
            "margin": null,
            "max_height": null,
            "max_width": null,
            "min_height": null,
            "min_width": null,
            "object_fit": null,
            "object_position": null,
            "order": null,
            "overflow": null,
            "overflow_x": null,
            "overflow_y": null,
            "padding": null,
            "right": null,
            "top": null,
            "visibility": null,
            "width": null
          }
        },
        "87fc76b8bd3045a981d0c006aa49def7": {
          "model_module": "@jupyter-widgets/base",
          "model_name": "LayoutModel",
          "model_module_version": "1.2.0",
          "state": {
            "_model_module": "@jupyter-widgets/base",
            "_model_module_version": "1.2.0",
            "_model_name": "LayoutModel",
            "_view_count": null,
            "_view_module": "@jupyter-widgets/base",
            "_view_module_version": "1.2.0",
            "_view_name": "LayoutView",
            "align_content": null,
            "align_items": null,
            "align_self": null,
            "border": null,
            "bottom": null,
            "display": null,
            "flex": null,
            "flex_flow": null,
            "grid_area": null,
            "grid_auto_columns": null,
            "grid_auto_flow": null,
            "grid_auto_rows": null,
            "grid_column": null,
            "grid_gap": null,
            "grid_row": null,
            "grid_template_areas": null,
            "grid_template_columns": null,
            "grid_template_rows": null,
            "height": null,
            "justify_content": null,
            "justify_items": null,
            "left": null,
            "margin": null,
            "max_height": null,
            "max_width": null,
            "min_height": null,
            "min_width": null,
            "object_fit": null,
            "object_position": null,
            "order": null,
            "overflow": null,
            "overflow_x": null,
            "overflow_y": null,
            "padding": null,
            "right": null,
            "top": null,
            "visibility": null,
            "width": null
          }
        },
        "149f6223f76c426c8c6f99fffda2186a": {
          "model_module": "@jupyter-widgets/controls",
          "model_name": "DescriptionStyleModel",
          "model_module_version": "1.5.0",
          "state": {
            "_model_module": "@jupyter-widgets/controls",
            "_model_module_version": "1.5.0",
            "_model_name": "DescriptionStyleModel",
            "_view_count": null,
            "_view_module": "@jupyter-widgets/base",
            "_view_module_version": "1.2.0",
            "_view_name": "StyleView",
            "description_width": ""
          }
        },
        "42562248a47449f488f8608dba8ec352": {
          "model_module": "@jupyter-widgets/base",
          "model_name": "LayoutModel",
          "model_module_version": "1.2.0",
          "state": {
            "_model_module": "@jupyter-widgets/base",
            "_model_module_version": "1.2.0",
            "_model_name": "LayoutModel",
            "_view_count": null,
            "_view_module": "@jupyter-widgets/base",
            "_view_module_version": "1.2.0",
            "_view_name": "LayoutView",
            "align_content": null,
            "align_items": null,
            "align_self": null,
            "border": null,
            "bottom": null,
            "display": null,
            "flex": null,
            "flex_flow": null,
            "grid_area": null,
            "grid_auto_columns": null,
            "grid_auto_flow": null,
            "grid_auto_rows": null,
            "grid_column": null,
            "grid_gap": null,
            "grid_row": null,
            "grid_template_areas": null,
            "grid_template_columns": null,
            "grid_template_rows": null,
            "height": null,
            "justify_content": null,
            "justify_items": null,
            "left": null,
            "margin": null,
            "max_height": null,
            "max_width": null,
            "min_height": null,
            "min_width": null,
            "object_fit": null,
            "object_position": null,
            "order": null,
            "overflow": null,
            "overflow_x": null,
            "overflow_y": null,
            "padding": null,
            "right": null,
            "top": null,
            "visibility": null,
            "width": null
          }
        },
        "e9ed78a8599a40c09305709be29ef46c": {
          "model_module": "@jupyter-widgets/controls",
          "model_name": "ProgressStyleModel",
          "model_module_version": "1.5.0",
          "state": {
            "_model_module": "@jupyter-widgets/controls",
            "_model_module_version": "1.5.0",
            "_model_name": "ProgressStyleModel",
            "_view_count": null,
            "_view_module": "@jupyter-widgets/base",
            "_view_module_version": "1.2.0",
            "_view_name": "StyleView",
            "bar_color": null,
            "description_width": ""
          }
        },
        "4bcc9ac29a9048de8849cdb6116b673d": {
          "model_module": "@jupyter-widgets/base",
          "model_name": "LayoutModel",
          "model_module_version": "1.2.0",
          "state": {
            "_model_module": "@jupyter-widgets/base",
            "_model_module_version": "1.2.0",
            "_model_name": "LayoutModel",
            "_view_count": null,
            "_view_module": "@jupyter-widgets/base",
            "_view_module_version": "1.2.0",
            "_view_name": "LayoutView",
            "align_content": null,
            "align_items": null,
            "align_self": null,
            "border": null,
            "bottom": null,
            "display": null,
            "flex": null,
            "flex_flow": null,
            "grid_area": null,
            "grid_auto_columns": null,
            "grid_auto_flow": null,
            "grid_auto_rows": null,
            "grid_column": null,
            "grid_gap": null,
            "grid_row": null,
            "grid_template_areas": null,
            "grid_template_columns": null,
            "grid_template_rows": null,
            "height": null,
            "justify_content": null,
            "justify_items": null,
            "left": null,
            "margin": null,
            "max_height": null,
            "max_width": null,
            "min_height": null,
            "min_width": null,
            "object_fit": null,
            "object_position": null,
            "order": null,
            "overflow": null,
            "overflow_x": null,
            "overflow_y": null,
            "padding": null,
            "right": null,
            "top": null,
            "visibility": null,
            "width": null
          }
        },
        "da81fbcfe213410cb235728dd4a2dcd2": {
          "model_module": "@jupyter-widgets/controls",
          "model_name": "DescriptionStyleModel",
          "model_module_version": "1.5.0",
          "state": {
            "_model_module": "@jupyter-widgets/controls",
            "_model_module_version": "1.5.0",
            "_model_name": "DescriptionStyleModel",
            "_view_count": null,
            "_view_module": "@jupyter-widgets/base",
            "_view_module_version": "1.2.0",
            "_view_name": "StyleView",
            "description_width": ""
          }
        }
      }
    }
  },
  "cells": [
    {
      "cell_type": "markdown",
      "metadata": {
        "id": "BgS-EgL81qsw"
      },
      "source": [
        "# XLMR for crosslinual word in context sense disambiguation"
      ]
    },
    {
      "cell_type": "markdown",
      "metadata": {
        "id": "OTBUUoo196ER"
      },
      "source": [
        "## 1.1 XLMR\n",
        "[XLM-RoBERTa](https://arxiv.org/abs/1911.02116) is a multilingual model trained on 100 different languages. It is based on RoBERTa: [A Robustly Optimized BERT Pretraining Approach](https://arxiv.org/abs/1907.11692).\n",
        "\n",
        "![](https://miro.medium.com/max/4800/1*2W7USnAt7tBVFb6IVqgzlA.png)"
      ]
    },
    {
      "cell_type": "markdown",
      "metadata": {
        "id": "qtYx4tciG9mc"
      },
      "source": [
        "**XLMR vs BERT**\n",
        "- Multilingual training dataset (100 languages)\n",
        "- Multilingual tokenizer\n",
        "- No \"Next Sentence Prediction\" loss\n",
        "- Larger batch_size\n",
        "- etc."
      ]
    },
    {
      "cell_type": "markdown",
      "metadata": {
        "id": "1hcvPmvXeFZ8"
      },
      "source": [
        "## 1.2 SemEval2021\n",
        "**SemEval2021** task2: to distinguish whether the meanings of a target word in two provided contexts are the same or not.\n",
        "\n",
        "- Click with a ***mouse*** on the shortcut\n",
        "\n",
        "- A ***mouse*** ate the cheese\n",
        "\n",
        "Also there are crosslingual sentece pairs."
      ]
    },
    {
      "cell_type": "markdown",
      "metadata": {
        "id": "XeF0HrHAAcgk"
      },
      "source": [
        "## 1.3 All necessery imports"
      ]
    },
    {
      "cell_type": "code",
      "source": [
        "import warnings\n",
        "warnings.filterwarnings(\"ignore\")"
      ],
      "metadata": {
        "id": "AhdA9WXiEJ97"
      },
      "execution_count": 2,
      "outputs": []
    },
    {
      "cell_type": "code",
      "source": [
        "#!pip install sentencepiece\n",
        "#!pip install bitarray\n",
        "#!pip install hydra-core\n",
        "#!pip install sacrebleu\n",
        "#!pip install editdistance\n",
        "\n"
      ],
      "metadata": {
        "id": "6TtISzelYzPs",
        "colab": {
          "base_uri": "https://localhost:8080/"
        },
        "outputId": "f91782ec-0a58-4002-bf14-546c6e349408"
      },
      "execution_count": null,
      "outputs": [
        {
          "output_type": "stream",
          "name": "stdout",
          "text": [
            "Requirement already satisfied: sentencepiece in /usr/local/lib/python3.11/dist-packages (0.2.0)\n",
            "Requirement already satisfied: bitarray in /usr/local/lib/python3.11/dist-packages (3.3.1)\n",
            "Requirement already satisfied: hydra-core in /usr/local/lib/python3.11/dist-packages (1.3.2)\n",
            "Requirement already satisfied: omegaconf<2.4,>=2.2 in /usr/local/lib/python3.11/dist-packages (from hydra-core) (2.3.0)\n",
            "Requirement already satisfied: antlr4-python3-runtime==4.9.* in /usr/local/lib/python3.11/dist-packages (from hydra-core) (4.9.3)\n",
            "Requirement already satisfied: packaging in /usr/local/lib/python3.11/dist-packages (from hydra-core) (24.2)\n",
            "Requirement already satisfied: PyYAML>=5.1.0 in /usr/local/lib/python3.11/dist-packages (from omegaconf<2.4,>=2.2->hydra-core) (6.0.2)\n"
          ]
        }
      ]
    },
    {
      "cell_type": "code",
      "source": [
        "import json\n",
        "import numpy as np\n",
        "import torch\n",
        "import torch\n",
        "import torch.nn as nn\n",
        "from sklearn.manifold import TSNE\n",
        "from sklearn.decomposition import PCA\n",
        "from difflib import SequenceMatcher\n",
        "from sklearn.metrics import roc_auc_score\n",
        "from tqdm import tqdm\n",
        "import matplotlib.pyplot as plt\n",
        "%matplotlib inline\n",
        "from IPython.display import clear_output"
      ],
      "metadata": {
        "id": "f_Zsm9gmZErb"
      },
      "execution_count": 3,
      "outputs": []
    },
    {
      "cell_type": "code",
      "metadata": {
        "colab": {
          "base_uri": "https://localhost:8080/",
          "height": 233,
          "referenced_widgets": [
            "8cb586ef62834acc9bc0bfe82715a954",
            "fb73f3faa4f54c18b93d75c94539dc80",
            "1e50af5ae97341e783ffd05005dc4cd8",
            "d5ac91f948e040138b07b5c21f9c2b4f",
            "07cacdc366e64aa9b8aa66a1b9c0d97d",
            "0b6cb1f92c23464d92e2c3b0c4429f93",
            "8b2f0d4aca44493ca2dff0881c46e77f",
            "22a2e2cc478a4152acb2f5a5a7b977df",
            "b91be3b5fb624f51a24718f6b68bf5c5",
            "45a1562f311c48898792ef34c5aa7bcc",
            "6dc0a9fd2b3b44b284cb53da6000c32f",
            "20047c95c30a416280c776ab71db63b1",
            "495d2507f6c449dda457e2dd7ab8fe5a",
            "a0b63a559cb247bf8e4bed1bc017221d",
            "d39ee5af64154d5b8de1173571193c36",
            "403680a41e0546b4bdc71a3fe12fbb5f",
            "dad07e5cc1d34ac9af862509cfe60d8b",
            "9f88575f801146318ee0cc495aca20c2",
            "eaad0474c7a24ac7a534a6d25de4b623",
            "eed798469f8d487da723304cc3c3e815",
            "f0b971bcf11848f0b4cfc4189d07fd70",
            "11a03bda859547bdba1cccf1d01dea70",
            "79081d03c51b4403add428fd0fda64e0",
            "994d6c1c437d4f079d6d590c14990877",
            "20515cb60cae4f02b5eba81d54d75697",
            "a5d265e1fa5a4600bdefb9aae8c80175",
            "abb7a0c066bc4d8e8dc74c07f7a5cb1f",
            "70f0a04fe2bb406291eaedb80f530e4e",
            "64b6293003c6431a8f0fda4548cc829d",
            "a9e3e99797fe4706a1b8cf069ffdb1d2",
            "e13258059bdf44869ff2739fad7be6ee",
            "41dfe8d31adc4ed69289dda5049a9ea9",
            "4dd9caa805c440b2a7119c9ed5afc313",
            "1f180dcb4112419b85c4821e2bd28637",
            "f0c66c08a4a14e40820a1b8e7b4a9c6f",
            "65a0f4e440c84a0a91733b5b2289eb57",
            "a093bf7119944b93b87941adad1ec32c",
            "dd02cfff9efe4067b1535cc8a5b9e890",
            "60ae2aec95c8499ba3997d6bd50df300",
            "d5a203a3410a46f780967e1d65a2ddc1",
            "66482c2ac4914403959c3cf0a0d590c7",
            "900c40bf05f8485eba4c257ad1e144d6",
            "84abbc3d3d974c429ac0d6199a45fb45",
            "bc3f5220d5a948e28d00f4eb002f9860",
            "a2576b2595f74c5e88f8c15ca6a306a6",
            "9e52742781e74cdfbe07514b92f4cc74",
            "28dbb2bb2ae24158a54f16f97a45deeb",
            "8b1d90b5bc594511b25d6597d94a4f2e",
            "63f95047ac524bc88cf5bf0f4118b031",
            "87fc76b8bd3045a981d0c006aa49def7",
            "149f6223f76c426c8c6f99fffda2186a",
            "42562248a47449f488f8608dba8ec352",
            "e9ed78a8599a40c09305709be29ef46c",
            "4bcc9ac29a9048de8849cdb6116b673d",
            "da81fbcfe213410cb235728dd4a2dcd2"
          ]
        },
        "id": "rs8qN58uLRJ9",
        "outputId": "049b81f2-cc41-4036-d4c5-27eff156269b"
      },
      "source": [
        "# Загружаем XLM-R (базовая версия)\n",
        "from transformers import AutoTokenizer, AutoModel\n",
        "tokenizer = AutoTokenizer.from_pretrained(\"xlm-roberta-base\")\n",
        "model = AutoModel.from_pretrained(\"xlm-roberta-base\").eval().cuda()"
      ],
      "execution_count": 4,
      "outputs": [
        {
          "output_type": "display_data",
          "data": {
            "text/plain": [
              "tokenizer_config.json:   0%|          | 0.00/25.0 [00:00<?, ?B/s]"
            ],
            "application/vnd.jupyter.widget-view+json": {
              "version_major": 2,
              "version_minor": 0,
              "model_id": "8cb586ef62834acc9bc0bfe82715a954"
            }
          },
          "metadata": {}
        },
        {
          "output_type": "display_data",
          "data": {
            "text/plain": [
              "config.json:   0%|          | 0.00/615 [00:00<?, ?B/s]"
            ],
            "application/vnd.jupyter.widget-view+json": {
              "version_major": 2,
              "version_minor": 0,
              "model_id": "20047c95c30a416280c776ab71db63b1"
            }
          },
          "metadata": {}
        },
        {
          "output_type": "display_data",
          "data": {
            "text/plain": [
              "sentencepiece.bpe.model:   0%|          | 0.00/5.07M [00:00<?, ?B/s]"
            ],
            "application/vnd.jupyter.widget-view+json": {
              "version_major": 2,
              "version_minor": 0,
              "model_id": "79081d03c51b4403add428fd0fda64e0"
            }
          },
          "metadata": {}
        },
        {
          "output_type": "display_data",
          "data": {
            "text/plain": [
              "tokenizer.json:   0%|          | 0.00/9.10M [00:00<?, ?B/s]"
            ],
            "application/vnd.jupyter.widget-view+json": {
              "version_major": 2,
              "version_minor": 0,
              "model_id": "1f180dcb4112419b85c4821e2bd28637"
            }
          },
          "metadata": {}
        },
        {
          "output_type": "stream",
          "name": "stderr",
          "text": [
            "Xet Storage is enabled for this repo, but the 'hf_xet' package is not installed. Falling back to regular HTTP download. For better performance, install the package with: `pip install huggingface_hub[hf_xet]` or `pip install hf_xet`\n",
            "WARNING:huggingface_hub.file_download:Xet Storage is enabled for this repo, but the 'hf_xet' package is not installed. Falling back to regular HTTP download. For better performance, install the package with: `pip install huggingface_hub[hf_xet]` or `pip install hf_xet`\n"
          ]
        },
        {
          "output_type": "display_data",
          "data": {
            "text/plain": [
              "model.safetensors:   0%|          | 0.00/1.12G [00:00<?, ?B/s]"
            ],
            "application/vnd.jupyter.widget-view+json": {
              "version_major": 2,
              "version_minor": 0,
              "model_id": "a2576b2595f74c5e88f8c15ca6a306a6"
            }
          },
          "metadata": {}
        }
      ]
    },
    {
      "cell_type": "markdown",
      "metadata": {
        "id": "K-551J8I2IlK"
      },
      "source": [
        "## 1.4 Downloading and preparing the datasets for Semeval 2021 competition"
      ]
    },
    {
      "cell_type": "code",
      "metadata": {
        "id": "hkuVPV5i1nON",
        "colab": {
          "base_uri": "https://localhost:8080/"
        },
        "outputId": "b56f052e-4daa-498c-9fed-2250a9392fcb"
      },
      "source": [
        "!git clone https://github.com/SapienzaNLP/mcl-wic.git\n",
        "!unzip mcl-wic/SemEval-2021_MCL-WiC_all-datasets.zip\n",
        "!unzip mcl-wic/SemEval-2021_MCL-WiC_trial.zip\n",
        "!unzip mcl-wic/SemEval-2021_MCL-WiC_test-gold-data.zip"
      ],
      "execution_count": 5,
      "outputs": [
        {
          "output_type": "stream",
          "name": "stdout",
          "text": [
            "Cloning into 'mcl-wic'...\n",
            "remote: Enumerating objects: 226, done.\u001b[K\n",
            "remote: Counting objects: 100% (130/130), done.\u001b[K\n",
            "remote: Compressing objects: 100% (65/65), done.\u001b[K\n",
            "remote: Total 226 (delta 65), reused 130 (delta 65), pack-reused 96 (from 1)\u001b[K\n",
            "Receiving objects: 100% (226/226), 8.24 MiB | 17.25 MiB/s, done.\n",
            "Resolving deltas: 100% (92/92), done.\n",
            "Archive:  mcl-wic/SemEval-2021_MCL-WiC_all-datasets.zip\n",
            "   creating: MCL-WiC/\n",
            "   creating: MCL-WiC/training/\n",
            "  inflating: MCL-WiC/training/training.en-en.data  \n",
            "  inflating: MCL-WiC/training/training.en-en.gold  \n",
            "  inflating: MCL-WiC/README.txt      \n",
            "   creating: MCL-WiC/test/\n",
            "   creating: MCL-WiC/test/crosslingual/\n",
            "  inflating: MCL-WiC/test/crosslingual/test.en-ar.data  \n",
            "  inflating: MCL-WiC/test/crosslingual/test.en-zh.data  \n",
            "  inflating: MCL-WiC/test/crosslingual/test.en-ru.data  \n",
            "  inflating: MCL-WiC/test/crosslingual/test.en-fr.data  \n",
            "   creating: MCL-WiC/test/multilingual/\n",
            "  inflating: MCL-WiC/test/multilingual/test.fr-fr.data  \n",
            "  inflating: MCL-WiC/test/multilingual/test.en-en.data  \n",
            "  inflating: MCL-WiC/test/multilingual/test.ar-ar.data  \n",
            "  inflating: MCL-WiC/test/multilingual/test.ru-ru.data  \n",
            "  inflating: MCL-WiC/test/multilingual/test.zh-zh.data  \n",
            "   creating: MCL-WiC/dev/\n",
            "   creating: MCL-WiC/dev/multilingual/\n",
            "  inflating: MCL-WiC/dev/multilingual/dev.zh-zh.gold  \n",
            "  inflating: MCL-WiC/dev/multilingual/dev.en-en.gold  \n",
            "  inflating: MCL-WiC/dev/multilingual/dev.ar-ar.gold  \n",
            "  inflating: MCL-WiC/dev/multilingual/dev.zh-zh.data  \n",
            "  inflating: MCL-WiC/dev/multilingual/dev.ru-ru.gold  \n",
            "  inflating: MCL-WiC/dev/multilingual/dev.fr-fr.gold  \n",
            "  inflating: MCL-WiC/dev/multilingual/dev.ru-ru.data  \n",
            "  inflating: MCL-WiC/dev/multilingual/dev.fr-fr.data  \n",
            "  inflating: MCL-WiC/dev/multilingual/dev.ar-ar.data  \n",
            "  inflating: MCL-WiC/dev/multilingual/dev.en-en.data  \n",
            "  inflating: MCL-WiC/LICENSE.txt     \n",
            "Archive:  mcl-wic/SemEval-2021_MCL-WiC_trial.zip\n",
            "   creating: trial/\n",
            "   creating: trial/crosslingual/\n",
            "  inflating: trial/crosslingual/trial.en-fr.data  \n",
            "  inflating: trial/crosslingual/trial.en-ar.gold  \n",
            "  inflating: trial/crosslingual/trial.en-zh.gold  \n",
            "  inflating: trial/crosslingual/trial.en-fr.gold  \n",
            "  inflating: trial/crosslingual/trial.en-ru.gold  \n",
            "  inflating: trial/crosslingual/trial.en-ar.data  \n",
            "  inflating: trial/crosslingual/trial.en-ru.data  \n",
            "  inflating: trial/crosslingual/trial.en-zh.data  \n",
            "   creating: trial/multilingual/\n",
            "  inflating: trial/multilingual/trial.en-en.data  \n",
            "  inflating: trial/multilingual/trial.zh-zh.gold  \n",
            "  inflating: trial/multilingual/trial.ar-ar.data  \n",
            "  inflating: trial/multilingual/trial.en-en.gold  \n",
            "  inflating: trial/multilingual/trial.fr-fr.data  \n",
            "  inflating: trial/multilingual/trial.ru-ru.gold  \n",
            "  inflating: trial/multilingual/trial.fr-fr.gold  \n",
            "  inflating: trial/multilingual/trial.ru-ru.data  \n",
            "  inflating: trial/multilingual/trial.zh-zh.data  \n",
            "  inflating: trial/multilingual/trial.ar-ar.gold  \n",
            "Archive:  mcl-wic/SemEval-2021_MCL-WiC_test-gold-data.zip\n",
            "  inflating: test.ar-ar.gold         \n",
            "  inflating: test.en-ar.gold         \n",
            "  inflating: test.en-en.gold         \n",
            "  inflating: test.en-fr.gold         \n",
            "  inflating: test.en-ru.gold         \n",
            "  inflating: test.en-zh.gold         \n",
            "  inflating: test.fr-fr.gold         \n",
            "  inflating: test.ru-ru.gold         \n",
            "  inflating: test.zh-zh.gold         \n"
          ]
        }
      ]
    },
    {
      "cell_type": "code",
      "metadata": {
        "id": "oVg2u3t9YZDA"
      },
      "source": [
        "# English-English train (8k)\n",
        "with open(\"./MCL-WiC/training/training.en-en.data\") as f:\n",
        "    train_x = json.load(f)\n",
        "with open(\"./MCL-WiC/training/training.en-en.gold\") as f:\n",
        "    train_y = json.load(f)"
      ],
      "execution_count": 21,
      "outputs": []
    },
    {
      "cell_type": "code",
      "metadata": {
        "id": "A6mgaQNcCMYr"
      },
      "source": [
        "# English-English dev (1k)\n",
        "with open(\"./MCL-WiC/dev/multilingual/dev.en-en.data\") as f:\n",
        "    dev_enen_x = json.load(f)\n",
        "with open(\"./MCL-WiC/dev/multilingual/dev.en-en.gold\") as f:\n",
        "    dev_enen_y = json.load(f)"
      ],
      "execution_count": 22,
      "outputs": []
    },
    {
      "cell_type": "code",
      "metadata": {
        "id": "MUSvnV7DCd3c"
      },
      "source": [
        "# Russian-Russian test (1k)\n",
        "with open(\"./MCL-WiC/test/multilingual/test.ru-ru.data\") as f:\n",
        "    test_ruru_x = json.load(f)\n",
        "with open(\"test.ru-ru.gold\") as f:\n",
        "    test_ruru_y = json.load(f)"
      ],
      "execution_count": 23,
      "outputs": []
    },
    {
      "cell_type": "code",
      "metadata": {
        "id": "6zrtz7tlDp00"
      },
      "source": [
        "# English-Russian test (1k)\n",
        "with open(\"./MCL-WiC/test/crosslingual/test.en-ru.data\") as f:\n",
        "    test_enru_x = json.load(f)\n",
        "with open(\"test.en-ru.gold\") as f:\n",
        "    test_enru_y = json.load(f)"
      ],
      "execution_count": 24,
      "outputs": []
    },
    {
      "cell_type": "code",
      "source": [
        "test_enru_x[0]"
      ],
      "metadata": {
        "id": "u_j0ZiA4yBFx",
        "colab": {
          "base_uri": "https://localhost:8080/"
        },
        "outputId": "1dbbbc0b-fb4a-40e6-da84-a6842cf38d6a"
      },
      "execution_count": 10,
      "outputs": [
        {
          "output_type": "execute_result",
          "data": {
            "text/plain": [
              "{'id': 'test.en-ru.0',\n",
              " 'lemma': 'gently',\n",
              " 'pos': 'ADV',\n",
              " 'sentence1': \"Unfortunately, that pressure seemed to have had some effect, and the Islamic Republic of Iran had been treated more gently in the 2008 Chairman's working paper.\",\n",
              " 'sentence2': 'На протяжении этого десятилетия цены на сырьевые товары в реальном выражении характеризовались в целом умеренной повышательной тенденцией.',\n",
              " 'ranges1': '116-122',\n",
              " 'ranges2': '103-112'}"
            ]
          },
          "metadata": {},
          "execution_count": 10
        }
      ]
    },
    {
      "cell_type": "code",
      "source": [
        "test_enru_x[0]['sentence1'][116:122]"
      ],
      "metadata": {
        "id": "BsCu8DiNCnyS",
        "colab": {
          "base_uri": "https://localhost:8080/",
          "height": 35
        },
        "outputId": "8c905777-8170-4495-ccda-376eafe40f0f"
      },
      "execution_count": 25,
      "outputs": [
        {
          "output_type": "execute_result",
          "data": {
            "text/plain": [
              "'gently'"
            ],
            "application/vnd.google.colaboratory.intrinsic+json": {
              "type": "string"
            }
          },
          "metadata": {},
          "execution_count": 25
        }
      ]
    },
    {
      "cell_type": "code",
      "source": [
        "test_enru_x[0]['sentence2'][103:1112]"
      ],
      "metadata": {
        "id": "G2gef-1WCsbL",
        "colab": {
          "base_uri": "https://localhost:8080/",
          "height": 35
        },
        "outputId": "82575624-3fe3-4ced-be77-2119ae69aa08"
      },
      "execution_count": 26,
      "outputs": [
        {
          "output_type": "execute_result",
          "data": {
            "text/plain": [
              "'умеренной повышательной тенденцией.'"
            ],
            "application/vnd.google.colaboratory.intrinsic+json": {
              "type": "string"
            }
          },
          "metadata": {},
          "execution_count": 26
        }
      ]
    },
    {
      "cell_type": "code",
      "metadata": {
        "id": "N-OMmYA_6NP7",
        "colab": {
          "base_uri": "https://localhost:8080/"
        },
        "outputId": "3b93d023-8aba-4305-f687-13e6fa48750c"
      },
      "source": [
        "test_enru_y[0]"
      ],
      "execution_count": 13,
      "outputs": [
        {
          "output_type": "execute_result",
          "data": {
            "text/plain": [
              "{'id': 'test.en-ru.0', 'tag': 'F'}"
            ]
          },
          "metadata": {},
          "execution_count": 13
        }
      ]
    },
    {
      "cell_type": "code",
      "source": [
        "test_ruru_x[0]"
      ],
      "metadata": {
        "id": "y4SrcpB8C4MA",
        "colab": {
          "base_uri": "https://localhost:8080/"
        },
        "outputId": "2d828a5e-64d8-4895-bb46-90bcf59ce4d3"
      },
      "execution_count": 27,
      "outputs": [
        {
          "output_type": "execute_result",
          "data": {
            "text/plain": [
              "{'id': 'test.ru-ru.0',\n",
              " 'lemma': 'приглашение',\n",
              " 'pos': 'NOUN',\n",
              " 'sentence1': 'Автор утверждает, что не имеет средств для приглашения для этой цели адвоката и что в любом случае такая апелляция бесполезна.',\n",
              " 'sentence2': 'Эта миссия была осуществлена по приглашению правительства Нигерии вследствие получения МОТ после 1994 года двух жалоб по поводу ареста ряда профсоюзных деятелей и принятия указов в нарушение принципов свободы ассоциации и права на организацию профсоюзов.',\n",
              " 'start1': '43',\n",
              " 'end1': '54',\n",
              " 'start2': '32',\n",
              " 'end2': '43'}"
            ]
          },
          "metadata": {},
          "execution_count": 27
        }
      ]
    },
    {
      "cell_type": "code",
      "source": [
        "test_ruru_x[0]['sentence1'][43:54]"
      ],
      "metadata": {
        "id": "fCd0tXXeGwSs",
        "colab": {
          "base_uri": "https://localhost:8080/",
          "height": 35
        },
        "outputId": "7428d280-25ab-48cf-e0d7-a9a0d8fccb52"
      },
      "execution_count": 28,
      "outputs": [
        {
          "output_type": "execute_result",
          "data": {
            "text/plain": [
              "'приглашения'"
            ],
            "application/vnd.google.colaboratory.intrinsic+json": {
              "type": "string"
            }
          },
          "metadata": {},
          "execution_count": 28
        }
      ]
    },
    {
      "cell_type": "code",
      "source": [
        "test_ruru_x[0]['sentence2'][32:43]"
      ],
      "metadata": {
        "id": "Imf1opEqG01i",
        "colab": {
          "base_uri": "https://localhost:8080/",
          "height": 35
        },
        "outputId": "fec53de1-7552-40da-f85f-0961b71c8976"
      },
      "execution_count": 29,
      "outputs": [
        {
          "output_type": "execute_result",
          "data": {
            "text/plain": [
              "'приглашению'"
            ],
            "application/vnd.google.colaboratory.intrinsic+json": {
              "type": "string"
            }
          },
          "metadata": {},
          "execution_count": 29
        }
      ]
    },
    {
      "cell_type": "code",
      "source": [
        "test_ruru_y[0]"
      ],
      "metadata": {
        "id": "3Mqj1JrCG6NW",
        "colab": {
          "base_uri": "https://localhost:8080/"
        },
        "outputId": "cf65ed16-8647-4fec-d2fd-ff7c739863b9"
      },
      "execution_count": 17,
      "outputs": [
        {
          "output_type": "execute_result",
          "data": {
            "text/plain": [
              "{'id': 'test.ru-ru.0', 'tag': 'F'}"
            ]
          },
          "metadata": {},
          "execution_count": 17
        }
      ]
    },
    {
      "cell_type": "markdown",
      "metadata": {
        "id": "XGr86wrRHHUB"
      },
      "source": [
        "## 2.1 The pipeline of our solution:\n",
        "1. Extract contextualized embeddings of target words (which meanings are needed to be disambiguated) with XLM-R.\n",
        "2. Aggregate theese two embeddings into one.\n",
        "3. Train a simple MLP on aggregated embeddings to clasify if the meanings of target words in the same meanings or not.\n",
        "4. Test.\n",
        "\n",
        "- For training we will use ONLY **English-English** sentence pairs from train 8k set.\n",
        "- For validation we will use **English-English** sentence pairs from 1k val set.\n",
        "- And finaly we will test the performance of our solution of the **Russian-Russian** and **English-Russian** crosslingual sentence pairs from test 1k set.\n"
      ]
    },
    {
      "cell_type": "markdown",
      "metadata": {
        "id": "TdWLL_mlJeVO"
      },
      "source": [
        "##2.2 Extracting the contextualized embeddings of the target words.\n",
        "\n",
        "1. XLM-R produces embeddings (feature vectors) for every input token. As it uses [BPE](https://en.wikipedia.org/wiki/Byte_pair_encoding) encoding there is no one-to-one correspondens between tokens and words. That is why we need to find the positions of tokens in the tokenized sentence corresponding to the target word. For example, the sentence ***funniest*** => `[7477,93,525]`\n",
        "\n",
        "2. To use information from all subwords of the target word we use the average all embeddings corresponding to the subwords.\n",
        "\n",
        "3. It is a common practice to use not only the activations from the last layer of transformer (XLMR, BERT, etc.) but from the previous layer. We will use the sum of activations from the last two layers.\n",
        "\n",
        "4. To compare meanings of the target word in to contexts our model needs to see simultaniously two contextualized embeddings. That is why we need to aggregate them into one merged embedding. It can be done in several ways:\n",
        "    1. Concatenation\n",
        "    2. Difference\n",
        "    3. Summation\n",
        "    4. Element-wise multiplication\n",
        "    5. Absolute difference\n",
        "    6. etc.\n",
        "\n",
        "\n"
      ]
    },
    {
      "cell_type": "code",
      "source": [
        "from difflib import SequenceMatcher\n",
        "import numpy as np\n",
        "\n",
        "def similar(a, b):\n",
        "    \"\"\"Returns similarity ratio between two strings using SequenceMatcher\"\"\"\n",
        "    return SequenceMatcher(None, a, b).ratio()\n",
        "\n",
        "def find_sub_list(sl, l):\n",
        "    \"\"\"\n",
        "    Finds the start and end indices of sublist `sl` inside list `l`.\n",
        "    Example: find_sub_list([3, 4], [1, 2, 3, 4, 5]) -> (2, 3)\n",
        "    Returns None if the sublist is not found.\n",
        "    \"\"\"\n",
        "    sll = len(sl)\n",
        "    for ind in (i for i, e in enumerate(l) if e == sl[0]):  # iterate over matches of the first token\n",
        "        if l[ind:ind + sll] == sl:  # check if full sublist matches\n",
        "            return ind, ind + sll - 1\n",
        "    return None\n",
        "\n",
        "def get_token_ids_by_word(word, sentence, tokenizer):\n",
        "    \"\"\"\n",
        "    Returns the start and end token indices of the word (by lemma match)\n",
        "    in the tokenized version of the sentence, using a HuggingFace tokenizer.\n",
        "    \"\"\"\n",
        "    words = sentence.split()  # split sentence into words\n",
        "    sims = [similar(word, w) for w in words]  # compute similarity between target lemma and each word\n",
        "    top_ind = int(np.argmax(sims))  # find the most similar word index\n",
        "    top_word = words[top_ind]  # select the word with highest similarity\n",
        "\n",
        "    # Tokenize the full sentence and the best-matching word\n",
        "    sentence_tokens = tokenizer.tokenize(sentence)  # tokenized sentence (no special tokens)\n",
        "    word_tokens = tokenizer.tokenize(top_word)  # tokenized target word\n",
        "\n",
        "    # Find the token span of the word in the sentence\n",
        "    sublist_pos = find_sub_list(word_tokens, sentence_tokens)\n",
        "    if sublist_pos is None:\n",
        "        raise ValueError(f\"Can't find tokens {word_tokens} in {sentence_tokens}\")\n",
        "\n",
        "    # Add +1 because HuggingFace model outputs include a special <s> token at position 0\n",
        "    return sublist_pos[0] + 1, sublist_pos[1] + 1"
      ],
      "metadata": {
        "id": "-fmY9Sb9_fkM"
      },
      "execution_count": 30,
      "outputs": []
    },
    {
      "cell_type": "code",
      "source": [
        "def extract_embs(data_x, data_y):\n",
        "    embs = []  # list to store pairs of embeddings (for sentence1 and sentence2)\n",
        "    target = []  # list to store binary labels (0 or 1)\n",
        "\n",
        "    with torch.no_grad():  # disable gradient calculation for faster inference\n",
        "        for el_x, el_y in tqdm(zip(data_x, data_y)):  # loop over input and label pairs\n",
        "            s1 = el_x[\"sentence1\"]  # first version of the sentence\n",
        "            s2 = el_x[\"sentence2\"]  # second version of the sentence\n",
        "            y = torch.FloatTensor([int(el_y[\"tag\"] == \"T\")]).cuda()  # target label: 1 if tag is \"T\", else 0\n",
        "\n",
        "            # Get token start and end indices of the target lemma in each sentence\n",
        "            pos1 = get_token_ids_by_word(el_x[\"lemma\"], s1, tokenizer)\n",
        "            pos2 = get_token_ids_by_word(el_x[\"lemma\"], s2, tokenizer)\n",
        "\n",
        "            # --- Processing sentence 1 ---\n",
        "            inputs1 = tokenizer(s1, return_tensors=\"pt\", truncation=True).to(\"cuda\")  # tokenize and move to GPU\n",
        "            outputs1 = model(**inputs1, output_hidden_states=True)  # get model outputs with hidden states\n",
        "            hidden_states1 = outputs1.hidden_states  # list of 13 tensors: embeddings + 12 transformer layers\n",
        "            avg_hidden1 = (hidden_states1[-1] + hidden_states1[-2]) / 2  # average of last two layers\n",
        "            token_embs1 = avg_hidden1[0, pos1[0]:pos1[1]+1]  # extract embeddings of lemma tokens\n",
        "            last_layer_features1 = torch.mean(token_embs1, dim=0)  # average embeddings of the target word\n",
        "\n",
        "            # --- Processing sentence 2 ---\n",
        "            inputs2 = tokenizer(s2, return_tensors=\"pt\", truncation=True).to(\"cuda\")  # tokenize and move to GPU\n",
        "            outputs2 = model(**inputs2, output_hidden_states=True)  # get hidden states\n",
        "            hidden_states2 = outputs2.hidden_states\n",
        "            avg_hidden2 = (hidden_states2[-1] + hidden_states2[-2]) / 2  # average of last two layers\n",
        "            token_embs2 = avg_hidden2[0, pos2[0]:pos2[1]+1]  # extract lemma token embeddings\n",
        "            last_layer_features2 = torch.mean(token_embs2, dim=0)  # average embeddings of the target word\n",
        "\n",
        "            # Append embeddings and label to the result lists\n",
        "            embs.append([last_layer_features1, last_layer_features2])\n",
        "            target.append(y)\n",
        "\n",
        "    return embs, target  # return list of embedding pairs and their corresponding labels"
      ],
      "metadata": {
        "id": "28XCSvfk-3av"
      },
      "execution_count": 31,
      "outputs": []
    },
    {
      "cell_type": "code",
      "metadata": {
        "id": "4CnNbDNEMXGi",
        "colab": {
          "base_uri": "https://localhost:8080/"
        },
        "outputId": "1d1c9f3c-2a4a-45e8-9b1b-c1ad025d9262"
      },
      "source": [
        "embs_train, target_train = extract_embs(train_x,train_y) # 8k en-en\n",
        "embs_val, target_val = extract_embs(dev_enen_x,dev_enen_y) # 1k ru-ru\n",
        "embs_test_ruru, target_test_ruru = extract_embs(test_ruru_x,test_ruru_y) # 1k ru-ru\n",
        "embs_test_enru, target_test_enru = extract_embs(test_enru_x,test_enru_y) # 1k en-ru"
      ],
      "execution_count": 32,
      "outputs": [
        {
          "output_type": "stream",
          "name": "stderr",
          "text": [
            "8000it [02:55, 45.64it/s]\n",
            "1000it [00:22, 43.51it/s]\n",
            "1000it [00:21, 47.09it/s]\n",
            "1000it [00:20, 48.80it/s]\n"
          ]
        }
      ]
    },
    {
      "cell_type": "markdown",
      "metadata": {
        "id": "e3570SeSUh3P"
      },
      "source": [
        "## 2.3 Visualisation of XLMR contextualized word embeddings"
      ]
    },
    {
      "cell_type": "code",
      "metadata": {
        "id": "nf2XW6FoUrYr"
      },
      "source": [
        "X_ru = [embs[0].cpu().numpy() for embs, label in zip(embs_test_enru,target_test_enru) if label]\n",
        "X_en = [embs[1].cpu().numpy() for embs, label in zip(embs_test_enru,target_test_enru) if label]\n",
        "\n",
        "pca = PCA(n_components=2)\n",
        "X_2D_en = pca.fit_transform(X_en)\n",
        "X_2D_ru = pca.transform(X_ru)\n"
      ],
      "execution_count": null,
      "outputs": []
    },
    {
      "cell_type": "code",
      "metadata": {
        "id": "KIGGpwHYjjXp",
        "colab": {
          "base_uri": "https://localhost:8080/",
          "height": 542
        },
        "outputId": "75af18ee-accd-42a1-e90d-f355bfcbcc99"
      },
      "source": [
        "texts_en = [\"[\"+tmp[\"lemma\"].upper() + \"]\\t\" + tmp[\"sentence1\"] for tmp in test_enru_x]\n",
        "texts_ru = [\"[\"+tmp[\"lemma\"].upper() + \"]\\t\" + tmp[\"sentence2\"] for tmp in test_enru_x]\n",
        "\n",
        "\n",
        "from plotly.subplots import make_subplots\n",
        "import plotly.graph_objs as go\n",
        "\n",
        "points_ru = go.Scatter(\n",
        "    x = X_2D_ru[:, 0],\n",
        "    y = X_2D_ru[:, 1],\n",
        "    name = 'Russian',\n",
        "    mode = 'markers',\n",
        "    text = [t[:100] for t in texts_ru],\n",
        ")\n",
        "\n",
        "points_en = go.Scatter(\n",
        "    x = X_2D_en[:, 0],\n",
        "    y = X_2D_en[:, 1],\n",
        "    name = 'English',\n",
        "    mode = 'markers',\n",
        "    text = [t[:100] for t in texts_en],\n",
        ")\n",
        "\n",
        "fig = make_subplots(rows=1, cols=1)\n",
        "fig.add_trace(points_ru, row=1, col=1)\n",
        "fig.add_trace(points_en, row=1, col=1)\n",
        "\n",
        "fig.show(renderer=\"colab\")"
      ],
      "execution_count": null,
      "outputs": [
        {
          "output_type": "display_data",
          "data": {
            "text/html": [
              "<html>\n",
              "<head><meta charset=\"utf-8\" /></head>\n",
              "<body>\n",
              "    <div>            <script src=\"https://cdnjs.cloudflare.com/ajax/libs/mathjax/2.7.5/MathJax.js?config=TeX-AMS-MML_SVG\"></script><script type=\"text/javascript\">if (window.MathJax && window.MathJax.Hub && window.MathJax.Hub.Config) {window.MathJax.Hub.Config({SVG: {font: \"STIX-Web\"}});}</script>                <script type=\"text/javascript\">window.PlotlyConfig = {MathJaxConfig: 'local'};</script>\n",
              "        <script charset=\"utf-8\" src=\"https://cdn.plot.ly/plotly-2.35.2.min.js\"></script>                <div id=\"948e4e13-9763-40db-9ec7-c325d5d41be9\" class=\"plotly-graph-div\" style=\"height:525px; width:100%;\"></div>            <script type=\"text/javascript\">                                    window.PLOTLYENV=window.PLOTLYENV || {};                                    if (document.getElementById(\"948e4e13-9763-40db-9ec7-c325d5d41be9\")) {                    Plotly.newPlot(                        \"948e4e13-9763-40db-9ec7-c325d5d41be9\",                        [{\"mode\":\"markers\",\"name\":\"Russian\",\"text\":[\"[GENTLY]\\tНа протяжении этого десятилетия цены на сырьевые товары в реальном выражении характеризовал\",\"[GENTLY]\\tК числу других способствовавших росту факторов относились большие объемы ликвидности в стра\",\"[NEXT]\\tПодкомиссия после каждого голосования по одному предложению может решить, будет ли она провод\",\"[NEXT]\\tГермания выражает удовлетворение в связи с предпринятыми ЮНСИТРАЛ инициативами в этом направл\",\"[LETTER]\\tВ связи с замечаниями правительства, содержащимися в его письме от 4 октября 1996 года, Спе\",\"[LETTER]\\tПредставляется, что два отправленных секретариатом письма от 3 мая и 26 августа 1994 года о\",\"[INTEND]\\tВвиду этого мы не намереваемся тратить ни единой минуты нашего будущего совещания на болезн\",\"[INTEND]\\tЯпония планирует ввести оптоволоконную сеть связи во всех домашних хозяйствах к 2010 году, \",\"[TRUE]\\tВместо этого им следовало бы взять на себя всю ответственность за все преступные действия, в \",\"[TRUE]\\tВ рассматриваемом случае автор не воспользовался ни одной из этих возможностей, и государство\",\"[SINGLE]\\tНикогда еще за всю историю благотворительной деятельности не было ни одного такого крупного\",\"[SINGLE]\\tСотрудники часто работают сразу с несколькими документами, с одним документом могут работат\",\"[CODE]\\tС другой стороны, ряд законов, в том числе Кодекс о семье, были пересмотрены и согласованы с \",\"[CODE]\\tОднако с помощью Cтроительного кодекса, который является многопрофильным нормативным документ\",\"[BILL]\\tКроме того, правительство разработало документ о национальной политике в качестве основы для \",\"[BILL]\\tСоциальные партнеры рассмотрели законопроект о фондах социального обеспечения, который впосле\",\"[SPEECH]\\tРечь гна Юбера Ведрина, министра иностранных дел Франции, от имени Европейского союза, полн\",\"[SPEECH]\\tПочти год спустя после этой речи -- 15 августа 1975 года -- он, вместе с большинством члено\",\"[LIGHT]\\tВо всяком случае каждый представитель может выступать от имени своей страны в зависимости от\",\"[LIGHT]\\tС учетом работы, проведенной в области поддержания мира, и накопленного в этом отношении опы\",\"[TURN]\\tМы рады, что эта страна сосредоточивает сейчас свое внимание на задачах реконструкции и разви\",\"[TURN]\\tВ силу ряда обстоятельств перемены, введенные в экономическом и социальном секторах, заставля\",\"[AFFAIR]\\tГубернатор отвечает за иностранные дела, внутреннюю безопасность, оборону и назначение госу\",\"[AFFAIR]\\tВ этой связи Египет отвергает любое вмешательство во внутренние дела государств и любые дей\",\"[RATING]\\tВ связи с их низким кредитным рейтингом и ожиданием девальвации национальной валюты их проц\",\"[RATING]\\tЭта система будет включать систему оценки выполнения поставщиками своих обязательств, котор\",\"[STEM]\\tБудет оказана также помощь в целях пресечения поставок химических веществ-прекурсоров, исполь\",\"[STEM]\\tТакое расширение международного обмена информацией в значительной степени связано с ростом по\",\"[ACCESSION]\\tЗатем он открыт для присоединения любого Государства - участника Конвенции.\",\"[ACCESSION]\\tМы надеемся на скорейшее присоединение ядерных держав к Протоколу к Бангкокскому договор\",\"[DEEP]\\tКувейт будет всегда с чувством глубокой признательности помнить о его вкладе.\",\"[DEEP]\\tЕвропейский союз выражает глубокую признательность координатору по пункту 121 повестки дня г-\",\"[ROOT]\\tКроме этого, усилия по ликвидации нищеты должны быть направлены на лежащие в ее основе причин\",\"[ROOT]\\tВряд ли кто будет оспаривать тот факт, что активная эксплуатация земельных ресурсов является \",\"[POWERFUL]\\tЧернокожее и небелое население во многих странах гораздо чаще становится объектом полицей\",\"[POWERFUL]\\tСоздание Международного уголовного суда станет не только мощным фактором сдерживания в от\",\"[INPUT]\\tВ рамках этого проекта будет также осуществляться руководство деятельностью Организации Объе\",\"[INPUT]\\tНеобходимо контролировать всю цепочку, начиная от поставок сырья, например кормов, и кончая \",\"[FERTILE]\\tПри этом численность родильных отделений на 1000 женщин детородного возраста значительно р\",\"[FERTILE]\\tТрадиционно в республике первостепенное значение придается репродуктивному здоровью женщин\",\"[READ]\\tПредставитель Колумбии зачитал послание Председателя Конференции глав государств и правительс\",\"[READ]\\tВ результате было издано 12 вспомогательных справочных документов, которые следует читать вме\",\"[FOCUS]\\tОсновное внимание в проводимых ими исследованиях будет уделяться вопросам региональной безоп\",\"[FOCUS]\\tКроме того, он с озабоченностью обратил внимание на тот факт, что ведущиеся переговоры не сп\",\"[CLAIM]\\tГосударство-участник не проинформировало Комитет о каких-либо иных средствах правовой защиты\",\"[CLAIM]\\tКомитет также выразил мнение о том, что в связи с утверждением автора о несоразмерности выне\",\"[ENVELOPE]\\tКроме того, отмечалось, что практика представления тендерных заявок в письменном виде в з\",\"[ENVELOPE]\\tВ некоторых регистрационных пунктах незапечатанные конверты лежали внутри кабин.\",\"[TRIBE]\\tЧасто коренное племя или нация не имеют надлежащего средства защиты против нарушений доверит\",\"[TRIBE]\\tГоворя в общем плане, политика нападений, убийства и насильственного перемещения членов неко\",\"[LAST]\\tНа протяжении последних 15 лет Швеция не осуществляет ни экспорта, ни производства противопех\",\"[LAST]\\tЧто касается трех последних пунктов, то Япония готова созвать в Токио в марте этого года межд\",\"[SHARE]\\tЭти страны, где сохраняются высокие темпы экономического роста, увеличили свою долю в объеме\",\"[SHARE]\\tВ любом случае размер взноса той или иной страны определяется, главным образом, ее долей в о\",\"[OFFENSIVE]\\tС положительной стороны, режим инспекции в рамках Договора РСМД был завершен и семилетни\",\"[OFFENSIVE]\\tМы не видим оснований, которые препятствовали бы дальнейшим глубоким сокращениям стратег\",\"[VIRTUE]\\tВ силу этого обычного права коренные жители должны будут иметь возможность пользоваться пос\",\"[VIRTUE]\\tПраво на развитие является правом человека, в силу которого \\\"каждый человек и все народы\\\" и\",\"[DELIVER]\\tМногие университеты организуют различные курсы обучения в расширенных студенческих городка\",\"[DELIVER]\\tЕсли наши процедуры не позволяют нам получать конкретные результаты, то нам следует безо в\",\"[GRANT]\\tФонд также выделяет небольшие безвозмездные субсидии организациям коренных народов на цели и\",\"[GRANT]\\tПродолжает возрастать число студентов, имеющих право на получение помощи со стороны правител\",\"[LEAD]\\tРазвитые страны несут особую ответственность и должны играть ведущую роль в этой области.\",\"[LEAD]\\tПомимо устранения нетарифных барьеров развитые страны должны взять на себя ведущую роль и ока\",\"[WIN]\\tУспех Артской конференции и создание новых сомалийских институтов завоевали недвусмысленную и \",\"[WIN]\\tВследствие этого Социал-демократическая партия Гибралтара получила в Законодательном собрании \",\"[BURDEN]\\tБремя внешней задолженности, сокращение объема помощи в целях развития и ухудшение условий \",\"[BURDEN]\\tВместе с тем, в то время как бремя задолженности по-прежнему затрудняет многие из предприни\",\"[PROOF]\\tЭтот механизм представляет собой свидетельство творческого подхода, проявленного КР в прошло\",\"[PROOF]\\tПоложение в Фиджи является доказательством заразительного характера порочной практики, при к\",\"[SATISFY]\\tПредприятия могут строить жилье для удовлетворения потребностей своих рабочих и служащих, \",\"[SATISFY]\\tВ целях удовлетворения краткосрочных и среднесрочных потребностей населения правительство \",\"[RESISTANCE]\\tУстойчивость к хлорокину, самому дешевому и широко используемому противомалярийному пре\",\"[RESISTANCE]\\tУчастники также отметили, что институциональная инертность, или сопротивление новым вея\",\"[HIGHLY]\\tСуществование высокоразвитых рынков капитала подталкивает к совершению ряда преступлений, в\",\"[HIGHLY]\\tВ ряде случаев этот вопрос является причиной весьма сложных споров между государствами.\",\"[PROGRESSION]\\tВ ходе этого обследования выявлялось отношение государственных служащих к своей работе\",\"[PROGRESSION]\\tПродвижение по службе будет зависеть отчасти от готовности того или иного сотрудника к\",\"[PRODUCE]\\tНа товарном рынке конкуренция между фирмами, производящими одну и ту же продукцию или ее б\",\"[PRODUCE]\\tПо их наблюдениям, занятию проституцией наркоманы предпочитают воровство или самостоятельн\",\"[SPRAY]\\tОн рекомендует государству-участнику пересмотреть правила, регулирующие применение перцового\",\"[SPRAY]\\tУтверждается, что его избили и, пока он находился в бессознательном состоянии, опрыскали пер\",\"[ASSUMPTION]\\tПоэтому результаты оценки в значительной степени зависят от использования актуарных пре\",\"[ASSUMPTION]\\tОна обращает внимание на тот факт, что предположения, использованные для целей проведен\",\"[SUBSCRIBER]\\tС учетом откликов, полученных от подписчиков, предполагается модернизировать электронну\",\"[SUBSCRIBER]\\tКроме того, Управление по составлению Доклада имеет более 13 000 электронных подписчико\",\"[ANALYSE]\\tДля учета того, что уже имеется, ОСС совместно со своими партнерами проведет первый анализ\",\"[ANALYSE]\\tЭта информация вводится в базу данных о деятельности, которая будет проанализирована и обр\",\"[JUNGLE]\\tВ этой связи для целей переговоров необходимо разработать определение, которое охватывало б\",\"[JUNGLE]\\tВ организацию ТОТИ он вступил в июне 1996 года и проходил подготовку в джунглях Муллатхиву.\",\"[CONSERVATION]\\tОдин из критических вопросов, который встает в связи с инициативой БИОТРЕЙД, заключае\",\"[CONSERVATION]\\tНеобходимо свести к минимуму обезлесение путем проведения скоординированной политики \",\"[HANDLE]\\tТакие исключительные случаи должны разбираться в соответствии с обычными положениями, содер\",\"[HANDLE]\\tЕсли это уместно, следует предусмотреть специальные процедуры для разрешения споров между п\",\"[LICENCE]\\tУчастники семинаров рекомендовали определять процедуры выдачи лицензий на приобретение огн\",\"[LICENCE]\\tКаждый владелец лицензии на ношение и хранение, экспорт, импорт, ремонт или куплю\\u002fпродажу \",\"[YIELD]\\tЕсли наше изучение увенчается позитивными результатами, мы бы выдвинули рекомендацию на этот\",\"[YIELD]\\tМы также не считаем, что изменение позиции какой-либо отдельной страны может сразу привести \",\"[ELECTRIC]\\tПримерно в 109 508 жилищах своеобразной формой охлаждения воздуха являются электрические \",\"[ELECTRIC]\\tПереход на электрическое отопление и системы водоснабжения, а также все более широкое при\",\"[SHORT]\\tВремя от времени по линии этих программ возникала нехватка финансовых ресурсов, что мешало п\",\"[SHORT]\\tБыло решено, что отныне будет составляться и переводиться лишь краткое резюме обсуждений реш\",\"[OFFEND]\\tДействия миротворческого персонала, нарушающие установленный кодекс поведения или негативно\",\"[OFFEND]\\tДанный принцип применяется только к преступлениям, имеющим международный характер: преступл\",\"[OWE]\\tВ связи с непродолжительностью нынешнего мандата Миссии ассигнования на замену личного состава\",\"[OWE]\\tОтветчик зачел против этого требования требование о возмещениее убытков из упущенной выгоды в \",\"[MEANS]\\tИ Германия решила добиваться реализации этой цели всеми эффективными средствами и на любых с\",\"[MEANS]\\tИнформация не должна использоваться в качестве средства контроля или навязывания определенно\",\"[CONTEND]\\tКроме того, Ирак утверждает, что \\\"ничего не сказано о методе расчета процентного показател\",\"[CONTEND]\\tАдвокат утверждает, что негативные аспекты судебного разбирательства, в частности неправил\",\"[TRICKY]\\tКроме того, мы не смогли облегчить бремя задолженности развивающихся стран или даже добитьс\",\"[TRICKY]\\tИзъять в предстоящие месяцы и годы наличность, не дестабилизируя при этом экономику стран и\",\"[GO]\\tПризнав факт владения несколькими стволами оружия, он тем не менее отрицал свое участие в други\",\"[GO]\\tАвтор отправился домой, сообщил своей матери о случившемся, а затем сдался полиции.\",\"[SERIES]\\tА между тем прекращение производства расщепляющихся материалов является лишь первой из сери\",\"[SERIES]\\tМы рассматриваем полный запрет противопехотных мин как цель, движение к которой должно, вид\",\"[ADOPT]\\tВ Индии, например, 13 штатов и союзных территорий приняли собственные политику и стратегии в\",\"[ADOPT]\\tНесколько делегаций положительно оценили \\\"план стабилизации миграционных процессов\\\", приняты\",\"[PREVIOUS]\\tВ сентябре власти провинции сообщили Ректору, что из-за резких бюджетных сокращений они н\",\"[PREVIOUS]\\tСсылаясь в этой связи на свои предыдущие резолюции, в том числе резолюции 45\\u002f55 В от 4 де\",\"[PARTICULAR]\\tОсобую роль в поддержании национальной самобытности этой общины играет сербская пресса.\",\"[PARTICULAR]\\tОн обратил особое внимание на то, что недавно в Конституцию были внесены существенные и\",\"[RECALL]\\tСовещание напомнило, что различные межправительственные комитеты, в частности Комитет по ис\",\"[RECALL]\\tЕе делегация не может припомнить, чтобы Генеральная Ассамблея когда-либо определяла критери\",\"[MAKE]\\tВ этой связи делегация Соединенных Штатов рекомендует организациям, входящим в систему Органи\",\"[MAKE]\\tПравительства, изъявившие готовность сотрудничать, или миссии Организации Объединенных Наций \",\"[CONDEMN]\\tВ этой связи правительство Судана сделало официальное заявление с осуждением недавних терр\",\"[CONDEMN]\\tМы осудили эти нападения и выразили наши соболезнования семьям пострадавших.\",\"[WELL]\\tДве женщины утверждали, что с ними плохо обращались в полиции, но все указали, что с ними хор\",\"[WELL]\\tВместе с тем также твердо установившимся правилом является то, что государство не несет никак\",\"[DEATH]\\tПрокуратура Текпана-де-Галеаны начала предварительное следствие по факту убийства Агапито Ро\",\"[DEATH]\\tВ своем ответе правительство указало, что два полицейских были привлечены к суду по обвинени\",\"[NEED]\\tМногие развивающиеся страны выявили необходимость улучшения инфраструктуры коммунальных служб\",\"[NEED]\\tЕС указывает на необходимость созыва конференции по проблемам мира, безопасности и стабильнос\",\"[ACTION]\\tОн заявил, что правительство примет все необходимые меры для пресечения нарушений прав чело\",\"[ACTION]\\tПозитивные шаги федерального правительства в области интеграции, которая потребует длительн\",\"[PURPOSE]\\tПеред совещанием была поставлена цель открыть диалог с государствами этого региона, не при\",\"[PURPOSE]\\tЭто Совещание состоялось 19 июля 1995 года в Женеве с целью рассмотрения тех мероприятий, \",\"[ATTACH]\\tДокумент, в котором это лицо излагает свою собственную версию фактов, должен быть приобщен \",\"[ATTACH]\\tВ интересах экономии времени я приложил резюме наших предложений к сегодняшнему заявлению и\",\"[RECOGNIZE]\\tОна была одним из первых государств, которые нормализовали дипломатические отношения с К\",\"[RECOGNIZE]\\tКувейт признает один Китай, один китайский народ и одно правительство в Пекине.\",\"[KERNEL]\\tТакое разнообразие необходимо всячески соблюдать, защищать и поощрять, поскольку оно являет\",\"[KERNEL]\\tК сожалению, вместо того, чтобы серьезным и надлежащим образом заниматься сутью проблемы, К\",\"[AGREE]\\tВ целом мы согласны с предлагаемым определением аэрокосмического объекта, поскольку этот аэр\",\"[AGREE]\\tОн одобряет заключения, выработанные Рабочей группой по изучению этого предмета, и призывает\",\"[FIRE]\\tСоглашение о прекращении огня, вступившее в силу 2 октября, оказало колоссальное влияние на ж\",\"[FIRE]\\tСолдаты утверждали, что им пришлось открыть огонь по микроавтобусу после того, как он произве\",\"[PROTECTION]\\tПоощрение и защита прав человека необходимы для предотвращения принудительных перемещен\",\"[PROTECTION]\\tВ новом призыве к незамедлительным действиям также содержится просьба обеспечить защиту\",\"[GENERAL]\\tУчастники этого совещания также присоединились к существующему общему мнению, что коренным\",\"[GENERAL]\\tЧто касается повестки дня Комитета, то делегация Кубы считает, что ее следует расширить, в\",\"[EXTRANEOUS]\\tМинистры вновь подчеркнули, что эксплуатация и использование прав человека в качестве и\",\"[EXTRANEOUS]\\tНас не может не огорчать то, что при этом некоторыми государствами, обладающими ядерным\",\"[COVER]\\tЗа счет государственного бюджета финансируется 94,4% соответствующих расходов на образование\",\"[COVER]\\tВсе расходы по выплате указанных семейных пособий покрываются из средств Фонда социального с\",\"[CHAPTER]\\tВ главе III приводятся вопросы, которые должны быть рассмотрены в ходе разработки стратеги\",\"[CHAPTER]\\tАссамблея постановила завершить рассмотрение всех глав доклада Экономического и Социальног\",\"[POLICY]\\tНапример, поскольку макроэкономическая политика, направленная на обеспечение стабильности з\",\"[POLICY]\\tФункции уполномоченного изложены в статье 411 и включают осуществление контроля за мерами и\",\"[WEIGHTY]\\tЯ уверен, что такой важный вопрос заслуживает тщательного и неспешного рассмотрения.\",\"[WEIGHTY]\\tОрганизации Объединенных Наций поручено решение серьезных проблем, осаждающих мир, причем \",\"[BASE]\\tДанный доклад основан главным образом на информации, предоставленной государствами-членами в \",\"[BASE]\\tПо всей видимости, мнение большинства базировалось на предположении о том, что лишь полный от\",\"[AGE]\\tКроме того, Комитет выражает сожаление по поводу отсутствия механизмов контроля за применением\",\"[AGE]\\tВозраст добровольного вступления в половые и брачные отношения должен быть соразмерным для лиц\",\"[CLASS]\\tТаким образом, можно сделать вывод, что по сравнению с Трибуналом в Гааге МТР относится к же\",\"[CLASS]\\tЕго режим позволяет освободить космос от целого класса космического оружия - противоракетног\",\"[RESULT]\\tСогласно результатам недавно проведенного обследования учебных заведений, большая часть спе\",\"[RESULT]\\tДостигнутые результаты вызывают оптимизм и принятые меры будут продолжены.\",\"[EXAMPLE]\\tПервым примером глобальной акции в сфере \\\"благого правления\\\" является Декларация Организац\",\"[EXAMPLE]\\tЯ упомянул этот конкретный случай лишь в качестве примера того, как проводились консультац\",\"[TERRITORY]\\tНет никаких оснований увязывать Республику Македонию с территориями, входящими в зону ре\",\"[TERRITORY]\\tС января до начала сентября на оккупированной территории было снесено около 100 палестин\",\"[STUDY]\\tОтобранные кандидаты приступят к занятиям в вышеупомянутых учреждениях ЕКА в январе 1998 год\",\"[STUDY]\\tКомитет далее озабочен отсутствием статистических данных и исследований о таких детях.\",\"[FIELD]\\tОпыт Мозамбика показывает, что страна, получающая помощь Организации Объединенных Наций в об\",\"[FIELD]\\tПозиция Беларуси заключается в стремлении к дальнейшему прогрессу в области разоружения, в о\",\"[FREE]\\tНесмотря на то, что во Всеобщей декларации прав человека заявлено, что все люди рождаются сво\",\"[FREE]\\tКомитет отмечает, что свобода информации и выражения своих мнений является краеугольным камне\",\"[GIVE]\\tЮНКТАД будет уделять пристальное внимание тому, чтобы все ее усилия по оказанию поддержки тор\",\"[GIVE]\\tПо сообщению источника, власти не представили никаких объяснений ареста и задержания.\",\"[DECLARATION]\\tВ следующем году будет отмечаться пятидесятая годовщина Всеобщей декларации прав челов\",\"[DECLARATION]\\tВместе с тем декларация должна отражать то, что в мире существуют самые разные формы з\",\"[APPRECIATION]\\tЯ также хотел бы выразить благодарность и признательность предшественнику Председател\",\"[APPRECIATION]\\tОн также выражает свою признательность за откровенный и конструктивный диалог с делег\",\"[APPLICATION]\\tЭта цифровая информация, совместимая с большинством географических информационных сист\",\"[APPLICATION]\\tХодатайство об отсрочке было отклонено, равно как и просьба автора передать вопрос, ка\",\"[REGARD]\\tПреднамеренные поджоги в Мëльне являются в этой связи весьма показательными.\",\"[REGARD]\\tМногочисленные вопросы, которые были подняты по этому поводу на специальной сессии Комитета\",\"[VALUE]\\tРуководящие принципы исходят из того, что государства в своей борьбе с эпидемией ВИЧ\\u002fСПИДа о\",\"[VALUE]\\tС этой точки зрения развитие представляет собой дивное и замысловатое полотно, сотканное из \",\"[RISE]\\tПосле того как в течение многих лет государственные затраты на культуру равнялись приблизител\",\"[RISE]\\tПоказатель выше 100 означает, что между базовым годом и данным периодом рост цен производител\",\"[CLOSE]\\tЧлены ПГД работают в тесном сотрудничестве со специальными представителями Генерального секр\",\"[CLOSE]\\tРаботая в тесном сотрудничестве, учреждения Организации Объединенных Наций и неправительстве\",\"[SHARE]\\tЭту позицию поддержали представители Дании и Мексики и наблюдатель от Австралии.\",\"[SHARE]\\tКроме того, он разделяет обеспокоенность представителей Канады и Японии.\",\"[RATHER]\\tНапоминание об этом направлено не против мирного процесса, а скорее дополняет его.\",\"[RATHER]\\tТаким образом, речь идет не о добровольном акте, а, скорее, об акте отчаяния.\",\"[REPRESENT]\\tСпонсоры подчеркнули важность, которую они придают обеспечению того, чтобы на этом Рабоч\",\"[REPRESENT]\\tАвторы, представляемые адвокатом, предъявили Совету иск в Федеральном окружном суде Заль\",\"[DIRECT]\\tНесмотря на свои собственные социально-экономические проблемы, они также оказывали беженцам\",\"[DIRECT]\\tКроме того, правительство непосредственно контролирует процесс распределения частот через м\",\"[EMERGENCY]\\tСледует поощрять усилия по включению предложений о финансировании мер обеспечения готовн\",\"[EMERGENCY]\\tМеры, принятые в период действия такого особого положения, теряют свою силу по его отмен\",\"[PRESENCE]\\tЕе присутствие среди нас вновь сегодня является свидетельством того продолжающегося интер\",\"[PRESENCE]\\tИх присутствие среди нас сегодня, без сомнения, даст нам новый импульс в наших попытках с\",\"[INITIATE]\\tБолее того, за последние полвека организация приступила к осуществлению многих прекрасных\",\"[INITIATE]\\tОна также приступила к подготовке международной встречи на высшем уровне представителей д\",\"[MASSIVE]\\tНесмотря на кампанию массовой вакцинации, непривитыми остается еще 4,5 млн. человек.\",\"[MASSIVE]\\tМассовое участие иранцев в президентских выборах показывает, каких успехов достигла демокр\",\"[CHANGE]\\tЗа период после представления этих докладов каких-либо значительных изменений отмечено не б\",\"[CHANGE]\\tПоэтому в развивающихся странах следовало бы ввести более жесткие нормы с учетом эволюции, \",\"[LOCK]\\tОн далее заявляет, что до пятницы 7 мая 1993 года его заперли в камере и не давали воды.\",\"[LOCK]\\tЗатем он был заперт со скованными руками в боксе и его заставили сутки лежать на жестких дере\",\"[SOLUTION]\\tЕсли не будут прилагаться столь масштабные и важные усилия и не будут решаться такие осно\",\"[SOLUTION]\\tВ настоящее время ведутся переговоры, касающиеся такого объединения, в связи с чем рассма\",\"[TIME]\\tЗакон о тюрьмах 1894 года и Тюремные правила Пакистана, являясь наследием колониальных времен\",\"[TIME]\\tВ этот же период под стражей находились 4 858 несовершеннолетних, включая 131 девушку.\",\"[RESTORATION]\\tТаким образом, посредством Фонда соответствующие средства инвестируются в целях сохран\",\"[RESTORATION]\\tГлобальное потепление, происходящее гораздо более высокими темпами, чем ожидалось, буд\",\"[SPECIFIC]\\tВ особой степени это относится к УООН, который, в отличие от других органов Организации О\",\"[SPECIFIC]\\tКаждая часть системы призвана играть конкретную роль в решении этих вопросов.\",\"[REACH]\\tДля скорейшего достижения конкретных и ощутимых результатов в качестве способа продвижения в\",\"[REACH]\\tИ наша задача состоит в том, чтобы не обмануть возлагаемые на нас высокие надежды и поскорее\",\"[BREAKDOWN]\\tЕго делегация хотела бы также получить данные с указанием года сдачи экзамена по 26 назн\",\"[BREAKDOWN]\\tПодробные сведения об этих взносах приводятся в приложении VI к настоящему докладу.\",\"[CRITICAL]\\tИнициатива в отношении БСКД является одной из крайне важных мер по решению этой проблемы.\",\"[CRITICAL]\\tПо мнению его правительства, принятие проекта декларации имеет жизненно важное значение.\",\"[ASK]\\tВ Йемене проводится политика поощрения совместного несения расходов больными и государством, и\",\"[ASK]\\tДругой оратор из того же региона обратился к правительству Австралии с просьбой предложить Раб\",\"[STOP]\\tОн остановил мотоцикл, направил на нее пистолет и сказал, что не отвезет ее обратно, пока она\",\"[STOP]\\tВ 80 км от Янгона полиция остановила их и приказала возвращаться домой.\",\"[DEFENCE]\\tПосле заслушания всех свидетелей обвинения слово было передано защите.\",\"[DEFENCE]\\tОграничения в отношении своевременного доступа к соответствующим материалам дела в данном \",\"[SUPPRESSION]\\tВ июле текущего года принят федеральный закон \\\"О борьбе с терроризмом\\\", способствующий\",\"[SUPPRESSION]\\tВсе попытки навязать военное решение посредством подчинения и подавления с помощью вое\",\"[FUNCTION]\\tОдна из его ключевых функций заключается в мобилизации, управлении и координации внешней \",\"[FUNCTION]\\tСледовательно, роль правительства должна ограничиваться его ключевыми функциями, т.е. фун\",\"[COURT]\\tТакие случаи имели место в 1992 и 1993 годах, и все такие требования были признаны судами не\",\"[COURT]\\tТаиланд будет и далее поддерживать усилия по созданию международного уголовного суда и актив\",\"[LAPSE]\\tДве трети времени, выделенного для достижения этих целей, уже позади.\",\"[LAPSE]\\tВ случае непредставления запрошенной информации в течение следующих 90 дней заявка становитс\",\"[RECEDE]\\tПо мере снижения инфляционного давления в большинстве из них многие центральные банки ввели\",\"[RECEDE]\\tПока мировой экономический кризис не будет преодолен, а цены на продовольствие не снизятся,\",\"[BERTH]\\tЯвляясь крупнейшим портом на восточном побережье Африки, он и имеет 21 причал и значительные\",\"[BERTH]\\tДля строительства причальных стенок, причалов для авианосцев, дорог, казарм и жилья потребуе\",\"[DOT]\\tЕсли проследить связь между заявлениями Ирана и его действиями, перед международным сообщество\",\"[DOT]\\tПримечание: две точки (..) указывают на отсутствие информации.\",\"[SERIAL]\\tСвидетельские показания подтверждают регулярные случаи изнасилования афарских женщин солдат\",\"[SERIAL]\\tОн сказал, что если говорить о \\\"праве граждан знать\\\", то расследование серийных убийств 199\",\"[ACCOMMODATE]\\tДля размещения дополнительных задержанных в Следственном изоляторе Трибунала в настоящ\",\"[ACCOMMODATE]\\tНесовершеннолетние, совершившие правонарушения, также направляются в один из двух детс\",\"[JUDGEMENT]\\tОкончательные решения Суда должны немедленно приводиться в исполнение, а приговор о тюре\",\"[JUDGEMENT]\\tВ своем постановлении от 26 июня 1994 года Арбитражный суд пришел к заключению о том, чт\",\"[WIDE]\\tЭтот двухдневный симпозиум широко освещался средствами массовой информации, в частности, по к\",\"[WIDE]\\tКроме того, государству-участнику следует обеспечить широкое распространение его доклада и за\",\"[TABLE]\\tЭти секторы, указанные в таблице 1, могут служить определенным ориентиром для предприятий ра\",\"[TABLE]\\tФактические расходы оказались меньше выделенной по данной статье суммы, что отражено в табли\",\"[SUPERIORITY]\\tВ поддержку теории превосходства мужчин над женщинами часто приводятся примеры из исто\",\"[SUPERIORITY]\\tOSFS следует рассматривать как один из элементов электронной стратегии в силу его пред\",\"[MANAGER]\\tВсе руководители программ должны получить от внутреннего надзора подтверждение того, что м\",\"[MANAGER]\\tПомимо руководителя осуществления проекта подобраны два других сотрудника Группы по проект\",\"[TALK]\\tПо существу, представитель Израиля, говоря о миролюбии своей страны, воздерживается говорить \",\"[TALK]\\tПозвольте мне вернуться к вопросу о санкциях, но на сей раз я хотел бы сказать о Кубе.\",\"[MINUTE]\\tЗатем временный Председатель предложил Генеральной Ассамблее соблюсти минуту молчания.\",\"[MINUTE]\\tВ камере нет искусственного освещения, и ему разрешают свидания только раз в неделю на 5 ми\",\"[CUSTODY]\\tСтатья 56 предусматривает, что \\\"когда начальник тюрьмы считает необходимым в целях безопас\",\"[CUSTODY]\\tЧлен Комитета, назначенного для консультирования министра юстиции по вопросу о видеонаблюд\",\"[TRANSPIRE]\\tИз документов, которыми располагал Комитет, следовало, что сын автора сообщения был приг\",\"[TRANSPIRE]\\tИз бесед с ними следовало, что наказание нередко назначалось в ответ на жалобы и что кол\",\"[FOUND]\\tОрганизация Объединенных Наций была основана для сохранения мира и обеспечения лучшей жизни \",\"[FOUND]\\tЕвропейская федерация городов проведения конференций (ЕФГК) была создана в 1963 году как про\",\"[UNFORTUNATE]\\tОдно из таких неуместных замечаний мы услышали на пленарном заседании на прошлой недел\",\"[UNFORTUNATE]\\tМы надеемся и верим, что обет молчания будет нарушен и случай с этой несчастной жертво\",\"[ARGUE]\\tГосударство-участник заявило о том, что утверждения автора являлись неприемлемыми по причине\",\"[ARGUE]\\tГосударство-участник заявляет, что, поскольку существующая субординация может привести к кол\",\"[FIGHT]\\tПредставитель отметила, что правительство выдвинуло на передний план задачу борьбы против СП\",\"[FIGHT]\\tВ области борьбы с наркотическими средствами важно отдавать приоритет превентивным мерам и п\",\"[PHASE]\\tВ осуществлении третьего этапа примут участие те же три эксперта, которые работали на втором\",\"[PHASE]\\tВ настоящее время идет первый этап осуществления этого проекта при финансировании ПРООН и в \",\"[TRAVEL]\\tСледователи и юрисконсульты совершают ограниченные по времени поездки из Кигали в Арушу для\",\"[TRAVEL]\\tИракские власти опровергли утверждение о нападениях бойцов Республиканской гвардии на палом\",\"[DIFFERENTIATE]\\tСледует проводить различие между оперативным разминированием непосредственно в целях\",\"[DIFFERENTIATE]\\tВ нынешнем проекте не проводится различие между категориями деяний, которые совершен\",\"[SPEED]\\tК числу основных факторов, влияющих на их конкурентоспособность, относятся стоимость товаров\",\"[SPEED]\\tОна выражает благодарность Управлению Верховного комиссара по правам человека, которое осуще\",\"[PLATFORM]\\tЕсли Комиссия завершит свою работу по предложенной конвенции, Конгресс мог бы действовать\",\"[PLATFORM]\\tТакой форум обеспечил бы платформу для прямого участия групп населения, которые традицион\",\"[DESIGN]\\tКроме того, гибкое проектирование и способность к реагированию на возникающие обстоятельств\",\"[DESIGN]\\tНеобходимо создать механизм, обеспечивающий эффективный учет этих интересов при разработке \",\"[TRAFFIC]\\tВыражая свою возрастающую обеспокоенность по поводу действий, подрывающих безопасность гос\",\"[TRAFFIC]\\tИ наконец, с учетом той опасности, которую представляет незаконный оборот наркотических ср\",\"[OUTGOING]\\tИ наконец, позвольте мне воздать должное уходящим членам Совета за неоценимую службу и од\",\"[OUTGOING]\\tЯ также с удовлетворением отмечаю, что предыдущий Председатель Генеральной Ассамблеи Его \",\"[ADVANCED]\\tВ третью группу входят те развитые и передовые развивающиеся страны, где меняется образ ж\",\"[ADVANCED]\\tВажно обеспечить баланс интересов государства происхождения и интересов государства или г\",\"[EXPOSE]\\tМестные жители и местные власти в районах конфликта особо уязвимы для действий всех вооруже\",\"[EXPOSE]\\tВсе дети повсюду в Югославии ежедневно получают психологические травмы и подвергаются стрес\",\"[EXPENSE]\\tБыли отмечены и трудности, с которыми столкнулись представители коренных народов, и их рас\",\"[EXPENSE]\\tОднако ввиду ограниченности бюджетных ресурсов прочие расходы должны быть сведены к миниму\",\"[ABORT]\\tВнезапная либерализации может подорвать технические усилия местных фирм.\",\"[ABORT]\\tТаким образом, Израиль сорвал многие проекты ЮНКТАД, которые призваны заложить фундамент для\",\"[COMBINATION]\\tИзменения во внешних условиях объясняются сочетанием ряда факторов, в частности замедл\",\"[COMBINATION]\\tПо всей вероятности, в этом вопросе большую роль играет сочетание социально-экономичес\",\"[CAPACITY]\\tПомимо признания важности принципа платеже способности, единогласно признается, что на ос\",\"[CAPACITY]\\tЯ хотел бы также выразить мою признательность за вклад г-на Разали Исмаила в его качестве\",\"[BELOW]\\tСписок документов, представленных пятой сессии СГ13, приводится в приложении I ниже.\",\"[BELOW]\\tНиже приводятся примеры видов деятельности, указывающих на упомянутый в статуте \\\"значительны\",\"[INDUSTRIAL]\\tВ связи с резким снижением уровня активности в промышленности и перестройкой российской\",\"[INDUSTRIAL]\\tОсуществляемая Израилем практика вывоза промышленных отходов на оккупированные территор\",\"[SHAPE]\\tПринятием надлежащих решений руководители стран мира должны определить направление развития \",\"[SHAPE]\\tОбстановка в указанных регионах формируется, прежде всего, под воздействием процессов, проис\",\"[MOBILE]\\tНовая беспроводная технология не только создает возможности для мобильных услуг связи, но и\",\"[MOBILE]\\tОбеспечение на Филиппинах услуг в области широкополосной глобальной мобильной персональной \",\"[TERMINAL]\\tЭти ассигнования были использованы для модернизации терминала в аэропорту на Саут-Кайкос,\",\"[TERMINAL]\\tВ некоторых странах подряд на сооружение и эксплуатацию нового терминала в существующем а\",\"[PRICE]\\tРост цен на хлопок (на 28% в 1994-1996 годах) и нефть были благоприятны для Египта, а Марокк\",\"[PRICE]\\tАналогичным образом, хотя цены на руды и металлы в 1994 году возросли на 13,4 процента, в 19\",\"[HAZARD]\\tОна включает анализ биологических, химических и физических рисков, выявление критических ур\",\"[HAZARD]\\tЭто будет способствовать решению проблемы наблюдений при существующем облачном покрове в ре\",\"[OPTICAL]\\tВ сооружении оптического телескопа и обеспечении обсерватории соответствующими приборами н\",\"[OPTICAL]\\tДЖАКСА изучает использование для этой измерительной системы сочетания оптических датчиков \",\"[TEMPORAL]\\tКроме того, необходимо изучить временной аспект, в особенности возможность формирования м\",\"[TEMPORAL]\\tБыло указано на то, что отказ от включения ограничения в отношении сроков соответствует д\",\"[DISTRESS]\\tКонечно, людям, находящимся в бедственном положении, должна быть оказана чрезвычайная гум\",\"[DISTRESS]\\tБеды Турции главным образом объясняются сохраняющейся ненормальной ситуацией, созданной С\",\"[TOUCH]\\tРеформа -- это непрерывный процесс, ибо любая международная организация должна постоянно быт\",\"[TOUCH]\\tВо взаимодействии с официальными лицами, ответственными за социальные вопросы, или частными \",\"[FACE]\\tЭти проблемы будут по-прежнему неизбежно возникать в условиях увеличения численности населени\",\"[FACE]\\tОсобенно уязвимыми по отношению к такому резкому изменению места жительства являются дети, ко\",\"[FLASH]\\tЧтобы уменьшить опасности, вызываемые вспышкой, тепловым ударом, взрывной волной, шумом, под\",\"[FLASH]\\tНочью я не хочу видеть огни факелов.\",\"[RUN]\\tВ долгосрочной перспективе эти неучтенные издержки могут во много раз превзойти учтенные кратк\",\"[RUN]\\tИнвестиции в развитие человеческого потенциала могут в конечном итоге давать столь же высокую \",\"[TECHNICALLY]\\tВовторых, поскольку наземные мины не являются оружием массового уничтожения, как это и\",\"[TECHNICALLY]\\tПри принятии решений о приватизации следует учитывать наличие технически компетентной \",\"[PACE]\\tЯ настоятельно призываю правительства и их международных партнеров тщательно планировать темп\",\"[PACE]\\tНеобходимо регулировать темп принимаемых мер и прекратить перегружать программы реформировани\",\"[PRODUCT]\\tЯпония предоставляет беспошлинный режим НРС по широкому кругу сельскохозяйственных товаров\",\"[PRODUCT]\\tСвободная торговля текстильной и сельскохозяйственной продукцией, например, была заблокиро\",\"[DIMENSION]\\tОднако роль и ресурсы местных органов управления являются крайне важным аспектом деятель\",\"[DIMENSION]\\tЦелесообразность проведения подобного форума подтверждается и спецификой миграционных пр\",\"[BREATH]\\tГруппа африканских государств особенно удовлетворена таким избранием, потому что это внесет\",\"[BREATH]\\tОднако трудности нас не сломили, и мы попрежнему полны сил, а тем более решимости.\",\"[SURGE]\\tЗначительно возросли масштабы нищеты, утраты имущества и безработицы, а также эрозии социаль\",\"[SURGE]\\tВспышки вооруженных конфликтов, напряженность и нестабильность стали периодически повторяющи\",\"[SEQUENCE]\\tСовершенные преступления представляли собой последовательный ряд преступлений, среди кото\",\"[SEQUENCE]\\tРяд разрушительных стихийных бедствий, особенно в последние два года, напомнил всему миру\",\"[LIE]\\tВ этой связи кабинет министров определил участки эритрейской территории, которые находятся в п\",\"[LIE]\\tВместе с тем сложной задачей является собственно определение господствующего положения, поскол\",\"[LIKELY]\\tНациональные и международные средства массовой информации, по всей видимости, утратят и без\",\"[LIKELY]\\tЗаключенные, располагающие финансовыми ресурсами, скорее могут обеспечить себе достойное об\",\"[OPERATIONAL]\\tВ нынешних обсуждениях, имеющих целью создание в Секретариате оперативной штабной груп\",\"[OPERATIONAL]\\tТребование, в соответствии с которым организация должна взять на себя обязательство о \",\"[EASY]\\tРазумеется, эта задача будет нелегкой, особенно в том, что касается начисления взносов самым \",\"[EASY]\\tС учетом доступности и легкости транспортировки этого наркотика он быстро завоевывает популяр\",\"[PROGRAM]\\tВ июле 1993 года в Галифаксе было открыто отделение Программы по трудоустройству, цель кот\",\"[PROGRAM]\\tПрограмма субсидий при усыновлении призвана содействовать получению нового дома детьми, пе\",\"[CELL]\\tТюремная администрация практически ежедневно проводит обыски тюремных камер, некоторые из кот\",\"[CELL]\\tНа четвертый день в камеру вошел солдат и изнасиловал ее.\",\"[HEIGHT]\\tПомимо того, умышленное игнорирование того, что все пострадавшие равны, было бы проявлением\",\"[HEIGHT]\\tБыло бы верхом глупости и безответственности ждать, пока еще один раунд спекулятивных валют\",\"[UNISON]\\tМы твердо уверены в том, что международное сообщество должно согласованно принять срочные м\",\"[UNISON]\\tВ этой мрачной обстановке мир единодушно высказался в отношении необходимости вести борьбу \",\"[ILLITERATE]\\tИ наконец, она отмечает, что женщины составляют 43,5 процента от общего числа неграмотн\",\"[ILLITERATE]\\tЕще 130 миллионов детей в настоящее время не посещают школу и вольются завтра в ряды не\",\"[SYNTHETIC]\\tПричины этого уменьшения кроются не в самом секторе хлопка, а в распространении относите\",\"[SYNTHETIC]\\tБудут осуществлены конкретные проекты с участием средств массовой информации, посвященны\",\"[GATHER]\\tВ его основу положена информация, собранная Специальным докладчиком и загребским отделением\",\"[GATHER]\\tДля оценки текущей практики в отношении использования переписей населения для сбора информа\",\"[VEGETATIVE]\\tБеспорядочное разрушение дамб также привело к образованию стоячих загрязненных водоемов\",\"[VEGETATIVE]\\tВ отсутствие растительного покрова, который смягчает воздействие дождя на почву, дождев\",\"[DISCRIMINATE]\\tВ области уголовного права дискриминация женщины по отношению к мужчине отсутствует и\",\"[DISCRIMINATE]\\tУровень жизни рома в целом ниже уровня бедности, и они подвергаются дискриминации, ос\",\"[RAG]\\tЖенщины и девушки, у которых менструация, зачастую не могут найти уединенное место для того, ч\",\"[RAG]\\tВсякий раз, когда я протестовала, они били меня или затыкали мне рот тряпкой.\",\"[BURN]\\tНекоторые из этих деревень насчитывали сотни домов, которые сжигались дотла.\",\"[BURN]\\tНесколько родственников были избиты, а их плантации и дома сожжены.\",\"[MANIPULATE]\\tПроект резолюции является политическим инструментом, которым манипулирует небольшая гру\",\"[MANIPULATE]\\tЕго делегация будет выступать против данного проекта резолюции и любых других попыток м\",\"[CHOKE]\\tЭти ограничения подрывают экономику, ограничивают торговлю, препятствуют налаживанию партнер\",\"[CHOKE]\\tЭто незаконное строительство осуществляется не по \\u003c\\u003cзеленой линии\\u003e\\u003e, а по палестинской земле\",\"[INFLATE]\\tСербы утверждают, что албанцы преувеличивают, излагая факты, и приводят завышенные цифры, \",\"[INFLATE]\\tОна ссылается на неподлежащие профилактике случаи, которые резко повысили этот коэффициент\",\"[BREATHE]\\tВо время пыток, как утверждается, его жестоко избили, вследствие чего он не мог нормально \",\"[BREATHE]\\tАвтор с трудом могла дышать и умоляла обвиняемого отпустить ее.\",\"[SLAM]\\tСначала, ночью 11 сентября, были выпущены три ракеты, одна из которых попала в контейнер для \",\"[SLAM]\\tВ пятницу вечером, 14 декабря, палестинские террористы выпустили из сектора Газа ракету, кото\",\"[STRIP]\\tОднако в 2009 году права на проживание было лишено большее количество палестинцев, чем в люб\",\"[STRIP]\\tНи один из членов семьи не должен быть лишен своего человеческого достоинства и самого основ\",\"[SOAK]\\tОдна из пыток состояла в том, что ему на голову надевали мешок, пропитанный керосином, и, свя\",\"[SOAK]\\tКроме того, утверждается, что ему заткнули рот пропитанным бензином полотенцем.\",\"[ELUDE]\\tЕсли международное сообщество не будет решительно браться за многие обделенные вниманием про\",\"[ELUDE]\\tЕсли это от нас пока ускользало, то уж не по причине недостатка умения или старания.\",\"[PURGE]\\tЯ хотел бы также заявить, что Сирия сильнее, чем когда-либо, настаивает на освобождении Гола\",\"[PURGE]\\tВместо того чтобы обвинять Азербайджан, правительству Армении следовало бы осознать, что отл\",\"[THINLY]\\tЭто удаленный и малонаселенный район, не имеющий почти никакой инфраструктуры или государст\",\"[THINLY]\\tГосударства-члены не должны ставить перед Секретариатом слишком много задач, не предоставля\",\"[STUB]\\tК этим заявлениям должны прилагаться оригиналы квитанций, счета, расчетные документы, корешки\",\"[STUB]\\tЭти требования должны сопровождаться оригиналом заполненной формы разрешения на поездку, коре\",\"[STOPPER]\\tКаждый элемент работает с местными деловыми кругами и общественностью для повышения осведо\",\"[STOPPER]\\tС этой целью она проводит на уровне общин программы борьбы с преступностью, состоящие из т\",\"[OVERWHELM]\\tТретье, многие люди в мире безмерно страдают от голода, крайней нищеты, полной изоляции,\",\"[OVERWHELM]\\tДипломированные врачи и медицинские сестры были очень рады предоставившейся возможности \",\"[PECULIARLY]\\tВопросы международного частного права, которые возникают в сфере, касающейся несостояте\",\"[PECULIARLY]\\tЕсли говорить об Африке, то страны Карибского бассейна всегда связывали с Африкой особе\",\"[UNUSED]\\tНикаких денежных выплат за неиспользованные накопившиеся дни отпуска не производится.\",\"[UNUSED]\\tПо прошествии трех лет такая неиспользованная земля может быть объявлена покинутой в соотве\",\"[BELL]\\tС полуночным боем курантов в канун Нового года человечество вступило в XXI век.\",\"[BELL]\\tНа детских рисунках были красочно изображены символы мира, белый голубь, колокола мира и Будд\",\"[CONSTRICTION]\\tК ним могут относиться бледность, тошнота, рвота, диарея, боль в животе, головная бол\",\"[CONSTRICTION]\\tЕще пять человек страдают от сильнейших головных болей и затруднения дыхания, без при\",\"[PLEASE]\\tКак сообщается, содержание этих предложений не устраивало власти.\",\"[PLEASE]\\tПравительство Беларуси и дальше будет действовать в интересах белорусского народа, и нас не\",\"[CIVILISATION]\\tСледствием наличия межкультурных и межцивилизационных противоречий является, в частно\",\"[CIVILISATION]\\tМинистры подтвердили, что диалог между культурами, цивилизациями и религиями должен п\",\"[COOKIE]\\tНаконец, он хотел бы сделать общим достоянием смысл послания, обнаруженного им накануне веч\",\"[COOKIE]\\tЯ знаю, что наши друзья исламского вероисповедания с нетерпением ждут сегодняшнего вечера, \",\"[ALOFT]\\tВ зависимости от конкретного места столкновения на орбите такая ситуация необязательно созда\",\"[ALOFT]\\tСера и азот, поднимаемые в атмосферу потоками воздуха, вызывают кислотные дожди, которые ино\",\"[TAB]\\tУчастники могут выбрать, какую категорию документов они желают просмотреть, выбрав соответству\",\"[TAB]\\tТакой лист персонализированных марок состоит из 20 отпечатанных марок с чистыми корешками, на \",\"[GUT]\\tДаже при низких концентрациях некоторые проглатываемые материалы могут нарушать функционирован\",\"[GUT]\\tПрисутствие антимикробных веществ в кишечнике человека и животных ведет к развитию обладающих \",\"[TRANSPORT]\\tПоскольку покупатель не смог привести доказательства, свидетельствующие о наличии догово\",\"[TRANSPORT]\\tВ весьма большом дефиците также грузовики, на которых поставляемые грузы перевозятся из \",\"[SUBSIDE]\\tНо, несмотря на эти сокращения, глобальная угроза, порождаемая ядерным оружием, не уменьши\",\"[SUBSIDE]\\tНекоторое сокращение мирового спроса на нефть привело к снижению темпов экономического под\",\"[RELIEVE]\\tПри строгом регулировании терапевтическое клонирование может укрепить человеческое достоин\",\"[RELIEVE]\\tНеобходимо также продолжать предоставлять международную помощь, с тем чтобы облегчить бедс\",\"[SELL]\\tЧто касается публикаций книжного формата, то их оформление будет изменено, они будут распрост\",\"[SELL]\\tВ этих странах компании по передаче и распределению не приобретают и не продают электроэнерги\",\"[DISPENSE]\\tДля обеспечения защиты от многочисленных проявлений несправедливости и унижения достоинст\",\"[DISPENSE]\\tПоскольку в сельских районах традиционными лидерами и посредниками, улаживающими конфликт\",\"[GRADUATE]\\tГраждане, окончившие высшие учебные заведения, но не прошедшие курса военной подготовки, \",\"[GRADUATE]\\tАльфредо Кастильеро Ойос поступил в Ворвикский университет, Англия, после окончания котор\",\"[TONE]\\tРуководители страновых отделений будут обучены и снабжены инструментами для того, чтобы управ\",\"[TONE]\\tСоединенные Штаты надеются, что эта важная Конференция примет прагматичный и практичный тон и\",\"[NARROW]\\tВ результате разница в показателях смертности между менее развитыми и более развитыми стран\",\"[NARROW]\\tНа протяжении последних десятилетий отмечался значительный прогресс в деле сокращения разры\",\"[TIE]\\tНосильщик, ставший свидетелем происшествия, сообщил, что каждого из крестьян привязали к дерев\",\"[TIE]\\tЗатем его отвели обратно в камеру, где его подвергли пыткам, привязав груз к половым органам.\",\"[FINISH]\\tОднако работа еще не закончена, и Европейский союз подтверждает свою поддержку МПООНВТ и со\",\"[FINISH]\\tЧто касается удержанных сумм по проекту \\\"Дивания\\\", то из документов следует, что \\\"ККЛ\\\" заве\",\"[SURETY]\\tВо время интифады они использовали различные способы, в том числе требовали внесения родите\",\"[SURETY]\\tВ связи с этим 30 декабря 2013 года он был повторно задержан и временно освобожден после вы\",\"[INTELLIGENCE]\\tПомощь правительствам, как правило, заключалась в предоставлении информации и операти\",\"[INTELLIGENCE]\\tНаходясь в Тибете, он, как явствует из его заявления, собирал информацию в Лхасе, Шан\",\"[CLEAR]\\tОстальные 2500 случаев еще не рассмотрены, и хотелось бы надеяться, что эта задержка будет у\",\"[CLEAR]\\tТаким образом, все разминированные районы имели большое значение для страны в целом, а также\",\"[CONFESS]\\tУтверждается, что в ночное время его выводили из камеры и подвергали пыткам, заставляя при\",\"[CONFESS]\\tЦель пыток и побоев состояла в том, чтобы вынудить одного из братьев признаться в убийстве\",\"[DRINK]\\tЕще одной рассматриваемой мерой по компенсации нехватки поступлений является повышение налог\",\"[DRINK]\\tВажным определяющим фактором уровня потребления является ценообразование, при этом особенно \",\"[ESCAPE]\\tСодержащиеся в суданских лагерях, они являются жертвами беспрецедентной жестокости, пыток и\",\"[ESCAPE]\\tПервого сентября 1991 года друг помог автору бежать.\",\"[RESIGN]\\tВпоследствии я был проинформирован о том, что гн Лэнген вышел из состава Группы по личным п\",\"[RESIGN]\\tЕсли какоелибо должностное лицо Бюро подает в отставку или по иным причинам не может заверш\",\"[ASSOCIATION]\\tОколо 120 ассоциаций, включая школьные культурные группы, поддерживают традиции сербск\",\"[ASSOCIATION]\\tУправление домами-общежитиями осуществляют районные отделения или ассоциации инвалидов\",\"[YOUNG]\\tВ ходе этих консультаций право голоса предоставляется также молодым людям, достигшим граждан\",\"[YOUNG]\\tКак и все гражданские лица из числа эритрейцев, которые содержатся в концлагерях в Эфиопии, \",\"[PROMOTE]\\tМы также прилагаем активные усилия для содействия региональному сотрудничеству и либерализ\",\"[PROMOTE]\\tКроме того, особое внимание будет уделяться принятию законов, которые способствовали бы пр\",\"[FIRMLY]\\tМы твердо убеждены в том, что правительства и народы государств - членов Организации Объеди\",\"[FIRMLY]\\tМы твердо убеждены в том, что решительная и быстрая подготовка к послеядерной эпохе должна \",\"[ORIGINAL]\\tВ настоящее время Группа может предложить лишь первоначально представленные руководящие п\",\"[ORIGINAL]\\tВ то же время преобладающее мнение состояло в том, что термин \\\"первоначальный договор\\\" яв\",\"[ACT]\\tБездействие может создать ошибочное впечатление у организаторов террористических актов.\",\"[ACT]\\tАкты терроризма могут серьезно препятствовать осуществлению прав человека, однако лишь на прав\",\"[REACT]\\tБудучи информированными относительно жестокого обращения, судебные власти тем не менее никак\",\"[REACT]\\tНадеюсь, что Совет Безопасности безотлагательно примет меры к исправлению сложившейся ситуац\",\"[OUTSTANDING]\\tИх выдающиеся качества служили для меня источником вдохновения.\",\"[OUTSTANDING]\\tОгромное значение в законодательстве и политике Германии придается защите населения с \",\"[SETTLEMENT]\\tУчастники этой конференции, темами которой являлись \\\"Надлежащее жилье для всех\\\" и \\\"Усто\",\"[SETTLEMENT]\\tРешение израильского правительства одобрить расширение поселений, захват палестинских з\",\"[ATTACK]\\tВвиду высокой плотности населения и промышленных центров Израиль особенно уязвим в случае н\",\"[ATTACK]\\tСреди руководителей этой операции были лица, которые и раньше совершали террористические ак\",\"[FOREIGN]\\tОднако вне зависимости от имущественной принадлежности эти предприятия, как правило, имеют\",\"[FOREIGN]\\tНаименее развитым странам должен быть предоставлен особый режим в том, что касается списан\",\"[INJURY]\\tУ Васила Василева были обнаружены повреждения внутренних органов, включая перфорированную 1\",\"[INJURY]\\tЭти травмы могут усугубляться телесными повреждениями в случае открытых физических нападени\",\"[KEEP]\\tВ обоих случаях арестованных держали в темном, холодном и сыром помещении в подвале, которое,\",\"[KEEP]\\tВсе соответствующие документы должны храниться в банках в течение не менее пяти лет.\",\"[WONDER]\\tОни спрашивают, какие последствия она может иметь для их повседневной жизни и их стремления\",\"[WONDER]\\tОн также интересуется, является ли такое подтверждение простой формальностью или же оно пре\",\"[CANE]\\tПо сообщениям, его били палками до бессознательного состояния, заставляли есть собственные фе\",\"[CANE]\\tВ Центре обучения для мальчиков, в котором проживают дети, нуждающиеся в защите и уходе, а та\",\"[CLEAR]\\tОратор говорит, что правительство Австралии неоднократно осуждало и однозначно отвергало нет\",\"[CLEAR]\\tТалибы ясно заявили, что они выступают против совместного обучения детей старше девяти лет.\",\"[PICTURE]\\tКроме того, всестороннее представление о достигнутых результатах можно получить по итогам \",\"[PICTURE]\\tВследствие этого воспроизведение целостной картины осуществления права, предусмотренного д\",\"[INTENSIVE]\\tИнтенсивные обсуждения, проходившие на протяжении последних двух лет, способствовали рас\",\"[INTENSIVE]\\tУчастники программы стипендий проходят интенсивный курс специализированной подготовки по\",\"[CERTAIN]\\tМы определенно знаем, что ни одна делегация не желает иного.\",\"[CERTAIN]\\tОднако уверенности в том, что эти две категории охватывают все виды юридических лиц, нет.\",\"[INTELLECT]\\tМои здешние коллеги образуются контингент, который отличается высоким интеллектом, анали\",\"[INTELLECT]\\tМои здешние коллеги образуются контингент, который отличается высоким интеллектом, анали\",\"[FOCUS]\\tПри выполнении как тех, так и других функций он сосредоточил свое внимание на оказании содей\",\"[FOCUS]\\tСосредоточив свою работу на вопросах энергетики и устойчивого развития, КНТР может содейство\",\"[LANGUAGE]\\tНам следует также поощрять стремление Департамента общественной информации к максимально \",\"[LANGUAGE]\\tУчебники для изучения языков национальных меньшинств учащимся выдаются бесплатно.\",\"[PREPARE]\\tМы признательны ЮНЕСКО за усилия по подготовке документа и предоставлению его в распоряжен\",\"[PREPARE]\\tНа основе результатов этих обсуждений может быть подготовлен документ для рассмотрения ВОК\",\"[FACT]\\tРабочая группа считает, что она может принять решение на основании фактов и обстоятельств ука\",\"[FACT]\\tОбстоятельства данного дела указывают на то, что г-н Грант знал о сути предполагаемого против\",\"[LINK]\\tЭтот бюллетень служит каналом связи между членами, отделениями и организациями во всем мире.\",\"[LINK]\\tЛиния на Женеву также представляет собой альтернативный канал телефонной и факсимильной связи\",\"[GOVERN]\\tМФСП финансируется и управляется своими организациями-членами.\",\"[GOVERN]\\tСтрана управляется с помощью военных декретов, и верховенство права отсутствует.\",\"[CHOOSE]\\tНезависимо от того, какой вариант избирается, должно обеспечиваться соблюдение основных пра\",\"[CHOOSE]\\tТем не менее наступают определенные моменты, когда выбранный путь подводит к развилке и при\",\"[REFLECT]\\tЦель рабочей группы заключается в достижении единообразного понимания этого права и его от\",\"[REFLECT]\\tЭти принципы не были привнесены островитянам извне, напротив, они являются скорее отражени\",\"[ABANDON]\\tМестные хорватские должностные лица не предпринимают шагов для прекращения этой практики.\",\"[ABANDON]\\tЕсли принцип платежеспособности не будет полностью отменен, а верхний предел не будет сниж\",\"[PROSECUTE]\\tВласти предпринимали попытки закрыть как можно больше таких веб-сайтов и привлечь к суде\",\"[PROSECUTE]\\tТакая подготовка должна сосредоточиваться на методах, используемых для предупреждения та\",\"[EXERCISE]\\tВ этой связи следует отметить, что в рамках своей так называемой \\\"совместной военной докт\",\"[EXERCISE]\\tПрограмма курсов была разбита на несколько блоков и включала в себя курс лекций и практич\",\"[PROPORTION]\\tС учетом большой доли вышедших в отставку сотрудников среди временных сотрудников в лин\",\"[PROPORTION]\\tВ 1996 году доля женщин, труд которых не оплачивался, составляла 26,7 процента женщин, \",\"[LAY]\\tКатар подтверждает необходимость создания основы для доверия и использования превентивной дипл\",\"[LAY]\\tВ этой связи важно сделать больший упор на норме, касающейся исчерпания внутренних средств пра\",\"[PROFESSIONAL]\\tКроме того, Управлением проводились официальные поиски кандидатов их этих государств \",\"[PROFESSIONAL]\\tВ настоящее время женщины составляют 46 процентов его сотрудников категории специалис\",\"[PUT]\\tТакому положению необходимо положить конец, с тем чтобы не только гарантировать надлежащее фун\",\"[PUT]\\tС 1968 года одна из приоритетных задач правительства заключалась в том, чтобы положить конец в\",\"[CORRUPTION]\\tБыли уволены и подвергнуты тюремному заключению по обвинению в коррупции девять из 19 н\",\"[CORRUPTION]\\tЧто касается других проектов, то его правительство придает особое значение вопросам бор\",\"[COME]\\tЯ считаю, что, добившись успеха, мы заложим тем самым основы мира и международной безопасност\",\"[COME]\\tКак мне думается, именно в этом состоит суть предложения, исходящего от Группы 21.\",\"[REPRESENTATION]\\tМы достигли 39-процентного уровня представленности женщин и преисполнены решимости \",\"[REPRESENTATION]\\tСогласно этому докладу, представленность государств-членов определяется на основе у\",\"[PROCESS]\\tНаземная принимающая станция центра регулярно принимает и обрабатывает спутниковые данные.\",\"[PROCESS]\\tЗа последние 10 лет этими учреждениями было рассмотрено лишь 10% всех заявлений на предост\",\"[SEIZE]\\tЯ призываю г-на Клиридиса воспользоваться предоставленной возможностью, а не упускать ее.\",\"[SEIZE]\\tСпециальный представитель будет использовать все имеющиеся возможности и форумы для пропаган\",\"[INFLUENCE]\\tЦель должна состоять в сведении на нет политического влияния на избрание судей.\",\"[INFLUENCE]\\tПарламентарии оказывают решающее влияние на определение политики в области здравоохранен\",\"[ACCOMMODATION]\\tСтипендии предназначаются для оплаты поездок в Женеву, размещения, медицинского стра\",\"[ACCOMMODATION]\\tИ наконец, А.С.Ж. обязано оказывать помощь жильцам, подвергшимся выселению, в поиска\",\"[COMPLETE]\\tДо завершения процесса воссоединения Организация Объединенных Наций обязана учитывать жел\",\"[COMPLETE]\\tТем не менее эта серьезная и почетная работа Специального комитета еще не завершена.\",\"[DRAFT]\\tПравительство его страны не поддерживает идеи о включении определения \\\"коренные народы\\\" в пр\",\"[DRAFT]\\tПроект доклада был обсужден с участием представителей Комиссии на заседании, состоявшемся 14\",\"[SHOW]\\tСравнение показало, что, поскольку структура обоих изданий повторяет структуру Устава Организ\",\"[SHOW]\\tВместе с тем, как показали обсуждения, существует ряд важных технологических и экономических \",\"[RESOURCE]\\tОратор подчеркивает, что, хотя на правительствах лежит главная ответственность за мобилиз\",\"[RESOURCE]\\tНесмотря на ограниченность своих финансовых ресурсов, Таиланд осуществляет тесное сотрудн\",\"[FEEL]\\tНа наш взгляд, она необходима для укрепления роли Секретариата.\",\"[FEEL]\\tЕсли \\\"резолюция\\\" будет принята под нажимом, мы более не будем считать для себя необходимым ос\",\"[HERD]\\tЭтих беженцев, возвращающихся из Заира, сначала предположительно разместили в одной из церкве\",\"[HERD]\\tОставшиеся сербы и другие неалбанцы согнаны в анклавы, гетто и лагеря и на повседневной основ\",\"[INTERPRETATION]\\tНыне, когда международное сотрудничество приобретает еще более важное значение, чем\",\"[INTERPRETATION]\\tТолкование, вытекающее из заявления о толковании в отношении двустороннего договора\",\"[EXHAUST]\\tОрганизация Объединенных Наций может идти на такие меры только в исключительных случаях, к\",\"[EXHAUST]\\tХотя еще не все средства обжалования были исчерпаны, г-ну Османи было объявлено, что он до\",\"[GUARANTEE]\\tБудет создан гарантийный фонд в целях содействия финансированию проектов в области разви\",\"[GUARANTEE]\\tВ качестве примера тем, относящихся к данной категории, можно привести субсидии, гаранти\",\"[CULTURE]\\tКроме того, было создано учреждение по развитию канакской культуры в целях поощрения местн\",\"[CULTURE]\\tИскусство и культура лишь тогда органично вплетаются в ткань социальной системы, когда они\",\"[LET]\\tОднако он не позволил этому чувству отразиться на его работе, в которой он руководствовался пр\",\"[LET]\\tМы надеемся, что этого не произойдет, и призываем другие правительства не позволить втянуть се\",\"[COMMUNICATE]\\tЗамечания Комиссии по всем вопросам, содержащимся в настоящем докладе, были сообщены П\",\"[COMMUNICATE]\\tЭта рекомендация была доведена до сведения исполняющего обязанности Директора Отдела у\",\"[DISPOSAL]\\tПодробный осмотр подземных сооружений для отвода дождевой воды прошел беспрепятственно.\",\"[DISPOSAL]\\tРешение этих проблем еще больше усугубляет положение с ресурсами, имеющимися в распоряжен\",\"[SUBJECT]\\tДопуск и участие наблюдателей регулируются правилами процедуры, принятыми Совещанием Сторо\",\"[SUBJECT]\\tВ то же время некоторые аспекты международной торговли, такие, как транспорт, подпадают по\",\"[PRETENCE]\\tРаздел 142 Женской хартии, который запрещает торговлю женщинами под обманным предлогом.\",\"[PRETENCE]\\tИзгнание жителей Чагоса под ложным предлогом явилось вопиющим нарушением прав человека.\",\"[SUBSTANCE]\\tПредставитель, выступая по порядку ведения заседания, не может говорить по существу обсу\",\"[SUBSTANCE]\\tИ вот сейчас мне бы хотелось ответить на эти вопросы по существу, а также в увязке с общ\",\"[INTRODUCE]\\tВ скором времени в стране будет принято новое законодательство по регулированию деятельн\",\"[INTRODUCE]\\tНовые политические инициативы, принятые в 1996 году, включают в себя новые государственн\",\"[REVERSAL]\\tПомимо массового оттока иностранных инвестиций, это оказывает понижающее воздействие на ц\",\"[REVERSAL]\\tПосле обсуждения Рабочая группа согласились включить текст, касающийся отмены или изменен\",\"[POINT]\\tНесмотря на то, что члены профсоюза без сопротивления выполнили приказ, на некоторых из них \",\"[POINT]\\tКроме того, ему заталкивали в рот гранату и целились ему в голову из винтовки.\",\"[RECKON]\\tЯ должен признать, что Ваш предшественник посол Фолькер Хайнсберг уже предпринял шаги в это\",\"[RECKON]\\tСчитается, что рабочие места, источники существования и возможности в своей совокупности пр\",\"[PATCH]\\tКонфискованные земли были перепаханы, разделены на мелкие участки и проданы тем, кто мог поз\",\"[PATCH]\\tКогда дороги проходят по местности, которая ранее была покрыта лесом, они разрезают ландшафт\",\"[BANK]\\tВыведенная из обращения часть установленного количества может быть депонирована приобретающей\",\"[BANK]\\tЭтот список также должен включать долги, в результате которых были получены деньги, украденны\",\"[CASUAL]\\tСоглашаясь на случайные заработки или на работу в неформальном секторе, лица, принадлежащие\",\"[CASUAL]\\tБезземельное население составляет 30 - 40 процентов от общей численности сельского населени\",\"[PIPE]\\tВ горных районах возможно обустройство защищенных родниковых источников и использование самот\",\"[PIPE]\\tОтсутствуют также данные о сколько-нибудь существенном риске, связанном с потреблением воды, \",\"[SCOUT]\\tПрограммы образования и развития руководящих навыков, групповые действия и информационно-про\",\"[SCOUT]\\tВ Перу мобилизуются организованные группы подростков, в том числе скаутов, готовящихся стать\",\"[SURGICAL]\\tВ связи с травмами, полученными в результате пыток, она перенесла две хирургические опера\",\"[SURGICAL]\\tМедицинские колледжи и техникумы получили лабораторное, гинекологическое и физиотерапевти\",\"[LOBBY]\\tВ то время как большинство мужчин имеют возможность увязывать свою предпринимательскую деяте\",\"[LOBBY]\\tЛобби, представляющие интересы международных и местных деловых кругов, нуждаются в данных, п\",\"[DWARF]\\tВ ходе этих мероприятий ведется наблюдение за несколькими переменными звездами, имеющими кор\",\"[DWARF]\\tОсновными научными задачами программы полета этого телескопа являются обнаружение и исследов\",\"[BEG]\\tЭта тема заставляет нас мучительно вспоминать огромный хор приглушенных голосов людей, которых\",\"[BEG]\\tОратор просит Комиссию не возлагать на плечи правительства дополнительный груз.\",\"[NEEDLE]\\tВо всем мире до 40% инъекций производится повторно используемыми шприцами и иглами без стер\",\"[NEEDLE]\\tМы смогли ограничить распространение передачи ВИЧ среди лиц, употребляющих наркотики путем \",\"[THUNDER]\\tПримерно 25 процентов населения Африки рассматривает многие компоненты (например, звезды, \",\"[THUNDER]\\tГорный рельеф Армении обусловливает частые метеорологические явления, такие как сильные ли\",\"[CROOKED]\\tПолитика должна быть нацелена на общественное благо, а не на личную выгоду коррумпированны\",\"[CROOKED]\\tВ этой связи я вспоминаю известного немецкого философа Эммануила Канта, который однажды ск\",\"[CONJUGATE]\\tХарактерно, что во многих международных документах достоинство личности сопрягается со с\",\"[CONJUGATE]\\tПозитивная реакция на эти аспекты со стороны участников в сочетании с деятельностью госу\",\"[INFLECTION]\\tВесной 2004 года Совет финского языка Исследовательского института языков Финляндии рас\",\"[INFLECTION]\\tОднако значение и флексия таких слов не всегда совпадают.\",\"[MASQUERADE]\\tОсобое сожаление вызывает тот факт, что в этом маскараде с демонстрацией силы приняли у\",\"[MASQUERADE]\\tПора покончить с маскарадом и усадить алжирцев за стол переговоров с Марокко.\",\"[DISORDERED]\\tВ ходе всех дискуссий отмечалась одна характерная особенность - проблема мирного исполь\",\"[DISORDERED]\\tИ наконец, товарные биржи могут играть роль примера для подражания на рынке, который в \",\"[PADDLE]\\tМы надеемся, что благодаря благородным идеалам и принципам этой всемирной Организации Тувал\",\"[PADDLE]\\tВо время прилива группа, состоящая в большинстве своем из женщин и детей, добирается на неб\",\"[SOFTLY]\\tВы всегда говорили мягким голосом, но этот голос звучал громче всех остальных, когда Вы бес\",\"[SOFTLY]\\tПрежде чем предоставить слово первому оратору, я хотел бы вновь попросить членов Комитета п\",\"[BULL]\\tПапские буллы и Тордесильясский договор 1494 года являются первыми документами, в которых был\",\"[BULL]\\tВ нашей стране есть пословица: когда быки дерутся, страдает трава.\",\"[EXHIBIT]\\tОднако чтобы остановить спад, и государственные и негосударственные субъекты должны продем\",\"[EXHIBIT]\\tХотя их мандат заключается в определении обязанностей государств, некоторые из них проявля\",\"[NUMBER]\\tКроме того, через свою систему библиотек-депозитариев, которых в настоящее время насчитывае\",\"[NUMBER]\\tВ 1997 году общее число туристов, прибывших в территорию, составило 1 246 571 человек, что \",\"[ILLUMINATE]\\tВсеобщая декларация прав человека воплощает в себе и высвечивает глобальный плюрализм и\",\"[ILLUMINATE]\\tВ данном случае, в частности, следует дополнительно изучить опыт Китая, поскольку он да\",\"[STIR]\\tЭтот вопрос вызвал широкие дебаты и интерес во многих секторах -- от правительств до деловых \",\"[STIR]\\tЭто дело взбудоражило, судя по всему, общественное мнение, однако на втором туре выборов глав\",\"[PRECIPITATE]\\tПомимо возможности подвергнуться дальнейшей маргинализации Африке грозит опасность тог\",\"[PRECIPITATE]\\tГолод на Африканском Роге, вызванный самой жестокой за последние пятьдесят лет засухой\",\"[LURK]\\tНо враги всех народов по-прежнему прячутся в тени, постоянно что-то замышляя, со злостью в се\",\"[LURK]\\tЭто единственный инструмент, который мы имеем, чтобы устранить скрытые соблазны обмана.\",\"[EXCEPTIONAL]\\tПредпринимаются усилия для защиты женщин от насилия - чрезвычайно редкого явления в су\",\"[EXCEPTIONAL]\\tНа память приходит случай с бывшей югославской Республикой Македония, которая не посте\",\"[INDULGENCE]\\tС позволения Совета Безопасности я намерен вернуться к рассмотрению этого вопроса в Сов\",\"[INDULGENCE]\\tС Вашего разрешения, гн Председатель, я хотел бы уступить оставшееся у меня время помощ\",\"[PHRASE]\\tСлова \\\"Генерального секретаря\\\" следует заменить, с тем чтобы привести это положение в соотв\",\"[PHRASE]\\tБыла высказана мысль, что текст в квадратных скобках можно было бы улучшить, включив в него\",\"[POSTURE]\\tСожалеем о том, что сохраняющаяся негибкая позиция некоторых государств, обладающих ядерны\",\"[POSTURE]\\tХотя в оправдание такой позиции, как правило, приводится довод о законном выражении идей, \",\"[AGGREGATE]\\tОбщей размер зарплат, выплаченных в этот период, составил 102 711 кувейтских динаров.\",\"[AGGREGATE]\\tПримечание: Сводные показатели представляют собой расчеты Секретариата ЕЭК на основе взв\",\"[PRECEDE]\\tЭто нападение, которому предшествовало ложное заявление о сдаче, было хорошо скоординирова\",\"[PRECEDE]\\tКонференции предшествовало организационное совещание 24 июня.\",\"[CHRONIC]\\tЕсли вся жизнь проходит в бедности, это означает, что к старости многие люди уже хроническ\",\"[CHRONIC]\\tНеобходимо уделять первоочередное внимание профилактике, позволяющей избежать развития хро\",\"[BAR]\\tВместе с тем в ответ на запрос Комитет был дополнительно информирован об отсутствии оперативны\",\"[BAR]\\tЕсли Генеральная прокуратура считает, что необходимо принять обеспечительные меры, в частности\",\"[CROSS]\\tИнтернет обеспечивает расистам возможность осуществлять трансграничную деятельность и обходи\",\"[CROSS]\\tПроблема защиты окружающей среды не знает национальных границ и сейчас ей уделяется внимание\",\"[FLARE]\\tПо мере того, как накалялись страсти, палестинские полицейские направили свое оружие на солд\",\"[FLARE]\\tНапряженность чувствуется во всем регионе, как в военной сфере, так и на дипломатической аре\",\"[SLIGHT]\\tХотя положение дел с принятием законодательства против отмывания денег несколько улучшилось\",\"[SLIGHT]\\tНам необходимо внести небольшую поправку в пункт 17 постановляющей части проекта резолюции,\",\"[SPUR]\\tВместе с другими представителями международного сообщества мы надеемся, что недавние проявлен\",\"[SPUR]\\tДля отыскания прочных решений гуманитарная деятельность должна стать стимулом для долгосрочно\",\"[PRECISELY]\\tНо как раз в свете удручающего опыта прошлого года и важно вновь осветить эту тему.\",\"[PRECISELY]\\tКак я уверен, все согласны признать трудность этой задачи, и вот это-то признание, котор\",\"[CHALLENGE]\\tАвтор сообщения и его отец оспаривали законность сделки по продаже и заявляли о своем пр\",\"[CHALLENGE]\\tНекоторые государства дошли до того, что поставили под вопрос право органов по наблюдени\",\"[YOKE]\\tПуэрто-Рико пора сбросить с себя колониальное ярмо и присоединиться к числу суверенных госуда\",\"[YOKE]\\tНароды Ближнего Востока по-прежнему страдают от ига этой оккупации и разных форм унижений и п\",\"[CAST]\\tОн затрагивает все страны и бросает длинную тень на будущее.\",\"[CAST]\\tНа Корейском полуострове и в других регионах надвигается зловещая тень угрозы распространения\",\"[PUSH]\\tРеальной движущей силой напора к вепонизации космического пространства является намерение обе\",\"[PUSH]\\tНастойчивые призывы выбрать новый экономический путь, сосредоточив усилия на борьбе с бедност\",\"[ORDER]\\tСотрудникам правоохранительных органов приказано посещать дом того или иного представителя, \",\"[ORDER]\\tПроведенное по распоряжению министерства юстиции вскрытие показало, что в верхней левой част\",\"[LOOK]\\tЕсли внимательно взглянуть на нынешний кадровый состав МАГАТЭ, то можно увидеть, что уровень \",\"[LOOK]\\tПолагаем, что сегодня настало время комплексно посмотреть и на весь возможный спектр мер дове\",\"[DEFENSE]\\tВ Законе об оружии указываются виды стрелкового оружия, которое запрещено использовать в к\",\"[DEFENSE]\\tОбеспечивается реализация просветительских программ, направленных на предотвращение прости\",\"[DRAIN]\\tСтихийные бедствия также отвлекают и истощают ограниченные государственные ресурсы и являютс\",\"[DRAIN]\\tПри отсутствии надлежащего планирования мер оперативного реагирования может быть потрачено г\",\"[BADLY]\\tКроме того, дети вдов могут так плохо питаться и одеваться и иметь столь плохие жилищные усл\",\"[BADLY]\\tГлавный потенциальный недостаток этих инструментов заключается в том, что они являются сложн\",\"[ENTRENCH]\\tВо многих промышленно развитых странах в течение последнего десятилетия это привело к том\",\"[ENTRENCH]\\tПокойный шейх неустанно трудился в интересах упрочения идеалов взаимопонимания и солидарн\",\"[GULF]\\tТаджикистан выступает за то, чтобы Организация Объединенных Наций умножила свой вклад в прида\",\"[GULF]\\tОсуществление программы также высветило наличие коммуникационного разрыва, существующего межд\",\"[COMMAND]\\tПечальные лица больных ВИЧ\\u002fСПИДом, горе, причиненное их семьям и общинам, и постоянный рос\",\"[COMMAND]\\tМы искренне надеемся, что данный проект резолюции сможет получить такую же или даже бóльшу\",\"[NEGATE]\\tЭти усилия действительно будут сведены на нет, если у поставщиков из этих стран сложится вп\",\"[NEGATE]\\tХотя он приветствует ратификацию правительством пяти конвенций о правах человека, их действ\",\"[DISSOLVE]\\tТем не менее роспуск политической партии должен быть мерой, к которой следует прибегать л\",\"[DISSOLVE]\\tЕдиничное не должно растворяться в предполагаемом общем, и его тем более не следует смеши\",\"[HIDE]\\tИ тут я не могу умолчать о том, с каким интересом, а подчас и с истинным восхищением я наблюд\",\"[HIDE]\\tХотя женщины всегда вносили свой вклад в деятельность национального производственного сектора\",\"[SPRING]\\tКомитет столкнулся с серьезными трудностями, пытаясь выполнить намеченную на его зимне-весе\",\"[SPRING]\\tКогда весной этого года я прибыл в Женеву, я сделал лишь короткое вводное заявление на КР, \",\"[HORROR]\\tПоявившаяся на свет после ужасов Второй мировой войны, она была задумана как оплот терпимос\",\"[HORROR]\\tВ течение длительного времени тоталитарный режим скрывал свои злодеяния за железным занавес\",\"[TRACE]\\tГ-н Ван Несс проследил историю предлагаемых основных принципов применения реституционного пр\",\"[TRACE]\\tПо общему мнению, они ведут свое происхождение от абиссинских (эфиопских) солдат, которые вт\",\"[HELPLESS]\\tНам известно, каким беспомощным может оказаться международное сообщество, когда в рамках \",\"[HELPLESS]\\tВ Швейцарии она почувствовала себя ненужной, беспомощной и угнетенной, и ее преследовали \",\"[EASE]\\tЦель такой эвакуации состояла в укреплении убежища путем облегчения бремени принимающей стран\",\"[EASE]\\tПредпринимаются специальные усилия для содействия осуществлению стратегий в области социально\",\"[NAME]\\tВ подтверждение этих сообщений Специальному докладчику были представлены несколько списков фа\",\"[NAME]\\tФамилии 905 заявителей, о которых идет речь, были найдены в компьютеризованных списках заявит\",\"[TIME]\\tПо мнению членов Совета, направление такой миссии в надлежащее время могло бы быть полезным ш\",\"[TIME]\\tДоказательства, возможно, необходимо будет проанализировать, а представление обвинительных за\",\"[HOUSE]\\tЖенщина заявила, что она испытывает чувство страха, находясь в своем собственном доме, и что\",\"[HOUSE]\\tАвтор освободил дом, который впоследствии был выставлен на продажу его бывшей женой в соотве\",\"[LEND]\\tУВКБ ожидает, что правительство, следуя своим обязательствам, будет оказывать всемерную подде\",\"[LEND]\\tСо своей стороны, ЮНДКП должна продолжать оказывать всемерную поддержку странам, приверженным\",\"[SWING]\\tКаждый год наши высказывания колеблются между надеждой на полный, но неосуществленный прорыв\",\"[SWING]\\tГосударственная политика переключилась с содействия постепенному повышению благосостояния на\",\"[DISPENSATION]\\tКоротко говоря, наши обещания не претворяются в практическое своевременное и адекватн\",\"[DISPENSATION]\\tОна будет также контролировать отпуск лекарств по рецептам врачей и заказывать лекарс\",\"[CURE]\\tИм никогда не удается залечить эти психологические травмы, каким бы высоким ни было качество \",\"[CURE]\\tПо нашим данным, более 100 пациентов были излечены с помощью нашего исследовательского матери\",\"[LOVER]\\tДевушек в проституцию обычно вовлекают их любовники, тогда как в случае мальчиков это делают\",\"[LOVER]\\tСолдат убил из табельного оружия свою жену и сослуживца, считая, что они были любовниками.\",\"[IMPULSE]\\tИтоговый документ придал импульс разработке мощной повестки дня по борьбе с терроризмом.\",\"[IMPULSE]\\tЯ полагаю, что этот форум Генеральной Ассамблеи придаст новый импульс усилиям, направленны\",\"[MASTERY]\\tПоэтому позвольте мировому сообществу помочь Африке овладеть этим мощным средством.\",\"[MASTERY]\\tТаким образом, процесс набора персонала приводит к тому, что почти все сотрудники владеют \",\"[FLOAT]\\tРеализованы исходные конструкционные задания по компонентам дрифтерных буев и свободно дрейф\",\"[FLOAT]\\tНаряду с системами заякоренных буев, эти буи станут основной базой для выполнения в верхних \",\"[INCLINATION]\\tПервоначально Комиссия склонялась к тому, чтобы разрешить и далее базирующимся в Риме \",\"[INCLINATION]\\tВ то же время мы, несомненно, хотели бы облегчить принятие решения государствами-члена\",\"[SLOT]\\tЕсли он решит, что так оно и есть, он, возможно, пожелает поменяться с Комитетом по программе\",\"[SLOT]\\tВ настоящее время в действующем штатном расписании имеется только девять вакансий.\",\"[ANTIQUITY]\\tНа вебсайте имеются отдельные разделы для тех, кто занят в сфере торговли произведениями\",\"[ANTIQUITY]\\tКроме того, Совет организовал параллельное мероприятие по теме незаконной торговли предм\",\"[TRIM]\\tОн был одет в обычную одежду, а его волосы и борода были коротко подстрижены.\",\"[TRIM]\\tИ в самом деле, некоторые доноры уже урезали статьи бюджетных ассигнований на оказание внешне\",\"[SOUND]\\tНекоторые из них, такие, как трехокись сурьмы и бура, не являются экологически безопасными.\",\"[SOUND]\\tРумыния также согласна с идеей о том, что выбор атомной энергии как экологически чистого аль\",\"[SET]\\tПоэтому в качестве важнейшего инструмента для достижения намеченных целей были избраны доброво\",\"[SET]\\tНикакой четко определенной формулы в отношении порядка работы этих отделений нет.\",\"[DIAMOND]\\tПо первому проходят алмазы, добываемые на находящихся в совместном владении рудниках, кото\",\"[DIAMOND]\\tВсе участники согласились с необходимостью заняться вопросом о незаконной торговле алмазам\",\"[DREADFUL]\\tПосле столь трагичных катаклизмов международное сообщество проявило солидарность, которой\",\"[DREADFUL]\\tВ связи с чудовищной катастрофой, недавно обрушившейся нашу страну, у меня есть еще одна \",\"[REAR]\\tЕго цель заключается в поощрении отцов к выполнению более активной роли в воспитании их мален\",\"[REAR]\\tЧто касается раздела собственности супругов после развода, то период времени, потраченный жен\",\"[DORMANT]\\tПоэтому не ясно, каково число бездействующих счетов и были ли должным образом отменены пол\",\"[DORMANT]\\tНа практикуме 2004 года высказывалось и еще одно соображение: как отличить сформировавшуюс\",\"[BLACK]\\tВ семи штатах от 80 до 90% всех лиц, лишенных свободы по обвинениям, связанным с наркотиками\",\"[BLACK]\\tДля нее были характерны отказ черным в политических правах, разделение страны на белые и чер\",\"[RIPE]\\tНа основе такого нового обзора Комиссия могла бы тогда составить список тем, готовых для коди\",\"[RIPE]\\tУсилия, предпринимаемые некоторыми членами Конференции с целью замедлить прогресс в решении в\",\"[TOUGH]\\tПравительство намерено проводить жесткую денежно-кредитную политику для решения задач поддер\",\"[TOUGH]\\tЛидеры стран Африки должны принять жесткие, но необходимые меры в целях содействия росту и р\",\"[GOLDEN]\\tПереговоры, ведущие к заключению такого договора о торговле оружием, создают прекрасные воз\",\"[GOLDEN]\\tНо только тогда уже будет слишком поздно, и это будет отражать то обстоятельство, что КР уп\",\"[SMART]\\tНаиболее широкие потенциальные возможности для расширения практического применения \\\"умных\\\" м\",\"[SMART]\\tНовая система пропусков, включающая технологию микропроцессорных карточек, обеспечит стандар\",\"[PRIMITIVE]\\tПо его словам, речь идет об идиллических процессах, присущих периоду первоначального нак\",\"[PRIMITIVE]\\tНынешний несправедливый и глубоко неравноправный международный порядок не доложен быть з\",\"[BACK]\\tСообщается, что ему выстрелили в спину и позднее он скончался в госпитале.\",\"[BACK]\\tУтверждается, что его поместили в следственной части на третьем этаже, где ему наносили удары\",\"[MASK]\\tНесколько министров выразили обеспокоенность по поводу того, что последние цифры ОПР затушевы\",\"[MASK]\\tПочти во всех странах наблюдается значительный дисбаланс, часто маскируемый национальной стат\",\"[WEALTH]\\tХотя выработка методологии пока не завершена, ГООР 1999 года обеспечивают колоссальный объе\",\"[WEALTH]\\tДепартамент общественной информации располагает богатым опытом тесного сотрудничества со вс\",\"[LEAP]\\tДля того чтобы нигерийское государство могло сделать решающий шаг к достижению Целей развития\",\"[LEAP]\\tВ то время, как страны развитого мира быстрыми темпами продвигаются вперед в области науки и \",\"[IRON]\\tСлучаи малокровия у беременных женщин являются результатом недостатка железа и протеинов в пи\",\"[IRON]\\tОсновными природными ресурсами являются природный газ, уголь, соль и железо.\",\"[RELAY]\\tПомимо способности непосредственно передавать данные на Землю Envisat может также использова\",\"[RELAY]\\tЭксперименты будут проводиться через ретрансляционные спутники, что позволит наблюдать повед\",\"[NEUTRAL]\\tНациональной избирательной комиссии необходимо стать подлинно независимым, нейтральным и п\",\"[NEUTRAL]\\tНовая Зеландия готова - как это ей предложила Папуа-Новая Гвинея - создать и возглавить не\",\"[ELLIPTIC]\\tВ паре с космическим аппаратом \\\"Интербол-2\\\" 29 августа 1996 года на эллиптическую орбиту \",\"[ELLIPTIC]\\tВ настоящее время применяются или разрабатываются другие математические методы, такие как\",\"[FILM]\\tУкраинские фильмы были представлены на кинофестивалях в странах далекого и близкого зарубежья\",\"[FILM]\\tОн имел дипломы факультетов киноискусства и фотографии, и один из его фильмов был показан на \",\"[PAPER]\\tСтажеры работают по проектам в тесном контакте со стипендиатами, занимающимися научными иссл\",\"[PAPER]\\tГ-н Гарвалов и другие члены Комитета также выступили с замечаниями по совместному рабочему д\",\"[PRINT]\\tВ то же время для обеспечения охвата всех стран большое внимание будет по-прежнему уделяться\",\"[PRINT]\\tКак и прежде, ЮНЕСКО уделяет значительное внимание развитию традиционных средств массовой ин\",\"[BROWSE]\\tНесколько таких терминалов оборудованы обслуживающими программами, которые позволяют просма\",\"[BROWSE]\\tДля пользования последней взимается абонентская плата, и подписчики имеют возможность не то\",\"[CANOPY]\\tПосадка с 2000 по 2005 год 19 миллионов деревьев позволила увеличить лесной покров.\",\"[CANOPY]\\tС первого или второго года деревья необходимо будет обрезать для формирования ствола и крон\",\"[DUE]\\tСоединенные Штаты поддерживают принципы укомплектования кадрами с должным учетом принципа геог\",\"[DUE]\\tХотя Консультативный комитет в должное время выскажется в отношении этих отчетов, его коммента\",\"[MULTIPLY]\\tВ Афганистане производство наркотиков увеличилось в разы с тех пор, как там находятся сил\",\"[MULTIPLY]\\tЗа последние несколько лет число арестов увеличилось в несколько раз, и сейчас производит\",\"[CELEBRATE]\\tОдна делегация поблагодарила Департамент за его ценную поддержку в содействии организаци\",\"[CELEBRATE]\\tВ этом году наш народ отметил десятую годовщину восстановления единства испытавшей траге\",\"[VICIOUS]\\tДоведенные до состояния националистической истерии, обманутые массы пошли на совершение зл\",\"[VICIOUS]\\tВ рамках этой жестокой военной кампании израильские оккупационные силы ежедневно продолжаю\",\"[TENACIOUS]\\tРезолюция 2023 (2011) Совета Безопасности Организации негативно скажется, по крайней мер\",\"[TENACIOUS]\\tНа протяжении многих лет китайский и африканский народы упорно и настойчиво создавали ве\",\"[ECONOMICALLY]\\tКроме того, источниками крупномасштабных вынужденных перемещений населения часто явля\",\"[ECONOMICALLY]\\tВследствие того, что женщины составляют 52 процента населения страны, Малави считает \",\"[REVOLUTION]\\tС самого начала промышленной революции человеческое общество накапливает информацию и з\",\"[REVOLUTION]\\tГлобализация и техническая революция привели к тому, что мир стал развиваться более стр\",\"[POISON]\\tЛюди, получающие отравление пестицидами, часто проживают в отдаленных сельских районах, где\",\"[POISON]\\tДвое из отравившихся погибли, и еще двое остаются без сознания в критическом состоянии.\",\"[HUMANITY]\\tОжидается, что любой такой суд будет наделен полномочиями для разбирательства дел о прест\",\"[HUMANITY]\\tОтныне любое лицо, совершившее преступление геноцида, преступления против человечности ил\",\"[TRUTH]\\tПоэтому одной их самых разочаровывающих истин уходящего столетия является то, что международ\",\"[TRUTH]\\tПрезидент Саддам Хусейн не единственный иракский руководитель, который констатировал эти ист\",\"[MOUTH]\\tПо сообщениям, первоначально у 52-летней пациентки было более серьезное отравление, она нахо\",\"[MOUTH]\\tКогда я закричала, они заткнули мне рот носками и продолжали насиловать.\",\"[DIGNITY]\\tВо все большем числе стран МОМ, пользуясь ценной помощью со стороны УВКБ, принимает меры в\",\"[DIGNITY]\\tКомитет напоминает, что крайняя нищета и социальное отчуждение ущемляют достоинство челове\",\"[UNLIMITED]\\tИзраильтяне и поселенцы могут пользоваться водой неограниченно в течение всего года по ц\",\"[UNLIMITED]\\tВ силу своей неограниченной и неизбирательной мощи ядерное оружие создает серьезную угро\",\"[TRAIN]\\tКроме того, конкретно предусматриваются определенные деяния, такие, как захват морских и воз\",\"[TRAIN]\\tОн был сбит поездом, однако получил лишь легкие повреждения.\",\"[ELEMENTARY]\\tСоздается впечатление, что миссии Организации Объединенных Наций по расследованию не из\",\"[ELEMENTARY]\\tОбвинения, с которыми они выступают, затрудняют сотрудничество и наносят ущерб основопо\",\"[PLEDGE]\\tВ то же время перспективы финансирования расширились, и объем новых взносов, объявленных в \",\"[PLEDGE]\\tПо состоянию на 31 декабря 1997 года невыплаченные объявленные взносы наличностью по всем с\",\"[ROUGHLY]\\tРасходы, связанные с проведением каждого семинара, составляют примерно 8 000 долл. США.\",\"[ROUGHLY]\\tВ 1999 году примерно 54 процента безработных в сфере сельского и лесного хозяйства в новых\",\"[STORY]\\tНа этих величественных стенах записаны история знаменитой борьбы Намибии за самоопределение,\",\"[STORY]\\tСпециальному докладчику поведали истории еще нескольких воспитанниц центра.\",\"[PIECE]\\tНекоторые предметы, оставшиеся в Кувейте, погибли в результате пожара.\",\"[PIECE]\\tПоэтому Комиссии надлежит собрать все необходимые элементы -- кодифицировать практику госуда\",\"[READER]\\tНемногим более 50% экземпляров направляется читателям в Африке, а остальные распространяютс\",\"[READER]\\tС точки зрения читателей использование вебсайтов может затруднить доступ к информации по ср\",\"[JUNIOR]\\tКроме того, ПРООН отобрала и назначила младших сотрудников категории специалистов в помощь \",\"[JUNIOR]\\tЭти виды деятельности осуществляются небольшим и преданным своему делу персоналом численнос\",\"[FINANCE]\\tВ этой связи Непал также поддерживает предложение Таиланда о том, чтобы министры по вопрос\",\"[FINANCE]\\tЭтот вид мер по повышению эффективности охватывает три основные области, а именно: управле\",\"[LEAP]\\tНаш век отмечен огромными достижениями науки и техники, которые могут ускорить социальный про\",\"[LEAP]\\tСкорейшее принятие решения явилось бы крупным шагом вперед в наших общих усилиях, направленны\",\"[FRAME]\\tГенеральный директор ВОЗ в настоящее время разрабатывает новую политику предупреждения мошен\",\"[FRAME]\\tВсе убедились в решающей важности того, чтобы развивающиеся страны были в состоянии контроли\",\"[CHAIN]\\tВыражаем надежду, что такая политика Индии не приведет к цепной реакции в регионе Южной Азии\",\"[CHAIN]\\tУтверждается, что опосредованной угрозой для жизни людей является заражение пищевой цепи.\",\"[PORTFOLIO]\\tПервоначальный показатель вероятного соблюдения требований для портфеля проектов, утверж\",\"[PORTFOLIO]\\tЭто было обусловлено успешными действиями ЮНОПС в деле расширения сферы своей деятельнос\",\"[GET]\\tНо следует учитывать, что процесс получения международного финансирования, особенно по линии м\",\"[GET]\\tКак утверждается, этот защитник так и не встретился с г-ном Барреллом, несмотря на многочислен\",\"[CORRESPOND]\\tДля более удобного сопоставления с регулярным бюджетом оперативные расходы, покрываемые\",\"[CORRESPOND]\\tВсе три подпрограммы согласуются с новой организационной структурой Центра по правам че\",\"[STABLE]\\tМы призываем Белград предпринять безотлагательные шаги для снижения уровня напряженности в \",\"[STABLE]\\tВместе с тем это вовсе не обязательно должно вызывать повышение степени общей неустойчивост\",\"[IMPORT]\\tВ 1997 году на долю овощей, импортированных из материкового Китая, приходилось 67% объема п\",\"[IMPORT]\\tХотя правительство прекратило импорт противопехотных мин, все еще не принят закон, запрещаю\",\"[KEY]\\tКлючевое значение для успеха этой деятельности имеет эффективная процедура контроля в штаб-ква\",\"[KEY]\\tГрамотность женщин является одним из важных факторов улучшения охраны здоровья, питания и обра\",\"[CONFRONT]\\tСпустя шесть лет после учреждения Рабочей группы мы оказались в подобной ситуации в нашей\",\"[CONFRONT]\\tВ этих условиях мы можем столкнуться с продолжительным процессом рассмотрения жалоб с уча\",\"[OBSTRUCT]\\tЯ буду незамедлительно принимать меры, если Комиссар будет просить меня об этом, против л\",\"[OBSTRUCT]\\tСанкции Соединенных Штатов в отношении Кубы отрицательно сказываются на жизни кубинского \",\"[SHAPE]\\tЭтот карцер размером с телефонную будку имеет треугольную форму, у которой две стационарные \",\"[SHAPE]\\tПосле подготовительного года структура охвата школьным обучением в Анголе имеет форму пирами\",\"[SANCTION]\\tВойна в регионе и ее последствия наряду с такими дополнительными помехами, как введение в\",\"[SANCTION]\\tТаким образом, для того чтобы положить конец страданиям этих детей и вырвать их из когтей\",\"[CONSUMPTION]\\tДля применения данного подхода требуются данные о потреблении топлива для целей отопле\",\"[CONSUMPTION]\\tОбъем потребления энергии является значительным, при этом две трети энергии, включая п\",\"[LIBERAL]\\tБудучи насильственным выражением экстремизма, он является отрицанием всех либеральных ценн\",\"[LIBERAL]\\tПо его утверждению, в то время как либеральные интеллектуалы осуждали ужасы войны, другие \",\"[ILLUSION]\\tМечта об объединенном Большом Магрибе обречена оставаться только иллюзией.\",\"[ILLUSION]\\tРезолюции о положении в конкретных странах создают опасную иллюзию простого и легкого реш\",\"[ASIDE]\\tМалайзия согласна с тем, что Организация Объединенных Наций не должна оставаться в стороне.\",\"[ASIDE]\\tПомимо такого парализующего фактора, как увязка с другими аспектами, на чем я еще остановлюс\",\"[UNDERLYING]\\tТакие притязания являются основным фактором, препятствующим достижению урегулирования.\",\"[UNDERLYING]\\tЯпония поддерживает принцип, лежащий в основе этих предложений, согласно которому разви\",\"[SACRIFICE]\\tВсемирный день свободы печати отмечается в знак признания тех жертв, которые были понесе\",\"[SACRIFICE]\\tИз-за дефицита продовольствия женщины идут на большие жертвы ради своих детей, состояние\",\"[SHARP]\\tТе, кто смог сохранить свою работу, неожиданно столкнулись с резким падением реальной зарпла\",\"[SHARP]\\tЭто увеличение произошло начиная с 1989 года главным образом за счет резкого падения уровня \",\"[FEED]\\tЦелый год их кормили лишь гнилой кукурузой; многие люди страдали от голода, в том числе и ее \",\"[FEED]\\tВ то же время женщины играют жизненно важную роль в деле осуществления права на питание, поск\",\"[OUT]\\tТуляганов, Ким и Юринов ждали Салихова на улице.\",\"[OUT]\\tКогда г-жа Аунг Сан Су Чжи и У Тин О вышли на улицу для того, чтобы проводить группу в дом, он\",\"[PLUNGE]\\tЭту крайне важную задачу необходимо было выполнить во избежание погружения Организации в кр\",\"[PLUNGE]\\tЕго оглушали также электрическим током, заставляя мочиться в горячую воду, в которую были о\",\"[SENSE]\\tМы считаем, что правительства других стран региона проявляют все больший интерес к МКББГ как\",\"[SENSE]\\tРеальная озабоченность, которая, как я ощутил, присутствует среди многих делегаций в связи с\",\"[CONVENTIONAL]\\tКроме того, хотя были созданы различные механизмы для учета законной торговли основны\",\"[CONVENTIONAL]\\tСложный, а зачастую - в силу их масштабности - и ужасающий характер носят проблемы об\",\"[REAL]\\tВ ряде случаев вызывает опасения тенденция к превышению расходов над реальными поступлениями.\",\"[REAL]\\tКомитет отмечает, что реальная экономия за счет повышения эффективности работы не должна явля\",\"[NARROW]\\tОн вновь заявляет, что такое узкое определение может ограничивать сферу охвата государствен\",\"[NARROW]\\tЖесткие условия прекращения дела, существующие в коронерском суде, как сообщается, не позво\",\"[INTERVAL]\\tВ рамках данной политики рекомендуется, чтобы женщины делали по меньшей мере 23годичный и\",\"[INTERVAL]\\tИменно в период между арестом и предъявлением официального обвинения задержанные, как утв\",\"[PROMPTLY]\\tОни должны как можно скорее представлять любые медицинские справки или медицинские заключ\",\"[PROMPTLY]\\tЕсли запрашиваемое Государство-участник не может выполнить требование о конфиденциальност\",\"[STORM]\\tСпутники служат важным дополнением к наземным метеорологическим станциям при прогнозировании\",\"[STORM]\\tОднако давайте не будем забывать о том, что людям во всех регионах мира грозят и другие ката\",\"[SIMPLE]\\tСвятейший Престол придает особенно важное значение подготовке кадров в целях применения про\",\"[SIMPLE]\\tИспользуемые при этом оборудование, материалы и компоненты просты, и их легко приобрести на\",\"[RACK]\\tОтдельно по Управлению централизованного вспомогательного обслуживания будут запрошены ассигн\",\"[RACK]\\tПланируется также модернизация серверных стоек, переключателей для оснащенных клавиатурой вид\",\"[LOOP]\\tЭто позволило бы создать органичную систему получения знаний для целей разработки планов осущ\",\"[LOOP]\\tОна позволяет поддерживать отношения с участниками проектов с помощью системы обратной связи.\",\"[DEFORMATION]\\tДеформация осуществляется с помощью стержня, который помещается между одной губой зажи\",\"[DEFORMATION]\\tЛазерная маркировка, как правило, совершенно не деформирует кристаллическую структуру \",\"[INSURANCE]\\tВвиду того, что между порядком медицинского страхования и коммерческого страхования суще\",\"[INSURANCE]\\tСоциальное страхование железнодорожников традиционно имеет отдельную организационную стр\",\"[INDUSTRY]\\tВторым примером может быть размещение \\\"коммунальных технологических центров\\\" в рамках мес\",\"[INDUSTRY]\\tВ действительности фактический протекционизм в данной отрасли не будет негативным, а може\",\"[SHIFT]\\tВсемирная встреча на высшем уровне в интересах социального развития, проходившая в 1995 году\",\"[SHIFT]\\tПродолжается подготовка перехода к составлению бюджета на основе конкретных результатов с по\",\"[HARDWARE]\\tКорпорация Ай-Би-Эм и Эйч-Ти-И предложили предоставить оборудование (аппаратные средства \",\"[HARDWARE]\\tВозобновление проекта позволит задействовать аппаратные и программные средства, закупленн\",\"[TEXTURE]\\tОно связано не только с появлением крупномасштабных мировых систем, но и с изменением само\",\"[TEXTURE]\\tСингапур -- это молодое государство, которому присуще великое множество черт культурного с\",\"[SEASON]\\tС учетом этого ККАМЛР приняла охранные меры, такие, как сезонные ограничения и ночная поста\",\"[SEASON]\\tЧетко различаются два сезона: сухой и дождливый.\",\"[ABROAD]\\tДо осуществления любых операций за рубежом или заключения контрактов с иностранными правите\",\"[ABROAD]\\tВ ходе процесса представители прокуратуры утверждали, что этот инцидент свидетельствует о т\",\"[PROSPECT]\\tКроме того, отсутствуют какие-либо перспективы того, что они подпишут нынешний текст дого\",\"[PROSPECT]\\tВ Африке проблема внутренней задолженности носит хронический характер и скорее всего отри\",\"[FIXATION]\\tМы являемся одной из первых стран, которые приступили к фиксации углерода и торговле кисл\",\"[FIXATION]\\tВ этом правовом акте устанавливается ряд важных принципов, таких, как определение минимал\",\"[INTERFACE]\\tВ Центральных учреждениях создание Департамента по экономическим и социальным вопросам о\",\"[INTERFACE]\\tРоль НПО является многогранной, поскольку речь идет одновременно и о группах давления, и\",\"[WIDE]\\tДаже там, где политика в духе \\\"просачивания доходов\\\" привела к росту благосостояния, рыночные\",\"[WIDE]\\tТеперь, когда мы подходим к концу второго десятилетия перестройки, роль государства значитель\",\"[PAIR]\\tСходным образом, в независимом исследовании Пола Мозли, рассматривавшего пары стран, одна из \",\"[PAIR]\\tИ поскольку миграция -- это глобальное явление, которое происходит не только между двумя стра\",\"[FAIRLY]\\tПолитическое просвещение населения -- мероприятие довольно дорогостоящее.\",\"[FAIRLY]\\tВ условиях продолжающегося повышения темпов роста населения это означало значительное сниже\",\"[ALTITUDE]\\tВ промежутках между 08 ч. 00 м. и 17 ч. 00 м. израильский разведывательный летательный ап\",\"[ALTITUDE]\\tВ 4 ч. 50 м. два израильских вертолета, нарушив ливанское воздушное пространство, пролете\",\"[COMPLEX]\\tРИВНАК намеревается в ближайшие, по возможности, сроки начать на граничащем с лагуной учас\",\"[COMPLEX]\\tБолее того, этот комплекс строился в расчете на значительно меньшее число государств-члено\",\"[VEHICLE]\\tЭти машины требуются для погрузки, разгрузки и штабелевания контейнеров и их доставки со с\",\"[VEHICLE]\\tПри проезде по этому маршруту транспортные средства постоянно подвергались угрозе забрасыв\",\"[GRAVITY]\\tНа сложность и неотложность стоящих перед нами экологических задач было также обращено вни\",\"[GRAVITY]\\tСпециальный докладчик сожалеет о серьезности нарушений права на жизнь в Мексике, которые и\",\"[SEPARATION]\\tКроме того, в случае распада или отделения государств существовавшие ранее внутренние г\",\"[SEPARATION]\\tВ статье 128 предусматривается разлучение по причине спора или размолвки.\",\"[MODULATION]\\tАмплитуда и частота появлений компоненты магнитного поля, направленной на юг, в межплан\",\"[MODULATION]\\tТак, переходя к совершенно новой схеме ВСП, Европейский союз заменил подобные ограничен\",\"[FLUX]\\tСмещение этих сульфидов может привести к возобновлению гидротермальных потоков в водную толщу\",\"[FLUX]\\tКроме того, Япония приступила к распространению конечных продуктов анализа интенсивности пото\",\"[EXPLORE]\\tВ этой связи Ботсвана настоятельно призывает Департамент по операциям по поддержанию мира \",\"[EXPLORE]\\tСледует изучать новые и новаторские идеи относительно мобилизации ресурсов на цели развити\",\"[ENSEMBLE]\\tВ данном контексте следует подчеркнуть, что главной проблемой фольклорных коллективов явл\",\"[ENSEMBLE]\\tВ течение всех этих лет мы ощущали отсутствие выдающихся исполнителей и коллективов, кото\",\"[PRESSURE]\\tПлавкие элементы не должны использоваться на переносных цистернах, испытательное давление\",\"[PRESSURE]\\tПри испытании закрытой системы следует учитывать изменения атмосферного давления.\",\"[FRONT]\\tВ более широком плане реальное партнерство требует более всеохватывающих и демократичных инс\",\"[FRONT]\\tКонкретные меры в этой области недавно были освещены в докладе Генерального секретаря по это\",\"[INSTALL]\\tНесмотря на то, что размещенные на территории Иреванского, Нахычыванского и Карабахского х\",\"[INSTALL]\\tВ этой связи любые планы переселения в эту провинцию демобилизованных солдат или расселени\",\"[VECTOR]\\tПрименение химических продуктов является также важным элементом деятельности в области здра\",\"[VECTOR]\\tПервый шаг на пути, ведущем к снижению нынешней зависимости от ДДТ, заключается в повышении\",\"[WALK]\\tБлагодаря этим конференциям удалось охватить женщин из всех слоев населения и всех уголков зе\",\"[WALK]\\tПредставители всех слоев общества, независимо от собственного материального положения, делали\",\"[FORTHCOMING]\\tВ Казахстане приветствуют решение ОБСЕ о направлении наблюдателей на предстоящие прези\",\"[FORTHCOMING]\\tПредстоящая десятая сессия ЮНКТАД предоставит международному сообществу хорошую возмож\",\"[VARIABLE]\\tИз полученной суммы вычитаются переменные издержки и расходы на рабочую силу, которые не \",\"[VARIABLE]\\tВ настоящем докладе, в частности, ПРООН предлагается установить на уровне 7 процентов баз\",\"[LATE]\\tВчера поздно вечером израильские боевые вертолеты обстреляли официальную резиденцию президент\",\"[LATE]\\tВ конце августа я встретился с гном Денкташем в Зальцбурге, с тем чтобы продвинуться на пути \",\"[MIDDLE]\\tВ настоящее время ожидается, что представление докладов в нормальном режиме станет возможны\",\"[MIDDLE]\\tОбычно муссонные дожди начинаются в середине июня и продолжаются до начала сентября, хотя и\",\"[OLD]\\tТрудности в преобразовании данных, переводимых из старых систем, и их последствия для составле\",\"[OLD]\\tПереход со старых систем и процедур требует времени и усилий.\",\"[EJECT]\\tИсточник весьма озабочен данным обстоятельством с учетом того, что недавние судебные разбира\",\"[EJECT]\\tОдну из женщин выгнали из дома, не разрешив ей взять ничего, кроме той одежды, которая была \",\"[MELT]\\tЗа прошедшие двадцать лет ледник на вершине горы Агри - самой высокой горы Турции - подтаял н\",\"[MELT]\\tСогласно исследованию, проведенному Нансеновским центром в Норвегии, к концу нынешнего столет\",\"[PAINT]\\tВпоследствии автомашины были перекрашены в камуфляжную окраску и оснащены тяжелыми пулеметам\",\"[PAINT]\\tВ одном недавно покрашенном доме розового цвета уже были поклеены обои.\",\"[AMORPHOUS]\\tВ отчете представлена таблица, показывающая колебания плотности отложений с указанием пр\",\"[AMORPHOUS]\\tГазообразная ртуть вступает в реакцию с активированным аморфным селеном, который циркули\",\"[PECULIAR]\\tОни ожидают, что все мы с радостью воспримем эти ценности и методы, которые присущи их ре\",\"[PECULIAR]\\tЭто явление более характерно для Доминиканской Республики, нежели для других стран этого \",\"[BLUE]\\tПусковые установки были окрашены в синий и белый цвет, предположительно для того, чтобы закам\",\"[BLUE]\\tПолицейские носят черную или синюю одноцветную форму с черным беретом.\",\"[DRILL]\\tОднако не было принято никаких мер для судебного преследования лиц, принявших решение о буре\",\"[DRILL]\\tВсего было пробурено 39 скважин, и водоснабжение в ЗПЗ увеличилось на 2,5 млн. м3.\",\"[MEDICINE]\\tОно разрешило другим странам, в отношении которых применялись санкции, закупать лекарстве\",\"[MEDICINE]\\tБиологическое разнообразие обеспечивает обильные запасы лекарственных средств и продуктов\",\"[HEAD]\\tВ состав комиссии, возглавляемой заместителем секретаря Совета Национальной Безопасности Груз\",\"[HEAD]\\tНа-пример, в Исламской Республике Иран национальный комитет по содействию практике грудного в\",\"[BOARD]\\tДействующие в настоящее время меры охватывают весь спектр проблем, связанных с обеспечением \",\"[BOARD]\\tСотрудник потерял пять часов рабочего времени, а старшее должностное лицо было вынуждено сес\",\"[BLOCK]\\tПо сравнению с многоквартирными домами, характерными для еврейских кварталов, это предполага\",\"[BLOCK]\\tЭто укрепит позиции арабских стран на переговорах с другими региональными блоками и экономич\",\"[TOLERANT]\\tОсновными причинами этой чрезвычайно серьезной ситуации являются терпимое отношение к нез\",\"[TOLERANT]\\tДостаточно терпимое отношение к употреблению алкоголя в чешском обществе не предусматрива\",\"[DRAG]\\tВо время ареста его избили и бросили в джип, стоявший около дома.\",\"[DRAG]\\tЕе затащили в дом и изнасиловали.\",\"[TRAP]\\tЖенщины и дети были блокированы в центрах, где проводилась иммунизация детей.\",\"[TRAP]\\tЖертвы затем подвергаются дальнейшей виктимизации со стороны системы правосудия и оказываются\",\"[FORMULATE]\\tЭто потребует от правительств развивающихся стран разработки планов и программ в поддерж\",\"[FORMULATE]\\tСтрана оратора подготовила национальную стратегию для осуществления Платформы действий.\",\"[SOUND]\\tКак раз наоборот, как бы приятно это ни звучало, так называемое \\\"возражение против увязки\\\", \",\"[SOUND]\\tНа словах это звучит легко, а на деле для достижения этой цели придется приложить немало уси\",\"[TOP]\\tОтвет на этот вызов состоит в том, чтобы сделать Организацию Объединенных Наций более эффектив\",\"[TOP]\\tПоэтому неудивительно, что на высших постах в вооруженных силах преобладают мужчины.\",\"[METER]\\tТем временем подрядчики начали осуществление проектов на сумму в размере 4,5 млн. долл. США,\",\"[METER]\\tЯ заметил, что стояли они через каждые 200 - 300 метров в шахматном порядке.\",\"[DIVERSIFY]\\tВ целях диверсификации системы производства электроэнергии в нашей стране и сокращения е\",\"[DIVERSIFY]\\tКроме того, Африка к югу от Сахары не смогла достаточным образом диверсифицировать свою \",\"[BIG]\\tСегодня, когда нищета остается серьезной проблемой для большинства развивающихся стран, задача\",\"[BIG]\\tОднако стоящие перед нами проблемы столь велики, а наши ресурсы столь ограничены, что без допо\",\"[SPREAD]\\tПринятие недостаточных превентивных мер не позволило ограничить распространение этого забол\",\"[SPREAD]\\tВ то же время мы наблюдаем беспрецедентное распространение представительной демократии и пр\",\"[SUPPOSE]\\tПредполагается, что трансфертная цена отражает цены мирового рынка, однако она корректируе\",\"[SUPPOSE]\\tХотя предполагается, что генеральные планы определяют деятельность в области жилищного стр\"],\"x\":[-2.8014085412329908,-2.8014085412329908,-3.196690887429461,-3.196690887429461,-2.776592969322399,-2.776592969322399,-2.2387068795379763,-2.2387068795379763,-1.1251697233140225,-1.1251697233140225,-2.71888239452214,-2.71888239452214,-2.6291420465939517,-2.6291420465939517,0.16869544963132466,0.16869544963132466,-3.8821632650946927,-3.8821632650946927,-3.0065403111547138,-1.7551351959627812,-1.7551351959627812,-2.2288008308854574,-2.2288008308854574,-3.1604239565492254,-3.1604239565492254,-2.105008918401703,-2.105008918401703,-0.8007898937190197,-0.8007898937190197,-2.499711432595348,-2.499711432595348,-4.35090612940663,-3.329110080183946,-3.329110080183946,-2.2170014806692357,-2.2170014806692357,-1.931727750943085,-1.931727750943085,-1.6920317405644392,-1.6920317405644392,-0.9566803256343057,-0.9566803256343057,-1.0968929717024678,-1.0968929717024678,-1.0383165968758132,-1.0383165968758132,-0.8436077852609056,-0.8436077852609056,-3.4064800898350756,-3.4064800898350756,-1.6202447243859797,-1.6202447243859797,-2.0360766569894837,-2.0360766569894837,-2.584540281727088,-2.584540281727088,-0.2295892108533737,-0.2295892108533737,-1.5265017625524644,-1.5265017625524644,-2.130975092324132,-2.130975092324132,-1.8053046323997695,-1.8053046323997695,-1.4311789346845862,-1.4311789346845862,-2.2724564276746975,-2.2724564276746975,-2.458066373500265,-2.458066373500265,-2.152723515166804,-2.152723515166804,-2.5958570932551406,-2.5958570932551406,-3.453500492057414,-3.453500492057414,-1.2596285267817109,-1.2596285267817109,-1.5468353485552164,-1.5468353485552164,-1.406731475526927,-2.5054982413001934,-2.5054982413001934,-0.9136238211316492,-0.9136238211316492,-2.3108478376644563,-2.3108478376644563,-1.4843400201699946,-1.4843400201699946,0.22427467403230672,-0.4357162776837731,-0.4357162776837731,-1.9465201023566299,-1.9465201023566299,-2.617411944572222,-2.617411944572222,-0.3706909885129521,-0.3706909885129521,-1.189823759230345,-1.189823759230345,-4.190305316787546,-4.190305316787546,-4.132719423098377,-4.132719423098377,-1.7617580152037728,-1.7617580152037728,-1.2305774973648025,-1.2305774973648025,-1.668881800371112,-2.7809735904244826,-2.7809735904244826,-1.6748735939879893,-1.6748735939879893,-2.962026805104105,-3.2327918380766594,-3.2327918380766594,-3.032326047031021,-3.032326047031021,-2.1698072284207237,-2.1698072284207237,-1.6334653884145318,-1.6334653884145318,-1.1969537187667147,-1.1969537187667147,-3.361401399981748,-3.361401399981748,-1.766514323886386,-1.766514323886386,-1.6702414263123457,-1.6702414263123457,-1.1492797095811365,-1.1492797095811365,-1.0364589948056242,-1.0364589948056242,-2.2287682290103055,-2.2287682290103055,-0.5012140489307475,-0.5012140489307475,-2.990462028495813,-2.990462028495813,-0.8789883300514569,-0.8789883300514569,-1.4765162070153064,-1.4765162070153064,-2.1841197192002455,-2.1841197192002455,-0.163478321317287,-0.163478321317287,-0.6331612013573054,-0.6331612013573054,-2.9295930507176458,-2.9295930507176458,-1.1998116961842298,-1.1998116961842298,-2.3083446234819567,-2.3083446234819567,-1.2172073869404425,-1.2172073869404425,-0.8308713226419986,-0.8308713226419986,-2.066627395287624,-2.066627395287624,-0.9524195690839394,-0.8006568945611896,-0.8006568945611896,-2.774357660481936,-2.774357660481936,-2.501336084004594,-2.501336084004594,-1.3644411325977885,-1.3644411325977885,-2.2289669072535587,-2.2289669072535587,-0.6019751858126092,-0.6019751858126092,-2.3883161526310768,-2.3883161526310768,-0.5126728224917141,-0.3449787616164226,-0.3449787616164226,-1.8104337620728987,-1.8104337620728987,-3.2479053959857414,-3.2479053959857414,-4.114619468932739,-4.114619468932739,-1.471662116922766,-1.471662116922766,-1.68025563968588,-1.68025563968588,-3.201445175291378,-3.201445175291378,-1.556464862466092,-1.556464862466092,-0.10133172861643658,-0.10133172861643658,0.015415119290159929,0.015415119290159929,-0.300314150205069,-0.300314150205069,-3.012562761090392,-3.012562761090392,-0.8462558162805243,-0.8462558162805243,-0.29297626537868116,-0.29297626537868116,-0.8656419454814106,-0.8656419454814106,-1.173478370794962,-1.173478370794962,-0.33831120020107175,-0.33831120020107175,-0.4305424621145182,-0.4305424621145182,-1.2087659905258406,-1.2087659905258406,-0.650828122921121,-0.650828122921121,-2.155972868288697,-2.155972868288697,-1.6436135829160845,-1.6436135829160845,0.02680494129847233,0.02680494129847233,-0.46861545907722846,-0.46861545907722846,0.5043545436501322,0.5043545436501322,-0.9876454809009836,-0.9876454809009836,-1.9019682405333835,-1.9019682405333835,-0.29590197648210914,-0.29590197648210914,-1.8593482107842636,-1.8593482107842636,-2.649963610742169,-2.649963610742169,-1.6591705922625049,-1.6591705922625049,0.021856946006013622,0.021856946006013622,-1.3384397454323196,-1.3384397454323196,-2.230868375659886,-2.230868375659886,-0.4200048532884173,-0.4200048532884173,-0.621928284906951,-0.621928284906951,-1.7230908610130387,-1.7230908610130387,-1.5758804927430878,-1.5758804927430878,-1.048872110444795,-1.048872110444795,-1.91626550440381,-1.91626550440381,-1.6091221638439106,-1.6091221638439106,-3.65052250980626,-3.65052250980626,-2.9956042806181116,-2.9956042806181116,-1.2098652283704374,-1.2098652283704374,-1.4292038684264154,-1.4292038684264154,-1.0565795046370297,-1.0565795046370297,-1.5750670134472546,-1.5750670134472546,-2.7826851948665783,-2.7826851948665783,-2.966720895813518,-2.966720895813518,-2.993280344632264,-2.993280344632264,-1.0720248007063788,-1.0720248007063788,-0.6949598482084505,-0.6949598482084505,-0.8753237276568138,-0.8753237276568138,-3.488871217696039,-3.488871217696039,-0.5997554709247153,-0.5997554709247153,0.09847874254223221,0.09847874254223221,-1.78955809262888,-1.78955809262888,-2.8640280157661007,-2.8640280157661007,-1.536603381039761,-1.536603381039761,-2.346894346905236,-2.346894346905236,0.6334624780007738,0.6334624780007738,-1.9069010940198532,-1.9069010940198532,-0.005897557781623597,-1.34868176526687,-1.34868176526687,0.45923924477682565,0.45923924477682565,-2.0821843529338593,-2.0821843529338593,-0.784767832865175,-0.784767832865175,-0.4284310913882843,-0.4284310913882843,-1.591100142933977,-1.591100142933977,0.051167590625587955,-2.7319565246908213,-2.7319565246908213,-1.280419509561877,-1.280419509561877,-2.2282951701617644,-2.2282951701617644,-2.2134816341382733,-2.2134816341382733,-1.634990914229932,-1.634990914229932,-2.051731099753768,-2.051731099753768,-1.1402151693858884,-1.1402151693858884,-0.19109066463112256,-0.19109066463112256,-0.6950523968008193,-0.6950523968008193,-1.4168314908222186,-1.4168314908222186,-0.2946539595879587,-0.2946539595879587,0.9858820184133359,0.9858820184133359,-1.3051370443949484,-1.3051370443949484,-1.944958205008227,-1.944958205008227,-2.8788402116645204,-2.8788402116645204,-0.36989357270738754,-0.36989357270738754,-1.3015951734033973,-1.3015951734033973,-1.6871249884355812,-1.6871249884355812,-0.4515483689304709,-0.4515483689304709,-0.92946746902726,-0.92946746902726,-1.4349338688788356,-1.4349338688788356,0.16685298410224725,0.16685298410224725,-0.8346118597050531,-0.8346118597050531,-1.1061297422375547,-1.1061297422375547,-0.5488606491460932,-0.5488606491460932,-1.0028236604758995,-1.0028236604758995,-2.474080019535604,-2.474080019535604,-1.4005552115723137,-1.5605887747699176,-1.5605887747699176,-0.7262414680874829,-0.7262414680874829,-1.0565002142152515,-1.0565002142152515,0.29088873537738547,0.29088873537738547,-0.989421474378096,-0.989421474378096,0.04316322903727876,0.04316322903727876,-0.7272978132214547,-0.7272978132214547,-1.2910038245572726,-1.2910038245572726,-0.5407655919194441,-0.5407655919194441,-0.7677820483084594,-0.7677820483084594,-3.24943735497222,-3.24943735497222,-1.2252455713896295,-1.2252455713896295,-1.7299064779970097,-1.7299064779970097,-0.4165109343532043,-0.4165109343532043,-0.7673597381330612,-0.7673597381330612,-1.2283340685598199,-1.2283340685598199,-0.6591230890066586,-0.6591230890066586,-0.9634869075733974,-0.9634869075733974,-0.537366962416205,-0.537366962416205,-1.5451626735714967,-1.5451626735714967,-1.390449842277656,-1.390449842277656,-3.106284442414393,-3.106284442414393,-2.0592660832391783,-2.0592660832391783,0.6710431034940276,0.6710431034940276,-0.8040641606637564,-0.8040641606637564,-1.1144496201092764,-1.1144496201092764,-1.3070622681580417,-1.3070622681580417,-3.095516422242953,-3.095516422242953,-3.414711008970891,-3.414711008970891,-1.5820848864944503,-1.5820848864944503,-1.1516841435717824,-1.1516841435717824,-1.787645851577258,-1.787645851577258,-1.5531300083341453,-1.5531300083341453,-0.6663458962910065,-0.6663458962910065,-0.5831089665491342,-1.7662801036947742,-1.7662801036947742,-0.9937323630645785,-0.9937323630645785,-3.0932162113583184,-3.0932162113583184,-0.9130388637860816,-0.9130388637860816,-0.5948617009895063,-0.5948617009895063,-0.35171524711749313,-2.2583212615423243,-2.537155257053751,-2.537155257053751,-2.113681685360286,-2.113681685360286,-0.7503087091939791,-0.7503087091939791,-1.3945134403494066,-1.3945134403494066,-1.766582094834436,-1.766582094834436,-2.0316688772108455,-2.0316688772108455,-1.1568416751031547,-1.1568416751031547,-4.557710194334808,-4.557710194334808,-1.7634048522857846,-1.7634048522857846,-1.3549463224920633,-1.3549463224920633,-1.9007875893428894,-1.9007875893428894,-0.11481870702454078,-0.11481870702454078,-1.4653276107648,-1.4653276107648,-3.0710858587576593,-3.0710858587576593,-1.4301615115949282,-1.4301615115949282,-1.5612467980337263,-1.5612467980337263,-1.9146939899483302,-1.9146939899483302,-1.7478643270838403,-1.9706015851508445,-0.6112872464942516,-0.6112872464942516,-0.7758084829717169,-0.7758084829717169,-1.8475141400264556,-1.8475141400264556,-0.9928268620422696,-0.9928268620422696,0.48689479436889993,0.48689479436889993,-4.245209263830025,-4.245209263830025],\"y\":[0.3464154278377165,0.3464154278377165,1.7646902887309803,1.7646902887309803,2.214821245709673,2.214821245709673,-0.1808920670338907,-0.1808920670338907,2.6428649923541894,2.6428649923541894,2.7378799123926125,2.7378799123926125,2.2276063011018534,2.2276063011018534,1.7808336110352583,1.7808336110352583,1.421089500353439,1.421089500353439,0.9533945740331353,1.1206868962648744,1.1206868962648744,1.0202449593604088,1.0202449593604088,0.7061853778627787,0.7061853778627787,1.0947881891351317,1.0947881891351317,2.616304123787782,2.616304123787782,2.2184550986030067,2.2184550986030067,-0.44810981889239265,1.8191040313930937,1.8191040313930937,1.6141968486690765,1.6141968486690765,0.8007440770607284,0.8007440770607284,2.0558632606353395,2.0558632606353395,1.595324048685451,1.595324048685451,1.33984609149029,1.33984609149029,1.345208382374968,1.345208382374968,1.428271588869967,1.428271588869967,1.9398223172560858,1.9398223172560858,2.588837763184425,2.588837763184425,0.8611137200357519,0.8611137200357519,2.3267522150412416,2.3267522150412416,1.5532409727917607,1.5532409727917607,1.8478393190783615,1.8478393190783615,1.8938900452921779,1.8938900452921779,0.3975670550872983,0.3975670550872983,0.015620212554561919,0.015620212554561919,1.1773340749991963,1.1773340749991963,1.2469206479199508,1.2469206479199508,1.4769333116916328,1.4769333116916328,1.7465936070690247,1.7465936070690247,1.0507244525001649,1.0507244525001649,1.0494916263986247,1.0494916263986247,2.138710300117474,2.138710300117474,1.5411952195189396,1.8309651646059666,1.8309651646059666,1.0155750161792172,1.0155750161792172,1.0932340283968682,1.0932340283968682,2.71008749721296,2.71008749721296,2.017030726183207,2.980651442901842,2.980651442901842,1.4981825034190126,1.4981825034190126,2.1548299806704723,2.1548299806704723,1.2712422848999823,1.2712422848999823,2.2249241734894643,2.2249241734894643,0.021927644517304112,0.021927644517304112,0.41390170113791447,0.41390170113791447,1.1684644535987179,1.1684644535987179,2.3879735944355938,2.3879735944355938,0.6775949854163827,1.8205304002964722,1.8205304002964722,1.7992339268117425,1.7992339268117425,1.4518423444833872,0.09292784969326795,0.09292784969326795,1.355348332126113,1.355348332126113,2.0878868258689245,2.0878868258689245,1.493744762041966,1.493744762041966,2.5308379750460768,2.5308379750460768,1.7001723433167668,1.7001723433167668,1.0517330757090895,1.0517330757090895,0.5980648483218058,0.5980648483218058,1.8017326613223892,1.8017326613223892,0.9687629908248052,0.9687629908248052,1.236310599465582,1.236310599465582,1.4087973494349204,1.4087973494349204,1.0675550654632069,1.0675550654632069,2.915431300983739,2.915431300983739,0.9963636160371028,0.9963636160371028,1.9667433167444957,1.9667433167444957,3.1405279249325364,3.1405279249325364,2.301780913960003,2.301780913960003,0.6278557149426574,0.6278557149426574,1.2676681846266264,1.2676681846266264,1.491307707209315,1.491307707209315,1.602165804155284,1.602165804155284,2.2051782534071993,2.2051782534071993,1.3433123013450925,1.3433123013450925,1.9785992115939317,1.3995458372373788,1.3995458372373788,2.1959237604460116,2.1959237604460116,1.4625487632098046,1.4625487632098046,1.8869604549718995,1.8869604549718995,2.1352772432195195,2.1352772432195195,2.6085626260026658,2.6085626260026658,1.7169279287722081,1.7169279287722081,2.4997163132444067,2.412462603892341,2.412462603892341,0.709847916664617,0.709847916664617,1.0507590796827648,1.0507590796827648,-0.5147268888773211,-0.5147268888773211,2.116249378257735,2.116249378257735,1.512916661206693,1.512916661206693,1.776371833339688,1.776371833339688,0.17017991105436558,0.17017991105436558,2.784150673425254,2.784150673425254,1.804584445212094,1.804584445212094,2.7666523106497665,2.7666523106497665,0.28595417456584693,0.28595417456584693,0.7251984230455559,0.7251984230455559,3.4084776201822233,3.4084776201822233,3.1384056623087586,3.1384056623087586,2.765658363140003,2.765658363140003,2.471348998327768,2.471348998327768,2.519361803864544,2.519361803864544,1.7746107962017121,1.7746107962017121,1.383988760909209,1.383988760909209,1.7481125399612063,1.7481125399612063,2.0697855432324213,2.0697855432324213,2.2273507648378184,2.2273507648378184,3.211907154528868,3.211907154528868,3.1199794968393113,3.1199794968393113,3.39515332169952,3.39515332169952,1.9523942217920567,1.9523942217920567,1.9965253529840998,1.9965253529840998,2.044636355489519,2.044636355489519,1.779754354445367,1.779754354445367,2.6514544821361588,2.6514544821361588,3.255580621849136,3.255580621849136,1.773567528495826,1.773567528495826,1.9108641457677815,1.9108641457677815,3.4433666635340225,3.4433666635340225,1.7842269986764014,1.7842269986764014,1.705741883548904,1.705741883548904,2.4149451015226484,2.4149451015226484,1.4907611558663363,1.4907611558663363,1.707610632795196,1.707610632795196,2.4597772214447247,2.4597772214447247,1.1025281808066774,1.1025281808066774,1.3626819914948647,1.3626819914948647,1.171596379107992,1.171596379107992,1.440796204665935,1.440796204665935,2.777794608360529,2.777794608360529,1.2629337018916886,1.2629337018916886,1.2274971463971025,1.2274971463971025,1.5529125858881678,1.5529125858881678,0.5082095951021652,0.5082095951021652,1.615270831872273,1.615270831872273,0.9938079028451192,0.9938079028451192,2.878068514462723,2.878068514462723,1.3709624533749585,1.3709624533749585,1.6602139876383726,1.6602139876383726,2.424697586972709,2.424697586972709,2.1061779298769974,2.1061779298769974,1.7713902491703268,1.7713902491703268,2.359321836675669,2.359321836675669,1.1580377487977334,1.1580377487977334,1.5267727424663944,1.5267727424663944,1.673053459070815,1.673053459070815,2.9871108472765604,2.2181145689356736,2.2181145689356736,1.6910419636107354,1.6910419636107354,2.6527561587120334,2.6527561587120334,2.409129333080063,2.409129333080063,3.0124319634895995,3.0124319634895995,2.8576728004993335,2.8576728004993335,2.6457423161917584,1.0713180476204898,1.0713180476204898,1.3642147333920618,1.3642147333920618,1.851054528432984,1.851054528432984,1.5342637874513336,1.5342637874513336,1.3964385475067553,1.3964385475067553,2.268418684320231,2.268418684320231,3.0279041572669985,3.0279041572669985,2.6068595959990435,2.6068595959990435,1.3150879329096568,1.3150879329096568,2.473214125794961,2.473214125794961,1.9046232908786456,1.9046232908786456,3.049702982471424,3.049702982471424,2.578969504089641,2.578969504089641,1.3008860940385198,1.3008860940385198,1.72069420262407,1.72069420262407,2.4844912585610275,2.4844912585610275,3.2322675808081307,3.2322675808081307,2.2582595354565465,2.2582595354565465,1.9983736667112435,1.9983736667112435,1.5604660684842315,1.5604660684842315,2.3158263661662417,2.3158263661662417,2.804522246026426,2.804522246026426,1.0666446541200632,1.0666446541200632,1.5388699596743138,1.5388699596743138,2.7073353033694976,2.7073353033694976,1.54021272025106,1.54021272025106,2.4091538844572375,2.4091538844572375,3.169019239195622,2.52747062447312,2.52747062447312,1.8301990860076236,1.8301990860076236,2.265058237015728,2.265058237015728,3.925246850732721,3.925246850732721,2.744484288224498,2.744484288224498,2.6247890002726106,2.6247890002726106,1.914421854604953,1.914421854604953,2.2790825924991576,2.2790825924991576,2.0296940170050775,2.0296940170050775,3.2998270877098106,3.2998270877098106,1.7777797286435795,1.7777797286435795,2.290763004275103,2.290763004275103,1.7360574611548465,1.7360574611548465,2.1388135868906533,2.1388135868906533,1.2635353951584958,1.2635353951584958,1.2779367531151298,1.2779367531151298,3.205962592877362,3.205962592877362,3.318641424540342,3.318641424540342,1.9302173147739148,1.9302173147739148,1.3935959614443085,1.3935959614443085,2.6366036772740915,2.6366036772740915,1.2218936144237968,1.2218936144237968,2.2213856111586736,2.2213856111586736,1.3118273326701027,1.3118273326701027,3.0098847664715103,3.0098847664715103,3.027617235992529,3.027617235992529,2.436302282689971,2.436302282689971,2.2973405832792975,2.2973405832792975,0.7360520043457792,0.7360520043457792,1.097207360179692,1.097207360179692,1.774006526388431,1.774006526388431,1.9795581958147945,1.9795581958147945,1.6290456782794172,1.6290456782794172,2.592211534653923,2.592211534653923,0.40495608269612693,1.9106534970470332,1.9106534970470332,1.7479635430597789,1.7479635430597789,1.3145870643154733,1.3145870643154733,2.0723777229774774,2.0723777229774774,0.8768033150996213,0.8768033150996213,1.5442976573920304,2.497980731941275,1.5845956769166336,1.5845956769166336,1.8682997001367223,1.8682997001367223,0.8727197321166842,0.8727197321166842,2.1659656779840963,2.1659656779840963,0.32040278811483436,0.32040278811483436,2.0530953089050006,2.0530953089050006,2.26520842878344,2.26520842878344,0.101562812238986,0.101562812238986,2.8980771675596437,2.8980771675596437,1.9823082479311198,1.9823082479311198,1.7463021142339947,1.7463021142339947,3.1772180176685976,3.1772180176685976,1.887851224063509,1.887851224063509,1.337638116149038,1.337638116149038,2.182668975263086,2.182668975263086,1.1336254167615532,1.1336254167615532,2.405515109541906,2.405515109541906,2.0593578347327193,1.331009044588686,2.9091695868851706,2.9091695868851706,0.3705960793106975,0.3705960793106975,2.2021417965862278,2.2021417965862278,0.9710040753387139,0.9710040753387139,3.6407685781380694,3.6407685781380694,0.6775417411532256,0.6775417411532256],\"type\":\"scatter\",\"xaxis\":\"x\",\"yaxis\":\"y\"},{\"mode\":\"markers\",\"name\":\"English\",\"text\":[\"[GENTLY]\\tUnfortunately, that pressure seemed to have had some effect, and the Islamic Republic of Ir\",\"[GENTLY]\\tUnfortunately, that pressure seemed to have had some effect, and the Islamic Republic of Ir\",\"[NEXT]\\tAny contribution received after this date will be recorded in the accounts for the next year,\",\"[NEXT]\\tAny contribution received after this date will be recorded in the accounts for the next year,\",\"[LETTER]\\tBy letter dated 17 November 1997, the Special Rapporteur transmitted to the Government the \",\"[LETTER]\\tBy letter dated 17 November 1997, the Special Rapporteur transmitted to the Government the \",\"[INTEND]\\tWhile Burkina Faso did not intend to live in the past, it was important for a country such \",\"[INTEND]\\tWhile Burkina Faso did not intend to live in the past, it was important for a country such \",\"[TRUE]\\tThe Special Rapporteur is aware of the difficulties of combating terrorist activities and the\",\"[TRUE]\\tThe Special Rapporteur is aware of the difficulties of combating terrorist activities and the\",\"[SINGLE]\\tThese benefits for pregnant women and single mothers are payable from the eighth month of p\",\"[SINGLE]\\tThese benefits for pregnant women and single mothers are payable from the eighth month of p\",\"[CODE]\\tIn the Committee's view, observance of the Covenant requires that the Government implement th\",\"[CODE]\\tIn the Committee's view, observance of the Covenant requires that the Government implement th\",\"[BILL]\\tParliament is currently discussing a new bill to increase sentences for sexual exploitation o\",\"[BILL]\\tParliament is currently discussing a new bill to increase sentences for sexual exploitation o\",\"[SPEECH]\\tA careful reading of President Saddam Hussein's speech shows that these supposed threats to\",\"[SPEECH]\\tA careful reading of President Saddam Hussein's speech shows that these supposed threats to\",\"[LIGHT]\\tUsing a unique technique for concentrating the solar light, splitting the spectrum to variou\",\"[LIGHT]\\tUsing a unique technique for concentrating the solar light, splitting the spectrum to variou\",\"[TURN]\\tI am not sure whether this gamekeeper is yet ready to turn poacher.\",\"[TURN]\\tI am not sure whether this gamekeeper is yet ready to turn poacher.\",\"[AFFAIR]\\tThey are pursuing and will continue in the future to pursue their own policy in internation\",\"[AFFAIR]\\tThey are pursuing and will continue in the future to pursue their own policy in internation\",\"[RATING]\\tIn addition, Barbados is internationally recognised for the sound, prudent and transparent \",\"[RATING]\\tIn addition, Barbados is internationally recognised for the sound, prudent and transparent \",\"[STEM]\\tSuch perversions stem from abuse and misuse of freedom and from the deficiencies of one or se\",\"[STEM]\\tSuch perversions stem from abuse and misuse of freedom and from the deficiencies of one or se\",\"[ACCESSION]\\tOn depositing its instruments of ratification, acceptance, approval or accession, a Stat\",\"[ACCESSION]\\tOn depositing its instruments of ratification, acceptance, approval or accession, a Stat\",\"[DEEP]\\tWe express our deep satisfaction with this new development and with the understanding reached\",\"[DEEP]\\tWe express our deep satisfaction with this new development and with the understanding reached\",\"[ROOT]\\tIf global development was to take root, the United Nations must play an important role throug\",\"[ROOT]\\tIf global development was to take root, the United Nations must play an important role throug\",\"[POWERFUL]\\tThe prospect of closer association with the European Union has served as a powerful tool \",\"[POWERFUL]\\tThe prospect of closer association with the European Union has served as a powerful tool \",\"[INPUT]\\tWhile technology was important, it was totally meaningless without the input of the human mi\",\"[INPUT]\\tWhile technology was important, it was totally meaningless without the input of the human mi\",\"[FERTILE]\\tTourism thrives on a pristine environment, and it therefore provides fertile ground for te\",\"[FERTILE]\\tTourism thrives on a pristine environment, and it therefore provides fertile ground for te\",\"[READ]\\tAs to the title, there seemed to be agreement that it should read “Competent court or authori\",\"[READ]\\tAs to the title, there seemed to be agreement that it should read “Competent court or authori\",\"[FOCUS]\\tProject design should have a greater focus on cross-cutting issues such as gender, governanc\",\"[FOCUS]\\tProject design should have a greater focus on cross-cutting issues such as gender, governanc\",\"[CLAIM]\\tThose new posts were not therefore allocated exclusively to processing death and disability \",\"[CLAIM]\\tThose new posts were not therefore allocated exclusively to processing death and disability \",\"[ENVELOPE]\\tEnvelopes rather than ballot boxes were used for receiving the ballots.\",\"[ENVELOPE]\\tEnvelopes rather than ballot boxes were used for receiving the ballots.\",\"[TRIBE]\\tAs for the Turkic tribes from whom the modern-day Azerbaijani community is descended, they b\",\"[TRIBE]\\tAs for the Turkic tribes from whom the modern-day Azerbaijani community is descended, they b\",\"[LAST]\\tIn the last four years, six new members have joined from Auckland, Turin, Vienna, Bogota, Col\",\"[LAST]\\tIn the last four years, six new members have joined from Auckland, Turin, Vienna, Bogota, Col\",\"[SHARE]\\tWhile the share of developing countries in world exports rose from 24 per cent in 1990 to 27\",\"[SHARE]\\tWhile the share of developing countries in world exports rose from 24 per cent in 1990 to 27\",\"[OFFENSIVE]\\tThe State party maintains, in addition, that the complaint contains offensive and defama\",\"[OFFENSIVE]\\tThe State party maintains, in addition, that the complaint contains offensive and defama\",\"[VIRTUE]\\tShe agreed that some traditions ascribed positive virtues, such as wisdom and steadfastness\",\"[VIRTUE]\\tShe agreed that some traditions ascribed positive virtues, such as wisdom and steadfastness\",\"[DELIVER]\\tIn the past 20 years about 99.4—99.6 per cent of all children were delivered in maternity \",\"[DELIVER]\\tIn the past 20 years about 99.4—99.6 per cent of all children were delivered in maternity \",\"[GRANT]\\tUnder the Law, grants covering from 30 to 60 per cent of the estimated cost of research and \",\"[GRANT]\\tUnder the Law, grants covering from 30 to 60 per cent of the estimated cost of research and \",\"[LEAD]\\tLarge quantities of lead and mercury had poisoned the soil and groundwater.\",\"[LEAD]\\tLarge quantities of lead and mercury had poisoned the soil and groundwater.\",\"[WIN]\\tFawcett's simple, but clear, analysis, which has won the support of Fitzmaurice and Brownlie, \",\"[WIN]\\tFawcett's simple, but clear, analysis, which has won the support of Fitzmaurice and Brownlie, \",\"[BURDEN]\\tThe Government has drawn up draft laws on reducing the tax burden on the labour remuneratio\",\"[BURDEN]\\tThe Government has drawn up draft laws on reducing the tax burden on the labour remuneratio\",\"[PROOF]\\tThe Cyprus example was the best proof that an intense peacemaking effort must be pursued in \",\"[PROOF]\\tThe Cyprus example was the best proof that an intense peacemaking effort must be pursued in \",\"[SATISFY]\\tData users, to satisfy short-term data needs, develop their own frameworks and wish-lists \",\"[SATISFY]\\tData users, to satisfy short-term data needs, develop their own frameworks and wish-lists \",\"[RESISTANCE]\\tThe question whether there was armed resistance from inside the schoolhouse is also of \",\"[RESISTANCE]\\tThe question whether there was armed resistance from inside the schoolhouse is also of \",\"[HIGHLY]\\tThis is a highly important step for the strengthening of this Convention.\",\"[HIGHLY]\\tThis is a highly important step for the strengthening of this Convention.\",\"[PROGRESSION]\\tThe examination of the statistics of its development show a certain progression in the\",\"[PROGRESSION]\\tThe examination of the statistics of its development show a certain progression in the\",\"[PRODUCE]\\tInternal acts could produce international effects, such as the determination of the extent\",\"[PRODUCE]\\tInternal acts could produce international effects, such as the determination of the extent\",\"[SPRAY]\\tThis category includes electric shock batons and shields, stun guns and tasers, tear gas and\",\"[SPRAY]\\tThis category includes electric shock batons and shields, stun guns and tasers, tear gas and\",\"[ASSUMPTION]\\tThe data would be used to test assumptions -- including the assumption that women were \",\"[ASSUMPTION]\\tThe data would be used to test assumptions -- including the assumption that women were \",\"[SUBSCRIBER]\\tThe percentage of mobile telephone subscribers continues to increase in most least deve\",\"[SUBSCRIBER]\\tThe percentage of mobile telephone subscribers continues to increase in most least deve\",\"[ANALYSE]\\tAdequate disaggregated data should be gathered and analysed in order to assess progress ac\",\"[ANALYSE]\\tAdequate disaggregated data should be gathered and analysed in order to assess progress ac\",\"[JUNGLE]\\tThe soil of the slopes is thin as a result of leaching and can support only jungle vegetati\",\"[JUNGLE]\\tThe soil of the slopes is thin as a result of leaching and can support only jungle vegetati\",\"[CONSERVATION]\\tThere is a focus on measures to promote energy efficiency and energy conservation in \",\"[CONSERVATION]\\tThere is a focus on measures to promote energy efficiency and energy conservation in \",\"[HANDLE]\\tHow the Conference handles this issue will affect its future role as well as the future of \",\"[HANDLE]\\tHow the Conference handles this issue will affect its future role as well as the future of \",\"[LICENCE]\\tApplications for licences to pursue medical activities have been submitted, according to J\",\"[LICENCE]\\tApplications for licences to pursue medical activities have been submitted, according to J\",\"[YIELD]\\tThe Court should be independent and impartial and should not yield to political influences.\",\"[YIELD]\\tThe Court should be independent and impartial and should not yield to political influences.\",\"[ELECTRIC]\\tThere are presently regulations and standards relating to specific energy consumption, fu\",\"[ELECTRIC]\\tThere are presently regulations and standards relating to specific energy consumption, fu\",\"[SHORT]\\tThe ILO and other sources made it clear, however, that three months would, in their experien\",\"[SHORT]\\tThe ILO and other sources made it clear, however, that three months would, in their experien\",\"[OFFEND]\\tWhen the first author indicated that the letter had offended her, the judge responded \\\"you \",\"[OFFEND]\\tWhen the first author indicated that the letter had offended her, the judge responded \\\"you \",\"[OWE]\\tActual expenditures were higher by $28,600, despite the deployment of fewer troops, owing to t\",\"[OWE]\\tActual expenditures were higher by $28,600, despite the deployment of fewer troops, owing to t\",\"[MEANS]\\tIt was stated that the assignor could be protected from inaccurate registrations through oth\",\"[MEANS]\\tIt was stated that the assignor could be protected from inaccurate registrations through oth\",\"[CONTEND]\\tHe contends that the school was not justified in dismissing him out of financial considera\",\"[CONTEND]\\tHe contends that the school was not justified in dismissing him out of financial considera\",\"[TRICKY]\\tThe Group of 77 and China had displayed flexibility on that tricky issue and hoped that the\",\"[TRICKY]\\tThe Group of 77 and China had displayed flexibility on that tricky issue and hoped that the\",\"[GO]\\tAt that time, the critics suggested that the undertaking was not daring enough or did not go fa\",\"[GO]\\tAt that time, the critics suggested that the undertaking was not daring enough or did not go fa\",\"[SERIES]\\tA series of UNIDIR informal discussions meetings in 1998 are focused on the problems within\",\"[SERIES]\\tA series of UNIDIR informal discussions meetings in 1998 are focused on the problems within\",\"[ADOPT]\\tMr. BUNE (Fiji) said that it was regrettable that no common ground had been reached between \",\"[ADOPT]\\tMr. BUNE (Fiji) said that it was regrettable that no common ground had been reached between \",\"[PREVIOUS]\\tI would also like to express my appreciation to Ambassador Dembinski, the previous Presid\",\"[PREVIOUS]\\tI would also like to express my appreciation to Ambassador Dembinski, the previous Presid\",\"[PARTICULAR]\\tAny attempt to exclude particular indigenous peoples from the protection of the draft d\",\"[PARTICULAR]\\tAny attempt to exclude particular indigenous peoples from the protection of the draft d\",\"[RECALL]\\tIt should be recalled that during the debates of the Open-Ended High-level Working Group on\",\"[RECALL]\\tIt should be recalled that during the debates of the Open-Ended High-level Working Group on\",\"[MAKE]\\tThe Government's failure to acknowledge the existence of persons of indigenous ethnic origin \",\"[MAKE]\\tThe Government's failure to acknowledge the existence of persons of indigenous ethnic origin \",\"[CONDEMN]\\tThe Libyan Government had always condemned racial discrimination and had supported the rig\",\"[CONDEMN]\\tThe Libyan Government had always condemned racial discrimination and had supported the rig\",\"[WELL]\\tUpon signing a statement that she had been well treated during detention, she was released.\",\"[WELL]\\tUpon signing a statement that she had been well treated during detention, she was released.\",\"[DEATH]\\tThe Special Rapporteur is concerned about the large number of deaths occurring in custody an\",\"[DEATH]\\tThe Special Rapporteur is concerned about the large number of deaths occurring in custody an\",\"[NEED]\\tThe so-called security needs of a particular country should not in any way compromise efforts\",\"[NEED]\\tThe so-called security needs of a particular country should not in any way compromise efforts\",\"[ACTION]\\tIn that process, the State must avoid any action which might be harmful to development fost\",\"[ACTION]\\tIn that process, the State must avoid any action which might be harmful to development fost\",\"[PURPOSE]\\tIt participates in several international campaigns for the study of the ozone concentratio\",\"[PURPOSE]\\tIt participates in several international campaigns for the study of the ozone concentratio\",\"[ATTACH]\\tThe World Conference on Human Rights attached great importance to this subject, including b\",\"[ATTACH]\\tThe World Conference on Human Rights attached great importance to this subject, including b\",\"[RECOGNIZE]\\tIn its total disregard for international law and the decisions of the world community, T\",\"[RECOGNIZE]\\tIn its total disregard for international law and the decisions of the world community, T\",\"[KERNEL]\\tFor instance, the women had to walk about 2 km to mill the kernels or use the traditional g\",\"[KERNEL]\\tFor instance, the women had to walk about 2 km to mill the kernels or use the traditional g\",\"[AGREE]\\tHis delegation welcomed the news that the Government of the Democratic Republic of the Congo\",\"[AGREE]\\tHis delegation welcomed the news that the Government of the Democratic Republic of the Congo\",\"[FIRE]\\tBetween 1700 and 1850 hours Israeli forces and the client militia directed several bursts of \",\"[FIRE]\\tBetween 1700 and 1850 hours Israeli forces and the client militia directed several bursts of \",\"[PROTECTION]\\tThis type of violence, which has beset several regions in the 1990s, has caused particu\",\"[PROTECTION]\\tThis type of violence, which has beset several regions in the 1990s, has caused particu\",\"[GENERAL]\\tIn general terms, an accident was considered to be mission-incurred if it occurred as a re\",\"[GENERAL]\\tIn general terms, an accident was considered to be mission-incurred if it occurred as a re\",\"[EXTRANEOUS]\\tSuch notions are not only extraneous to the Algiers Peace Agreement, but, if they were \",\"[EXTRANEOUS]\\tSuch notions are not only extraneous to the Algiers Peace Agreement, but, if they were \",\"[COVER]\\tThis means that four fifths of the social assistance recipients were in receipt of assistanc\",\"[COVER]\\tThis means that four fifths of the social assistance recipients were in receipt of assistanc\",\"[CHAPTER]\\tTherefore, his delegation strongly urged the Commission to revise article 40 and Part Two,\",\"[CHAPTER]\\tTherefore, his delegation strongly urged the Commission to revise article 40 and Part Two,\",\"[POLICY]\\tAlgeria was determined to eliminate those phenomena through its national policies.\",\"[POLICY]\\tAlgeria was determined to eliminate those phenomena through its national policies.\",\"[WEIGHTY]\\tI am sure you are aware that such a weighty subject merits careful and unhurried considera\",\"[WEIGHTY]\\tI am sure you are aware that such a weighty subject merits careful and unhurried considera\",\"[BASE]\\tIt was apparent, however, from the White House archives, that it was not a serious offer and \",\"[BASE]\\tIt was apparent, however, from the White House archives, that it was not a serious offer and \",\"[AGE]\\tA supplement is also available for each child under the age of 18.\",\"[AGE]\\tA supplement is also available for each child under the age of 18.\",\"[CLASS]\\tRegular secondary education is free for full-time students and part-time students do not att\",\"[CLASS]\\tRegular secondary education is free for full-time students and part-time students do not att\",\"[RESULT]\\tAuthorities confirmed that he had died as a result of a car accident (10 January 1967).\",\"[RESULT]\\tAuthorities confirmed that he had died as a result of a car accident (10 January 1967).\",\"[EXAMPLE]\\tThis is just one example of the kind of problem that needs to be addressed.\",\"[EXAMPLE]\\tThis is just one example of the kind of problem that needs to be addressed.\",\"[TERRITORY]\\tHis delegation hoped that Israel would take measures to lift the closure of territories \",\"[TERRITORY]\\tHis delegation hoped that Israel would take measures to lift the closure of territories \",\"[STUDY]\\tIn the 1996\\u002f97 school year, UNRWA elementary and preparatory schools in the West Bank and Ga\",\"[STUDY]\\tIn the 1996\\u002f97 school year, UNRWA elementary and preparatory schools in the West Bank and Ga\",\"[FIELD]\\tConsequently, under the legal arrangements applicable to the Wafra oil field, the Panel dete\",\"[FIELD]\\tConsequently, under the legal arrangements applicable to the Wafra oil field, the Panel dete\",\"[FREE]\\tIn addition, the court had requested the State to provide free education for the family.\",\"[FREE]\\tIn addition, the court had requested the State to provide free education for the family.\",\"[GIVE]\\tPriority was given to the cross-border human rights training programme for the indigenous peo\",\"[GIVE]\\tPriority was given to the cross-border human rights training programme for the indigenous peo\",\"[DECLARATION]\\tIn that regard, the Rio Group stressed the commitments made in the Declaration of Prin\",\"[DECLARATION]\\tIn that regard, the Rio Group stressed the commitments made in the Declaration of Prin\",\"[APPRECIATION]\\tIt also notes with appreciation that the provisions of the Convention are self-execut\",\"[APPRECIATION]\\tIt also notes with appreciation that the provisions of the Convention are self-execut\",\"[APPLICATION]\\tSuch politicization of human rights and the application of double standards simply hel\",\"[APPLICATION]\\tSuch politicization of human rights and the application of double standards simply hel\",\"[REGARD]\\tIn that regard it welcomed the statement of the President of the Security Council of 28 Mar\",\"[REGARD]\\tIn that regard it welcomed the statement of the President of the Security Council of 28 Mar\",\"[VALUE]\\tBut success in dialogue and negotiation presupposes the practice by each of the protagonists\",\"[VALUE]\\tBut success in dialogue and negotiation presupposes the practice by each of the protagonists\",\"[RISE]\\tAll this gives rise to a situation which requires the international community to cooperate an\",\"[RISE]\\tAll this gives rise to a situation which requires the international community to cooperate an\",\"[CLOSE]\\tAs a result of this close cooperation, it has become clear that the Convention could and sho\",\"[CLOSE]\\tAs a result of this close cooperation, it has become clear that the Convention could and sho\",\"[SHARE]\\tThe results of these evaluations should be shared with all those interested.\",\"[SHARE]\\tThe results of these evaluations should be shared with all those interested.\",\"[RATHER]\\tThe indicators of the income and material status of Bulgarian citizens is demonstrating a r\",\"[RATHER]\\tThe indicators of the income and material status of Bulgarian citizens is demonstrating a r\",\"[REPRESENT]\\tThe data can be represented in the form of tables or graphics.\",\"[REPRESENT]\\tThe data can be represented in the form of tables or graphics.\",\"[DIRECT]\\tSuch a forum would provide a platform for the direct participation of population groups whi\",\"[DIRECT]\\tSuch a forum would provide a platform for the direct participation of population groups whi\",\"[EMERGENCY]\\tA review of recent experiences of complex emergencies has revealed certain gaps in the s\",\"[EMERGENCY]\\tA review of recent experiences of complex emergencies has revealed certain gaps in the s\",\"[PRESENCE]\\tI am certain that I speak for all of us when I express my conviction that the presence of\",\"[PRESENCE]\\tI am certain that I speak for all of us when I express my conviction that the presence of\",\"[INITIATE]\\tThe Commission should initiate a process designed to resolve the problem of divergent sch\",\"[INITIATE]\\tThe Commission should initiate a process designed to resolve the problem of divergent sch\",\"[MASSIVE]\\tMiko Tsanev was also operated on twice for massive abdominal bleeding and further operated\",\"[MASSIVE]\\tMiko Tsanev was also operated on twice for massive abdominal bleeding and further operated\",\"[CHANGE]\\tIn that context, coordination of work among the bodies dealing with the conventions on clim\",\"[CHANGE]\\tIn that context, coordination of work among the bodies dealing with the conventions on clim\",\"[LOCK]\\tThe prisoner is locked in his cell, on average 23 hours a day, with no educational opportunit\",\"[LOCK]\\tThe prisoner is locked in his cell, on average 23 hours a day, with no educational opportunit\",\"[SOLUTION]\\tThe problems which the United Nations has encountered in waging peace in this uncharted t\",\"[SOLUTION]\\tThe problems which the United Nations has encountered in waging peace in this uncharted t\",\"[TIME]\\tThe time had come to reflect on the lessons of past experience in order to build for the futu\",\"[TIME]\\tThe time had come to reflect on the lessons of past experience in order to build for the futu\",\"[RESTORATION]\\tBut if a peremptory norm prohibiting slavery came into effect, there could obviously b\",\"[RESTORATION]\\tBut if a peremptory norm prohibiting slavery came into effect, there could obviously b\",\"[SPECIFIC]\\tIf repeated complaints were received in respect of a specific place of detention, the Att\",\"[SPECIFIC]\\tIf repeated complaints were received in respect of a specific place of detention, the Att\",\"[REACH]\\tWe have actively participated in reaching important decisions to enhance peace and stability\",\"[REACH]\\tWe have actively participated in reaching important decisions to enhance peace and stability\",\"[BREAKDOWN]\\tThere were also serious breakdowns in communications and cooperation between the field a\",\"[BREAKDOWN]\\tThere were also serious breakdowns in communications and cooperation between the field a\",\"[CRITICAL]\\tDecentralization of authority to the field level was seen as a critical factor.\",\"[CRITICAL]\\tDecentralization of authority to the field level was seen as a critical factor.\",\"[ASK]\\tHe asked whether particular attention had been paid to that stipulation in the implementation \",\"[ASK]\\tHe asked whether particular attention had been paid to that stipulation in the implementation \",\"[STOP]\\tA male candidate had gone to court asking for the campaign to be stopped as a violation of eq\",\"[STOP]\\tA male candidate had gone to court asking for the campaign to be stopped as a violation of eq\",\"[DEFENCE]\\tThe first defence witness, an acquaintance of the author, corroborated the author's story.\",\"[DEFENCE]\\tThe first defence witness, an acquaintance of the author, corroborated the author's story.\",\"[SUPPRESSION]\\tThe suppression of the body’s immune system, cancer induction and genetic damage were \",\"[SUPPRESSION]\\tThe suppression of the body’s immune system, cancer induction and genetic damage were \",\"[FUNCTION]\\tThe Department's functions include exploration, excavation of ancient sites, conservation\",\"[FUNCTION]\\tThe Department's functions include exploration, excavation of ancient sites, conservation\",\"[COURT]\\tThe court should have ultimate authority to decide on whether there was a case to be answere\",\"[COURT]\\tThe court should have ultimate authority to decide on whether there was a case to be answere\",\"[LAPSE]\\tSimilarly, the United Nations must have the right tools to help prevent countries from lapsi\",\"[LAPSE]\\tSimilarly, the United Nations must have the right tools to help prevent countries from lapsi\",\"[RECEDE]\\tThe flood waters did not recede for months owing to drainage problems.\",\"[RECEDE]\\tThe flood waters did not recede for months owing to drainage problems.\",\"[BERTH]\\tDevelopment of new berths for cruise ships can destroy valuable coastal habitats.\",\"[BERTH]\\tDevelopment of new berths for cruise ships can destroy valuable coastal habitats.\",\"[DOT]\\tHe was told that the Philippines would only be a small dot on that now familiar map.\",\"[DOT]\\tHe was told that the Philippines would only be a small dot on that now familiar map.\",\"[SERIAL]\\tMeanwhile, talks concerning the serial production of the launch vehicle are being held.\",\"[SERIAL]\\tMeanwhile, talks concerning the serial production of the launch vehicle are being held.\",\"[ACCOMMODATE]\\tThe refugees have been accommodated by the local population in the border region, the \",\"[ACCOMMODATE]\\tThe refugees have been accommodated by the local population in the border region, the \",\"[JUDGEMENT]\\tHe would not make any judgement about the relative value of UNCTAD as a forum vis-à-vis \",\"[JUDGEMENT]\\tHe would not make any judgement about the relative value of UNCTAD as a forum vis-à-vis \",\"[WIDE]\\tAcross Africa, Governments were sometimes pressured into accepting a wide range of loans whic\",\"[WIDE]\\tAcross Africa, Governments were sometimes pressured into accepting a wide range of loans whic\",\"[TABLE]\\tHe was certainly in no position to give lessons on returning to the negotiating table, when \",\"[TABLE]\\tHe was certainly in no position to give lessons on returning to the negotiating table, when \",\"[SUPERIORITY]\\tThe same article sanctions dissemination of ideas based on racial superiority, incitem\",\"[SUPERIORITY]\\tThe same article sanctions dissemination of ideas based on racial superiority, incitem\",\"[MANAGER]\\tWomen constitute 12 per cent of all deputies in the Parliament and 20 per cent among manag\",\"[MANAGER]\\tWomen constitute 12 per cent of all deputies in the Parliament and 20 per cent among manag\",\"[TALK]\\tBefore Israel talked about peace, it should return the land it occupied to its rightful owner\",\"[TALK]\\tBefore Israel talked about peace, it should return the land it occupied to its rightful owner\",\"[MINUTE]\\tThe submarine was found at 38 degrees 12.00 minutes N, 128 degrees 50.78 minutes E, about 2\",\"[MINUTE]\\tThe submarine was found at 38 degrees 12.00 minutes N, 128 degrees 50.78 minutes E, about 2\",\"[CUSTODY]\\tLegal aid is available to eligible applicants to take proceedings for divorce, child custo\",\"[CUSTODY]\\tLegal aid is available to eligible applicants to take proceedings for divorce, child custo\",\"[TRANSPIRE]\\tIt transpired from those talks that the question of establishing a regime for access to \",\"[TRANSPIRE]\\tIt transpired from those talks that the question of establishing a regime for access to \",\"[FOUND]\\tThe Estonian Gerontology and Geriatrics Association, founded in August 1997, focuses on impr\",\"[FOUND]\\tThe Estonian Gerontology and Geriatrics Association, founded in August 1997, focuses on impr\",\"[UNFORTUNATE]\\tAt the same time, this unfortunate incident is a reminder to us of the importance of g\",\"[UNFORTUNATE]\\tAt the same time, this unfortunate incident is a reminder to us of the importance of g\",\"[ARGUE]\\tHe has been arguing that the charges against him and his subsequent house arrest were politi\",\"[ARGUE]\\tHe has been arguing that the charges against him and his subsequent house arrest were politi\",\"[FIGHT]\\tThe fight against poverty must be placed at the heart of those endeavours, as a unifying pri\",\"[FIGHT]\\tThe fight against poverty must be placed at the heart of those endeavours, as a unifying pri\",\"[PHASE]\\tThe second phase of the project commenced in November 1997 with the addition of two project \",\"[PHASE]\\tThe second phase of the project commenced in November 1997 with the addition of two project \",\"[TRAVEL]\\tHer passport was returned a week before she travelled to Syria with her husband and childre\",\"[TRAVEL]\\tHer passport was returned a week before she travelled to Syria with her husband and childre\",\"[DIFFERENTIATE]\\tThe Committee is also of the view that the legally accepted practice of allowing emp\",\"[DIFFERENTIATE]\\tThe Committee is also of the view that the legally accepted practice of allowing emp\",\"[SPEED]\\tThey have radically transformed the patterns and speed of information exchange.\",\"[SPEED]\\tThey have radically transformed the patterns and speed of information exchange.\",\"[PLATFORM]\\tThe Congress could serve as a platform for the discussion of practical measures for the p\",\"[PLATFORM]\\tThe Congress could serve as a platform for the discussion of practical measures for the p\",\"[DESIGN]\\tThese indicators are being built into all programmes and projects at their design stage.\",\"[DESIGN]\\tThese indicators are being built into all programmes and projects at their design stage.\",\"[TRAFFIC]\\tThe Committee also recommends that all appropriate measures be taken to prevent traffic ac\",\"[TRAFFIC]\\tThe Committee also recommends that all appropriate measures be taken to prevent traffic ac\",\"[OUTGOING]\\tI also wish to thank the outgoing President, Mr. Julian Hunte, for the total commitment a\",\"[OUTGOING]\\tI also wish to thank the outgoing President, Mr. Julian Hunte, for the total commitment a\",\"[ADVANCED]\\tIn addition, basic remote sensing courses, advanced studies and research are regularly he\",\"[ADVANCED]\\tIn addition, basic remote sensing courses, advanced studies and research are regularly he\",\"[EXPOSE]\\tIt also exposes the intention to perpetuate the occupation, expand settlement, expropriate \",\"[EXPOSE]\\tIt also exposes the intention to perpetuate the occupation, expand settlement, expropriate \",\"[EXPENSE]\\tIn its review of the Claims seeking compensation for the reimbursement of evacuation expen\",\"[EXPENSE]\\tIn its review of the Claims seeking compensation for the reimbursement of evacuation expen\",\"[ABORT]\\tWe also denounce the one-child policy in China, which forces and coerces pregnant women to a\",\"[ABORT]\\tWe also denounce the one-child policy in China, which forces and coerces pregnant women to a\",\"[COMBINATION]\\tThe provision of services will typically involve a combination of different types of r\",\"[COMBINATION]\\tThe provision of services will typically involve a combination of different types of r\",\"[CAPACITY]\\tFor that purpose, new digital automatic telephone exchanges, with a capacity for 360,000-\",\"[CAPACITY]\\tFor that purpose, new digital automatic telephone exchanges, with a capacity for 360,000-\",\"[BELOW]\\tThe information and views obtained in the course of his visits will be reflected below under\",\"[BELOW]\\tThe information and views obtained in the course of his visits will be reflected below under\",\"[INDUSTRIAL]\\tIt was estimated that if industrial countries reduced agricultural protection and subsi\",\"[INDUSTRIAL]\\tIt was estimated that if industrial countries reduced agricultural protection and subsi\",\"[SHAPE]\\tWhen we begin work, we fully anticipate that many members of this body will offer proposals \",\"[SHAPE]\\tWhen we begin work, we fully anticipate that many members of this body will offer proposals \",\"[MOBILE]\\tA large, mobile shredder can literally destroy thousands of weapons per day, and there is a\",\"[MOBILE]\\tA large, mobile shredder can literally destroy thousands of weapons per day, and there is a\",\"[TERMINAL]\\tThe international nature of satellite communication services would benefit from greater i\",\"[TERMINAL]\\tThe international nature of satellite communication services would benefit from greater i\",\"[PRICE]\\tThe people of the Marshall Islands and other Pacific islanders thus had paid a heavy price.\",\"[PRICE]\\tThe people of the Marshall Islands and other Pacific islanders thus had paid a heavy price.\",\"[HAZARD]\\tThe regions of the world that are prone to natural hazards are generally well delineated, a\",\"[HAZARD]\\tThe regions of the world that are prone to natural hazards are generally well delineated, a\",\"[OPTICAL]\\tThe program provides 100 per cent of prescription drugs, dental, optical, ambulance and di\",\"[OPTICAL]\\tThe program provides 100 per cent of prescription drugs, dental, optical, ambulance and di\",\"[TEMPORAL]\\tIn a desertification early warning system, the spatial and temporal scales would be diffe\",\"[TEMPORAL]\\tIn a desertification early warning system, the spatial and temporal scales would be diffe\",\"[DISTRESS]\\tNo financial charge was made for this aid to a ship in distress.\",\"[DISTRESS]\\tNo financial charge was made for this aid to a ship in distress.\",\"[TOUCH]\\tEcuador is a country with a touch of magic, with stunning natural panoramas, cultural divers\",\"[TOUCH]\\tEcuador is a country with a touch of magic, with stunning natural panoramas, cultural divers\",\"[FACE]\\tOn the following day, Marcelo Atencia allegedly arrived home with his face terribly disfigure\",\"[FACE]\\tOn the following day, Marcelo Atencia allegedly arrived home with his face terribly disfigure\",\"[FLASH]\\tGreater use should also be made of CD-ROM and flash memory technology.\",\"[FLASH]\\tGreater use should also be made of CD-ROM and flash memory technology.\",\"[RUN]\\tFor very pragmatic reasons, in the short run, it might be rational to search for a compromise;\",\"[RUN]\\tFor very pragmatic reasons, in the short run, it might be rational to search for a compromise;\",\"[TECHNICALLY]\\tThe humanitarian emergency caused by this category of ERW is technically speaking main\",\"[TECHNICALLY]\\tThe humanitarian emergency caused by this category of ERW is technically speaking main\",\"[PACE]\\tHowever, while trade liberalization should be paced in a way that reflects, inter alia, its p\",\"[PACE]\\tHowever, while trade liberalization should be paced in a way that reflects, inter alia, its p\",\"[PRODUCT]\\tIt is the international community whom we expect to support our endeavours and accept the \",\"[PRODUCT]\\tIt is the international community whom we expect to support our endeavours and accept the \",\"[DIMENSION]\\tNew forms of crime have emerged, and both crime and offenders have taken on an internati\",\"[DIMENSION]\\tNew forms of crime have emerged, and both crime and offenders have taken on an internati\",\"[BREATH]\\tIn the same breath, I wish to extend our compliments to your predecessor, His Excellency Mr\",\"[BREATH]\\tIn the same breath, I wish to extend our compliments to your predecessor, His Excellency Mr\",\"[SURGE]\\tNoting that hazards in Bangladesh include floods, storm surges, droughts, and increasing sal\",\"[SURGE]\\tNoting that hazards in Bangladesh include floods, storm surges, droughts, and increasing sal\",\"[SEQUENCE]\\tA sequence of interrogations may threaten to become a form of brainwashing.\",\"[SEQUENCE]\\tA sequence of interrogations may threaten to become a form of brainwashing.\",\"[LIE]\\tTwo hours after the arrest, his father allegedly saw him lying unconscious with signs of blows\",\"[LIE]\\tTwo hours after the arrest, his father allegedly saw him lying unconscious with signs of blows\",\"[LIKELY]\\tThese trends seem likely to accelerate in the years ahead as a result of the emphasis upon \",\"[LIKELY]\\tThese trends seem likely to accelerate in the years ahead as a result of the emphasis upon \",\"[OPERATIONAL]\\tData on ion emitter operation are continuously being evaluated and show excellent oper\",\"[OPERATIONAL]\\tData on ion emitter operation are continuously being evaluated and show excellent oper\",\"[EASY]\\tBoys and girls on their own are easy targets for recruitment into armed groups, as combatants\",\"[EASY]\\tBoys and girls on their own are easy targets for recruitment into armed groups, as combatants\",\"[PROGRAM]\\tThe Government has taken action in a number of areas to protect the ozone layer within its\",\"[PROGRAM]\\tThe Government has taken action in a number of areas to protect the ozone layer within its\",\"[CELL]\\tAs such, a similar proposal to assess feasibility of hydrogen fuel cells in mass transit syst\",\"[CELL]\\tAs such, a similar proposal to assess feasibility of hydrogen fuel cells in mass transit syst\",\"[HEIGHT]\\tKnowing the precise position and time of landslips, sea-level changes and water heights in \",\"[HEIGHT]\\tKnowing the precise position and time of landslips, sea-level changes and water heights in \",\"[UNISON]\\tCertainly we need to work in unison to solve this problem.\",\"[UNISON]\\tCertainly we need to work in unison to solve this problem.\",\"[ILLITERATE]\\tUnfortunately, women constituted 70 per cent of the illiterate population and were the \",\"[ILLITERATE]\\tUnfortunately, women constituted 70 per cent of the illiterate population and were the \",\"[SYNTHETIC]\\tIn view of the alarming increase in the use of synthetic drugs, his delegation called on\",\"[SYNTHETIC]\\tIn view of the alarming increase in the use of synthetic drugs, his delegation called on\",\"[GATHER]\\tMembers of WJA gather at yearly regional seminars and biennial conferences to present educa\",\"[GATHER]\\tMembers of WJA gather at yearly regional seminars and biennial conferences to present educa\",\"[VEGETATIVE]\\tAccording to Kuwait, the vegetative cover of the affected areas is lower than in undist\",\"[VEGETATIVE]\\tAccording to Kuwait, the vegetative cover of the affected areas is lower than in undist\",\"[DISCRIMINATE]\\tThe procedures of the Office (see ST\\u002fSGB\\u002f273) do not discriminate between the receipt\",\"[DISCRIMINATE]\\tThe procedures of the Office (see ST\\u002fSGB\\u002f273) do not discriminate between the receipt\",\"[RAG]\\tShe was allegedly tortured at the camp in a variety of ways, including having her mouth stuffe\",\"[RAG]\\tShe was allegedly tortured at the camp in a variety of ways, including having her mouth stuffe\",\"[BURN]\\tMoreover, over 1,000 houses were burned while several cases of destruction, pillage and inhum\",\"[BURN]\\tMoreover, over 1,000 houses were burned while several cases of destruction, pillage and inhum\",\"[MANIPULATE]\\tThe capacity of national experts to access, analyse and manipulate biophysical, hydrolo\",\"[MANIPULATE]\\tThe capacity of national experts to access, analyse and manipulate biophysical, hydrolo\",\"[CHOKE]\\tŞahide Goekce reported to the police without her husband being present that he had choked he\",\"[CHOKE]\\tŞahide Goekce reported to the police without her husband being present that he had choked he\",\"[INFLATE]\\tFood prices have inflated and supplies have been reduced as a result of the current operat\",\"[INFLATE]\\tFood prices have inflated and supplies have been reduced as a result of the current operat\",\"[BREATHE]\\tPeople need clean air to breathe, safe water to drink, healthy food to eat, energy to prod\",\"[BREATHE]\\tPeople need clean air to breathe, safe water to drink, healthy food to eat, energy to prod\",\"[SLAM]\\tThe officers allegedly slammed his face into a concrete wall and broke his arm, after he had \",\"[SLAM]\\tThe officers allegedly slammed his face into a concrete wall and broke his arm, after he had \",\"[STRIP]\\tA woman was stripped naked, gagged and burned alive at Mount Hagen after being suspected of \",\"[STRIP]\\tA woman was stripped naked, gagged and burned alive at Mount Hagen after being suspected of \",\"[SOAK]\\tRain falling or collecting on the earth's surface soaks through the ground and moves downward\",\"[SOAK]\\tRain falling or collecting on the earth's surface soaks through the ground and moves downward\",\"[ELUDE]\\tNevertheless, the opportunity for all stakeholders to work together on consolidating peace i\",\"[ELUDE]\\tNevertheless, the opportunity for all stakeholders to work together on consolidating peace i\",\"[PURGE]\\tSchool textbooks have yet to be completely purged of images that entrench stereotypical male\",\"[PURGE]\\tSchool textbooks have yet to be completely purged of images that entrench stereotypical male\",\"[THINLY]\\tThe group said that the bullets were actually made of steel and thinly coated with rubber.\",\"[THINLY]\\tThe group said that the bullets were actually made of steel and thinly coated with rubber.\",\"[STUB]\\tMice corpses, cigarette stubs, glass, asphalt and stones were regularly found in the food ser\",\"[STUB]\\tMice corpses, cigarette stubs, glass, asphalt and stones were regularly found in the food ser\",\"[STOPPER]\\tAmong the souvenirs offered are small glass vials with gold stoppers, containing local dia\",\"[STOPPER]\\tAmong the souvenirs offered are small glass vials with gold stoppers, containing local dia\",\"[OVERWHELM]\\tSmall criminal justice systems are easily overwhelmed in terms of police, courts and pri\",\"[OVERWHELM]\\tSmall criminal justice systems are easily overwhelmed in terms of police, courts and pri\",\"[PECULIARLY]\\tIt seems that the mere existence of the Republic of Cyprus is considered by Turkey as a\",\"[PECULIARLY]\\tIt seems that the mere existence of the Republic of Cyprus is considered by Turkey as a\",\"[UNUSED]\\tUpon the end of their service, eligible staff members are entitled to be paid for any unuse\",\"[UNUSED]\\tUpon the end of their service, eligible staff members are entitled to be paid for any unuse\",\"[BELL]\\tHuman rights instruments had been described as alarm bells for society that had not been prop\",\"[BELL]\\tHuman rights instruments had been described as alarm bells for society that had not been prop\",\"[CONSTRICTION]\\tA reduction in the effectiveness of the work of the Special Committee and the constri\",\"[CONSTRICTION]\\tA reduction in the effectiveness of the work of the Special Committee and the constri\",\"[PLEASE]\\tOnce the barlake has been paid, there is often the belief that a wife is the property of th\",\"[PLEASE]\\tOnce the barlake has been paid, there is often the belief that a wife is the property of th\",\"[CIVILISATION]\\tIn the long course of history, the Chinese and African peoples, with an unyielding an\",\"[CIVILISATION]\\tIn the long course of history, the Chinese and African peoples, with an unyielding an\",\"[COOKIE]\\tSoft loans were available for home-based enterprises, such as cookie and noodle factories, \",\"[COOKIE]\\tSoft loans were available for home-based enterprises, such as cookie and noodle factories, \",\"[ALOFT]\\tThe Committee was further informed that observation helicopters had limited flying hours and\",\"[ALOFT]\\tThe Committee was further informed that observation helicopters had limited flying hours and\",\"[TAB]\\tIts core functions are to keep a tab on all matters concerning security, decide what actions t\",\"[TAB]\\tIts core functions are to keep a tab on all matters concerning security, decide what actions t\",\"[GUT]\\tFurther, ethyl mercury is actively excreted via the gut unlike methyl mercury that accumulates\",\"[GUT]\\tFurther, ethyl mercury is actively excreted via the gut unlike methyl mercury that accumulates\",\"[TRANSPORT]\\tSince the Ministry of Education has not been able to transport materials from warehouses\",\"[TRANSPORT]\\tSince the Ministry of Education has not been able to transport materials from warehouses\",\"[SUBSIDE]\\tThe transparent and swift manner in which the Turkish Cypriot side addressed the issue all\",\"[SUBSIDE]\\tThe transparent and swift manner in which the Turkish Cypriot side addressed the issue all\",\"[RELIEVE]\\tAnd fourth, there is an urgent need to relieve the pressure on the former Yugoslav Republi\",\"[RELIEVE]\\tAnd fourth, there is an urgent need to relieve the pressure on the former Yugoslav Republi\",\"[SELL]\\tDistribution of part-food and part-cash subsidies largely reduced the practice of selling foo\",\"[SELL]\\tDistribution of part-food and part-cash subsidies largely reduced the practice of selling foo\",\"[DISPENSE]\\tOral contraceptives are dispensed from pharmacies against a prescription by a medical pra\",\"[DISPENSE]\\tOral contraceptives are dispensed from pharmacies against a prescription by a medical pra\",\"[GRADUATE]\\tBetween 1982 and 1995, the proportion of women graduating from the National Institute of \",\"[GRADUATE]\\tBetween 1982 and 1995, the proportion of women graduating from the National Institute of \",\"[TONE]\\tWe are satisfied that despite all the difficulties and controversies, we have succeeded in se\",\"[TONE]\\tWe are satisfied that despite all the difficulties and controversies, we have succeeded in se\",\"[NARROW]\\tTo narrow the gap, the Government would adopt a broad approach that included improved data \",\"[NARROW]\\tTo narrow the gap, the Government would adopt a broad approach that included improved data \",\"[TIE]\\tHe reportedly had his clothes removed and his hands tied to two chairs while he was pulled fro\",\"[TIE]\\tHe reportedly had his clothes removed and his hands tied to two chairs while he was pulled fro\",\"[FINISH]\\tThe project eventually finished after five years owing to changing priorities of the Govern\",\"[FINISH]\\tThe project eventually finished after five years owing to changing priorities of the Govern\",\"[SURETY]\\tA surety equivalent to the cost of the child’s possible repatriation has to be paid into a \",\"[SURETY]\\tA surety equivalent to the cost of the child’s possible repatriation has to be paid into a \",\"[INTELLIGENCE]\\tMilitary intelligence, criminal investigation police and members of the armed forces \",\"[INTELLIGENCE]\\tMilitary intelligence, criminal investigation police and members of the armed forces \",\"[CLEAR]\\tAll detainees had been medically cleared and declared fit to stand trial.\",\"[CLEAR]\\tAll detainees had been medically cleared and declared fit to stand trial.\",\"[CONFESS]\\tPersonally and professionally speaking, the experience has been interesting, although I mu\",\"[CONFESS]\\tPersonally and professionally speaking, the experience has been interesting, although I mu\",\"[DRINK]\\tThe latter included 5 % who had consumed alcoholic drinks on 30 days of the month.\",\"[DRINK]\\tThe latter included 5 % who had consumed alcoholic drinks on 30 days of the month.\",\"[ESCAPE]\\tPoor countries will be able to escape the vicious circle of poverty only through an investm\",\"[ESCAPE]\\tPoor countries will be able to escape the vicious circle of poverty only through an investm\",\"[RESIGN]\\tThe Presiding Judge for a major ongoing trial also resigned in March 2004 for medical reaso\",\"[RESIGN]\\tThe Presiding Judge for a major ongoing trial also resigned in March 2004 for medical reaso\",\"[ASSOCIATION]\\tMeetings were held, in association with Successful Meetings magazine, New York, with l\",\"[ASSOCIATION]\\tMeetings were held, in association with Successful Meetings magazine, New York, with l\",\"[YOUNG]\\tFemale inmates and young offenders are separated from adult male inmates.\",\"[YOUNG]\\tFemale inmates and young offenders are separated from adult male inmates.\",\"[PROMOTE]\\tThe services offered by the various organizations promoting social intercourse are availab\",\"[PROMOTE]\\tThe services offered by the various organizations promoting social intercourse are availab\",\"[FIRMLY]\\tThe fluting or corrugated fibreboard shall be firmly glued to the facings.\",\"[FIRMLY]\\tThe fluting or corrugated fibreboard shall be firmly glued to the facings.\",\"[ORIGINAL]\\tGNSS technology has matured into a resource that goes far beyond its original design goal\",\"[ORIGINAL]\\tGNSS technology has matured into a resource that goes far beyond its original design goal\",\"[ACT]\\tThe new Act on Prohibition of Unfair and Restrictive Market Practices would come into force on\",\"[ACT]\\tThe new Act on Prohibition of Unfair and Restrictive Market Practices would come into force on\",\"[REACT]\\tHow humans react to living in space for long periods of time was the subject of the first Ca\",\"[REACT]\\tHow humans react to living in space for long periods of time was the subject of the first Ca\",\"[OUTSTANDING]\\tOutstanding debts for major operations that had ended more than two years earlier shou\",\"[OUTSTANDING]\\tOutstanding debts for major operations that had ended more than two years earlier shou\",\"[SETTLEMENT]\\tConvinced that achieving a final and peaceful settlement of the question of Palestine, \",\"[SETTLEMENT]\\tConvinced that achieving a final and peaceful settlement of the question of Palestine, \",\"[ATTACK]\\tThat would represent an attack on their right to self-determination and independence, a new\",\"[ATTACK]\\tThat would represent an attack on their right to self-determination and independence, a new\",\"[FOREIGN]\\tMoreover, foreign direct investment in the developing countries could foster the transfer \",\"[FOREIGN]\\tMoreover, foreign direct investment in the developing countries could foster the transfer \",\"[INJURY]\\tWitnesses at his funeral observed traces of beatings all over his body, including injuries \",\"[INJURY]\\tWitnesses at his funeral observed traces of beatings all over his body, including injuries \",\"[KEEP]\\tFirstly, it kept the members of the Commission from losing sight of State positions and thus \",\"[KEEP]\\tFirstly, it kept the members of the Commission from losing sight of State positions and thus \",\"[WONDER]\\tHe wondered how the United Nations could reconcile those contrasting tensions.\",\"[WONDER]\\tHe wondered how the United Nations could reconcile those contrasting tensions.\",\"[CANE]\\tFemale field workers in the sugar industry are also not compelled to do cutting and loading o\",\"[CANE]\\tFemale field workers in the sugar industry are also not compelled to do cutting and loading o\",\"[CLEAR]\\tThis appeared to be the result of deliberate misinformation, as such a refusal would have co\",\"[CLEAR]\\tThis appeared to be the result of deliberate misinformation, as such a refusal would have co\",\"[PICTURE]\\tShe also saw pictures of the uncovered bodies taken by independent sources.\",\"[PICTURE]\\tShe also saw pictures of the uncovered bodies taken by independent sources.\",\"[INTENSIVE]\\tThe European Union welcomes the agreements reached after six months of intensive discuss\",\"[INTENSIVE]\\tThe European Union welcomes the agreements reached after six months of intensive discuss\",\"[CERTAIN]\\tIdeally, there should be only one United Nations agency active in a certain area.\",\"[CERTAIN]\\tIdeally, there should be only one United Nations agency active in a certain area.\",\"[INTELLECT]\\tWe rely on the vast experience gained by the United Nations over the decades, as well as\",\"[INTELLECT]\\tWe rely on the vast experience gained by the United Nations over the decades, as well as\",\"[FOCUS]\\tIn its dealings with the authorities, it focuses on promoting the status of journalists and \",\"[FOCUS]\\tIn its dealings with the authorities, it focuses on promoting the status of journalists and \",\"[LANGUAGE]\\tNo answer had been received from Vienna as to why the post of Arabic language teacher had\",\"[LANGUAGE]\\tNo answer had been received from Vienna as to why the post of Arabic language teacher had\",\"[PREPARE]\\tWhile we do not start the real negotiations in Vienna, we will try to help to prepare them\",\"[PREPARE]\\tWhile we do not start the real negotiations in Vienna, we will try to help to prepare them\",\"[FACT]\\tIn view of the fact that this item has appeared in a number of budget presentations, the Secr\",\"[FACT]\\tIn view of the fact that this item has appeared in a number of budget presentations, the Secr\",\"[LINK]\\tThe Library has also posted Cyberlinks, a collection of links to regional and country Interne\",\"[LINK]\\tThe Library has also posted Cyberlinks, a collection of links to regional and country Interne\",\"[GOVERN]\\tFurthermore, in Germany, as a State governed by the rule of law, Scientology is entirely fr\",\"[GOVERN]\\tFurthermore, in Germany, as a State governed by the rule of law, Scientology is entirely fr\",\"[CHOOSE]\\tThe day was chosen by Hamas since it was as the day when Palestinians began their resistanc\",\"[CHOOSE]\\tThe day was chosen by Hamas since it was as the day when Palestinians began their resistanc\",\"[REFLECT]\\tThose principles should also be reflected in the work of the Subcommittees.\",\"[REFLECT]\\tThose principles should also be reflected in the work of the Subcommittees.\",\"[ABANDON]\\tOn account of having had to abandon their homes, property and livelihood, they suddenly fo\",\"[ABANDON]\\tOn account of having had to abandon their homes, property and livelihood, they suddenly fo\",\"[PROSECUTE]\\tDeprived of any instrument for prosecuting criminals when extradition agreements about t\",\"[PROSECUTE]\\tDeprived of any instrument for prosecuting criminals when extradition agreements about t\",\"[EXERCISE]\\tThe representative of the United Kingdom made a statement in the exercise of the right of\",\"[EXERCISE]\\tThe representative of the United Kingdom made a statement in the exercise of the right of\",\"[PROPORTION]\\tThe proportion of illiterates in rural areas fell sharply from 47 to 28 per cent in the\",\"[PROPORTION]\\tThe proportion of illiterates in rural areas fell sharply from 47 to 28 per cent in the\",\"[LAY]\\tShortly after the boy was laid to rest, scores of Palestinian youths threw stones and bottles \",\"[LAY]\\tShortly after the boy was laid to rest, scores of Palestinian youths threw stones and bottles \",\"[PROFESSIONAL]\\tThe medical equipment used by UNIFIL is used mostly for professional first aid and ba\",\"[PROFESSIONAL]\\tThe medical equipment used by UNIFIL is used mostly for professional first aid and ba\",\"[PUT]\\tThey put a plastic bag over his head for 10 minutes on several occasions, so that he was unabl\",\"[PUT]\\tThey put a plastic bag over his head for 10 minutes on several occasions, so that he was unabl\",\"[CORRUPTION]\\tThese include corruption, biased judgements, impunity, false testimony and ethnic compo\",\"[CORRUPTION]\\tThese include corruption, biased judgements, impunity, false testimony and ethnic compo\",\"[COME]\\tWhile I had, when I came to Geneva, been acquainted with the United Nations for several years\",\"[COME]\\tWhile I had, when I came to Geneva, been acquainted with the United Nations for several years\",\"[REPRESENTATION]\\tIt also heard an oral representation by the Permanent Representative of Liberia.\",\"[REPRESENTATION]\\tIt also heard an oral representation by the Permanent Representative of Liberia.\",\"[PROCESS]\\tIn 1997, its mills in the various governorates processed 2,199,000 tonnes of wheat, as com\",\"[PROCESS]\\tIn 1997, its mills in the various governorates processed 2,199,000 tonnes of wheat, as com\",\"[SEIZE]\\tWe must seize the opportunity to provide them with the necessary support.\",\"[SEIZE]\\tWe must seize the opportunity to provide them with the necessary support.\",\"[INFLUENCE]\\tOne possible response to counterbalance the influence of foreign investors is to develop\",\"[INFLUENCE]\\tOne possible response to counterbalance the influence of foreign investors is to develop\",\"[ACCOMMODATION]\\tCrew accommodation and meals are expected to be at the same rate as for the B 727 ai\",\"[ACCOMMODATION]\\tCrew accommodation and meals are expected to be at the same rate as for the B 727 ai\",\"[COMPLETE]\\tLastly, he emphasized his country’s complete support for the Office’s activities.\",\"[COMPLETE]\\tLastly, he emphasized his country’s complete support for the Office’s activities.\",\"[DRAFT]\\tMore time should have been given to the consideration of the draft resolution.\",\"[DRAFT]\\tMore time should have been given to the consideration of the draft resolution.\",\"[SHOW]\\tThe television showed pictures of child soldiers in Liberia, Somalia and Angola, walking arou\",\"[SHOW]\\tThe television showed pictures of child soldiers in Liberia, Somalia and Angola, walking arou\",\"[RESOURCE]\\tTropical forests are an important part of the Earth's ecosystem and a valuable resource f\",\"[RESOURCE]\\tTropical forests are an important part of the Earth's ecosystem and a valuable resource f\",\"[FEEL]\\tIn such cases, complainants feel they are being discriminated against because of their reside\",\"[FEEL]\\tIn such cases, complainants feel they are being discriminated against because of their reside\",\"[HERD]\\tIt also pointed out that while the victim’s father had stated that his son used to herd their\",\"[HERD]\\tIt also pointed out that while the victim’s father had stated that his son used to herd their\",\"[INTERPRETATION]\\tSimultaneous interpretation into languages other than Spanish, unless specifically \",\"[INTERPRETATION]\\tSimultaneous interpretation into languages other than Spanish, unless specifically \",\"[EXHAUST]\\tThe Committee noted that the State party had confirmed that all domestic remedies had been\",\"[EXHAUST]\\tThe Committee noted that the State party had confirmed that all domestic remedies had been\",\"[GUARANTEE]\\tDe jure, women enjoy full guarantees of human rights and freedom from discrimination.\",\"[GUARANTEE]\\tDe jure, women enjoy full guarantees of human rights and freedom from discrimination.\",\"[CULTURE]\\tConsequently, the preservation of their culture and their historical identity has been and\",\"[CULTURE]\\tConsequently, the preservation of their culture and their historical identity has been and\",\"[LET]\\tLet me recall, in this context, the balanced proposals of the non—aligned countries for a prog\",\"[LET]\\tLet me recall, in this context, the balanced proposals of the non—aligned countries for a prog\",\"[COMMUNICATE]\\tMoreover, it remains difficult for journalists from one entity to travel to or communi\",\"[COMMUNICATE]\\tMoreover, it remains difficult for journalists from one entity to travel to or communi\",\"[DISPOSAL]\\tAll ODS must be recovered from equipment before equipment disposal and recycling.\",\"[DISPOSAL]\\tAll ODS must be recovered from equipment before equipment disposal and recycling.\",\"[SUBJECT]\\tSince many of them might be subject to maltreatment, Thailand looked at the problem from b\",\"[SUBJECT]\\tSince many of them might be subject to maltreatment, Thailand looked at the problem from b\",\"[PRETENCE]\\tUnder the pretence of concluding an inter-State agreement with these entities created thr\",\"[PRETENCE]\\tUnder the pretence of concluding an inter-State agreement with these entities created thr\",\"[SUBSTANCE]\\tIt had also prepared a comprehensive draft action plan for control of precursors for nar\",\"[SUBSTANCE]\\tIt had also prepared a comprehensive draft action plan for control of precursors for nar\",\"[INTRODUCE]\\tIt was mainly those countries which had already introduced major economic reforms that w\",\"[INTRODUCE]\\tIt was mainly those countries which had already introduced major economic reforms that w\",\"[REVERSAL]\\tMoreover, while democratic governance has expanded worldwide, there have also been revers\",\"[REVERSAL]\\tMoreover, while democratic governance has expanded worldwide, there have also been revers\",\"[POINT]\\tSeveral delegations pointed to the recommendations on consultants and asked for clarificatio\",\"[POINT]\\tSeveral delegations pointed to the recommendations on consultants and asked for clarificatio\",\"[RECKON]\\tThis 50 per cent was however reckoned in such a way as not to include workers who had volun\",\"[RECKON]\\tThis 50 per cent was however reckoned in such a way as not to include workers who had volun\",\"[PATCH]\\tThey would plan and implement the distribution of the new versions and corrective patches.\",\"[PATCH]\\tThey would plan and implement the distribution of the new versions and corrective patches.\",\"[BANK]\\tAccording to the Universal Postal Union, an estimated one billion people in over 50 countries\",\"[BANK]\\tAccording to the Universal Postal Union, an estimated one billion people in over 50 countries\",\"[CASUAL]\\tThe use of unskilled and casual workers also endangers the health and safety of unionized m\",\"[CASUAL]\\tThe use of unskilled and casual workers also endangers the health and safety of unionized m\",\"[PIPE]\\tAbout 73% of urban households have water piped into their dwellings or yards, while about 23%\",\"[PIPE]\\tAbout 73% of urban households have water piped into their dwellings or yards, while about 23%\",\"[SCOUT]\\tMost of the child soldiers were used as porters, cooks and scouts.\",\"[SCOUT]\\tMost of the child soldiers were used as porters, cooks and scouts.\",\"[SURGICAL]\\tThe 52,382 surgical procedures performed in 1997 were largely emergencies, while routine \",\"[SURGICAL]\\tThe 52,382 surgical procedures performed in 1997 were largely emergencies, while routine \",\"[LOBBY]\\tA business centre, located in the lobby opposite the Qatar National Bank at the Sheraton Doh\",\"[LOBBY]\\tA business centre, located in the lobby opposite the Qatar National Bank at the Sheraton Doh\",\"[DWARF]\\tThe central purpose of ISOD is to develop and promote sports for amputees, dwarfs and a mult\",\"[DWARF]\\tThe central purpose of ISOD is to develop and promote sports for amputees, dwarfs and a mult\",\"[BEG]\\tThey will have an alternative to begging on the streets as a means of subsistence and will be \",\"[BEG]\\tThey will have an alternative to begging on the streets as a means of subsistence and will be \",\"[NEEDLE]\\tVarious types of protocols and activities for the provision of needles and syringes were re\",\"[NEEDLE]\\tVarious types of protocols and activities for the provision of needles and syringes were re\",\"[THUNDER]\\tThe Security Council has in many ways stolen the thunder of the Assembly, and it is incumb\",\"[THUNDER]\\tThe Security Council has in many ways stolen the thunder of the Assembly, and it is incumb\",\"[CROOKED]\\tShe also affirms that her son showed her his crooked fingers, a consequence of the torture\",\"[CROOKED]\\tShe also affirms that her son showed her his crooked fingers, a consequence of the torture\",\"[CONJUGATE]\\tMost of the absorbed HCBD is transported to the liver and conjugated with glutathione.\",\"[CONJUGATE]\\tMost of the absorbed HCBD is transported to the liver and conjugated with glutathione.\",\"[INFLECTION]\\tI believe that the Conference needs to be seen not as an event in itself, but as an inf\",\"[INFLECTION]\\tI believe that the Conference needs to be seen not as an event in itself, but as an inf\",\"[MASQUERADE]\\tI wish to end by quoting an African proverb, which states that when you take your masqu\",\"[MASQUERADE]\\tI wish to end by quoting an African proverb, which states that when you take your masqu\",\"[DISORDERED]\\tSecondly, he was detained unlawfully as he was not mentally disordered as defined in MH\",\"[DISORDERED]\\tSecondly, he was detained unlawfully as he was not mentally disordered as defined in MH\",\"[PADDLE]\\tData from the United States of America show that almost 50,000 girls were \\\"paddled\\\" (hit on\",\"[PADDLE]\\tData from the United States of America show that almost 50,000 girls were \\\"paddled\\\" (hit on\",\"[SOFTLY]\\tMr. Salama stated that international judicial cooperation was fundamental but there was no \",\"[SOFTLY]\\tMr. Salama stated that international judicial cooperation was fundamental but there was no \",\"[BULL]\\tBulls’ semen is also imported and is successfully used in upgrading and expanding local cattl\",\"[BULL]\\tBulls’ semen is also imported and is successfully used in upgrading and expanding local cattl\",\"[EXHIBIT]\\tThe overcautiousness, indeed the guilty complicity, exhibited by the Security Council is i\",\"[EXHIBIT]\\tThe overcautiousness, indeed the guilty complicity, exhibited by the Security Council is i\",\"[NUMBER]\\tThe participants, numbering over 200, included company executives from ABB, Arab Bank, Micr\",\"[NUMBER]\\tThe participants, numbering over 200, included company executives from ABB, Arab Bank, Micr\",\"[ILLUMINATE]\\tHe stated that he was able to recognize the author as the street light in front of the \",\"[ILLUMINATE]\\tHe stated that he was able to recognize the author as the street light in front of the \",\"[STIR]\\tThe campaign has heightened our collective consciousness and stirred us to redouble our effor\",\"[STIR]\\tThe campaign has heightened our collective consciousness and stirred us to redouble our effor\",\"[PRECIPITATE]\\tCrusts precipitate from cold ambient seawater onto rock substrates, forming pavements \",\"[PRECIPITATE]\\tCrusts precipitate from cold ambient seawater onto rock substrates, forming pavements \",\"[LURK]\\tIndeed, new threats and dangers lurked in the area, which had become a refuge for many terror\",\"[LURK]\\tIndeed, new threats and dangers lurked in the area, which had become a refuge for many terror\",\"[EXCEPTIONAL]\\tIn these exceptional cases, geological and geophysical evidence may be introduced as a\",\"[EXCEPTIONAL]\\tIn these exceptional cases, geological and geophysical evidence may be introduced as a\",\"[INDULGENCE]\\tThis completes the statement of the Group of 21, but while I still have the floor, may \",\"[INDULGENCE]\\tThis completes the statement of the Group of 21, but while I still have the floor, may \",\"[PHRASE]\\tThe question was asked whether the phrase \\\"under the conditions of the law of this State\\\" r\",\"[PHRASE]\\tThe question was asked whether the phrase \\\"under the conditions of the law of this State\\\" r\",\"[POSTURE]\\tThe nuclear posture review also contains a welcome commitment by the United States that it\",\"[POSTURE]\\tThe nuclear posture review also contains a welcome commitment by the United States that it\",\"[AGGREGATE]\\tAn overview of the overall aggregates is shown in the annex to the present document.\",\"[AGGREGATE]\\tAn overview of the overall aggregates is shown in the annex to the present document.\",\"[PRECEDE]\\tAs in the previous system, the conflicts that preceded and accompanied colonial conquests \",\"[PRECEDE]\\tAs in the previous system, the conflicts that preceded and accompanied colonial conquests \",\"[CHRONIC]\\tThe chronic unemployment problem faced by these ESCWA members remains a challenge, given t\",\"[CHRONIC]\\tThe chronic unemployment problem faced by these ESCWA members remains a challenge, given t\",\"[BAR]\\tPoverty did not bar his Government from condemning the massive violations of human rights in C\",\"[BAR]\\tPoverty did not bar his Government from condemning the massive violations of human rights in C\",\"[CROSS]\\tFor example, the Mediterranean Sea, around which great civilizations have prospered, is bein\",\"[CROSS]\\tFor example, the Mediterranean Sea, around which great civilizations have prospered, is bein\",\"[FLARE]\\tIn Nigeria some 600 million cubic metres of natural gas are flared every year in the absence\",\"[FLARE]\\tIn Nigeria some 600 million cubic metres of natural gas are flared every year in the absence\",\"[SLIGHT]\\tThere might be a slight difference in substance, and the two approaches should perhaps be r\",\"[SLIGHT]\\tThere might be a slight difference in substance, and the two approaches should perhaps be r\",\"[SPUR]\\tContinued strong growth in the sector was both a result of and spur to the innovation of new \",\"[SPUR]\\tContinued strong growth in the sector was both a result of and spur to the innovation of new \",\"[PRECISELY]\\tSince antibody-antigen reactions are highly specific, the event of binding will precisel\",\"[PRECISELY]\\tSince antibody-antigen reactions are highly specific, the event of binding will precisel\",\"[CHALLENGE]\\tTo this end, let us challenge ourselves to find common ground and assist the United Nati\",\"[CHALLENGE]\\tTo this end, let us challenge ourselves to find common ground and assist the United Nati\",\"[YOKE]\\tThey allegedly tied him to a yoke and took him to the banks of the Nam Taeng river, where the\",\"[YOKE]\\tThey allegedly tied him to a yoke and took him to the banks of the Nam Taeng river, where the\",\"[CAST]\\tVotes may accordingly be cast in any second or subsequent ballot for any eligible candidate w\",\"[CAST]\\tVotes may accordingly be cast in any second or subsequent ballot for any eligible candidate w\",\"[PUSH]\\tAssistance to the Palestinian people, under the direction of the United Nations, cannot ignor\",\"[PUSH]\\tAssistance to the Palestinian people, under the direction of the United Nations, cannot ignor\",\"[ORDER]\\tNo supplies ordered under phase III have been delivered as yet.\",\"[ORDER]\\tNo supplies ordered under phase III have been delivered as yet.\",\"[LOOK]\\tThe Chinese delegation believes that it is necessary to use this opportunity to take a close \",\"[LOOK]\\tThe Chinese delegation believes that it is necessary to use this opportunity to take a close \",\"[DEFENSE]\\tAny action, including development of missile defense systems, which could impact negativel\",\"[DEFENSE]\\tAny action, including development of missile defense systems, which could impact negativel\",\"[DRAIN]\\tSewers also drain storm water and protect urban areas from being damaged by flooding.\",\"[DRAIN]\\tSewers also drain storm water and protect urban areas from being damaged by flooding.\",\"[BADLY]\\tHowever, the police are badly in need of more equipment and basic infrastructure.\",\"[BADLY]\\tHowever, the police are badly in need of more equipment and basic infrastructure.\",\"[ENTRENCH]\\tWith regard to the latter proposal, I would like to note that this is an expressions entr\",\"[ENTRENCH]\\tWith regard to the latter proposal, I would like to note that this is an expressions entr\",\"[GULF]\\tMany delegations were of the view that the gulf was widening between developed and developing\",\"[GULF]\\tMany delegations were of the view that the gulf was widening between developed and developing\",\"[COMMAND]\\tThe Fire Safety Assistant must be able to command fire units and manage all aspects of a s\",\"[COMMAND]\\tThe Fire Safety Assistant must be able to command fire units and manage all aspects of a s\",\"[NEGATE]\\tNoting the tendency in some States to negate or minimize the existence of racial discrimina\",\"[NEGATE]\\tNoting the tendency in some States to negate or minimize the existence of racial discrimina\",\"[DISSOLVE]\\tA vendor has also claimed that the chlorinated wastes in liquid state or dissolved in sol\",\"[DISSOLVE]\\tA vendor has also claimed that the chlorinated wastes in liquid state or dissolved in sol\",\"[HIDE]\\tReports indicate that large numbers of Montagnards in search of refuge are hiding on both sid\",\"[HIDE]\\tReports indicate that large numbers of Montagnards in search of refuge are hiding on both sid\",\"[SPRING]\\tIt may also be noted that a Human Rights Office was established in Reykjavik in the spring \",\"[SPRING]\\tIt may also be noted that a Human Rights Office was established in Reykjavik in the spring \",\"[HORROR]\\tThe children of Saint Vincent and the Grenadines have generally escaped the horrors of war \",\"[HORROR]\\tThe children of Saint Vincent and the Grenadines have generally escaped the horrors of war \",\"[TRACE]\\tTo that end, we believe that particular priority should be attached to all measures to trace\",\"[TRACE]\\tTo that end, we believe that particular priority should be attached to all measures to trace\",\"[HELPLESS]\\tIf this onslaught in Gaza is indeed a war, it is a war against a helpless, defenceless, i\",\"[HELPLESS]\\tIf this onslaught in Gaza is indeed a war, it is a war against a helpless, defenceless, i\",\"[EASE]\\tWe will also be discussing Israel's responsibilities to help ease these conditions and to mov\",\"[EASE]\\tWe will also be discussing Israel's responsibilities to help ease these conditions and to mov\",\"[NAME]\\tTerrorism in the name of freedom-fighting caused a double injustice, to the innocents murdere\",\"[NAME]\\tTerrorism in the name of freedom-fighting caused a double injustice, to the innocents murdere\",\"[TIME]\\tOur meeting is thus well timed to sustain the momentum and to continue an inclusive approach \",\"[TIME]\\tOur meeting is thus well timed to sustain the momentum and to continue an inclusive approach \",\"[HOUSE]\\tSo he would throw her out of the house, demanding that she return only after she had earned \",\"[HOUSE]\\tSo he would throw her out of the house, demanding that she return only after she had earned \",\"[LEND]\\tThe countries are thus confronted with the dilemma between encouraging financial institutions\",\"[LEND]\\tThe countries are thus confronted with the dilemma between encouraging financial institutions\",\"[SWING]\\tBorder policemen then started swinging clubs, trying to push back the protesters.\",\"[SWING]\\tBorder policemen then started swinging clubs, trying to push back the protesters.\",\"[DISPENSATION]\\tThe County Governor may nevertheless grant a dispensation from this age limit on extr\",\"[DISPENSATION]\\tThe County Governor may nevertheless grant a dispensation from this age limit on extr\",\"[CURE]\\tIn 2012, 84.2 per cent of notified tuberculosis patients were cured, since activities designe\",\"[CURE]\\tIn 2012, 84.2 per cent of notified tuberculosis patients were cured, since activities designe\",\"[LOVER]\\tUnder the presidency of the Princess of Hanover, it helps to draw lovers of theatre, the art\",\"[LOVER]\\tUnder the presidency of the Princess of Hanover, it helps to draw lovers of theatre, the art\",\"[IMPULSE]\\tNo one doubts the creative impulse of market forces, but the private pursuit of short-term\",\"[IMPULSE]\\tNo one doubts the creative impulse of market forces, but the private pursuit of short-term\",\"[MASTERY]\\tAs the bulk of technological activity in developing countries involves the mastery, adapta\",\"[MASTERY]\\tAs the bulk of technological activity in developing countries involves the mastery, adapta\",\"[FLOAT]\\tIn January 2012, the Syrian Central Bank decided to change its exchange rate regime to a man\",\"[FLOAT]\\tIn January 2012, the Syrian Central Bank decided to change its exchange rate regime to a man\",\"[INCLINATION]\\tThese Nadezda platforms, orbiting at an altitude of 1,000 km with a 98 degree inclinat\",\"[INCLINATION]\\tThese Nadezda platforms, orbiting at an altitude of 1,000 km with a 98 degree inclinat\",\"[SLOT]\\tHe is confined to a very small cell in which one can walk only three steps, with no windows a\",\"[SLOT]\\tHe is confined to a very small cell in which one can walk only three steps, with no windows a\",\"[ANTIQUITY]\\tEgypt reported that, in an effort to prevent trafficking, the registration procedures of\",\"[ANTIQUITY]\\tEgypt reported that, in an effort to prevent trafficking, the registration procedures of\",\"[TRIM]\\tNevertheless, people who cut or trim such sheeting using high-speed tools (circular saws or s\",\"[TRIM]\\tNevertheless, people who cut or trim such sheeting using high-speed tools (circular saws or s\",\"[SOUND]\\tThe underlying principle of the Basel Convention is environmentally sound management.\",\"[SOUND]\\tThe underlying principle of the Basel Convention is environmentally sound management.\",\"[SET]\\tTrade among developing countries is rebounding even more sharply, and looks set to continue to\",\"[SET]\\tTrade among developing countries is rebounding even more sharply, and looks set to continue to\",\"[DIAMOND]\\tThe report revealed the extent to which violations of sanctions, in the form of exports of\",\"[DIAMOND]\\tThe report revealed the extent to which violations of sanctions, in the form of exports of\",\"[DREADFUL]\\tIn the face of the worrisome increase in opium production in Afghanistan and the more dre\",\"[DREADFUL]\\tIn the face of the worrisome increase in opium production in Afghanistan and the more dre\",\"[REAR]\\tThe Court stated that the right of parents to rear their children in accordance with their be\",\"[REAR]\\tThe Court stated that the right of parents to rear their children in accordance with their be\",\"[DORMANT]\\tSuch loans have proven their worth in a number of Asian countries as an effective way of a\",\"[DORMANT]\\tSuch loans have proven their worth in a number of Asian countries as an effective way of a\",\"[BLACK]\\tLife expectancy among blacks is nearly four years less than for whites.\",\"[BLACK]\\tLife expectancy among blacks is nearly four years less than for whites.\",\"[RIPE]\\tThe time is ripe for relations between the two main parties to be transformed through constru\",\"[RIPE]\\tThe time is ripe for relations between the two main parties to be transformed through constru\",\"[TOUGH]\\tWe are too conscious that Mr. Jessen-Petersen has a tough job and is working under difficult\",\"[TOUGH]\\tWe are too conscious that Mr. Jessen-Petersen has a tough job and is working under difficult\",\"[GOLDEN]\\tHowever, farmers confirmed that they would continue using endosulfan to control golden appl\",\"[GOLDEN]\\tHowever, farmers confirmed that they would continue using endosulfan to control golden appl\",\"[SMART]\\tBut are we sufficiently smart and determined to save the lives of innocent children on our o\",\"[SMART]\\tBut are we sufficiently smart and determined to save the lives of innocent children on our o\",\"[PRIMITIVE]\\tIt is a new civilization mode after primitive civilization, agricultural civilization an\",\"[PRIMITIVE]\\tIt is a new civilization mode after primitive civilization, agricultural civilization an\",\"[BACK]\\tThat treatment left him with scars on his back and three broken toes.\",\"[BACK]\\tThat treatment left him with scars on his back and three broken toes.\",\"[MASK]\\tHowever, the general improvement masks exceptions, as individual countries are still facing l\",\"[MASK]\\tHowever, the general improvement masks exceptions, as individual countries are still facing l\",\"[WEALTH]\\tFighting poverty in an era of wealth and prosperity was an imperative, but wars were blocki\",\"[WEALTH]\\tFighting poverty in an era of wealth and prosperity was an imperative, but wars were blocki\",\"[LEAP]\\tWomen casualties increased by 6 per cent and child casualties leaped by 55 per cent from 2009\",\"[LEAP]\\tWomen casualties increased by 6 per cent and child casualties leaped by 55 per cent from 2009\",\"[IRON]\\tThe topics cover water sources, agriculture, iron ore, environmental concerns and archaeologi\",\"[IRON]\\tThe topics cover water sources, agriculture, iron ore, environmental concerns and archaeologi\",\"[RELAY]\\tSix HIV-positive individuals carried the Olympic torch on its global relay as it passed thro\",\"[RELAY]\\tSix HIV-positive individuals carried the Olympic torch on its global relay as it passed thro\",\"[NEUTRAL]\\tOwing to its universal, neutral and multilateral nature, the United Nations provided the b\",\"[NEUTRAL]\\tOwing to its universal, neutral and multilateral nature, the United Nations provided the b\",\"[ELLIPTIC]\\tThe last part of the sentence in the English version, in any event, was not clear or seem\",\"[ELLIPTIC]\\tThe last part of the sentence in the English version, in any event, was not clear or seem\",\"[FILM]\\tConcerns were also expressed that the film might become soft-porn material for paedophiles, a\",\"[FILM]\\tConcerns were also expressed that the film might become soft-porn material for paedophiles, a\",\"[PAPER]\\tIn the case of the persons concerned, the Act provides for minors to be issued with an ident\",\"[PAPER]\\tIn the case of the persons concerned, the Act provides for minors to be issued with an ident\",\"[PRINT]\\tBecause electronic subscriptions have proved to be more cost-effective and timely, the Libra\",\"[PRINT]\\tBecause electronic subscriptions have proved to be more cost-effective and timely, the Libra\",\"[BROWSE]\\tUsers can browse the regional support offices profiles by name or by means of a map in orde\",\"[BROWSE]\\tUsers can browse the regional support offices profiles by name or by means of a map in orde\",\"[CANOPY]\\tThe impact of climate change shows that we all live under the same canopy.\",\"[CANOPY]\\tThe impact of climate change shows that we all live under the same canopy.\",\"[DUE]\\tIt was recommended that UNDCP should give due consideration to the great variation between Afr\",\"[DUE]\\tIt was recommended that UNDCP should give due consideration to the great variation between Afr\",\"[MULTIPLY]\\tSecurity threats are multiplying, and instability and unpredictability have increased con\",\"[MULTIPLY]\\tSecurity threats are multiplying, and instability and unpredictability have increased con\",\"[CELEBRATE]\\tI would just like to say that today we could be celebrating our 900th meeting of the Con\",\"[CELEBRATE]\\tI would just like to say that today we could be celebrating our 900th meeting of the Con\",\"[VICIOUS]\\tEven though everybody shared the shock and dismay about this vicious attack, it took the G\",\"[VICIOUS]\\tEven though everybody shared the shock and dismay about this vicious attack, it took the G\",\"[TENACIOUS]\\tThat belief underpins the tenacious commitment to creating an environment that will enab\",\"[TENACIOUS]\\tThat belief underpins the tenacious commitment to creating an environment that will enab\",\"[ECONOMICALLY]\\tHowever, women who are economically active in the rural and urban informal sectors ar\",\"[ECONOMICALLY]\\tHowever, women who are economically active in the rural and urban informal sectors ar\",\"[REVOLUTION]\\tTaking advantage of the situation following the First World War and the February and Oc\",\"[REVOLUTION]\\tTaking advantage of the situation following the First World War and the February and Oc\",\"[POISON]\\tThese include, in particular, nuclear disarmament, which continues to poison international \",\"[POISON]\\tThese include, in particular, nuclear disarmament, which continues to poison international \",\"[HUMANITY]\\tWomen, who constituted half of humanity, could no longer be considered as a “special inte\",\"[HUMANITY]\\tWomen, who constituted half of humanity, could no longer be considered as a “special inte\",\"[TRUTH]\\tJustice and truth are essential to national reconciliation and must be sought, especially in\",\"[TRUTH]\\tJustice and truth are essential to national reconciliation and must be sought, especially in\",\"[MOUTH]\\tViet Nam is currently conducting negotiations with China for the delimitation of the area ou\",\"[MOUTH]\\tViet Nam is currently conducting negotiations with China for the delimitation of the area ou\",\"[DIGNITY]\\tThe key issue was respect for the human dignity of children with disabilities.\",\"[DIGNITY]\\tThe key issue was respect for the human dignity of children with disabilities.\",\"[UNLIMITED]\\tAlthough increased trade, improved technology, faster and more accurate communications, \",\"[UNLIMITED]\\tAlthough increased trade, improved technology, faster and more accurate communications, \",\"[TRAIN]\\tThe lack of food further pushed IDPs to leave by train or by bus for the border.\",\"[TRAIN]\\tThe lack of food further pushed IDPs to leave by train or by bus for the border.\",\"[ELEMENTARY]\\tThe Maritime Provinces Education Foundation (MPEF) has completed a project in human rig\",\"[ELEMENTARY]\\tThe Maritime Provinces Education Foundation (MPEF) has completed a project in human rig\",\"[PLEDGE]\\tWhile renewing my pledge to do my utmost in carrying out my duties as the President of the \",\"[PLEDGE]\\tWhile renewing my pledge to do my utmost in carrying out my duties as the President of the \",\"[ROUGHLY]\\tUNICEF National Committees thus contribute roughly one third of UNICEF’s overall income.\",\"[ROUGHLY]\\tUNICEF National Committees thus contribute roughly one third of UNICEF’s overall income.\",\"[STORY]\\tThe delegation stated that such success stories from the field made the job of building supp\",\"[STORY]\\tThe delegation stated that such success stories from the field made the job of building supp\",\"[PIECE]\\tThe Panel finds that the statement of the landlord is a critical piece of evidence in this r\",\"[PIECE]\\tThe Panel finds that the statement of the landlord is a critical piece of evidence in this r\",\"[READER]\\tEach immigration counter is equipped with a Computer, UV Lamp, passport reader.\",\"[READER]\\tEach immigration counter is equipped with a Computer, UV Lamp, passport reader.\",\"[JUNIOR]\\tThe enrolment rate is 100 per cent in primary education and 99.7 per cent in junior high sc\",\"[JUNIOR]\\tThe enrolment rate is 100 per cent in primary education and 99.7 per cent in junior high sc\",\"[FINANCE]\\tThe Government, with the support of the international community, had undertaken significan\",\"[FINANCE]\\tThe Government, with the support of the international community, had undertaken significan\",\"[LEAP]\\tTable 2 shows that since 1999 there have been no huge leaps in fees.\",\"[LEAP]\\tTable 2 shows that since 1999 there have been no huge leaps in fees.\",\"[FRAME]\\tIncluding those aspects will help to frame appropriate solutions and establish a clear manda\",\"[FRAME]\\tIncluding those aspects will help to frame appropriate solutions and establish a clear manda\",\"[CHAIN]\\tReports indicate that on 25 April, Messamo was tied to his hospital bed with a heavy metal c\",\"[CHAIN]\\tReports indicate that on 25 April, Messamo was tied to his hospital bed with a heavy metal c\",\"[PORTFOLIO]\\tThe World Bank's environmental portfolio currently stood at $11.5 billion for 153 projec\",\"[PORTFOLIO]\\tThe World Bank's environmental portfolio currently stood at $11.5 billion for 153 projec\",\"[GET]\\tIf Israel failed to withdraw, the human rights situation in Lebanon could only get worse.\",\"[GET]\\tIf Israel failed to withdraw, the human rights situation in Lebanon could only get worse.\",\"[CORRESPOND]\\tAny interpretation that creates rights and obligations not provided for by domestic law\",\"[CORRESPOND]\\tAny interpretation that creates rights and obligations not provided for by domestic law\",\"[STABLE]\\tSince the founding of the United Nations, the quest for humane, stable, safe, tolerant and \",\"[STABLE]\\tSince the founding of the United Nations, the quest for humane, stable, safe, tolerant and \",\"[IMPORT]\\tBy granting the PA the right to set its own tariffs on a list of goods imported from Egypt \",\"[IMPORT]\\tBy granting the PA the right to set its own tariffs on a list of goods imported from Egypt \",\"[KEY]\\tThis has been the key to the analysis under the activities of IPCC.\",\"[KEY]\\tThis has been the key to the analysis under the activities of IPCC.\",\"[CONFRONT]\\tThe physical and psychological well-being of the child victim may outweigh the right of t\",\"[CONFRONT]\\tThe physical and psychological well-being of the child victim may outweigh the right of t\",\"[OBSTRUCT]\\tThe only exceptions would be if the procedure is obstructed by the other party and if cou\",\"[OBSTRUCT]\\tThe only exceptions would be if the procedure is obstructed by the other party and if cou\",\"[SHAPE]\\tThat concept subsequently took shape in the regulations of the exclusive economic zone, for \",\"[SHAPE]\\tThat concept subsequently took shape in the regulations of the exclusive economic zone, for \",\"[SANCTION]\\tField evaluations of the potential and actual humanitarian impact of sanctions on Sierra \",\"[SANCTION]\\tField evaluations of the potential and actual humanitarian impact of sanctions on Sierra \",\"[CONSUMPTION]\\tThe Government will be enhancing the existing programmes with a view to raising awaren\",\"[CONSUMPTION]\\tThe Government will be enhancing the existing programmes with a view to raising awaren\",\"[LIBERAL]\\tIt was also noted that national courts increasingly adopted a liberal interpretation of th\",\"[LIBERAL]\\tIt was also noted that national courts increasingly adopted a liberal interpretation of th\",\"[ILLUSION]\\tThe realism of such images creates the illusion that children are actually involved.\",\"[ILLUSION]\\tThe realism of such images creates the illusion that children are actually involved.\",\"[ASIDE]\\tIt would be best to leave aside, for in—depth consultations, the question of revising and up\",\"[ASIDE]\\tIt would be best to leave aside, for in—depth consultations, the question of revising and up\",\"[UNDERLYING]\\tWhen topsoil erodes, the exposed underlying soil is devoid of organic matter (contribut\",\"[UNDERLYING]\\tWhen topsoil erodes, the exposed underlying soil is devoid of organic matter (contribut\",\"[SACRIFICE]\\tWhatever territory it has been forced to leave has been recovered through the sacrifice \",\"[SACRIFICE]\\tWhatever territory it has been forced to leave has been recovered through the sacrifice \",\"[SHARP]\\tIn that connection, her delegation was concerned about the sharp decline in both official de\",\"[SHARP]\\tIn that connection, her delegation was concerned about the sharp decline in both official de\",\"[FEED]\\tThe Special Rapporteur believes that terror and terrorism feed on undemocratic societies and \",\"[FEED]\\tThe Special Rapporteur believes that terror and terrorism feed on undemocratic societies and \",\"[OUT]\\tToday and tomorrow we are taking another step in this international dialogue, and before the y\",\"[OUT]\\tToday and tomorrow we are taking another step in this international dialogue, and before the y\",\"[PLUNGE]\\tAfter having fallen steadily during each of the preceding four years, coffee prices plunged\",\"[PLUNGE]\\tAfter having fallen steadily during each of the preceding four years, coffee prices plunged\",\"[SENSE]\\tIt can automatically adjust its movements when sensing various forces and movements on the p\",\"[SENSE]\\tIt can automatically adjust its movements when sensing various forces and movements on the p\",\"[CONVENTIONAL]\\tThis practice corresponds to the conventional view that observer organizations do not\",\"[CONVENTIONAL]\\tThis practice corresponds to the conventional view that observer organizations do not\",\"[REAL]\\tReal gross domestic product had grown on average by 4 per cent over the period 1988–1991, but\",\"[REAL]\\tReal gross domestic product had grown on average by 4 per cent over the period 1988–1991, but\",\"[NARROW]\\tHe was locked with four other men in a narrow cell with little light and a concrete floor a\",\"[NARROW]\\tHe was locked with four other men in a narrow cell with little light and a concrete floor a\",\"[INTERVAL]\\tThe average interval between workers' retraining periods has increased since 1991 from fi\",\"[INTERVAL]\\tThe average interval between workers' retraining periods has increased since 1991 from fi\",\"[PROMPTLY]\\tMember States, especially developing countries, which paid promptly should be rewarded by\",\"[PROMPTLY]\\tMember States, especially developing countries, which paid promptly should be rewarded by\",\"[STORM]\\tIt is a pride borne of weathering storms of external economic shocks, including fluctuating \",\"[STORM]\\tIt is a pride borne of weathering storms of external economic shocks, including fluctuating \",\"[SIMPLE]\\tThe United Nations should concentrate on developing indicators that are simple, clear and u\",\"[SIMPLE]\\tThe United Nations should concentrate on developing indicators that are simple, clear and u\",\"[RACK]\\tThey were beaten and put on the racks and even burnt alive.\",\"[RACK]\\tThey were beaten and put on the racks and even burnt alive.\",\"[LOOP]\\tThe earliest systems were based simply on the ability of a radio receiver with a loop antenna\",\"[LOOP]\\tThe earliest systems were based simply on the ability of a radio receiver with a loop antenna\",\"[DEFORMATION]\\tThis on the one hand could effect the deformation of the statistical data, but on the \",\"[DEFORMATION]\\tThis on the one hand could effect the deformation of the statistical data, but on the \",\"[INSURANCE]\\tAs provided in that agreement, a conclusion should now be reached on provision of social\",\"[INSURANCE]\\tAs provided in that agreement, a conclusion should now be reached on provision of social\",\"[INDUSTRY]\\tThe information industry had traditionally been defined in terms of the “form” of informa\",\"[INDUSTRY]\\tThe information industry had traditionally been defined in terms of the “form” of informa\",\"[SHIFT]\\tIf there are separate rolling hoops they shall be fitted tightly on the body and so secured \",\"[SHIFT]\\tIf there are separate rolling hoops they shall be fitted tightly on the body and so secured \",\"[HARDWARE]\\tIt is essential for the field missions to prepare a plan for purchases of communications \",\"[HARDWARE]\\tIt is essential for the field missions to prepare a plan for purchases of communications \",\"[TEXTURE]\\tIt helps improve the soil's texture and structure, thereby increasing microflora and micro\",\"[TEXTURE]\\tIt helps improve the soil's texture and structure, thereby increasing microflora and micro\",\"[SEASON]\\tThis decline during the construction industry's high season reverses a 3.7 per cent increas\",\"[SEASON]\\tThis decline during the construction industry's high season reverses a 3.7 per cent increas\",\"[ABROAD]\\tThe interest of Turkey in this cause stems from the fact that millions of Turkish citizens \",\"[ABROAD]\\tThe interest of Turkey in this cause stems from the fact that millions of Turkish citizens \",\"[PROSPECT]\\tCreating an overall favourable environment through price stability, reliable economic gro\",\"[PROSPECT]\\tCreating an overall favourable environment through price stability, reliable economic gro\",\"[FIXATION]\\tMoreover, Israel's fixation with its illegal settlement enterprise, including the destruc\",\"[FIXATION]\\tMoreover, Israel's fixation with its illegal settlement enterprise, including the destruc\",\"[INTERFACE]\\tThrough the user-friendly Web interface, clients gain access to a wide range of commodit\",\"[INTERFACE]\\tThrough the user-friendly Web interface, clients gain access to a wide range of commodit\",\"[WIDE]\\tThe Administration of this scheme has been decentralized further to reach the targeted benefi\",\"[WIDE]\\tThe Administration of this scheme has been decentralized further to reach the targeted benefi\",\"[PAIR]\\tAccording to this report, a pair of \\\"jogging shoes, size 45, with yellow and blue inserts mad\",\"[PAIR]\\tAccording to this report, a pair of \\\"jogging shoes, size 45, with yellow and blue inserts mad\",\"[FAIRLY]\\tWe need to confront the issue fairly and squarely, however, lest the credibility of the Sec\",\"[FAIRLY]\\tWe need to confront the issue fairly and squarely, however, lest the credibility of the Sec\",\"[ALTITUDE]\\tBetween 1500 and 1630 hours Israeli warplanes overflew the South at high altitude droppin\",\"[ALTITUDE]\\tBetween 1500 and 1630 hours Israeli warplanes overflew the South at high altitude droppin\",\"[COMPLEX]\\tAn additional 13 local staff for the operation of the whole United Nations Building comple\",\"[COMPLEX]\\tAn additional 13 local staff for the operation of the whole United Nations Building comple\",\"[VEHICLE]\\tNew Zealand claims that one of its Baghdad embassy vehicles was in Kuwait for repair and m\",\"[VEHICLE]\\tNew Zealand claims that one of its Baghdad embassy vehicles was in Kuwait for repair and m\",\"[GRAVITY]\\tThe gravity of this negative impact is measured, however, by the disproportionately high i\",\"[GRAVITY]\\tThe gravity of this negative impact is measured, however, by the disproportionately high i\",\"[SEPARATION]\\tThe separation of power and executive respect for such separation is a sine qua non for\",\"[SEPARATION]\\tThe separation of power and executive respect for such separation is a sine qua non for\",\"[MODULATION]\\tIPA panelists addressed issues such as maternal modulation of male violence, psychology\",\"[MODULATION]\\tIPA panelists addressed issues such as maternal modulation of male violence, psychology\",\"[FLUX]\\tYet, human resources management and development at the United Nations are in a state of flux,\",\"[FLUX]\\tYet, human resources management and development at the United Nations are in a state of flux,\",\"[EXPLORE]\\tMexico will initiate consultations to that end and will explore the possibility of reconve\",\"[EXPLORE]\\tMexico will initiate consultations to that end and will explore the possibility of reconve\",\"[ENSEMBLE]\\tIn particular, the ensemble of human rights can only be fully enjoyed in an environment t\",\"[ENSEMBLE]\\tIn particular, the ensemble of human rights can only be fully enjoyed in an environment t\",\"[PRESSURE]\\tThe application of General Assembly resolution 41\\u002f213 and the Financial Regulations had c\",\"[PRESSURE]\\tThe application of General Assembly resolution 41\\u002f213 and the Financial Regulations had c\",\"[FRONT]\\tOn Tuesday, 2 February at 4 p.m., they carried out heavy shelling for 45 minutes at the Zala\",\"[FRONT]\\tOn Tuesday, 2 February at 4 p.m., they carried out heavy shelling for 45 minutes at the Zala\",\"[INSTALL]\\tFifteen computers have been installed in seven conference rooms, with more to be installed\",\"[INSTALL]\\tFifteen computers have been installed in seven conference rooms, with more to be installed\",\"[VECTOR]\\tLocations recording the presence of Chagas disease vectors with housing conditions that fav\",\"[VECTOR]\\tLocations recording the presence of Chagas disease vectors with housing conditions that fav\",\"[WALK]\\tHe was not allowed to leave the cell for walks and had no possibility of exercising.\",\"[WALK]\\tHe was not allowed to leave the cell for walks and had no possibility of exercising.\",\"[FORTHCOMING]\\tAs the amount of commodities traditionally donated was not forthcoming, serious food-s\",\"[FORTHCOMING]\\tAs the amount of commodities traditionally donated was not forthcoming, serious food-s\",\"[VARIABLE]\\tOne delegation asked how fixed and variable indirect support costs were apportioned, requ\",\"[VARIABLE]\\tOne delegation asked how fixed and variable indirect support costs were apportioned, requ\",\"[LATE]\\tThere were two Governments whose response arrived in 1999, but too late to be included in the\",\"[LATE]\\tThere were two Governments whose response arrived in 1999, but too late to be included in the\",\"[MIDDLE]\\tFor instance, since the middle of last year, we have established more than 30 anti-retrovir\",\"[MIDDLE]\\tFor instance, since the middle of last year, we have established more than 30 anti-retrovir\",\"[OLD]\\tOf those persons who hold jobs that have been created in the context of job creation schemes a\",\"[OLD]\\tOf those persons who hold jobs that have been created in the context of job creation schemes a\",\"[EJECT]\\tTravellers who fail to respect these guidelines and instructions may be prevented from trave\",\"[EJECT]\\tTravellers who fail to respect these guidelines and instructions may be prevented from trave\",\"[MELT]\\tThe Chinese Government knows that as the Himalayan glaciers melt and agricultural land shrink\",\"[MELT]\\tThe Chinese Government knows that as the Himalayan glaciers melt and agricultural land shrink\",\"[PAINT]\\tThe terrorists used those attacks as a tactic to paint Israel as an aggressor.\",\"[PAINT]\\tThe terrorists used those attacks as a tactic to paint Israel as an aggressor.\",\"[AMORPHOUS]\\tNevertheless, given the amorphous state of the law relating to international disaster re\",\"[AMORPHOUS]\\tNevertheless, given the amorphous state of the law relating to international disaster re\",\"[PECULIAR]\\tThe situation we have just described is not peculiar to Equatorial Guinea, because the sa\",\"[PECULIAR]\\tThe situation we have just described is not peculiar to Equatorial Guinea, because the sa\",\"[BLUE]\\tThe logo may be used with or without the catch-line, on a dark blue or white background, as a\",\"[BLUE]\\tThe logo may be used with or without the catch-line, on a dark blue or white background, as a\",\"[DRILL]\\tRegardless of the concept deployed it will be essential that all staff are well drilled in t\",\"[DRILL]\\tRegardless of the concept deployed it will be essential that all staff are well drilled in t\",\"[MEDICINE]\\tThere are colleges of medicine, dentistry, veterinary medicine and pharmacology which adm\",\"[MEDICINE]\\tThere are colleges of medicine, dentistry, veterinary medicine and pharmacology which adm\",\"[HEAD]\\tIn the current international context, the most suitable mechanism would be an ad hoc working \",\"[HEAD]\\tIn the current international context, the most suitable mechanism would be an ad hoc working \",\"[BOARD]\\tThe author was forced to board a minibus and taken blindfolded to an unknown place.\",\"[BOARD]\\tThe author was forced to board a minibus and taken blindfolded to an unknown place.\",\"[BLOCK]\\tAs health and education are fundamental building blocks for society, their linkages to gover\",\"[BLOCK]\\tAs health and education are fundamental building blocks for society, their linkages to gover\",\"[TOLERANT]\\tAs one result, farmers in areas of Sri Lanka affected by the December 2004 tsunami are no\",\"[TOLERANT]\\tAs one result, farmers in areas of Sri Lanka affected by the December 2004 tsunami are no\",\"[DRAG]\\tAs he was dragged out of the house with a bag over his head, children who had gathered around\",\"[DRAG]\\tAs he was dragged out of the house with a bag over his head, children who had gathered around\",\"[TRAP]\\tIn the context of digital revolution, the poor countries and regions in the world are lagging\",\"[TRAP]\\tIn the context of digital revolution, the poor countries and regions in the world are lagging\",\"[FORMULATE]\\tIn order to formulate policy in a technologically and economically dynamic environment, \",\"[FORMULATE]\\tIn order to formulate policy in a technologically and economically dynamic environment, \",\"[SOUND]\\tThis may not be as easy to accomplish as it sounds, but it is certainly worth a serious atte\",\"[SOUND]\\tThis may not be as easy to accomplish as it sounds, but it is certainly worth a serious atte\",\"[TOP]\\tOne bullet went over the top of the vehicle, said Levy, and the next second, a hail of bullets\",\"[TOP]\\tOne bullet went over the top of the vehicle, said Levy, and the next second, a hail of bullets\",\"[METER]\\tThe requirements are for small tools, tool carriers and test meters as replacements for thos\",\"[METER]\\tThe requirements are for small tools, tool carriers and test meters as replacements for thos\",\"[DIVERSIFY]\\tOur countries have undertaken to diversify our economies despite the obvious dislocation\",\"[DIVERSIFY]\\tOur countries have undertaken to diversify our economies despite the obvious dislocation\",\"[BIG]\\tThere is a big difference between the pay-gap in the public and the private sector, and the pa\",\"[BIG]\\tThere is a big difference between the pay-gap in the public and the private sector, and the pa\",\"[SPREAD]\\tThe continuing spread of technological and other improvements is providing new opportunitie\",\"[SPREAD]\\tThe continuing spread of technological and other improvements is providing new opportunitie\",\"[SUPPOSE]\\tIf education is supposed to enable the educated person to “play a useful role in society”,\",\"[SUPPOSE]\\tIf education is supposed to enable the educated person to “play a useful role in society”,\"],\"x\":[-1.156392188499667,-2.0500440963906676,5.2222658624909055,-0.04015912159933377,2.843975481492754,-1.4924522125584618,-3.2957104741236547,5.709966875962138,4.068224053602014,-2.1368000265203912,-0.4151702369602191,0.9396849333869787,-1.0014474520322751,-2.9202455496393718,0.22757899265138987,6.4503443794803355,4.535385542608705,-1.4693135780178928,-2.4847488849454025,-2.2333429932154174,-0.643700451447602,0.1111346593536073,1.5121538514384534,-0.13138229925500933,-1.5294889646087344,0.9855602477057737,-2.5735439755686227,-1.0716195770653545,5.170108504225347,-2.90015755630192,-0.0934583307212178,4.248180888870058,-1.5853725754315329,6.841858006595471,-1.7985815889678183,-1.519214295724145,0.08927788625000622,2.227533925961038,-0.12564860826172924,-2.466959452656571,-2.159874978130614,-2.7684455725438784,-1.192135622307975,4.093048507272983,-1.3941741298861916,7.048538144540367,-0.6614582571080916,0.6562930764712495,-3.146950107474531,-1.443453072965287,3.9496715489269922,-2.1480477310885644,-2.7311632630178924,-2.7404833867344873,6.864310235690391,0.724817439543965,-2.7621319529711905,-2.590149989037788,-1.3418957948801131,-2.5235811090438487,0.6157245489536205,-0.35015175187800457,6.059086164526527,-2.084362144517048,-0.9518134314524465,-2.326217474628082,-2.658028853206309,-2.6548708371911998,-2.0191784523052467,-0.5138800640384499,1.1030306901461113,-1.089788382246269,0.2163967872725977,-2.780235225452984,5.053753189662218,0.9410761094835625,-1.2479947406542875,-2.689540090254202,6.711647771232615,-1.1908012688369307,-2.0806658616968146,-1.3947167182806306,-0.011323414822344412,-2.704985368328024,-2.401758356980864,-2.0600991823040293,-0.9527985334049169,-1.444858164344827,-0.44178956521703994,5.252866227223465,-0.9790430722022996,-1.0897147290163722,3.5977824219873416,-1.1354689492575296,1.9976052629281715,-0.6963539370271643,-0.7089298457582879,-2.344964208713844,-0.4858210397555286,-0.8485592321893219,-0.02584898558843035,2.1350450978137165,-2.342575679348518,1.4821851061424551,-0.35746555806960284,-0.8839644877271857,-1.7988077318158366,2.1321092024832797,-0.5018764945282596,6.704902394224521,-3.0966390077748502,-0.425714112017097,-1.1859885901077998,0.5779160144325394,1.9665901099027274,-0.6019628629932661,0.22448470605459164,4.960017924988284,-0.7871011485045719,-0.8876207067228742,-3.1371555466479726,-0.044522056961521464,-2.0492430357935145,-0.7963833434063787,-0.7144405989441867,-0.7074320847110083,-1.7010763051593054,-1.446700759356945,-0.58418351239542,-3.472435971082011,-1.4813811043283491,-1.8553827356249197,-2.64178242670772,6.782933738738536,5.662871685042705,0.625875242431823,-1.364777590657972,-0.00883621801974695,-0.2256579381061741,3.5264645371896486,-0.016047645643893188,-0.5566825634357541,0.06024338804310351,0.3157272712797709,-1.9485108816139545,-0.27521538267765466,-0.9978326926918406,0.3264168646880258,0.2884748872186149,0.11425098149064147,-2.2672488384106706,-1.414972666217389,4.542361788925981,-0.34255024149574337,-1.8506615336033774,1.0322988272078433,3.095797799091068,-0.20207174430162178,-1.72525247235556,-0.7491378328073567,-3.6610180502609224,-0.5180903214414235,-1.2384090440669948,-0.7500042137685973,-0.14608207568471346,-1.863889851876302,5.230817051036043,5.441322747012722,6.54966936780104,-1.7254233186991639,-0.1289165060351327,-2.1971773364624165,2.50586037543533,0.10399314161446782,-1.4924399731660931,-2.6265230367586065,-1.5345817631711887,-2.238913894752387,3.0289518207395494,-0.7567473747344863,0.814275641796645,-1.9826467048452068,-1.156421329757472,2.4979109657512457,-3.540966135514779,-1.407856069858759,-0.5448730731763725,-0.04992088187252011,-0.13264221742107912,-2.1725586940135924,-0.8949456287108486,-2.1577539615526184,4.921247361812851,-1.815741617884096,-0.6084435494999288,-2.9033007028868685,-1.6437648831379048,0.12594198565542886,-1.2924196191222008,-2.0831726453289745,-0.2861293731711133,-1.1352111264584073,4.659292294938186,-2.7122225972366953,-1.042315129512633,2.125069583665697,1.8139127434177735,-1.7646152704225224,-0.12234020389653393,-0.07953300597238351,0.38734866182331223,3.545587540542844,-0.34408248073227604,3.3484106130809757,-2.488312502014158,-2.8367961264348414,2.8477503638223545,-2.346975755082107,-2.1817741808702915,-2.266040726315806,2.641009267201728,-0.04338089764581421,0.02901038019988352,-0.6390376512716079,-1.247164143676051,-1.511709077532969,4.820698766630869,0.4929633330407235,-2.0336110351532364,-1.8861505463822763,-2.2828306486557834,2.9456929121146724,0.24099057671320578,0.3899228077375979,-0.5765879802188071,-2.97732485162429,1.6674778547842697,2.9386341980409667,-0.8324810129243759,-0.7415016707801991,-1.3981895781049538,-2.044569957201156,5.730827707929676,3.709485619743128,-0.9420733076474652,-2.2667550381622017,-0.8526941372692799,7.443159392973151,-2.4536356426012924,2.2263863639807178,2.1919506263970066,-2.221884465787563,4.8088918996354195,-0.85015579344904,-0.920142841209829,-1.662040888534669,6.980761274675242,6.522547065260689,0.1957193246021733,-0.6030448257708679,-1.6853942456715107,-0.22289228570047823,-0.24374137206705732,-1.4832134484580564,-2.3677022423019043,-0.3634682500908838,0.41437457904749625,-0.3830254092904704,0.08899329704729785,0.08899329704729785,-0.9827884552960419,-0.4126656914706399,-0.9869201782565032,-1.6843614422885078,-1.4744061834344564,5.1907601862904755,0.9012135137309317,0.8428642362317545,-3.4253829397892135,-1.3879835645997105,-3.252553698737044,-1.435297372814919,-1.840424209405746,-2.8431164559451,3.1330143673016493,4.778383705799187,-0.25541095000373365,1.9339213095845034,-0.7880901326870215,0.9686480968237582,-2.626878834788423,-1.2863564691818377,-1.2144218957515192,2.3904747344236803,-4.053398061403649,-2.462505464438369,6.527703207720744,-2.1524462509560625,-3.596157997051303,-2.1274476970975744,-1.0119821652331495,-1.528789864832375,1.460018186628087,-0.5274555258189407,-1.4050736268578599,6.134169925374698,-0.19230537327972455,0.27426595137579873,0.710038904276344,3.1613647019994873,-0.8904073826745383,5.352664922996906,0.3916322616892704,2.50621564570392,-0.8866489435797382,6.987470002309603,-1.9601697604810926,-2.6497170859905115,-2.6612469043255387,4.35259962077239,-1.088443885524038,-0.08537018490594332,-0.39377708066928546,0.5665843690385111,0.5073672918188096,0.10778011772731486,-3.125419075572808,1.6860221234888517,0.12628041687658295,-2.5662309254502875,0.18806352047180847,0.3017190152043531,-1.9369829907528178,-0.5445489638996031,-2.226407497978814,-2.7424828969338617,-2.5559277676521557,-0.8799778580769951,-2.802674679948167,-0.11179191126823607,1.6371378147174955,-0.032614492954962236,-1.528323097693587,0.33057687309076406,4.048446220320362,0.40535452715985737,-0.46616263450678574,-0.3041438099349244,-0.48692104594953994,-0.10768732836727689,-2.449389250359434,-2.383591460089239,0.11982290481502024,6.558947155469488,-1.2909524916647888,1.0143661677440994,-3.392113012171174,-1.2112530797812524,1.067872021360263,-0.14986818112629774,-1.814697078075615,-2.4906803342594865,-1.2548158502635716,2.507247303693944,1.3406635200329893,-0.2559257896359498,-2.9677625784286703,-2.1666963665372414,1.579847209595157,-1.7798389385842304,-1.0596694911368052,-3.1417827807660115,-1.1459633030410787,-0.3528543957647744,-2.2052111184154826,-2.118196517133671,5.2069623526199,1.3394677904349732,0.5395402108293444,-3.7682913117245174,-1.3107753866680523,2.28847445046137,-1.6104920213503504,4.318003144796446,-0.9789433550851439,1.7700360102100101,0.7139437259976142,-1.9759791610628605,-2.9932713681752925,-0.32146368577159173,1.4053742946229992,1.8820061429478174,-1.591393058169141,1.196074902888456,-1.0401486607072756,-2.123059737410439,-2.306470813923246,-2.018851681493317,-2.894909649545128,4.447476572934115,0.980276013074026,-1.8935953862396318,7.096136412923702,-1.2141037001123611,4.454345633176806,-1.3760300007108874,4.572079748020396,-2.301666415464501,1.8337985732354558,1.1741766479138545,0.751798283873253,0.8820271849591881,-1.8918720945755612,-0.9150101376250299,4.617017631501076,-2.3619186516525303,-1.2269329345180584,-0.2823864501189337,5.979286392853449,-0.7804390825004721,2.1434911300573596,6.947857638895742,-1.6716635199874712,0.24666580477423825,-1.54765441972975,0.9285432663237478,-0.7796501771945854,-1.3405703042893,-1.5577015723493577,-1.4690507212096637,-2.669209781548041,5.982291819577642,-3.253457845042968,1.8211401436229535,-0.7273707743901535,-1.639184843067873,-0.5047589875643903,-1.2849885139452626,-2.4348630577975365,-1.7593518190078123,-0.3758806936416171,-1.5752956261483544,6.64343092739787,-2.134581927705523,5.880913537110436,-2.1226352203864893,-0.8087747867274878,-1.967815710029965,-0.35160882653897585,-1.6095567112991005,-0.6009221009163634,6.121318287346453,-2.72351011325068,-0.058758425001481464,-1.4885055561900822,6.204937611877005,-2.027441102791549,3.011168077605843,5.664912546842706,4.75853421457114,-0.16273919834394632,-2.144784493250032,-1.8651414042329688,0.022228227753264523,-0.11516880837504512,0.78363036825858,6.486954450562411,-1.9732499161863906,-1.279095429836987,-3.093308855844359,-1.3341977436484032,3.5067697607725927,6.8273176114583825,-3.187141384876417,-2.9406350962462717,-0.14270063269219352,1.0223616163814697,-3.3280073946657236,-1.7239864264319518,-2.2007307747280342,-0.9209753856954171,0.44777130324424214,1.4226286390289804,1.5826549714879534,-1.2905270094614258,-1.5851975451228493,2.9582991754538868,-0.5601231940256592,-3.15687872164412,1.0851800003402399,0.1841474533826565,4.001241188027908,2.049765254976467,-0.7334011646943996,-2.118285633612084,-2.457004769299408,-0.18803056581141256,6.391370176473436,0.3179666686291304,-3.1838288406307282],\"y\":[2.7607782790235986,2.6281768244510797,-1.11299203472367,0.38867644052067746,0.6004586362232194,2.391237323348169,-1.7917337164702525,-1.0106469965671847,-0.3981234473658044,-1.1673760704466618,-2.430660475231798,1.4917865056290047,1.7376302606361207,-0.5699319778537274,3.237681767197442,-0.09263845819000208,-1.0978327877422933,-0.8532517171103344,-1.827875951078558,-0.35722116278960686,0.7642229340266751,3.457946848982065,2.1376872668317954,2.696409542481612,1.3937971651516394,0.6040968215777929,-2.8179282201259612,-2.7677145309397764,-0.7265744283111242,-0.6532739696846794,0.4632985063405518,-0.8179110130547992,0.04372315812572373,0.03927687434057332,2.1444063710729235,0.3866477749157275,1.7208944515506361,0.27164369158455565,2.9140716836119154,-1.70575901041621,-1.2146415940809896,1.036627144077598,1.577507909142493,-1.6130536312151036,1.21101477992606,0.0035923286446136317,0.9124098296907676,0.8164292651075995,-1.9296334153627483,0.9886516324518851,-0.6202039540803543,-2.745534046884054,-2.753634826998915,-1.6124271447448677,-0.1185907808259397,-1.73527225924112,-1.1426670678866855,-2.4868661161831214,0.3034860551017608,-0.27182065351583157,0.5600843528624656,1.6197818835454223,-0.7097912128465723,1.8358603248205287,-1.2906578406707976,1.029637442435624,-2.715638184005311,1.1183437553236462,-2.8318696423982717,2.055625724170374,-0.9467258422928141,0.34259181676598904,-1.7263461954418087,-0.3244544632925248,-0.8040470845849808,1.8230606794629078,1.6346934385663452,0.44983634637345243,-0.13994232106375806,0.5557320644633291,0.8208622760066963,0.35311851201008715,1.3826453696092942,-1.1020262967460417,-0.9771647578149202,0.8065625223442753,2.7400146931769997,2.6529108266125077,2.5662423239159833,-1.1058702930701791,1.9388730461077117,0.8530856618508381,-0.12493275094618865,-0.735709209843129,-2.5166628938568083,2.489776958691696,-0.9120051430716849,0.31890498414153773,0.5121201433528078,1.2300182197971024,0.3116140087026876,-1.4212583734124558,-3.0025609300060854,2.7982259659634856,-0.10625908655027379,0.5116765983685629,-0.6495603833505135,-1.069837715582223,3.0645406611369572,-0.20542138151396358,-1.6966169719763582,0.8376116680787492,0.6649843355388966,3.241666204620967,2.1131702659903326,0.8415533521173431,2.288314787680302,-0.2862935472014541,1.2466352586200617,0.16169564455945318,-1.721647740876387,-2.194920260484167,-0.35533464932846476,0.13695201552553793,1.3673441223254932,1.2420422656439964,-1.2827675001951713,1.0970559488637994,-1.7439530306368032,-2.2477386745992747,0.08149252168919267,-0.20493752043589156,-2.548606383727388,-0.25013540022948405,-1.2509181833884515,1.2698312177189295,-2.8521962000433843,-1.3632192379372512,1.8143632423542206,-0.6305616792824014,-1.4913063943186267,1.1430919073242725,-0.7017469303221059,0.050662260159471895,-0.9100368591496933,3.4537496254718723,0.13716767400995045,-1.7848762544431396,-1.6543189315933657,1.6234404873547403,-1.0078485983023153,-2.9439794497688263,-1.120693682335724,2.9688813654441986,-0.35937046945007006,-0.47263372991398916,-0.666895149617453,1.217005056128877,-2.369195301219351,-1.01105028221001,1.210104445985814,1.6627915396051884,0.2964677540090824,2.2090080048395095,2.056580050323199,1.5985439863516484,-1.008972991213475,-0.9584073984714336,-0.26648476907797786,1.9890676622898575,1.7400658438502734,-0.40192756701792787,-2.189085712791683,-2.1879985594200972,0.6173613081811694,-1.969788844816519,-0.4271180461020963,-0.8150058598140935,-0.767163841134301,0.6710726951211368,0.25358521666731937,-1.4042766861289417,1.0034824329152472,-1.0537326087758891,0.15557130894377352,0.07838783502762271,0.5796940300660535,1.9209833408584187,1.596539970720395,-1.2359003606632797,-2.755365194413012,-0.3506024223937116,-0.9742988479812237,1.3537901408361697,0.6701414901264149,-1.1187920750711287,-1.1466934191137843,1.5655584927498252,1.4917624050626717,0.7332167236643736,0.7172621904390746,1.130868354045168,-1.6316306177610649,0.9010305325486738,0.6661633978014668,-2.0632430545507447,-0.7852178394144385,-0.6338053642765937,0.936739749480832,0.23121944262874658,1.7097493097583931,-1.5270539382167807,2.162693968165135,0.9174108296915473,-1.094905614869578,-0.5303272547655946,-0.7943469554355156,1.328463647671581,-2.085383863861364,-2.155220173890819,1.1298170642371326,-1.4243696481568304,0.4573106816466423,2.1723710884663836,-0.6850084005450026,-0.21669744668825022,-1.3060559223088233,3.077084068602804,-1.1065556539654506,0.46076235689399014,-2.0377316014267097,-0.24360247247564876,-0.9824642334846431,1.2659567185184033,-1.4146479501740314,-0.7269420740171317,-1.7924910615341654,-1.843407737466763,0.5845637320047485,2.5647400405302876,1.6452844485725702,2.3064250068760446,-0.5344346468563166,-1.053874252586878,1.755602494660413,-0.9380453134989498,-1.6723103079570973,0.35655548931261744,-1.8010646247389999,1.0137787079337564,1.2421648923146345,-2.1758765555875903,-1.5299202088075172,-0.6345535193630975,0.8727220278188274,-3.0774087552902225,0.4748952317173288,-0.11797891154362958,0.499940199364112,0.25329013521118,-1.197205815643927,0.8596300714709453,-0.7291406156153091,-0.8072941900028052,0.016284380466714477,0.8074118071129652,1.6058613397298842,0.7446452220932669,1.0702746344058658,1.0702746344058658,-1.508458486337626,1.7647191143758119,0.6714514548190653,1.2378979780538486,0.6437396675790258,-0.24604535504994446,3.0379699537898923,2.2099344892276336,-1.203457755298429,-1.434524028951745,-0.2351745567955811,-1.5147470886701597,1.673436048068808,-1.2029181315313704,-1.1967809505592089,-1.3100536146186696,0.22430681969206664,-1.434085232522272,0.27912002123099766,1.3809573553748977,0.9145316470781304,2.402375612533578,1.9263429539603911,-0.7200822496147534,0.10188873042929575,1.1037232200668539,0.8235607749796662,-1.8729337195689735,1.026695179034893,-1.492511471763867,-2.6225420290214383,2.2109689409662785,1.241873336221769,2.0300345646418636,2.2800540220712477,-0.41582013188860123,0.19553608006994438,2.5356780950242066,2.542819558929502,-1.5946960195224111,0.27731895699188713,-0.9175063203799693,1.160732729672109,-1.0938933241386406,0.7759942093602697,0.3038562396191478,-1.0338919356934593,-1.8135641377195653,-3.0374630833624607,-1.736538330358047,-1.2359491395095452,-0.9644454891035881,1.1125526457029817,-0.22928087045032688,-0.5579333660364905,-1.7580948666730103,0.6724551750335421,0.9223084068223175,2.364155105301051,-1.8388593048015072,1.4406886514130046,0.7526520338887976,-1.2451733370543852,1.0589363539885044,-1.7933648448088881,-2.0862306232679413,-2.35032145762225,0.42125598349504856,-1.0232401107517168,-2.193131937354521,1.4187653639715812,1.4356169921876423,-2.1928322458023852,1.0063091154724177,-1.4678415326342888,1.2100900668074481,-1.5721666127603433,1.741707362440414,3.5431465287980024,1.2460896552621583,2.0487145322011573,-1.376695938014286,1.690185402104912,0.2841635862203104,0.41706164978709914,-0.6226281596116363,-0.10727440688320065,0.8046767993309649,-1.7012056717621082,1.434763645229542,1.896428014208684,1.3405954316205646,0.8991109571032608,-0.7773361019839343,1.519939377772796,0.6146238956142716,-1.647099205575738,-2.528808046127796,-1.3064035710343551,-2.8797573797451945,0.7062315493322439,-0.8529660208079712,3.2936300277266706,-0.6398687138065419,-0.3057806704334095,-0.8320999084325628,-1.2387142518125165,1.7651060059625179,-1.9001118731527074,-2.3552488125524698,-1.1728943397335094,-1.9029821855781146,-1.6867278052829566,-0.23453979415769138,0.5171569125635406,0.6021935410409286,0.8081068573489256,0.539337247470965,-1.151085787712783,2.1131166103610233,0.94234836027661,1.8322522636225143,1.8139566372132847,1.7604833714096255,0.5658911151470347,-0.221035576181398,-2.035723678495607,2.3501704799520473,-2.041523121962411,-0.6739109599821493,-1.9174290774424787,0.3516550956660749,0.00948171718967947,0.5490936715899547,-1.1220094970366032,2.22329758755972,-0.36827522494599396,-2.838265828864715,0.04209519916681197,0.7436197440216176,0.8740519040254526,0.1185554553108504,2.022072305169822,2.146791566506357,-1.2666264958854536,-3.1008311172933665,0.4537345002078491,0.7953150630074212,-0.6585096301123309,-0.9906332734259179,1.3254459724401586,0.05563871820319858,-0.4819463381099188,1.3613696353404479,0.6503466483986245,1.2778900364169827,-1.1451812328451318,-2.2696197531214457,-0.6514743527795889,0.5579201045725721,-1.8977573889723363,-0.5017605764425095,-2.2386431977851546,1.3042250628341725,2.7411377985724585,0.18494569300208052,2.70308706156517,2.0635964402264455,-2.034957492695932,2.4076205887943303,0.429912906133361,-1.4567315005373989,-0.07702134458981566,2.10893947989133,-0.633488522367059,-1.1977834380383785,1.436596323354593,-2.142483133684415,1.7721750899219175,0.009254185226068292,1.2871594448370762,-0.6479617648963124,1.7185515205850268,0.928723614414257,-0.8269692127406068,-0.15653520755107753,-2.773225902304804,-1.3621239568700092,-0.6192284837737295,-0.8466240331111354,2.7975892773415825,-1.462050151810692,-0.7016218536988303,-0.6374210124475528,-1.9624636529791506,1.5553685534469395,-0.31172917070432554,-0.2805538677234065,1.119996221786488,-1.2244803122298247,-2.885766681818745,-1.8777855574587474,0.0626021398750246,-0.9748483014566401,0.99032166956822,0.8322518810096612,-1.0053896027848768,-1.9919082276494005,0.7534129818708192,-1.4631276918973937,2.2406047773117033,2.1279746598735603,-2.9142731528083465,1.9521528793074823,0.4749957813055847,1.7647233136476164,-0.8051457410016625,3.136074364632315,-1.5476189722223836,1.7657821482753904,-1.19102220797232,-0.5319945711815492,-2.3202280650191263,-2.175306333483206,-1.9090104607776492,-1.210564334534636,0.45743791802198025,-0.21895493364128996,0.20825013978825208,-2.206272996647329],\"type\":\"scatter\",\"xaxis\":\"x\",\"yaxis\":\"y\"}],                        {\"template\":{\"data\":{\"histogram2dcontour\":[{\"type\":\"histogram2dcontour\",\"colorbar\":{\"outlinewidth\":0,\"ticks\":\"\"},\"colorscale\":[[0.0,\"#0d0887\"],[0.1111111111111111,\"#46039f\"],[0.2222222222222222,\"#7201a8\"],[0.3333333333333333,\"#9c179e\"],[0.4444444444444444,\"#bd3786\"],[0.5555555555555556,\"#d8576b\"],[0.6666666666666666,\"#ed7953\"],[0.7777777777777778,\"#fb9f3a\"],[0.8888888888888888,\"#fdca26\"],[1.0,\"#f0f921\"]]}],\"choropleth\":[{\"type\":\"choropleth\",\"colorbar\":{\"outlinewidth\":0,\"ticks\":\"\"}}],\"histogram2d\":[{\"type\":\"histogram2d\",\"colorbar\":{\"outlinewidth\":0,\"ticks\":\"\"},\"colorscale\":[[0.0,\"#0d0887\"],[0.1111111111111111,\"#46039f\"],[0.2222222222222222,\"#7201a8\"],[0.3333333333333333,\"#9c179e\"],[0.4444444444444444,\"#bd3786\"],[0.5555555555555556,\"#d8576b\"],[0.6666666666666666,\"#ed7953\"],[0.7777777777777778,\"#fb9f3a\"],[0.8888888888888888,\"#fdca26\"],[1.0,\"#f0f921\"]]}],\"heatmap\":[{\"type\":\"heatmap\",\"colorbar\":{\"outlinewidth\":0,\"ticks\":\"\"},\"colorscale\":[[0.0,\"#0d0887\"],[0.1111111111111111,\"#46039f\"],[0.2222222222222222,\"#7201a8\"],[0.3333333333333333,\"#9c179e\"],[0.4444444444444444,\"#bd3786\"],[0.5555555555555556,\"#d8576b\"],[0.6666666666666666,\"#ed7953\"],[0.7777777777777778,\"#fb9f3a\"],[0.8888888888888888,\"#fdca26\"],[1.0,\"#f0f921\"]]}],\"heatmapgl\":[{\"type\":\"heatmapgl\",\"colorbar\":{\"outlinewidth\":0,\"ticks\":\"\"},\"colorscale\":[[0.0,\"#0d0887\"],[0.1111111111111111,\"#46039f\"],[0.2222222222222222,\"#7201a8\"],[0.3333333333333333,\"#9c179e\"],[0.4444444444444444,\"#bd3786\"],[0.5555555555555556,\"#d8576b\"],[0.6666666666666666,\"#ed7953\"],[0.7777777777777778,\"#fb9f3a\"],[0.8888888888888888,\"#fdca26\"],[1.0,\"#f0f921\"]]}],\"contourcarpet\":[{\"type\":\"contourcarpet\",\"colorbar\":{\"outlinewidth\":0,\"ticks\":\"\"}}],\"contour\":[{\"type\":\"contour\",\"colorbar\":{\"outlinewidth\":0,\"ticks\":\"\"},\"colorscale\":[[0.0,\"#0d0887\"],[0.1111111111111111,\"#46039f\"],[0.2222222222222222,\"#7201a8\"],[0.3333333333333333,\"#9c179e\"],[0.4444444444444444,\"#bd3786\"],[0.5555555555555556,\"#d8576b\"],[0.6666666666666666,\"#ed7953\"],[0.7777777777777778,\"#fb9f3a\"],[0.8888888888888888,\"#fdca26\"],[1.0,\"#f0f921\"]]}],\"surface\":[{\"type\":\"surface\",\"colorbar\":{\"outlinewidth\":0,\"ticks\":\"\"},\"colorscale\":[[0.0,\"#0d0887\"],[0.1111111111111111,\"#46039f\"],[0.2222222222222222,\"#7201a8\"],[0.3333333333333333,\"#9c179e\"],[0.4444444444444444,\"#bd3786\"],[0.5555555555555556,\"#d8576b\"],[0.6666666666666666,\"#ed7953\"],[0.7777777777777778,\"#fb9f3a\"],[0.8888888888888888,\"#fdca26\"],[1.0,\"#f0f921\"]]}],\"mesh3d\":[{\"type\":\"mesh3d\",\"colorbar\":{\"outlinewidth\":0,\"ticks\":\"\"}}],\"scatter\":[{\"fillpattern\":{\"fillmode\":\"overlay\",\"size\":10,\"solidity\":0.2},\"type\":\"scatter\"}],\"parcoords\":[{\"type\":\"parcoords\",\"line\":{\"colorbar\":{\"outlinewidth\":0,\"ticks\":\"\"}}}],\"scatterpolargl\":[{\"type\":\"scatterpolargl\",\"marker\":{\"colorbar\":{\"outlinewidth\":0,\"ticks\":\"\"}}}],\"bar\":[{\"error_x\":{\"color\":\"#2a3f5f\"},\"error_y\":{\"color\":\"#2a3f5f\"},\"marker\":{\"line\":{\"color\":\"#E5ECF6\",\"width\":0.5},\"pattern\":{\"fillmode\":\"overlay\",\"size\":10,\"solidity\":0.2}},\"type\":\"bar\"}],\"scattergeo\":[{\"type\":\"scattergeo\",\"marker\":{\"colorbar\":{\"outlinewidth\":0,\"ticks\":\"\"}}}],\"scatterpolar\":[{\"type\":\"scatterpolar\",\"marker\":{\"colorbar\":{\"outlinewidth\":0,\"ticks\":\"\"}}}],\"histogram\":[{\"marker\":{\"pattern\":{\"fillmode\":\"overlay\",\"size\":10,\"solidity\":0.2}},\"type\":\"histogram\"}],\"scattergl\":[{\"type\":\"scattergl\",\"marker\":{\"colorbar\":{\"outlinewidth\":0,\"ticks\":\"\"}}}],\"scatter3d\":[{\"type\":\"scatter3d\",\"line\":{\"colorbar\":{\"outlinewidth\":0,\"ticks\":\"\"}},\"marker\":{\"colorbar\":{\"outlinewidth\":0,\"ticks\":\"\"}}}],\"scattermapbox\":[{\"type\":\"scattermapbox\",\"marker\":{\"colorbar\":{\"outlinewidth\":0,\"ticks\":\"\"}}}],\"scatterternary\":[{\"type\":\"scatterternary\",\"marker\":{\"colorbar\":{\"outlinewidth\":0,\"ticks\":\"\"}}}],\"scattercarpet\":[{\"type\":\"scattercarpet\",\"marker\":{\"colorbar\":{\"outlinewidth\":0,\"ticks\":\"\"}}}],\"carpet\":[{\"aaxis\":{\"endlinecolor\":\"#2a3f5f\",\"gridcolor\":\"white\",\"linecolor\":\"white\",\"minorgridcolor\":\"white\",\"startlinecolor\":\"#2a3f5f\"},\"baxis\":{\"endlinecolor\":\"#2a3f5f\",\"gridcolor\":\"white\",\"linecolor\":\"white\",\"minorgridcolor\":\"white\",\"startlinecolor\":\"#2a3f5f\"},\"type\":\"carpet\"}],\"table\":[{\"cells\":{\"fill\":{\"color\":\"#EBF0F8\"},\"line\":{\"color\":\"white\"}},\"header\":{\"fill\":{\"color\":\"#C8D4E3\"},\"line\":{\"color\":\"white\"}},\"type\":\"table\"}],\"barpolar\":[{\"marker\":{\"line\":{\"color\":\"#E5ECF6\",\"width\":0.5},\"pattern\":{\"fillmode\":\"overlay\",\"size\":10,\"solidity\":0.2}},\"type\":\"barpolar\"}],\"pie\":[{\"automargin\":true,\"type\":\"pie\"}]},\"layout\":{\"autotypenumbers\":\"strict\",\"colorway\":[\"#636efa\",\"#EF553B\",\"#00cc96\",\"#ab63fa\",\"#FFA15A\",\"#19d3f3\",\"#FF6692\",\"#B6E880\",\"#FF97FF\",\"#FECB52\"],\"font\":{\"color\":\"#2a3f5f\"},\"hovermode\":\"closest\",\"hoverlabel\":{\"align\":\"left\"},\"paper_bgcolor\":\"white\",\"plot_bgcolor\":\"#E5ECF6\",\"polar\":{\"bgcolor\":\"#E5ECF6\",\"angularaxis\":{\"gridcolor\":\"white\",\"linecolor\":\"white\",\"ticks\":\"\"},\"radialaxis\":{\"gridcolor\":\"white\",\"linecolor\":\"white\",\"ticks\":\"\"}},\"ternary\":{\"bgcolor\":\"#E5ECF6\",\"aaxis\":{\"gridcolor\":\"white\",\"linecolor\":\"white\",\"ticks\":\"\"},\"baxis\":{\"gridcolor\":\"white\",\"linecolor\":\"white\",\"ticks\":\"\"},\"caxis\":{\"gridcolor\":\"white\",\"linecolor\":\"white\",\"ticks\":\"\"}},\"coloraxis\":{\"colorbar\":{\"outlinewidth\":0,\"ticks\":\"\"}},\"colorscale\":{\"sequential\":[[0.0,\"#0d0887\"],[0.1111111111111111,\"#46039f\"],[0.2222222222222222,\"#7201a8\"],[0.3333333333333333,\"#9c179e\"],[0.4444444444444444,\"#bd3786\"],[0.5555555555555556,\"#d8576b\"],[0.6666666666666666,\"#ed7953\"],[0.7777777777777778,\"#fb9f3a\"],[0.8888888888888888,\"#fdca26\"],[1.0,\"#f0f921\"]],\"sequentialminus\":[[0.0,\"#0d0887\"],[0.1111111111111111,\"#46039f\"],[0.2222222222222222,\"#7201a8\"],[0.3333333333333333,\"#9c179e\"],[0.4444444444444444,\"#bd3786\"],[0.5555555555555556,\"#d8576b\"],[0.6666666666666666,\"#ed7953\"],[0.7777777777777778,\"#fb9f3a\"],[0.8888888888888888,\"#fdca26\"],[1.0,\"#f0f921\"]],\"diverging\":[[0,\"#8e0152\"],[0.1,\"#c51b7d\"],[0.2,\"#de77ae\"],[0.3,\"#f1b6da\"],[0.4,\"#fde0ef\"],[0.5,\"#f7f7f7\"],[0.6,\"#e6f5d0\"],[0.7,\"#b8e186\"],[0.8,\"#7fbc41\"],[0.9,\"#4d9221\"],[1,\"#276419\"]]},\"xaxis\":{\"gridcolor\":\"white\",\"linecolor\":\"white\",\"ticks\":\"\",\"title\":{\"standoff\":15},\"zerolinecolor\":\"white\",\"automargin\":true,\"zerolinewidth\":2},\"yaxis\":{\"gridcolor\":\"white\",\"linecolor\":\"white\",\"ticks\":\"\",\"title\":{\"standoff\":15},\"zerolinecolor\":\"white\",\"automargin\":true,\"zerolinewidth\":2},\"scene\":{\"xaxis\":{\"backgroundcolor\":\"#E5ECF6\",\"gridcolor\":\"white\",\"linecolor\":\"white\",\"showbackground\":true,\"ticks\":\"\",\"zerolinecolor\":\"white\",\"gridwidth\":2},\"yaxis\":{\"backgroundcolor\":\"#E5ECF6\",\"gridcolor\":\"white\",\"linecolor\":\"white\",\"showbackground\":true,\"ticks\":\"\",\"zerolinecolor\":\"white\",\"gridwidth\":2},\"zaxis\":{\"backgroundcolor\":\"#E5ECF6\",\"gridcolor\":\"white\",\"linecolor\":\"white\",\"showbackground\":true,\"ticks\":\"\",\"zerolinecolor\":\"white\",\"gridwidth\":2}},\"shapedefaults\":{\"line\":{\"color\":\"#2a3f5f\"}},\"annotationdefaults\":{\"arrowcolor\":\"#2a3f5f\",\"arrowhead\":0,\"arrowwidth\":1},\"geo\":{\"bgcolor\":\"white\",\"landcolor\":\"#E5ECF6\",\"subunitcolor\":\"white\",\"showland\":true,\"showlakes\":true,\"lakecolor\":\"white\"},\"title\":{\"x\":0.05},\"mapbox\":{\"style\":\"light\"}}},\"xaxis\":{\"anchor\":\"y\",\"domain\":[0.0,1.0]},\"yaxis\":{\"anchor\":\"x\",\"domain\":[0.0,1.0]}},                        {\"responsive\": true}                    ).then(function(){\n",
              "                            \n",
              "var gd = document.getElementById('948e4e13-9763-40db-9ec7-c325d5d41be9');\n",
              "var x = new MutationObserver(function (mutations, observer) {{\n",
              "        var display = window.getComputedStyle(gd).display;\n",
              "        if (!display || display === 'none') {{\n",
              "            console.log([gd, 'removed!']);\n",
              "            Plotly.purge(gd);\n",
              "            observer.disconnect();\n",
              "        }}\n",
              "}});\n",
              "\n",
              "// Listen for the removal of the full notebook cells\n",
              "var notebookContainer = gd.closest('#notebook-container');\n",
              "if (notebookContainer) {{\n",
              "    x.observe(notebookContainer, {childList: true});\n",
              "}}\n",
              "\n",
              "// Listen for the clearing of the current output cell\n",
              "var outputEl = gd.closest('.output');\n",
              "if (outputEl) {{\n",
              "    x.observe(outputEl, {childList: true});\n",
              "}}\n",
              "\n",
              "                        })                };                            </script>        </div>\n",
              "</body>\n",
              "</html>"
            ]
          },
          "metadata": {}
        }
      ]
    },
    {
      "cell_type": "code",
      "metadata": {
        "id": "_8KypMMzWaCQ",
        "colab": {
          "base_uri": "https://localhost:8080/"
        },
        "outputId": "88360e72-9721-43aa-9ac8-20802ca6f6a3"
      },
      "source": [
        "X_en1_true = [embs[0].cpu().numpy() for embs, label in zip(embs_train,target_train) if label]\n",
        "X_en2_true = [embs[1].cpu().numpy() for embs, label in zip(embs_train,target_train) if label]\n",
        "\n",
        "X_en1_false = [embs[0].cpu().numpy() for embs, label in zip(embs_train,target_train) if not label]\n",
        "X_en2_false = [embs[1].cpu().numpy() for embs, label in zip(embs_train,target_train) if not label]\n",
        "\n",
        "def cosine(v1,v2):\n",
        "    \"\"\"\n",
        "    returns cosine similarity of two vectors\n",
        "    \"\"\"\n",
        "    return v1 @ v2 / ((v1 @ v1) * (v2 @ v2)) ** 0.5\n",
        "cosines = [cosine(v1,v2) for v1,v2 in zip(X_en1_true,X_en2_true)]\n",
        "\n",
        "print(\"Mean cosine between words with same meaning:\\n\",np.mean(cosines))\n",
        "cosines = [cosine(v1,v2) for v1,v2 in zip(X_en1_false,X_en2_false)]\n",
        "print(\"Mean cosine between words with different meanings:\\n\",np.mean(cosines))"
      ],
      "execution_count": null,
      "outputs": [
        {
          "output_type": "stream",
          "name": "stdout",
          "text": [
            "Mean cosine between words with same meaning:\n",
            " 0.96872705\n",
            "Mean cosine between words with different meanings:\n",
            " 0.9528916\n"
          ]
        }
      ]
    },
    {
      "cell_type": "markdown",
      "metadata": {
        "id": "l5YE13Mza_-l"
      },
      "source": [
        "## 2.4 Aggregating the embeddings from two contexts"
      ]
    },
    {
      "cell_type": "code",
      "metadata": {
        "id": "TGLjUZw0Du2O"
      },
      "source": [
        "def aggregate(emb1,emb2, method=\"mul\"):\n",
        "    \"\"\"\n",
        "    input: two embeddings, method of aggregation (mul, sum, concat, diff, abs_diff)\n",
        "    output: merged embeddings\n",
        "    \"\"\"\n",
        "    if method == \"mul\":\n",
        "        emb = emb1 * emb2\n",
        "    if method == \"sum\":\n",
        "        emb = emb1 + emb2\n",
        "    if method == \"concat\":\n",
        "        emb = torch.cat((emb1,emb2),1)\n",
        "    if method == \"diff\":\n",
        "        emb1 = emb1.div(torch.norm(emb1, p=2, dim=0).expand_as(emb1))\n",
        "        emb2 = emb2.div(torch.norm(emb2, p=2, dim=0).expand_as(emb2))\n",
        "        emb = emb1 - emb2\n",
        "    if method == \"abs_diff\":\n",
        "        emb1 = emb1.div(torch.norm(emb1, p=2, dim=0).expand_as(emb1))\n",
        "        emb2 = emb2.div(torch.norm(emb2, p=2, dim=0).expand_as(emb2))\n",
        "        emb = torch.abs(emb1 - emb2)\n",
        "    return emb"
      ],
      "execution_count": 33,
      "outputs": []
    },
    {
      "cell_type": "code",
      "metadata": {
        "id": "1n65IK-dDWw2"
      },
      "source": [
        "embs_train_aggr = []\n",
        "embs_val_aggr = []\n",
        "embs_test_aggr_enru = []\n",
        "embs_test_aggr_ruru = []\n",
        "\n",
        "for emb1, emb2 in embs_train:\n",
        "    embs_train_aggr.append(aggregate(emb1,emb2))\n",
        "\n",
        "for emb1, emb2 in embs_val:\n",
        "    embs_val_aggr.append(aggregate(emb1,emb2))\n",
        "\n",
        "for emb1, emb2 in embs_test_enru:\n",
        "    embs_test_aggr_enru.append(aggregate(emb1,emb2))\n",
        "\n",
        "for emb1, emb2 in embs_test_ruru:\n",
        "    embs_test_aggr_ruru.append(aggregate(emb1,emb2))"
      ],
      "execution_count": 34,
      "outputs": []
    },
    {
      "cell_type": "code",
      "metadata": {
        "id": "JzpptqBTEEXZ",
        "outputId": "b9836d4b-cc7c-41f0-c338-2d8aa9322d85",
        "colab": {
          "base_uri": "https://localhost:8080/"
        }
      },
      "source": [
        "print(embs_train_aggr[0].shape)\n",
        "print(len(embs_train_aggr))"
      ],
      "execution_count": 35,
      "outputs": [
        {
          "output_type": "stream",
          "name": "stdout",
          "text": [
            "torch.Size([768])\n",
            "8000\n"
          ]
        }
      ]
    },
    {
      "cell_type": "code",
      "metadata": {
        "id": "Lxf0zDVLqTUI"
      },
      "source": [
        "class Dataset(torch.utils.data.Dataset):\n",
        "    def __init__(self,embs_train_aggr,target_train):\n",
        "        super(Dataset,self).__init__()\n",
        "        self.x = embs_train_aggr\n",
        "        self.y = target_train\n",
        "    def __len__(self):\n",
        "        return len(self.x)\n",
        "    def __getitem__(self,i):\n",
        "        return self.x[i], self.y[i]\n",
        "\n",
        "dataset = Dataset(embs_train_aggr,target_train)\n",
        "dataloader = torch.utils.data.DataLoader(dataset,batch_size=128,shuffle=True)"
      ],
      "execution_count": 36,
      "outputs": []
    },
    {
      "cell_type": "markdown",
      "metadata": {
        "id": "4Y1AYYKFc4_l"
      },
      "source": [
        "## 2.5 Training"
      ]
    },
    {
      "cell_type": "code",
      "metadata": {
        "id": "DU84ls_1xlwr"
      },
      "source": [
        "mlp = nn.Sequential(\n",
        "    nn.Linear(768,512),\n",
        "    nn.Dropout(0.3),\n",
        "    nn.GELU(),\n",
        "    nn.Linear(512,256),\n",
        "    nn.Dropout(0.3),\n",
        "    nn.GELU(),\n",
        "    nn.Linear(256,1),\n",
        "    nn.Sigmoid()).cuda()\n",
        "\n",
        "opt = torch.optim.AdamW(mlp.parameters(),lr=1e-4)"
      ],
      "execution_count": 37,
      "outputs": []
    },
    {
      "cell_type": "code",
      "metadata": {
        "id": "WBKj9jdG2x3l"
      },
      "source": [
        "losses = []\n",
        "roc_auc = []"
      ],
      "execution_count": 38,
      "outputs": []
    },
    {
      "cell_type": "code",
      "metadata": {
        "id": "wV8NAylzMtHU",
        "colab": {
          "base_uri": "https://localhost:8080/",
          "height": 923
        },
        "outputId": "be9e5dbf-d090-4c90-ac70-c640ed439246"
      },
      "source": [
        "# TRAINING LOOP\n",
        "for epoch in range(20):\n",
        "    for emb, y in dataloader:\n",
        "        mlp.train()\n",
        "\n",
        "        predict = mlp(emb)\n",
        "        loss = nn.BCELoss()(predict,y)\n",
        "        loss.backward()\n",
        "        opt.step()\n",
        "        opt.zero_grad()\n",
        "        losses.append(loss)\n",
        "\n",
        "    with torch.no_grad():\n",
        "        correct = 0\n",
        "        preds = []\n",
        "        targets = []\n",
        "        for emb, y in zip(embs_val_aggr,target_val):\n",
        "            mlp.eval()\n",
        "            predict = mlp(emb[None,...])\n",
        "            preds.append(float(predict))\n",
        "            targets.append(int(y.item()))\n",
        "        auc = roc_auc_score(targets,preds)\n",
        "        roc_auc.append(auc)\n",
        "\n",
        "    clear_output(wait=True)\n",
        "    plt.title(\"train loss\")\n",
        "    plt.plot([i.cpu().detach().numpy() for i in losses])\n",
        "    plt.grid()\n",
        "    plt.show()\n",
        "    plt.title(\"roc auc\")\n",
        "    plt.plot(roc_auc)\n",
        "    plt.grid()\n",
        "    plt.show()\n",
        "    print(\"auc: \",roc_auc[-1])\n",
        "    print(\"epoch: \",epoch)"
      ],
      "execution_count": 39,
      "outputs": [
        {
          "output_type": "display_data",
          "data": {
            "text/plain": [
              "<Figure size 640x480 with 1 Axes>"
            ],
            "image/png": "[encoded data removed]"
          },
          "metadata": {}
        },
        {
          "output_type": "display_data",
          "data": {
            "text/plain": [
              "<Figure size 640x480 with 1 Axes>"
            ],
            "image/png": "[encoded data removed]"
          },
          "metadata": {}
        },
        {
          "output_type": "stream",
          "name": "stdout",
          "text": [
            "auc:  0.8580919999999999\n",
            "epoch:  19\n"
          ]
        }
      ]
    },
    {
      "cell_type": "markdown",
      "metadata": {
        "id": "uS5LX1vsUYfT"
      },
      "source": [
        "## 3. Tests"
      ]
    },
    {
      "cell_type": "markdown",
      "metadata": {
        "id": "qiDD8mYyqhD2"
      },
      "source": [
        "#### 3.1 Test on Russian-Russian sentence pairs"
      ]
    },
    {
      "cell_type": "code",
      "metadata": {
        "id": "37DiCy5fmz7n",
        "outputId": "3f8743d5-cf41-4e45-ffc2-52949dcbdb03",
        "colab": {
          "base_uri": "https://localhost:8080/"
        }
      },
      "source": [
        "#ruru\n",
        "with torch.no_grad():\n",
        "    correct = 0\n",
        "    preds = []\n",
        "    targets = []\n",
        "    for emb, y in zip(embs_test_aggr_ruru,target_test_ruru):\n",
        "        mlp.eval()\n",
        "        predict = mlp(emb)\n",
        "        preds.append(float(predict.item()))\n",
        "        targets.append(int(y.item()))\n",
        "    auc = roc_auc_score(targets,preds)\n",
        "print(\"auc\",auc)\n"
      ],
      "execution_count": null,
      "outputs": [
        {
          "output_type": "stream",
          "name": "stdout",
          "text": [
            "auc 0.7831159999999999\n"
          ]
        }
      ]
    },
    {
      "cell_type": "markdown",
      "metadata": {
        "id": "MpgVFsBfqutt"
      },
      "source": [
        "#### 3.2 Test on English-Russian sentence pairs (crosslingual)"
      ]
    },
    {
      "cell_type": "code",
      "metadata": {
        "id": "3tYxzC2DWJxJ",
        "outputId": "7ef9bf43-a94e-4cc6-e65f-b783dab489bc",
        "colab": {
          "base_uri": "https://localhost:8080/"
        }
      },
      "source": [
        "#enru\n",
        "with torch.no_grad():\n",
        "    correct = 0\n",
        "    preds = []\n",
        "    targets = []\n",
        "    for emb, y in zip(embs_test_aggr_enru,target_test_enru):\n",
        "        mlp.eval()\n",
        "        predict = mlp(emb)\n",
        "        preds.append(float(predict.item()))\n",
        "        targets.append(int(y.item()))\n",
        "    auc = roc_auc_score(targets,preds)\n",
        "print(\"auc\",auc)\n"
      ],
      "execution_count": 40,
      "outputs": [
        {
          "output_type": "stream",
          "name": "stdout",
          "text": [
            "auc 0.64036\n"
          ]
        }
      ]
    },
    {
      "cell_type": "code",
      "source": [],
      "metadata": {
        "id": "BsSMw9UoR6O9"
      },
      "execution_count": null,
      "outputs": []
    }
  ]
}