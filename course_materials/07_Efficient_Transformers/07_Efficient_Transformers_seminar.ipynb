{
  "cells": [
    {
      "cell_type": "markdown",
      "metadata": {
        "id": "BjpXhqlD3YB9"
      },
      "source": [
        "**Create quantizised version of GPT-2 and save the memory =)**\n",
        "\n",
        "Egor Shvetsov, Viktoriia Chekalina"
      ]
    },
    {
      "cell_type": "code",
      "execution_count": 2,
      "metadata": {
        "colab": {
          "base_uri": "https://localhost:8080/"
        },
        "id": "20tBT4dDFX5g",
        "outputId": "5455e835-50f5-4262-ade1-4081c219d4e2"
      },
      "outputs": [
        {
          "output_type": "stream",
          "name": "stdout",
          "text": [
            "Requirement already satisfied: transformers in /usr/local/lib/python3.11/dist-packages (4.50.0)\n",
            "Requirement already satisfied: filelock in /usr/local/lib/python3.11/dist-packages (from transformers) (3.18.0)\n",
            "Requirement already satisfied: huggingface-hub<1.0,>=0.26.0 in /usr/local/lib/python3.11/dist-packages (from transformers) (0.29.3)\n",
            "Requirement already satisfied: numpy>=1.17 in /usr/local/lib/python3.11/dist-packages (from transformers) (2.0.2)\n",
            "Requirement already satisfied: packaging>=20.0 in /usr/local/lib/python3.11/dist-packages (from transformers) (24.2)\n",
            "Requirement already satisfied: pyyaml>=5.1 in /usr/local/lib/python3.11/dist-packages (from transformers) (6.0.2)\n",
            "Requirement already satisfied: regex!=2019.12.17 in /usr/local/lib/python3.11/dist-packages (from transformers) (2024.11.6)\n",
            "Requirement already satisfied: requests in /usr/local/lib/python3.11/dist-packages (from transformers) (2.32.3)\n",
            "Requirement already satisfied: tokenizers<0.22,>=0.21 in /usr/local/lib/python3.11/dist-packages (from transformers) (0.21.1)\n",
            "Requirement already satisfied: safetensors>=0.4.3 in /usr/local/lib/python3.11/dist-packages (from transformers) (0.5.3)\n",
            "Requirement already satisfied: tqdm>=4.27 in /usr/local/lib/python3.11/dist-packages (from transformers) (4.67.1)\n",
            "Requirement already satisfied: fsspec>=2023.5.0 in /usr/local/lib/python3.11/dist-packages (from huggingface-hub<1.0,>=0.26.0->transformers) (2025.3.0)\n",
            "Requirement already satisfied: typing-extensions>=3.7.4.3 in /usr/local/lib/python3.11/dist-packages (from huggingface-hub<1.0,>=0.26.0->transformers) (4.12.2)\n",
            "Requirement already satisfied: charset-normalizer<4,>=2 in /usr/local/lib/python3.11/dist-packages (from requests->transformers) (3.4.1)\n",
            "Requirement already satisfied: idna<4,>=2.5 in /usr/local/lib/python3.11/dist-packages (from requests->transformers) (3.10)\n",
            "Requirement already satisfied: urllib3<3,>=1.21.1 in /usr/local/lib/python3.11/dist-packages (from requests->transformers) (2.3.0)\n",
            "Requirement already satisfied: certifi>=2017.4.17 in /usr/local/lib/python3.11/dist-packages (from requests->transformers) (2025.1.31)\n"
          ]
        }
      ],
      "source": [
        "! pip install transformers"
      ]
    },
    {
      "cell_type": "code",
      "execution_count": 3,
      "metadata": {
        "id": "bgm9EjAdApon"
      },
      "outputs": [],
      "source": [
        "device = 'cuda:0'"
      ]
    },
    {
      "cell_type": "markdown",
      "metadata": {
        "id": "VEXnwbzgVE-t"
      },
      "source": [
        "## Class Quantizator"
      ]
    },
    {
      "cell_type": "code",
      "execution_count": 4,
      "metadata": {
        "id": "o-x83_e5V9cW"
      },
      "outputs": [],
      "source": [
        "import numpy as np\n",
        "\n",
        "import torch\n",
        "import torch.nn as nn\n",
        "import torch.optim as optim\n",
        "import torch.nn.functional as F\n",
        "\n",
        "import matplotlib.pyplot as plt"
      ]
    },
    {
      "cell_type": "markdown",
      "metadata": {
        "id": "9Z-NJ79EApop"
      },
      "source": [
        "![](https://drive.google.com/uc?export=view&id=1qG2l66t1tZNk-V-CQs80e-DiyevAF2ea)"
      ]
    },
    {
      "cell_type": "code",
      "execution_count": 6,
      "metadata": {
        "id": "gb0gzK2QVK6I"
      },
      "outputs": [],
      "source": [
        "class Quantizer(nn.Module):\n",
        "    def __init__(self, bit):\n",
        "\n",
        "        super(Quantizer, self).__init__()\n",
        "        self.bit = bit\n",
        "        self.thd_neg = -(2 ** (bit - 1))\n",
        "        self.thd_pos = 2 ** (bit - 1) - 1\n",
        "        self.s = nn.Parameter(torch.ones(1))\n",
        "\n",
        "    def init_from(self, x):\n",
        "        s = (x.max() - x.min()) / (self.thd_pos - self.thd_neg )\n",
        "        self.s = nn.Parameter(s)\n",
        "\n",
        "    def skip_grad_scale(self,x, scale):\n",
        "        y = x\n",
        "        y_grad = x * scale\n",
        "        return (y - y_grad).detach() + y_grad\n",
        "\n",
        "    def round_pass(self, x): # round ans clip are not differentiable\n",
        "        y = x.round()\n",
        "        y_grad = x\n",
        "        return (y - y_grad).detach() + y_grad\n",
        "\n",
        "    def forward(self, x):\n",
        "        if self.bit >= 32:\n",
        "            return x\n",
        "\n",
        "        s_grad_scale = 1.0 / ((self.thd_pos * x.numel()) ** 0.5) # is not diff, skip_grad_scale\n",
        "\n",
        "        device = x.device\n",
        "\n",
        "        s_scale = self.skip_grad_scale(self.s, s_grad_scale).to(device)\n",
        "\n",
        "        x = x / (s_scale) # go to new space\n",
        "        x = torch.clamp(x, self.thd_neg, self.thd_pos) # clip is not diff, round_pass\n",
        "        x = self.round_pass(x) #go back\n",
        "        x = x * (s_scale)\n",
        "        return x"
      ]
    },
    {
      "cell_type": "code",
      "execution_count": 7,
      "metadata": {
        "id": "X7TvAtimApop"
      },
      "outputs": [],
      "source": [
        "vector =(np.arange(-10, 10, 1))**2"
      ]
    },
    {
      "cell_type": "code",
      "execution_count": 8,
      "metadata": {
        "colab": {
          "base_uri": "https://localhost:8080/"
        },
        "id": "AJ8R5k1eApop",
        "outputId": "0f86a454-b443-4d3f-b792-19275924ec3c"
      },
      "outputs": [
        {
          "output_type": "execute_result",
          "data": {
            "text/plain": [
              "array([100,  81,  64,  49,  36,  25,  16,   9,   4,   1,   0,   1,   4,\n",
              "         9,  16,  25,  36,  49,  64,  81])"
            ]
          },
          "metadata": {},
          "execution_count": 8
        }
      ],
      "source": [
        "vector"
      ]
    },
    {
      "cell_type": "code",
      "execution_count": 9,
      "metadata": {
        "colab": {
          "base_uri": "https://localhost:8080/"
        },
        "id": "26nZzWEGApoq",
        "outputId": "15bd9511-e0b0-478c-a5ea-e8851df724c3"
      },
      "outputs": [
        {
          "output_type": "execute_result",
          "data": {
            "text/plain": [
              "array([46.666664 , 46.666664 , 46.666664 , 46.666664 , 33.333332 ,\n",
              "       26.666666 , 13.333333 ,  6.6666665,  6.6666665,  0.       ,\n",
              "        0.       ,  0.       ,  6.6666665,  6.6666665, 13.333333 ,\n",
              "       26.666666 , 33.333332 , 46.666664 , 46.666664 , 46.666664 ],\n",
              "      dtype=float32)"
            ]
          },
          "metadata": {},
          "execution_count": 9
        }
      ],
      "source": [
        "quantizer = Quantizer(4)\n",
        "vector = torch.tensor(vector)\n",
        "quantizer.init_from(vector)\n",
        "quantizer(vector).detach().numpy()"
      ]
    },
    {
      "cell_type": "code",
      "execution_count": 10,
      "metadata": {
        "id": "wtOcROcsApoq",
        "outputId": "34f27dd6-e266-4369-dc85-476bf4ae9c6c",
        "colab": {
          "base_uri": "https://localhost:8080/"
        }
      },
      "outputs": [
        {
          "output_type": "execute_result",
          "data": {
            "text/plain": [
              "Parameter containing:\n",
              "tensor(6.6667, requires_grad=True)"
            ]
          },
          "metadata": {},
          "execution_count": 10
        }
      ],
      "source": [
        "quantizer.s"
      ]
    },
    {
      "cell_type": "code",
      "execution_count": 11,
      "metadata": {
        "colab": {
          "base_uri": "https://localhost:8080/"
        },
        "id": "_V1WmV09Apor",
        "outputId": "ebea365c-ee79-47a9-cd11-2c25549e21f3"
      },
      "outputs": [
        {
          "output_type": "stream",
          "name": "stderr",
          "text": [
            "<ipython-input-11-f6c3db215e95>:2: UserWarning: To copy construct from a tensor, it is recommended to use sourceTensor.clone().detach() or sourceTensor.clone().detach().requires_grad_(True), rather than torch.tensor(sourceTensor).\n",
            "  vector = torch.tensor(vector)\n"
          ]
        },
        {
          "output_type": "execute_result",
          "data": {
            "text/plain": [
              "array([49.999237  , 49.999237  , 49.999237  , 48.99977   , 36.00061   ,\n",
              "       25.000381  , 16.00061   ,  8.999771  ,  3.9993896 ,  0.99946594,\n",
              "        0.        ,  0.99946594,  3.9993896 ,  8.999771  , 16.00061   ,\n",
              "       25.000381  , 36.00061   , 48.99977   , 49.999237  , 49.999237  ],\n",
              "      dtype=float32)"
            ]
          },
          "metadata": {},
          "execution_count": 11
        }
      ],
      "source": [
        "quantizer = Quantizer(16)\n",
        "vector = torch.tensor(vector)\n",
        "quantizer.init_from(vector)\n",
        "quantizer(vector).detach().numpy()"
      ]
    },
    {
      "cell_type": "code",
      "execution_count": 12,
      "metadata": {
        "colab": {
          "base_uri": "https://localhost:8080/",
          "height": 486
        },
        "id": "kj2lhaY7VVM-",
        "outputId": "38171155-6d60-4aae-cde0-a5ba8e598b39"
      },
      "outputs": [
        {
          "output_type": "display_data",
          "data": {
            "text/plain": [
              "<Figure size 1000x700 with 0 Axes>"
            ]
          },
          "metadata": {}
        },
        {
          "output_type": "display_data",
          "data": {
            "text/plain": [
              "<Figure size 1000x500 with 1 Axes>"
            ],
            "image/png": "[encoded data removed]"
          },
          "metadata": {}
        }
      ],
      "source": [
        "vector =(np.arange(-10, 10, 1))**2\n",
        "\n",
        "vector = torch.tensor(vector)\n",
        "\n",
        "plt.figure(figsize=(10,7))\n",
        "\n",
        "f = plt.figure(figsize = (10, 5))\n",
        "\n",
        "plt.plot(range(len(vector)), vector,label='orig', marker='o')\n",
        "for bit in [2,3,4, 8, 16]:\n",
        "    quantizer = Quantizer(bit)\n",
        "    quantizer.init_from(vector) # define step\n",
        "    dequantized = quantizer(vector) #\n",
        "\n",
        "    dequantized = dequantized.detach().numpy()\n",
        "\n",
        "    plt.plot(range(len(vector)),dequantized,label=f'int_{bit}')\n",
        "\n",
        "plt.title('DE - Quantized');\n",
        "plt.legend();"
      ]
    },
    {
      "cell_type": "code",
      "execution_count": 16,
      "metadata": {
        "id": "q4xk3wbYApor"
      },
      "outputs": [],
      "source": [
        "class QALinear(nn.Module):\n",
        "    def __init__(self, fc_w, fc_b, bit):\n",
        "        super(QALinear, self).__init__()\n",
        "        self.bit = bit\n",
        "        self.in_features, self.out_features = fc_w.shape\n",
        "        self.fc = nn.Linear(in_features = self.in_features,\n",
        "                      out_features = self.out_features,\n",
        "                      bias = True)\n",
        "        self.fc.weight = torch.nn.Parameter(torch.t(fc_w))\n",
        "        self.fc.bias = fc_b\n",
        "        self.define_q_fucntions(self.bit)\n",
        "\n",
        "\n",
        "    # can be used to modify bits during the training\n",
        "    def define_q_fucntions(self, bit):\n",
        "        self.quantizer_act = Quantizer(bit)\n",
        "        self.quantizer_weigh = Quantizer(bit)\n",
        "        self.quantizer_weigh.init_from(self.fc.weight)\n",
        "\n",
        "        self.quantizer_bias = Quantizer(bit)\n",
        "\n",
        "    def forward(self, input_x):\n",
        "        quantized_weight = self.quantizer_weigh(self.fc.weight)\n",
        "        quantized_bias = self.quantizer_weigh(self.fc.bias)\n",
        "        quantized_act = self.quantizer_act(input_x)\n",
        "        out = nn.functional.linear(quantized_act, quantized_weight, bias=quantized_bias) #torch.nn.functional.linear(input, weight, bias)\n",
        "        return out"
      ]
    },
    {
      "cell_type": "markdown",
      "metadata": {
        "id": "AVF7iwDE3YCD"
      },
      "source": [
        "# Transformer-based model quantization\n",
        "\n",
        "### GPT-2 quantization pipeline\n",
        "\n",
        "1) Extract fully-connected (transformers.conv1D()) from pretrained GPT-2\n",
        "\n",
        "2) Create quantized QALinear object over it\n",
        "\n",
        "3) Replace initial fully-connected layer with quantized layer\n",
        "\n",
        "4) Fine-tune model to recover performance degradation\n",
        "\n",
        "\n",
        "## Let's go through all of the stages in the pipeline"
      ]
    },
    {
      "cell_type": "code",
      "execution_count": 17,
      "metadata": {
        "id": "_ET7wDTrz9xm"
      },
      "outputs": [],
      "source": [
        "import numpy as np"
      ]
    },
    {
      "cell_type": "code",
      "execution_count": 18,
      "metadata": {
        "id": "Ku-vaYsh3YCI",
        "colab": {
          "base_uri": "https://localhost:8080/",
          "height": 240,
          "referenced_widgets": [
            "0dd020e92b4948b38fb3f0e16c2b7c50",
            "483025fd8d374ff1929119f60875b2cf",
            "d209bccaf319475cb471a75a7450c9df",
            "3a5ff760d032467aac07704a84c51a46",
            "d518d176d3984d949b38191a6bc7e30a",
            "348ca44cce1641b48b791c89d0342435",
            "5d999ffaca56408e8cd8de195c8790b0",
            "778b16e8443a4dc6b009d640b27b9d83",
            "23e3619807df4765853eda33385fb02f",
            "7a425ac093114081bf21f20ac6ad0bf9",
            "1c8580e305b14abdadea1d30b2c68e85",
            "a04d176c0a66447b8c8fe906c1428984",
            "0efb45fcef5c4ddb8a5d97f9ca2d48a2",
            "a2c0f13d5b024177ab8ae49b0c891c49",
            "5295b15ee40e4aae959bf6531d3618b0",
            "7f9ebc5e06f54e79a8cb0d5ea0144a31",
            "ce94e26891f2477896007d518e3bb8de",
            "4422d0e892db418598912c2cda175d73",
            "89b3835104094809a8940721a07effd5",
            "7e9d2434120c43129611c66579710280",
            "adb14d3ef48245bab68e324710847e55",
            "07f3404400dd4288bb37c88c98b5c6d4",
            "2650964884c54b7e8454d459273abfc4",
            "664c295e2877444ca628e42a219a09be",
            "68c60f990683455484e81fa701960465",
            "7550df7e0c794cb9ba9c28efa8e52f06",
            "9470b32f1a1f456396a74673c9e4d4ce",
            "93dcfa70407944d2ab2e68cedbda95e1",
            "ecf7a3c9f9c54c0fb5113a0c3ac31b6e",
            "ecb3d5645f9740baa822c48beb177677",
            "e84fb2f6dc25477abbd56328b618c148",
            "39cc72313bde4d5d8013bdc2af2cd723",
            "dbf2535f46b74706b6c33e02f764f739"
          ]
        },
        "outputId": "4acabff4-0bd1-4b26-d0f9-f97d32a01cb1"
      },
      "outputs": [
        {
          "output_type": "stream",
          "name": "stderr",
          "text": [
            "/usr/local/lib/python3.11/dist-packages/huggingface_hub/utils/_auth.py:94: UserWarning: \n",
            "The secret `HF_TOKEN` does not exist in your Colab secrets.\n",
            "To authenticate with the Hugging Face Hub, create a token in your settings tab (https://huggingface.co/settings/tokens), set it as secret in your Google Colab and restart your session.\n",
            "You will be able to reuse this secret in all of your notebooks.\n",
            "Please note that authentication is recommended but still optional to access public models or datasets.\n",
            "  warnings.warn(\n"
          ]
        },
        {
          "output_type": "display_data",
          "data": {
            "text/plain": [
              "config.json:   0%|          | 0.00/665 [00:00<?, ?B/s]"
            ],
            "application/vnd.jupyter.widget-view+json": {
              "version_major": 2,
              "version_minor": 0,
              "model_id": "0dd020e92b4948b38fb3f0e16c2b7c50"
            }
          },
          "metadata": {}
        },
        {
          "output_type": "display_data",
          "data": {
            "text/plain": [
              "model.safetensors:   0%|          | 0.00/548M [00:00<?, ?B/s]"
            ],
            "application/vnd.jupyter.widget-view+json": {
              "version_major": 2,
              "version_minor": 0,
              "model_id": "a04d176c0a66447b8c8fe906c1428984"
            }
          },
          "metadata": {}
        },
        {
          "output_type": "display_data",
          "data": {
            "text/plain": [
              "generation_config.json:   0%|          | 0.00/124 [00:00<?, ?B/s]"
            ],
            "application/vnd.jupyter.widget-view+json": {
              "version_major": 2,
              "version_minor": 0,
              "model_id": "2650964884c54b7e8454d459273abfc4"
            }
          },
          "metadata": {}
        }
      ],
      "source": [
        "from transformers import GPT2Model, GPT2Config, GPT2LMHeadModel\n",
        "\n",
        "# Initializing a GPT2 configuration\n",
        "configuration = GPT2Config()\n",
        "\n",
        "device = 'cuda'\n",
        "\n",
        "\n",
        "model = GPT2LMHeadModel(configuration).from_pretrained(\"gpt2\",\n",
        "                                                return_dict=True,\n",
        "                                                is_decoder=True)\n",
        "outt = model.to(device)\n"
      ]
    },
    {
      "cell_type": "markdown",
      "metadata": {
        "id": "Ci96e-xx3YCO"
      },
      "source": [
        "We will validate a pre-trained language GPT-2 model on a validation part **Wikitext-103** dataset.\n",
        "\n",
        "To create a validation dataset we should:\n",
        "    \n",
        "- download archieved dataset\n",
        "- extract it\n",
        "- wrap tran and test parts in TextDataset and further Dataloader class"
      ]
    },
    {
      "cell_type": "code",
      "source": [
        "!unzip wikitext-103.zip\n",
        "!ls"
      ],
      "metadata": {
        "colab": {
          "base_uri": "https://localhost:8080/"
        },
        "id": "o0826uAl30Tg",
        "outputId": "c47e7dcd-de57-45a4-8ec0-decd4a3b5540"
      },
      "execution_count": 55,
      "outputs": [
        {
          "output_type": "stream",
          "name": "stdout",
          "text": [
            "Archive:  wikitext-103.zip\n",
            "   creating: wikitext-103/\n",
            "  inflating: __MACOSX/._wikitext-103  \n",
            "  inflating: wikitext-103/wiki.test.tokens  \n",
            "  inflating: __MACOSX/wikitext-103/._wiki.test.tokens  \n",
            "  inflating: wikitext-103/wiki.valid.tokens  \n",
            "  inflating: __MACOSX/wikitext-103/._wiki.valid.tokens  \n",
            "  inflating: wikitext-103/wiki.train.tokens  \n",
            "  inflating: __MACOSX/wikitext-103/._wiki.train.tokens  \n",
            "__MACOSX  sample_data  wikitext-103  wikitext-103.zip\n"
          ]
        }
      ]
    },
    {
      "cell_type": "code",
      "source": [
        "from torch.utils.data import DataLoader, RandomSampler\n",
        "from transformers import GPT2Tokenizer\n",
        "from transformers import TextDataset\n",
        "tokenizer = GPT2Tokenizer.from_pretrained(\"gpt2\")\n",
        "\n",
        "\n",
        "dataset_valid = TextDataset(tokenizer=tokenizer,\n",
        "                                file_path=\"/content/wikitext-103/wiki.valid.tokens\",\n",
        "                                block_size=512)\n",
        "\n",
        "dataset_test = TextDataset(tokenizer=tokenizer,\n",
        "                                file_path=\"/content/wikitext-103/wiki.test.tokens\", block_size=512)\n",
        "len(dataset_valid), len(dataset_test)\n",
        "\n",
        "eval_dataloader = DataLoader(dataset_valid, batch_size=10)"
      ],
      "metadata": {
        "id": "ozlfLcIB4VCA"
      },
      "execution_count": 56,
      "outputs": []
    },
    {
      "cell_type": "markdown",
      "metadata": {
        "id": "DJgWvPbp3YCd"
      },
      "source": [
        "Validate model and calculate a perplexity:"
      ]
    },
    {
      "cell_type": "code",
      "execution_count": 59,
      "metadata": {
        "id": "9JVtPbFv3YCj"
      },
      "outputs": [],
      "source": [
        "from tqdm import tqdm\n",
        "model.eval()\n",
        "import torch\n",
        "\n",
        "device = 'cuda'\n",
        "\n",
        "def evaluate(model):\n",
        "    losses = []\n",
        "    eval_loss = 0.0\n",
        "    perplexity = 0.0\n",
        "    nb_eval_steps = 0\n",
        "    for batch in tqdm(eval_dataloader, desc=\"Evaluating\"):\n",
        "        inputs, labels = (batch, batch)\n",
        "        inputs = inputs.to(device)\n",
        "        labels = labels.to(device)\n",
        "\n",
        "        with torch.no_grad():\n",
        "            outputs = model(inputs, labels=labels)\n",
        "            lm_loss = outputs[0]\n",
        "            eval_loss += lm_loss.mean().item()\n",
        "            perplexity += torch.exp(torch.tensor(eval_loss))\n",
        "            losses.append(eval_loss)\n",
        "        nb_eval_steps += 1\n",
        "\n",
        "    eval_loss = eval_loss / nb_eval_steps\n",
        "\n",
        "    perplexity = torch.exp(torch.tensor(eval_loss))\n",
        "    perplexity = perplexity\n",
        "    return perplexity"
      ]
    },
    {
      "cell_type": "code",
      "execution_count": 60,
      "metadata": {
        "colab": {
          "base_uri": "https://localhost:8080/"
        },
        "id": "e3O7hZ333YCq",
        "outputId": "38a29a2c-ed47-438a-e36c-7ef743d1f79c"
      },
      "outputs": [
        {
          "output_type": "stream",
          "name": "stderr",
          "text": [
            "Evaluating:   0%|          | 0/49 [00:00<?, ?it/s]`loss_type=None` was set in the config but it is unrecognised.Using the default loss: `ForCausalLMLoss`.\n",
            "Evaluating: 100%|██████████| 49/49 [00:21<00:00,  2.27it/s]\n"
          ]
        },
        {
          "output_type": "execute_result",
          "data": {
            "text/plain": [
              "tensor(35.1143)"
            ]
          },
          "metadata": {},
          "execution_count": 60
        }
      ],
      "source": [
        "perplexity = evaluate(model.to(device))\n",
        "perplexity"
      ]
    },
    {
      "cell_type": "code",
      "execution_count": 61,
      "metadata": {
        "colab": {
          "base_uri": "https://localhost:8080/"
        },
        "id": "1loUt8ZjRciK",
        "outputId": "2d4253bf-465b-486d-dff8-f03509c9d9b6"
      },
      "outputs": [
        {
          "output_type": "execute_result",
          "data": {
            "text/plain": [
              "torch.Size([768, 3072])"
            ]
          },
          "metadata": {},
          "execution_count": 61
        }
      ],
      "source": [
        "model.transformer.h[1].mlp.c_fc.weight.shape"
      ]
    },
    {
      "cell_type": "markdown",
      "metadata": {
        "id": "SbTPSv3BzX-b"
      },
      "source": [
        "Let's generate text to ensure that model is good."
      ]
    },
    {
      "cell_type": "code",
      "execution_count": 62,
      "metadata": {
        "id": "nCjz-pTTzqy1"
      },
      "outputs": [],
      "source": [
        "seq_len = 512"
      ]
    },
    {
      "cell_type": "code",
      "execution_count": 63,
      "metadata": {
        "colab": {
          "base_uri": "https://localhost:8080/"
        },
        "id": "K8j3aKX7zYnt",
        "outputId": "86dcb713-77c8-4bd2-d7ce-ba97fd71b809"
      },
      "outputs": [
        {
          "output_type": "stream",
          "name": "stderr",
          "text": [
            "2it [00:00, 18.52it/s]"
          ]
        },
        {
          "output_type": "stream",
          "name": "stdout",
          "text": [
            "\n",
            "\n",
            "input_ids[0][-20:]  lobster , Homarus americanus . The two species\n",
            "\n",
            "\n",
            "label_ids[0][-21:]  , Homarus americanus . The two species\n",
            "\n",
            "\n",
            "output  , Harus gamanus . It American species are\n",
            "\n",
            "\n",
            "\n",
            "\n",
            "\n",
            "\n",
            "\n",
            "\n",
            "\n",
            "input_ids[0][-20:]  National Forest . The east end of M @-\n",
            "\n",
            "\n",
            "label_ids[0][-21:]  Forest . The east end of M @-\n",
            "\n",
            "\n",
            "output  Forest . The highwaybound of the @-@\n",
            "\n",
            "\n",
            "\n",
            "\n",
            "\n",
            "\n",
            "\n",
            "\n",
            "\n",
            "input_ids[0][-20:]  as a liaison between the organizations . Plans were underway\n",
            "\n",
            "\n",
            "label_ids[0][-21:]  a liaison between the organizations . Plans were underway\n",
            "\n",
            "\n",
            "output  a liaison between the Meridian and  for made to\n",
            "\n",
            "\n",
            "\n",
            "\n",
            "\n",
            "\n",
            "\n",
            "\n",
            "\n",
            "input_ids[0][-20:]  @-@ seat auditorium for live performances ,\n",
            "\n",
            "\n",
            "label_ids[0][-21:] -@ seat auditorium for live performances ,\n",
            "\n",
            "\n",
            "output ,@ and,ium, the performances, is\n",
            "\n",
            "\n",
            "\n",
            "\n",
            "\n",
            "\n",
            "\n",
            "\n",
            "\n"
          ]
        },
        {
          "output_type": "stream",
          "name": "stderr",
          "text": [
            "8it [00:00, 22.02it/s]"
          ]
        },
        {
          "output_type": "stream",
          "name": "stdout",
          "text": [
            "input_ids[0][-20:]  @,@ \n",
            " Fred and Al Key ,\n",
            "\n",
            "\n",
            "label_ids[0][-21:] ,@ \n",
            " Fred and Al Key ,\n",
            "\n",
            "\n",
            "output ,@ \n",
            "\n",
            "rick Mary <es the\n",
            "\n",
            "\n",
            "\n",
            "\n",
            "\n",
            "\n",
            "\n",
            "\n",
            "\n",
            "input_ids[0][-20:] le was the villain . \n",
            " \n",
            " =\n",
            "\n",
            "\n",
            "label_ids[0][-21:]  was the villain . \n",
            " \n",
            " =\n",
            "\n",
            "\n",
            "output  is a main. \n",
            " \"\n",
            " = =\n",
            "\n",
            "\n",
            "\n",
            "\n",
            "\n",
            "\n",
            "\n",
            "\n",
            "\n",
            "input_ids[0][-20:] @ northwesterly track in response to a\n",
            "\n",
            "\n",
            "label_ids[0][-21:]  northwesterly track in response to a\n",
            "\n",
            "\n",
            "output  orientationwardesterly direction, the to the strong\n",
            "\n",
            "\n",
            "\n",
            "\n",
            "\n",
            "\n",
            "\n",
            "\n",
            "\n",
            "input_ids[0][-20:]  is shown standing in a cage opposite to a number\n",
            "\n",
            "\n",
            "label_ids[0][-21:]  shown standing in a cage opposite to a number\n",
            "\n",
            "\n",
            "output  singing dancing in front white with the the man of\n",
            "\n",
            "\n",
            "\n",
            "\n",
            "\n",
            "\n",
            "\n",
            "\n",
            "\n",
            "input_ids[0][-20:] -@ lap sprint , Richmond competed in a three\n",
            "\n",
            "\n",
            "label_ids[0][-21:] @ lap sprint , Richmond competed in a three\n",
            "\n",
            "\n",
            "output @ race , , Richmond took in the race @\n",
            "\n",
            "\n",
            "\n",
            "\n",
            "\n",
            "\n",
            "\n",
            "\n",
            "\n"
          ]
        },
        {
          "output_type": "stream",
          "name": "stderr",
          "text": [
            "\r10it [00:00, 20.01it/s]"
          ]
        },
        {
          "output_type": "stream",
          "name": "stdout",
          "text": [
            "input_ids[0][-20:]  well @-@ being of ranchers . In\n",
            "\n",
            "\n",
            "label_ids[0][-21:]  @-@ being of ranchers . In\n",
            "\n",
            "\n",
            "output --@ needs of localhers .  addition\n",
            "\n",
            "\n",
            "\n",
            "\n",
            "\n",
            "\n",
            "\n",
            "\n",
            "\n",
            "input_ids[0][-20:]  for their first road win in Illinois since 1995 .\n",
            "\n",
            "\n",
            "label_ids[0][-21:]  their first road win in Illinois since 1995 .\n",
            "\n",
            "\n",
            "output  the first Big win of four ' beating . On\n",
            "\n",
            "\n",
            "\n",
            "\n"
          ]
        },
        {
          "output_type": "stream",
          "name": "stderr",
          "text": [
            "\n"
          ]
        }
      ],
      "source": [
        "i = 0\n",
        "for batch_idx, sample in tqdm(enumerate(eval_dataloader)):\n",
        "    input_ids, label_ids = sample[0][:seq_len - 1], sample[0][1:seq_len]\n",
        "    input_ids = input_ids.to(device=device)\n",
        "    label_ids = label_ids.to(device=device)\n",
        "    outputs = model(input_ids)\n",
        "    print (\"\\n\")\n",
        "    print(\"input_ids[0][-20:]\", tokenizer.decode(input_ids[-10:]))\n",
        "    print (\"\\n\")\n",
        "    print(\"label_ids[0][-21:]\", tokenizer.decode(input_ids[-9:]))\n",
        "    print (\"\\n\")\n",
        "    print(\"output\", tokenizer.decode(outputs.logits.argmax(dim=-1)[-10:]))\n",
        "    #print(\"GENERATED\", tokenizer.decode(outputs.logits.argmax(dim=-1)[0][-1:]))\n",
        "    print(\"\\n\\n\\n\")\n",
        "    i += 1\n",
        "    if i > 10: break\n",
        "    print (\"\\n\\n\")"
      ]
    },
    {
      "cell_type": "code",
      "execution_count": 64,
      "metadata": {
        "id": "l5_nzaEr1abP"
      },
      "outputs": [],
      "source": [
        "for i in [6, 8, 9, 10, 11]:\n",
        "    # fc part\n",
        "    fc_w = model.transformer.h[i].mlp.c_fc\n",
        "    fp_w = model.transformer.h[i].mlp.c_proj\n",
        "    model.transformer.h[i].mlp.c_fc = QALinear(fc_w.weight, fc_w.bias, 4)\n",
        "    model.transformer.h[i].mlp.c_proj = QALinear(fp_w.weight, fp_w.bias, 4)"
      ]
    },
    {
      "cell_type": "code",
      "execution_count": 65,
      "metadata": {
        "id": "UzWCE0XSApou",
        "colab": {
          "base_uri": "https://localhost:8080/"
        },
        "outputId": "d87a8b1d-d089-4115-d0c4-3b533fdbd8cd"
      },
      "outputs": [
        {
          "output_type": "stream",
          "name": "stderr",
          "text": [
            "Evaluating: 100%|██████████| 49/49 [00:20<00:00,  2.38it/s]\n"
          ]
        },
        {
          "output_type": "execute_result",
          "data": {
            "text/plain": [
              "tensor(141.6086)"
            ]
          },
          "metadata": {},
          "execution_count": 65
        }
      ],
      "source": [
        "perplexity = evaluate(model)\n",
        "perplexity"
      ]
    },
    {
      "cell_type": "code",
      "execution_count": null,
      "metadata": {
        "id": "1kWsHfatApow"
      },
      "outputs": [],
      "source": []
    }
  ],
  "metadata": {
    "accelerator": "GPU",
    "colab": {
      "provenance": [],
      "gpuType": "T4"
    },
    "kernelspec": {
      "display_name": "Python 3",
      "name": "python3"
    },
    "language_info": {
      "codemirror_mode": {
        "name": "ipython",
        "version": 3
      },
      "file_extension": ".py",
      "mimetype": "text/x-python",
      "name": "python",
      "nbconvert_exporter": "python",
      "pygments_lexer": "ipython3",
      "version": "3.8.10"
    },
    "widgets": {
      "application/vnd.jupyter.widget-state+json": {
        "0dd020e92b4948b38fb3f0e16c2b7c50": {
          "model_module": "@jupyter-widgets/controls",
          "model_name": "HBoxModel",
          "model_module_version": "1.5.0",
          "state": {
            "_dom_classes": [],
            "_model_module": "@jupyter-widgets/controls",
            "_model_module_version": "1.5.0",
            "_model_name": "HBoxModel",
            "_view_count": null,
            "_view_module": "@jupyter-widgets/controls",
            "_view_module_version": "1.5.0",
            "_view_name": "HBoxView",
            "box_style": "",
            "children": [
              "IPY_MODEL_483025fd8d374ff1929119f60875b2cf",
              "IPY_MODEL_d209bccaf319475cb471a75a7450c9df",
              "IPY_MODEL_3a5ff760d032467aac07704a84c51a46"
            ],
            "layout": "IPY_MODEL_d518d176d3984d949b38191a6bc7e30a"
          }
        },
        "483025fd8d374ff1929119f60875b2cf": {
          "model_module": "@jupyter-widgets/controls",
          "model_name": "HTMLModel",
          "model_module_version": "1.5.0",
          "state": {
            "_dom_classes": [],
            "_model_module": "@jupyter-widgets/controls",
            "_model_module_version": "1.5.0",
            "_model_name": "HTMLModel",
            "_view_count": null,
            "_view_module": "@jupyter-widgets/controls",
            "_view_module_version": "1.5.0",
            "_view_name": "HTMLView",
            "description": "",
            "description_tooltip": null,
            "layout": "IPY_MODEL_348ca44cce1641b48b791c89d0342435",
            "placeholder": "​",
            "style": "IPY_MODEL_5d999ffaca56408e8cd8de195c8790b0",
            "value": "config.json: 100%"
          }
        },
        "d209bccaf319475cb471a75a7450c9df": {
          "model_module": "@jupyter-widgets/controls",
          "model_name": "FloatProgressModel",
          "model_module_version": "1.5.0",
          "state": {
            "_dom_classes": [],
            "_model_module": "@jupyter-widgets/controls",
            "_model_module_version": "1.5.0",
            "_model_name": "FloatProgressModel",
            "_view_count": null,
            "_view_module": "@jupyter-widgets/controls",
            "_view_module_version": "1.5.0",
            "_view_name": "ProgressView",
            "bar_style": "success",
            "description": "",
            "description_tooltip": null,
            "layout": "IPY_MODEL_778b16e8443a4dc6b009d640b27b9d83",
            "max": 665,
            "min": 0,
            "orientation": "horizontal",
            "style": "IPY_MODEL_23e3619807df4765853eda33385fb02f",
            "value": 665
          }
        },
        "3a5ff760d032467aac07704a84c51a46": {
          "model_module": "@jupyter-widgets/controls",
          "model_name": "HTMLModel",
          "model_module_version": "1.5.0",
          "state": {
            "_dom_classes": [],
            "_model_module": "@jupyter-widgets/controls",
            "_model_module_version": "1.5.0",
            "_model_name": "HTMLModel",
            "_view_count": null,
            "_view_module": "@jupyter-widgets/controls",
            "_view_module_version": "1.5.0",
            "_view_name": "HTMLView",
            "description": "",
            "description_tooltip": null,
            "layout": "IPY_MODEL_7a425ac093114081bf21f20ac6ad0bf9",
            "placeholder": "​",
            "style": "IPY_MODEL_1c8580e305b14abdadea1d30b2c68e85",
            "value": " 665/665 [00:00&lt;00:00, 69.7kB/s]"
          }
        },
        "d518d176d3984d949b38191a6bc7e30a": {
          "model_module": "@jupyter-widgets/base",
          "model_name": "LayoutModel",
          "model_module_version": "1.2.0",
          "state": {
            "_model_module": "@jupyter-widgets/base",
            "_model_module_version": "1.2.0",
            "_model_name": "LayoutModel",
            "_view_count": null,
            "_view_module": "@jupyter-widgets/base",
            "_view_module_version": "1.2.0",
            "_view_name": "LayoutView",
            "align_content": null,
            "align_items": null,
            "align_self": null,
            "border": null,
            "bottom": null,
            "display": null,
            "flex": null,
            "flex_flow": null,
            "grid_area": null,
            "grid_auto_columns": null,
            "grid_auto_flow": null,
            "grid_auto_rows": null,
            "grid_column": null,
            "grid_gap": null,
            "grid_row": null,
            "grid_template_areas": null,
            "grid_template_columns": null,
            "grid_template_rows": null,
            "height": null,
            "justify_content": null,
            "justify_items": null,
            "left": null,
            "margin": null,
            "max_height": null,
            "max_width": null,
            "min_height": null,
            "min_width": null,
            "object_fit": null,
            "object_position": null,
            "order": null,
            "overflow": null,
            "overflow_x": null,
            "overflow_y": null,
            "padding": null,
            "right": null,
            "top": null,
            "visibility": null,
            "width": null
          }
        },
        "348ca44cce1641b48b791c89d0342435": {
          "model_module": "@jupyter-widgets/base",
          "model_name": "LayoutModel",
          "model_module_version": "1.2.0",
          "state": {
            "_model_module": "@jupyter-widgets/base",
            "_model_module_version": "1.2.0",
            "_model_name": "LayoutModel",
            "_view_count": null,
            "_view_module": "@jupyter-widgets/base",
            "_view_module_version": "1.2.0",
            "_view_name": "LayoutView",
            "align_content": null,
            "align_items": null,
            "align_self": null,
            "border": null,
            "bottom": null,
            "display": null,
            "flex": null,
            "flex_flow": null,
            "grid_area": null,
            "grid_auto_columns": null,
            "grid_auto_flow": null,
            "grid_auto_rows": null,
            "grid_column": null,
            "grid_gap": null,
            "grid_row": null,
            "grid_template_areas": null,
            "grid_template_columns": null,
            "grid_template_rows": null,
            "height": null,
            "justify_content": null,
            "justify_items": null,
            "left": null,
            "margin": null,
            "max_height": null,
            "max_width": null,
            "min_height": null,
            "min_width": null,
            "object_fit": null,
            "object_position": null,
            "order": null,
            "overflow": null,
            "overflow_x": null,
            "overflow_y": null,
            "padding": null,
            "right": null,
            "top": null,
            "visibility": null,
            "width": null
          }
        },
        "5d999ffaca56408e8cd8de195c8790b0": {
          "model_module": "@jupyter-widgets/controls",
          "model_name": "DescriptionStyleModel",
          "model_module_version": "1.5.0",
          "state": {
            "_model_module": "@jupyter-widgets/controls",
            "_model_module_version": "1.5.0",
            "_model_name": "DescriptionStyleModel",
            "_view_count": null,
            "_view_module": "@jupyter-widgets/base",
            "_view_module_version": "1.2.0",
            "_view_name": "StyleView",
            "description_width": ""
          }
        },
        "778b16e8443a4dc6b009d640b27b9d83": {
          "model_module": "@jupyter-widgets/base",
          "model_name": "LayoutModel",
          "model_module_version": "1.2.0",
          "state": {
            "_model_module": "@jupyter-widgets/base",
            "_model_module_version": "1.2.0",
            "_model_name": "LayoutModel",
            "_view_count": null,
            "_view_module": "@jupyter-widgets/base",
            "_view_module_version": "1.2.0",
            "_view_name": "LayoutView",
            "align_content": null,
            "align_items": null,
            "align_self": null,
            "border": null,
            "bottom": null,
            "display": null,
            "flex": null,
            "flex_flow": null,
            "grid_area": null,
            "grid_auto_columns": null,
            "grid_auto_flow": null,
            "grid_auto_rows": null,
            "grid_column": null,
            "grid_gap": null,
            "grid_row": null,
            "grid_template_areas": null,
            "grid_template_columns": null,
            "grid_template_rows": null,
            "height": null,
            "justify_content": null,
            "justify_items": null,
            "left": null,
            "margin": null,
            "max_height": null,
            "max_width": null,
            "min_height": null,
            "min_width": null,
            "object_fit": null,
            "object_position": null,
            "order": null,
            "overflow": null,
            "overflow_x": null,
            "overflow_y": null,
            "padding": null,
            "right": null,
            "top": null,
            "visibility": null,
            "width": null
          }
        },
        "23e3619807df4765853eda33385fb02f": {
          "model_module": "@jupyter-widgets/controls",
          "model_name": "ProgressStyleModel",
          "model_module_version": "1.5.0",
          "state": {
            "_model_module": "@jupyter-widgets/controls",
            "_model_module_version": "1.5.0",
            "_model_name": "ProgressStyleModel",
            "_view_count": null,
            "_view_module": "@jupyter-widgets/base",
            "_view_module_version": "1.2.0",
            "_view_name": "StyleView",
            "bar_color": null,
            "description_width": ""
          }
        },
        "7a425ac093114081bf21f20ac6ad0bf9": {
          "model_module": "@jupyter-widgets/base",
          "model_name": "LayoutModel",
          "model_module_version": "1.2.0",
          "state": {
            "_model_module": "@jupyter-widgets/base",
            "_model_module_version": "1.2.0",
            "_model_name": "LayoutModel",
            "_view_count": null,
            "_view_module": "@jupyter-widgets/base",
            "_view_module_version": "1.2.0",
            "_view_name": "LayoutView",
            "align_content": null,
            "align_items": null,
            "align_self": null,
            "border": null,
            "bottom": null,
            "display": null,
            "flex": null,
            "flex_flow": null,
            "grid_area": null,
            "grid_auto_columns": null,
            "grid_auto_flow": null,
            "grid_auto_rows": null,
            "grid_column": null,
            "grid_gap": null,
            "grid_row": null,
            "grid_template_areas": null,
            "grid_template_columns": null,
            "grid_template_rows": null,
            "height": null,
            "justify_content": null,
            "justify_items": null,
            "left": null,
            "margin": null,
            "max_height": null,
            "max_width": null,
            "min_height": null,
            "min_width": null,
            "object_fit": null,
            "object_position": null,
            "order": null,
            "overflow": null,
            "overflow_x": null,
            "overflow_y": null,
            "padding": null,
            "right": null,
            "top": null,
            "visibility": null,
            "width": null
          }
        },
        "1c8580e305b14abdadea1d30b2c68e85": {
          "model_module": "@jupyter-widgets/controls",
          "model_name": "DescriptionStyleModel",
          "model_module_version": "1.5.0",
          "state": {
            "_model_module": "@jupyter-widgets/controls",
            "_model_module_version": "1.5.0",
            "_model_name": "DescriptionStyleModel",
            "_view_count": null,
            "_view_module": "@jupyter-widgets/base",
            "_view_module_version": "1.2.0",
            "_view_name": "StyleView",
            "description_width": ""
          }
        },
        "a04d176c0a66447b8c8fe906c1428984": {
          "model_module": "@jupyter-widgets/controls",
          "model_name": "HBoxModel",
          "model_module_version": "1.5.0",
          "state": {
            "_dom_classes": [],
            "_model_module": "@jupyter-widgets/controls",
            "_model_module_version": "1.5.0",
            "_model_name": "HBoxModel",
            "_view_count": null,
            "_view_module": "@jupyter-widgets/controls",
            "_view_module_version": "1.5.0",
            "_view_name": "HBoxView",
            "box_style": "",
            "children": [
              "IPY_MODEL_0efb45fcef5c4ddb8a5d97f9ca2d48a2",
              "IPY_MODEL_a2c0f13d5b024177ab8ae49b0c891c49",
              "IPY_MODEL_5295b15ee40e4aae959bf6531d3618b0"
            ],
            "layout": "IPY_MODEL_7f9ebc5e06f54e79a8cb0d5ea0144a31"
          }
        },
        "0efb45fcef5c4ddb8a5d97f9ca2d48a2": {
          "model_module": "@jupyter-widgets/controls",
          "model_name": "HTMLModel",
          "model_module_version": "1.5.0",
          "state": {
            "_dom_classes": [],
            "_model_module": "@jupyter-widgets/controls",
            "_model_module_version": "1.5.0",
            "_model_name": "HTMLModel",
            "_view_count": null,
            "_view_module": "@jupyter-widgets/controls",
            "_view_module_version": "1.5.0",
            "_view_name": "HTMLView",
            "description": "",
            "description_tooltip": null,
            "layout": "IPY_MODEL_ce94e26891f2477896007d518e3bb8de",
            "placeholder": "​",
            "style": "IPY_MODEL_4422d0e892db418598912c2cda175d73",
            "value": "model.safetensors: 100%"
          }
        },
        "a2c0f13d5b024177ab8ae49b0c891c49": {
          "model_module": "@jupyter-widgets/controls",
          "model_name": "FloatProgressModel",
          "model_module_version": "1.5.0",
          "state": {
            "_dom_classes": [],
            "_model_module": "@jupyter-widgets/controls",
            "_model_module_version": "1.5.0",
            "_model_name": "FloatProgressModel",
            "_view_count": null,
            "_view_module": "@jupyter-widgets/controls",
            "_view_module_version": "1.5.0",
            "_view_name": "ProgressView",
            "bar_style": "success",
            "description": "",
            "description_tooltip": null,
            "layout": "IPY_MODEL_89b3835104094809a8940721a07effd5",
            "max": 548105171,
            "min": 0,
            "orientation": "horizontal",
            "style": "IPY_MODEL_7e9d2434120c43129611c66579710280",
            "value": 548105171
          }
        },
        "5295b15ee40e4aae959bf6531d3618b0": {
          "model_module": "@jupyter-widgets/controls",
          "model_name": "HTMLModel",
          "model_module_version": "1.5.0",
          "state": {
            "_dom_classes": [],
            "_model_module": "@jupyter-widgets/controls",
            "_model_module_version": "1.5.0",
            "_model_name": "HTMLModel",
            "_view_count": null,
            "_view_module": "@jupyter-widgets/controls",
            "_view_module_version": "1.5.0",
            "_view_name": "HTMLView",
            "description": "",
            "description_tooltip": null,
            "layout": "IPY_MODEL_adb14d3ef48245bab68e324710847e55",
            "placeholder": "​",
            "style": "IPY_MODEL_07f3404400dd4288bb37c88c98b5c6d4",
            "value": " 548M/548M [00:02&lt;00:00, 262MB/s]"
          }
        },
        "7f9ebc5e06f54e79a8cb0d5ea0144a31": {
          "model_module": "@jupyter-widgets/base",
          "model_name": "LayoutModel",
          "model_module_version": "1.2.0",
          "state": {
            "_model_module": "@jupyter-widgets/base",
            "_model_module_version": "1.2.0",
            "_model_name": "LayoutModel",
            "_view_count": null,
            "_view_module": "@jupyter-widgets/base",
            "_view_module_version": "1.2.0",
            "_view_name": "LayoutView",
            "align_content": null,
            "align_items": null,
            "align_self": null,
            "border": null,
            "bottom": null,
            "display": null,
            "flex": null,
            "flex_flow": null,
            "grid_area": null,
            "grid_auto_columns": null,
            "grid_auto_flow": null,
            "grid_auto_rows": null,
            "grid_column": null,
            "grid_gap": null,
            "grid_row": null,
            "grid_template_areas": null,
            "grid_template_columns": null,
            "grid_template_rows": null,
            "height": null,
            "justify_content": null,
            "justify_items": null,
            "left": null,
            "margin": null,
            "max_height": null,
            "max_width": null,
            "min_height": null,
            "min_width": null,
            "object_fit": null,
            "object_position": null,
            "order": null,
            "overflow": null,
            "overflow_x": null,
            "overflow_y": null,
            "padding": null,
            "right": null,
            "top": null,
            "visibility": null,
            "width": null
          }
        },
        "ce94e26891f2477896007d518e3bb8de": {
          "model_module": "@jupyter-widgets/base",
          "model_name": "LayoutModel",
          "model_module_version": "1.2.0",
          "state": {
            "_model_module": "@jupyter-widgets/base",
            "_model_module_version": "1.2.0",
            "_model_name": "LayoutModel",
            "_view_count": null,
            "_view_module": "@jupyter-widgets/base",
            "_view_module_version": "1.2.0",
            "_view_name": "LayoutView",
            "align_content": null,
            "align_items": null,
            "align_self": null,
            "border": null,
            "bottom": null,
            "display": null,
            "flex": null,
            "flex_flow": null,
            "grid_area": null,
            "grid_auto_columns": null,
            "grid_auto_flow": null,
            "grid_auto_rows": null,
            "grid_column": null,
            "grid_gap": null,
            "grid_row": null,
            "grid_template_areas": null,
            "grid_template_columns": null,
            "grid_template_rows": null,
            "height": null,
            "justify_content": null,
            "justify_items": null,
            "left": null,
            "margin": null,
            "max_height": null,
            "max_width": null,
            "min_height": null,
            "min_width": null,
            "object_fit": null,
            "object_position": null,
            "order": null,
            "overflow": null,
            "overflow_x": null,
            "overflow_y": null,
            "padding": null,
            "right": null,
            "top": null,
            "visibility": null,
            "width": null
          }
        },
        "4422d0e892db418598912c2cda175d73": {
          "model_module": "@jupyter-widgets/controls",
          "model_name": "DescriptionStyleModel",
          "model_module_version": "1.5.0",
          "state": {
            "_model_module": "@jupyter-widgets/controls",
            "_model_module_version": "1.5.0",
            "_model_name": "DescriptionStyleModel",
            "_view_count": null,
            "_view_module": "@jupyter-widgets/base",
            "_view_module_version": "1.2.0",
            "_view_name": "StyleView",
            "description_width": ""
          }
        },
        "89b3835104094809a8940721a07effd5": {
          "model_module": "@jupyter-widgets/base",
          "model_name": "LayoutModel",
          "model_module_version": "1.2.0",
          "state": {
            "_model_module": "@jupyter-widgets/base",
            "_model_module_version": "1.2.0",
            "_model_name": "LayoutModel",
            "_view_count": null,
            "_view_module": "@jupyter-widgets/base",
            "_view_module_version": "1.2.0",
            "_view_name": "LayoutView",
            "align_content": null,
            "align_items": null,
            "align_self": null,
            "border": null,
            "bottom": null,
            "display": null,
            "flex": null,
            "flex_flow": null,
            "grid_area": null,
            "grid_auto_columns": null,
            "grid_auto_flow": null,
            "grid_auto_rows": null,
            "grid_column": null,
            "grid_gap": null,
            "grid_row": null,
            "grid_template_areas": null,
            "grid_template_columns": null,
            "grid_template_rows": null,
            "height": null,
            "justify_content": null,
            "justify_items": null,
            "left": null,
            "margin": null,
            "max_height": null,
            "max_width": null,
            "min_height": null,
            "min_width": null,
            "object_fit": null,
            "object_position": null,
            "order": null,
            "overflow": null,
            "overflow_x": null,
            "overflow_y": null,
            "padding": null,
            "right": null,
            "top": null,
            "visibility": null,
            "width": null
          }
        },
        "7e9d2434120c43129611c66579710280": {
          "model_module": "@jupyter-widgets/controls",
          "model_name": "ProgressStyleModel",
          "model_module_version": "1.5.0",
          "state": {
            "_model_module": "@jupyter-widgets/controls",
            "_model_module_version": "1.5.0",
            "_model_name": "ProgressStyleModel",
            "_view_count": null,
            "_view_module": "@jupyter-widgets/base",
            "_view_module_version": "1.2.0",
            "_view_name": "StyleView",
            "bar_color": null,
            "description_width": ""
          }
        },
        "adb14d3ef48245bab68e324710847e55": {
          "model_module": "@jupyter-widgets/base",
          "model_name": "LayoutModel",
          "model_module_version": "1.2.0",
          "state": {
            "_model_module": "@jupyter-widgets/base",
            "_model_module_version": "1.2.0",
            "_model_name": "LayoutModel",
            "_view_count": null,
            "_view_module": "@jupyter-widgets/base",
            "_view_module_version": "1.2.0",
            "_view_name": "LayoutView",
            "align_content": null,
            "align_items": null,
            "align_self": null,
            "border": null,
            "bottom": null,
            "display": null,
            "flex": null,
            "flex_flow": null,
            "grid_area": null,
            "grid_auto_columns": null,
            "grid_auto_flow": null,
            "grid_auto_rows": null,
            "grid_column": null,
            "grid_gap": null,
            "grid_row": null,
            "grid_template_areas": null,
            "grid_template_columns": null,
            "grid_template_rows": null,
            "height": null,
            "justify_content": null,
            "justify_items": null,
            "left": null,
            "margin": null,
            "max_height": null,
            "max_width": null,
            "min_height": null,
            "min_width": null,
            "object_fit": null,
            "object_position": null,
            "order": null,
            "overflow": null,
            "overflow_x": null,
            "overflow_y": null,
            "padding": null,
            "right": null,
            "top": null,
            "visibility": null,
            "width": null
          }
        },
        "07f3404400dd4288bb37c88c98b5c6d4": {
          "model_module": "@jupyter-widgets/controls",
          "model_name": "DescriptionStyleModel",
          "model_module_version": "1.5.0",
          "state": {
            "_model_module": "@jupyter-widgets/controls",
            "_model_module_version": "1.5.0",
            "_model_name": "DescriptionStyleModel",
            "_view_count": null,
            "_view_module": "@jupyter-widgets/base",
            "_view_module_version": "1.2.0",
            "_view_name": "StyleView",
            "description_width": ""
          }
        },
        "2650964884c54b7e8454d459273abfc4": {
          "model_module": "@jupyter-widgets/controls",
          "model_name": "HBoxModel",
          "model_module_version": "1.5.0",
          "state": {
            "_dom_classes": [],
            "_model_module": "@jupyter-widgets/controls",
            "_model_module_version": "1.5.0",
            "_model_name": "HBoxModel",
            "_view_count": null,
            "_view_module": "@jupyter-widgets/controls",
            "_view_module_version": "1.5.0",
            "_view_name": "HBoxView",
            "box_style": "",
            "children": [
              "IPY_MODEL_664c295e2877444ca628e42a219a09be",
              "IPY_MODEL_68c60f990683455484e81fa701960465",
              "IPY_MODEL_7550df7e0c794cb9ba9c28efa8e52f06"
            ],
            "layout": "IPY_MODEL_9470b32f1a1f456396a74673c9e4d4ce"
          }
        },
        "664c295e2877444ca628e42a219a09be": {
          "model_module": "@jupyter-widgets/controls",
          "model_name": "HTMLModel",
          "model_module_version": "1.5.0",
          "state": {
            "_dom_classes": [],
            "_model_module": "@jupyter-widgets/controls",
            "_model_module_version": "1.5.0",
            "_model_name": "HTMLModel",
            "_view_count": null,
            "_view_module": "@jupyter-widgets/controls",
            "_view_module_version": "1.5.0",
            "_view_name": "HTMLView",
            "description": "",
            "description_tooltip": null,
            "layout": "IPY_MODEL_93dcfa70407944d2ab2e68cedbda95e1",
            "placeholder": "​",
            "style": "IPY_MODEL_ecf7a3c9f9c54c0fb5113a0c3ac31b6e",
            "value": "generation_config.json: 100%"
          }
        },
        "68c60f990683455484e81fa701960465": {
          "model_module": "@jupyter-widgets/controls",
          "model_name": "FloatProgressModel",
          "model_module_version": "1.5.0",
          "state": {
            "_dom_classes": [],
            "_model_module": "@jupyter-widgets/controls",
            "_model_module_version": "1.5.0",
            "_model_name": "FloatProgressModel",
            "_view_count": null,
            "_view_module": "@jupyter-widgets/controls",
            "_view_module_version": "1.5.0",
            "_view_name": "ProgressView",
            "bar_style": "success",
            "description": "",
            "description_tooltip": null,
            "layout": "IPY_MODEL_ecb3d5645f9740baa822c48beb177677",
            "max": 124,
            "min": 0,
            "orientation": "horizontal",
            "style": "IPY_MODEL_e84fb2f6dc25477abbd56328b618c148",
            "value": 124
          }
        },
        "7550df7e0c794cb9ba9c28efa8e52f06": {
          "model_module": "@jupyter-widgets/controls",
          "model_name": "HTMLModel",
          "model_module_version": "1.5.0",
          "state": {
            "_dom_classes": [],
            "_model_module": "@jupyter-widgets/controls",
            "_model_module_version": "1.5.0",
            "_model_name": "HTMLModel",
            "_view_count": null,
            "_view_module": "@jupyter-widgets/controls",
            "_view_module_version": "1.5.0",
            "_view_name": "HTMLView",
            "description": "",
            "description_tooltip": null,
            "layout": "IPY_MODEL_39cc72313bde4d5d8013bdc2af2cd723",
            "placeholder": "​",
            "style": "IPY_MODEL_dbf2535f46b74706b6c33e02f764f739",
            "value": " 124/124 [00:00&lt;00:00, 10.5kB/s]"
          }
        },
        "9470b32f1a1f456396a74673c9e4d4ce": {
          "model_module": "@jupyter-widgets/base",
          "model_name": "LayoutModel",
          "model_module_version": "1.2.0",
          "state": {
            "_model_module": "@jupyter-widgets/base",
            "_model_module_version": "1.2.0",
            "_model_name": "LayoutModel",
            "_view_count": null,
            "_view_module": "@jupyter-widgets/base",
            "_view_module_version": "1.2.0",
            "_view_name": "LayoutView",
            "align_content": null,
            "align_items": null,
            "align_self": null,
            "border": null,
            "bottom": null,
            "display": null,
            "flex": null,
            "flex_flow": null,
            "grid_area": null,
            "grid_auto_columns": null,
            "grid_auto_flow": null,
            "grid_auto_rows": null,
            "grid_column": null,
            "grid_gap": null,
            "grid_row": null,
            "grid_template_areas": null,
            "grid_template_columns": null,
            "grid_template_rows": null,
            "height": null,
            "justify_content": null,
            "justify_items": null,
            "left": null,
            "margin": null,
            "max_height": null,
            "max_width": null,
            "min_height": null,
            "min_width": null,
            "object_fit": null,
            "object_position": null,
            "order": null,
            "overflow": null,
            "overflow_x": null,
            "overflow_y": null,
            "padding": null,
            "right": null,
            "top": null,
            "visibility": null,
            "width": null
          }
        },
        "93dcfa70407944d2ab2e68cedbda95e1": {
          "model_module": "@jupyter-widgets/base",
          "model_name": "LayoutModel",
          "model_module_version": "1.2.0",
          "state": {
            "_model_module": "@jupyter-widgets/base",
            "_model_module_version": "1.2.0",
            "_model_name": "LayoutModel",
            "_view_count": null,
            "_view_module": "@jupyter-widgets/base",
            "_view_module_version": "1.2.0",
            "_view_name": "LayoutView",
            "align_content": null,
            "align_items": null,
            "align_self": null,
            "border": null,
            "bottom": null,
            "display": null,
            "flex": null,
            "flex_flow": null,
            "grid_area": null,
            "grid_auto_columns": null,
            "grid_auto_flow": null,
            "grid_auto_rows": null,
            "grid_column": null,
            "grid_gap": null,
            "grid_row": null,
            "grid_template_areas": null,
            "grid_template_columns": null,
            "grid_template_rows": null,
            "height": null,
            "justify_content": null,
            "justify_items": null,
            "left": null,
            "margin": null,
            "max_height": null,
            "max_width": null,
            "min_height": null,
            "min_width": null,
            "object_fit": null,
            "object_position": null,
            "order": null,
            "overflow": null,
            "overflow_x": null,
            "overflow_y": null,
            "padding": null,
            "right": null,
            "top": null,
            "visibility": null,
            "width": null
          }
        },
        "ecf7a3c9f9c54c0fb5113a0c3ac31b6e": {
          "model_module": "@jupyter-widgets/controls",
          "model_name": "DescriptionStyleModel",
          "model_module_version": "1.5.0",
          "state": {
            "_model_module": "@jupyter-widgets/controls",
            "_model_module_version": "1.5.0",
            "_model_name": "DescriptionStyleModel",
            "_view_count": null,
            "_view_module": "@jupyter-widgets/base",
            "_view_module_version": "1.2.0",
            "_view_name": "StyleView",
            "description_width": ""
          }
        },
        "ecb3d5645f9740baa822c48beb177677": {
          "model_module": "@jupyter-widgets/base",
          "model_name": "LayoutModel",
          "model_module_version": "1.2.0",
          "state": {
            "_model_module": "@jupyter-widgets/base",
            "_model_module_version": "1.2.0",
            "_model_name": "LayoutModel",
            "_view_count": null,
            "_view_module": "@jupyter-widgets/base",
            "_view_module_version": "1.2.0",
            "_view_name": "LayoutView",
            "align_content": null,
            "align_items": null,
            "align_self": null,
            "border": null,
            "bottom": null,
            "display": null,
            "flex": null,
            "flex_flow": null,
            "grid_area": null,
            "grid_auto_columns": null,
            "grid_auto_flow": null,
            "grid_auto_rows": null,
            "grid_column": null,
            "grid_gap": null,
            "grid_row": null,
            "grid_template_areas": null,
            "grid_template_columns": null,
            "grid_template_rows": null,
            "height": null,
            "justify_content": null,
            "justify_items": null,
            "left": null,
            "margin": null,
            "max_height": null,
            "max_width": null,
            "min_height": null,
            "min_width": null,
            "object_fit": null,
            "object_position": null,
            "order": null,
            "overflow": null,
            "overflow_x": null,
            "overflow_y": null,
            "padding": null,
            "right": null,
            "top": null,
            "visibility": null,
            "width": null
          }
        },
        "e84fb2f6dc25477abbd56328b618c148": {
          "model_module": "@jupyter-widgets/controls",
          "model_name": "ProgressStyleModel",
          "model_module_version": "1.5.0",
          "state": {
            "_model_module": "@jupyter-widgets/controls",
            "_model_module_version": "1.5.0",
            "_model_name": "ProgressStyleModel",
            "_view_count": null,
            "_view_module": "@jupyter-widgets/base",
            "_view_module_version": "1.2.0",
            "_view_name": "StyleView",
            "bar_color": null,
            "description_width": ""
          }
        },
        "39cc72313bde4d5d8013bdc2af2cd723": {
          "model_module": "@jupyter-widgets/base",
          "model_name": "LayoutModel",
          "model_module_version": "1.2.0",
          "state": {
            "_model_module": "@jupyter-widgets/base",
            "_model_module_version": "1.2.0",
            "_model_name": "LayoutModel",
            "_view_count": null,
            "_view_module": "@jupyter-widgets/base",
            "_view_module_version": "1.2.0",
            "_view_name": "LayoutView",
            "align_content": null,
            "align_items": null,
            "align_self": null,
            "border": null,
            "bottom": null,
            "display": null,
            "flex": null,
            "flex_flow": null,
            "grid_area": null,
            "grid_auto_columns": null,
            "grid_auto_flow": null,
            "grid_auto_rows": null,
            "grid_column": null,
            "grid_gap": null,
            "grid_row": null,
            "grid_template_areas": null,
            "grid_template_columns": null,
            "grid_template_rows": null,
            "height": null,
            "justify_content": null,
            "justify_items": null,
            "left": null,
            "margin": null,
            "max_height": null,
            "max_width": null,
            "min_height": null,
            "min_width": null,
            "object_fit": null,
            "object_position": null,
            "order": null,
            "overflow": null,
            "overflow_x": null,
            "overflow_y": null,
            "padding": null,
            "right": null,
            "top": null,
            "visibility": null,
            "width": null
          }
        },
        "dbf2535f46b74706b6c33e02f764f739": {
          "model_module": "@jupyter-widgets/controls",
          "model_name": "DescriptionStyleModel",
          "model_module_version": "1.5.0",
          "state": {
            "_model_module": "@jupyter-widgets/controls",
            "_model_module_version": "1.5.0",
            "_model_name": "DescriptionStyleModel",
            "_view_count": null,
            "_view_module": "@jupyter-widgets/base",
            "_view_module_version": "1.2.0",
            "_view_name": "StyleView",
            "description_width": ""
          }
        }
      }
    }
  },
  "nbformat": 4,
  "nbformat_minor": 0
}